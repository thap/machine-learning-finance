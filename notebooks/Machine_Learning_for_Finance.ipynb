{
  "nbformat": 4,
  "nbformat_minor": 0,
  "metadata": {
    "colab": {
      "name": "Machine Learning for Finance.ipynb",
      "provenance": [],
      "include_colab_link": true
    },
    "kernelspec": {
      "name": "python3",
      "display_name": "Python 3"
    },
    "accelerator": "GPU"
  },
  "cells": [
    {
      "cell_type": "markdown",
      "metadata": {
        "id": "view-in-github",
        "colab_type": "text"
      },
      "source": [
        "<a href=\"https://colab.research.google.com/github/thap/machine-learning-finance/blob/master/notebooks/Machine_Learning_for_Finance.ipynb\" target=\"_parent\"><img src=\"https://colab.research.google.com/assets/colab-badge.svg\" alt=\"Open In Colab\"/></a>"
      ]
    },
    {
      "cell_type": "markdown",
      "metadata": {
        "id": "UlZxm9VukAHK",
        "colab_type": "text"
      },
      "source": [
        "# Machine Learning for Finance"
      ]
    },
    {
      "cell_type": "markdown",
      "metadata": {
        "id": "wp7TMfOGkhxc",
        "colab_type": "text"
      },
      "source": [
        "## Mount Data from Drive"
      ]
    },
    {
      "cell_type": "code",
      "metadata": {
        "id": "4L0h7Wj9kgsm",
        "colab_type": "code",
        "outputId": "86912546-058f-4c09-9ccb-687ce7228070",
        "colab": {
          "base_uri": "https://localhost:8080/",
          "height": 55
        }
      },
      "source": [
        "from google.colab import drive\n",
        "drive.mount('/content/drive')"
      ],
      "execution_count": 30,
      "outputs": [
        {
          "output_type": "stream",
          "text": [
            "Drive already mounted at /content/drive; to attempt to forcibly remount, call drive.mount(\"/content/drive\", force_remount=True).\n"
          ],
          "name": "stdout"
        }
      ]
    },
    {
      "cell_type": "code",
      "metadata": {
        "id": "sjiAnn30jt-4",
        "colab_type": "code",
        "outputId": "c491ed3a-6771-43f9-dcef-55dc544013da",
        "colab": {
          "base_uri": "https://localhost:8080/",
          "height": 55
        }
      },
      "source": [
        "import os\n",
        "os.chdir('/content/drive/My Drive/data/machine_learning_finance/')\n",
        "print(os.listdir())"
      ],
      "execution_count": 31,
      "outputs": [
        {
          "output_type": "stream",
          "text": [
            "['AAPL.csv', 'AMD.csv', 'QQQ.csv', 'SPY.csv', 'LNG.csv', 'SMLV.csv', 'ta-lib-0.4.0-src.tar.gz']\n"
          ],
          "name": "stdout"
        }
      ]
    },
    {
      "cell_type": "code",
      "metadata": {
        "id": "3c8LCpqv4-B7",
        "colab_type": "code",
        "colab": {}
      },
      "source": [
        "!cp ta-lib-0.4.0-src.tar.gz /content/"
      ],
      "execution_count": 0,
      "outputs": []
    },
    {
      "cell_type": "code",
      "metadata": {
        "id": "sP8LHlqP5ESm",
        "colab_type": "code",
        "colab": {}
      },
      "source": [
        "os.chdir('/content')"
      ],
      "execution_count": 0,
      "outputs": []
    },
    {
      "cell_type": "code",
      "metadata": {
        "id": "le3eZc-r5asf",
        "colab_type": "code",
        "outputId": "7e41d068-1baa-4a8d-db68-f8e4dfbc8469",
        "colab": {
          "base_uri": "https://localhost:8080/",
          "height": 35
        }
      },
      "source": [
        "!ls"
      ],
      "execution_count": 5,
      "outputs": [
        {
          "output_type": "stream",
          "text": [
            "drive  sample_data  ta-lib-0.4.0-src.tar.gz\n"
          ],
          "name": "stdout"
        }
      ]
    },
    {
      "cell_type": "code",
      "metadata": {
        "id": "pThwoPwf5qZs",
        "colab_type": "code",
        "colab": {}
      },
      "source": [
        "!tar xvzf ta-lib-0.4.0-src.tar.gz"
      ],
      "execution_count": 0,
      "outputs": []
    },
    {
      "cell_type": "code",
      "metadata": {
        "id": "9Imgb97l5zyP",
        "colab_type": "code",
        "outputId": "f86e233b-1907-4d0a-c933-a94e43f229db",
        "colab": {
          "base_uri": "https://localhost:8080/",
          "height": 35
        }
      },
      "source": [
        "!ls"
      ],
      "execution_count": 7,
      "outputs": [
        {
          "output_type": "stream",
          "text": [
            "drive  sample_data  ta-lib  ta-lib-0.4.0-src.tar.gz\n"
          ],
          "name": "stdout"
        }
      ]
    },
    {
      "cell_type": "code",
      "metadata": {
        "id": "-VT2pztQ503X",
        "colab_type": "code",
        "colab": {}
      },
      "source": [
        "os.chdir('ta-lib')"
      ],
      "execution_count": 0,
      "outputs": []
    },
    {
      "cell_type": "code",
      "metadata": {
        "id": "YLrg28-x55CE",
        "colab_type": "code",
        "colab": {}
      },
      "source": [
        "!./configure --prefix=/usr"
      ],
      "execution_count": 0,
      "outputs": []
    },
    {
      "cell_type": "code",
      "metadata": {
        "id": "SxIgScMM5_Me",
        "colab_type": "code",
        "colab": {}
      },
      "source": [
        "!make"
      ],
      "execution_count": 0,
      "outputs": []
    },
    {
      "cell_type": "code",
      "metadata": {
        "id": "uFg28B3K6CZU",
        "colab_type": "code",
        "colab": {}
      },
      "source": [
        "!make install"
      ],
      "execution_count": 0,
      "outputs": []
    },
    {
      "cell_type": "code",
      "metadata": {
        "id": "_R2utsYE6Kfb",
        "colab_type": "code",
        "outputId": "7f9f43b0-deb0-4dc0-f3e6-ae25f6dfb396",
        "colab": {
          "base_uri": "https://localhost:8080/",
          "height": 35
        }
      },
      "source": [
        "os.chdir('..')\n",
        "!ls"
      ],
      "execution_count": 12,
      "outputs": [
        {
          "output_type": "stream",
          "text": [
            "drive  sample_data  ta-lib  ta-lib-0.4.0-src.tar.gz\n"
          ],
          "name": "stdout"
        }
      ]
    },
    {
      "cell_type": "code",
      "metadata": {
        "id": "q9UJCLxj6PCu",
        "colab_type": "code",
        "colab": {}
      },
      "source": [
        "!pip install TA-Lib"
      ],
      "execution_count": 0,
      "outputs": []
    },
    {
      "cell_type": "code",
      "metadata": {
        "id": "WtmguF3Q6vL2",
        "colab_type": "code",
        "outputId": "4464c52f-f935-4dde-aec7-d338613fc40c",
        "colab": {
          "base_uri": "https://localhost:8080/",
          "height": 55
        }
      },
      "source": [
        "os.chdir('/content/drive/My Drive/data/machine_learning_finance/')\n",
        "print(os.listdir())"
      ],
      "execution_count": 14,
      "outputs": [
        {
          "output_type": "stream",
          "text": [
            "['AAPL.csv', 'AMD.csv', 'QQQ.csv', 'SPY.csv', 'LNG.csv', 'SMLV.csv', 'ta-lib-0.4.0-src.tar.gz']\n"
          ],
          "name": "stdout"
        }
      ]
    },
    {
      "cell_type": "markdown",
      "metadata": {
        "id": "D8MqD12FldUl",
        "colab_type": "text"
      },
      "source": [
        "## Import Data"
      ]
    },
    {
      "cell_type": "code",
      "metadata": {
        "id": "DYqx-_BvlRrU",
        "colab_type": "code",
        "colab": {}
      },
      "source": [
        "import pandas as pd"
      ],
      "execution_count": 0,
      "outputs": []
    },
    {
      "cell_type": "code",
      "metadata": {
        "id": "j8pRyLwSlqgX",
        "colab_type": "code",
        "colab": {}
      },
      "source": [
        "lng = pd.read_csv('LNG.csv', index_col='Date', parse_dates=True)"
      ],
      "execution_count": 0,
      "outputs": []
    },
    {
      "cell_type": "code",
      "metadata": {
        "id": "6TzvfyA3m2ul",
        "colab_type": "code",
        "outputId": "067a553b-a4d7-43d4-86fe-88719a19f9a2",
        "colab": {
          "base_uri": "https://localhost:8080/",
          "height": 35
        }
      },
      "source": [
        "lng = lng['2016-04-15':'2018-04-10']\n",
        "lng.shape"
      ],
      "execution_count": 17,
      "outputs": [
        {
          "output_type": "execute_result",
          "data": {
            "text/plain": [
              "(500, 2)"
            ]
          },
          "metadata": {
            "tags": []
          },
          "execution_count": 17
        }
      ]
    },
    {
      "cell_type": "code",
      "metadata": {
        "id": "qk9Mquv1pFCl",
        "colab_type": "code",
        "outputId": "2bf41615-7808-4f54-8350-99a846f95483",
        "colab": {
          "base_uri": "https://localhost:8080/",
          "height": 228
        }
      },
      "source": [
        "lng.head()"
      ],
      "execution_count": 18,
      "outputs": [
        {
          "output_type": "execute_result",
          "data": {
            "text/html": [
              "<div>\n",
              "<style scoped>\n",
              "    .dataframe tbody tr th:only-of-type {\n",
              "        vertical-align: middle;\n",
              "    }\n",
              "\n",
              "    .dataframe tbody tr th {\n",
              "        vertical-align: top;\n",
              "    }\n",
              "\n",
              "    .dataframe thead th {\n",
              "        text-align: right;\n",
              "    }\n",
              "</style>\n",
              "<table border=\"1\" class=\"dataframe\">\n",
              "  <thead>\n",
              "    <tr style=\"text-align: right;\">\n",
              "      <th></th>\n",
              "      <th>Adj_Close</th>\n",
              "      <th>Adj_Volume</th>\n",
              "    </tr>\n",
              "    <tr>\n",
              "      <th>Date</th>\n",
              "      <th></th>\n",
              "      <th></th>\n",
              "    </tr>\n",
              "  </thead>\n",
              "  <tbody>\n",
              "    <tr>\n",
              "      <th>2016-04-15</th>\n",
              "      <td>37.13</td>\n",
              "      <td>4293775.0</td>\n",
              "    </tr>\n",
              "    <tr>\n",
              "      <th>2016-04-18</th>\n",
              "      <td>36.90</td>\n",
              "      <td>3445852.0</td>\n",
              "    </tr>\n",
              "    <tr>\n",
              "      <th>2016-04-19</th>\n",
              "      <td>37.12</td>\n",
              "      <td>3748050.0</td>\n",
              "    </tr>\n",
              "    <tr>\n",
              "      <th>2016-04-20</th>\n",
              "      <td>37.77</td>\n",
              "      <td>2470384.0</td>\n",
              "    </tr>\n",
              "    <tr>\n",
              "      <th>2016-04-21</th>\n",
              "      <td>37.21</td>\n",
              "      <td>2043988.0</td>\n",
              "    </tr>\n",
              "  </tbody>\n",
              "</table>\n",
              "</div>"
            ],
            "text/plain": [
              "            Adj_Close  Adj_Volume\n",
              "Date                             \n",
              "2016-04-15      37.13   4293775.0\n",
              "2016-04-18      36.90   3445852.0\n",
              "2016-04-19      37.12   3748050.0\n",
              "2016-04-20      37.77   2470384.0\n",
              "2016-04-21      37.21   2043988.0"
            ]
          },
          "metadata": {
            "tags": []
          },
          "execution_count": 18
        }
      ]
    },
    {
      "cell_type": "code",
      "metadata": {
        "id": "JuqufD8BlsZg",
        "colab_type": "code",
        "colab": {}
      },
      "source": [
        "spy = pd.read_csv('SPY.csv', index_col='Date', parse_dates=True)"
      ],
      "execution_count": 0,
      "outputs": []
    },
    {
      "cell_type": "code",
      "metadata": {
        "id": "HB-34VfPlwZx",
        "colab_type": "code",
        "outputId": "7234d0ea-2050-4d27-e397-a07f788181b9",
        "colab": {
          "base_uri": "https://localhost:8080/",
          "height": 35
        }
      },
      "source": [
        "spy = spy['2016-04-15':'2018-04-10']\n",
        "spy.shape"
      ],
      "execution_count": 20,
      "outputs": [
        {
          "output_type": "execute_result",
          "data": {
            "text/plain": [
              "(500, 2)"
            ]
          },
          "metadata": {
            "tags": []
          },
          "execution_count": 20
        }
      ]
    },
    {
      "cell_type": "code",
      "metadata": {
        "id": "mWK_scudpDkx",
        "colab_type": "code",
        "outputId": "376f5271-f655-4a08-a4e7-52586001ba5c",
        "colab": {
          "base_uri": "https://localhost:8080/",
          "height": 228
        }
      },
      "source": [
        "spy.head()"
      ],
      "execution_count": 21,
      "outputs": [
        {
          "output_type": "execute_result",
          "data": {
            "text/html": [
              "<div>\n",
              "<style scoped>\n",
              "    .dataframe tbody tr th:only-of-type {\n",
              "        vertical-align: middle;\n",
              "    }\n",
              "\n",
              "    .dataframe tbody tr th {\n",
              "        vertical-align: top;\n",
              "    }\n",
              "\n",
              "    .dataframe thead th {\n",
              "        text-align: right;\n",
              "    }\n",
              "</style>\n",
              "<table border=\"1\" class=\"dataframe\">\n",
              "  <thead>\n",
              "    <tr style=\"text-align: right;\">\n",
              "      <th></th>\n",
              "      <th>Adj_Close</th>\n",
              "      <th>Adj_Volume</th>\n",
              "    </tr>\n",
              "    <tr>\n",
              "      <th>Date</th>\n",
              "      <th></th>\n",
              "      <th></th>\n",
              "    </tr>\n",
              "  </thead>\n",
              "  <tbody>\n",
              "    <tr>\n",
              "      <th>2016-04-15</th>\n",
              "      <td>199.760673</td>\n",
              "      <td>75761600.0</td>\n",
              "    </tr>\n",
              "    <tr>\n",
              "      <th>2016-04-18</th>\n",
              "      <td>201.164330</td>\n",
              "      <td>75277700.0</td>\n",
              "    </tr>\n",
              "    <tr>\n",
              "      <th>2016-04-19</th>\n",
              "      <td>201.798846</td>\n",
              "      <td>88316100.0</td>\n",
              "    </tr>\n",
              "    <tr>\n",
              "      <th>2016-04-20</th>\n",
              "      <td>201.991139</td>\n",
              "      <td>81100300.0</td>\n",
              "    </tr>\n",
              "    <tr>\n",
              "      <th>2016-04-21</th>\n",
              "      <td>200.904747</td>\n",
              "      <td>85695000.0</td>\n",
              "    </tr>\n",
              "  </tbody>\n",
              "</table>\n",
              "</div>"
            ],
            "text/plain": [
              "             Adj_Close  Adj_Volume\n",
              "Date                              \n",
              "2016-04-15  199.760673  75761600.0\n",
              "2016-04-18  201.164330  75277700.0\n",
              "2016-04-19  201.798846  88316100.0\n",
              "2016-04-20  201.991139  81100300.0\n",
              "2016-04-21  200.904747  85695000.0"
            ]
          },
          "metadata": {
            "tags": []
          },
          "execution_count": 21
        }
      ]
    },
    {
      "cell_type": "markdown",
      "metadata": {
        "id": "gsvDx3qmoLMo",
        "colab_type": "text"
      },
      "source": [
        "## EDA"
      ]
    },
    {
      "cell_type": "code",
      "metadata": {
        "id": "i2GlSkVtoTGu",
        "colab_type": "code",
        "colab": {}
      },
      "source": [
        "import matplotlib.pyplot as plt\n",
        "%matplotlib inline"
      ],
      "execution_count": 0,
      "outputs": []
    },
    {
      "cell_type": "code",
      "metadata": {
        "id": "RX_OtEIboCIL",
        "colab_type": "code",
        "outputId": "2030d307-615d-4113-cb4e-39321efb7a5f",
        "colab": {
          "base_uri": "https://localhost:8080/",
          "height": 281
        }
      },
      "source": [
        "plt.figure()\n",
        "spy['Adj_Close'].plot(label='SPY', legend=True)\n",
        "lng['Adj_Close'].plot(label='LNG', legend=True, secondary_y=True)\n",
        "plt.show()"
      ],
      "execution_count": 23,
      "outputs": [
        {
          "output_type": "display_data",
          "data": {
            "image/png": "[encoded data removed]",
            "text/plain": [
              "<Figure size 432x288 with 2 Axes>"
            ]
          },
          "metadata": {
            "tags": []
          }
        }
      ]
    },
    {
      "cell_type": "code",
      "metadata": {
        "id": "v7PFlUBGoqxo",
        "colab_type": "code",
        "outputId": "674996ba-9ba1-4b90-b4ad-75d6678904ab",
        "colab": {
          "base_uri": "https://localhost:8080/",
          "height": 283
        }
      },
      "source": [
        "plt.figure()\n",
        "lng['Adj_Close'].pct_change().plot.hist(bins=50)\n",
        "plt.xlabel('Adjusted close 1-day percent change')\n",
        "plt.show()"
      ],
      "execution_count": 24,
      "outputs": [
        {
          "output_type": "display_data",
          "data": {
            "image/png": "[encoded data removed]",
            "text/plain": [
              "<Figure size 432x288 with 1 Axes>"
            ]
          },
          "metadata": {
            "tags": []
          }
        }
      ]
    },
    {
      "cell_type": "markdown",
      "metadata": {
        "id": "3C-irqyLrf1J",
        "colab_type": "text"
      },
      "source": [
        "## Correlations"
      ]
    },
    {
      "cell_type": "code",
      "metadata": {
        "id": "jkJM0pVmpqCr",
        "colab_type": "code",
        "colab": {}
      },
      "source": [
        "lng['5d_future_close'] = lng['Adj_Close'].shift(-5)\n",
        "lng['5d_close_future_pct'] = lng['5d_future_close'].pct_change(5)\n",
        "lng['5d_close_pct'] = lng['Adj_Close'].pct_change(5)"
      ],
      "execution_count": 0,
      "outputs": []
    },
    {
      "cell_type": "code",
      "metadata": {
        "id": "5qKL9mUusF4H",
        "colab_type": "code",
        "outputId": "0ae4bd18-6a0f-4723-89aa-788008a0b34d",
        "colab": {
          "base_uri": "https://localhost:8080/",
          "height": 69
        }
      },
      "source": [
        "corr = lng[['5d_close_pct', '5d_close_future_pct']].corr()\n",
        "print(corr)"
      ],
      "execution_count": 26,
      "outputs": [
        {
          "output_type": "stream",
          "text": [
            "                     5d_close_pct  5d_close_future_pct\n",
            "5d_close_pct             1.000000            -0.164861\n",
            "5d_close_future_pct     -0.164861             1.000000\n"
          ],
          "name": "stdout"
        }
      ]
    },
    {
      "cell_type": "code",
      "metadata": {
        "id": "yMmzxV96sNl_",
        "colab_type": "code",
        "outputId": "97a5080b-0948-4b69-cb48-a42f103f6e38",
        "colab": {
          "base_uri": "https://localhost:8080/",
          "height": 269
        }
      },
      "source": [
        "plt.scatter('5d_close_pct', '5d_close_future_pct', data=lng)\n",
        "plt.show()"
      ],
      "execution_count": 27,
      "outputs": [
        {
          "output_type": "display_data",
          "data": {
            "image/png": "[encoded data removed]",
            "text/plain": [
              "<Figure size 432x288 with 1 Axes>"
            ]
          },
          "metadata": {
            "tags": []
          }
        }
      ]
    },
    {
      "cell_type": "markdown",
      "metadata": {
        "id": "CV24mIGCh2Ne",
        "colab_type": "text"
      },
      "source": [
        "## Moving Average and RSI Features"
      ]
    },
    {
      "cell_type": "code",
      "metadata": {
        "id": "9OngH-wMvdbT",
        "colab_type": "code",
        "colab": {}
      },
      "source": [
        "import talib"
      ],
      "execution_count": 0,
      "outputs": []
    },
    {
      "cell_type": "code",
      "metadata": {
        "id": "lscbLt2LsXoI",
        "colab_type": "code",
        "outputId": "17baf2e9-ef04-47ab-d4a3-0b1d07c9ebe9",
        "colab": {
          "base_uri": "https://localhost:8080/",
          "height": 55
        }
      },
      "source": [
        "feature_names = ['5d_close_pct']\n",
        "for n in [14, 30, 50, 200]:\n",
        "  lng['ma' + str(n)] = talib.SMA(lng['Adj_Close'].values, \n",
        "                                 timeperiod=n) / lng['Adj_Close']\n",
        "  lng['rsi' + str(n)] = talib.RSI\n",
        "  feature_names = feature_names + ['ma' + str(n), 'rsi' + str(n)]\n",
        "print(feature_names)"
      ],
      "execution_count": 29,
      "outputs": [
        {
          "output_type": "stream",
          "text": [
            "['5d_close_pct', 'ma14', 'rsi14', 'ma30', 'rsi30', 'ma50', 'rsi50', 'ma200', 'rsi200']\n"
          ],
          "name": "stdout"
        }
      ]
    },
    {
      "cell_type": "code",
      "metadata": {
        "id": "2mS63hdSWde4",
        "colab_type": "code",
        "colab": {
          "base_uri": "https://localhost:8080/",
          "height": 571
        },
        "outputId": "941da70a-5435-4df1-c490-810395eaf8ee"
      },
      "source": [
        "lng.head(10)"
      ],
      "execution_count": 35,
      "outputs": [
        {
          "output_type": "execute_result",
          "data": {
            "text/html": [
              "<div>\n",
              "<style scoped>\n",
              "    .dataframe tbody tr th:only-of-type {\n",
              "        vertical-align: middle;\n",
              "    }\n",
              "\n",
              "    .dataframe tbody tr th {\n",
              "        vertical-align: top;\n",
              "    }\n",
              "\n",
              "    .dataframe thead th {\n",
              "        text-align: right;\n",
              "    }\n",
              "</style>\n",
              "<table border=\"1\" class=\"dataframe\">\n",
              "  <thead>\n",
              "    <tr style=\"text-align: right;\">\n",
              "      <th></th>\n",
              "      <th>Adj_Close</th>\n",
              "      <th>Adj_Volume</th>\n",
              "      <th>5d_future_close</th>\n",
              "      <th>5d_close_future_pct</th>\n",
              "      <th>5d_close_pct</th>\n",
              "      <th>ma14</th>\n",
              "      <th>rsi14</th>\n",
              "      <th>ma30</th>\n",
              "      <th>rsi30</th>\n",
              "      <th>ma50</th>\n",
              "      <th>rsi50</th>\n",
              "      <th>ma200</th>\n",
              "      <th>rsi200</th>\n",
              "    </tr>\n",
              "    <tr>\n",
              "      <th>Date</th>\n",
              "      <th></th>\n",
              "      <th></th>\n",
              "      <th></th>\n",
              "      <th></th>\n",
              "      <th></th>\n",
              "      <th></th>\n",
              "      <th></th>\n",
              "      <th></th>\n",
              "      <th></th>\n",
              "      <th></th>\n",
              "      <th></th>\n",
              "      <th></th>\n",
              "      <th></th>\n",
              "    </tr>\n",
              "  </thead>\n",
              "  <tbody>\n",
              "    <tr>\n",
              "      <th>2016-04-15</th>\n",
              "      <td>37.13</td>\n",
              "      <td>4293775.0</td>\n",
              "      <td>37.40</td>\n",
              "      <td>NaN</td>\n",
              "      <td>NaN</td>\n",
              "      <td>NaN</td>\n",
              "      <td>&lt;function RSI at 0x7fd39a19d7b8&gt;</td>\n",
              "      <td>NaN</td>\n",
              "      <td>&lt;function RSI at 0x7fd39a19d7b8&gt;</td>\n",
              "      <td>NaN</td>\n",
              "      <td>&lt;function RSI at 0x7fd39a19d7b8&gt;</td>\n",
              "      <td>NaN</td>\n",
              "      <td>&lt;function RSI at 0x7fd39a19d7b8&gt;</td>\n",
              "    </tr>\n",
              "    <tr>\n",
              "      <th>2016-04-18</th>\n",
              "      <td>36.90</td>\n",
              "      <td>3445852.0</td>\n",
              "      <td>36.75</td>\n",
              "      <td>NaN</td>\n",
              "      <td>NaN</td>\n",
              "      <td>NaN</td>\n",
              "      <td>&lt;function RSI at 0x7fd39a19d7b8&gt;</td>\n",
              "      <td>NaN</td>\n",
              "      <td>&lt;function RSI at 0x7fd39a19d7b8&gt;</td>\n",
              "      <td>NaN</td>\n",
              "      <td>&lt;function RSI at 0x7fd39a19d7b8&gt;</td>\n",
              "      <td>NaN</td>\n",
              "      <td>&lt;function RSI at 0x7fd39a19d7b8&gt;</td>\n",
              "    </tr>\n",
              "    <tr>\n",
              "      <th>2016-04-19</th>\n",
              "      <td>37.12</td>\n",
              "      <td>3748050.0</td>\n",
              "      <td>37.25</td>\n",
              "      <td>NaN</td>\n",
              "      <td>NaN</td>\n",
              "      <td>NaN</td>\n",
              "      <td>&lt;function RSI at 0x7fd39a19d7b8&gt;</td>\n",
              "      <td>NaN</td>\n",
              "      <td>&lt;function RSI at 0x7fd39a19d7b8&gt;</td>\n",
              "      <td>NaN</td>\n",
              "      <td>&lt;function RSI at 0x7fd39a19d7b8&gt;</td>\n",
              "      <td>NaN</td>\n",
              "      <td>&lt;function RSI at 0x7fd39a19d7b8&gt;</td>\n",
              "    </tr>\n",
              "    <tr>\n",
              "      <th>2016-04-20</th>\n",
              "      <td>37.77</td>\n",
              "      <td>2470384.0</td>\n",
              "      <td>39.11</td>\n",
              "      <td>NaN</td>\n",
              "      <td>NaN</td>\n",
              "      <td>NaN</td>\n",
              "      <td>&lt;function RSI at 0x7fd39a19d7b8&gt;</td>\n",
              "      <td>NaN</td>\n",
              "      <td>&lt;function RSI at 0x7fd39a19d7b8&gt;</td>\n",
              "      <td>NaN</td>\n",
              "      <td>&lt;function RSI at 0x7fd39a19d7b8&gt;</td>\n",
              "      <td>NaN</td>\n",
              "      <td>&lt;function RSI at 0x7fd39a19d7b8&gt;</td>\n",
              "    </tr>\n",
              "    <tr>\n",
              "      <th>2016-04-21</th>\n",
              "      <td>37.21</td>\n",
              "      <td>2043988.0</td>\n",
              "      <td>38.62</td>\n",
              "      <td>NaN</td>\n",
              "      <td>NaN</td>\n",
              "      <td>NaN</td>\n",
              "      <td>&lt;function RSI at 0x7fd39a19d7b8&gt;</td>\n",
              "      <td>NaN</td>\n",
              "      <td>&lt;function RSI at 0x7fd39a19d7b8&gt;</td>\n",
              "      <td>NaN</td>\n",
              "      <td>&lt;function RSI at 0x7fd39a19d7b8&gt;</td>\n",
              "      <td>NaN</td>\n",
              "      <td>&lt;function RSI at 0x7fd39a19d7b8&gt;</td>\n",
              "    </tr>\n",
              "    <tr>\n",
              "      <th>2016-04-22</th>\n",
              "      <td>37.40</td>\n",
              "      <td>2786757.0</td>\n",
              "      <td>38.88</td>\n",
              "      <td>0.039572</td>\n",
              "      <td>0.007272</td>\n",
              "      <td>NaN</td>\n",
              "      <td>&lt;function RSI at 0x7fd39a19d7b8&gt;</td>\n",
              "      <td>NaN</td>\n",
              "      <td>&lt;function RSI at 0x7fd39a19d7b8&gt;</td>\n",
              "      <td>NaN</td>\n",
              "      <td>&lt;function RSI at 0x7fd39a19d7b8&gt;</td>\n",
              "      <td>NaN</td>\n",
              "      <td>&lt;function RSI at 0x7fd39a19d7b8&gt;</td>\n",
              "    </tr>\n",
              "    <tr>\n",
              "      <th>2016-04-25</th>\n",
              "      <td>36.75</td>\n",
              "      <td>1830397.0</td>\n",
              "      <td>38.99</td>\n",
              "      <td>0.060952</td>\n",
              "      <td>-0.004065</td>\n",
              "      <td>NaN</td>\n",
              "      <td>&lt;function RSI at 0x7fd39a19d7b8&gt;</td>\n",
              "      <td>NaN</td>\n",
              "      <td>&lt;function RSI at 0x7fd39a19d7b8&gt;</td>\n",
              "      <td>NaN</td>\n",
              "      <td>&lt;function RSI at 0x7fd39a19d7b8&gt;</td>\n",
              "      <td>NaN</td>\n",
              "      <td>&lt;function RSI at 0x7fd39a19d7b8&gt;</td>\n",
              "    </tr>\n",
              "    <tr>\n",
              "      <th>2016-04-26</th>\n",
              "      <td>37.25</td>\n",
              "      <td>2384800.0</td>\n",
              "      <td>37.37</td>\n",
              "      <td>0.003221</td>\n",
              "      <td>0.003502</td>\n",
              "      <td>NaN</td>\n",
              "      <td>&lt;function RSI at 0x7fd39a19d7b8&gt;</td>\n",
              "      <td>NaN</td>\n",
              "      <td>&lt;function RSI at 0x7fd39a19d7b8&gt;</td>\n",
              "      <td>NaN</td>\n",
              "      <td>&lt;function RSI at 0x7fd39a19d7b8&gt;</td>\n",
              "      <td>NaN</td>\n",
              "      <td>&lt;function RSI at 0x7fd39a19d7b8&gt;</td>\n",
              "    </tr>\n",
              "    <tr>\n",
              "      <th>2016-04-27</th>\n",
              "      <td>39.11</td>\n",
              "      <td>2559759.0</td>\n",
              "      <td>35.85</td>\n",
              "      <td>-0.083355</td>\n",
              "      <td>0.035478</td>\n",
              "      <td>NaN</td>\n",
              "      <td>&lt;function RSI at 0x7fd39a19d7b8&gt;</td>\n",
              "      <td>NaN</td>\n",
              "      <td>&lt;function RSI at 0x7fd39a19d7b8&gt;</td>\n",
              "      <td>NaN</td>\n",
              "      <td>&lt;function RSI at 0x7fd39a19d7b8&gt;</td>\n",
              "      <td>NaN</td>\n",
              "      <td>&lt;function RSI at 0x7fd39a19d7b8&gt;</td>\n",
              "    </tr>\n",
              "    <tr>\n",
              "      <th>2016-04-28</th>\n",
              "      <td>38.62</td>\n",
              "      <td>2245100.0</td>\n",
              "      <td>36.11</td>\n",
              "      <td>-0.064992</td>\n",
              "      <td>0.037893</td>\n",
              "      <td>NaN</td>\n",
              "      <td>&lt;function RSI at 0x7fd39a19d7b8&gt;</td>\n",
              "      <td>NaN</td>\n",
              "      <td>&lt;function RSI at 0x7fd39a19d7b8&gt;</td>\n",
              "      <td>NaN</td>\n",
              "      <td>&lt;function RSI at 0x7fd39a19d7b8&gt;</td>\n",
              "      <td>NaN</td>\n",
              "      <td>&lt;function RSI at 0x7fd39a19d7b8&gt;</td>\n",
              "    </tr>\n",
              "  </tbody>\n",
              "</table>\n",
              "</div>"
            ],
            "text/plain": [
              "            Adj_Close  Adj_Volume  ...  ma200                            rsi200\n",
              "Date                               ...                                         \n",
              "2016-04-15      37.13   4293775.0  ...    NaN  <function RSI at 0x7fd39a19d7b8>\n",
              "2016-04-18      36.90   3445852.0  ...    NaN  <function RSI at 0x7fd39a19d7b8>\n",
              "2016-04-19      37.12   3748050.0  ...    NaN  <function RSI at 0x7fd39a19d7b8>\n",
              "2016-04-20      37.77   2470384.0  ...    NaN  <function RSI at 0x7fd39a19d7b8>\n",
              "2016-04-21      37.21   2043988.0  ...    NaN  <function RSI at 0x7fd39a19d7b8>\n",
              "2016-04-22      37.40   2786757.0  ...    NaN  <function RSI at 0x7fd39a19d7b8>\n",
              "2016-04-25      36.75   1830397.0  ...    NaN  <function RSI at 0x7fd39a19d7b8>\n",
              "2016-04-26      37.25   2384800.0  ...    NaN  <function RSI at 0x7fd39a19d7b8>\n",
              "2016-04-27      39.11   2559759.0  ...    NaN  <function RSI at 0x7fd39a19d7b8>\n",
              "2016-04-28      38.62   2245100.0  ...    NaN  <function RSI at 0x7fd39a19d7b8>\n",
              "\n",
              "[10 rows x 13 columns]"
            ]
          },
          "metadata": {
            "tags": []
          },
          "execution_count": 35
        }
      ]
    },
    {
      "cell_type": "code",
      "metadata": {
        "id": "9OsCYx3z8EWi",
        "colab_type": "code",
        "colab": {
          "base_uri": "https://localhost:8080/",
          "height": 571
        },
        "outputId": "adbb2679-60e4-4c25-cfee-6bbd9f5f4902"
      },
      "source": [
        "lng.tail(10)"
      ],
      "execution_count": 36,
      "outputs": [
        {
          "output_type": "execute_result",
          "data": {
            "text/html": [
              "<div>\n",
              "<style scoped>\n",
              "    .dataframe tbody tr th:only-of-type {\n",
              "        vertical-align: middle;\n",
              "    }\n",
              "\n",
              "    .dataframe tbody tr th {\n",
              "        vertical-align: top;\n",
              "    }\n",
              "\n",
              "    .dataframe thead th {\n",
              "        text-align: right;\n",
              "    }\n",
              "</style>\n",
              "<table border=\"1\" class=\"dataframe\">\n",
              "  <thead>\n",
              "    <tr style=\"text-align: right;\">\n",
              "      <th></th>\n",
              "      <th>Adj_Close</th>\n",
              "      <th>Adj_Volume</th>\n",
              "      <th>5d_future_close</th>\n",
              "      <th>5d_close_future_pct</th>\n",
              "      <th>5d_close_pct</th>\n",
              "      <th>ma14</th>\n",
              "      <th>rsi14</th>\n",
              "      <th>ma30</th>\n",
              "      <th>rsi30</th>\n",
              "      <th>ma50</th>\n",
              "      <th>rsi50</th>\n",
              "      <th>ma200</th>\n",
              "      <th>rsi200</th>\n",
              "    </tr>\n",
              "    <tr>\n",
              "      <th>Date</th>\n",
              "      <th></th>\n",
              "      <th></th>\n",
              "      <th></th>\n",
              "      <th></th>\n",
              "      <th></th>\n",
              "      <th></th>\n",
              "      <th></th>\n",
              "      <th></th>\n",
              "      <th></th>\n",
              "      <th></th>\n",
              "      <th></th>\n",
              "      <th></th>\n",
              "      <th></th>\n",
              "    </tr>\n",
              "  </thead>\n",
              "  <tbody>\n",
              "    <tr>\n",
              "      <th>2018-03-27</th>\n",
              "      <td>53.06</td>\n",
              "      <td>1907271.0</td>\n",
              "      <td>54.30</td>\n",
              "      <td>0.023370</td>\n",
              "      <td>0.001510</td>\n",
              "      <td>1.004725</td>\n",
              "      <td>&lt;function RSI at 0x7fd39a19d7b8&gt;</td>\n",
              "      <td>1.026354</td>\n",
              "      <td>&lt;function RSI at 0x7fd39a19d7b8&gt;</td>\n",
              "      <td>1.041368</td>\n",
              "      <td>&lt;function RSI at 0x7fd39a19d7b8&gt;</td>\n",
              "      <td>0.922859</td>\n",
              "      <td>&lt;function RSI at 0x7fd39a19d7b8&gt;</td>\n",
              "    </tr>\n",
              "    <tr>\n",
              "      <th>2018-03-28</th>\n",
              "      <td>52.30</td>\n",
              "      <td>1272452.0</td>\n",
              "      <td>56.21</td>\n",
              "      <td>0.074761</td>\n",
              "      <td>-0.033986</td>\n",
              "      <td>1.017058</td>\n",
              "      <td>&lt;function RSI at 0x7fd39a19d7b8&gt;</td>\n",
              "      <td>1.038018</td>\n",
              "      <td>&lt;function RSI at 0x7fd39a19d7b8&gt;</td>\n",
              "      <td>1.055159</td>\n",
              "      <td>&lt;function RSI at 0x7fd39a19d7b8&gt;</td>\n",
              "      <td>0.936544</td>\n",
              "      <td>&lt;function RSI at 0x7fd39a19d7b8&gt;</td>\n",
              "    </tr>\n",
              "    <tr>\n",
              "      <th>2018-03-29</th>\n",
              "      <td>53.45</td>\n",
              "      <td>2756953.0</td>\n",
              "      <td>54.36</td>\n",
              "      <td>0.017025</td>\n",
              "      <td>0.027489</td>\n",
              "      <td>0.994387</td>\n",
              "      <td>&lt;function RSI at 0x7fd39a19d7b8&gt;</td>\n",
              "      <td>1.012735</td>\n",
              "      <td>&lt;function RSI at 0x7fd39a19d7b8&gt;</td>\n",
              "      <td>1.031622</td>\n",
              "      <td>&lt;function RSI at 0x7fd39a19d7b8&gt;</td>\n",
              "      <td>0.916875</td>\n",
              "      <td>&lt;function RSI at 0x7fd39a19d7b8&gt;</td>\n",
              "    </tr>\n",
              "    <tr>\n",
              "      <th>2018-04-02</th>\n",
              "      <td>52.99</td>\n",
              "      <td>2298339.0</td>\n",
              "      <td>54.10</td>\n",
              "      <td>0.020947</td>\n",
              "      <td>0.018843</td>\n",
              "      <td>1.002157</td>\n",
              "      <td>&lt;function RSI at 0x7fd39a19d7b8&gt;</td>\n",
              "      <td>1.018431</td>\n",
              "      <td>&lt;function RSI at 0x7fd39a19d7b8&gt;</td>\n",
              "      <td>1.039702</td>\n",
              "      <td>&lt;function RSI at 0x7fd39a19d7b8&gt;</td>\n",
              "      <td>0.925404</td>\n",
              "      <td>&lt;function RSI at 0x7fd39a19d7b8&gt;</td>\n",
              "    </tr>\n",
              "    <tr>\n",
              "      <th>2018-04-03</th>\n",
              "      <td>53.98</td>\n",
              "      <td>2230559.0</td>\n",
              "      <td>55.63</td>\n",
              "      <td>0.030567</td>\n",
              "      <td>0.028190</td>\n",
              "      <td>0.983883</td>\n",
              "      <td>&lt;function RSI at 0x7fd39a19d7b8&gt;</td>\n",
              "      <td>0.997493</td>\n",
              "      <td>&lt;function RSI at 0x7fd39a19d7b8&gt;</td>\n",
              "      <td>1.020085</td>\n",
              "      <td>&lt;function RSI at 0x7fd39a19d7b8&gt;</td>\n",
              "      <td>0.909116</td>\n",
              "      <td>&lt;function RSI at 0x7fd39a19d7b8&gt;</td>\n",
              "    </tr>\n",
              "    <tr>\n",
              "      <th>2018-04-04</th>\n",
              "      <td>54.30</td>\n",
              "      <td>1816771.0</td>\n",
              "      <td>NaN</td>\n",
              "      <td>0.024494</td>\n",
              "      <td>0.023370</td>\n",
              "      <td>0.978927</td>\n",
              "      <td>&lt;function RSI at 0x7fd39a19d7b8&gt;</td>\n",
              "      <td>0.989325</td>\n",
              "      <td>&lt;function RSI at 0x7fd39a19d7b8&gt;</td>\n",
              "      <td>1.013672</td>\n",
              "      <td>&lt;function RSI at 0x7fd39a19d7b8&gt;</td>\n",
              "      <td>0.904405</td>\n",
              "      <td>&lt;function RSI at 0x7fd39a19d7b8&gt;</td>\n",
              "    </tr>\n",
              "    <tr>\n",
              "      <th>2018-04-05</th>\n",
              "      <td>56.21</td>\n",
              "      <td>2533635.0</td>\n",
              "      <td>NaN</td>\n",
              "      <td>-0.010318</td>\n",
              "      <td>0.074761</td>\n",
              "      <td>0.948929</td>\n",
              "      <td>&lt;function RSI at 0x7fd39a19d7b8&gt;</td>\n",
              "      <td>0.955399</td>\n",
              "      <td>&lt;function RSI at 0x7fd39a19d7b8&gt;</td>\n",
              "      <td>0.978890</td>\n",
              "      <td>&lt;function RSI at 0x7fd39a19d7b8&gt;</td>\n",
              "      <td>0.874433</td>\n",
              "      <td>&lt;function RSI at 0x7fd39a19d7b8&gt;</td>\n",
              "    </tr>\n",
              "    <tr>\n",
              "      <th>2018-04-06</th>\n",
              "      <td>54.36</td>\n",
              "      <td>1754446.0</td>\n",
              "      <td>NaN</td>\n",
              "      <td>0.023363</td>\n",
              "      <td>0.017025</td>\n",
              "      <td>0.981276</td>\n",
              "      <td>&lt;function RSI at 0x7fd39a19d7b8&gt;</td>\n",
              "      <td>0.986761</td>\n",
              "      <td>&lt;function RSI at 0x7fd39a19d7b8&gt;</td>\n",
              "      <td>1.010901</td>\n",
              "      <td>&lt;function RSI at 0x7fd39a19d7b8&gt;</td>\n",
              "      <td>0.904928</td>\n",
              "      <td>&lt;function RSI at 0x7fd39a19d7b8&gt;</td>\n",
              "    </tr>\n",
              "    <tr>\n",
              "      <th>2018-04-09</th>\n",
              "      <td>54.10</td>\n",
              "      <td>1203998.0</td>\n",
              "      <td>NaN</td>\n",
              "      <td>0.028281</td>\n",
              "      <td>0.020947</td>\n",
              "      <td>0.988117</td>\n",
              "      <td>&lt;function RSI at 0x7fd39a19d7b8&gt;</td>\n",
              "      <td>0.990511</td>\n",
              "      <td>&lt;function RSI at 0x7fd39a19d7b8&gt;</td>\n",
              "      <td>1.014026</td>\n",
              "      <td>&lt;function RSI at 0x7fd39a19d7b8&gt;</td>\n",
              "      <td>0.909966</td>\n",
              "      <td>&lt;function RSI at 0x7fd39a19d7b8&gt;</td>\n",
              "    </tr>\n",
              "    <tr>\n",
              "      <th>2018-04-10</th>\n",
              "      <td>55.63</td>\n",
              "      <td>3430268.0</td>\n",
              "      <td>NaN</td>\n",
              "      <td>0.000000</td>\n",
              "      <td>0.030567</td>\n",
              "      <td>0.964343</td>\n",
              "      <td>&lt;function RSI at 0x7fd39a19d7b8&gt;</td>\n",
              "      <td>0.962886</td>\n",
              "      <td>&lt;function RSI at 0x7fd39a19d7b8&gt;</td>\n",
              "      <td>0.984569</td>\n",
              "      <td>&lt;function RSI at 0x7fd39a19d7b8&gt;</td>\n",
              "      <td>0.885689</td>\n",
              "      <td>&lt;function RSI at 0x7fd39a19d7b8&gt;</td>\n",
              "    </tr>\n",
              "  </tbody>\n",
              "</table>\n",
              "</div>"
            ],
            "text/plain": [
              "            Adj_Close  Adj_Volume  ...     ma200                            rsi200\n",
              "Date                               ...                                            \n",
              "2018-03-27      53.06   1907271.0  ...  0.922859  <function RSI at 0x7fd39a19d7b8>\n",
              "2018-03-28      52.30   1272452.0  ...  0.936544  <function RSI at 0x7fd39a19d7b8>\n",
              "2018-03-29      53.45   2756953.0  ...  0.916875  <function RSI at 0x7fd39a19d7b8>\n",
              "2018-04-02      52.99   2298339.0  ...  0.925404  <function RSI at 0x7fd39a19d7b8>\n",
              "2018-04-03      53.98   2230559.0  ...  0.909116  <function RSI at 0x7fd39a19d7b8>\n",
              "2018-04-04      54.30   1816771.0  ...  0.904405  <function RSI at 0x7fd39a19d7b8>\n",
              "2018-04-05      56.21   2533635.0  ...  0.874433  <function RSI at 0x7fd39a19d7b8>\n",
              "2018-04-06      54.36   1754446.0  ...  0.904928  <function RSI at 0x7fd39a19d7b8>\n",
              "2018-04-09      54.10   1203998.0  ...  0.909966  <function RSI at 0x7fd39a19d7b8>\n",
              "2018-04-10      55.63   3430268.0  ...  0.885689  <function RSI at 0x7fd39a19d7b8>\n",
              "\n",
              "[10 rows x 13 columns]"
            ]
          },
          "metadata": {
            "tags": []
          },
          "execution_count": 36
        }
      ]
    },
    {
      "cell_type": "code",
      "metadata": {
        "id": "d3akM4DeWGkY",
        "colab_type": "code",
        "colab": {}
      },
      "source": [
        "lng = lng.dropna()"
      ],
      "execution_count": 0,
      "outputs": []
    },
    {
      "cell_type": "code",
      "metadata": {
        "id": "chQUrXwXhL3q",
        "colab_type": "code",
        "colab": {}
      },
      "source": [
        "features = lng[feature_names]"
      ],
      "execution_count": 0,
      "outputs": []
    },
    {
      "cell_type": "code",
      "metadata": {
        "id": "P_totJFXhOwh",
        "colab_type": "code",
        "colab": {}
      },
      "source": [
        "targets = lng['5d_close_future_pct']"
      ],
      "execution_count": 0,
      "outputs": []
    },
    {
      "cell_type": "code",
      "metadata": {
        "id": "8QVNaSs5hS8C",
        "colab_type": "code",
        "colab": {}
      },
      "source": [
        "feature_and_target_cols = ['5d_close_future_pct'] + feature_names\n",
        "feature_and_target = lng[feature_and_target_cols]"
      ],
      "execution_count": 0,
      "outputs": []
    },
    {
      "cell_type": "code",
      "metadata": {
        "id": "ZKa2sA4ohq9F",
        "colab_type": "code",
        "colab": {
          "base_uri": "https://localhost:8080/",
          "height": 248
        },
        "outputId": "a802ec4f-bc0c-484d-a38f-6fcc65f77ce5"
      },
      "source": [
        "feature_and_target.corr()"
      ],
      "execution_count": 41,
      "outputs": [
        {
          "output_type": "execute_result",
          "data": {
            "text/html": [
              "<div>\n",
              "<style scoped>\n",
              "    .dataframe tbody tr th:only-of-type {\n",
              "        vertical-align: middle;\n",
              "    }\n",
              "\n",
              "    .dataframe tbody tr th {\n",
              "        vertical-align: top;\n",
              "    }\n",
              "\n",
              "    .dataframe thead th {\n",
              "        text-align: right;\n",
              "    }\n",
              "</style>\n",
              "<table border=\"1\" class=\"dataframe\">\n",
              "  <thead>\n",
              "    <tr style=\"text-align: right;\">\n",
              "      <th></th>\n",
              "      <th>5d_close_future_pct</th>\n",
              "      <th>5d_close_pct</th>\n",
              "      <th>ma14</th>\n",
              "      <th>ma30</th>\n",
              "      <th>ma50</th>\n",
              "      <th>ma200</th>\n",
              "    </tr>\n",
              "  </thead>\n",
              "  <tbody>\n",
              "    <tr>\n",
              "      <th>5d_close_future_pct</th>\n",
              "      <td>1.000000</td>\n",
              "      <td>-0.041001</td>\n",
              "      <td>0.092816</td>\n",
              "      <td>0.099072</td>\n",
              "      <td>0.109859</td>\n",
              "      <td>0.227422</td>\n",
              "    </tr>\n",
              "    <tr>\n",
              "      <th>5d_close_pct</th>\n",
              "      <td>-0.041001</td>\n",
              "      <td>1.000000</td>\n",
              "      <td>-0.828132</td>\n",
              "      <td>-0.614245</td>\n",
              "      <td>-0.481854</td>\n",
              "      <td>-0.230115</td>\n",
              "    </tr>\n",
              "    <tr>\n",
              "      <th>ma14</th>\n",
              "      <td>0.092816</td>\n",
              "      <td>-0.828132</td>\n",
              "      <td>1.000000</td>\n",
              "      <td>0.850136</td>\n",
              "      <td>0.695356</td>\n",
              "      <td>0.351263</td>\n",
              "    </tr>\n",
              "    <tr>\n",
              "      <th>ma30</th>\n",
              "      <td>0.099072</td>\n",
              "      <td>-0.614245</td>\n",
              "      <td>0.850136</td>\n",
              "      <td>1.000000</td>\n",
              "      <td>0.926369</td>\n",
              "      <td>0.531265</td>\n",
              "    </tr>\n",
              "    <tr>\n",
              "      <th>ma50</th>\n",
              "      <td>0.109859</td>\n",
              "      <td>-0.481854</td>\n",
              "      <td>0.695356</td>\n",
              "      <td>0.926369</td>\n",
              "      <td>1.000000</td>\n",
              "      <td>0.696036</td>\n",
              "    </tr>\n",
              "    <tr>\n",
              "      <th>ma200</th>\n",
              "      <td>0.227422</td>\n",
              "      <td>-0.230115</td>\n",
              "      <td>0.351263</td>\n",
              "      <td>0.531265</td>\n",
              "      <td>0.696036</td>\n",
              "      <td>1.000000</td>\n",
              "    </tr>\n",
              "  </tbody>\n",
              "</table>\n",
              "</div>"
            ],
            "text/plain": [
              "                     5d_close_future_pct  5d_close_pct  ...      ma50     ma200\n",
              "5d_close_future_pct             1.000000     -0.041001  ...  0.109859  0.227422\n",
              "5d_close_pct                   -0.041001      1.000000  ... -0.481854 -0.230115\n",
              "ma14                            0.092816     -0.828132  ...  0.695356  0.351263\n",
              "ma30                            0.099072     -0.614245  ...  0.926369  0.531265\n",
              "ma50                            0.109859     -0.481854  ...  1.000000  0.696036\n",
              "ma200                           0.227422     -0.230115  ...  0.696036  1.000000\n",
              "\n",
              "[6 rows x 6 columns]"
            ]
          },
          "metadata": {
            "tags": []
          },
          "execution_count": 41
        }
      ]
    },
    {
      "cell_type": "code",
      "metadata": {
        "id": "rnsz49zbhuNm",
        "colab_type": "code",
        "colab": {}
      },
      "source": [
        ""
      ],
      "execution_count": 0,
      "outputs": []
    }
  ]
}