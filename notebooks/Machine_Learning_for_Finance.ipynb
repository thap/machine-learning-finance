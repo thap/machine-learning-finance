{
  "nbformat": 4,
  "nbformat_minor": 0,
  "metadata": {
    "colab": {
      "name": "Machine Learning for Finance.ipynb",
      "provenance": [],
      "include_colab_link": true
    },
    "kernelspec": {
      "name": "python3",
      "display_name": "Python 3"
    },
    "accelerator": "GPU"
  },
  "cells": [
    {
      "cell_type": "markdown",
      "metadata": {
        "id": "view-in-github",
        "colab_type": "text"
      },
      "source": [
        "<a href=\"https://colab.research.google.com/github/thap/machine-learning-finance/blob/master/notebooks/Machine_Learning_for_Finance.ipynb\" target=\"_parent\"><img src=\"https://colab.research.google.com/assets/colab-badge.svg\" alt=\"Open In Colab\"/></a>"
      ]
    },
    {
      "cell_type": "markdown",
      "metadata": {
        "id": "UlZxm9VukAHK",
        "colab_type": "text"
      },
      "source": [
        "# Machine Learning for Finance"
      ]
    },
    {
      "cell_type": "markdown",
      "metadata": {
        "id": "wp7TMfOGkhxc",
        "colab_type": "text"
      },
      "source": [
        "## Mount Data from Drive"
      ]
    },
    {
      "cell_type": "code",
      "metadata": {
        "id": "4L0h7Wj9kgsm",
        "colab_type": "code",
        "outputId": "be853c5e-d1f3-4662-8449-141155bf85b8",
        "colab": {
          "base_uri": "https://localhost:8080/",
          "height": 124
        }
      },
      "source": [
        "from google.colab import drive\n",
        "drive.mount('/content/drive')"
      ],
      "execution_count": 1,
      "outputs": [
        {
          "output_type": "stream",
          "text": [
            "Go to this URL in a browser: https://accounts.google.com/o/oauth2/auth?client_id=947318989803-6bn6qk8qdgf4n4g3pfee6491hc0brc4i.apps.googleusercontent.com&redirect_uri=urn%3Aietf%3Awg%3Aoauth%3A2.0%3Aoob&scope=email%20https%3A%2F%2Fwww.googleapis.com%2Fauth%2Fdocs.test%20https%3A%2F%2Fwww.googleapis.com%2Fauth%2Fdrive%20https%3A%2F%2Fwww.googleapis.com%2Fauth%2Fdrive.photos.readonly%20https%3A%2F%2Fwww.googleapis.com%2Fauth%2Fpeopleapi.readonly&response_type=code\n",
            "\n",
            "Enter your authorization code:\n",
            "··········\n",
            "Mounted at /content/drive\n"
          ],
          "name": "stdout"
        }
      ]
    },
    {
      "cell_type": "code",
      "metadata": {
        "id": "sjiAnn30jt-4",
        "colab_type": "code",
        "outputId": "b8241e8d-69b6-40e7-a3a8-2e0d53191e2b",
        "colab": {
          "base_uri": "https://localhost:8080/",
          "height": 55
        }
      },
      "source": [
        "import os\n",
        "os.chdir('/content/drive/My Drive/data/machine_learning_finance/')\n",
        "print(os.listdir())"
      ],
      "execution_count": 2,
      "outputs": [
        {
          "output_type": "stream",
          "text": [
            "['AAPL.csv', 'AMD.csv', 'QQQ.csv', 'SPY.csv', 'LNG.csv', 'SMLV.csv', 'ta-lib-0.4.0-src.tar.gz']\n"
          ],
          "name": "stdout"
        }
      ]
    },
    {
      "cell_type": "code",
      "metadata": {
        "id": "3c8LCpqv4-B7",
        "colab_type": "code",
        "colab": {}
      },
      "source": [
        "!cp ta-lib-0.4.0-src.tar.gz /content/"
      ],
      "execution_count": 0,
      "outputs": []
    },
    {
      "cell_type": "code",
      "metadata": {
        "id": "sP8LHlqP5ESm",
        "colab_type": "code",
        "colab": {}
      },
      "source": [
        "os.chdir('/content')"
      ],
      "execution_count": 0,
      "outputs": []
    },
    {
      "cell_type": "code",
      "metadata": {
        "id": "le3eZc-r5asf",
        "colab_type": "code",
        "outputId": "826bc615-504c-4995-d390-29e6a3553d3d",
        "colab": {
          "base_uri": "https://localhost:8080/",
          "height": 35
        }
      },
      "source": [
        "!ls"
      ],
      "execution_count": 5,
      "outputs": [
        {
          "output_type": "stream",
          "text": [
            "drive  sample_data  ta-lib-0.4.0-src.tar.gz\n"
          ],
          "name": "stdout"
        }
      ]
    },
    {
      "cell_type": "code",
      "metadata": {
        "id": "pThwoPwf5qZs",
        "colab_type": "code",
        "colab": {
          "base_uri": "https://localhost:8080/",
          "height": 1000
        },
        "outputId": "82ab6c10-4f39-44c0-f684-5d64435fea74"
      },
      "source": [
        "!tar xvzf ta-lib-0.4.0-src.tar.gz"
      ],
      "execution_count": 6,
      "outputs": [
        {
          "output_type": "stream",
          "text": [
            "ta-lib/\n",
            "ta-lib/config.sub\n",
            "ta-lib/aclocal.m4\n",
            "ta-lib/CHANGELOG.TXT\n",
            "ta-lib/include/\n",
            "ta-lib/include/ta_abstract.h\n",
            "ta-lib/include/ta_func.h\n",
            "ta-lib/include/ta_common.h\n",
            "ta-lib/include/ta_config.h.in\n",
            "ta-lib/include/Makefile.am\n",
            "ta-lib/include/ta_libc.h\n",
            "ta-lib/include/ta_defs.h\n",
            "ta-lib/missing\n",
            "ta-lib/ta-lib.spec.in\n",
            "ta-lib/config.guess\n",
            "ta-lib/Makefile.in\n",
            "ta-lib/ta-lib.dpkg.in\n",
            "ta-lib/Makefile.am\n",
            "ta-lib/autogen.sh\n",
            "ta-lib/install-sh\n",
            "ta-lib/configure\n",
            "ta-lib/depcomp\n",
            "ta-lib/HISTORY.TXT\n",
            "ta-lib/configure.in\n",
            "ta-lib/autom4te.cache/\n",
            "ta-lib/autom4te.cache/output.0\n",
            "ta-lib/autom4te.cache/requests\n",
            "ta-lib/autom4te.cache/output.1\n",
            "ta-lib/autom4te.cache/traces.0\n",
            "ta-lib/autom4te.cache/traces.1\n",
            "ta-lib/ltmain.sh\n",
            "ta-lib/ta-lib-config.in\n",
            "ta-lib/src/\n",
            "ta-lib/src/ta_func/\n",
            "ta-lib/src/ta_func/ta_MACDFIX.c\n",
            "ta-lib/src/ta_func/ta_CDLPIERCING.c\n",
            "ta-lib/src/ta_func/ta_DIV.c\n",
            "ta-lib/src/ta_func/ta_ROCR100.c\n",
            "ta-lib/src/ta_func/ta_ADXR.c\n",
            "ta-lib/src/ta_func/ta_MAVP.c\n",
            "ta-lib/src/ta_func/ta_CDLCLOSINGMARUBOZU.c\n",
            "ta-lib/src/ta_func/ta_COSH.c\n",
            "ta-lib/src/ta_func/ta_EXP.c\n",
            "ta-lib/src/ta_func/ta_MINMAXINDEX.c\n",
            "ta-lib/src/ta_func/ta_SQRT.c\n",
            "ta-lib/src/ta_func/ta_FLOOR.c\n",
            "ta-lib/src/ta_func/ta_CDLCONCEALBABYSWALL.c\n",
            "ta-lib/src/ta_func/ta_NATR.c\n",
            "ta-lib/src/ta_func/ta_CDLHARAMICROSS.c\n",
            "ta-lib/src/ta_func/ta_MINUS_DM.c\n",
            "ta-lib/src/ta_func/ta_LOG10.c\n",
            "ta-lib/src/ta_func/ta_LINEARREG_ANGLE.c\n",
            "ta-lib/src/ta_func/ta_RSI.c\n",
            "ta-lib/src/ta_func/ta_CDLABANDONEDBABY.c\n",
            "ta-lib/src/ta_func/ta_SAR.c\n",
            "ta-lib/src/ta_func/ta_CDLBREAKAWAY.c\n",
            "ta-lib/src/ta_func/ta_CDLDRAGONFLYDOJI.c\n",
            "ta-lib/src/ta_func/ta_CDLHIGHWAVE.c\n",
            "ta-lib/src/ta_func/ta_CDLKICKING.c\n",
            "ta-lib/src/ta_func/ta_CDLDOJISTAR.c\n",
            "ta-lib/src/ta_func/ta_VAR.c\n",
            "ta-lib/src/ta_func/ta_CDLMATCHINGLOW.c\n",
            "ta-lib/src/ta_func/ta_CDLGAPSIDESIDEWHITE.c\n",
            "ta-lib/src/ta_func/ta_CDLMARUBOZU.c\n",
            "ta-lib/src/ta_func/ta_AROONOSC.c\n",
            "ta-lib/src/ta_func/ta_WCLPRICE.c\n",
            "ta-lib/src/ta_func/ta_CDLEVENINGDOJISTAR.c\n",
            "ta-lib/src/ta_func/ta_CDL3INSIDE.c\n",
            "ta-lib/src/ta_func/ta_OBV.c\n",
            "ta-lib/src/ta_func/ta_AROON.c\n",
            "ta-lib/src/ta_func/ta_CDLBELTHOLD.c\n",
            "ta-lib/src/ta_func/ta_CDLSPINNINGTOP.c\n",
            "ta-lib/src/ta_func/ta_AD.c\n",
            "ta-lib/src/ta_func/ta_MAX.c\n",
            "ta-lib/src/ta_func/ta_CDLENGULFING.c\n",
            "ta-lib/src/ta_func/ta_MINMAX.c\n",
            "ta-lib/src/ta_func/ta_CDLINNECK.c\n",
            "ta-lib/src/ta_func/ta_STDDEV.c\n",
            "ta-lib/src/ta_func/ta_NVI.c\n",
            "ta-lib/src/ta_func/ta_CDLHAMMER.c\n",
            "ta-lib/src/ta_func/ta_ASIN.c\n",
            "ta-lib/src/ta_func/ta_SUM.c\n",
            "ta-lib/src/ta_func/ta_STOCH.c\n",
            "ta-lib/src/ta_func/ta_CDLLONGLEGGEDDOJI.c\n",
            "ta-lib/src/ta_func/ta_MEDPRICE.c\n",
            "ta-lib/src/ta_func/ta_CDL3STARSINSOUTH.c\n",
            "ta-lib/src/ta_func/ta_HT_TRENDMODE.c\n",
            "ta-lib/src/ta_func/ta_BBANDS.c\n",
            "ta-lib/src/ta_func/ta_CDLMORNINGSTAR.c\n",
            "ta-lib/src/ta_func/ta_HT_DCPHASE.c\n",
            "ta-lib/src/ta_func/ta_CDLLONGLINE.c\n",
            "ta-lib/src/ta_func/ta_TAN.c\n",
            "ta-lib/src/ta_func/ta_SMA.c\n",
            "ta-lib/src/ta_func/ta_DX.c\n",
            "ta-lib/src/ta_func/ta_MIDPOINT.c\n",
            "ta-lib/src/ta_func/ta_CDL2CROWS.c\n",
            "ta-lib/src/ta_func/ta_CORREL.c\n",
            "ta-lib/src/ta_func/ta_CDL3BLACKCROWS.c\n",
            "ta-lib/src/ta_func/ta_ADD.c\n",
            "ta-lib/src/ta_func/Makefile.in\n",
            "ta-lib/src/ta_func/ta_CDLTHRUSTING.c\n",
            "ta-lib/src/ta_func/ta_SUB.c\n",
            "ta-lib/src/ta_func/ta_CDLSTALLEDPATTERN.c\n",
            "ta-lib/src/ta_func/ta_CDLTRISTAR.c\n",
            "ta-lib/src/ta_func/ta_MA.c\n",
            "ta-lib/src/ta_func/ta_HT_SINE.c\n",
            "ta-lib/src/ta_func/ta_ACOS.c\n",
            "ta-lib/src/ta_func/ta_CDLSTICKSANDWICH.c\n",
            "ta-lib/src/ta_func/ta_SINH.c\n",
            "ta-lib/src/ta_func/ta_utility.h\n",
            "ta-lib/src/ta_func/ta_CDLSHORTLINE.c\n",
            "ta-lib/src/ta_func/ta_ATAN.c\n",
            "ta-lib/src/ta_func/ta_CDLADVANCEBLOCK.c\n",
            "ta-lib/src/ta_func/ta_CDLKICKINGBYLENGTH.c\n",
            "ta-lib/src/ta_func/ta_CDLSHOOTINGSTAR.c\n",
            "ta-lib/src/ta_func/ta_ROCR.c\n",
            "ta-lib/src/ta_func/ta_WMA.c\n",
            "ta-lib/src/ta_func/ta_CDLDARKCLOUDCOVER.c\n",
            "ta-lib/src/ta_func/ta_CDLXSIDEGAP3METHODS.c\n",
            "ta-lib/src/ta_func/ta_TYPPRICE.c\n",
            "ta-lib/src/ta_func/ta_CDL3WHITESOLDIERS.c\n",
            "ta-lib/src/ta_func/Makefile.am\n",
            "ta-lib/src/ta_func/ta_MACDEXT.c\n",
            "ta-lib/src/ta_func/ta_ADX.c\n",
            "ta-lib/src/ta_func/ta_PLUS_DM.c\n",
            "ta-lib/src/ta_func/ta_CDLUPSIDEGAP2CROWS.c\n",
            "ta-lib/src/ta_func/ta_LN.c\n",
            "ta-lib/src/ta_func/ta_DEMA.c\n",
            "ta-lib/src/ta_func/ta_CDL3OUTSIDE.c\n",
            "ta-lib/src/ta_func/ta_CDLTASUKIGAP.c\n",
            "ta-lib/src/ta_func/ta_MAMA.c\n",
            "ta-lib/src/ta_func/ta_CDLMORNINGDOJISTAR.c\n",
            "ta-lib/src/ta_func/ta_PLUS_DI.c\n",
            "ta-lib/src/ta_func/ta_MININDEX.c\n",
            "ta-lib/src/ta_func/ta_COS.c\n",
            "ta-lib/src/ta_func/ta_HT_TRENDLINE.c\n",
            "ta-lib/src/ta_func/ta_MIDPRICE.c\n",
            "ta-lib/src/ta_func/ta_CEIL.c\n",
            "ta-lib/src/ta_func/ta_TRIMA.c\n",
            "ta-lib/src/ta_func/ta_CDLSEPARATINGLINES.c\n",
            "ta-lib/src/ta_func/ta_ROCP.c\n",
            "ta-lib/src/ta_func/ta_CDLHOMINGPIGEON.c\n",
            "ta-lib/src/ta_func/ta_CDLHANGINGMAN.c\n",
            "ta-lib/src/ta_func/ta_AVGPRICE.c\n",
            "ta-lib/src/ta_func/ta_APO.c\n",
            "ta-lib/src/ta_func/ta_CDLRISEFALL3METHODS.c\n",
            "ta-lib/src/ta_func/ta_TRANGE.c\n",
            "ta-lib/src/ta_func/ta_TSF.c\n",
            "ta-lib/src/ta_func/ta_LINEARREG.c\n",
            "ta-lib/src/ta_func/ta_PVI.c\n",
            "ta-lib/src/ta_func/ta_CDLHIKKAKEMOD.c\n",
            "ta-lib/src/ta_func/ta_MFI.c\n",
            "ta-lib/src/ta_func/ta_CDLHARAMI.c\n",
            "ta-lib/src/ta_func/ta_MACD.c\n",
            "ta-lib/src/ta_func/ta_BETA.c\n",
            "ta-lib/src/ta_func/ta_CDLINVERTEDHAMMER.c\n",
            "ta-lib/src/ta_func/ta_LINEARREG_SLOPE.c\n",
            "ta-lib/src/ta_func/ta_STOCHF.c\n",
            "ta-lib/src/ta_func/ta_MIN.c\n",
            "ta-lib/src/ta_func/ta_CDLIDENTICAL3CROWS.c\n",
            "ta-lib/src/ta_func/ta_CDLRICKSHAWMAN.c\n",
            "ta-lib/src/ta_func/ta_T3.c\n",
            "ta-lib/src/ta_func/ta_CDLMATHOLD.c\n",
            "ta-lib/src/ta_func/ta_CDLUNIQUE3RIVER.c\n",
            "ta-lib/src/ta_func/ta_ADOSC.c\n",
            "ta-lib/src/ta_func/ta_MAXINDEX.c\n",
            "ta-lib/src/ta_func/ta_ULTOSC.c\n",
            "ta-lib/src/ta_func/ta_TRIX.c\n",
            "ta-lib/src/ta_func/ta_MOM.c\n",
            "ta-lib/src/ta_func/ta_CDLDOJI.c\n",
            "ta-lib/src/ta_func/ta_EMA.c\n",
            "ta-lib/src/ta_func/ta_STOCHRSI.c\n",
            "ta-lib/src/ta_func/ta_ROC.c\n",
            "ta-lib/src/ta_func/ta_CDLEVENINGSTAR.c\n",
            "ta-lib/src/ta_func/ta_CDLCOUNTERATTACK.c\n",
            "ta-lib/src/ta_func/ta_LINEARREG_INTERCEPT.c\n",
            "ta-lib/src/ta_func/ta_SAREXT.c\n",
            "ta-lib/src/ta_func/ta_WILLR.c\n",
            "ta-lib/src/ta_func/ta_MULT.c\n",
            "ta-lib/src/ta_func/ta_ATR.c\n",
            "ta-lib/src/ta_func/ta_BOP.c\n",
            "ta-lib/src/ta_func/ta_CMO.c\n",
            "ta-lib/src/ta_func/ta_CDLONNECK.c\n",
            "ta-lib/src/ta_func/ta_CCI.c\n",
            "ta-lib/src/ta_func/ta_CDLLADDERBOTTOM.c\n",
            "ta-lib/src/ta_func/ta_HT_PHASOR.c\n",
            "ta-lib/src/ta_func/ta_utility.c\n",
            "ta-lib/src/ta_func/ta_PPO.c\n",
            "ta-lib/src/ta_func/ta_CDLHIKKAKE.c\n",
            "ta-lib/src/ta_func/ta_HT_DCPERIOD.c\n",
            "ta-lib/src/ta_func/ta_CDL3LINESTRIKE.c\n",
            "ta-lib/src/ta_func/ta_TEMA.c\n",
            "ta-lib/src/ta_func/ta_SIN.c\n",
            "ta-lib/src/ta_func/ta_MINUS_DI.c\n",
            "ta-lib/src/ta_func/ta_KAMA.c\n",
            "ta-lib/src/ta_func/ta_TANH.c\n",
            "ta-lib/src/ta_func/ta_CDLTAKURI.c\n",
            "ta-lib/src/ta_func/ta_CDLGRAVESTONEDOJI.c\n",
            "ta-lib/src/ta_common/\n",
            "ta-lib/src/ta_common/ta_pragma.h\n",
            "ta-lib/src/ta_common/ta_magic_nb.h\n",
            "ta-lib/src/ta_common/ta_retcode.csv\n",
            "ta-lib/src/ta_common/Makefile.in\n",
            "ta-lib/src/ta_common/Makefile.am\n",
            "ta-lib/src/ta_common/ta_memory.h\n",
            "ta-lib/src/ta_common/ta_version.c\n",
            "ta-lib/src/ta_common/ta_global.h\n",
            "ta-lib/src/ta_common/ta_global.c\n",
            "ta-lib/src/ta_common/ta_retcode.c\n",
            "ta-lib/src/Makefile.in\n",
            "ta-lib/src/ta_abstract/\n",
            "ta-lib/src/ta_abstract/frames/\n",
            "ta-lib/src/ta_abstract/frames/ta_frame.c\n",
            "ta-lib/src/ta_abstract/frames/ta_frame.h\n",
            "ta-lib/src/ta_abstract/excel_glue.c\n",
            "ta-lib/src/ta_abstract/ta_frame_priv.h\n",
            "ta-lib/src/ta_abstract/ta_func_api.c\n",
            "ta-lib/src/ta_abstract/Makefile.in\n",
            "ta-lib/src/ta_abstract/ta_def_ui.h\n",
            "ta-lib/src/ta_abstract/Makefile.am\n",
            "ta-lib/src/ta_abstract/ta_abstract.c\n",
            "ta-lib/src/ta_abstract/ta_group_idx.c\n",
            "ta-lib/src/ta_abstract/tables/\n",
            "ta-lib/src/ta_abstract/tables/table_u.c\n",
            "ta-lib/src/ta_abstract/tables/table_x.c\n",
            "ta-lib/src/ta_abstract/tables/table_r.c\n",
            "ta-lib/src/ta_abstract/tables/table_f.c\n",
            "ta-lib/src/ta_abstract/tables/table_j.c\n",
            "ta-lib/src/ta_abstract/tables/table_e.c\n",
            "ta-lib/src/ta_abstract/tables/table_t.c\n",
            "ta-lib/src/ta_abstract/tables/table_n.c\n",
            "ta-lib/src/ta_abstract/tables/table_i.c\n",
            "ta-lib/src/ta_abstract/tables/table_c.c\n",
            "ta-lib/src/ta_abstract/tables/table_l.c\n",
            "ta-lib/src/ta_abstract/tables/table_k.c\n",
            "ta-lib/src/ta_abstract/tables/table_g.c\n",
            "ta-lib/src/ta_abstract/tables/table_d.c\n",
            "ta-lib/src/ta_abstract/tables/table_h.c\n",
            "ta-lib/src/ta_abstract/tables/table_o.c\n",
            "ta-lib/src/ta_abstract/tables/table_b.c\n",
            "ta-lib/src/ta_abstract/tables/table_q.c\n",
            "ta-lib/src/ta_abstract/tables/table_v.c\n",
            "ta-lib/src/ta_abstract/tables/table_m.c\n",
            "ta-lib/src/ta_abstract/tables/table_s.c\n",
            "ta-lib/src/ta_abstract/tables/table_y.c\n",
            "ta-lib/src/ta_abstract/tables/table_p.c\n",
            "ta-lib/src/ta_abstract/tables/table_z.c\n",
            "ta-lib/src/ta_abstract/tables/table_a.c\n",
            "ta-lib/src/ta_abstract/tables/table_w.c\n",
            "ta-lib/src/ta_abstract/ta_def_ui.c\n",
            "ta-lib/src/ta_abstract/templates/\n",
            "ta-lib/src/ta_abstract/templates/ta_x.c.template\n",
            "ta-lib/src/ta_abstract/templates/ta_java_defs.h.template\n",
            "ta-lib/src/ta_abstract/templates/excel_glue.c.template\n",
            "ta-lib/src/ta_abstract/templates/ta_group_idx.c.template\n",
            "ta-lib/src/ta_abstract/templates/ta_frame.c.template\n",
            "ta-lib/src/ta_abstract/templates/CoreAnnotated.java.template\n",
            "ta-lib/src/ta_abstract/templates/ta_func.h.template\n",
            "ta-lib/src/ta_abstract/templates/ta_frame.h.template\n",
            "ta-lib/src/ta_abstract/templates/Makefile.am.template\n",
            "ta-lib/src/ta_abstract/templates/ta_func_api.c.template\n",
            "ta-lib/src/ta_abstract/templates/ta_func.swg.template\n",
            "ta-lib/src/ta_abstract/templates/ta_retcode.c.template\n",
            "ta-lib/src/ta_abstract/ta_java_defs.h\n",
            "ta-lib/src/Makefile.am\n",
            "ta-lib/src/tools/\n",
            "ta-lib/src/tools/ta_regtest/\n",
            "ta-lib/src/tools/ta_regtest/test_util.c\n",
            "ta-lib/src/tools/ta_regtest/ta_test_func.h\n",
            "ta-lib/src/tools/ta_regtest/test_data.c\n",
            "ta-lib/src/tools/ta_regtest/ta_gDataHigh.c\n",
            "ta-lib/src/tools/ta_regtest/Makefile.in\n",
            "ta-lib/src/tools/ta_regtest/test_internals.c\n",
            "ta-lib/src/tools/ta_regtest/Makefile.am\n",
            "ta-lib/src/tools/ta_regtest/ta_regtest.c\n",
            "ta-lib/src/tools/ta_regtest/ta_gDataOpen.c\n",
            "ta-lib/src/tools/ta_regtest/ta_gDataClose.c\n",
            "ta-lib/src/tools/ta_regtest/test_abstract.c\n",
            "ta-lib/src/tools/ta_regtest/ta_test_func/\n",
            "ta-lib/src/tools/ta_regtest/ta_test_func/test_bbands.c\n",
            "ta-lib/src/tools/ta_regtest/ta_test_func/test_stddev.c\n",
            "ta-lib/src/tools/ta_regtest/ta_test_func/test_1in_2out.c\n",
            "ta-lib/src/tools/ta_regtest/ta_test_func/test_sar.c\n",
            "ta-lib/src/tools/ta_regtest/ta_test_func/test_1in_1out.c\n",
            "ta-lib/src/tools/ta_regtest/ta_test_func/test_trange.c\n",
            "ta-lib/src/tools/ta_regtest/ta_test_func/test_macd.c\n",
            "ta-lib/src/tools/ta_regtest/ta_test_func/test_po.c\n",
            "ta-lib/src/tools/ta_regtest/ta_test_func/test_per_hlc.c\n",
            "ta-lib/src/tools/ta_regtest/ta_test_func/test_mom.c\n",
            "ta-lib/src/tools/ta_regtest/ta_test_func/test_per_ohlc.c\n",
            "ta-lib/src/tools/ta_regtest/ta_test_func/test_adx.c\n",
            "ta-lib/src/tools/ta_regtest/ta_test_func/test_candlestick.c\n",
            "ta-lib/src/tools/ta_regtest/ta_test_func/test_rsi.c\n",
            "ta-lib/src/tools/ta_regtest/ta_test_func/test_per_ema.c\n",
            "ta-lib/src/tools/ta_regtest/ta_test_func/test_minmax.c\n",
            "ta-lib/src/tools/ta_regtest/ta_test_func/test_per_hlcv.c\n",
            "ta-lib/src/tools/ta_regtest/ta_test_func/test_per_hl.c\n",
            "ta-lib/src/tools/ta_regtest/ta_test_func/test_stoch.c\n",
            "ta-lib/src/tools/ta_regtest/ta_test_func/test_ma.c\n",
            "ta-lib/src/tools/ta_regtest/ta_error_number.h\n",
            "ta-lib/src/tools/ta_regtest/ta_test_priv.h\n",
            "ta-lib/src/tools/ta_regtest/ReadMe.txt\n",
            "ta-lib/src/tools/ta_regtest/ta_gDataLow.c\n",
            "ta-lib/src/tools/Makefile.in\n",
            "ta-lib/src/tools/Makefile.am\n",
            "ta-lib/src/tools/gen_code/\n",
            "ta-lib/src/tools/gen_code/java/\n",
            "ta-lib/src/tools/gen_code/java/PrettyCode.java\n",
            "ta-lib/src/tools/gen_code/java/Main.java\n",
            "ta-lib/src/tools/gen_code/gen_code.c\n",
            "ta-lib/src/tools/gen_code/Makefile.in\n",
            "ta-lib/src/tools/gen_code/Makefile.am\n",
            "ta-lib/src/tools/gen_code/mcpp.exe\n"
          ],
          "name": "stdout"
        }
      ]
    },
    {
      "cell_type": "code",
      "metadata": {
        "id": "9Imgb97l5zyP",
        "colab_type": "code",
        "outputId": "c8c25049-7c42-4240-870f-4dc097aa6bf2",
        "colab": {
          "base_uri": "https://localhost:8080/",
          "height": 35
        }
      },
      "source": [
        "!ls"
      ],
      "execution_count": 7,
      "outputs": [
        {
          "output_type": "stream",
          "text": [
            "drive  sample_data  ta-lib  ta-lib-0.4.0-src.tar.gz\n"
          ],
          "name": "stdout"
        }
      ]
    },
    {
      "cell_type": "code",
      "metadata": {
        "id": "-VT2pztQ503X",
        "colab_type": "code",
        "colab": {}
      },
      "source": [
        "os.chdir('ta-lib')"
      ],
      "execution_count": 0,
      "outputs": []
    },
    {
      "cell_type": "code",
      "metadata": {
        "id": "YLrg28-x55CE",
        "colab_type": "code",
        "colab": {
          "base_uri": "https://localhost:8080/",
          "height": 1000
        },
        "outputId": "149b3327-5b95-474e-d219-ec3d0f7526bc"
      },
      "source": [
        "!./configure --prefix=/usr"
      ],
      "execution_count": 9,
      "outputs": [
        {
          "output_type": "stream",
          "text": [
            "checking for a BSD-compatible install... /usr/bin/install -c\n",
            "checking whether build environment is sane... yes\n",
            "checking for a thread-safe mkdir -p... /bin/mkdir -p\n",
            "checking for gawk... no\n",
            "checking for mawk... mawk\n",
            "checking whether make sets $(MAKE)... yes\n",
            "checking for gcc... gcc\n",
            "checking for C compiler default output file name... a.out\n",
            "checking whether the C compiler works... yes\n",
            "checking whether we are cross compiling... no\n",
            "checking for suffix of executables... \n",
            "checking for suffix of object files... o\n",
            "checking whether we are using the GNU C compiler... yes\n",
            "checking whether gcc accepts -g... yes\n",
            "checking for gcc option to accept ISO C89... none needed\n",
            "checking for style of include used by make... GNU\n",
            "checking dependency style of gcc... gcc3\n",
            "checking build system type... x86_64-unknown-linux-gnu\n",
            "checking host system type... x86_64-unknown-linux-gnu\n",
            "checking for a sed that does not truncate output... /bin/sed\n",
            "checking for grep that handles long lines and -e... /bin/grep\n",
            "checking for egrep... /bin/grep -E\n",
            "checking for ld used by gcc... /usr/bin/ld\n",
            "checking if the linker (/usr/bin/ld) is GNU ld... yes\n",
            "checking for /usr/bin/ld option to reload object files... -r\n",
            "checking for BSD-compatible nm... /usr/bin/nm -B\n",
            "checking whether ln -s works... yes\n",
            "checking how to recognise dependent libraries... pass_all\n",
            "./configure: line 4354: /usr/bin/file: No such file or directory\n",
            "checking how to run the C preprocessor... gcc -E\n",
            "checking for ANSI C header files... yes\n",
            "checking for sys/types.h... yes\n",
            "checking for sys/stat.h... yes\n",
            "checking for stdlib.h... yes\n",
            "checking for string.h... yes\n",
            "checking for memory.h... yes\n",
            "checking for strings.h... yes\n",
            "checking for inttypes.h... yes\n",
            "checking for stdint.h... yes\n",
            "checking for unistd.h... yes\n",
            "checking dlfcn.h usability... yes\n",
            "checking dlfcn.h presence... yes\n",
            "checking for dlfcn.h... yes\n",
            "checking for g++... g++\n",
            "checking whether we are using the GNU C++ compiler... yes\n",
            "checking whether g++ accepts -g... yes\n",
            "checking dependency style of g++... gcc3\n",
            "checking how to run the C++ preprocessor... g++ -E\n",
            "checking for g77... no\n",
            "checking for xlf... no\n",
            "checking for f77... f77\n",
            "checking whether we are using the GNU Fortran 77 compiler... yes\n",
            "checking whether f77 accepts -g... yes\n",
            "checking the maximum length of command line arguments... 32768\n",
            "checking command to parse /usr/bin/nm -B output from gcc object... ok\n",
            "checking for objdir... .libs\n",
            "checking for ar... ar\n",
            "checking for ranlib... ranlib\n",
            "checking for strip... strip\n",
            "checking if gcc supports -fno-rtti -fno-exceptions... no\n",
            "checking for gcc option to produce PIC... -fPIC\n",
            "checking if gcc PIC flag -fPIC works... yes\n",
            "checking if gcc static flag -static works... yes\n",
            "checking if gcc supports -c -o file.o... yes\n",
            "checking whether the gcc linker (/usr/bin/ld) supports shared libraries... yes\n",
            "checking whether -lc should be explicitly linked in... no\n",
            "checking dynamic linker characteristics... GNU/Linux ld.so\n",
            "checking how to hardcode library paths into programs... immediate\n",
            "checking whether stripping libraries is possible... yes\n",
            "checking if libtool supports shared libraries... yes\n",
            "checking whether to build shared libraries... yes\n",
            "checking whether to build static libraries... yes\n",
            "configure: creating libtool\n",
            "appending configuration tag \"CXX\" to libtool\n",
            "checking for ld used by g++... /usr/bin/ld\n",
            "checking if the linker (/usr/bin/ld) is GNU ld... yes\n",
            "checking whether the g++ linker (/usr/bin/ld) supports shared libraries... yes\n",
            "checking for g++ option to produce PIC... -fPIC\n",
            "checking if g++ PIC flag -fPIC works... yes\n",
            "checking if g++ static flag -static works... yes\n",
            "checking if g++ supports -c -o file.o... yes\n",
            "checking whether the g++ linker (/usr/bin/ld) supports shared libraries... yes\n",
            "checking dynamic linker characteristics... GNU/Linux ld.so\n",
            "checking how to hardcode library paths into programs... immediate\n",
            "appending configuration tag \"F77\" to libtool\n",
            "checking if libtool supports shared libraries... yes\n",
            "checking whether to build shared libraries... yes\n",
            "checking whether to build static libraries... yes\n",
            "checking for f77 option to produce PIC... -fPIC\n",
            "checking if f77 PIC flag -fPIC works... yes\n",
            "checking if f77 static flag -static works... yes\n",
            "checking if f77 supports -c -o file.o... yes\n",
            "checking whether the f77 linker (/usr/bin/ld) supports shared libraries... yes\n",
            "checking dynamic linker characteristics... GNU/Linux ld.so\n",
            "checking how to hardcode library paths into programs... immediate\n",
            "checking for dlopen in -ldl... yes\n",
            "checking for pthread_create in -lpthread... yes\n",
            "checking for ANSI C header files... (cached) yes\n",
            "checking float.h usability... yes\n",
            "checking float.h presence... yes\n",
            "checking for float.h... yes\n",
            "checking for inttypes.h... (cached) yes\n",
            "checking limits.h usability... yes\n",
            "checking limits.h presence... yes\n",
            "checking for limits.h... yes\n",
            "checking locale.h usability... yes\n",
            "checking locale.h presence... yes\n",
            "checking for locale.h... yes\n",
            "checking stddef.h usability... yes\n",
            "checking stddef.h presence... yes\n",
            "checking for stddef.h... yes\n",
            "checking for stdint.h... (cached) yes\n",
            "checking for stdlib.h... (cached) yes\n",
            "checking for string.h... (cached) yes\n",
            "checking for unistd.h... (cached) yes\n",
            "checking wchar.h usability... yes\n",
            "checking wchar.h presence... yes\n",
            "checking for wchar.h... yes\n",
            "checking wctype.h usability... yes\n",
            "checking wctype.h presence... yes\n",
            "checking for wctype.h... yes\n",
            "checking for an ANSI C-conforming const... yes\n",
            "checking for size_t... yes\n",
            "checking whether struct tm is in sys/time.h or time.h... time.h\n",
            "checking for working volatile... yes\n",
            "checking for ptrdiff_t... yes\n",
            "checking return type of signal handlers... void\n",
            "checking for working strcoll... yes\n",
            "checking for strftime... yes\n",
            "checking for working strtod... yes\n",
            "checking for vprintf... yes\n",
            "checking for _doprnt... no\n",
            "checking for floor... no\n",
            "checking for isascii... yes\n",
            "checking for localeconv... yes\n",
            "checking for mblen... yes\n",
            "checking for memmove... yes\n",
            "checking for memset... yes\n",
            "checking for modf... yes\n",
            "checking for pow... no\n",
            "checking for sqrt... no\n",
            "checking for strcasecmp... yes\n",
            "checking for strchr... yes\n",
            "checking for strerror... yes\n",
            "checking for strncasecmp... yes\n",
            "checking for strrchr... yes\n",
            "checking for strstr... yes\n",
            "checking for strtol... yes\n",
            "checking for strtoul... yes\n",
            "configure: creating ./config.status\n",
            "config.status: creating Makefile\n",
            "config.status: creating src/Makefile\n",
            "config.status: creating src/ta_abstract/Makefile\n",
            "config.status: creating src/ta_common/Makefile\n",
            "config.status: creating src/ta_func/Makefile\n",
            "config.status: creating src/tools/Makefile\n",
            "config.status: creating src/tools/gen_code/Makefile\n",
            "config.status: creating src/tools/ta_regtest/Makefile\n",
            "config.status: creating ta-lib-config\n",
            "config.status: creating ta-lib.spec\n",
            "config.status: creating ta-lib.dpkg\n",
            "config.status: creating include/ta_config.h\n",
            "config.status: executing depfiles commands\n"
          ],
          "name": "stdout"
        }
      ]
    },
    {
      "cell_type": "code",
      "metadata": {
        "id": "SxIgScMM5_Me",
        "colab_type": "code",
        "colab": {
          "base_uri": "https://localhost:8080/",
          "height": 1000
        },
        "outputId": "2fd14ddf-c051-49a2-ab16-fa09cae7e6ec"
      },
      "source": [
        "!make"
      ],
      "execution_count": 10,
      "outputs": [
        {
          "output_type": "stream",
          "text": [
            "Making all in src\n",
            "make[1]: Entering directory '/content/ta-lib/src'\n",
            "Making all in ta_abstract\n",
            "make[2]: Entering directory '/content/ta-lib/src/ta_abstract'\n",
            "/bin/bash ../../libtool --tag=CC   --mode=compile gcc -DHAVE_CONFIG_H -I. -I../../include  -I../ta_common/ -Iframes/   -g -O2 -MT libta_abstract_la-ta_group_idx.lo -MD -MP -MF .deps/libta_abstract_la-ta_group_idx.Tpo -c -o libta_abstract_la-ta_group_idx.lo `test -f 'ta_group_idx.c' || echo './'`ta_group_idx.c\n",
            "mkdir .libs\n",
            " gcc -DHAVE_CONFIG_H -I. -I../../include -I../ta_common/ -Iframes/ -g -O2 -MT libta_abstract_la-ta_group_idx.lo -MD -MP -MF .deps/libta_abstract_la-ta_group_idx.Tpo -c ta_group_idx.c  -fPIC -DPIC -o .libs/libta_abstract_la-ta_group_idx.o\n",
            " gcc -DHAVE_CONFIG_H -I. -I../../include -I../ta_common/ -Iframes/ -g -O2 -MT libta_abstract_la-ta_group_idx.lo -MD -MP -MF .deps/libta_abstract_la-ta_group_idx.Tpo -c ta_group_idx.c -o libta_abstract_la-ta_group_idx.o >/dev/null 2>&1\n",
            "mv -f .deps/libta_abstract_la-ta_group_idx.Tpo .deps/libta_abstract_la-ta_group_idx.Plo\n",
            "/bin/bash ../../libtool --tag=CC   --mode=compile gcc -DHAVE_CONFIG_H -I. -I../../include  -I../ta_common/ -Iframes/   -g -O2 -MT libta_abstract_la-ta_def_ui.lo -MD -MP -MF .deps/libta_abstract_la-ta_def_ui.Tpo -c -o libta_abstract_la-ta_def_ui.lo `test -f 'ta_def_ui.c' || echo './'`ta_def_ui.c\n",
            " gcc -DHAVE_CONFIG_H -I. -I../../include -I../ta_common/ -Iframes/ -g -O2 -MT libta_abstract_la-ta_def_ui.lo -MD -MP -MF .deps/libta_abstract_la-ta_def_ui.Tpo -c ta_def_ui.c  -fPIC -DPIC -o .libs/libta_abstract_la-ta_def_ui.o\n",
            " gcc -DHAVE_CONFIG_H -I. -I../../include -I../ta_common/ -Iframes/ -g -O2 -MT libta_abstract_la-ta_def_ui.lo -MD -MP -MF .deps/libta_abstract_la-ta_def_ui.Tpo -c ta_def_ui.c -o libta_abstract_la-ta_def_ui.o >/dev/null 2>&1\n",
            "mv -f .deps/libta_abstract_la-ta_def_ui.Tpo .deps/libta_abstract_la-ta_def_ui.Plo\n",
            "/bin/bash ../../libtool --tag=CC   --mode=compile gcc -DHAVE_CONFIG_H -I. -I../../include  -I../ta_common/ -Iframes/   -g -O2 -MT libta_abstract_la-ta_abstract.lo -MD -MP -MF .deps/libta_abstract_la-ta_abstract.Tpo -c -o libta_abstract_la-ta_abstract.lo `test -f 'ta_abstract.c' || echo './'`ta_abstract.c\n",
            " gcc -DHAVE_CONFIG_H -I. -I../../include -I../ta_common/ -Iframes/ -g -O2 -MT libta_abstract_la-ta_abstract.lo -MD -MP -MF .deps/libta_abstract_la-ta_abstract.Tpo -c ta_abstract.c  -fPIC -DPIC -o .libs/libta_abstract_la-ta_abstract.o\n",
            " gcc -DHAVE_CONFIG_H -I. -I../../include -I../ta_common/ -Iframes/ -g -O2 -MT libta_abstract_la-ta_abstract.lo -MD -MP -MF .deps/libta_abstract_la-ta_abstract.Tpo -c ta_abstract.c -o libta_abstract_la-ta_abstract.o >/dev/null 2>&1\n",
            "mv -f .deps/libta_abstract_la-ta_abstract.Tpo .deps/libta_abstract_la-ta_abstract.Plo\n",
            "/bin/bash ../../libtool --tag=CC   --mode=compile gcc -DHAVE_CONFIG_H -I. -I../../include  -I../ta_common/ -Iframes/   -g -O2 -MT libta_abstract_la-ta_func_api.lo -MD -MP -MF .deps/libta_abstract_la-ta_func_api.Tpo -c -o libta_abstract_la-ta_func_api.lo `test -f 'ta_func_api.c' || echo './'`ta_func_api.c\n",
            " gcc -DHAVE_CONFIG_H -I. -I../../include -I../ta_common/ -Iframes/ -g -O2 -MT libta_abstract_la-ta_func_api.lo -MD -MP -MF .deps/libta_abstract_la-ta_func_api.Tpo -c ta_func_api.c  -fPIC -DPIC -o .libs/libta_abstract_la-ta_func_api.o\n",
            " gcc -DHAVE_CONFIG_H -I. -I../../include -I../ta_common/ -Iframes/ -g -O2 -MT libta_abstract_la-ta_func_api.lo -MD -MP -MF .deps/libta_abstract_la-ta_func_api.Tpo -c ta_func_api.c -o libta_abstract_la-ta_func_api.o >/dev/null 2>&1\n",
            "mv -f .deps/libta_abstract_la-ta_func_api.Tpo .deps/libta_abstract_la-ta_func_api.Plo\n",
            "/bin/bash ../../libtool --tag=CC   --mode=compile gcc -DHAVE_CONFIG_H -I. -I../../include  -I../ta_common/ -Iframes/   -g -O2 -MT libta_abstract_la-ta_frame.lo -MD -MP -MF .deps/libta_abstract_la-ta_frame.Tpo -c -o libta_abstract_la-ta_frame.lo `test -f 'frames/ta_frame.c' || echo './'`frames/ta_frame.c\n",
            " gcc -DHAVE_CONFIG_H -I. -I../../include -I../ta_common/ -Iframes/ -g -O2 -MT libta_abstract_la-ta_frame.lo -MD -MP -MF .deps/libta_abstract_la-ta_frame.Tpo -c frames/ta_frame.c  -fPIC -DPIC -o .libs/libta_abstract_la-ta_frame.o\n",
            " gcc -DHAVE_CONFIG_H -I. -I../../include -I../ta_common/ -Iframes/ -g -O2 -MT libta_abstract_la-ta_frame.lo -MD -MP -MF .deps/libta_abstract_la-ta_frame.Tpo -c frames/ta_frame.c -o libta_abstract_la-ta_frame.o >/dev/null 2>&1\n",
            "mv -f .deps/libta_abstract_la-ta_frame.Tpo .deps/libta_abstract_la-ta_frame.Plo\n",
            "/bin/bash ../../libtool --tag=CC   --mode=compile gcc -DHAVE_CONFIG_H -I. -I../../include  -I../ta_common/ -Iframes/   -g -O2 -MT libta_abstract_la-table_a.lo -MD -MP -MF .deps/libta_abstract_la-table_a.Tpo -c -o libta_abstract_la-table_a.lo `test -f 'tables/table_a.c' || echo './'`tables/table_a.c\n",
            " gcc -DHAVE_CONFIG_H -I. -I../../include -I../ta_common/ -Iframes/ -g -O2 -MT libta_abstract_la-table_a.lo -MD -MP -MF .deps/libta_abstract_la-table_a.Tpo -c tables/table_a.c  -fPIC -DPIC -o .libs/libta_abstract_la-table_a.o\n",
            " gcc -DHAVE_CONFIG_H -I. -I../../include -I../ta_common/ -Iframes/ -g -O2 -MT libta_abstract_la-table_a.lo -MD -MP -MF .deps/libta_abstract_la-table_a.Tpo -c tables/table_a.c -o libta_abstract_la-table_a.o >/dev/null 2>&1\n",
            "mv -f .deps/libta_abstract_la-table_a.Tpo .deps/libta_abstract_la-table_a.Plo\n",
            "/bin/bash ../../libtool --tag=CC   --mode=compile gcc -DHAVE_CONFIG_H -I. -I../../include  -I../ta_common/ -Iframes/   -g -O2 -MT libta_abstract_la-table_b.lo -MD -MP -MF .deps/libta_abstract_la-table_b.Tpo -c -o libta_abstract_la-table_b.lo `test -f 'tables/table_b.c' || echo './'`tables/table_b.c\n",
            " gcc -DHAVE_CONFIG_H -I. -I../../include -I../ta_common/ -Iframes/ -g -O2 -MT libta_abstract_la-table_b.lo -MD -MP -MF .deps/libta_abstract_la-table_b.Tpo -c tables/table_b.c  -fPIC -DPIC -o .libs/libta_abstract_la-table_b.o\n",
            " gcc -DHAVE_CONFIG_H -I. -I../../include -I../ta_common/ -Iframes/ -g -O2 -MT libta_abstract_la-table_b.lo -MD -MP -MF .deps/libta_abstract_la-table_b.Tpo -c tables/table_b.c -o libta_abstract_la-table_b.o >/dev/null 2>&1\n",
            "mv -f .deps/libta_abstract_la-table_b.Tpo .deps/libta_abstract_la-table_b.Plo\n",
            "/bin/bash ../../libtool --tag=CC   --mode=compile gcc -DHAVE_CONFIG_H -I. -I../../include  -I../ta_common/ -Iframes/   -g -O2 -MT libta_abstract_la-table_c.lo -MD -MP -MF .deps/libta_abstract_la-table_c.Tpo -c -o libta_abstract_la-table_c.lo `test -f 'tables/table_c.c' || echo './'`tables/table_c.c\n",
            " gcc -DHAVE_CONFIG_H -I. -I../../include -I../ta_common/ -Iframes/ -g -O2 -MT libta_abstract_la-table_c.lo -MD -MP -MF .deps/libta_abstract_la-table_c.Tpo -c tables/table_c.c  -fPIC -DPIC -o .libs/libta_abstract_la-table_c.o\n",
            " gcc -DHAVE_CONFIG_H -I. -I../../include -I../ta_common/ -Iframes/ -g -O2 -MT libta_abstract_la-table_c.lo -MD -MP -MF .deps/libta_abstract_la-table_c.Tpo -c tables/table_c.c -o libta_abstract_la-table_c.o >/dev/null 2>&1\n",
            "mv -f .deps/libta_abstract_la-table_c.Tpo .deps/libta_abstract_la-table_c.Plo\n",
            "/bin/bash ../../libtool --tag=CC   --mode=compile gcc -DHAVE_CONFIG_H -I. -I../../include  -I../ta_common/ -Iframes/   -g -O2 -MT libta_abstract_la-table_d.lo -MD -MP -MF .deps/libta_abstract_la-table_d.Tpo -c -o libta_abstract_la-table_d.lo `test -f 'tables/table_d.c' || echo './'`tables/table_d.c\n",
            " gcc -DHAVE_CONFIG_H -I. -I../../include -I../ta_common/ -Iframes/ -g -O2 -MT libta_abstract_la-table_d.lo -MD -MP -MF .deps/libta_abstract_la-table_d.Tpo -c tables/table_d.c  -fPIC -DPIC -o .libs/libta_abstract_la-table_d.o\n",
            " gcc -DHAVE_CONFIG_H -I. -I../../include -I../ta_common/ -Iframes/ -g -O2 -MT libta_abstract_la-table_d.lo -MD -MP -MF .deps/libta_abstract_la-table_d.Tpo -c tables/table_d.c -o libta_abstract_la-table_d.o >/dev/null 2>&1\n",
            "mv -f .deps/libta_abstract_la-table_d.Tpo .deps/libta_abstract_la-table_d.Plo\n",
            "/bin/bash ../../libtool --tag=CC   --mode=compile gcc -DHAVE_CONFIG_H -I. -I../../include  -I../ta_common/ -Iframes/   -g -O2 -MT libta_abstract_la-table_e.lo -MD -MP -MF .deps/libta_abstract_la-table_e.Tpo -c -o libta_abstract_la-table_e.lo `test -f 'tables/table_e.c' || echo './'`tables/table_e.c\n",
            " gcc -DHAVE_CONFIG_H -I. -I../../include -I../ta_common/ -Iframes/ -g -O2 -MT libta_abstract_la-table_e.lo -MD -MP -MF .deps/libta_abstract_la-table_e.Tpo -c tables/table_e.c  -fPIC -DPIC -o .libs/libta_abstract_la-table_e.o\n",
            " gcc -DHAVE_CONFIG_H -I. -I../../include -I../ta_common/ -Iframes/ -g -O2 -MT libta_abstract_la-table_e.lo -MD -MP -MF .deps/libta_abstract_la-table_e.Tpo -c tables/table_e.c -o libta_abstract_la-table_e.o >/dev/null 2>&1\n",
            "mv -f .deps/libta_abstract_la-table_e.Tpo .deps/libta_abstract_la-table_e.Plo\n",
            "/bin/bash ../../libtool --tag=CC   --mode=compile gcc -DHAVE_CONFIG_H -I. -I../../include  -I../ta_common/ -Iframes/   -g -O2 -MT libta_abstract_la-table_f.lo -MD -MP -MF .deps/libta_abstract_la-table_f.Tpo -c -o libta_abstract_la-table_f.lo `test -f 'tables/table_f.c' || echo './'`tables/table_f.c\n",
            " gcc -DHAVE_CONFIG_H -I. -I../../include -I../ta_common/ -Iframes/ -g -O2 -MT libta_abstract_la-table_f.lo -MD -MP -MF .deps/libta_abstract_la-table_f.Tpo -c tables/table_f.c  -fPIC -DPIC -o .libs/libta_abstract_la-table_f.o\n",
            " gcc -DHAVE_CONFIG_H -I. -I../../include -I../ta_common/ -Iframes/ -g -O2 -MT libta_abstract_la-table_f.lo -MD -MP -MF .deps/libta_abstract_la-table_f.Tpo -c tables/table_f.c -o libta_abstract_la-table_f.o >/dev/null 2>&1\n",
            "mv -f .deps/libta_abstract_la-table_f.Tpo .deps/libta_abstract_la-table_f.Plo\n",
            "/bin/bash ../../libtool --tag=CC   --mode=compile gcc -DHAVE_CONFIG_H -I. -I../../include  -I../ta_common/ -Iframes/   -g -O2 -MT libta_abstract_la-table_g.lo -MD -MP -MF .deps/libta_abstract_la-table_g.Tpo -c -o libta_abstract_la-table_g.lo `test -f 'tables/table_g.c' || echo './'`tables/table_g.c\n",
            " gcc -DHAVE_CONFIG_H -I. -I../../include -I../ta_common/ -Iframes/ -g -O2 -MT libta_abstract_la-table_g.lo -MD -MP -MF .deps/libta_abstract_la-table_g.Tpo -c tables/table_g.c  -fPIC -DPIC -o .libs/libta_abstract_la-table_g.o\n",
            " gcc -DHAVE_CONFIG_H -I. -I../../include -I../ta_common/ -Iframes/ -g -O2 -MT libta_abstract_la-table_g.lo -MD -MP -MF .deps/libta_abstract_la-table_g.Tpo -c tables/table_g.c -o libta_abstract_la-table_g.o >/dev/null 2>&1\n",
            "mv -f .deps/libta_abstract_la-table_g.Tpo .deps/libta_abstract_la-table_g.Plo\n",
            "/bin/bash ../../libtool --tag=CC   --mode=compile gcc -DHAVE_CONFIG_H -I. -I../../include  -I../ta_common/ -Iframes/   -g -O2 -MT libta_abstract_la-table_h.lo -MD -MP -MF .deps/libta_abstract_la-table_h.Tpo -c -o libta_abstract_la-table_h.lo `test -f 'tables/table_h.c' || echo './'`tables/table_h.c\n",
            " gcc -DHAVE_CONFIG_H -I. -I../../include -I../ta_common/ -Iframes/ -g -O2 -MT libta_abstract_la-table_h.lo -MD -MP -MF .deps/libta_abstract_la-table_h.Tpo -c tables/table_h.c  -fPIC -DPIC -o .libs/libta_abstract_la-table_h.o\n",
            " gcc -DHAVE_CONFIG_H -I. -I../../include -I../ta_common/ -Iframes/ -g -O2 -MT libta_abstract_la-table_h.lo -MD -MP -MF .deps/libta_abstract_la-table_h.Tpo -c tables/table_h.c -o libta_abstract_la-table_h.o >/dev/null 2>&1\n",
            "mv -f .deps/libta_abstract_la-table_h.Tpo .deps/libta_abstract_la-table_h.Plo\n",
            "/bin/bash ../../libtool --tag=CC   --mode=compile gcc -DHAVE_CONFIG_H -I. -I../../include  -I../ta_common/ -Iframes/   -g -O2 -MT libta_abstract_la-table_i.lo -MD -MP -MF .deps/libta_abstract_la-table_i.Tpo -c -o libta_abstract_la-table_i.lo `test -f 'tables/table_i.c' || echo './'`tables/table_i.c\n",
            " gcc -DHAVE_CONFIG_H -I. -I../../include -I../ta_common/ -Iframes/ -g -O2 -MT libta_abstract_la-table_i.lo -MD -MP -MF .deps/libta_abstract_la-table_i.Tpo -c tables/table_i.c  -fPIC -DPIC -o .libs/libta_abstract_la-table_i.o\n",
            " gcc -DHAVE_CONFIG_H -I. -I../../include -I../ta_common/ -Iframes/ -g -O2 -MT libta_abstract_la-table_i.lo -MD -MP -MF .deps/libta_abstract_la-table_i.Tpo -c tables/table_i.c -o libta_abstract_la-table_i.o >/dev/null 2>&1\n",
            "mv -f .deps/libta_abstract_la-table_i.Tpo .deps/libta_abstract_la-table_i.Plo\n",
            "/bin/bash ../../libtool --tag=CC   --mode=compile gcc -DHAVE_CONFIG_H -I. -I../../include  -I../ta_common/ -Iframes/   -g -O2 -MT libta_abstract_la-table_j.lo -MD -MP -MF .deps/libta_abstract_la-table_j.Tpo -c -o libta_abstract_la-table_j.lo `test -f 'tables/table_j.c' || echo './'`tables/table_j.c\n",
            " gcc -DHAVE_CONFIG_H -I. -I../../include -I../ta_common/ -Iframes/ -g -O2 -MT libta_abstract_la-table_j.lo -MD -MP -MF .deps/libta_abstract_la-table_j.Tpo -c tables/table_j.c  -fPIC -DPIC -o .libs/libta_abstract_la-table_j.o\n",
            " gcc -DHAVE_CONFIG_H -I. -I../../include -I../ta_common/ -Iframes/ -g -O2 -MT libta_abstract_la-table_j.lo -MD -MP -MF .deps/libta_abstract_la-table_j.Tpo -c tables/table_j.c -o libta_abstract_la-table_j.o >/dev/null 2>&1\n",
            "mv -f .deps/libta_abstract_la-table_j.Tpo .deps/libta_abstract_la-table_j.Plo\n",
            "/bin/bash ../../libtool --tag=CC   --mode=compile gcc -DHAVE_CONFIG_H -I. -I../../include  -I../ta_common/ -Iframes/   -g -O2 -MT libta_abstract_la-table_k.lo -MD -MP -MF .deps/libta_abstract_la-table_k.Tpo -c -o libta_abstract_la-table_k.lo `test -f 'tables/table_k.c' || echo './'`tables/table_k.c\n",
            " gcc -DHAVE_CONFIG_H -I. -I../../include -I../ta_common/ -Iframes/ -g -O2 -MT libta_abstract_la-table_k.lo -MD -MP -MF .deps/libta_abstract_la-table_k.Tpo -c tables/table_k.c  -fPIC -DPIC -o .libs/libta_abstract_la-table_k.o\n",
            " gcc -DHAVE_CONFIG_H -I. -I../../include -I../ta_common/ -Iframes/ -g -O2 -MT libta_abstract_la-table_k.lo -MD -MP -MF .deps/libta_abstract_la-table_k.Tpo -c tables/table_k.c -o libta_abstract_la-table_k.o >/dev/null 2>&1\n",
            "mv -f .deps/libta_abstract_la-table_k.Tpo .deps/libta_abstract_la-table_k.Plo\n",
            "/bin/bash ../../libtool --tag=CC   --mode=compile gcc -DHAVE_CONFIG_H -I. -I../../include  -I../ta_common/ -Iframes/   -g -O2 -MT libta_abstract_la-table_l.lo -MD -MP -MF .deps/libta_abstract_la-table_l.Tpo -c -o libta_abstract_la-table_l.lo `test -f 'tables/table_l.c' || echo './'`tables/table_l.c\n",
            " gcc -DHAVE_CONFIG_H -I. -I../../include -I../ta_common/ -Iframes/ -g -O2 -MT libta_abstract_la-table_l.lo -MD -MP -MF .deps/libta_abstract_la-table_l.Tpo -c tables/table_l.c  -fPIC -DPIC -o .libs/libta_abstract_la-table_l.o\n",
            " gcc -DHAVE_CONFIG_H -I. -I../../include -I../ta_common/ -Iframes/ -g -O2 -MT libta_abstract_la-table_l.lo -MD -MP -MF .deps/libta_abstract_la-table_l.Tpo -c tables/table_l.c -o libta_abstract_la-table_l.o >/dev/null 2>&1\n",
            "mv -f .deps/libta_abstract_la-table_l.Tpo .deps/libta_abstract_la-table_l.Plo\n",
            "/bin/bash ../../libtool --tag=CC   --mode=compile gcc -DHAVE_CONFIG_H -I. -I../../include  -I../ta_common/ -Iframes/   -g -O2 -MT libta_abstract_la-table_m.lo -MD -MP -MF .deps/libta_abstract_la-table_m.Tpo -c -o libta_abstract_la-table_m.lo `test -f 'tables/table_m.c' || echo './'`tables/table_m.c\n",
            " gcc -DHAVE_CONFIG_H -I. -I../../include -I../ta_common/ -Iframes/ -g -O2 -MT libta_abstract_la-table_m.lo -MD -MP -MF .deps/libta_abstract_la-table_m.Tpo -c tables/table_m.c  -fPIC -DPIC -o .libs/libta_abstract_la-table_m.o\n",
            " gcc -DHAVE_CONFIG_H -I. -I../../include -I../ta_common/ -Iframes/ -g -O2 -MT libta_abstract_la-table_m.lo -MD -MP -MF .deps/libta_abstract_la-table_m.Tpo -c tables/table_m.c -o libta_abstract_la-table_m.o >/dev/null 2>&1\n",
            "mv -f .deps/libta_abstract_la-table_m.Tpo .deps/libta_abstract_la-table_m.Plo\n",
            "/bin/bash ../../libtool --tag=CC   --mode=compile gcc -DHAVE_CONFIG_H -I. -I../../include  -I../ta_common/ -Iframes/   -g -O2 -MT libta_abstract_la-table_n.lo -MD -MP -MF .deps/libta_abstract_la-table_n.Tpo -c -o libta_abstract_la-table_n.lo `test -f 'tables/table_n.c' || echo './'`tables/table_n.c\n",
            " gcc -DHAVE_CONFIG_H -I. -I../../include -I../ta_common/ -Iframes/ -g -O2 -MT libta_abstract_la-table_n.lo -MD -MP -MF .deps/libta_abstract_la-table_n.Tpo -c tables/table_n.c  -fPIC -DPIC -o .libs/libta_abstract_la-table_n.o\n",
            " gcc -DHAVE_CONFIG_H -I. -I../../include -I../ta_common/ -Iframes/ -g -O2 -MT libta_abstract_la-table_n.lo -MD -MP -MF .deps/libta_abstract_la-table_n.Tpo -c tables/table_n.c -o libta_abstract_la-table_n.o >/dev/null 2>&1\n",
            "mv -f .deps/libta_abstract_la-table_n.Tpo .deps/libta_abstract_la-table_n.Plo\n",
            "/bin/bash ../../libtool --tag=CC   --mode=compile gcc -DHAVE_CONFIG_H -I. -I../../include  -I../ta_common/ -Iframes/   -g -O2 -MT libta_abstract_la-table_o.lo -MD -MP -MF .deps/libta_abstract_la-table_o.Tpo -c -o libta_abstract_la-table_o.lo `test -f 'tables/table_o.c' || echo './'`tables/table_o.c\n",
            " gcc -DHAVE_CONFIG_H -I. -I../../include -I../ta_common/ -Iframes/ -g -O2 -MT libta_abstract_la-table_o.lo -MD -MP -MF .deps/libta_abstract_la-table_o.Tpo -c tables/table_o.c  -fPIC -DPIC -o .libs/libta_abstract_la-table_o.o\n",
            " gcc -DHAVE_CONFIG_H -I. -I../../include -I../ta_common/ -Iframes/ -g -O2 -MT libta_abstract_la-table_o.lo -MD -MP -MF .deps/libta_abstract_la-table_o.Tpo -c tables/table_o.c -o libta_abstract_la-table_o.o >/dev/null 2>&1\n",
            "mv -f .deps/libta_abstract_la-table_o.Tpo .deps/libta_abstract_la-table_o.Plo\n",
            "/bin/bash ../../libtool --tag=CC   --mode=compile gcc -DHAVE_CONFIG_H -I. -I../../include  -I../ta_common/ -Iframes/   -g -O2 -MT libta_abstract_la-table_p.lo -MD -MP -MF .deps/libta_abstract_la-table_p.Tpo -c -o libta_abstract_la-table_p.lo `test -f 'tables/table_p.c' || echo './'`tables/table_p.c\n",
            " gcc -DHAVE_CONFIG_H -I. -I../../include -I../ta_common/ -Iframes/ -g -O2 -MT libta_abstract_la-table_p.lo -MD -MP -MF .deps/libta_abstract_la-table_p.Tpo -c tables/table_p.c  -fPIC -DPIC -o .libs/libta_abstract_la-table_p.o\n",
            " gcc -DHAVE_CONFIG_H -I. -I../../include -I../ta_common/ -Iframes/ -g -O2 -MT libta_abstract_la-table_p.lo -MD -MP -MF .deps/libta_abstract_la-table_p.Tpo -c tables/table_p.c -o libta_abstract_la-table_p.o >/dev/null 2>&1\n",
            "mv -f .deps/libta_abstract_la-table_p.Tpo .deps/libta_abstract_la-table_p.Plo\n",
            "/bin/bash ../../libtool --tag=CC   --mode=compile gcc -DHAVE_CONFIG_H -I. -I../../include  -I../ta_common/ -Iframes/   -g -O2 -MT libta_abstract_la-table_q.lo -MD -MP -MF .deps/libta_abstract_la-table_q.Tpo -c -o libta_abstract_la-table_q.lo `test -f 'tables/table_q.c' || echo './'`tables/table_q.c\n",
            " gcc -DHAVE_CONFIG_H -I. -I../../include -I../ta_common/ -Iframes/ -g -O2 -MT libta_abstract_la-table_q.lo -MD -MP -MF .deps/libta_abstract_la-table_q.Tpo -c tables/table_q.c  -fPIC -DPIC -o .libs/libta_abstract_la-table_q.o\n",
            " gcc -DHAVE_CONFIG_H -I. -I../../include -I../ta_common/ -Iframes/ -g -O2 -MT libta_abstract_la-table_q.lo -MD -MP -MF .deps/libta_abstract_la-table_q.Tpo -c tables/table_q.c -o libta_abstract_la-table_q.o >/dev/null 2>&1\n",
            "mv -f .deps/libta_abstract_la-table_q.Tpo .deps/libta_abstract_la-table_q.Plo\n",
            "/bin/bash ../../libtool --tag=CC   --mode=compile gcc -DHAVE_CONFIG_H -I. -I../../include  -I../ta_common/ -Iframes/   -g -O2 -MT libta_abstract_la-table_r.lo -MD -MP -MF .deps/libta_abstract_la-table_r.Tpo -c -o libta_abstract_la-table_r.lo `test -f 'tables/table_r.c' || echo './'`tables/table_r.c\n",
            " gcc -DHAVE_CONFIG_H -I. -I../../include -I../ta_common/ -Iframes/ -g -O2 -MT libta_abstract_la-table_r.lo -MD -MP -MF .deps/libta_abstract_la-table_r.Tpo -c tables/table_r.c  -fPIC -DPIC -o .libs/libta_abstract_la-table_r.o\n",
            " gcc -DHAVE_CONFIG_H -I. -I../../include -I../ta_common/ -Iframes/ -g -O2 -MT libta_abstract_la-table_r.lo -MD -MP -MF .deps/libta_abstract_la-table_r.Tpo -c tables/table_r.c -o libta_abstract_la-table_r.o >/dev/null 2>&1\n",
            "mv -f .deps/libta_abstract_la-table_r.Tpo .deps/libta_abstract_la-table_r.Plo\n",
            "/bin/bash ../../libtool --tag=CC   --mode=compile gcc -DHAVE_CONFIG_H -I. -I../../include  -I../ta_common/ -Iframes/   -g -O2 -MT libta_abstract_la-table_s.lo -MD -MP -MF .deps/libta_abstract_la-table_s.Tpo -c -o libta_abstract_la-table_s.lo `test -f 'tables/table_s.c' || echo './'`tables/table_s.c\n",
            " gcc -DHAVE_CONFIG_H -I. -I../../include -I../ta_common/ -Iframes/ -g -O2 -MT libta_abstract_la-table_s.lo -MD -MP -MF .deps/libta_abstract_la-table_s.Tpo -c tables/table_s.c  -fPIC -DPIC -o .libs/libta_abstract_la-table_s.o\n",
            " gcc -DHAVE_CONFIG_H -I. -I../../include -I../ta_common/ -Iframes/ -g -O2 -MT libta_abstract_la-table_s.lo -MD -MP -MF .deps/libta_abstract_la-table_s.Tpo -c tables/table_s.c -o libta_abstract_la-table_s.o >/dev/null 2>&1\n",
            "mv -f .deps/libta_abstract_la-table_s.Tpo .deps/libta_abstract_la-table_s.Plo\n",
            "/bin/bash ../../libtool --tag=CC   --mode=compile gcc -DHAVE_CONFIG_H -I. -I../../include  -I../ta_common/ -Iframes/   -g -O2 -MT libta_abstract_la-table_t.lo -MD -MP -MF .deps/libta_abstract_la-table_t.Tpo -c -o libta_abstract_la-table_t.lo `test -f 'tables/table_t.c' || echo './'`tables/table_t.c\n",
            " gcc -DHAVE_CONFIG_H -I. -I../../include -I../ta_common/ -Iframes/ -g -O2 -MT libta_abstract_la-table_t.lo -MD -MP -MF .deps/libta_abstract_la-table_t.Tpo -c tables/table_t.c  -fPIC -DPIC -o .libs/libta_abstract_la-table_t.o\n",
            " gcc -DHAVE_CONFIG_H -I. -I../../include -I../ta_common/ -Iframes/ -g -O2 -MT libta_abstract_la-table_t.lo -MD -MP -MF .deps/libta_abstract_la-table_t.Tpo -c tables/table_t.c -o libta_abstract_la-table_t.o >/dev/null 2>&1\n",
            "mv -f .deps/libta_abstract_la-table_t.Tpo .deps/libta_abstract_la-table_t.Plo\n",
            "/bin/bash ../../libtool --tag=CC   --mode=compile gcc -DHAVE_CONFIG_H -I. -I../../include  -I../ta_common/ -Iframes/   -g -O2 -MT libta_abstract_la-table_u.lo -MD -MP -MF .deps/libta_abstract_la-table_u.Tpo -c -o libta_abstract_la-table_u.lo `test -f 'tables/table_u.c' || echo './'`tables/table_u.c\n",
            " gcc -DHAVE_CONFIG_H -I. -I../../include -I../ta_common/ -Iframes/ -g -O2 -MT libta_abstract_la-table_u.lo -MD -MP -MF .deps/libta_abstract_la-table_u.Tpo -c tables/table_u.c  -fPIC -DPIC -o .libs/libta_abstract_la-table_u.o\n",
            " gcc -DHAVE_CONFIG_H -I. -I../../include -I../ta_common/ -Iframes/ -g -O2 -MT libta_abstract_la-table_u.lo -MD -MP -MF .deps/libta_abstract_la-table_u.Tpo -c tables/table_u.c -o libta_abstract_la-table_u.o >/dev/null 2>&1\n",
            "mv -f .deps/libta_abstract_la-table_u.Tpo .deps/libta_abstract_la-table_u.Plo\n",
            "/bin/bash ../../libtool --tag=CC   --mode=compile gcc -DHAVE_CONFIG_H -I. -I../../include  -I../ta_common/ -Iframes/   -g -O2 -MT libta_abstract_la-table_v.lo -MD -MP -MF .deps/libta_abstract_la-table_v.Tpo -c -o libta_abstract_la-table_v.lo `test -f 'tables/table_v.c' || echo './'`tables/table_v.c\n",
            " gcc -DHAVE_CONFIG_H -I. -I../../include -I../ta_common/ -Iframes/ -g -O2 -MT libta_abstract_la-table_v.lo -MD -MP -MF .deps/libta_abstract_la-table_v.Tpo -c tables/table_v.c  -fPIC -DPIC -o .libs/libta_abstract_la-table_v.o\n",
            " gcc -DHAVE_CONFIG_H -I. -I../../include -I../ta_common/ -Iframes/ -g -O2 -MT libta_abstract_la-table_v.lo -MD -MP -MF .deps/libta_abstract_la-table_v.Tpo -c tables/table_v.c -o libta_abstract_la-table_v.o >/dev/null 2>&1\n",
            "mv -f .deps/libta_abstract_la-table_v.Tpo .deps/libta_abstract_la-table_v.Plo\n",
            "/bin/bash ../../libtool --tag=CC   --mode=compile gcc -DHAVE_CONFIG_H -I. -I../../include  -I../ta_common/ -Iframes/   -g -O2 -MT libta_abstract_la-table_w.lo -MD -MP -MF .deps/libta_abstract_la-table_w.Tpo -c -o libta_abstract_la-table_w.lo `test -f 'tables/table_w.c' || echo './'`tables/table_w.c\n",
            " gcc -DHAVE_CONFIG_H -I. -I../../include -I../ta_common/ -Iframes/ -g -O2 -MT libta_abstract_la-table_w.lo -MD -MP -MF .deps/libta_abstract_la-table_w.Tpo -c tables/table_w.c  -fPIC -DPIC -o .libs/libta_abstract_la-table_w.o\n",
            " gcc -DHAVE_CONFIG_H -I. -I../../include -I../ta_common/ -Iframes/ -g -O2 -MT libta_abstract_la-table_w.lo -MD -MP -MF .deps/libta_abstract_la-table_w.Tpo -c tables/table_w.c -o libta_abstract_la-table_w.o >/dev/null 2>&1\n",
            "mv -f .deps/libta_abstract_la-table_w.Tpo .deps/libta_abstract_la-table_w.Plo\n",
            "/bin/bash ../../libtool --tag=CC   --mode=compile gcc -DHAVE_CONFIG_H -I. -I../../include  -I../ta_common/ -Iframes/   -g -O2 -MT libta_abstract_la-table_x.lo -MD -MP -MF .deps/libta_abstract_la-table_x.Tpo -c -o libta_abstract_la-table_x.lo `test -f 'tables/table_x.c' || echo './'`tables/table_x.c\n",
            " gcc -DHAVE_CONFIG_H -I. -I../../include -I../ta_common/ -Iframes/ -g -O2 -MT libta_abstract_la-table_x.lo -MD -MP -MF .deps/libta_abstract_la-table_x.Tpo -c tables/table_x.c  -fPIC -DPIC -o .libs/libta_abstract_la-table_x.o\n",
            " gcc -DHAVE_CONFIG_H -I. -I../../include -I../ta_common/ -Iframes/ -g -O2 -MT libta_abstract_la-table_x.lo -MD -MP -MF .deps/libta_abstract_la-table_x.Tpo -c tables/table_x.c -o libta_abstract_la-table_x.o >/dev/null 2>&1\n",
            "mv -f .deps/libta_abstract_la-table_x.Tpo .deps/libta_abstract_la-table_x.Plo\n",
            "/bin/bash ../../libtool --tag=CC   --mode=compile gcc -DHAVE_CONFIG_H -I. -I../../include  -I../ta_common/ -Iframes/   -g -O2 -MT libta_abstract_la-table_y.lo -MD -MP -MF .deps/libta_abstract_la-table_y.Tpo -c -o libta_abstract_la-table_y.lo `test -f 'tables/table_y.c' || echo './'`tables/table_y.c\n",
            " gcc -DHAVE_CONFIG_H -I. -I../../include -I../ta_common/ -Iframes/ -g -O2 -MT libta_abstract_la-table_y.lo -MD -MP -MF .deps/libta_abstract_la-table_y.Tpo -c tables/table_y.c  -fPIC -DPIC -o .libs/libta_abstract_la-table_y.o\n",
            " gcc -DHAVE_CONFIG_H -I. -I../../include -I../ta_common/ -Iframes/ -g -O2 -MT libta_abstract_la-table_y.lo -MD -MP -MF .deps/libta_abstract_la-table_y.Tpo -c tables/table_y.c -o libta_abstract_la-table_y.o >/dev/null 2>&1\n",
            "mv -f .deps/libta_abstract_la-table_y.Tpo .deps/libta_abstract_la-table_y.Plo\n",
            "/bin/bash ../../libtool --tag=CC   --mode=compile gcc -DHAVE_CONFIG_H -I. -I../../include  -I../ta_common/ -Iframes/   -g -O2 -MT libta_abstract_la-table_z.lo -MD -MP -MF .deps/libta_abstract_la-table_z.Tpo -c -o libta_abstract_la-table_z.lo `test -f 'tables/table_z.c' || echo './'`tables/table_z.c\n",
            " gcc -DHAVE_CONFIG_H -I. -I../../include -I../ta_common/ -Iframes/ -g -O2 -MT libta_abstract_la-table_z.lo -MD -MP -MF .deps/libta_abstract_la-table_z.Tpo -c tables/table_z.c  -fPIC -DPIC -o .libs/libta_abstract_la-table_z.o\n",
            " gcc -DHAVE_CONFIG_H -I. -I../../include -I../ta_common/ -Iframes/ -g -O2 -MT libta_abstract_la-table_z.lo -MD -MP -MF .deps/libta_abstract_la-table_z.Tpo -c tables/table_z.c -o libta_abstract_la-table_z.o >/dev/null 2>&1\n",
            "mv -f .deps/libta_abstract_la-table_z.Tpo .deps/libta_abstract_la-table_z.Plo\n",
            "/bin/bash ../../libtool --tag=CC   --mode=link gcc  -g -O2 -version-info 0:0:0  -o libta_abstract.la  libta_abstract_la-ta_group_idx.lo libta_abstract_la-ta_def_ui.lo libta_abstract_la-ta_abstract.lo libta_abstract_la-ta_func_api.lo libta_abstract_la-ta_frame.lo libta_abstract_la-table_a.lo libta_abstract_la-table_b.lo libta_abstract_la-table_c.lo libta_abstract_la-table_d.lo libta_abstract_la-table_e.lo libta_abstract_la-table_f.lo libta_abstract_la-table_g.lo libta_abstract_la-table_h.lo libta_abstract_la-table_i.lo libta_abstract_la-table_j.lo libta_abstract_la-table_k.lo libta_abstract_la-table_l.lo libta_abstract_la-table_m.lo libta_abstract_la-table_n.lo libta_abstract_la-table_o.lo libta_abstract_la-table_p.lo libta_abstract_la-table_q.lo libta_abstract_la-table_r.lo libta_abstract_la-table_s.lo libta_abstract_la-table_t.lo libta_abstract_la-table_u.lo libta_abstract_la-table_v.lo libta_abstract_la-table_w.lo libta_abstract_la-table_x.lo libta_abstract_la-table_y.lo libta_abstract_la-table_z.lo  -lpthread -ldl \n",
            "libtool: link: warning: `-version-info/-version-number' is ignored for convenience libraries\n",
            "ar cru .libs/libta_abstract.a .libs/libta_abstract_la-ta_group_idx.o .libs/libta_abstract_la-ta_def_ui.o .libs/libta_abstract_la-ta_abstract.o .libs/libta_abstract_la-ta_func_api.o .libs/libta_abstract_la-ta_frame.o .libs/libta_abstract_la-table_a.o .libs/libta_abstract_la-table_b.o .libs/libta_abstract_la-table_c.o .libs/libta_abstract_la-table_d.o .libs/libta_abstract_la-table_e.o .libs/libta_abstract_la-table_f.o .libs/libta_abstract_la-table_g.o .libs/libta_abstract_la-table_h.o .libs/libta_abstract_la-table_i.o .libs/libta_abstract_la-table_j.o .libs/libta_abstract_la-table_k.o .libs/libta_abstract_la-table_l.o .libs/libta_abstract_la-table_m.o .libs/libta_abstract_la-table_n.o .libs/libta_abstract_la-table_o.o .libs/libta_abstract_la-table_p.o .libs/libta_abstract_la-table_q.o .libs/libta_abstract_la-table_r.o .libs/libta_abstract_la-table_s.o .libs/libta_abstract_la-table_t.o .libs/libta_abstract_la-table_u.o .libs/libta_abstract_la-table_v.o .libs/libta_abstract_la-table_w.o .libs/libta_abstract_la-table_x.o .libs/libta_abstract_la-table_y.o .libs/libta_abstract_la-table_z.o\n",
            "ar: `u' modifier ignored since `D' is the default (see `U')\n",
            "ranlib .libs/libta_abstract.a\n",
            "creating libta_abstract.la\n",
            "(cd .libs && rm -f libta_abstract.la && ln -s ../libta_abstract.la libta_abstract.la)\n",
            "/bin/bash ../../libtool --tag=CC   --mode=compile gcc -DHAVE_CONFIG_H -I. -I../../include  -DTA_GEN_CODE -I../ta_common/ -Iframes/   -g -O2 -MT libta_abstract_gc_la-ta_group_idx.lo -MD -MP -MF .deps/libta_abstract_gc_la-ta_group_idx.Tpo -c -o libta_abstract_gc_la-ta_group_idx.lo `test -f 'ta_group_idx.c' || echo './'`ta_group_idx.c\n",
            " gcc -DHAVE_CONFIG_H -I. -I../../include -DTA_GEN_CODE -I../ta_common/ -Iframes/ -g -O2 -MT libta_abstract_gc_la-ta_group_idx.lo -MD -MP -MF .deps/libta_abstract_gc_la-ta_group_idx.Tpo -c ta_group_idx.c  -fPIC -DPIC -o .libs/libta_abstract_gc_la-ta_group_idx.o\n",
            " gcc -DHAVE_CONFIG_H -I. -I../../include -DTA_GEN_CODE -I../ta_common/ -Iframes/ -g -O2 -MT libta_abstract_gc_la-ta_group_idx.lo -MD -MP -MF .deps/libta_abstract_gc_la-ta_group_idx.Tpo -c ta_group_idx.c -o libta_abstract_gc_la-ta_group_idx.o >/dev/null 2>&1\n",
            "mv -f .deps/libta_abstract_gc_la-ta_group_idx.Tpo .deps/libta_abstract_gc_la-ta_group_idx.Plo\n",
            "/bin/bash ../../libtool --tag=CC   --mode=compile gcc -DHAVE_CONFIG_H -I. -I../../include  -DTA_GEN_CODE -I../ta_common/ -Iframes/   -g -O2 -MT libta_abstract_gc_la-ta_def_ui.lo -MD -MP -MF .deps/libta_abstract_gc_la-ta_def_ui.Tpo -c -o libta_abstract_gc_la-ta_def_ui.lo `test -f 'ta_def_ui.c' || echo './'`ta_def_ui.c\n",
            " gcc -DHAVE_CONFIG_H -I. -I../../include -DTA_GEN_CODE -I../ta_common/ -Iframes/ -g -O2 -MT libta_abstract_gc_la-ta_def_ui.lo -MD -MP -MF .deps/libta_abstract_gc_la-ta_def_ui.Tpo -c ta_def_ui.c  -fPIC -DPIC -o .libs/libta_abstract_gc_la-ta_def_ui.o\n",
            " gcc -DHAVE_CONFIG_H -I. -I../../include -DTA_GEN_CODE -I../ta_common/ -Iframes/ -g -O2 -MT libta_abstract_gc_la-ta_def_ui.lo -MD -MP -MF .deps/libta_abstract_gc_la-ta_def_ui.Tpo -c ta_def_ui.c -o libta_abstract_gc_la-ta_def_ui.o >/dev/null 2>&1\n",
            "mv -f .deps/libta_abstract_gc_la-ta_def_ui.Tpo .deps/libta_abstract_gc_la-ta_def_ui.Plo\n",
            "/bin/bash ../../libtool --tag=CC   --mode=compile gcc -DHAVE_CONFIG_H -I. -I../../include  -DTA_GEN_CODE -I../ta_common/ -Iframes/   -g -O2 -MT libta_abstract_gc_la-ta_abstract.lo -MD -MP -MF .deps/libta_abstract_gc_la-ta_abstract.Tpo -c -o libta_abstract_gc_la-ta_abstract.lo `test -f 'ta_abstract.c' || echo './'`ta_abstract.c\n",
            " gcc -DHAVE_CONFIG_H -I. -I../../include -DTA_GEN_CODE -I../ta_common/ -Iframes/ -g -O2 -MT libta_abstract_gc_la-ta_abstract.lo -MD -MP -MF .deps/libta_abstract_gc_la-ta_abstract.Tpo -c ta_abstract.c  -fPIC -DPIC -o .libs/libta_abstract_gc_la-ta_abstract.o\n",
            " gcc -DHAVE_CONFIG_H -I. -I../../include -DTA_GEN_CODE -I../ta_common/ -Iframes/ -g -O2 -MT libta_abstract_gc_la-ta_abstract.lo -MD -MP -MF .deps/libta_abstract_gc_la-ta_abstract.Tpo -c ta_abstract.c -o libta_abstract_gc_la-ta_abstract.o >/dev/null 2>&1\n",
            "mv -f .deps/libta_abstract_gc_la-ta_abstract.Tpo .deps/libta_abstract_gc_la-ta_abstract.Plo\n",
            "/bin/bash ../../libtool --tag=CC   --mode=compile gcc -DHAVE_CONFIG_H -I. -I../../include  -DTA_GEN_CODE -I../ta_common/ -Iframes/   -g -O2 -MT libta_abstract_gc_la-ta_func_api.lo -MD -MP -MF .deps/libta_abstract_gc_la-ta_func_api.Tpo -c -o libta_abstract_gc_la-ta_func_api.lo `test -f 'ta_func_api.c' || echo './'`ta_func_api.c\n",
            " gcc -DHAVE_CONFIG_H -I. -I../../include -DTA_GEN_CODE -I../ta_common/ -Iframes/ -g -O2 -MT libta_abstract_gc_la-ta_func_api.lo -MD -MP -MF .deps/libta_abstract_gc_la-ta_func_api.Tpo -c ta_func_api.c  -fPIC -DPIC -o .libs/libta_abstract_gc_la-ta_func_api.o\n",
            " gcc -DHAVE_CONFIG_H -I. -I../../include -DTA_GEN_CODE -I../ta_common/ -Iframes/ -g -O2 -MT libta_abstract_gc_la-ta_func_api.lo -MD -MP -MF .deps/libta_abstract_gc_la-ta_func_api.Tpo -c ta_func_api.c -o libta_abstract_gc_la-ta_func_api.o >/dev/null 2>&1\n",
            "mv -f .deps/libta_abstract_gc_la-ta_func_api.Tpo .deps/libta_abstract_gc_la-ta_func_api.Plo\n",
            "/bin/bash ../../libtool --tag=CC   --mode=compile gcc -DHAVE_CONFIG_H -I. -I../../include  -DTA_GEN_CODE -I../ta_common/ -Iframes/   -g -O2 -MT libta_abstract_gc_la-ta_frame.lo -MD -MP -MF .deps/libta_abstract_gc_la-ta_frame.Tpo -c -o libta_abstract_gc_la-ta_frame.lo `test -f 'frames/ta_frame.c' || echo './'`frames/ta_frame.c\n",
            " gcc -DHAVE_CONFIG_H -I. -I../../include -DTA_GEN_CODE -I../ta_common/ -Iframes/ -g -O2 -MT libta_abstract_gc_la-ta_frame.lo -MD -MP -MF .deps/libta_abstract_gc_la-ta_frame.Tpo -c frames/ta_frame.c  -fPIC -DPIC -o .libs/libta_abstract_gc_la-ta_frame.o\n",
            " gcc -DHAVE_CONFIG_H -I. -I../../include -DTA_GEN_CODE -I../ta_common/ -Iframes/ -g -O2 -MT libta_abstract_gc_la-ta_frame.lo -MD -MP -MF .deps/libta_abstract_gc_la-ta_frame.Tpo -c frames/ta_frame.c -o libta_abstract_gc_la-ta_frame.o >/dev/null 2>&1\n",
            "mv -f .deps/libta_abstract_gc_la-ta_frame.Tpo .deps/libta_abstract_gc_la-ta_frame.Plo\n",
            "/bin/bash ../../libtool --tag=CC   --mode=compile gcc -DHAVE_CONFIG_H -I. -I../../include  -DTA_GEN_CODE -I../ta_common/ -Iframes/   -g -O2 -MT libta_abstract_gc_la-table_a.lo -MD -MP -MF .deps/libta_abstract_gc_la-table_a.Tpo -c -o libta_abstract_gc_la-table_a.lo `test -f 'tables/table_a.c' || echo './'`tables/table_a.c\n",
            " gcc -DHAVE_CONFIG_H -I. -I../../include -DTA_GEN_CODE -I../ta_common/ -Iframes/ -g -O2 -MT libta_abstract_gc_la-table_a.lo -MD -MP -MF .deps/libta_abstract_gc_la-table_a.Tpo -c tables/table_a.c  -fPIC -DPIC -o .libs/libta_abstract_gc_la-table_a.o\n",
            " gcc -DHAVE_CONFIG_H -I. -I../../include -DTA_GEN_CODE -I../ta_common/ -Iframes/ -g -O2 -MT libta_abstract_gc_la-table_a.lo -MD -MP -MF .deps/libta_abstract_gc_la-table_a.Tpo -c tables/table_a.c -o libta_abstract_gc_la-table_a.o >/dev/null 2>&1\n",
            "mv -f .deps/libta_abstract_gc_la-table_a.Tpo .deps/libta_abstract_gc_la-table_a.Plo\n",
            "/bin/bash ../../libtool --tag=CC   --mode=compile gcc -DHAVE_CONFIG_H -I. -I../../include  -DTA_GEN_CODE -I../ta_common/ -Iframes/   -g -O2 -MT libta_abstract_gc_la-table_b.lo -MD -MP -MF .deps/libta_abstract_gc_la-table_b.Tpo -c -o libta_abstract_gc_la-table_b.lo `test -f 'tables/table_b.c' || echo './'`tables/table_b.c\n",
            " gcc -DHAVE_CONFIG_H -I. -I../../include -DTA_GEN_CODE -I../ta_common/ -Iframes/ -g -O2 -MT libta_abstract_gc_la-table_b.lo -MD -MP -MF .deps/libta_abstract_gc_la-table_b.Tpo -c tables/table_b.c  -fPIC -DPIC -o .libs/libta_abstract_gc_la-table_b.o\n",
            " gcc -DHAVE_CONFIG_H -I. -I../../include -DTA_GEN_CODE -I../ta_common/ -Iframes/ -g -O2 -MT libta_abstract_gc_la-table_b.lo -MD -MP -MF .deps/libta_abstract_gc_la-table_b.Tpo -c tables/table_b.c -o libta_abstract_gc_la-table_b.o >/dev/null 2>&1\n",
            "mv -f .deps/libta_abstract_gc_la-table_b.Tpo .deps/libta_abstract_gc_la-table_b.Plo\n",
            "/bin/bash ../../libtool --tag=CC   --mode=compile gcc -DHAVE_CONFIG_H -I. -I../../include  -DTA_GEN_CODE -I../ta_common/ -Iframes/   -g -O2 -MT libta_abstract_gc_la-table_c.lo -MD -MP -MF .deps/libta_abstract_gc_la-table_c.Tpo -c -o libta_abstract_gc_la-table_c.lo `test -f 'tables/table_c.c' || echo './'`tables/table_c.c\n",
            " gcc -DHAVE_CONFIG_H -I. -I../../include -DTA_GEN_CODE -I../ta_common/ -Iframes/ -g -O2 -MT libta_abstract_gc_la-table_c.lo -MD -MP -MF .deps/libta_abstract_gc_la-table_c.Tpo -c tables/table_c.c  -fPIC -DPIC -o .libs/libta_abstract_gc_la-table_c.o\n",
            " gcc -DHAVE_CONFIG_H -I. -I../../include -DTA_GEN_CODE -I../ta_common/ -Iframes/ -g -O2 -MT libta_abstract_gc_la-table_c.lo -MD -MP -MF .deps/libta_abstract_gc_la-table_c.Tpo -c tables/table_c.c -o libta_abstract_gc_la-table_c.o >/dev/null 2>&1\n",
            "mv -f .deps/libta_abstract_gc_la-table_c.Tpo .deps/libta_abstract_gc_la-table_c.Plo\n",
            "/bin/bash ../../libtool --tag=CC   --mode=compile gcc -DHAVE_CONFIG_H -I. -I../../include  -DTA_GEN_CODE -I../ta_common/ -Iframes/   -g -O2 -MT libta_abstract_gc_la-table_d.lo -MD -MP -MF .deps/libta_abstract_gc_la-table_d.Tpo -c -o libta_abstract_gc_la-table_d.lo `test -f 'tables/table_d.c' || echo './'`tables/table_d.c\n",
            " gcc -DHAVE_CONFIG_H -I. -I../../include -DTA_GEN_CODE -I../ta_common/ -Iframes/ -g -O2 -MT libta_abstract_gc_la-table_d.lo -MD -MP -MF .deps/libta_abstract_gc_la-table_d.Tpo -c tables/table_d.c  -fPIC -DPIC -o .libs/libta_abstract_gc_la-table_d.o\n",
            " gcc -DHAVE_CONFIG_H -I. -I../../include -DTA_GEN_CODE -I../ta_common/ -Iframes/ -g -O2 -MT libta_abstract_gc_la-table_d.lo -MD -MP -MF .deps/libta_abstract_gc_la-table_d.Tpo -c tables/table_d.c -o libta_abstract_gc_la-table_d.o >/dev/null 2>&1\n",
            "mv -f .deps/libta_abstract_gc_la-table_d.Tpo .deps/libta_abstract_gc_la-table_d.Plo\n",
            "/bin/bash ../../libtool --tag=CC   --mode=compile gcc -DHAVE_CONFIG_H -I. -I../../include  -DTA_GEN_CODE -I../ta_common/ -Iframes/   -g -O2 -MT libta_abstract_gc_la-table_e.lo -MD -MP -MF .deps/libta_abstract_gc_la-table_e.Tpo -c -o libta_abstract_gc_la-table_e.lo `test -f 'tables/table_e.c' || echo './'`tables/table_e.c\n",
            " gcc -DHAVE_CONFIG_H -I. -I../../include -DTA_GEN_CODE -I../ta_common/ -Iframes/ -g -O2 -MT libta_abstract_gc_la-table_e.lo -MD -MP -MF .deps/libta_abstract_gc_la-table_e.Tpo -c tables/table_e.c  -fPIC -DPIC -o .libs/libta_abstract_gc_la-table_e.o\n",
            " gcc -DHAVE_CONFIG_H -I. -I../../include -DTA_GEN_CODE -I../ta_common/ -Iframes/ -g -O2 -MT libta_abstract_gc_la-table_e.lo -MD -MP -MF .deps/libta_abstract_gc_la-table_e.Tpo -c tables/table_e.c -o libta_abstract_gc_la-table_e.o >/dev/null 2>&1\n",
            "mv -f .deps/libta_abstract_gc_la-table_e.Tpo .deps/libta_abstract_gc_la-table_e.Plo\n",
            "/bin/bash ../../libtool --tag=CC   --mode=compile gcc -DHAVE_CONFIG_H -I. -I../../include  -DTA_GEN_CODE -I../ta_common/ -Iframes/   -g -O2 -MT libta_abstract_gc_la-table_f.lo -MD -MP -MF .deps/libta_abstract_gc_la-table_f.Tpo -c -o libta_abstract_gc_la-table_f.lo `test -f 'tables/table_f.c' || echo './'`tables/table_f.c\n",
            " gcc -DHAVE_CONFIG_H -I. -I../../include -DTA_GEN_CODE -I../ta_common/ -Iframes/ -g -O2 -MT libta_abstract_gc_la-table_f.lo -MD -MP -MF .deps/libta_abstract_gc_la-table_f.Tpo -c tables/table_f.c  -fPIC -DPIC -o .libs/libta_abstract_gc_la-table_f.o\n",
            " gcc -DHAVE_CONFIG_H -I. -I../../include -DTA_GEN_CODE -I../ta_common/ -Iframes/ -g -O2 -MT libta_abstract_gc_la-table_f.lo -MD -MP -MF .deps/libta_abstract_gc_la-table_f.Tpo -c tables/table_f.c -o libta_abstract_gc_la-table_f.o >/dev/null 2>&1\n",
            "mv -f .deps/libta_abstract_gc_la-table_f.Tpo .deps/libta_abstract_gc_la-table_f.Plo\n",
            "/bin/bash ../../libtool --tag=CC   --mode=compile gcc -DHAVE_CONFIG_H -I. -I../../include  -DTA_GEN_CODE -I../ta_common/ -Iframes/   -g -O2 -MT libta_abstract_gc_la-table_g.lo -MD -MP -MF .deps/libta_abstract_gc_la-table_g.Tpo -c -o libta_abstract_gc_la-table_g.lo `test -f 'tables/table_g.c' || echo './'`tables/table_g.c\n",
            " gcc -DHAVE_CONFIG_H -I. -I../../include -DTA_GEN_CODE -I../ta_common/ -Iframes/ -g -O2 -MT libta_abstract_gc_la-table_g.lo -MD -MP -MF .deps/libta_abstract_gc_la-table_g.Tpo -c tables/table_g.c  -fPIC -DPIC -o .libs/libta_abstract_gc_la-table_g.o\n",
            " gcc -DHAVE_CONFIG_H -I. -I../../include -DTA_GEN_CODE -I../ta_common/ -Iframes/ -g -O2 -MT libta_abstract_gc_la-table_g.lo -MD -MP -MF .deps/libta_abstract_gc_la-table_g.Tpo -c tables/table_g.c -o libta_abstract_gc_la-table_g.o >/dev/null 2>&1\n",
            "mv -f .deps/libta_abstract_gc_la-table_g.Tpo .deps/libta_abstract_gc_la-table_g.Plo\n",
            "/bin/bash ../../libtool --tag=CC   --mode=compile gcc -DHAVE_CONFIG_H -I. -I../../include  -DTA_GEN_CODE -I../ta_common/ -Iframes/   -g -O2 -MT libta_abstract_gc_la-table_h.lo -MD -MP -MF .deps/libta_abstract_gc_la-table_h.Tpo -c -o libta_abstract_gc_la-table_h.lo `test -f 'tables/table_h.c' || echo './'`tables/table_h.c\n",
            " gcc -DHAVE_CONFIG_H -I. -I../../include -DTA_GEN_CODE -I../ta_common/ -Iframes/ -g -O2 -MT libta_abstract_gc_la-table_h.lo -MD -MP -MF .deps/libta_abstract_gc_la-table_h.Tpo -c tables/table_h.c  -fPIC -DPIC -o .libs/libta_abstract_gc_la-table_h.o\n",
            " gcc -DHAVE_CONFIG_H -I. -I../../include -DTA_GEN_CODE -I../ta_common/ -Iframes/ -g -O2 -MT libta_abstract_gc_la-table_h.lo -MD -MP -MF .deps/libta_abstract_gc_la-table_h.Tpo -c tables/table_h.c -o libta_abstract_gc_la-table_h.o >/dev/null 2>&1\n",
            "mv -f .deps/libta_abstract_gc_la-table_h.Tpo .deps/libta_abstract_gc_la-table_h.Plo\n",
            "/bin/bash ../../libtool --tag=CC   --mode=compile gcc -DHAVE_CONFIG_H -I. -I../../include  -DTA_GEN_CODE -I../ta_common/ -Iframes/   -g -O2 -MT libta_abstract_gc_la-table_i.lo -MD -MP -MF .deps/libta_abstract_gc_la-table_i.Tpo -c -o libta_abstract_gc_la-table_i.lo `test -f 'tables/table_i.c' || echo './'`tables/table_i.c\n",
            " gcc -DHAVE_CONFIG_H -I. -I../../include -DTA_GEN_CODE -I../ta_common/ -Iframes/ -g -O2 -MT libta_abstract_gc_la-table_i.lo -MD -MP -MF .deps/libta_abstract_gc_la-table_i.Tpo -c tables/table_i.c  -fPIC -DPIC -o .libs/libta_abstract_gc_la-table_i.o\n",
            " gcc -DHAVE_CONFIG_H -I. -I../../include -DTA_GEN_CODE -I../ta_common/ -Iframes/ -g -O2 -MT libta_abstract_gc_la-table_i.lo -MD -MP -MF .deps/libta_abstract_gc_la-table_i.Tpo -c tables/table_i.c -o libta_abstract_gc_la-table_i.o >/dev/null 2>&1\n",
            "mv -f .deps/libta_abstract_gc_la-table_i.Tpo .deps/libta_abstract_gc_la-table_i.Plo\n",
            "/bin/bash ../../libtool --tag=CC   --mode=compile gcc -DHAVE_CONFIG_H -I. -I../../include  -DTA_GEN_CODE -I../ta_common/ -Iframes/   -g -O2 -MT libta_abstract_gc_la-table_j.lo -MD -MP -MF .deps/libta_abstract_gc_la-table_j.Tpo -c -o libta_abstract_gc_la-table_j.lo `test -f 'tables/table_j.c' || echo './'`tables/table_j.c\n",
            " gcc -DHAVE_CONFIG_H -I. -I../../include -DTA_GEN_CODE -I../ta_common/ -Iframes/ -g -O2 -MT libta_abstract_gc_la-table_j.lo -MD -MP -MF .deps/libta_abstract_gc_la-table_j.Tpo -c tables/table_j.c  -fPIC -DPIC -o .libs/libta_abstract_gc_la-table_j.o\n",
            " gcc -DHAVE_CONFIG_H -I. -I../../include -DTA_GEN_CODE -I../ta_common/ -Iframes/ -g -O2 -MT libta_abstract_gc_la-table_j.lo -MD -MP -MF .deps/libta_abstract_gc_la-table_j.Tpo -c tables/table_j.c -o libta_abstract_gc_la-table_j.o >/dev/null 2>&1\n",
            "mv -f .deps/libta_abstract_gc_la-table_j.Tpo .deps/libta_abstract_gc_la-table_j.Plo\n",
            "/bin/bash ../../libtool --tag=CC   --mode=compile gcc -DHAVE_CONFIG_H -I. -I../../include  -DTA_GEN_CODE -I../ta_common/ -Iframes/   -g -O2 -MT libta_abstract_gc_la-table_k.lo -MD -MP -MF .deps/libta_abstract_gc_la-table_k.Tpo -c -o libta_abstract_gc_la-table_k.lo `test -f 'tables/table_k.c' || echo './'`tables/table_k.c\n",
            " gcc -DHAVE_CONFIG_H -I. -I../../include -DTA_GEN_CODE -I../ta_common/ -Iframes/ -g -O2 -MT libta_abstract_gc_la-table_k.lo -MD -MP -MF .deps/libta_abstract_gc_la-table_k.Tpo -c tables/table_k.c  -fPIC -DPIC -o .libs/libta_abstract_gc_la-table_k.o\n",
            " gcc -DHAVE_CONFIG_H -I. -I../../include -DTA_GEN_CODE -I../ta_common/ -Iframes/ -g -O2 -MT libta_abstract_gc_la-table_k.lo -MD -MP -MF .deps/libta_abstract_gc_la-table_k.Tpo -c tables/table_k.c -o libta_abstract_gc_la-table_k.o >/dev/null 2>&1\n",
            "mv -f .deps/libta_abstract_gc_la-table_k.Tpo .deps/libta_abstract_gc_la-table_k.Plo\n",
            "/bin/bash ../../libtool --tag=CC   --mode=compile gcc -DHAVE_CONFIG_H -I. -I../../include  -DTA_GEN_CODE -I../ta_common/ -Iframes/   -g -O2 -MT libta_abstract_gc_la-table_l.lo -MD -MP -MF .deps/libta_abstract_gc_la-table_l.Tpo -c -o libta_abstract_gc_la-table_l.lo `test -f 'tables/table_l.c' || echo './'`tables/table_l.c\n",
            " gcc -DHAVE_CONFIG_H -I. -I../../include -DTA_GEN_CODE -I../ta_common/ -Iframes/ -g -O2 -MT libta_abstract_gc_la-table_l.lo -MD -MP -MF .deps/libta_abstract_gc_la-table_l.Tpo -c tables/table_l.c  -fPIC -DPIC -o .libs/libta_abstract_gc_la-table_l.o\n",
            " gcc -DHAVE_CONFIG_H -I. -I../../include -DTA_GEN_CODE -I../ta_common/ -Iframes/ -g -O2 -MT libta_abstract_gc_la-table_l.lo -MD -MP -MF .deps/libta_abstract_gc_la-table_l.Tpo -c tables/table_l.c -o libta_abstract_gc_la-table_l.o >/dev/null 2>&1\n",
            "mv -f .deps/libta_abstract_gc_la-table_l.Tpo .deps/libta_abstract_gc_la-table_l.Plo\n",
            "/bin/bash ../../libtool --tag=CC   --mode=compile gcc -DHAVE_CONFIG_H -I. -I../../include  -DTA_GEN_CODE -I../ta_common/ -Iframes/   -g -O2 -MT libta_abstract_gc_la-table_m.lo -MD -MP -MF .deps/libta_abstract_gc_la-table_m.Tpo -c -o libta_abstract_gc_la-table_m.lo `test -f 'tables/table_m.c' || echo './'`tables/table_m.c\n",
            " gcc -DHAVE_CONFIG_H -I. -I../../include -DTA_GEN_CODE -I../ta_common/ -Iframes/ -g -O2 -MT libta_abstract_gc_la-table_m.lo -MD -MP -MF .deps/libta_abstract_gc_la-table_m.Tpo -c tables/table_m.c  -fPIC -DPIC -o .libs/libta_abstract_gc_la-table_m.o\n",
            " gcc -DHAVE_CONFIG_H -I. -I../../include -DTA_GEN_CODE -I../ta_common/ -Iframes/ -g -O2 -MT libta_abstract_gc_la-table_m.lo -MD -MP -MF .deps/libta_abstract_gc_la-table_m.Tpo -c tables/table_m.c -o libta_abstract_gc_la-table_m.o >/dev/null 2>&1\n",
            "mv -f .deps/libta_abstract_gc_la-table_m.Tpo .deps/libta_abstract_gc_la-table_m.Plo\n",
            "/bin/bash ../../libtool --tag=CC   --mode=compile gcc -DHAVE_CONFIG_H -I. -I../../include  -DTA_GEN_CODE -I../ta_common/ -Iframes/   -g -O2 -MT libta_abstract_gc_la-table_n.lo -MD -MP -MF .deps/libta_abstract_gc_la-table_n.Tpo -c -o libta_abstract_gc_la-table_n.lo `test -f 'tables/table_n.c' || echo './'`tables/table_n.c\n",
            " gcc -DHAVE_CONFIG_H -I. -I../../include -DTA_GEN_CODE -I../ta_common/ -Iframes/ -g -O2 -MT libta_abstract_gc_la-table_n.lo -MD -MP -MF .deps/libta_abstract_gc_la-table_n.Tpo -c tables/table_n.c  -fPIC -DPIC -o .libs/libta_abstract_gc_la-table_n.o\n",
            " gcc -DHAVE_CONFIG_H -I. -I../../include -DTA_GEN_CODE -I../ta_common/ -Iframes/ -g -O2 -MT libta_abstract_gc_la-table_n.lo -MD -MP -MF .deps/libta_abstract_gc_la-table_n.Tpo -c tables/table_n.c -o libta_abstract_gc_la-table_n.o >/dev/null 2>&1\n",
            "mv -f .deps/libta_abstract_gc_la-table_n.Tpo .deps/libta_abstract_gc_la-table_n.Plo\n",
            "/bin/bash ../../libtool --tag=CC   --mode=compile gcc -DHAVE_CONFIG_H -I. -I../../include  -DTA_GEN_CODE -I../ta_common/ -Iframes/   -g -O2 -MT libta_abstract_gc_la-table_o.lo -MD -MP -MF .deps/libta_abstract_gc_la-table_o.Tpo -c -o libta_abstract_gc_la-table_o.lo `test -f 'tables/table_o.c' || echo './'`tables/table_o.c\n",
            " gcc -DHAVE_CONFIG_H -I. -I../../include -DTA_GEN_CODE -I../ta_common/ -Iframes/ -g -O2 -MT libta_abstract_gc_la-table_o.lo -MD -MP -MF .deps/libta_abstract_gc_la-table_o.Tpo -c tables/table_o.c  -fPIC -DPIC -o .libs/libta_abstract_gc_la-table_o.o\n",
            " gcc -DHAVE_CONFIG_H -I. -I../../include -DTA_GEN_CODE -I../ta_common/ -Iframes/ -g -O2 -MT libta_abstract_gc_la-table_o.lo -MD -MP -MF .deps/libta_abstract_gc_la-table_o.Tpo -c tables/table_o.c -o libta_abstract_gc_la-table_o.o >/dev/null 2>&1\n",
            "mv -f .deps/libta_abstract_gc_la-table_o.Tpo .deps/libta_abstract_gc_la-table_o.Plo\n",
            "/bin/bash ../../libtool --tag=CC   --mode=compile gcc -DHAVE_CONFIG_H -I. -I../../include  -DTA_GEN_CODE -I../ta_common/ -Iframes/   -g -O2 -MT libta_abstract_gc_la-table_p.lo -MD -MP -MF .deps/libta_abstract_gc_la-table_p.Tpo -c -o libta_abstract_gc_la-table_p.lo `test -f 'tables/table_p.c' || echo './'`tables/table_p.c\n",
            " gcc -DHAVE_CONFIG_H -I. -I../../include -DTA_GEN_CODE -I../ta_common/ -Iframes/ -g -O2 -MT libta_abstract_gc_la-table_p.lo -MD -MP -MF .deps/libta_abstract_gc_la-table_p.Tpo -c tables/table_p.c  -fPIC -DPIC -o .libs/libta_abstract_gc_la-table_p.o\n",
            " gcc -DHAVE_CONFIG_H -I. -I../../include -DTA_GEN_CODE -I../ta_common/ -Iframes/ -g -O2 -MT libta_abstract_gc_la-table_p.lo -MD -MP -MF .deps/libta_abstract_gc_la-table_p.Tpo -c tables/table_p.c -o libta_abstract_gc_la-table_p.o >/dev/null 2>&1\n",
            "mv -f .deps/libta_abstract_gc_la-table_p.Tpo .deps/libta_abstract_gc_la-table_p.Plo\n",
            "/bin/bash ../../libtool --tag=CC   --mode=compile gcc -DHAVE_CONFIG_H -I. -I../../include  -DTA_GEN_CODE -I../ta_common/ -Iframes/   -g -O2 -MT libta_abstract_gc_la-table_q.lo -MD -MP -MF .deps/libta_abstract_gc_la-table_q.Tpo -c -o libta_abstract_gc_la-table_q.lo `test -f 'tables/table_q.c' || echo './'`tables/table_q.c\n",
            " gcc -DHAVE_CONFIG_H -I. -I../../include -DTA_GEN_CODE -I../ta_common/ -Iframes/ -g -O2 -MT libta_abstract_gc_la-table_q.lo -MD -MP -MF .deps/libta_abstract_gc_la-table_q.Tpo -c tables/table_q.c  -fPIC -DPIC -o .libs/libta_abstract_gc_la-table_q.o\n",
            " gcc -DHAVE_CONFIG_H -I. -I../../include -DTA_GEN_CODE -I../ta_common/ -Iframes/ -g -O2 -MT libta_abstract_gc_la-table_q.lo -MD -MP -MF .deps/libta_abstract_gc_la-table_q.Tpo -c tables/table_q.c -o libta_abstract_gc_la-table_q.o >/dev/null 2>&1\n",
            "mv -f .deps/libta_abstract_gc_la-table_q.Tpo .deps/libta_abstract_gc_la-table_q.Plo\n",
            "/bin/bash ../../libtool --tag=CC   --mode=compile gcc -DHAVE_CONFIG_H -I. -I../../include  -DTA_GEN_CODE -I../ta_common/ -Iframes/   -g -O2 -MT libta_abstract_gc_la-table_r.lo -MD -MP -MF .deps/libta_abstract_gc_la-table_r.Tpo -c -o libta_abstract_gc_la-table_r.lo `test -f 'tables/table_r.c' || echo './'`tables/table_r.c\n",
            " gcc -DHAVE_CONFIG_H -I. -I../../include -DTA_GEN_CODE -I../ta_common/ -Iframes/ -g -O2 -MT libta_abstract_gc_la-table_r.lo -MD -MP -MF .deps/libta_abstract_gc_la-table_r.Tpo -c tables/table_r.c  -fPIC -DPIC -o .libs/libta_abstract_gc_la-table_r.o\n",
            " gcc -DHAVE_CONFIG_H -I. -I../../include -DTA_GEN_CODE -I../ta_common/ -Iframes/ -g -O2 -MT libta_abstract_gc_la-table_r.lo -MD -MP -MF .deps/libta_abstract_gc_la-table_r.Tpo -c tables/table_r.c -o libta_abstract_gc_la-table_r.o >/dev/null 2>&1\n",
            "mv -f .deps/libta_abstract_gc_la-table_r.Tpo .deps/libta_abstract_gc_la-table_r.Plo\n",
            "/bin/bash ../../libtool --tag=CC   --mode=compile gcc -DHAVE_CONFIG_H -I. -I../../include  -DTA_GEN_CODE -I../ta_common/ -Iframes/   -g -O2 -MT libta_abstract_gc_la-table_s.lo -MD -MP -MF .deps/libta_abstract_gc_la-table_s.Tpo -c -o libta_abstract_gc_la-table_s.lo `test -f 'tables/table_s.c' || echo './'`tables/table_s.c\n",
            " gcc -DHAVE_CONFIG_H -I. -I../../include -DTA_GEN_CODE -I../ta_common/ -Iframes/ -g -O2 -MT libta_abstract_gc_la-table_s.lo -MD -MP -MF .deps/libta_abstract_gc_la-table_s.Tpo -c tables/table_s.c  -fPIC -DPIC -o .libs/libta_abstract_gc_la-table_s.o\n",
            " gcc -DHAVE_CONFIG_H -I. -I../../include -DTA_GEN_CODE -I../ta_common/ -Iframes/ -g -O2 -MT libta_abstract_gc_la-table_s.lo -MD -MP -MF .deps/libta_abstract_gc_la-table_s.Tpo -c tables/table_s.c -o libta_abstract_gc_la-table_s.o >/dev/null 2>&1\n",
            "mv -f .deps/libta_abstract_gc_la-table_s.Tpo .deps/libta_abstract_gc_la-table_s.Plo\n",
            "/bin/bash ../../libtool --tag=CC   --mode=compile gcc -DHAVE_CONFIG_H -I. -I../../include  -DTA_GEN_CODE -I../ta_common/ -Iframes/   -g -O2 -MT libta_abstract_gc_la-table_t.lo -MD -MP -MF .deps/libta_abstract_gc_la-table_t.Tpo -c -o libta_abstract_gc_la-table_t.lo `test -f 'tables/table_t.c' || echo './'`tables/table_t.c\n",
            " gcc -DHAVE_CONFIG_H -I. -I../../include -DTA_GEN_CODE -I../ta_common/ -Iframes/ -g -O2 -MT libta_abstract_gc_la-table_t.lo -MD -MP -MF .deps/libta_abstract_gc_la-table_t.Tpo -c tables/table_t.c  -fPIC -DPIC -o .libs/libta_abstract_gc_la-table_t.o\n",
            " gcc -DHAVE_CONFIG_H -I. -I../../include -DTA_GEN_CODE -I../ta_common/ -Iframes/ -g -O2 -MT libta_abstract_gc_la-table_t.lo -MD -MP -MF .deps/libta_abstract_gc_la-table_t.Tpo -c tables/table_t.c -o libta_abstract_gc_la-table_t.o >/dev/null 2>&1\n",
            "mv -f .deps/libta_abstract_gc_la-table_t.Tpo .deps/libta_abstract_gc_la-table_t.Plo\n",
            "/bin/bash ../../libtool --tag=CC   --mode=compile gcc -DHAVE_CONFIG_H -I. -I../../include  -DTA_GEN_CODE -I../ta_common/ -Iframes/   -g -O2 -MT libta_abstract_gc_la-table_u.lo -MD -MP -MF .deps/libta_abstract_gc_la-table_u.Tpo -c -o libta_abstract_gc_la-table_u.lo `test -f 'tables/table_u.c' || echo './'`tables/table_u.c\n",
            " gcc -DHAVE_CONFIG_H -I. -I../../include -DTA_GEN_CODE -I../ta_common/ -Iframes/ -g -O2 -MT libta_abstract_gc_la-table_u.lo -MD -MP -MF .deps/libta_abstract_gc_la-table_u.Tpo -c tables/table_u.c  -fPIC -DPIC -o .libs/libta_abstract_gc_la-table_u.o\n",
            " gcc -DHAVE_CONFIG_H -I. -I../../include -DTA_GEN_CODE -I../ta_common/ -Iframes/ -g -O2 -MT libta_abstract_gc_la-table_u.lo -MD -MP -MF .deps/libta_abstract_gc_la-table_u.Tpo -c tables/table_u.c -o libta_abstract_gc_la-table_u.o >/dev/null 2>&1\n",
            "mv -f .deps/libta_abstract_gc_la-table_u.Tpo .deps/libta_abstract_gc_la-table_u.Plo\n",
            "/bin/bash ../../libtool --tag=CC   --mode=compile gcc -DHAVE_CONFIG_H -I. -I../../include  -DTA_GEN_CODE -I../ta_common/ -Iframes/   -g -O2 -MT libta_abstract_gc_la-table_v.lo -MD -MP -MF .deps/libta_abstract_gc_la-table_v.Tpo -c -o libta_abstract_gc_la-table_v.lo `test -f 'tables/table_v.c' || echo './'`tables/table_v.c\n",
            " gcc -DHAVE_CONFIG_H -I. -I../../include -DTA_GEN_CODE -I../ta_common/ -Iframes/ -g -O2 -MT libta_abstract_gc_la-table_v.lo -MD -MP -MF .deps/libta_abstract_gc_la-table_v.Tpo -c tables/table_v.c  -fPIC -DPIC -o .libs/libta_abstract_gc_la-table_v.o\n",
            " gcc -DHAVE_CONFIG_H -I. -I../../include -DTA_GEN_CODE -I../ta_common/ -Iframes/ -g -O2 -MT libta_abstract_gc_la-table_v.lo -MD -MP -MF .deps/libta_abstract_gc_la-table_v.Tpo -c tables/table_v.c -o libta_abstract_gc_la-table_v.o >/dev/null 2>&1\n",
            "mv -f .deps/libta_abstract_gc_la-table_v.Tpo .deps/libta_abstract_gc_la-table_v.Plo\n",
            "/bin/bash ../../libtool --tag=CC   --mode=compile gcc -DHAVE_CONFIG_H -I. -I../../include  -DTA_GEN_CODE -I../ta_common/ -Iframes/   -g -O2 -MT libta_abstract_gc_la-table_w.lo -MD -MP -MF .deps/libta_abstract_gc_la-table_w.Tpo -c -o libta_abstract_gc_la-table_w.lo `test -f 'tables/table_w.c' || echo './'`tables/table_w.c\n",
            " gcc -DHAVE_CONFIG_H -I. -I../../include -DTA_GEN_CODE -I../ta_common/ -Iframes/ -g -O2 -MT libta_abstract_gc_la-table_w.lo -MD -MP -MF .deps/libta_abstract_gc_la-table_w.Tpo -c tables/table_w.c  -fPIC -DPIC -o .libs/libta_abstract_gc_la-table_w.o\n",
            " gcc -DHAVE_CONFIG_H -I. -I../../include -DTA_GEN_CODE -I../ta_common/ -Iframes/ -g -O2 -MT libta_abstract_gc_la-table_w.lo -MD -MP -MF .deps/libta_abstract_gc_la-table_w.Tpo -c tables/table_w.c -o libta_abstract_gc_la-table_w.o >/dev/null 2>&1\n",
            "mv -f .deps/libta_abstract_gc_la-table_w.Tpo .deps/libta_abstract_gc_la-table_w.Plo\n",
            "/bin/bash ../../libtool --tag=CC   --mode=compile gcc -DHAVE_CONFIG_H -I. -I../../include  -DTA_GEN_CODE -I../ta_common/ -Iframes/   -g -O2 -MT libta_abstract_gc_la-table_x.lo -MD -MP -MF .deps/libta_abstract_gc_la-table_x.Tpo -c -o libta_abstract_gc_la-table_x.lo `test -f 'tables/table_x.c' || echo './'`tables/table_x.c\n",
            " gcc -DHAVE_CONFIG_H -I. -I../../include -DTA_GEN_CODE -I../ta_common/ -Iframes/ -g -O2 -MT libta_abstract_gc_la-table_x.lo -MD -MP -MF .deps/libta_abstract_gc_la-table_x.Tpo -c tables/table_x.c  -fPIC -DPIC -o .libs/libta_abstract_gc_la-table_x.o\n",
            " gcc -DHAVE_CONFIG_H -I. -I../../include -DTA_GEN_CODE -I../ta_common/ -Iframes/ -g -O2 -MT libta_abstract_gc_la-table_x.lo -MD -MP -MF .deps/libta_abstract_gc_la-table_x.Tpo -c tables/table_x.c -o libta_abstract_gc_la-table_x.o >/dev/null 2>&1\n",
            "mv -f .deps/libta_abstract_gc_la-table_x.Tpo .deps/libta_abstract_gc_la-table_x.Plo\n",
            "/bin/bash ../../libtool --tag=CC   --mode=compile gcc -DHAVE_CONFIG_H -I. -I../../include  -DTA_GEN_CODE -I../ta_common/ -Iframes/   -g -O2 -MT libta_abstract_gc_la-table_y.lo -MD -MP -MF .deps/libta_abstract_gc_la-table_y.Tpo -c -o libta_abstract_gc_la-table_y.lo `test -f 'tables/table_y.c' || echo './'`tables/table_y.c\n",
            " gcc -DHAVE_CONFIG_H -I. -I../../include -DTA_GEN_CODE -I../ta_common/ -Iframes/ -g -O2 -MT libta_abstract_gc_la-table_y.lo -MD -MP -MF .deps/libta_abstract_gc_la-table_y.Tpo -c tables/table_y.c  -fPIC -DPIC -o .libs/libta_abstract_gc_la-table_y.o\n",
            " gcc -DHAVE_CONFIG_H -I. -I../../include -DTA_GEN_CODE -I../ta_common/ -Iframes/ -g -O2 -MT libta_abstract_gc_la-table_y.lo -MD -MP -MF .deps/libta_abstract_gc_la-table_y.Tpo -c tables/table_y.c -o libta_abstract_gc_la-table_y.o >/dev/null 2>&1\n",
            "mv -f .deps/libta_abstract_gc_la-table_y.Tpo .deps/libta_abstract_gc_la-table_y.Plo\n",
            "/bin/bash ../../libtool --tag=CC   --mode=compile gcc -DHAVE_CONFIG_H -I. -I../../include  -DTA_GEN_CODE -I../ta_common/ -Iframes/   -g -O2 -MT libta_abstract_gc_la-table_z.lo -MD -MP -MF .deps/libta_abstract_gc_la-table_z.Tpo -c -o libta_abstract_gc_la-table_z.lo `test -f 'tables/table_z.c' || echo './'`tables/table_z.c\n",
            " gcc -DHAVE_CONFIG_H -I. -I../../include -DTA_GEN_CODE -I../ta_common/ -Iframes/ -g -O2 -MT libta_abstract_gc_la-table_z.lo -MD -MP -MF .deps/libta_abstract_gc_la-table_z.Tpo -c tables/table_z.c  -fPIC -DPIC -o .libs/libta_abstract_gc_la-table_z.o\n",
            " gcc -DHAVE_CONFIG_H -I. -I../../include -DTA_GEN_CODE -I../ta_common/ -Iframes/ -g -O2 -MT libta_abstract_gc_la-table_z.lo -MD -MP -MF .deps/libta_abstract_gc_la-table_z.Tpo -c tables/table_z.c -o libta_abstract_gc_la-table_z.o >/dev/null 2>&1\n",
            "mv -f .deps/libta_abstract_gc_la-table_z.Tpo .deps/libta_abstract_gc_la-table_z.Plo\n",
            "/bin/bash ../../libtool --tag=CC   --mode=link gcc  -g -O2 -version-info 0:0:0  -o libta_abstract_gc.la  libta_abstract_gc_la-ta_group_idx.lo libta_abstract_gc_la-ta_def_ui.lo libta_abstract_gc_la-ta_abstract.lo libta_abstract_gc_la-ta_func_api.lo libta_abstract_gc_la-ta_frame.lo libta_abstract_gc_la-table_a.lo libta_abstract_gc_la-table_b.lo libta_abstract_gc_la-table_c.lo libta_abstract_gc_la-table_d.lo libta_abstract_gc_la-table_e.lo libta_abstract_gc_la-table_f.lo libta_abstract_gc_la-table_g.lo libta_abstract_gc_la-table_h.lo libta_abstract_gc_la-table_i.lo libta_abstract_gc_la-table_j.lo libta_abstract_gc_la-table_k.lo libta_abstract_gc_la-table_l.lo libta_abstract_gc_la-table_m.lo libta_abstract_gc_la-table_n.lo libta_abstract_gc_la-table_o.lo libta_abstract_gc_la-table_p.lo libta_abstract_gc_la-table_q.lo libta_abstract_gc_la-table_r.lo libta_abstract_gc_la-table_s.lo libta_abstract_gc_la-table_t.lo libta_abstract_gc_la-table_u.lo libta_abstract_gc_la-table_v.lo libta_abstract_gc_la-table_w.lo libta_abstract_gc_la-table_x.lo libta_abstract_gc_la-table_y.lo libta_abstract_gc_la-table_z.lo  -lpthread -ldl \n",
            "libtool: link: warning: `-version-info/-version-number' is ignored for convenience libraries\n",
            "ar cru .libs/libta_abstract_gc.a .libs/libta_abstract_gc_la-ta_group_idx.o .libs/libta_abstract_gc_la-ta_def_ui.o .libs/libta_abstract_gc_la-ta_abstract.o .libs/libta_abstract_gc_la-ta_func_api.o .libs/libta_abstract_gc_la-ta_frame.o .libs/libta_abstract_gc_la-table_a.o .libs/libta_abstract_gc_la-table_b.o .libs/libta_abstract_gc_la-table_c.o .libs/libta_abstract_gc_la-table_d.o .libs/libta_abstract_gc_la-table_e.o .libs/libta_abstract_gc_la-table_f.o .libs/libta_abstract_gc_la-table_g.o .libs/libta_abstract_gc_la-table_h.o .libs/libta_abstract_gc_la-table_i.o .libs/libta_abstract_gc_la-table_j.o .libs/libta_abstract_gc_la-table_k.o .libs/libta_abstract_gc_la-table_l.o .libs/libta_abstract_gc_la-table_m.o .libs/libta_abstract_gc_la-table_n.o .libs/libta_abstract_gc_la-table_o.o .libs/libta_abstract_gc_la-table_p.o .libs/libta_abstract_gc_la-table_q.o .libs/libta_abstract_gc_la-table_r.o .libs/libta_abstract_gc_la-table_s.o .libs/libta_abstract_gc_la-table_t.o .libs/libta_abstract_gc_la-table_u.o .libs/libta_abstract_gc_la-table_v.o .libs/libta_abstract_gc_la-table_w.o .libs/libta_abstract_gc_la-table_x.o .libs/libta_abstract_gc_la-table_y.o .libs/libta_abstract_gc_la-table_z.o\n",
            "ar: `u' modifier ignored since `D' is the default (see `U')\n",
            "ranlib .libs/libta_abstract_gc.a\n",
            "creating libta_abstract_gc.la\n",
            "(cd .libs && rm -f libta_abstract_gc.la && ln -s ../libta_abstract_gc.la libta_abstract_gc.la)\n",
            "make[2]: Leaving directory '/content/ta-lib/src/ta_abstract'\n",
            "Making all in ta_common\n",
            "make[2]: Entering directory '/content/ta-lib/src/ta_common'\n",
            "/bin/bash ../../libtool --tag=CC   --mode=compile gcc -DHAVE_CONFIG_H -I. -I../../include  -I../ta_common/   -g -O2 -MT ta_global.lo -MD -MP -MF .deps/ta_global.Tpo -c -o ta_global.lo ta_global.c\n",
            "mkdir .libs\n",
            " gcc -DHAVE_CONFIG_H -I. -I../../include -I../ta_common/ -g -O2 -MT ta_global.lo -MD -MP -MF .deps/ta_global.Tpo -c ta_global.c  -fPIC -DPIC -o .libs/ta_global.o\n",
            " gcc -DHAVE_CONFIG_H -I. -I../../include -I../ta_common/ -g -O2 -MT ta_global.lo -MD -MP -MF .deps/ta_global.Tpo -c ta_global.c -o ta_global.o >/dev/null 2>&1\n",
            "mv -f .deps/ta_global.Tpo .deps/ta_global.Plo\n",
            "/bin/bash ../../libtool --tag=CC   --mode=compile gcc -DHAVE_CONFIG_H -I. -I../../include  -I../ta_common/   -g -O2 -MT ta_retcode.lo -MD -MP -MF .deps/ta_retcode.Tpo -c -o ta_retcode.lo ta_retcode.c\n",
            " gcc -DHAVE_CONFIG_H -I. -I../../include -I../ta_common/ -g -O2 -MT ta_retcode.lo -MD -MP -MF .deps/ta_retcode.Tpo -c ta_retcode.c  -fPIC -DPIC -o .libs/ta_retcode.o\n",
            " gcc -DHAVE_CONFIG_H -I. -I../../include -I../ta_common/ -g -O2 -MT ta_retcode.lo -MD -MP -MF .deps/ta_retcode.Tpo -c ta_retcode.c -o ta_retcode.o >/dev/null 2>&1\n",
            "mv -f .deps/ta_retcode.Tpo .deps/ta_retcode.Plo\n",
            "/bin/bash ../../libtool --tag=CC   --mode=compile gcc -DHAVE_CONFIG_H -I. -I../../include  -I../ta_common/   -g -O2 -MT ta_version.lo -MD -MP -MF .deps/ta_version.Tpo -c -o ta_version.lo ta_version.c\n",
            " gcc -DHAVE_CONFIG_H -I. -I../../include -I../ta_common/ -g -O2 -MT ta_version.lo -MD -MP -MF .deps/ta_version.Tpo -c ta_version.c  -fPIC -DPIC -o .libs/ta_version.o\n",
            " gcc -DHAVE_CONFIG_H -I. -I../../include -I../ta_common/ -g -O2 -MT ta_version.lo -MD -MP -MF .deps/ta_version.Tpo -c ta_version.c -o ta_version.o >/dev/null 2>&1\n",
            "mv -f .deps/ta_version.Tpo .deps/ta_version.Plo\n",
            "/bin/bash ../../libtool --tag=CC   --mode=link gcc  -g -O2 -version-info 0:0:0  -o libta_common.la  ta_global.lo ta_retcode.lo ta_version.lo  -lpthread -ldl \n",
            "libtool: link: warning: `-version-info/-version-number' is ignored for convenience libraries\n",
            "ar cru .libs/libta_common.a .libs/ta_global.o .libs/ta_retcode.o .libs/ta_version.o\n",
            "ar: `u' modifier ignored since `D' is the default (see `U')\n",
            "ranlib .libs/libta_common.a\n",
            "creating libta_common.la\n",
            "(cd .libs && rm -f libta_common.la && ln -s ../libta_common.la libta_common.la)\n",
            "make[2]: Leaving directory '/content/ta-lib/src/ta_common'\n",
            "Making all in ta_func\n",
            "make[2]: Entering directory '/content/ta-lib/src/ta_func'\n",
            "/bin/bash ../../libtool --tag=CC   --mode=compile gcc -DHAVE_CONFIG_H -I. -I../../include  -I../ta_common/   -g -O2 -MT ta_utility.lo -MD -MP -MF .deps/ta_utility.Tpo -c -o ta_utility.lo ta_utility.c\n",
            "mkdir .libs\n",
            " gcc -DHAVE_CONFIG_H -I. -I../../include -I../ta_common/ -g -O2 -MT ta_utility.lo -MD -MP -MF .deps/ta_utility.Tpo -c ta_utility.c  -fPIC -DPIC -o .libs/ta_utility.o\n",
            " gcc -DHAVE_CONFIG_H -I. -I../../include -I../ta_common/ -g -O2 -MT ta_utility.lo -MD -MP -MF .deps/ta_utility.Tpo -c ta_utility.c -o ta_utility.o >/dev/null 2>&1\n",
            "mv -f .deps/ta_utility.Tpo .deps/ta_utility.Plo\n",
            "/bin/bash ../../libtool --tag=CC   --mode=compile gcc -DHAVE_CONFIG_H -I. -I../../include  -I../ta_common/   -g -O2 -MT ta_ACOS.lo -MD -MP -MF .deps/ta_ACOS.Tpo -c -o ta_ACOS.lo ta_ACOS.c\n",
            " gcc -DHAVE_CONFIG_H -I. -I../../include -I../ta_common/ -g -O2 -MT ta_ACOS.lo -MD -MP -MF .deps/ta_ACOS.Tpo -c ta_ACOS.c  -fPIC -DPIC -o .libs/ta_ACOS.o\n",
            " gcc -DHAVE_CONFIG_H -I. -I../../include -I../ta_common/ -g -O2 -MT ta_ACOS.lo -MD -MP -MF .deps/ta_ACOS.Tpo -c ta_ACOS.c -o ta_ACOS.o >/dev/null 2>&1\n",
            "mv -f .deps/ta_ACOS.Tpo .deps/ta_ACOS.Plo\n",
            "/bin/bash ../../libtool --tag=CC   --mode=compile gcc -DHAVE_CONFIG_H -I. -I../../include  -I../ta_common/   -g -O2 -MT ta_AD.lo -MD -MP -MF .deps/ta_AD.Tpo -c -o ta_AD.lo ta_AD.c\n",
            " gcc -DHAVE_CONFIG_H -I. -I../../include -I../ta_common/ -g -O2 -MT ta_AD.lo -MD -MP -MF .deps/ta_AD.Tpo -c ta_AD.c  -fPIC -DPIC -o .libs/ta_AD.o\n",
            " gcc -DHAVE_CONFIG_H -I. -I../../include -I../ta_common/ -g -O2 -MT ta_AD.lo -MD -MP -MF .deps/ta_AD.Tpo -c ta_AD.c -o ta_AD.o >/dev/null 2>&1\n",
            "mv -f .deps/ta_AD.Tpo .deps/ta_AD.Plo\n",
            "/bin/bash ../../libtool --tag=CC   --mode=compile gcc -DHAVE_CONFIG_H -I. -I../../include  -I../ta_common/   -g -O2 -MT ta_ADD.lo -MD -MP -MF .deps/ta_ADD.Tpo -c -o ta_ADD.lo ta_ADD.c\n",
            " gcc -DHAVE_CONFIG_H -I. -I../../include -I../ta_common/ -g -O2 -MT ta_ADD.lo -MD -MP -MF .deps/ta_ADD.Tpo -c ta_ADD.c  -fPIC -DPIC -o .libs/ta_ADD.o\n",
            " gcc -DHAVE_CONFIG_H -I. -I../../include -I../ta_common/ -g -O2 -MT ta_ADD.lo -MD -MP -MF .deps/ta_ADD.Tpo -c ta_ADD.c -o ta_ADD.o >/dev/null 2>&1\n",
            "mv -f .deps/ta_ADD.Tpo .deps/ta_ADD.Plo\n",
            "/bin/bash ../../libtool --tag=CC   --mode=compile gcc -DHAVE_CONFIG_H -I. -I../../include  -I../ta_common/   -g -O2 -MT ta_ADOSC.lo -MD -MP -MF .deps/ta_ADOSC.Tpo -c -o ta_ADOSC.lo ta_ADOSC.c\n",
            " gcc -DHAVE_CONFIG_H -I. -I../../include -I../ta_common/ -g -O2 -MT ta_ADOSC.lo -MD -MP -MF .deps/ta_ADOSC.Tpo -c ta_ADOSC.c  -fPIC -DPIC -o .libs/ta_ADOSC.o\n",
            " gcc -DHAVE_CONFIG_H -I. -I../../include -I../ta_common/ -g -O2 -MT ta_ADOSC.lo -MD -MP -MF .deps/ta_ADOSC.Tpo -c ta_ADOSC.c -o ta_ADOSC.o >/dev/null 2>&1\n",
            "mv -f .deps/ta_ADOSC.Tpo .deps/ta_ADOSC.Plo\n",
            "/bin/bash ../../libtool --tag=CC   --mode=compile gcc -DHAVE_CONFIG_H -I. -I../../include  -I../ta_common/   -g -O2 -MT ta_ADX.lo -MD -MP -MF .deps/ta_ADX.Tpo -c -o ta_ADX.lo ta_ADX.c\n",
            " gcc -DHAVE_CONFIG_H -I. -I../../include -I../ta_common/ -g -O2 -MT ta_ADX.lo -MD -MP -MF .deps/ta_ADX.Tpo -c ta_ADX.c  -fPIC -DPIC -o .libs/ta_ADX.o\n",
            " gcc -DHAVE_CONFIG_H -I. -I../../include -I../ta_common/ -g -O2 -MT ta_ADX.lo -MD -MP -MF .deps/ta_ADX.Tpo -c ta_ADX.c -o ta_ADX.o >/dev/null 2>&1\n",
            "mv -f .deps/ta_ADX.Tpo .deps/ta_ADX.Plo\n",
            "/bin/bash ../../libtool --tag=CC   --mode=compile gcc -DHAVE_CONFIG_H -I. -I../../include  -I../ta_common/   -g -O2 -MT ta_ADXR.lo -MD -MP -MF .deps/ta_ADXR.Tpo -c -o ta_ADXR.lo ta_ADXR.c\n",
            " gcc -DHAVE_CONFIG_H -I. -I../../include -I../ta_common/ -g -O2 -MT ta_ADXR.lo -MD -MP -MF .deps/ta_ADXR.Tpo -c ta_ADXR.c  -fPIC -DPIC -o .libs/ta_ADXR.o\n",
            " gcc -DHAVE_CONFIG_H -I. -I../../include -I../ta_common/ -g -O2 -MT ta_ADXR.lo -MD -MP -MF .deps/ta_ADXR.Tpo -c ta_ADXR.c -o ta_ADXR.o >/dev/null 2>&1\n",
            "mv -f .deps/ta_ADXR.Tpo .deps/ta_ADXR.Plo\n",
            "/bin/bash ../../libtool --tag=CC   --mode=compile gcc -DHAVE_CONFIG_H -I. -I../../include  -I../ta_common/   -g -O2 -MT ta_APO.lo -MD -MP -MF .deps/ta_APO.Tpo -c -o ta_APO.lo ta_APO.c\n",
            " gcc -DHAVE_CONFIG_H -I. -I../../include -I../ta_common/ -g -O2 -MT ta_APO.lo -MD -MP -MF .deps/ta_APO.Tpo -c ta_APO.c  -fPIC -DPIC -o .libs/ta_APO.o\n",
            " gcc -DHAVE_CONFIG_H -I. -I../../include -I../ta_common/ -g -O2 -MT ta_APO.lo -MD -MP -MF .deps/ta_APO.Tpo -c ta_APO.c -o ta_APO.o >/dev/null 2>&1\n",
            "mv -f .deps/ta_APO.Tpo .deps/ta_APO.Plo\n",
            "/bin/bash ../../libtool --tag=CC   --mode=compile gcc -DHAVE_CONFIG_H -I. -I../../include  -I../ta_common/   -g -O2 -MT ta_AROON.lo -MD -MP -MF .deps/ta_AROON.Tpo -c -o ta_AROON.lo ta_AROON.c\n",
            " gcc -DHAVE_CONFIG_H -I. -I../../include -I../ta_common/ -g -O2 -MT ta_AROON.lo -MD -MP -MF .deps/ta_AROON.Tpo -c ta_AROON.c  -fPIC -DPIC -o .libs/ta_AROON.o\n",
            " gcc -DHAVE_CONFIG_H -I. -I../../include -I../ta_common/ -g -O2 -MT ta_AROON.lo -MD -MP -MF .deps/ta_AROON.Tpo -c ta_AROON.c -o ta_AROON.o >/dev/null 2>&1\n",
            "mv -f .deps/ta_AROON.Tpo .deps/ta_AROON.Plo\n",
            "/bin/bash ../../libtool --tag=CC   --mode=compile gcc -DHAVE_CONFIG_H -I. -I../../include  -I../ta_common/   -g -O2 -MT ta_AROONOSC.lo -MD -MP -MF .deps/ta_AROONOSC.Tpo -c -o ta_AROONOSC.lo ta_AROONOSC.c\n",
            " gcc -DHAVE_CONFIG_H -I. -I../../include -I../ta_common/ -g -O2 -MT ta_AROONOSC.lo -MD -MP -MF .deps/ta_AROONOSC.Tpo -c ta_AROONOSC.c  -fPIC -DPIC -o .libs/ta_AROONOSC.o\n",
            " gcc -DHAVE_CONFIG_H -I. -I../../include -I../ta_common/ -g -O2 -MT ta_AROONOSC.lo -MD -MP -MF .deps/ta_AROONOSC.Tpo -c ta_AROONOSC.c -o ta_AROONOSC.o >/dev/null 2>&1\n",
            "mv -f .deps/ta_AROONOSC.Tpo .deps/ta_AROONOSC.Plo\n",
            "/bin/bash ../../libtool --tag=CC   --mode=compile gcc -DHAVE_CONFIG_H -I. -I../../include  -I../ta_common/   -g -O2 -MT ta_ASIN.lo -MD -MP -MF .deps/ta_ASIN.Tpo -c -o ta_ASIN.lo ta_ASIN.c\n",
            " gcc -DHAVE_CONFIG_H -I. -I../../include -I../ta_common/ -g -O2 -MT ta_ASIN.lo -MD -MP -MF .deps/ta_ASIN.Tpo -c ta_ASIN.c  -fPIC -DPIC -o .libs/ta_ASIN.o\n",
            " gcc -DHAVE_CONFIG_H -I. -I../../include -I../ta_common/ -g -O2 -MT ta_ASIN.lo -MD -MP -MF .deps/ta_ASIN.Tpo -c ta_ASIN.c -o ta_ASIN.o >/dev/null 2>&1\n",
            "mv -f .deps/ta_ASIN.Tpo .deps/ta_ASIN.Plo\n",
            "/bin/bash ../../libtool --tag=CC   --mode=compile gcc -DHAVE_CONFIG_H -I. -I../../include  -I../ta_common/   -g -O2 -MT ta_ATAN.lo -MD -MP -MF .deps/ta_ATAN.Tpo -c -o ta_ATAN.lo ta_ATAN.c\n",
            " gcc -DHAVE_CONFIG_H -I. -I../../include -I../ta_common/ -g -O2 -MT ta_ATAN.lo -MD -MP -MF .deps/ta_ATAN.Tpo -c ta_ATAN.c  -fPIC -DPIC -o .libs/ta_ATAN.o\n",
            " gcc -DHAVE_CONFIG_H -I. -I../../include -I../ta_common/ -g -O2 -MT ta_ATAN.lo -MD -MP -MF .deps/ta_ATAN.Tpo -c ta_ATAN.c -o ta_ATAN.o >/dev/null 2>&1\n",
            "mv -f .deps/ta_ATAN.Tpo .deps/ta_ATAN.Plo\n",
            "/bin/bash ../../libtool --tag=CC   --mode=compile gcc -DHAVE_CONFIG_H -I. -I../../include  -I../ta_common/   -g -O2 -MT ta_ATR.lo -MD -MP -MF .deps/ta_ATR.Tpo -c -o ta_ATR.lo ta_ATR.c\n",
            " gcc -DHAVE_CONFIG_H -I. -I../../include -I../ta_common/ -g -O2 -MT ta_ATR.lo -MD -MP -MF .deps/ta_ATR.Tpo -c ta_ATR.c  -fPIC -DPIC -o .libs/ta_ATR.o\n",
            " gcc -DHAVE_CONFIG_H -I. -I../../include -I../ta_common/ -g -O2 -MT ta_ATR.lo -MD -MP -MF .deps/ta_ATR.Tpo -c ta_ATR.c -o ta_ATR.o >/dev/null 2>&1\n",
            "mv -f .deps/ta_ATR.Tpo .deps/ta_ATR.Plo\n",
            "/bin/bash ../../libtool --tag=CC   --mode=compile gcc -DHAVE_CONFIG_H -I. -I../../include  -I../ta_common/   -g -O2 -MT ta_AVGPRICE.lo -MD -MP -MF .deps/ta_AVGPRICE.Tpo -c -o ta_AVGPRICE.lo ta_AVGPRICE.c\n",
            " gcc -DHAVE_CONFIG_H -I. -I../../include -I../ta_common/ -g -O2 -MT ta_AVGPRICE.lo -MD -MP -MF .deps/ta_AVGPRICE.Tpo -c ta_AVGPRICE.c  -fPIC -DPIC -o .libs/ta_AVGPRICE.o\n",
            " gcc -DHAVE_CONFIG_H -I. -I../../include -I../ta_common/ -g -O2 -MT ta_AVGPRICE.lo -MD -MP -MF .deps/ta_AVGPRICE.Tpo -c ta_AVGPRICE.c -o ta_AVGPRICE.o >/dev/null 2>&1\n",
            "mv -f .deps/ta_AVGPRICE.Tpo .deps/ta_AVGPRICE.Plo\n",
            "/bin/bash ../../libtool --tag=CC   --mode=compile gcc -DHAVE_CONFIG_H -I. -I../../include  -I../ta_common/   -g -O2 -MT ta_BBANDS.lo -MD -MP -MF .deps/ta_BBANDS.Tpo -c -o ta_BBANDS.lo ta_BBANDS.c\n",
            " gcc -DHAVE_CONFIG_H -I. -I../../include -I../ta_common/ -g -O2 -MT ta_BBANDS.lo -MD -MP -MF .deps/ta_BBANDS.Tpo -c ta_BBANDS.c  -fPIC -DPIC -o .libs/ta_BBANDS.o\n",
            " gcc -DHAVE_CONFIG_H -I. -I../../include -I../ta_common/ -g -O2 -MT ta_BBANDS.lo -MD -MP -MF .deps/ta_BBANDS.Tpo -c ta_BBANDS.c -o ta_BBANDS.o >/dev/null 2>&1\n",
            "mv -f .deps/ta_BBANDS.Tpo .deps/ta_BBANDS.Plo\n",
            "/bin/bash ../../libtool --tag=CC   --mode=compile gcc -DHAVE_CONFIG_H -I. -I../../include  -I../ta_common/   -g -O2 -MT ta_BETA.lo -MD -MP -MF .deps/ta_BETA.Tpo -c -o ta_BETA.lo ta_BETA.c\n",
            " gcc -DHAVE_CONFIG_H -I. -I../../include -I../ta_common/ -g -O2 -MT ta_BETA.lo -MD -MP -MF .deps/ta_BETA.Tpo -c ta_BETA.c  -fPIC -DPIC -o .libs/ta_BETA.o\n",
            " gcc -DHAVE_CONFIG_H -I. -I../../include -I../ta_common/ -g -O2 -MT ta_BETA.lo -MD -MP -MF .deps/ta_BETA.Tpo -c ta_BETA.c -o ta_BETA.o >/dev/null 2>&1\n",
            "mv -f .deps/ta_BETA.Tpo .deps/ta_BETA.Plo\n",
            "/bin/bash ../../libtool --tag=CC   --mode=compile gcc -DHAVE_CONFIG_H -I. -I../../include  -I../ta_common/   -g -O2 -MT ta_BOP.lo -MD -MP -MF .deps/ta_BOP.Tpo -c -o ta_BOP.lo ta_BOP.c\n",
            " gcc -DHAVE_CONFIG_H -I. -I../../include -I../ta_common/ -g -O2 -MT ta_BOP.lo -MD -MP -MF .deps/ta_BOP.Tpo -c ta_BOP.c  -fPIC -DPIC -o .libs/ta_BOP.o\n",
            " gcc -DHAVE_CONFIG_H -I. -I../../include -I../ta_common/ -g -O2 -MT ta_BOP.lo -MD -MP -MF .deps/ta_BOP.Tpo -c ta_BOP.c -o ta_BOP.o >/dev/null 2>&1\n",
            "mv -f .deps/ta_BOP.Tpo .deps/ta_BOP.Plo\n",
            "/bin/bash ../../libtool --tag=CC   --mode=compile gcc -DHAVE_CONFIG_H -I. -I../../include  -I../ta_common/   -g -O2 -MT ta_CCI.lo -MD -MP -MF .deps/ta_CCI.Tpo -c -o ta_CCI.lo ta_CCI.c\n",
            " gcc -DHAVE_CONFIG_H -I. -I../../include -I../ta_common/ -g -O2 -MT ta_CCI.lo -MD -MP -MF .deps/ta_CCI.Tpo -c ta_CCI.c  -fPIC -DPIC -o .libs/ta_CCI.o\n",
            " gcc -DHAVE_CONFIG_H -I. -I../../include -I../ta_common/ -g -O2 -MT ta_CCI.lo -MD -MP -MF .deps/ta_CCI.Tpo -c ta_CCI.c -o ta_CCI.o >/dev/null 2>&1\n",
            "mv -f .deps/ta_CCI.Tpo .deps/ta_CCI.Plo\n",
            "/bin/bash ../../libtool --tag=CC   --mode=compile gcc -DHAVE_CONFIG_H -I. -I../../include  -I../ta_common/   -g -O2 -MT ta_CDL2CROWS.lo -MD -MP -MF .deps/ta_CDL2CROWS.Tpo -c -o ta_CDL2CROWS.lo ta_CDL2CROWS.c\n",
            " gcc -DHAVE_CONFIG_H -I. -I../../include -I../ta_common/ -g -O2 -MT ta_CDL2CROWS.lo -MD -MP -MF .deps/ta_CDL2CROWS.Tpo -c ta_CDL2CROWS.c  -fPIC -DPIC -o .libs/ta_CDL2CROWS.o\n",
            " gcc -DHAVE_CONFIG_H -I. -I../../include -I../ta_common/ -g -O2 -MT ta_CDL2CROWS.lo -MD -MP -MF .deps/ta_CDL2CROWS.Tpo -c ta_CDL2CROWS.c -o ta_CDL2CROWS.o >/dev/null 2>&1\n",
            "mv -f .deps/ta_CDL2CROWS.Tpo .deps/ta_CDL2CROWS.Plo\n",
            "/bin/bash ../../libtool --tag=CC   --mode=compile gcc -DHAVE_CONFIG_H -I. -I../../include  -I../ta_common/   -g -O2 -MT ta_CDL3BLACKCROWS.lo -MD -MP -MF .deps/ta_CDL3BLACKCROWS.Tpo -c -o ta_CDL3BLACKCROWS.lo ta_CDL3BLACKCROWS.c\n",
            " gcc -DHAVE_CONFIG_H -I. -I../../include -I../ta_common/ -g -O2 -MT ta_CDL3BLACKCROWS.lo -MD -MP -MF .deps/ta_CDL3BLACKCROWS.Tpo -c ta_CDL3BLACKCROWS.c  -fPIC -DPIC -o .libs/ta_CDL3BLACKCROWS.o\n",
            " gcc -DHAVE_CONFIG_H -I. -I../../include -I../ta_common/ -g -O2 -MT ta_CDL3BLACKCROWS.lo -MD -MP -MF .deps/ta_CDL3BLACKCROWS.Tpo -c ta_CDL3BLACKCROWS.c -o ta_CDL3BLACKCROWS.o >/dev/null 2>&1\n",
            "mv -f .deps/ta_CDL3BLACKCROWS.Tpo .deps/ta_CDL3BLACKCROWS.Plo\n",
            "/bin/bash ../../libtool --tag=CC   --mode=compile gcc -DHAVE_CONFIG_H -I. -I../../include  -I../ta_common/   -g -O2 -MT ta_CDL3INSIDE.lo -MD -MP -MF .deps/ta_CDL3INSIDE.Tpo -c -o ta_CDL3INSIDE.lo ta_CDL3INSIDE.c\n",
            " gcc -DHAVE_CONFIG_H -I. -I../../include -I../ta_common/ -g -O2 -MT ta_CDL3INSIDE.lo -MD -MP -MF .deps/ta_CDL3INSIDE.Tpo -c ta_CDL3INSIDE.c  -fPIC -DPIC -o .libs/ta_CDL3INSIDE.o\n",
            " gcc -DHAVE_CONFIG_H -I. -I../../include -I../ta_common/ -g -O2 -MT ta_CDL3INSIDE.lo -MD -MP -MF .deps/ta_CDL3INSIDE.Tpo -c ta_CDL3INSIDE.c -o ta_CDL3INSIDE.o >/dev/null 2>&1\n",
            "mv -f .deps/ta_CDL3INSIDE.Tpo .deps/ta_CDL3INSIDE.Plo\n",
            "/bin/bash ../../libtool --tag=CC   --mode=compile gcc -DHAVE_CONFIG_H -I. -I../../include  -I../ta_common/   -g -O2 -MT ta_CDL3LINESTRIKE.lo -MD -MP -MF .deps/ta_CDL3LINESTRIKE.Tpo -c -o ta_CDL3LINESTRIKE.lo ta_CDL3LINESTRIKE.c\n",
            " gcc -DHAVE_CONFIG_H -I. -I../../include -I../ta_common/ -g -O2 -MT ta_CDL3LINESTRIKE.lo -MD -MP -MF .deps/ta_CDL3LINESTRIKE.Tpo -c ta_CDL3LINESTRIKE.c  -fPIC -DPIC -o .libs/ta_CDL3LINESTRIKE.o\n",
            " gcc -DHAVE_CONFIG_H -I. -I../../include -I../ta_common/ -g -O2 -MT ta_CDL3LINESTRIKE.lo -MD -MP -MF .deps/ta_CDL3LINESTRIKE.Tpo -c ta_CDL3LINESTRIKE.c -o ta_CDL3LINESTRIKE.o >/dev/null 2>&1\n",
            "mv -f .deps/ta_CDL3LINESTRIKE.Tpo .deps/ta_CDL3LINESTRIKE.Plo\n",
            "/bin/bash ../../libtool --tag=CC   --mode=compile gcc -DHAVE_CONFIG_H -I. -I../../include  -I../ta_common/   -g -O2 -MT ta_CDL3OUTSIDE.lo -MD -MP -MF .deps/ta_CDL3OUTSIDE.Tpo -c -o ta_CDL3OUTSIDE.lo ta_CDL3OUTSIDE.c\n",
            " gcc -DHAVE_CONFIG_H -I. -I../../include -I../ta_common/ -g -O2 -MT ta_CDL3OUTSIDE.lo -MD -MP -MF .deps/ta_CDL3OUTSIDE.Tpo -c ta_CDL3OUTSIDE.c  -fPIC -DPIC -o .libs/ta_CDL3OUTSIDE.o\n",
            " gcc -DHAVE_CONFIG_H -I. -I../../include -I../ta_common/ -g -O2 -MT ta_CDL3OUTSIDE.lo -MD -MP -MF .deps/ta_CDL3OUTSIDE.Tpo -c ta_CDL3OUTSIDE.c -o ta_CDL3OUTSIDE.o >/dev/null 2>&1\n",
            "mv -f .deps/ta_CDL3OUTSIDE.Tpo .deps/ta_CDL3OUTSIDE.Plo\n",
            "/bin/bash ../../libtool --tag=CC   --mode=compile gcc -DHAVE_CONFIG_H -I. -I../../include  -I../ta_common/   -g -O2 -MT ta_CDL3STARSINSOUTH.lo -MD -MP -MF .deps/ta_CDL3STARSINSOUTH.Tpo -c -o ta_CDL3STARSINSOUTH.lo ta_CDL3STARSINSOUTH.c\n",
            " gcc -DHAVE_CONFIG_H -I. -I../../include -I../ta_common/ -g -O2 -MT ta_CDL3STARSINSOUTH.lo -MD -MP -MF .deps/ta_CDL3STARSINSOUTH.Tpo -c ta_CDL3STARSINSOUTH.c  -fPIC -DPIC -o .libs/ta_CDL3STARSINSOUTH.o\n",
            " gcc -DHAVE_CONFIG_H -I. -I../../include -I../ta_common/ -g -O2 -MT ta_CDL3STARSINSOUTH.lo -MD -MP -MF .deps/ta_CDL3STARSINSOUTH.Tpo -c ta_CDL3STARSINSOUTH.c -o ta_CDL3STARSINSOUTH.o >/dev/null 2>&1\n",
            "mv -f .deps/ta_CDL3STARSINSOUTH.Tpo .deps/ta_CDL3STARSINSOUTH.Plo\n",
            "/bin/bash ../../libtool --tag=CC   --mode=compile gcc -DHAVE_CONFIG_H -I. -I../../include  -I../ta_common/   -g -O2 -MT ta_CDL3WHITESOLDIERS.lo -MD -MP -MF .deps/ta_CDL3WHITESOLDIERS.Tpo -c -o ta_CDL3WHITESOLDIERS.lo ta_CDL3WHITESOLDIERS.c\n",
            " gcc -DHAVE_CONFIG_H -I. -I../../include -I../ta_common/ -g -O2 -MT ta_CDL3WHITESOLDIERS.lo -MD -MP -MF .deps/ta_CDL3WHITESOLDIERS.Tpo -c ta_CDL3WHITESOLDIERS.c  -fPIC -DPIC -o .libs/ta_CDL3WHITESOLDIERS.o\n",
            " gcc -DHAVE_CONFIG_H -I. -I../../include -I../ta_common/ -g -O2 -MT ta_CDL3WHITESOLDIERS.lo -MD -MP -MF .deps/ta_CDL3WHITESOLDIERS.Tpo -c ta_CDL3WHITESOLDIERS.c -o ta_CDL3WHITESOLDIERS.o >/dev/null 2>&1\n",
            "mv -f .deps/ta_CDL3WHITESOLDIERS.Tpo .deps/ta_CDL3WHITESOLDIERS.Plo\n",
            "/bin/bash ../../libtool --tag=CC   --mode=compile gcc -DHAVE_CONFIG_H -I. -I../../include  -I../ta_common/   -g -O2 -MT ta_CDLABANDONEDBABY.lo -MD -MP -MF .deps/ta_CDLABANDONEDBABY.Tpo -c -o ta_CDLABANDONEDBABY.lo ta_CDLABANDONEDBABY.c\n",
            " gcc -DHAVE_CONFIG_H -I. -I../../include -I../ta_common/ -g -O2 -MT ta_CDLABANDONEDBABY.lo -MD -MP -MF .deps/ta_CDLABANDONEDBABY.Tpo -c ta_CDLABANDONEDBABY.c  -fPIC -DPIC -o .libs/ta_CDLABANDONEDBABY.o\n",
            " gcc -DHAVE_CONFIG_H -I. -I../../include -I../ta_common/ -g -O2 -MT ta_CDLABANDONEDBABY.lo -MD -MP -MF .deps/ta_CDLABANDONEDBABY.Tpo -c ta_CDLABANDONEDBABY.c -o ta_CDLABANDONEDBABY.o >/dev/null 2>&1\n",
            "mv -f .deps/ta_CDLABANDONEDBABY.Tpo .deps/ta_CDLABANDONEDBABY.Plo\n",
            "/bin/bash ../../libtool --tag=CC   --mode=compile gcc -DHAVE_CONFIG_H -I. -I../../include  -I../ta_common/   -g -O2 -MT ta_CDLADVANCEBLOCK.lo -MD -MP -MF .deps/ta_CDLADVANCEBLOCK.Tpo -c -o ta_CDLADVANCEBLOCK.lo ta_CDLADVANCEBLOCK.c\n",
            " gcc -DHAVE_CONFIG_H -I. -I../../include -I../ta_common/ -g -O2 -MT ta_CDLADVANCEBLOCK.lo -MD -MP -MF .deps/ta_CDLADVANCEBLOCK.Tpo -c ta_CDLADVANCEBLOCK.c  -fPIC -DPIC -o .libs/ta_CDLADVANCEBLOCK.o\n",
            " gcc -DHAVE_CONFIG_H -I. -I../../include -I../ta_common/ -g -O2 -MT ta_CDLADVANCEBLOCK.lo -MD -MP -MF .deps/ta_CDLADVANCEBLOCK.Tpo -c ta_CDLADVANCEBLOCK.c -o ta_CDLADVANCEBLOCK.o >/dev/null 2>&1\n",
            "mv -f .deps/ta_CDLADVANCEBLOCK.Tpo .deps/ta_CDLADVANCEBLOCK.Plo\n",
            "/bin/bash ../../libtool --tag=CC   --mode=compile gcc -DHAVE_CONFIG_H -I. -I../../include  -I../ta_common/   -g -O2 -MT ta_CDLBELTHOLD.lo -MD -MP -MF .deps/ta_CDLBELTHOLD.Tpo -c -o ta_CDLBELTHOLD.lo ta_CDLBELTHOLD.c\n",
            " gcc -DHAVE_CONFIG_H -I. -I../../include -I../ta_common/ -g -O2 -MT ta_CDLBELTHOLD.lo -MD -MP -MF .deps/ta_CDLBELTHOLD.Tpo -c ta_CDLBELTHOLD.c  -fPIC -DPIC -o .libs/ta_CDLBELTHOLD.o\n",
            " gcc -DHAVE_CONFIG_H -I. -I../../include -I../ta_common/ -g -O2 -MT ta_CDLBELTHOLD.lo -MD -MP -MF .deps/ta_CDLBELTHOLD.Tpo -c ta_CDLBELTHOLD.c -o ta_CDLBELTHOLD.o >/dev/null 2>&1\n",
            "mv -f .deps/ta_CDLBELTHOLD.Tpo .deps/ta_CDLBELTHOLD.Plo\n",
            "/bin/bash ../../libtool --tag=CC   --mode=compile gcc -DHAVE_CONFIG_H -I. -I../../include  -I../ta_common/   -g -O2 -MT ta_CDLBREAKAWAY.lo -MD -MP -MF .deps/ta_CDLBREAKAWAY.Tpo -c -o ta_CDLBREAKAWAY.lo ta_CDLBREAKAWAY.c\n",
            " gcc -DHAVE_CONFIG_H -I. -I../../include -I../ta_common/ -g -O2 -MT ta_CDLBREAKAWAY.lo -MD -MP -MF .deps/ta_CDLBREAKAWAY.Tpo -c ta_CDLBREAKAWAY.c  -fPIC -DPIC -o .libs/ta_CDLBREAKAWAY.o\n",
            " gcc -DHAVE_CONFIG_H -I. -I../../include -I../ta_common/ -g -O2 -MT ta_CDLBREAKAWAY.lo -MD -MP -MF .deps/ta_CDLBREAKAWAY.Tpo -c ta_CDLBREAKAWAY.c -o ta_CDLBREAKAWAY.o >/dev/null 2>&1\n",
            "mv -f .deps/ta_CDLBREAKAWAY.Tpo .deps/ta_CDLBREAKAWAY.Plo\n",
            "/bin/bash ../../libtool --tag=CC   --mode=compile gcc -DHAVE_CONFIG_H -I. -I../../include  -I../ta_common/   -g -O2 -MT ta_CDLCLOSINGMARUBOZU.lo -MD -MP -MF .deps/ta_CDLCLOSINGMARUBOZU.Tpo -c -o ta_CDLCLOSINGMARUBOZU.lo ta_CDLCLOSINGMARUBOZU.c\n",
            " gcc -DHAVE_CONFIG_H -I. -I../../include -I../ta_common/ -g -O2 -MT ta_CDLCLOSINGMARUBOZU.lo -MD -MP -MF .deps/ta_CDLCLOSINGMARUBOZU.Tpo -c ta_CDLCLOSINGMARUBOZU.c  -fPIC -DPIC -o .libs/ta_CDLCLOSINGMARUBOZU.o\n",
            " gcc -DHAVE_CONFIG_H -I. -I../../include -I../ta_common/ -g -O2 -MT ta_CDLCLOSINGMARUBOZU.lo -MD -MP -MF .deps/ta_CDLCLOSINGMARUBOZU.Tpo -c ta_CDLCLOSINGMARUBOZU.c -o ta_CDLCLOSINGMARUBOZU.o >/dev/null 2>&1\n",
            "mv -f .deps/ta_CDLCLOSINGMARUBOZU.Tpo .deps/ta_CDLCLOSINGMARUBOZU.Plo\n",
            "/bin/bash ../../libtool --tag=CC   --mode=compile gcc -DHAVE_CONFIG_H -I. -I../../include  -I../ta_common/   -g -O2 -MT ta_CDLCONCEALBABYSWALL.lo -MD -MP -MF .deps/ta_CDLCONCEALBABYSWALL.Tpo -c -o ta_CDLCONCEALBABYSWALL.lo ta_CDLCONCEALBABYSWALL.c\n",
            " gcc -DHAVE_CONFIG_H -I. -I../../include -I../ta_common/ -g -O2 -MT ta_CDLCONCEALBABYSWALL.lo -MD -MP -MF .deps/ta_CDLCONCEALBABYSWALL.Tpo -c ta_CDLCONCEALBABYSWALL.c  -fPIC -DPIC -o .libs/ta_CDLCONCEALBABYSWALL.o\n",
            " gcc -DHAVE_CONFIG_H -I. -I../../include -I../ta_common/ -g -O2 -MT ta_CDLCONCEALBABYSWALL.lo -MD -MP -MF .deps/ta_CDLCONCEALBABYSWALL.Tpo -c ta_CDLCONCEALBABYSWALL.c -o ta_CDLCONCEALBABYSWALL.o >/dev/null 2>&1\n",
            "mv -f .deps/ta_CDLCONCEALBABYSWALL.Tpo .deps/ta_CDLCONCEALBABYSWALL.Plo\n",
            "/bin/bash ../../libtool --tag=CC   --mode=compile gcc -DHAVE_CONFIG_H -I. -I../../include  -I../ta_common/   -g -O2 -MT ta_CDLCOUNTERATTACK.lo -MD -MP -MF .deps/ta_CDLCOUNTERATTACK.Tpo -c -o ta_CDLCOUNTERATTACK.lo ta_CDLCOUNTERATTACK.c\n",
            " gcc -DHAVE_CONFIG_H -I. -I../../include -I../ta_common/ -g -O2 -MT ta_CDLCOUNTERATTACK.lo -MD -MP -MF .deps/ta_CDLCOUNTERATTACK.Tpo -c ta_CDLCOUNTERATTACK.c  -fPIC -DPIC -o .libs/ta_CDLCOUNTERATTACK.o\n",
            " gcc -DHAVE_CONFIG_H -I. -I../../include -I../ta_common/ -g -O2 -MT ta_CDLCOUNTERATTACK.lo -MD -MP -MF .deps/ta_CDLCOUNTERATTACK.Tpo -c ta_CDLCOUNTERATTACK.c -o ta_CDLCOUNTERATTACK.o >/dev/null 2>&1\n",
            "mv -f .deps/ta_CDLCOUNTERATTACK.Tpo .deps/ta_CDLCOUNTERATTACK.Plo\n",
            "/bin/bash ../../libtool --tag=CC   --mode=compile gcc -DHAVE_CONFIG_H -I. -I../../include  -I../ta_common/   -g -O2 -MT ta_CDLDARKCLOUDCOVER.lo -MD -MP -MF .deps/ta_CDLDARKCLOUDCOVER.Tpo -c -o ta_CDLDARKCLOUDCOVER.lo ta_CDLDARKCLOUDCOVER.c\n",
            " gcc -DHAVE_CONFIG_H -I. -I../../include -I../ta_common/ -g -O2 -MT ta_CDLDARKCLOUDCOVER.lo -MD -MP -MF .deps/ta_CDLDARKCLOUDCOVER.Tpo -c ta_CDLDARKCLOUDCOVER.c  -fPIC -DPIC -o .libs/ta_CDLDARKCLOUDCOVER.o\n",
            " gcc -DHAVE_CONFIG_H -I. -I../../include -I../ta_common/ -g -O2 -MT ta_CDLDARKCLOUDCOVER.lo -MD -MP -MF .deps/ta_CDLDARKCLOUDCOVER.Tpo -c ta_CDLDARKCLOUDCOVER.c -o ta_CDLDARKCLOUDCOVER.o >/dev/null 2>&1\n",
            "mv -f .deps/ta_CDLDARKCLOUDCOVER.Tpo .deps/ta_CDLDARKCLOUDCOVER.Plo\n",
            "/bin/bash ../../libtool --tag=CC   --mode=compile gcc -DHAVE_CONFIG_H -I. -I../../include  -I../ta_common/   -g -O2 -MT ta_CDLDOJI.lo -MD -MP -MF .deps/ta_CDLDOJI.Tpo -c -o ta_CDLDOJI.lo ta_CDLDOJI.c\n",
            " gcc -DHAVE_CONFIG_H -I. -I../../include -I../ta_common/ -g -O2 -MT ta_CDLDOJI.lo -MD -MP -MF .deps/ta_CDLDOJI.Tpo -c ta_CDLDOJI.c  -fPIC -DPIC -o .libs/ta_CDLDOJI.o\n",
            " gcc -DHAVE_CONFIG_H -I. -I../../include -I../ta_common/ -g -O2 -MT ta_CDLDOJI.lo -MD -MP -MF .deps/ta_CDLDOJI.Tpo -c ta_CDLDOJI.c -o ta_CDLDOJI.o >/dev/null 2>&1\n",
            "mv -f .deps/ta_CDLDOJI.Tpo .deps/ta_CDLDOJI.Plo\n",
            "/bin/bash ../../libtool --tag=CC   --mode=compile gcc -DHAVE_CONFIG_H -I. -I../../include  -I../ta_common/   -g -O2 -MT ta_CDLDOJISTAR.lo -MD -MP -MF .deps/ta_CDLDOJISTAR.Tpo -c -o ta_CDLDOJISTAR.lo ta_CDLDOJISTAR.c\n",
            " gcc -DHAVE_CONFIG_H -I. -I../../include -I../ta_common/ -g -O2 -MT ta_CDLDOJISTAR.lo -MD -MP -MF .deps/ta_CDLDOJISTAR.Tpo -c ta_CDLDOJISTAR.c  -fPIC -DPIC -o .libs/ta_CDLDOJISTAR.o\n",
            " gcc -DHAVE_CONFIG_H -I. -I../../include -I../ta_common/ -g -O2 -MT ta_CDLDOJISTAR.lo -MD -MP -MF .deps/ta_CDLDOJISTAR.Tpo -c ta_CDLDOJISTAR.c -o ta_CDLDOJISTAR.o >/dev/null 2>&1\n",
            "mv -f .deps/ta_CDLDOJISTAR.Tpo .deps/ta_CDLDOJISTAR.Plo\n",
            "/bin/bash ../../libtool --tag=CC   --mode=compile gcc -DHAVE_CONFIG_H -I. -I../../include  -I../ta_common/   -g -O2 -MT ta_CDLDRAGONFLYDOJI.lo -MD -MP -MF .deps/ta_CDLDRAGONFLYDOJI.Tpo -c -o ta_CDLDRAGONFLYDOJI.lo ta_CDLDRAGONFLYDOJI.c\n",
            " gcc -DHAVE_CONFIG_H -I. -I../../include -I../ta_common/ -g -O2 -MT ta_CDLDRAGONFLYDOJI.lo -MD -MP -MF .deps/ta_CDLDRAGONFLYDOJI.Tpo -c ta_CDLDRAGONFLYDOJI.c  -fPIC -DPIC -o .libs/ta_CDLDRAGONFLYDOJI.o\n",
            " gcc -DHAVE_CONFIG_H -I. -I../../include -I../ta_common/ -g -O2 -MT ta_CDLDRAGONFLYDOJI.lo -MD -MP -MF .deps/ta_CDLDRAGONFLYDOJI.Tpo -c ta_CDLDRAGONFLYDOJI.c -o ta_CDLDRAGONFLYDOJI.o >/dev/null 2>&1\n",
            "mv -f .deps/ta_CDLDRAGONFLYDOJI.Tpo .deps/ta_CDLDRAGONFLYDOJI.Plo\n",
            "/bin/bash ../../libtool --tag=CC   --mode=compile gcc -DHAVE_CONFIG_H -I. -I../../include  -I../ta_common/   -g -O2 -MT ta_CDLENGULFING.lo -MD -MP -MF .deps/ta_CDLENGULFING.Tpo -c -o ta_CDLENGULFING.lo ta_CDLENGULFING.c\n",
            " gcc -DHAVE_CONFIG_H -I. -I../../include -I../ta_common/ -g -O2 -MT ta_CDLENGULFING.lo -MD -MP -MF .deps/ta_CDLENGULFING.Tpo -c ta_CDLENGULFING.c  -fPIC -DPIC -o .libs/ta_CDLENGULFING.o\n",
            " gcc -DHAVE_CONFIG_H -I. -I../../include -I../ta_common/ -g -O2 -MT ta_CDLENGULFING.lo -MD -MP -MF .deps/ta_CDLENGULFING.Tpo -c ta_CDLENGULFING.c -o ta_CDLENGULFING.o >/dev/null 2>&1\n",
            "mv -f .deps/ta_CDLENGULFING.Tpo .deps/ta_CDLENGULFING.Plo\n",
            "/bin/bash ../../libtool --tag=CC   --mode=compile gcc -DHAVE_CONFIG_H -I. -I../../include  -I../ta_common/   -g -O2 -MT ta_CDLEVENINGDOJISTAR.lo -MD -MP -MF .deps/ta_CDLEVENINGDOJISTAR.Tpo -c -o ta_CDLEVENINGDOJISTAR.lo ta_CDLEVENINGDOJISTAR.c\n",
            " gcc -DHAVE_CONFIG_H -I. -I../../include -I../ta_common/ -g -O2 -MT ta_CDLEVENINGDOJISTAR.lo -MD -MP -MF .deps/ta_CDLEVENINGDOJISTAR.Tpo -c ta_CDLEVENINGDOJISTAR.c  -fPIC -DPIC -o .libs/ta_CDLEVENINGDOJISTAR.o\n",
            " gcc -DHAVE_CONFIG_H -I. -I../../include -I../ta_common/ -g -O2 -MT ta_CDLEVENINGDOJISTAR.lo -MD -MP -MF .deps/ta_CDLEVENINGDOJISTAR.Tpo -c ta_CDLEVENINGDOJISTAR.c -o ta_CDLEVENINGDOJISTAR.o >/dev/null 2>&1\n",
            "mv -f .deps/ta_CDLEVENINGDOJISTAR.Tpo .deps/ta_CDLEVENINGDOJISTAR.Plo\n",
            "/bin/bash ../../libtool --tag=CC   --mode=compile gcc -DHAVE_CONFIG_H -I. -I../../include  -I../ta_common/   -g -O2 -MT ta_CDLEVENINGSTAR.lo -MD -MP -MF .deps/ta_CDLEVENINGSTAR.Tpo -c -o ta_CDLEVENINGSTAR.lo ta_CDLEVENINGSTAR.c\n",
            " gcc -DHAVE_CONFIG_H -I. -I../../include -I../ta_common/ -g -O2 -MT ta_CDLEVENINGSTAR.lo -MD -MP -MF .deps/ta_CDLEVENINGSTAR.Tpo -c ta_CDLEVENINGSTAR.c  -fPIC -DPIC -o .libs/ta_CDLEVENINGSTAR.o\n",
            " gcc -DHAVE_CONFIG_H -I. -I../../include -I../ta_common/ -g -O2 -MT ta_CDLEVENINGSTAR.lo -MD -MP -MF .deps/ta_CDLEVENINGSTAR.Tpo -c ta_CDLEVENINGSTAR.c -o ta_CDLEVENINGSTAR.o >/dev/null 2>&1\n",
            "mv -f .deps/ta_CDLEVENINGSTAR.Tpo .deps/ta_CDLEVENINGSTAR.Plo\n",
            "/bin/bash ../../libtool --tag=CC   --mode=compile gcc -DHAVE_CONFIG_H -I. -I../../include  -I../ta_common/   -g -O2 -MT ta_CDLGAPSIDESIDEWHITE.lo -MD -MP -MF .deps/ta_CDLGAPSIDESIDEWHITE.Tpo -c -o ta_CDLGAPSIDESIDEWHITE.lo ta_CDLGAPSIDESIDEWHITE.c\n",
            " gcc -DHAVE_CONFIG_H -I. -I../../include -I../ta_common/ -g -O2 -MT ta_CDLGAPSIDESIDEWHITE.lo -MD -MP -MF .deps/ta_CDLGAPSIDESIDEWHITE.Tpo -c ta_CDLGAPSIDESIDEWHITE.c  -fPIC -DPIC -o .libs/ta_CDLGAPSIDESIDEWHITE.o\n",
            " gcc -DHAVE_CONFIG_H -I. -I../../include -I../ta_common/ -g -O2 -MT ta_CDLGAPSIDESIDEWHITE.lo -MD -MP -MF .deps/ta_CDLGAPSIDESIDEWHITE.Tpo -c ta_CDLGAPSIDESIDEWHITE.c -o ta_CDLGAPSIDESIDEWHITE.o >/dev/null 2>&1\n",
            "mv -f .deps/ta_CDLGAPSIDESIDEWHITE.Tpo .deps/ta_CDLGAPSIDESIDEWHITE.Plo\n",
            "/bin/bash ../../libtool --tag=CC   --mode=compile gcc -DHAVE_CONFIG_H -I. -I../../include  -I../ta_common/   -g -O2 -MT ta_CDLGRAVESTONEDOJI.lo -MD -MP -MF .deps/ta_CDLGRAVESTONEDOJI.Tpo -c -o ta_CDLGRAVESTONEDOJI.lo ta_CDLGRAVESTONEDOJI.c\n",
            " gcc -DHAVE_CONFIG_H -I. -I../../include -I../ta_common/ -g -O2 -MT ta_CDLGRAVESTONEDOJI.lo -MD -MP -MF .deps/ta_CDLGRAVESTONEDOJI.Tpo -c ta_CDLGRAVESTONEDOJI.c  -fPIC -DPIC -o .libs/ta_CDLGRAVESTONEDOJI.o\n",
            " gcc -DHAVE_CONFIG_H -I. -I../../include -I../ta_common/ -g -O2 -MT ta_CDLGRAVESTONEDOJI.lo -MD -MP -MF .deps/ta_CDLGRAVESTONEDOJI.Tpo -c ta_CDLGRAVESTONEDOJI.c -o ta_CDLGRAVESTONEDOJI.o >/dev/null 2>&1\n",
            "mv -f .deps/ta_CDLGRAVESTONEDOJI.Tpo .deps/ta_CDLGRAVESTONEDOJI.Plo\n",
            "/bin/bash ../../libtool --tag=CC   --mode=compile gcc -DHAVE_CONFIG_H -I. -I../../include  -I../ta_common/   -g -O2 -MT ta_CDLHAMMER.lo -MD -MP -MF .deps/ta_CDLHAMMER.Tpo -c -o ta_CDLHAMMER.lo ta_CDLHAMMER.c\n",
            " gcc -DHAVE_CONFIG_H -I. -I../../include -I../ta_common/ -g -O2 -MT ta_CDLHAMMER.lo -MD -MP -MF .deps/ta_CDLHAMMER.Tpo -c ta_CDLHAMMER.c  -fPIC -DPIC -o .libs/ta_CDLHAMMER.o\n",
            " gcc -DHAVE_CONFIG_H -I. -I../../include -I../ta_common/ -g -O2 -MT ta_CDLHAMMER.lo -MD -MP -MF .deps/ta_CDLHAMMER.Tpo -c ta_CDLHAMMER.c -o ta_CDLHAMMER.o >/dev/null 2>&1\n",
            "mv -f .deps/ta_CDLHAMMER.Tpo .deps/ta_CDLHAMMER.Plo\n",
            "/bin/bash ../../libtool --tag=CC   --mode=compile gcc -DHAVE_CONFIG_H -I. -I../../include  -I../ta_common/   -g -O2 -MT ta_CDLHANGINGMAN.lo -MD -MP -MF .deps/ta_CDLHANGINGMAN.Tpo -c -o ta_CDLHANGINGMAN.lo ta_CDLHANGINGMAN.c\n",
            " gcc -DHAVE_CONFIG_H -I. -I../../include -I../ta_common/ -g -O2 -MT ta_CDLHANGINGMAN.lo -MD -MP -MF .deps/ta_CDLHANGINGMAN.Tpo -c ta_CDLHANGINGMAN.c  -fPIC -DPIC -o .libs/ta_CDLHANGINGMAN.o\n",
            " gcc -DHAVE_CONFIG_H -I. -I../../include -I../ta_common/ -g -O2 -MT ta_CDLHANGINGMAN.lo -MD -MP -MF .deps/ta_CDLHANGINGMAN.Tpo -c ta_CDLHANGINGMAN.c -o ta_CDLHANGINGMAN.o >/dev/null 2>&1\n",
            "mv -f .deps/ta_CDLHANGINGMAN.Tpo .deps/ta_CDLHANGINGMAN.Plo\n",
            "/bin/bash ../../libtool --tag=CC   --mode=compile gcc -DHAVE_CONFIG_H -I. -I../../include  -I../ta_common/   -g -O2 -MT ta_CDLHARAMI.lo -MD -MP -MF .deps/ta_CDLHARAMI.Tpo -c -o ta_CDLHARAMI.lo ta_CDLHARAMI.c\n",
            " gcc -DHAVE_CONFIG_H -I. -I../../include -I../ta_common/ -g -O2 -MT ta_CDLHARAMI.lo -MD -MP -MF .deps/ta_CDLHARAMI.Tpo -c ta_CDLHARAMI.c  -fPIC -DPIC -o .libs/ta_CDLHARAMI.o\n",
            " gcc -DHAVE_CONFIG_H -I. -I../../include -I../ta_common/ -g -O2 -MT ta_CDLHARAMI.lo -MD -MP -MF .deps/ta_CDLHARAMI.Tpo -c ta_CDLHARAMI.c -o ta_CDLHARAMI.o >/dev/null 2>&1\n",
            "mv -f .deps/ta_CDLHARAMI.Tpo .deps/ta_CDLHARAMI.Plo\n",
            "/bin/bash ../../libtool --tag=CC   --mode=compile gcc -DHAVE_CONFIG_H -I. -I../../include  -I../ta_common/   -g -O2 -MT ta_CDLHARAMICROSS.lo -MD -MP -MF .deps/ta_CDLHARAMICROSS.Tpo -c -o ta_CDLHARAMICROSS.lo ta_CDLHARAMICROSS.c\n",
            " gcc -DHAVE_CONFIG_H -I. -I../../include -I../ta_common/ -g -O2 -MT ta_CDLHARAMICROSS.lo -MD -MP -MF .deps/ta_CDLHARAMICROSS.Tpo -c ta_CDLHARAMICROSS.c  -fPIC -DPIC -o .libs/ta_CDLHARAMICROSS.o\n",
            " gcc -DHAVE_CONFIG_H -I. -I../../include -I../ta_common/ -g -O2 -MT ta_CDLHARAMICROSS.lo -MD -MP -MF .deps/ta_CDLHARAMICROSS.Tpo -c ta_CDLHARAMICROSS.c -o ta_CDLHARAMICROSS.o >/dev/null 2>&1\n",
            "mv -f .deps/ta_CDLHARAMICROSS.Tpo .deps/ta_CDLHARAMICROSS.Plo\n",
            "/bin/bash ../../libtool --tag=CC   --mode=compile gcc -DHAVE_CONFIG_H -I. -I../../include  -I../ta_common/   -g -O2 -MT ta_CDLHIGHWAVE.lo -MD -MP -MF .deps/ta_CDLHIGHWAVE.Tpo -c -o ta_CDLHIGHWAVE.lo ta_CDLHIGHWAVE.c\n",
            " gcc -DHAVE_CONFIG_H -I. -I../../include -I../ta_common/ -g -O2 -MT ta_CDLHIGHWAVE.lo -MD -MP -MF .deps/ta_CDLHIGHWAVE.Tpo -c ta_CDLHIGHWAVE.c  -fPIC -DPIC -o .libs/ta_CDLHIGHWAVE.o\n",
            " gcc -DHAVE_CONFIG_H -I. -I../../include -I../ta_common/ -g -O2 -MT ta_CDLHIGHWAVE.lo -MD -MP -MF .deps/ta_CDLHIGHWAVE.Tpo -c ta_CDLHIGHWAVE.c -o ta_CDLHIGHWAVE.o >/dev/null 2>&1\n",
            "mv -f .deps/ta_CDLHIGHWAVE.Tpo .deps/ta_CDLHIGHWAVE.Plo\n",
            "/bin/bash ../../libtool --tag=CC   --mode=compile gcc -DHAVE_CONFIG_H -I. -I../../include  -I../ta_common/   -g -O2 -MT ta_CDLHIKKAKE.lo -MD -MP -MF .deps/ta_CDLHIKKAKE.Tpo -c -o ta_CDLHIKKAKE.lo ta_CDLHIKKAKE.c\n",
            " gcc -DHAVE_CONFIG_H -I. -I../../include -I../ta_common/ -g -O2 -MT ta_CDLHIKKAKE.lo -MD -MP -MF .deps/ta_CDLHIKKAKE.Tpo -c ta_CDLHIKKAKE.c  -fPIC -DPIC -o .libs/ta_CDLHIKKAKE.o\n",
            " gcc -DHAVE_CONFIG_H -I. -I../../include -I../ta_common/ -g -O2 -MT ta_CDLHIKKAKE.lo -MD -MP -MF .deps/ta_CDLHIKKAKE.Tpo -c ta_CDLHIKKAKE.c -o ta_CDLHIKKAKE.o >/dev/null 2>&1\n",
            "mv -f .deps/ta_CDLHIKKAKE.Tpo .deps/ta_CDLHIKKAKE.Plo\n",
            "/bin/bash ../../libtool --tag=CC   --mode=compile gcc -DHAVE_CONFIG_H -I. -I../../include  -I../ta_common/   -g -O2 -MT ta_CDLHIKKAKEMOD.lo -MD -MP -MF .deps/ta_CDLHIKKAKEMOD.Tpo -c -o ta_CDLHIKKAKEMOD.lo ta_CDLHIKKAKEMOD.c\n",
            " gcc -DHAVE_CONFIG_H -I. -I../../include -I../ta_common/ -g -O2 -MT ta_CDLHIKKAKEMOD.lo -MD -MP -MF .deps/ta_CDLHIKKAKEMOD.Tpo -c ta_CDLHIKKAKEMOD.c  -fPIC -DPIC -o .libs/ta_CDLHIKKAKEMOD.o\n",
            " gcc -DHAVE_CONFIG_H -I. -I../../include -I../ta_common/ -g -O2 -MT ta_CDLHIKKAKEMOD.lo -MD -MP -MF .deps/ta_CDLHIKKAKEMOD.Tpo -c ta_CDLHIKKAKEMOD.c -o ta_CDLHIKKAKEMOD.o >/dev/null 2>&1\n",
            "mv -f .deps/ta_CDLHIKKAKEMOD.Tpo .deps/ta_CDLHIKKAKEMOD.Plo\n",
            "/bin/bash ../../libtool --tag=CC   --mode=compile gcc -DHAVE_CONFIG_H -I. -I../../include  -I../ta_common/   -g -O2 -MT ta_CDLHOMINGPIGEON.lo -MD -MP -MF .deps/ta_CDLHOMINGPIGEON.Tpo -c -o ta_CDLHOMINGPIGEON.lo ta_CDLHOMINGPIGEON.c\n",
            " gcc -DHAVE_CONFIG_H -I. -I../../include -I../ta_common/ -g -O2 -MT ta_CDLHOMINGPIGEON.lo -MD -MP -MF .deps/ta_CDLHOMINGPIGEON.Tpo -c ta_CDLHOMINGPIGEON.c  -fPIC -DPIC -o .libs/ta_CDLHOMINGPIGEON.o\n",
            " gcc -DHAVE_CONFIG_H -I. -I../../include -I../ta_common/ -g -O2 -MT ta_CDLHOMINGPIGEON.lo -MD -MP -MF .deps/ta_CDLHOMINGPIGEON.Tpo -c ta_CDLHOMINGPIGEON.c -o ta_CDLHOMINGPIGEON.o >/dev/null 2>&1\n",
            "mv -f .deps/ta_CDLHOMINGPIGEON.Tpo .deps/ta_CDLHOMINGPIGEON.Plo\n",
            "/bin/bash ../../libtool --tag=CC   --mode=compile gcc -DHAVE_CONFIG_H -I. -I../../include  -I../ta_common/   -g -O2 -MT ta_CDLIDENTICAL3CROWS.lo -MD -MP -MF .deps/ta_CDLIDENTICAL3CROWS.Tpo -c -o ta_CDLIDENTICAL3CROWS.lo ta_CDLIDENTICAL3CROWS.c\n",
            " gcc -DHAVE_CONFIG_H -I. -I../../include -I../ta_common/ -g -O2 -MT ta_CDLIDENTICAL3CROWS.lo -MD -MP -MF .deps/ta_CDLIDENTICAL3CROWS.Tpo -c ta_CDLIDENTICAL3CROWS.c  -fPIC -DPIC -o .libs/ta_CDLIDENTICAL3CROWS.o\n",
            " gcc -DHAVE_CONFIG_H -I. -I../../include -I../ta_common/ -g -O2 -MT ta_CDLIDENTICAL3CROWS.lo -MD -MP -MF .deps/ta_CDLIDENTICAL3CROWS.Tpo -c ta_CDLIDENTICAL3CROWS.c -o ta_CDLIDENTICAL3CROWS.o >/dev/null 2>&1\n",
            "mv -f .deps/ta_CDLIDENTICAL3CROWS.Tpo .deps/ta_CDLIDENTICAL3CROWS.Plo\n",
            "/bin/bash ../../libtool --tag=CC   --mode=compile gcc -DHAVE_CONFIG_H -I. -I../../include  -I../ta_common/   -g -O2 -MT ta_CDLINNECK.lo -MD -MP -MF .deps/ta_CDLINNECK.Tpo -c -o ta_CDLINNECK.lo ta_CDLINNECK.c\n",
            " gcc -DHAVE_CONFIG_H -I. -I../../include -I../ta_common/ -g -O2 -MT ta_CDLINNECK.lo -MD -MP -MF .deps/ta_CDLINNECK.Tpo -c ta_CDLINNECK.c  -fPIC -DPIC -o .libs/ta_CDLINNECK.o\n",
            " gcc -DHAVE_CONFIG_H -I. -I../../include -I../ta_common/ -g -O2 -MT ta_CDLINNECK.lo -MD -MP -MF .deps/ta_CDLINNECK.Tpo -c ta_CDLINNECK.c -o ta_CDLINNECK.o >/dev/null 2>&1\n",
            "mv -f .deps/ta_CDLINNECK.Tpo .deps/ta_CDLINNECK.Plo\n",
            "/bin/bash ../../libtool --tag=CC   --mode=compile gcc -DHAVE_CONFIG_H -I. -I../../include  -I../ta_common/   -g -O2 -MT ta_CDLINVERTEDHAMMER.lo -MD -MP -MF .deps/ta_CDLINVERTEDHAMMER.Tpo -c -o ta_CDLINVERTEDHAMMER.lo ta_CDLINVERTEDHAMMER.c\n",
            " gcc -DHAVE_CONFIG_H -I. -I../../include -I../ta_common/ -g -O2 -MT ta_CDLINVERTEDHAMMER.lo -MD -MP -MF .deps/ta_CDLINVERTEDHAMMER.Tpo -c ta_CDLINVERTEDHAMMER.c  -fPIC -DPIC -o .libs/ta_CDLINVERTEDHAMMER.o\n",
            " gcc -DHAVE_CONFIG_H -I. -I../../include -I../ta_common/ -g -O2 -MT ta_CDLINVERTEDHAMMER.lo -MD -MP -MF .deps/ta_CDLINVERTEDHAMMER.Tpo -c ta_CDLINVERTEDHAMMER.c -o ta_CDLINVERTEDHAMMER.o >/dev/null 2>&1\n",
            "mv -f .deps/ta_CDLINVERTEDHAMMER.Tpo .deps/ta_CDLINVERTEDHAMMER.Plo\n",
            "/bin/bash ../../libtool --tag=CC   --mode=compile gcc -DHAVE_CONFIG_H -I. -I../../include  -I../ta_common/   -g -O2 -MT ta_CDLKICKING.lo -MD -MP -MF .deps/ta_CDLKICKING.Tpo -c -o ta_CDLKICKING.lo ta_CDLKICKING.c\n",
            " gcc -DHAVE_CONFIG_H -I. -I../../include -I../ta_common/ -g -O2 -MT ta_CDLKICKING.lo -MD -MP -MF .deps/ta_CDLKICKING.Tpo -c ta_CDLKICKING.c  -fPIC -DPIC -o .libs/ta_CDLKICKING.o\n",
            " gcc -DHAVE_CONFIG_H -I. -I../../include -I../ta_common/ -g -O2 -MT ta_CDLKICKING.lo -MD -MP -MF .deps/ta_CDLKICKING.Tpo -c ta_CDLKICKING.c -o ta_CDLKICKING.o >/dev/null 2>&1\n",
            "mv -f .deps/ta_CDLKICKING.Tpo .deps/ta_CDLKICKING.Plo\n",
            "/bin/bash ../../libtool --tag=CC   --mode=compile gcc -DHAVE_CONFIG_H -I. -I../../include  -I../ta_common/   -g -O2 -MT ta_CDLKICKINGBYLENGTH.lo -MD -MP -MF .deps/ta_CDLKICKINGBYLENGTH.Tpo -c -o ta_CDLKICKINGBYLENGTH.lo ta_CDLKICKINGBYLENGTH.c\n",
            " gcc -DHAVE_CONFIG_H -I. -I../../include -I../ta_common/ -g -O2 -MT ta_CDLKICKINGBYLENGTH.lo -MD -MP -MF .deps/ta_CDLKICKINGBYLENGTH.Tpo -c ta_CDLKICKINGBYLENGTH.c  -fPIC -DPIC -o .libs/ta_CDLKICKINGBYLENGTH.o\n",
            " gcc -DHAVE_CONFIG_H -I. -I../../include -I../ta_common/ -g -O2 -MT ta_CDLKICKINGBYLENGTH.lo -MD -MP -MF .deps/ta_CDLKICKINGBYLENGTH.Tpo -c ta_CDLKICKINGBYLENGTH.c -o ta_CDLKICKINGBYLENGTH.o >/dev/null 2>&1\n",
            "mv -f .deps/ta_CDLKICKINGBYLENGTH.Tpo .deps/ta_CDLKICKINGBYLENGTH.Plo\n",
            "/bin/bash ../../libtool --tag=CC   --mode=compile gcc -DHAVE_CONFIG_H -I. -I../../include  -I../ta_common/   -g -O2 -MT ta_CDLLADDERBOTTOM.lo -MD -MP -MF .deps/ta_CDLLADDERBOTTOM.Tpo -c -o ta_CDLLADDERBOTTOM.lo ta_CDLLADDERBOTTOM.c\n",
            " gcc -DHAVE_CONFIG_H -I. -I../../include -I../ta_common/ -g -O2 -MT ta_CDLLADDERBOTTOM.lo -MD -MP -MF .deps/ta_CDLLADDERBOTTOM.Tpo -c ta_CDLLADDERBOTTOM.c  -fPIC -DPIC -o .libs/ta_CDLLADDERBOTTOM.o\n",
            " gcc -DHAVE_CONFIG_H -I. -I../../include -I../ta_common/ -g -O2 -MT ta_CDLLADDERBOTTOM.lo -MD -MP -MF .deps/ta_CDLLADDERBOTTOM.Tpo -c ta_CDLLADDERBOTTOM.c -o ta_CDLLADDERBOTTOM.o >/dev/null 2>&1\n",
            "mv -f .deps/ta_CDLLADDERBOTTOM.Tpo .deps/ta_CDLLADDERBOTTOM.Plo\n",
            "/bin/bash ../../libtool --tag=CC   --mode=compile gcc -DHAVE_CONFIG_H -I. -I../../include  -I../ta_common/   -g -O2 -MT ta_CDLLONGLEGGEDDOJI.lo -MD -MP -MF .deps/ta_CDLLONGLEGGEDDOJI.Tpo -c -o ta_CDLLONGLEGGEDDOJI.lo ta_CDLLONGLEGGEDDOJI.c\n",
            " gcc -DHAVE_CONFIG_H -I. -I../../include -I../ta_common/ -g -O2 -MT ta_CDLLONGLEGGEDDOJI.lo -MD -MP -MF .deps/ta_CDLLONGLEGGEDDOJI.Tpo -c ta_CDLLONGLEGGEDDOJI.c  -fPIC -DPIC -o .libs/ta_CDLLONGLEGGEDDOJI.o\n",
            " gcc -DHAVE_CONFIG_H -I. -I../../include -I../ta_common/ -g -O2 -MT ta_CDLLONGLEGGEDDOJI.lo -MD -MP -MF .deps/ta_CDLLONGLEGGEDDOJI.Tpo -c ta_CDLLONGLEGGEDDOJI.c -o ta_CDLLONGLEGGEDDOJI.o >/dev/null 2>&1\n",
            "mv -f .deps/ta_CDLLONGLEGGEDDOJI.Tpo .deps/ta_CDLLONGLEGGEDDOJI.Plo\n",
            "/bin/bash ../../libtool --tag=CC   --mode=compile gcc -DHAVE_CONFIG_H -I. -I../../include  -I../ta_common/   -g -O2 -MT ta_CDLLONGLINE.lo -MD -MP -MF .deps/ta_CDLLONGLINE.Tpo -c -o ta_CDLLONGLINE.lo ta_CDLLONGLINE.c\n",
            " gcc -DHAVE_CONFIG_H -I. -I../../include -I../ta_common/ -g -O2 -MT ta_CDLLONGLINE.lo -MD -MP -MF .deps/ta_CDLLONGLINE.Tpo -c ta_CDLLONGLINE.c  -fPIC -DPIC -o .libs/ta_CDLLONGLINE.o\n",
            " gcc -DHAVE_CONFIG_H -I. -I../../include -I../ta_common/ -g -O2 -MT ta_CDLLONGLINE.lo -MD -MP -MF .deps/ta_CDLLONGLINE.Tpo -c ta_CDLLONGLINE.c -o ta_CDLLONGLINE.o >/dev/null 2>&1\n",
            "mv -f .deps/ta_CDLLONGLINE.Tpo .deps/ta_CDLLONGLINE.Plo\n",
            "/bin/bash ../../libtool --tag=CC   --mode=compile gcc -DHAVE_CONFIG_H -I. -I../../include  -I../ta_common/   -g -O2 -MT ta_CDLMARUBOZU.lo -MD -MP -MF .deps/ta_CDLMARUBOZU.Tpo -c -o ta_CDLMARUBOZU.lo ta_CDLMARUBOZU.c\n",
            " gcc -DHAVE_CONFIG_H -I. -I../../include -I../ta_common/ -g -O2 -MT ta_CDLMARUBOZU.lo -MD -MP -MF .deps/ta_CDLMARUBOZU.Tpo -c ta_CDLMARUBOZU.c  -fPIC -DPIC -o .libs/ta_CDLMARUBOZU.o\n",
            " gcc -DHAVE_CONFIG_H -I. -I../../include -I../ta_common/ -g -O2 -MT ta_CDLMARUBOZU.lo -MD -MP -MF .deps/ta_CDLMARUBOZU.Tpo -c ta_CDLMARUBOZU.c -o ta_CDLMARUBOZU.o >/dev/null 2>&1\n",
            "mv -f .deps/ta_CDLMARUBOZU.Tpo .deps/ta_CDLMARUBOZU.Plo\n",
            "/bin/bash ../../libtool --tag=CC   --mode=compile gcc -DHAVE_CONFIG_H -I. -I../../include  -I../ta_common/   -g -O2 -MT ta_CDLMATCHINGLOW.lo -MD -MP -MF .deps/ta_CDLMATCHINGLOW.Tpo -c -o ta_CDLMATCHINGLOW.lo ta_CDLMATCHINGLOW.c\n",
            " gcc -DHAVE_CONFIG_H -I. -I../../include -I../ta_common/ -g -O2 -MT ta_CDLMATCHINGLOW.lo -MD -MP -MF .deps/ta_CDLMATCHINGLOW.Tpo -c ta_CDLMATCHINGLOW.c  -fPIC -DPIC -o .libs/ta_CDLMATCHINGLOW.o\n",
            " gcc -DHAVE_CONFIG_H -I. -I../../include -I../ta_common/ -g -O2 -MT ta_CDLMATCHINGLOW.lo -MD -MP -MF .deps/ta_CDLMATCHINGLOW.Tpo -c ta_CDLMATCHINGLOW.c -o ta_CDLMATCHINGLOW.o >/dev/null 2>&1\n",
            "mv -f .deps/ta_CDLMATCHINGLOW.Tpo .deps/ta_CDLMATCHINGLOW.Plo\n",
            "/bin/bash ../../libtool --tag=CC   --mode=compile gcc -DHAVE_CONFIG_H -I. -I../../include  -I../ta_common/   -g -O2 -MT ta_CDLMATHOLD.lo -MD -MP -MF .deps/ta_CDLMATHOLD.Tpo -c -o ta_CDLMATHOLD.lo ta_CDLMATHOLD.c\n",
            " gcc -DHAVE_CONFIG_H -I. -I../../include -I../ta_common/ -g -O2 -MT ta_CDLMATHOLD.lo -MD -MP -MF .deps/ta_CDLMATHOLD.Tpo -c ta_CDLMATHOLD.c  -fPIC -DPIC -o .libs/ta_CDLMATHOLD.o\n",
            " gcc -DHAVE_CONFIG_H -I. -I../../include -I../ta_common/ -g -O2 -MT ta_CDLMATHOLD.lo -MD -MP -MF .deps/ta_CDLMATHOLD.Tpo -c ta_CDLMATHOLD.c -o ta_CDLMATHOLD.o >/dev/null 2>&1\n",
            "mv -f .deps/ta_CDLMATHOLD.Tpo .deps/ta_CDLMATHOLD.Plo\n",
            "/bin/bash ../../libtool --tag=CC   --mode=compile gcc -DHAVE_CONFIG_H -I. -I../../include  -I../ta_common/   -g -O2 -MT ta_CDLMORNINGDOJISTAR.lo -MD -MP -MF .deps/ta_CDLMORNINGDOJISTAR.Tpo -c -o ta_CDLMORNINGDOJISTAR.lo ta_CDLMORNINGDOJISTAR.c\n",
            " gcc -DHAVE_CONFIG_H -I. -I../../include -I../ta_common/ -g -O2 -MT ta_CDLMORNINGDOJISTAR.lo -MD -MP -MF .deps/ta_CDLMORNINGDOJISTAR.Tpo -c ta_CDLMORNINGDOJISTAR.c  -fPIC -DPIC -o .libs/ta_CDLMORNINGDOJISTAR.o\n",
            " gcc -DHAVE_CONFIG_H -I. -I../../include -I../ta_common/ -g -O2 -MT ta_CDLMORNINGDOJISTAR.lo -MD -MP -MF .deps/ta_CDLMORNINGDOJISTAR.Tpo -c ta_CDLMORNINGDOJISTAR.c -o ta_CDLMORNINGDOJISTAR.o >/dev/null 2>&1\n",
            "mv -f .deps/ta_CDLMORNINGDOJISTAR.Tpo .deps/ta_CDLMORNINGDOJISTAR.Plo\n",
            "/bin/bash ../../libtool --tag=CC   --mode=compile gcc -DHAVE_CONFIG_H -I. -I../../include  -I../ta_common/   -g -O2 -MT ta_CDLMORNINGSTAR.lo -MD -MP -MF .deps/ta_CDLMORNINGSTAR.Tpo -c -o ta_CDLMORNINGSTAR.lo ta_CDLMORNINGSTAR.c\n",
            " gcc -DHAVE_CONFIG_H -I. -I../../include -I../ta_common/ -g -O2 -MT ta_CDLMORNINGSTAR.lo -MD -MP -MF .deps/ta_CDLMORNINGSTAR.Tpo -c ta_CDLMORNINGSTAR.c  -fPIC -DPIC -o .libs/ta_CDLMORNINGSTAR.o\n",
            " gcc -DHAVE_CONFIG_H -I. -I../../include -I../ta_common/ -g -O2 -MT ta_CDLMORNINGSTAR.lo -MD -MP -MF .deps/ta_CDLMORNINGSTAR.Tpo -c ta_CDLMORNINGSTAR.c -o ta_CDLMORNINGSTAR.o >/dev/null 2>&1\n",
            "mv -f .deps/ta_CDLMORNINGSTAR.Tpo .deps/ta_CDLMORNINGSTAR.Plo\n",
            "/bin/bash ../../libtool --tag=CC   --mode=compile gcc -DHAVE_CONFIG_H -I. -I../../include  -I../ta_common/   -g -O2 -MT ta_CDLONNECK.lo -MD -MP -MF .deps/ta_CDLONNECK.Tpo -c -o ta_CDLONNECK.lo ta_CDLONNECK.c\n",
            " gcc -DHAVE_CONFIG_H -I. -I../../include -I../ta_common/ -g -O2 -MT ta_CDLONNECK.lo -MD -MP -MF .deps/ta_CDLONNECK.Tpo -c ta_CDLONNECK.c  -fPIC -DPIC -o .libs/ta_CDLONNECK.o\n",
            " gcc -DHAVE_CONFIG_H -I. -I../../include -I../ta_common/ -g -O2 -MT ta_CDLONNECK.lo -MD -MP -MF .deps/ta_CDLONNECK.Tpo -c ta_CDLONNECK.c -o ta_CDLONNECK.o >/dev/null 2>&1\n",
            "mv -f .deps/ta_CDLONNECK.Tpo .deps/ta_CDLONNECK.Plo\n",
            "/bin/bash ../../libtool --tag=CC   --mode=compile gcc -DHAVE_CONFIG_H -I. -I../../include  -I../ta_common/   -g -O2 -MT ta_CDLPIERCING.lo -MD -MP -MF .deps/ta_CDLPIERCING.Tpo -c -o ta_CDLPIERCING.lo ta_CDLPIERCING.c\n",
            " gcc -DHAVE_CONFIG_H -I. -I../../include -I../ta_common/ -g -O2 -MT ta_CDLPIERCING.lo -MD -MP -MF .deps/ta_CDLPIERCING.Tpo -c ta_CDLPIERCING.c  -fPIC -DPIC -o .libs/ta_CDLPIERCING.o\n",
            " gcc -DHAVE_CONFIG_H -I. -I../../include -I../ta_common/ -g -O2 -MT ta_CDLPIERCING.lo -MD -MP -MF .deps/ta_CDLPIERCING.Tpo -c ta_CDLPIERCING.c -o ta_CDLPIERCING.o >/dev/null 2>&1\n",
            "mv -f .deps/ta_CDLPIERCING.Tpo .deps/ta_CDLPIERCING.Plo\n",
            "/bin/bash ../../libtool --tag=CC   --mode=compile gcc -DHAVE_CONFIG_H -I. -I../../include  -I../ta_common/   -g -O2 -MT ta_CDLRICKSHAWMAN.lo -MD -MP -MF .deps/ta_CDLRICKSHAWMAN.Tpo -c -o ta_CDLRICKSHAWMAN.lo ta_CDLRICKSHAWMAN.c\n",
            " gcc -DHAVE_CONFIG_H -I. -I../../include -I../ta_common/ -g -O2 -MT ta_CDLRICKSHAWMAN.lo -MD -MP -MF .deps/ta_CDLRICKSHAWMAN.Tpo -c ta_CDLRICKSHAWMAN.c  -fPIC -DPIC -o .libs/ta_CDLRICKSHAWMAN.o\n",
            " gcc -DHAVE_CONFIG_H -I. -I../../include -I../ta_common/ -g -O2 -MT ta_CDLRICKSHAWMAN.lo -MD -MP -MF .deps/ta_CDLRICKSHAWMAN.Tpo -c ta_CDLRICKSHAWMAN.c -o ta_CDLRICKSHAWMAN.o >/dev/null 2>&1\n",
            "mv -f .deps/ta_CDLRICKSHAWMAN.Tpo .deps/ta_CDLRICKSHAWMAN.Plo\n",
            "/bin/bash ../../libtool --tag=CC   --mode=compile gcc -DHAVE_CONFIG_H -I. -I../../include  -I../ta_common/   -g -O2 -MT ta_CDLRISEFALL3METHODS.lo -MD -MP -MF .deps/ta_CDLRISEFALL3METHODS.Tpo -c -o ta_CDLRISEFALL3METHODS.lo ta_CDLRISEFALL3METHODS.c\n",
            " gcc -DHAVE_CONFIG_H -I. -I../../include -I../ta_common/ -g -O2 -MT ta_CDLRISEFALL3METHODS.lo -MD -MP -MF .deps/ta_CDLRISEFALL3METHODS.Tpo -c ta_CDLRISEFALL3METHODS.c  -fPIC -DPIC -o .libs/ta_CDLRISEFALL3METHODS.o\n",
            " gcc -DHAVE_CONFIG_H -I. -I../../include -I../ta_common/ -g -O2 -MT ta_CDLRISEFALL3METHODS.lo -MD -MP -MF .deps/ta_CDLRISEFALL3METHODS.Tpo -c ta_CDLRISEFALL3METHODS.c -o ta_CDLRISEFALL3METHODS.o >/dev/null 2>&1\n",
            "mv -f .deps/ta_CDLRISEFALL3METHODS.Tpo .deps/ta_CDLRISEFALL3METHODS.Plo\n",
            "/bin/bash ../../libtool --tag=CC   --mode=compile gcc -DHAVE_CONFIG_H -I. -I../../include  -I../ta_common/   -g -O2 -MT ta_CDLSEPARATINGLINES.lo -MD -MP -MF .deps/ta_CDLSEPARATINGLINES.Tpo -c -o ta_CDLSEPARATINGLINES.lo ta_CDLSEPARATINGLINES.c\n",
            " gcc -DHAVE_CONFIG_H -I. -I../../include -I../ta_common/ -g -O2 -MT ta_CDLSEPARATINGLINES.lo -MD -MP -MF .deps/ta_CDLSEPARATINGLINES.Tpo -c ta_CDLSEPARATINGLINES.c  -fPIC -DPIC -o .libs/ta_CDLSEPARATINGLINES.o\n",
            " gcc -DHAVE_CONFIG_H -I. -I../../include -I../ta_common/ -g -O2 -MT ta_CDLSEPARATINGLINES.lo -MD -MP -MF .deps/ta_CDLSEPARATINGLINES.Tpo -c ta_CDLSEPARATINGLINES.c -o ta_CDLSEPARATINGLINES.o >/dev/null 2>&1\n",
            "mv -f .deps/ta_CDLSEPARATINGLINES.Tpo .deps/ta_CDLSEPARATINGLINES.Plo\n",
            "/bin/bash ../../libtool --tag=CC   --mode=compile gcc -DHAVE_CONFIG_H -I. -I../../include  -I../ta_common/   -g -O2 -MT ta_CDLSHOOTINGSTAR.lo -MD -MP -MF .deps/ta_CDLSHOOTINGSTAR.Tpo -c -o ta_CDLSHOOTINGSTAR.lo ta_CDLSHOOTINGSTAR.c\n",
            " gcc -DHAVE_CONFIG_H -I. -I../../include -I../ta_common/ -g -O2 -MT ta_CDLSHOOTINGSTAR.lo -MD -MP -MF .deps/ta_CDLSHOOTINGSTAR.Tpo -c ta_CDLSHOOTINGSTAR.c  -fPIC -DPIC -o .libs/ta_CDLSHOOTINGSTAR.o\n",
            " gcc -DHAVE_CONFIG_H -I. -I../../include -I../ta_common/ -g -O2 -MT ta_CDLSHOOTINGSTAR.lo -MD -MP -MF .deps/ta_CDLSHOOTINGSTAR.Tpo -c ta_CDLSHOOTINGSTAR.c -o ta_CDLSHOOTINGSTAR.o >/dev/null 2>&1\n",
            "mv -f .deps/ta_CDLSHOOTINGSTAR.Tpo .deps/ta_CDLSHOOTINGSTAR.Plo\n",
            "/bin/bash ../../libtool --tag=CC   --mode=compile gcc -DHAVE_CONFIG_H -I. -I../../include  -I../ta_common/   -g -O2 -MT ta_CDLSHORTLINE.lo -MD -MP -MF .deps/ta_CDLSHORTLINE.Tpo -c -o ta_CDLSHORTLINE.lo ta_CDLSHORTLINE.c\n",
            " gcc -DHAVE_CONFIG_H -I. -I../../include -I../ta_common/ -g -O2 -MT ta_CDLSHORTLINE.lo -MD -MP -MF .deps/ta_CDLSHORTLINE.Tpo -c ta_CDLSHORTLINE.c  -fPIC -DPIC -o .libs/ta_CDLSHORTLINE.o\n",
            " gcc -DHAVE_CONFIG_H -I. -I../../include -I../ta_common/ -g -O2 -MT ta_CDLSHORTLINE.lo -MD -MP -MF .deps/ta_CDLSHORTLINE.Tpo -c ta_CDLSHORTLINE.c -o ta_CDLSHORTLINE.o >/dev/null 2>&1\n",
            "mv -f .deps/ta_CDLSHORTLINE.Tpo .deps/ta_CDLSHORTLINE.Plo\n",
            "/bin/bash ../../libtool --tag=CC   --mode=compile gcc -DHAVE_CONFIG_H -I. -I../../include  -I../ta_common/   -g -O2 -MT ta_CDLSPINNINGTOP.lo -MD -MP -MF .deps/ta_CDLSPINNINGTOP.Tpo -c -o ta_CDLSPINNINGTOP.lo ta_CDLSPINNINGTOP.c\n",
            " gcc -DHAVE_CONFIG_H -I. -I../../include -I../ta_common/ -g -O2 -MT ta_CDLSPINNINGTOP.lo -MD -MP -MF .deps/ta_CDLSPINNINGTOP.Tpo -c ta_CDLSPINNINGTOP.c  -fPIC -DPIC -o .libs/ta_CDLSPINNINGTOP.o\n",
            " gcc -DHAVE_CONFIG_H -I. -I../../include -I../ta_common/ -g -O2 -MT ta_CDLSPINNINGTOP.lo -MD -MP -MF .deps/ta_CDLSPINNINGTOP.Tpo -c ta_CDLSPINNINGTOP.c -o ta_CDLSPINNINGTOP.o >/dev/null 2>&1\n",
            "mv -f .deps/ta_CDLSPINNINGTOP.Tpo .deps/ta_CDLSPINNINGTOP.Plo\n",
            "/bin/bash ../../libtool --tag=CC   --mode=compile gcc -DHAVE_CONFIG_H -I. -I../../include  -I../ta_common/   -g -O2 -MT ta_CDLSTALLEDPATTERN.lo -MD -MP -MF .deps/ta_CDLSTALLEDPATTERN.Tpo -c -o ta_CDLSTALLEDPATTERN.lo ta_CDLSTALLEDPATTERN.c\n",
            " gcc -DHAVE_CONFIG_H -I. -I../../include -I../ta_common/ -g -O2 -MT ta_CDLSTALLEDPATTERN.lo -MD -MP -MF .deps/ta_CDLSTALLEDPATTERN.Tpo -c ta_CDLSTALLEDPATTERN.c  -fPIC -DPIC -o .libs/ta_CDLSTALLEDPATTERN.o\n",
            " gcc -DHAVE_CONFIG_H -I. -I../../include -I../ta_common/ -g -O2 -MT ta_CDLSTALLEDPATTERN.lo -MD -MP -MF .deps/ta_CDLSTALLEDPATTERN.Tpo -c ta_CDLSTALLEDPATTERN.c -o ta_CDLSTALLEDPATTERN.o >/dev/null 2>&1\n",
            "mv -f .deps/ta_CDLSTALLEDPATTERN.Tpo .deps/ta_CDLSTALLEDPATTERN.Plo\n",
            "/bin/bash ../../libtool --tag=CC   --mode=compile gcc -DHAVE_CONFIG_H -I. -I../../include  -I../ta_common/   -g -O2 -MT ta_CDLSTICKSANDWICH.lo -MD -MP -MF .deps/ta_CDLSTICKSANDWICH.Tpo -c -o ta_CDLSTICKSANDWICH.lo ta_CDLSTICKSANDWICH.c\n",
            " gcc -DHAVE_CONFIG_H -I. -I../../include -I../ta_common/ -g -O2 -MT ta_CDLSTICKSANDWICH.lo -MD -MP -MF .deps/ta_CDLSTICKSANDWICH.Tpo -c ta_CDLSTICKSANDWICH.c  -fPIC -DPIC -o .libs/ta_CDLSTICKSANDWICH.o\n",
            " gcc -DHAVE_CONFIG_H -I. -I../../include -I../ta_common/ -g -O2 -MT ta_CDLSTICKSANDWICH.lo -MD -MP -MF .deps/ta_CDLSTICKSANDWICH.Tpo -c ta_CDLSTICKSANDWICH.c -o ta_CDLSTICKSANDWICH.o >/dev/null 2>&1\n",
            "mv -f .deps/ta_CDLSTICKSANDWICH.Tpo .deps/ta_CDLSTICKSANDWICH.Plo\n",
            "/bin/bash ../../libtool --tag=CC   --mode=compile gcc -DHAVE_CONFIG_H -I. -I../../include  -I../ta_common/   -g -O2 -MT ta_CDLTAKURI.lo -MD -MP -MF .deps/ta_CDLTAKURI.Tpo -c -o ta_CDLTAKURI.lo ta_CDLTAKURI.c\n",
            " gcc -DHAVE_CONFIG_H -I. -I../../include -I../ta_common/ -g -O2 -MT ta_CDLTAKURI.lo -MD -MP -MF .deps/ta_CDLTAKURI.Tpo -c ta_CDLTAKURI.c  -fPIC -DPIC -o .libs/ta_CDLTAKURI.o\n",
            " gcc -DHAVE_CONFIG_H -I. -I../../include -I../ta_common/ -g -O2 -MT ta_CDLTAKURI.lo -MD -MP -MF .deps/ta_CDLTAKURI.Tpo -c ta_CDLTAKURI.c -o ta_CDLTAKURI.o >/dev/null 2>&1\n",
            "mv -f .deps/ta_CDLTAKURI.Tpo .deps/ta_CDLTAKURI.Plo\n",
            "/bin/bash ../../libtool --tag=CC   --mode=compile gcc -DHAVE_CONFIG_H -I. -I../../include  -I../ta_common/   -g -O2 -MT ta_CDLTASUKIGAP.lo -MD -MP -MF .deps/ta_CDLTASUKIGAP.Tpo -c -o ta_CDLTASUKIGAP.lo ta_CDLTASUKIGAP.c\n",
            " gcc -DHAVE_CONFIG_H -I. -I../../include -I../ta_common/ -g -O2 -MT ta_CDLTASUKIGAP.lo -MD -MP -MF .deps/ta_CDLTASUKIGAP.Tpo -c ta_CDLTASUKIGAP.c  -fPIC -DPIC -o .libs/ta_CDLTASUKIGAP.o\n",
            " gcc -DHAVE_CONFIG_H -I. -I../../include -I../ta_common/ -g -O2 -MT ta_CDLTASUKIGAP.lo -MD -MP -MF .deps/ta_CDLTASUKIGAP.Tpo -c ta_CDLTASUKIGAP.c -o ta_CDLTASUKIGAP.o >/dev/null 2>&1\n",
            "mv -f .deps/ta_CDLTASUKIGAP.Tpo .deps/ta_CDLTASUKIGAP.Plo\n",
            "/bin/bash ../../libtool --tag=CC   --mode=compile gcc -DHAVE_CONFIG_H -I. -I../../include  -I../ta_common/   -g -O2 -MT ta_CDLTHRUSTING.lo -MD -MP -MF .deps/ta_CDLTHRUSTING.Tpo -c -o ta_CDLTHRUSTING.lo ta_CDLTHRUSTING.c\n",
            " gcc -DHAVE_CONFIG_H -I. -I../../include -I../ta_common/ -g -O2 -MT ta_CDLTHRUSTING.lo -MD -MP -MF .deps/ta_CDLTHRUSTING.Tpo -c ta_CDLTHRUSTING.c  -fPIC -DPIC -o .libs/ta_CDLTHRUSTING.o\n",
            " gcc -DHAVE_CONFIG_H -I. -I../../include -I../ta_common/ -g -O2 -MT ta_CDLTHRUSTING.lo -MD -MP -MF .deps/ta_CDLTHRUSTING.Tpo -c ta_CDLTHRUSTING.c -o ta_CDLTHRUSTING.o >/dev/null 2>&1\n",
            "mv -f .deps/ta_CDLTHRUSTING.Tpo .deps/ta_CDLTHRUSTING.Plo\n",
            "/bin/bash ../../libtool --tag=CC   --mode=compile gcc -DHAVE_CONFIG_H -I. -I../../include  -I../ta_common/   -g -O2 -MT ta_CDLTRISTAR.lo -MD -MP -MF .deps/ta_CDLTRISTAR.Tpo -c -o ta_CDLTRISTAR.lo ta_CDLTRISTAR.c\n",
            " gcc -DHAVE_CONFIG_H -I. -I../../include -I../ta_common/ -g -O2 -MT ta_CDLTRISTAR.lo -MD -MP -MF .deps/ta_CDLTRISTAR.Tpo -c ta_CDLTRISTAR.c  -fPIC -DPIC -o .libs/ta_CDLTRISTAR.o\n",
            " gcc -DHAVE_CONFIG_H -I. -I../../include -I../ta_common/ -g -O2 -MT ta_CDLTRISTAR.lo -MD -MP -MF .deps/ta_CDLTRISTAR.Tpo -c ta_CDLTRISTAR.c -o ta_CDLTRISTAR.o >/dev/null 2>&1\n",
            "mv -f .deps/ta_CDLTRISTAR.Tpo .deps/ta_CDLTRISTAR.Plo\n",
            "/bin/bash ../../libtool --tag=CC   --mode=compile gcc -DHAVE_CONFIG_H -I. -I../../include  -I../ta_common/   -g -O2 -MT ta_CDLUNIQUE3RIVER.lo -MD -MP -MF .deps/ta_CDLUNIQUE3RIVER.Tpo -c -o ta_CDLUNIQUE3RIVER.lo ta_CDLUNIQUE3RIVER.c\n",
            " gcc -DHAVE_CONFIG_H -I. -I../../include -I../ta_common/ -g -O2 -MT ta_CDLUNIQUE3RIVER.lo -MD -MP -MF .deps/ta_CDLUNIQUE3RIVER.Tpo -c ta_CDLUNIQUE3RIVER.c  -fPIC -DPIC -o .libs/ta_CDLUNIQUE3RIVER.o\n",
            " gcc -DHAVE_CONFIG_H -I. -I../../include -I../ta_common/ -g -O2 -MT ta_CDLUNIQUE3RIVER.lo -MD -MP -MF .deps/ta_CDLUNIQUE3RIVER.Tpo -c ta_CDLUNIQUE3RIVER.c -o ta_CDLUNIQUE3RIVER.o >/dev/null 2>&1\n",
            "mv -f .deps/ta_CDLUNIQUE3RIVER.Tpo .deps/ta_CDLUNIQUE3RIVER.Plo\n",
            "/bin/bash ../../libtool --tag=CC   --mode=compile gcc -DHAVE_CONFIG_H -I. -I../../include  -I../ta_common/   -g -O2 -MT ta_CDLUPSIDEGAP2CROWS.lo -MD -MP -MF .deps/ta_CDLUPSIDEGAP2CROWS.Tpo -c -o ta_CDLUPSIDEGAP2CROWS.lo ta_CDLUPSIDEGAP2CROWS.c\n",
            " gcc -DHAVE_CONFIG_H -I. -I../../include -I../ta_common/ -g -O2 -MT ta_CDLUPSIDEGAP2CROWS.lo -MD -MP -MF .deps/ta_CDLUPSIDEGAP2CROWS.Tpo -c ta_CDLUPSIDEGAP2CROWS.c  -fPIC -DPIC -o .libs/ta_CDLUPSIDEGAP2CROWS.o\n",
            " gcc -DHAVE_CONFIG_H -I. -I../../include -I../ta_common/ -g -O2 -MT ta_CDLUPSIDEGAP2CROWS.lo -MD -MP -MF .deps/ta_CDLUPSIDEGAP2CROWS.Tpo -c ta_CDLUPSIDEGAP2CROWS.c -o ta_CDLUPSIDEGAP2CROWS.o >/dev/null 2>&1\n",
            "mv -f .deps/ta_CDLUPSIDEGAP2CROWS.Tpo .deps/ta_CDLUPSIDEGAP2CROWS.Plo\n",
            "/bin/bash ../../libtool --tag=CC   --mode=compile gcc -DHAVE_CONFIG_H -I. -I../../include  -I../ta_common/   -g -O2 -MT ta_CDLXSIDEGAP3METHODS.lo -MD -MP -MF .deps/ta_CDLXSIDEGAP3METHODS.Tpo -c -o ta_CDLXSIDEGAP3METHODS.lo ta_CDLXSIDEGAP3METHODS.c\n",
            " gcc -DHAVE_CONFIG_H -I. -I../../include -I../ta_common/ -g -O2 -MT ta_CDLXSIDEGAP3METHODS.lo -MD -MP -MF .deps/ta_CDLXSIDEGAP3METHODS.Tpo -c ta_CDLXSIDEGAP3METHODS.c  -fPIC -DPIC -o .libs/ta_CDLXSIDEGAP3METHODS.o\n",
            " gcc -DHAVE_CONFIG_H -I. -I../../include -I../ta_common/ -g -O2 -MT ta_CDLXSIDEGAP3METHODS.lo -MD -MP -MF .deps/ta_CDLXSIDEGAP3METHODS.Tpo -c ta_CDLXSIDEGAP3METHODS.c -o ta_CDLXSIDEGAP3METHODS.o >/dev/null 2>&1\n",
            "mv -f .deps/ta_CDLXSIDEGAP3METHODS.Tpo .deps/ta_CDLXSIDEGAP3METHODS.Plo\n",
            "/bin/bash ../../libtool --tag=CC   --mode=compile gcc -DHAVE_CONFIG_H -I. -I../../include  -I../ta_common/   -g -O2 -MT ta_CEIL.lo -MD -MP -MF .deps/ta_CEIL.Tpo -c -o ta_CEIL.lo ta_CEIL.c\n",
            " gcc -DHAVE_CONFIG_H -I. -I../../include -I../ta_common/ -g -O2 -MT ta_CEIL.lo -MD -MP -MF .deps/ta_CEIL.Tpo -c ta_CEIL.c  -fPIC -DPIC -o .libs/ta_CEIL.o\n",
            " gcc -DHAVE_CONFIG_H -I. -I../../include -I../ta_common/ -g -O2 -MT ta_CEIL.lo -MD -MP -MF .deps/ta_CEIL.Tpo -c ta_CEIL.c -o ta_CEIL.o >/dev/null 2>&1\n",
            "mv -f .deps/ta_CEIL.Tpo .deps/ta_CEIL.Plo\n",
            "/bin/bash ../../libtool --tag=CC   --mode=compile gcc -DHAVE_CONFIG_H -I. -I../../include  -I../ta_common/   -g -O2 -MT ta_CMO.lo -MD -MP -MF .deps/ta_CMO.Tpo -c -o ta_CMO.lo ta_CMO.c\n",
            " gcc -DHAVE_CONFIG_H -I. -I../../include -I../ta_common/ -g -O2 -MT ta_CMO.lo -MD -MP -MF .deps/ta_CMO.Tpo -c ta_CMO.c  -fPIC -DPIC -o .libs/ta_CMO.o\n",
            " gcc -DHAVE_CONFIG_H -I. -I../../include -I../ta_common/ -g -O2 -MT ta_CMO.lo -MD -MP -MF .deps/ta_CMO.Tpo -c ta_CMO.c -o ta_CMO.o >/dev/null 2>&1\n",
            "mv -f .deps/ta_CMO.Tpo .deps/ta_CMO.Plo\n",
            "/bin/bash ../../libtool --tag=CC   --mode=compile gcc -DHAVE_CONFIG_H -I. -I../../include  -I../ta_common/   -g -O2 -MT ta_CORREL.lo -MD -MP -MF .deps/ta_CORREL.Tpo -c -o ta_CORREL.lo ta_CORREL.c\n",
            " gcc -DHAVE_CONFIG_H -I. -I../../include -I../ta_common/ -g -O2 -MT ta_CORREL.lo -MD -MP -MF .deps/ta_CORREL.Tpo -c ta_CORREL.c  -fPIC -DPIC -o .libs/ta_CORREL.o\n",
            " gcc -DHAVE_CONFIG_H -I. -I../../include -I../ta_common/ -g -O2 -MT ta_CORREL.lo -MD -MP -MF .deps/ta_CORREL.Tpo -c ta_CORREL.c -o ta_CORREL.o >/dev/null 2>&1\n",
            "mv -f .deps/ta_CORREL.Tpo .deps/ta_CORREL.Plo\n",
            "/bin/bash ../../libtool --tag=CC   --mode=compile gcc -DHAVE_CONFIG_H -I. -I../../include  -I../ta_common/   -g -O2 -MT ta_COS.lo -MD -MP -MF .deps/ta_COS.Tpo -c -o ta_COS.lo ta_COS.c\n",
            " gcc -DHAVE_CONFIG_H -I. -I../../include -I../ta_common/ -g -O2 -MT ta_COS.lo -MD -MP -MF .deps/ta_COS.Tpo -c ta_COS.c  -fPIC -DPIC -o .libs/ta_COS.o\n",
            " gcc -DHAVE_CONFIG_H -I. -I../../include -I../ta_common/ -g -O2 -MT ta_COS.lo -MD -MP -MF .deps/ta_COS.Tpo -c ta_COS.c -o ta_COS.o >/dev/null 2>&1\n",
            "mv -f .deps/ta_COS.Tpo .deps/ta_COS.Plo\n",
            "/bin/bash ../../libtool --tag=CC   --mode=compile gcc -DHAVE_CONFIG_H -I. -I../../include  -I../ta_common/   -g -O2 -MT ta_COSH.lo -MD -MP -MF .deps/ta_COSH.Tpo -c -o ta_COSH.lo ta_COSH.c\n",
            " gcc -DHAVE_CONFIG_H -I. -I../../include -I../ta_common/ -g -O2 -MT ta_COSH.lo -MD -MP -MF .deps/ta_COSH.Tpo -c ta_COSH.c  -fPIC -DPIC -o .libs/ta_COSH.o\n",
            " gcc -DHAVE_CONFIG_H -I. -I../../include -I../ta_common/ -g -O2 -MT ta_COSH.lo -MD -MP -MF .deps/ta_COSH.Tpo -c ta_COSH.c -o ta_COSH.o >/dev/null 2>&1\n",
            "mv -f .deps/ta_COSH.Tpo .deps/ta_COSH.Plo\n",
            "/bin/bash ../../libtool --tag=CC   --mode=compile gcc -DHAVE_CONFIG_H -I. -I../../include  -I../ta_common/   -g -O2 -MT ta_DEMA.lo -MD -MP -MF .deps/ta_DEMA.Tpo -c -o ta_DEMA.lo ta_DEMA.c\n",
            " gcc -DHAVE_CONFIG_H -I. -I../../include -I../ta_common/ -g -O2 -MT ta_DEMA.lo -MD -MP -MF .deps/ta_DEMA.Tpo -c ta_DEMA.c  -fPIC -DPIC -o .libs/ta_DEMA.o\n",
            " gcc -DHAVE_CONFIG_H -I. -I../../include -I../ta_common/ -g -O2 -MT ta_DEMA.lo -MD -MP -MF .deps/ta_DEMA.Tpo -c ta_DEMA.c -o ta_DEMA.o >/dev/null 2>&1\n",
            "mv -f .deps/ta_DEMA.Tpo .deps/ta_DEMA.Plo\n",
            "/bin/bash ../../libtool --tag=CC   --mode=compile gcc -DHAVE_CONFIG_H -I. -I../../include  -I../ta_common/   -g -O2 -MT ta_DIV.lo -MD -MP -MF .deps/ta_DIV.Tpo -c -o ta_DIV.lo ta_DIV.c\n",
            " gcc -DHAVE_CONFIG_H -I. -I../../include -I../ta_common/ -g -O2 -MT ta_DIV.lo -MD -MP -MF .deps/ta_DIV.Tpo -c ta_DIV.c  -fPIC -DPIC -o .libs/ta_DIV.o\n",
            " gcc -DHAVE_CONFIG_H -I. -I../../include -I../ta_common/ -g -O2 -MT ta_DIV.lo -MD -MP -MF .deps/ta_DIV.Tpo -c ta_DIV.c -o ta_DIV.o >/dev/null 2>&1\n",
            "mv -f .deps/ta_DIV.Tpo .deps/ta_DIV.Plo\n",
            "/bin/bash ../../libtool --tag=CC   --mode=compile gcc -DHAVE_CONFIG_H -I. -I../../include  -I../ta_common/   -g -O2 -MT ta_DX.lo -MD -MP -MF .deps/ta_DX.Tpo -c -o ta_DX.lo ta_DX.c\n",
            " gcc -DHAVE_CONFIG_H -I. -I../../include -I../ta_common/ -g -O2 -MT ta_DX.lo -MD -MP -MF .deps/ta_DX.Tpo -c ta_DX.c  -fPIC -DPIC -o .libs/ta_DX.o\n",
            " gcc -DHAVE_CONFIG_H -I. -I../../include -I../ta_common/ -g -O2 -MT ta_DX.lo -MD -MP -MF .deps/ta_DX.Tpo -c ta_DX.c -o ta_DX.o >/dev/null 2>&1\n",
            "mv -f .deps/ta_DX.Tpo .deps/ta_DX.Plo\n",
            "/bin/bash ../../libtool --tag=CC   --mode=compile gcc -DHAVE_CONFIG_H -I. -I../../include  -I../ta_common/   -g -O2 -MT ta_EMA.lo -MD -MP -MF .deps/ta_EMA.Tpo -c -o ta_EMA.lo ta_EMA.c\n",
            " gcc -DHAVE_CONFIG_H -I. -I../../include -I../ta_common/ -g -O2 -MT ta_EMA.lo -MD -MP -MF .deps/ta_EMA.Tpo -c ta_EMA.c  -fPIC -DPIC -o .libs/ta_EMA.o\n",
            " gcc -DHAVE_CONFIG_H -I. -I../../include -I../ta_common/ -g -O2 -MT ta_EMA.lo -MD -MP -MF .deps/ta_EMA.Tpo -c ta_EMA.c -o ta_EMA.o >/dev/null 2>&1\n",
            "mv -f .deps/ta_EMA.Tpo .deps/ta_EMA.Plo\n",
            "/bin/bash ../../libtool --tag=CC   --mode=compile gcc -DHAVE_CONFIG_H -I. -I../../include  -I../ta_common/   -g -O2 -MT ta_EXP.lo -MD -MP -MF .deps/ta_EXP.Tpo -c -o ta_EXP.lo ta_EXP.c\n",
            " gcc -DHAVE_CONFIG_H -I. -I../../include -I../ta_common/ -g -O2 -MT ta_EXP.lo -MD -MP -MF .deps/ta_EXP.Tpo -c ta_EXP.c  -fPIC -DPIC -o .libs/ta_EXP.o\n",
            " gcc -DHAVE_CONFIG_H -I. -I../../include -I../ta_common/ -g -O2 -MT ta_EXP.lo -MD -MP -MF .deps/ta_EXP.Tpo -c ta_EXP.c -o ta_EXP.o >/dev/null 2>&1\n",
            "mv -f .deps/ta_EXP.Tpo .deps/ta_EXP.Plo\n",
            "/bin/bash ../../libtool --tag=CC   --mode=compile gcc -DHAVE_CONFIG_H -I. -I../../include  -I../ta_common/   -g -O2 -MT ta_FLOOR.lo -MD -MP -MF .deps/ta_FLOOR.Tpo -c -o ta_FLOOR.lo ta_FLOOR.c\n",
            " gcc -DHAVE_CONFIG_H -I. -I../../include -I../ta_common/ -g -O2 -MT ta_FLOOR.lo -MD -MP -MF .deps/ta_FLOOR.Tpo -c ta_FLOOR.c  -fPIC -DPIC -o .libs/ta_FLOOR.o\n",
            " gcc -DHAVE_CONFIG_H -I. -I../../include -I../ta_common/ -g -O2 -MT ta_FLOOR.lo -MD -MP -MF .deps/ta_FLOOR.Tpo -c ta_FLOOR.c -o ta_FLOOR.o >/dev/null 2>&1\n",
            "mv -f .deps/ta_FLOOR.Tpo .deps/ta_FLOOR.Plo\n",
            "/bin/bash ../../libtool --tag=CC   --mode=compile gcc -DHAVE_CONFIG_H -I. -I../../include  -I../ta_common/   -g -O2 -MT ta_HT_DCPERIOD.lo -MD -MP -MF .deps/ta_HT_DCPERIOD.Tpo -c -o ta_HT_DCPERIOD.lo ta_HT_DCPERIOD.c\n",
            " gcc -DHAVE_CONFIG_H -I. -I../../include -I../ta_common/ -g -O2 -MT ta_HT_DCPERIOD.lo -MD -MP -MF .deps/ta_HT_DCPERIOD.Tpo -c ta_HT_DCPERIOD.c  -fPIC -DPIC -o .libs/ta_HT_DCPERIOD.o\n",
            " gcc -DHAVE_CONFIG_H -I. -I../../include -I../ta_common/ -g -O2 -MT ta_HT_DCPERIOD.lo -MD -MP -MF .deps/ta_HT_DCPERIOD.Tpo -c ta_HT_DCPERIOD.c -o ta_HT_DCPERIOD.o >/dev/null 2>&1\n",
            "mv -f .deps/ta_HT_DCPERIOD.Tpo .deps/ta_HT_DCPERIOD.Plo\n",
            "/bin/bash ../../libtool --tag=CC   --mode=compile gcc -DHAVE_CONFIG_H -I. -I../../include  -I../ta_common/   -g -O2 -MT ta_HT_DCPHASE.lo -MD -MP -MF .deps/ta_HT_DCPHASE.Tpo -c -o ta_HT_DCPHASE.lo ta_HT_DCPHASE.c\n",
            " gcc -DHAVE_CONFIG_H -I. -I../../include -I../ta_common/ -g -O2 -MT ta_HT_DCPHASE.lo -MD -MP -MF .deps/ta_HT_DCPHASE.Tpo -c ta_HT_DCPHASE.c  -fPIC -DPIC -o .libs/ta_HT_DCPHASE.o\n",
            " gcc -DHAVE_CONFIG_H -I. -I../../include -I../ta_common/ -g -O2 -MT ta_HT_DCPHASE.lo -MD -MP -MF .deps/ta_HT_DCPHASE.Tpo -c ta_HT_DCPHASE.c -o ta_HT_DCPHASE.o >/dev/null 2>&1\n",
            "mv -f .deps/ta_HT_DCPHASE.Tpo .deps/ta_HT_DCPHASE.Plo\n",
            "/bin/bash ../../libtool --tag=CC   --mode=compile gcc -DHAVE_CONFIG_H -I. -I../../include  -I../ta_common/   -g -O2 -MT ta_HT_PHASOR.lo -MD -MP -MF .deps/ta_HT_PHASOR.Tpo -c -o ta_HT_PHASOR.lo ta_HT_PHASOR.c\n",
            " gcc -DHAVE_CONFIG_H -I. -I../../include -I../ta_common/ -g -O2 -MT ta_HT_PHASOR.lo -MD -MP -MF .deps/ta_HT_PHASOR.Tpo -c ta_HT_PHASOR.c  -fPIC -DPIC -o .libs/ta_HT_PHASOR.o\n",
            " gcc -DHAVE_CONFIG_H -I. -I../../include -I../ta_common/ -g -O2 -MT ta_HT_PHASOR.lo -MD -MP -MF .deps/ta_HT_PHASOR.Tpo -c ta_HT_PHASOR.c -o ta_HT_PHASOR.o >/dev/null 2>&1\n",
            "mv -f .deps/ta_HT_PHASOR.Tpo .deps/ta_HT_PHASOR.Plo\n",
            "/bin/bash ../../libtool --tag=CC   --mode=compile gcc -DHAVE_CONFIG_H -I. -I../../include  -I../ta_common/   -g -O2 -MT ta_HT_SINE.lo -MD -MP -MF .deps/ta_HT_SINE.Tpo -c -o ta_HT_SINE.lo ta_HT_SINE.c\n",
            " gcc -DHAVE_CONFIG_H -I. -I../../include -I../ta_common/ -g -O2 -MT ta_HT_SINE.lo -MD -MP -MF .deps/ta_HT_SINE.Tpo -c ta_HT_SINE.c  -fPIC -DPIC -o .libs/ta_HT_SINE.o\n",
            " gcc -DHAVE_CONFIG_H -I. -I../../include -I../ta_common/ -g -O2 -MT ta_HT_SINE.lo -MD -MP -MF .deps/ta_HT_SINE.Tpo -c ta_HT_SINE.c -o ta_HT_SINE.o >/dev/null 2>&1\n",
            "mv -f .deps/ta_HT_SINE.Tpo .deps/ta_HT_SINE.Plo\n",
            "/bin/bash ../../libtool --tag=CC   --mode=compile gcc -DHAVE_CONFIG_H -I. -I../../include  -I../ta_common/   -g -O2 -MT ta_HT_TRENDLINE.lo -MD -MP -MF .deps/ta_HT_TRENDLINE.Tpo -c -o ta_HT_TRENDLINE.lo ta_HT_TRENDLINE.c\n",
            " gcc -DHAVE_CONFIG_H -I. -I../../include -I../ta_common/ -g -O2 -MT ta_HT_TRENDLINE.lo -MD -MP -MF .deps/ta_HT_TRENDLINE.Tpo -c ta_HT_TRENDLINE.c  -fPIC -DPIC -o .libs/ta_HT_TRENDLINE.o\n",
            " gcc -DHAVE_CONFIG_H -I. -I../../include -I../ta_common/ -g -O2 -MT ta_HT_TRENDLINE.lo -MD -MP -MF .deps/ta_HT_TRENDLINE.Tpo -c ta_HT_TRENDLINE.c -o ta_HT_TRENDLINE.o >/dev/null 2>&1\n",
            "mv -f .deps/ta_HT_TRENDLINE.Tpo .deps/ta_HT_TRENDLINE.Plo\n",
            "/bin/bash ../../libtool --tag=CC   --mode=compile gcc -DHAVE_CONFIG_H -I. -I../../include  -I../ta_common/   -g -O2 -MT ta_HT_TRENDMODE.lo -MD -MP -MF .deps/ta_HT_TRENDMODE.Tpo -c -o ta_HT_TRENDMODE.lo ta_HT_TRENDMODE.c\n",
            " gcc -DHAVE_CONFIG_H -I. -I../../include -I../ta_common/ -g -O2 -MT ta_HT_TRENDMODE.lo -MD -MP -MF .deps/ta_HT_TRENDMODE.Tpo -c ta_HT_TRENDMODE.c  -fPIC -DPIC -o .libs/ta_HT_TRENDMODE.o\n",
            " gcc -DHAVE_CONFIG_H -I. -I../../include -I../ta_common/ -g -O2 -MT ta_HT_TRENDMODE.lo -MD -MP -MF .deps/ta_HT_TRENDMODE.Tpo -c ta_HT_TRENDMODE.c -o ta_HT_TRENDMODE.o >/dev/null 2>&1\n",
            "mv -f .deps/ta_HT_TRENDMODE.Tpo .deps/ta_HT_TRENDMODE.Plo\n",
            "/bin/bash ../../libtool --tag=CC   --mode=compile gcc -DHAVE_CONFIG_H -I. -I../../include  -I../ta_common/   -g -O2 -MT ta_KAMA.lo -MD -MP -MF .deps/ta_KAMA.Tpo -c -o ta_KAMA.lo ta_KAMA.c\n",
            " gcc -DHAVE_CONFIG_H -I. -I../../include -I../ta_common/ -g -O2 -MT ta_KAMA.lo -MD -MP -MF .deps/ta_KAMA.Tpo -c ta_KAMA.c  -fPIC -DPIC -o .libs/ta_KAMA.o\n",
            " gcc -DHAVE_CONFIG_H -I. -I../../include -I../ta_common/ -g -O2 -MT ta_KAMA.lo -MD -MP -MF .deps/ta_KAMA.Tpo -c ta_KAMA.c -o ta_KAMA.o >/dev/null 2>&1\n",
            "mv -f .deps/ta_KAMA.Tpo .deps/ta_KAMA.Plo\n",
            "/bin/bash ../../libtool --tag=CC   --mode=compile gcc -DHAVE_CONFIG_H -I. -I../../include  -I../ta_common/   -g -O2 -MT ta_LINEARREG.lo -MD -MP -MF .deps/ta_LINEARREG.Tpo -c -o ta_LINEARREG.lo ta_LINEARREG.c\n",
            " gcc -DHAVE_CONFIG_H -I. -I../../include -I../ta_common/ -g -O2 -MT ta_LINEARREG.lo -MD -MP -MF .deps/ta_LINEARREG.Tpo -c ta_LINEARREG.c  -fPIC -DPIC -o .libs/ta_LINEARREG.o\n",
            " gcc -DHAVE_CONFIG_H -I. -I../../include -I../ta_common/ -g -O2 -MT ta_LINEARREG.lo -MD -MP -MF .deps/ta_LINEARREG.Tpo -c ta_LINEARREG.c -o ta_LINEARREG.o >/dev/null 2>&1\n",
            "mv -f .deps/ta_LINEARREG.Tpo .deps/ta_LINEARREG.Plo\n",
            "/bin/bash ../../libtool --tag=CC   --mode=compile gcc -DHAVE_CONFIG_H -I. -I../../include  -I../ta_common/   -g -O2 -MT ta_LINEARREG_ANGLE.lo -MD -MP -MF .deps/ta_LINEARREG_ANGLE.Tpo -c -o ta_LINEARREG_ANGLE.lo ta_LINEARREG_ANGLE.c\n",
            " gcc -DHAVE_CONFIG_H -I. -I../../include -I../ta_common/ -g -O2 -MT ta_LINEARREG_ANGLE.lo -MD -MP -MF .deps/ta_LINEARREG_ANGLE.Tpo -c ta_LINEARREG_ANGLE.c  -fPIC -DPIC -o .libs/ta_LINEARREG_ANGLE.o\n",
            " gcc -DHAVE_CONFIG_H -I. -I../../include -I../ta_common/ -g -O2 -MT ta_LINEARREG_ANGLE.lo -MD -MP -MF .deps/ta_LINEARREG_ANGLE.Tpo -c ta_LINEARREG_ANGLE.c -o ta_LINEARREG_ANGLE.o >/dev/null 2>&1\n",
            "mv -f .deps/ta_LINEARREG_ANGLE.Tpo .deps/ta_LINEARREG_ANGLE.Plo\n",
            "/bin/bash ../../libtool --tag=CC   --mode=compile gcc -DHAVE_CONFIG_H -I. -I../../include  -I../ta_common/   -g -O2 -MT ta_LINEARREG_INTERCEPT.lo -MD -MP -MF .deps/ta_LINEARREG_INTERCEPT.Tpo -c -o ta_LINEARREG_INTERCEPT.lo ta_LINEARREG_INTERCEPT.c\n",
            " gcc -DHAVE_CONFIG_H -I. -I../../include -I../ta_common/ -g -O2 -MT ta_LINEARREG_INTERCEPT.lo -MD -MP -MF .deps/ta_LINEARREG_INTERCEPT.Tpo -c ta_LINEARREG_INTERCEPT.c  -fPIC -DPIC -o .libs/ta_LINEARREG_INTERCEPT.o\n",
            " gcc -DHAVE_CONFIG_H -I. -I../../include -I../ta_common/ -g -O2 -MT ta_LINEARREG_INTERCEPT.lo -MD -MP -MF .deps/ta_LINEARREG_INTERCEPT.Tpo -c ta_LINEARREG_INTERCEPT.c -o ta_LINEARREG_INTERCEPT.o >/dev/null 2>&1\n",
            "mv -f .deps/ta_LINEARREG_INTERCEPT.Tpo .deps/ta_LINEARREG_INTERCEPT.Plo\n",
            "/bin/bash ../../libtool --tag=CC   --mode=compile gcc -DHAVE_CONFIG_H -I. -I../../include  -I../ta_common/   -g -O2 -MT ta_LINEARREG_SLOPE.lo -MD -MP -MF .deps/ta_LINEARREG_SLOPE.Tpo -c -o ta_LINEARREG_SLOPE.lo ta_LINEARREG_SLOPE.c\n",
            " gcc -DHAVE_CONFIG_H -I. -I../../include -I../ta_common/ -g -O2 -MT ta_LINEARREG_SLOPE.lo -MD -MP -MF .deps/ta_LINEARREG_SLOPE.Tpo -c ta_LINEARREG_SLOPE.c  -fPIC -DPIC -o .libs/ta_LINEARREG_SLOPE.o\n",
            " gcc -DHAVE_CONFIG_H -I. -I../../include -I../ta_common/ -g -O2 -MT ta_LINEARREG_SLOPE.lo -MD -MP -MF .deps/ta_LINEARREG_SLOPE.Tpo -c ta_LINEARREG_SLOPE.c -o ta_LINEARREG_SLOPE.o >/dev/null 2>&1\n",
            "mv -f .deps/ta_LINEARREG_SLOPE.Tpo .deps/ta_LINEARREG_SLOPE.Plo\n",
            "/bin/bash ../../libtool --tag=CC   --mode=compile gcc -DHAVE_CONFIG_H -I. -I../../include  -I../ta_common/   -g -O2 -MT ta_LN.lo -MD -MP -MF .deps/ta_LN.Tpo -c -o ta_LN.lo ta_LN.c\n",
            " gcc -DHAVE_CONFIG_H -I. -I../../include -I../ta_common/ -g -O2 -MT ta_LN.lo -MD -MP -MF .deps/ta_LN.Tpo -c ta_LN.c  -fPIC -DPIC -o .libs/ta_LN.o\n",
            " gcc -DHAVE_CONFIG_H -I. -I../../include -I../ta_common/ -g -O2 -MT ta_LN.lo -MD -MP -MF .deps/ta_LN.Tpo -c ta_LN.c -o ta_LN.o >/dev/null 2>&1\n",
            "mv -f .deps/ta_LN.Tpo .deps/ta_LN.Plo\n",
            "/bin/bash ../../libtool --tag=CC   --mode=compile gcc -DHAVE_CONFIG_H -I. -I../../include  -I../ta_common/   -g -O2 -MT ta_LOG10.lo -MD -MP -MF .deps/ta_LOG10.Tpo -c -o ta_LOG10.lo ta_LOG10.c\n",
            " gcc -DHAVE_CONFIG_H -I. -I../../include -I../ta_common/ -g -O2 -MT ta_LOG10.lo -MD -MP -MF .deps/ta_LOG10.Tpo -c ta_LOG10.c  -fPIC -DPIC -o .libs/ta_LOG10.o\n",
            " gcc -DHAVE_CONFIG_H -I. -I../../include -I../ta_common/ -g -O2 -MT ta_LOG10.lo -MD -MP -MF .deps/ta_LOG10.Tpo -c ta_LOG10.c -o ta_LOG10.o >/dev/null 2>&1\n",
            "mv -f .deps/ta_LOG10.Tpo .deps/ta_LOG10.Plo\n",
            "/bin/bash ../../libtool --tag=CC   --mode=compile gcc -DHAVE_CONFIG_H -I. -I../../include  -I../ta_common/   -g -O2 -MT ta_MA.lo -MD -MP -MF .deps/ta_MA.Tpo -c -o ta_MA.lo ta_MA.c\n",
            " gcc -DHAVE_CONFIG_H -I. -I../../include -I../ta_common/ -g -O2 -MT ta_MA.lo -MD -MP -MF .deps/ta_MA.Tpo -c ta_MA.c  -fPIC -DPIC -o .libs/ta_MA.o\n",
            " gcc -DHAVE_CONFIG_H -I. -I../../include -I../ta_common/ -g -O2 -MT ta_MA.lo -MD -MP -MF .deps/ta_MA.Tpo -c ta_MA.c -o ta_MA.o >/dev/null 2>&1\n",
            "mv -f .deps/ta_MA.Tpo .deps/ta_MA.Plo\n",
            "/bin/bash ../../libtool --tag=CC   --mode=compile gcc -DHAVE_CONFIG_H -I. -I../../include  -I../ta_common/   -g -O2 -MT ta_MACD.lo -MD -MP -MF .deps/ta_MACD.Tpo -c -o ta_MACD.lo ta_MACD.c\n",
            " gcc -DHAVE_CONFIG_H -I. -I../../include -I../ta_common/ -g -O2 -MT ta_MACD.lo -MD -MP -MF .deps/ta_MACD.Tpo -c ta_MACD.c  -fPIC -DPIC -o .libs/ta_MACD.o\n",
            " gcc -DHAVE_CONFIG_H -I. -I../../include -I../ta_common/ -g -O2 -MT ta_MACD.lo -MD -MP -MF .deps/ta_MACD.Tpo -c ta_MACD.c -o ta_MACD.o >/dev/null 2>&1\n",
            "mv -f .deps/ta_MACD.Tpo .deps/ta_MACD.Plo\n",
            "/bin/bash ../../libtool --tag=CC   --mode=compile gcc -DHAVE_CONFIG_H -I. -I../../include  -I../ta_common/   -g -O2 -MT ta_MACDEXT.lo -MD -MP -MF .deps/ta_MACDEXT.Tpo -c -o ta_MACDEXT.lo ta_MACDEXT.c\n",
            " gcc -DHAVE_CONFIG_H -I. -I../../include -I../ta_common/ -g -O2 -MT ta_MACDEXT.lo -MD -MP -MF .deps/ta_MACDEXT.Tpo -c ta_MACDEXT.c  -fPIC -DPIC -o .libs/ta_MACDEXT.o\n",
            " gcc -DHAVE_CONFIG_H -I. -I../../include -I../ta_common/ -g -O2 -MT ta_MACDEXT.lo -MD -MP -MF .deps/ta_MACDEXT.Tpo -c ta_MACDEXT.c -o ta_MACDEXT.o >/dev/null 2>&1\n",
            "mv -f .deps/ta_MACDEXT.Tpo .deps/ta_MACDEXT.Plo\n",
            "/bin/bash ../../libtool --tag=CC   --mode=compile gcc -DHAVE_CONFIG_H -I. -I../../include  -I../ta_common/   -g -O2 -MT ta_MACDFIX.lo -MD -MP -MF .deps/ta_MACDFIX.Tpo -c -o ta_MACDFIX.lo ta_MACDFIX.c\n",
            " gcc -DHAVE_CONFIG_H -I. -I../../include -I../ta_common/ -g -O2 -MT ta_MACDFIX.lo -MD -MP -MF .deps/ta_MACDFIX.Tpo -c ta_MACDFIX.c  -fPIC -DPIC -o .libs/ta_MACDFIX.o\n",
            " gcc -DHAVE_CONFIG_H -I. -I../../include -I../ta_common/ -g -O2 -MT ta_MACDFIX.lo -MD -MP -MF .deps/ta_MACDFIX.Tpo -c ta_MACDFIX.c -o ta_MACDFIX.o >/dev/null 2>&1\n",
            "mv -f .deps/ta_MACDFIX.Tpo .deps/ta_MACDFIX.Plo\n",
            "/bin/bash ../../libtool --tag=CC   --mode=compile gcc -DHAVE_CONFIG_H -I. -I../../include  -I../ta_common/   -g -O2 -MT ta_MAMA.lo -MD -MP -MF .deps/ta_MAMA.Tpo -c -o ta_MAMA.lo ta_MAMA.c\n",
            " gcc -DHAVE_CONFIG_H -I. -I../../include -I../ta_common/ -g -O2 -MT ta_MAMA.lo -MD -MP -MF .deps/ta_MAMA.Tpo -c ta_MAMA.c  -fPIC -DPIC -o .libs/ta_MAMA.o\n",
            " gcc -DHAVE_CONFIG_H -I. -I../../include -I../ta_common/ -g -O2 -MT ta_MAMA.lo -MD -MP -MF .deps/ta_MAMA.Tpo -c ta_MAMA.c -o ta_MAMA.o >/dev/null 2>&1\n",
            "mv -f .deps/ta_MAMA.Tpo .deps/ta_MAMA.Plo\n",
            "/bin/bash ../../libtool --tag=CC   --mode=compile gcc -DHAVE_CONFIG_H -I. -I../../include  -I../ta_common/   -g -O2 -MT ta_MAVP.lo -MD -MP -MF .deps/ta_MAVP.Tpo -c -o ta_MAVP.lo ta_MAVP.c\n",
            " gcc -DHAVE_CONFIG_H -I. -I../../include -I../ta_common/ -g -O2 -MT ta_MAVP.lo -MD -MP -MF .deps/ta_MAVP.Tpo -c ta_MAVP.c  -fPIC -DPIC -o .libs/ta_MAVP.o\n",
            " gcc -DHAVE_CONFIG_H -I. -I../../include -I../ta_common/ -g -O2 -MT ta_MAVP.lo -MD -MP -MF .deps/ta_MAVP.Tpo -c ta_MAVP.c -o ta_MAVP.o >/dev/null 2>&1\n",
            "mv -f .deps/ta_MAVP.Tpo .deps/ta_MAVP.Plo\n",
            "/bin/bash ../../libtool --tag=CC   --mode=compile gcc -DHAVE_CONFIG_H -I. -I../../include  -I../ta_common/   -g -O2 -MT ta_MAX.lo -MD -MP -MF .deps/ta_MAX.Tpo -c -o ta_MAX.lo ta_MAX.c\n",
            " gcc -DHAVE_CONFIG_H -I. -I../../include -I../ta_common/ -g -O2 -MT ta_MAX.lo -MD -MP -MF .deps/ta_MAX.Tpo -c ta_MAX.c  -fPIC -DPIC -o .libs/ta_MAX.o\n",
            " gcc -DHAVE_CONFIG_H -I. -I../../include -I../ta_common/ -g -O2 -MT ta_MAX.lo -MD -MP -MF .deps/ta_MAX.Tpo -c ta_MAX.c -o ta_MAX.o >/dev/null 2>&1\n",
            "mv -f .deps/ta_MAX.Tpo .deps/ta_MAX.Plo\n",
            "/bin/bash ../../libtool --tag=CC   --mode=compile gcc -DHAVE_CONFIG_H -I. -I../../include  -I../ta_common/   -g -O2 -MT ta_MAXINDEX.lo -MD -MP -MF .deps/ta_MAXINDEX.Tpo -c -o ta_MAXINDEX.lo ta_MAXINDEX.c\n",
            " gcc -DHAVE_CONFIG_H -I. -I../../include -I../ta_common/ -g -O2 -MT ta_MAXINDEX.lo -MD -MP -MF .deps/ta_MAXINDEX.Tpo -c ta_MAXINDEX.c  -fPIC -DPIC -o .libs/ta_MAXINDEX.o\n",
            " gcc -DHAVE_CONFIG_H -I. -I../../include -I../ta_common/ -g -O2 -MT ta_MAXINDEX.lo -MD -MP -MF .deps/ta_MAXINDEX.Tpo -c ta_MAXINDEX.c -o ta_MAXINDEX.o >/dev/null 2>&1\n",
            "mv -f .deps/ta_MAXINDEX.Tpo .deps/ta_MAXINDEX.Plo\n",
            "/bin/bash ../../libtool --tag=CC   --mode=compile gcc -DHAVE_CONFIG_H -I. -I../../include  -I../ta_common/   -g -O2 -MT ta_MEDPRICE.lo -MD -MP -MF .deps/ta_MEDPRICE.Tpo -c -o ta_MEDPRICE.lo ta_MEDPRICE.c\n",
            " gcc -DHAVE_CONFIG_H -I. -I../../include -I../ta_common/ -g -O2 -MT ta_MEDPRICE.lo -MD -MP -MF .deps/ta_MEDPRICE.Tpo -c ta_MEDPRICE.c  -fPIC -DPIC -o .libs/ta_MEDPRICE.o\n",
            " gcc -DHAVE_CONFIG_H -I. -I../../include -I../ta_common/ -g -O2 -MT ta_MEDPRICE.lo -MD -MP -MF .deps/ta_MEDPRICE.Tpo -c ta_MEDPRICE.c -o ta_MEDPRICE.o >/dev/null 2>&1\n",
            "mv -f .deps/ta_MEDPRICE.Tpo .deps/ta_MEDPRICE.Plo\n",
            "/bin/bash ../../libtool --tag=CC   --mode=compile gcc -DHAVE_CONFIG_H -I. -I../../include  -I../ta_common/   -g -O2 -MT ta_MFI.lo -MD -MP -MF .deps/ta_MFI.Tpo -c -o ta_MFI.lo ta_MFI.c\n",
            " gcc -DHAVE_CONFIG_H -I. -I../../include -I../ta_common/ -g -O2 -MT ta_MFI.lo -MD -MP -MF .deps/ta_MFI.Tpo -c ta_MFI.c  -fPIC -DPIC -o .libs/ta_MFI.o\n",
            " gcc -DHAVE_CONFIG_H -I. -I../../include -I../ta_common/ -g -O2 -MT ta_MFI.lo -MD -MP -MF .deps/ta_MFI.Tpo -c ta_MFI.c -o ta_MFI.o >/dev/null 2>&1\n",
            "mv -f .deps/ta_MFI.Tpo .deps/ta_MFI.Plo\n",
            "/bin/bash ../../libtool --tag=CC   --mode=compile gcc -DHAVE_CONFIG_H -I. -I../../include  -I../ta_common/   -g -O2 -MT ta_MIDPOINT.lo -MD -MP -MF .deps/ta_MIDPOINT.Tpo -c -o ta_MIDPOINT.lo ta_MIDPOINT.c\n",
            " gcc -DHAVE_CONFIG_H -I. -I../../include -I../ta_common/ -g -O2 -MT ta_MIDPOINT.lo -MD -MP -MF .deps/ta_MIDPOINT.Tpo -c ta_MIDPOINT.c  -fPIC -DPIC -o .libs/ta_MIDPOINT.o\n",
            " gcc -DHAVE_CONFIG_H -I. -I../../include -I../ta_common/ -g -O2 -MT ta_MIDPOINT.lo -MD -MP -MF .deps/ta_MIDPOINT.Tpo -c ta_MIDPOINT.c -o ta_MIDPOINT.o >/dev/null 2>&1\n",
            "mv -f .deps/ta_MIDPOINT.Tpo .deps/ta_MIDPOINT.Plo\n",
            "/bin/bash ../../libtool --tag=CC   --mode=compile gcc -DHAVE_CONFIG_H -I. -I../../include  -I../ta_common/   -g -O2 -MT ta_MIDPRICE.lo -MD -MP -MF .deps/ta_MIDPRICE.Tpo -c -o ta_MIDPRICE.lo ta_MIDPRICE.c\n",
            " gcc -DHAVE_CONFIG_H -I. -I../../include -I../ta_common/ -g -O2 -MT ta_MIDPRICE.lo -MD -MP -MF .deps/ta_MIDPRICE.Tpo -c ta_MIDPRICE.c  -fPIC -DPIC -o .libs/ta_MIDPRICE.o\n",
            " gcc -DHAVE_CONFIG_H -I. -I../../include -I../ta_common/ -g -O2 -MT ta_MIDPRICE.lo -MD -MP -MF .deps/ta_MIDPRICE.Tpo -c ta_MIDPRICE.c -o ta_MIDPRICE.o >/dev/null 2>&1\n",
            "mv -f .deps/ta_MIDPRICE.Tpo .deps/ta_MIDPRICE.Plo\n",
            "/bin/bash ../../libtool --tag=CC   --mode=compile gcc -DHAVE_CONFIG_H -I. -I../../include  -I../ta_common/   -g -O2 -MT ta_MIN.lo -MD -MP -MF .deps/ta_MIN.Tpo -c -o ta_MIN.lo ta_MIN.c\n",
            " gcc -DHAVE_CONFIG_H -I. -I../../include -I../ta_common/ -g -O2 -MT ta_MIN.lo -MD -MP -MF .deps/ta_MIN.Tpo -c ta_MIN.c  -fPIC -DPIC -o .libs/ta_MIN.o\n",
            " gcc -DHAVE_CONFIG_H -I. -I../../include -I../ta_common/ -g -O2 -MT ta_MIN.lo -MD -MP -MF .deps/ta_MIN.Tpo -c ta_MIN.c -o ta_MIN.o >/dev/null 2>&1\n",
            "mv -f .deps/ta_MIN.Tpo .deps/ta_MIN.Plo\n",
            "/bin/bash ../../libtool --tag=CC   --mode=compile gcc -DHAVE_CONFIG_H -I. -I../../include  -I../ta_common/   -g -O2 -MT ta_MININDEX.lo -MD -MP -MF .deps/ta_MININDEX.Tpo -c -o ta_MININDEX.lo ta_MININDEX.c\n",
            " gcc -DHAVE_CONFIG_H -I. -I../../include -I../ta_common/ -g -O2 -MT ta_MININDEX.lo -MD -MP -MF .deps/ta_MININDEX.Tpo -c ta_MININDEX.c  -fPIC -DPIC -o .libs/ta_MININDEX.o\n",
            " gcc -DHAVE_CONFIG_H -I. -I../../include -I../ta_common/ -g -O2 -MT ta_MININDEX.lo -MD -MP -MF .deps/ta_MININDEX.Tpo -c ta_MININDEX.c -o ta_MININDEX.o >/dev/null 2>&1\n",
            "mv -f .deps/ta_MININDEX.Tpo .deps/ta_MININDEX.Plo\n",
            "/bin/bash ../../libtool --tag=CC   --mode=compile gcc -DHAVE_CONFIG_H -I. -I../../include  -I../ta_common/   -g -O2 -MT ta_MINMAX.lo -MD -MP -MF .deps/ta_MINMAX.Tpo -c -o ta_MINMAX.lo ta_MINMAX.c\n",
            " gcc -DHAVE_CONFIG_H -I. -I../../include -I../ta_common/ -g -O2 -MT ta_MINMAX.lo -MD -MP -MF .deps/ta_MINMAX.Tpo -c ta_MINMAX.c  -fPIC -DPIC -o .libs/ta_MINMAX.o\n",
            " gcc -DHAVE_CONFIG_H -I. -I../../include -I../ta_common/ -g -O2 -MT ta_MINMAX.lo -MD -MP -MF .deps/ta_MINMAX.Tpo -c ta_MINMAX.c -o ta_MINMAX.o >/dev/null 2>&1\n",
            "mv -f .deps/ta_MINMAX.Tpo .deps/ta_MINMAX.Plo\n",
            "/bin/bash ../../libtool --tag=CC   --mode=compile gcc -DHAVE_CONFIG_H -I. -I../../include  -I../ta_common/   -g -O2 -MT ta_MINMAXINDEX.lo -MD -MP -MF .deps/ta_MINMAXINDEX.Tpo -c -o ta_MINMAXINDEX.lo ta_MINMAXINDEX.c\n",
            " gcc -DHAVE_CONFIG_H -I. -I../../include -I../ta_common/ -g -O2 -MT ta_MINMAXINDEX.lo -MD -MP -MF .deps/ta_MINMAXINDEX.Tpo -c ta_MINMAXINDEX.c  -fPIC -DPIC -o .libs/ta_MINMAXINDEX.o\n",
            " gcc -DHAVE_CONFIG_H -I. -I../../include -I../ta_common/ -g -O2 -MT ta_MINMAXINDEX.lo -MD -MP -MF .deps/ta_MINMAXINDEX.Tpo -c ta_MINMAXINDEX.c -o ta_MINMAXINDEX.o >/dev/null 2>&1\n",
            "mv -f .deps/ta_MINMAXINDEX.Tpo .deps/ta_MINMAXINDEX.Plo\n",
            "/bin/bash ../../libtool --tag=CC   --mode=compile gcc -DHAVE_CONFIG_H -I. -I../../include  -I../ta_common/   -g -O2 -MT ta_MINUS_DI.lo -MD -MP -MF .deps/ta_MINUS_DI.Tpo -c -o ta_MINUS_DI.lo ta_MINUS_DI.c\n",
            " gcc -DHAVE_CONFIG_H -I. -I../../include -I../ta_common/ -g -O2 -MT ta_MINUS_DI.lo -MD -MP -MF .deps/ta_MINUS_DI.Tpo -c ta_MINUS_DI.c  -fPIC -DPIC -o .libs/ta_MINUS_DI.o\n",
            " gcc -DHAVE_CONFIG_H -I. -I../../include -I../ta_common/ -g -O2 -MT ta_MINUS_DI.lo -MD -MP -MF .deps/ta_MINUS_DI.Tpo -c ta_MINUS_DI.c -o ta_MINUS_DI.o >/dev/null 2>&1\n",
            "mv -f .deps/ta_MINUS_DI.Tpo .deps/ta_MINUS_DI.Plo\n",
            "/bin/bash ../../libtool --tag=CC   --mode=compile gcc -DHAVE_CONFIG_H -I. -I../../include  -I../ta_common/   -g -O2 -MT ta_MINUS_DM.lo -MD -MP -MF .deps/ta_MINUS_DM.Tpo -c -o ta_MINUS_DM.lo ta_MINUS_DM.c\n",
            " gcc -DHAVE_CONFIG_H -I. -I../../include -I../ta_common/ -g -O2 -MT ta_MINUS_DM.lo -MD -MP -MF .deps/ta_MINUS_DM.Tpo -c ta_MINUS_DM.c  -fPIC -DPIC -o .libs/ta_MINUS_DM.o\n",
            " gcc -DHAVE_CONFIG_H -I. -I../../include -I../ta_common/ -g -O2 -MT ta_MINUS_DM.lo -MD -MP -MF .deps/ta_MINUS_DM.Tpo -c ta_MINUS_DM.c -o ta_MINUS_DM.o >/dev/null 2>&1\n",
            "mv -f .deps/ta_MINUS_DM.Tpo .deps/ta_MINUS_DM.Plo\n",
            "/bin/bash ../../libtool --tag=CC   --mode=compile gcc -DHAVE_CONFIG_H -I. -I../../include  -I../ta_common/   -g -O2 -MT ta_MOM.lo -MD -MP -MF .deps/ta_MOM.Tpo -c -o ta_MOM.lo ta_MOM.c\n",
            " gcc -DHAVE_CONFIG_H -I. -I../../include -I../ta_common/ -g -O2 -MT ta_MOM.lo -MD -MP -MF .deps/ta_MOM.Tpo -c ta_MOM.c  -fPIC -DPIC -o .libs/ta_MOM.o\n",
            " gcc -DHAVE_CONFIG_H -I. -I../../include -I../ta_common/ -g -O2 -MT ta_MOM.lo -MD -MP -MF .deps/ta_MOM.Tpo -c ta_MOM.c -o ta_MOM.o >/dev/null 2>&1\n",
            "mv -f .deps/ta_MOM.Tpo .deps/ta_MOM.Plo\n",
            "/bin/bash ../../libtool --tag=CC   --mode=compile gcc -DHAVE_CONFIG_H -I. -I../../include  -I../ta_common/   -g -O2 -MT ta_MULT.lo -MD -MP -MF .deps/ta_MULT.Tpo -c -o ta_MULT.lo ta_MULT.c\n",
            " gcc -DHAVE_CONFIG_H -I. -I../../include -I../ta_common/ -g -O2 -MT ta_MULT.lo -MD -MP -MF .deps/ta_MULT.Tpo -c ta_MULT.c  -fPIC -DPIC -o .libs/ta_MULT.o\n",
            " gcc -DHAVE_CONFIG_H -I. -I../../include -I../ta_common/ -g -O2 -MT ta_MULT.lo -MD -MP -MF .deps/ta_MULT.Tpo -c ta_MULT.c -o ta_MULT.o >/dev/null 2>&1\n",
            "mv -f .deps/ta_MULT.Tpo .deps/ta_MULT.Plo\n",
            "/bin/bash ../../libtool --tag=CC   --mode=compile gcc -DHAVE_CONFIG_H -I. -I../../include  -I../ta_common/   -g -O2 -MT ta_NATR.lo -MD -MP -MF .deps/ta_NATR.Tpo -c -o ta_NATR.lo ta_NATR.c\n",
            " gcc -DHAVE_CONFIG_H -I. -I../../include -I../ta_common/ -g -O2 -MT ta_NATR.lo -MD -MP -MF .deps/ta_NATR.Tpo -c ta_NATR.c  -fPIC -DPIC -o .libs/ta_NATR.o\n",
            " gcc -DHAVE_CONFIG_H -I. -I../../include -I../ta_common/ -g -O2 -MT ta_NATR.lo -MD -MP -MF .deps/ta_NATR.Tpo -c ta_NATR.c -o ta_NATR.o >/dev/null 2>&1\n",
            "mv -f .deps/ta_NATR.Tpo .deps/ta_NATR.Plo\n",
            "/bin/bash ../../libtool --tag=CC   --mode=compile gcc -DHAVE_CONFIG_H -I. -I../../include  -I../ta_common/   -g -O2 -MT ta_OBV.lo -MD -MP -MF .deps/ta_OBV.Tpo -c -o ta_OBV.lo ta_OBV.c\n",
            " gcc -DHAVE_CONFIG_H -I. -I../../include -I../ta_common/ -g -O2 -MT ta_OBV.lo -MD -MP -MF .deps/ta_OBV.Tpo -c ta_OBV.c  -fPIC -DPIC -o .libs/ta_OBV.o\n",
            " gcc -DHAVE_CONFIG_H -I. -I../../include -I../ta_common/ -g -O2 -MT ta_OBV.lo -MD -MP -MF .deps/ta_OBV.Tpo -c ta_OBV.c -o ta_OBV.o >/dev/null 2>&1\n",
            "mv -f .deps/ta_OBV.Tpo .deps/ta_OBV.Plo\n",
            "/bin/bash ../../libtool --tag=CC   --mode=compile gcc -DHAVE_CONFIG_H -I. -I../../include  -I../ta_common/   -g -O2 -MT ta_PLUS_DI.lo -MD -MP -MF .deps/ta_PLUS_DI.Tpo -c -o ta_PLUS_DI.lo ta_PLUS_DI.c\n",
            " gcc -DHAVE_CONFIG_H -I. -I../../include -I../ta_common/ -g -O2 -MT ta_PLUS_DI.lo -MD -MP -MF .deps/ta_PLUS_DI.Tpo -c ta_PLUS_DI.c  -fPIC -DPIC -o .libs/ta_PLUS_DI.o\n",
            " gcc -DHAVE_CONFIG_H -I. -I../../include -I../ta_common/ -g -O2 -MT ta_PLUS_DI.lo -MD -MP -MF .deps/ta_PLUS_DI.Tpo -c ta_PLUS_DI.c -o ta_PLUS_DI.o >/dev/null 2>&1\n",
            "mv -f .deps/ta_PLUS_DI.Tpo .deps/ta_PLUS_DI.Plo\n",
            "/bin/bash ../../libtool --tag=CC   --mode=compile gcc -DHAVE_CONFIG_H -I. -I../../include  -I../ta_common/   -g -O2 -MT ta_PLUS_DM.lo -MD -MP -MF .deps/ta_PLUS_DM.Tpo -c -o ta_PLUS_DM.lo ta_PLUS_DM.c\n",
            " gcc -DHAVE_CONFIG_H -I. -I../../include -I../ta_common/ -g -O2 -MT ta_PLUS_DM.lo -MD -MP -MF .deps/ta_PLUS_DM.Tpo -c ta_PLUS_DM.c  -fPIC -DPIC -o .libs/ta_PLUS_DM.o\n",
            " gcc -DHAVE_CONFIG_H -I. -I../../include -I../ta_common/ -g -O2 -MT ta_PLUS_DM.lo -MD -MP -MF .deps/ta_PLUS_DM.Tpo -c ta_PLUS_DM.c -o ta_PLUS_DM.o >/dev/null 2>&1\n",
            "mv -f .deps/ta_PLUS_DM.Tpo .deps/ta_PLUS_DM.Plo\n",
            "/bin/bash ../../libtool --tag=CC   --mode=compile gcc -DHAVE_CONFIG_H -I. -I../../include  -I../ta_common/   -g -O2 -MT ta_PPO.lo -MD -MP -MF .deps/ta_PPO.Tpo -c -o ta_PPO.lo ta_PPO.c\n",
            " gcc -DHAVE_CONFIG_H -I. -I../../include -I../ta_common/ -g -O2 -MT ta_PPO.lo -MD -MP -MF .deps/ta_PPO.Tpo -c ta_PPO.c  -fPIC -DPIC -o .libs/ta_PPO.o\n",
            " gcc -DHAVE_CONFIG_H -I. -I../../include -I../ta_common/ -g -O2 -MT ta_PPO.lo -MD -MP -MF .deps/ta_PPO.Tpo -c ta_PPO.c -o ta_PPO.o >/dev/null 2>&1\n",
            "mv -f .deps/ta_PPO.Tpo .deps/ta_PPO.Plo\n",
            "/bin/bash ../../libtool --tag=CC   --mode=compile gcc -DHAVE_CONFIG_H -I. -I../../include  -I../ta_common/   -g -O2 -MT ta_ROC.lo -MD -MP -MF .deps/ta_ROC.Tpo -c -o ta_ROC.lo ta_ROC.c\n",
            " gcc -DHAVE_CONFIG_H -I. -I../../include -I../ta_common/ -g -O2 -MT ta_ROC.lo -MD -MP -MF .deps/ta_ROC.Tpo -c ta_ROC.c  -fPIC -DPIC -o .libs/ta_ROC.o\n",
            " gcc -DHAVE_CONFIG_H -I. -I../../include -I../ta_common/ -g -O2 -MT ta_ROC.lo -MD -MP -MF .deps/ta_ROC.Tpo -c ta_ROC.c -o ta_ROC.o >/dev/null 2>&1\n",
            "mv -f .deps/ta_ROC.Tpo .deps/ta_ROC.Plo\n",
            "/bin/bash ../../libtool --tag=CC   --mode=compile gcc -DHAVE_CONFIG_H -I. -I../../include  -I../ta_common/   -g -O2 -MT ta_ROCP.lo -MD -MP -MF .deps/ta_ROCP.Tpo -c -o ta_ROCP.lo ta_ROCP.c\n",
            " gcc -DHAVE_CONFIG_H -I. -I../../include -I../ta_common/ -g -O2 -MT ta_ROCP.lo -MD -MP -MF .deps/ta_ROCP.Tpo -c ta_ROCP.c  -fPIC -DPIC -o .libs/ta_ROCP.o\n",
            " gcc -DHAVE_CONFIG_H -I. -I../../include -I../ta_common/ -g -O2 -MT ta_ROCP.lo -MD -MP -MF .deps/ta_ROCP.Tpo -c ta_ROCP.c -o ta_ROCP.o >/dev/null 2>&1\n",
            "mv -f .deps/ta_ROCP.Tpo .deps/ta_ROCP.Plo\n",
            "/bin/bash ../../libtool --tag=CC   --mode=compile gcc -DHAVE_CONFIG_H -I. -I../../include  -I../ta_common/   -g -O2 -MT ta_ROCR.lo -MD -MP -MF .deps/ta_ROCR.Tpo -c -o ta_ROCR.lo ta_ROCR.c\n",
            " gcc -DHAVE_CONFIG_H -I. -I../../include -I../ta_common/ -g -O2 -MT ta_ROCR.lo -MD -MP -MF .deps/ta_ROCR.Tpo -c ta_ROCR.c  -fPIC -DPIC -o .libs/ta_ROCR.o\n",
            " gcc -DHAVE_CONFIG_H -I. -I../../include -I../ta_common/ -g -O2 -MT ta_ROCR.lo -MD -MP -MF .deps/ta_ROCR.Tpo -c ta_ROCR.c -o ta_ROCR.o >/dev/null 2>&1\n",
            "mv -f .deps/ta_ROCR.Tpo .deps/ta_ROCR.Plo\n",
            "/bin/bash ../../libtool --tag=CC   --mode=compile gcc -DHAVE_CONFIG_H -I. -I../../include  -I../ta_common/   -g -O2 -MT ta_ROCR100.lo -MD -MP -MF .deps/ta_ROCR100.Tpo -c -o ta_ROCR100.lo ta_ROCR100.c\n",
            " gcc -DHAVE_CONFIG_H -I. -I../../include -I../ta_common/ -g -O2 -MT ta_ROCR100.lo -MD -MP -MF .deps/ta_ROCR100.Tpo -c ta_ROCR100.c  -fPIC -DPIC -o .libs/ta_ROCR100.o\n",
            " gcc -DHAVE_CONFIG_H -I. -I../../include -I../ta_common/ -g -O2 -MT ta_ROCR100.lo -MD -MP -MF .deps/ta_ROCR100.Tpo -c ta_ROCR100.c -o ta_ROCR100.o >/dev/null 2>&1\n",
            "mv -f .deps/ta_ROCR100.Tpo .deps/ta_ROCR100.Plo\n",
            "/bin/bash ../../libtool --tag=CC   --mode=compile gcc -DHAVE_CONFIG_H -I. -I../../include  -I../ta_common/   -g -O2 -MT ta_RSI.lo -MD -MP -MF .deps/ta_RSI.Tpo -c -o ta_RSI.lo ta_RSI.c\n",
            " gcc -DHAVE_CONFIG_H -I. -I../../include -I../ta_common/ -g -O2 -MT ta_RSI.lo -MD -MP -MF .deps/ta_RSI.Tpo -c ta_RSI.c  -fPIC -DPIC -o .libs/ta_RSI.o\n",
            " gcc -DHAVE_CONFIG_H -I. -I../../include -I../ta_common/ -g -O2 -MT ta_RSI.lo -MD -MP -MF .deps/ta_RSI.Tpo -c ta_RSI.c -o ta_RSI.o >/dev/null 2>&1\n",
            "mv -f .deps/ta_RSI.Tpo .deps/ta_RSI.Plo\n",
            "/bin/bash ../../libtool --tag=CC   --mode=compile gcc -DHAVE_CONFIG_H -I. -I../../include  -I../ta_common/   -g -O2 -MT ta_SAR.lo -MD -MP -MF .deps/ta_SAR.Tpo -c -o ta_SAR.lo ta_SAR.c\n",
            " gcc -DHAVE_CONFIG_H -I. -I../../include -I../ta_common/ -g -O2 -MT ta_SAR.lo -MD -MP -MF .deps/ta_SAR.Tpo -c ta_SAR.c  -fPIC -DPIC -o .libs/ta_SAR.o\n",
            " gcc -DHAVE_CONFIG_H -I. -I../../include -I../ta_common/ -g -O2 -MT ta_SAR.lo -MD -MP -MF .deps/ta_SAR.Tpo -c ta_SAR.c -o ta_SAR.o >/dev/null 2>&1\n",
            "mv -f .deps/ta_SAR.Tpo .deps/ta_SAR.Plo\n",
            "/bin/bash ../../libtool --tag=CC   --mode=compile gcc -DHAVE_CONFIG_H -I. -I../../include  -I../ta_common/   -g -O2 -MT ta_SAREXT.lo -MD -MP -MF .deps/ta_SAREXT.Tpo -c -o ta_SAREXT.lo ta_SAREXT.c\n",
            " gcc -DHAVE_CONFIG_H -I. -I../../include -I../ta_common/ -g -O2 -MT ta_SAREXT.lo -MD -MP -MF .deps/ta_SAREXT.Tpo -c ta_SAREXT.c  -fPIC -DPIC -o .libs/ta_SAREXT.o\n",
            " gcc -DHAVE_CONFIG_H -I. -I../../include -I../ta_common/ -g -O2 -MT ta_SAREXT.lo -MD -MP -MF .deps/ta_SAREXT.Tpo -c ta_SAREXT.c -o ta_SAREXT.o >/dev/null 2>&1\n",
            "mv -f .deps/ta_SAREXT.Tpo .deps/ta_SAREXT.Plo\n",
            "/bin/bash ../../libtool --tag=CC   --mode=compile gcc -DHAVE_CONFIG_H -I. -I../../include  -I../ta_common/   -g -O2 -MT ta_SIN.lo -MD -MP -MF .deps/ta_SIN.Tpo -c -o ta_SIN.lo ta_SIN.c\n",
            " gcc -DHAVE_CONFIG_H -I. -I../../include -I../ta_common/ -g -O2 -MT ta_SIN.lo -MD -MP -MF .deps/ta_SIN.Tpo -c ta_SIN.c  -fPIC -DPIC -o .libs/ta_SIN.o\n",
            " gcc -DHAVE_CONFIG_H -I. -I../../include -I../ta_common/ -g -O2 -MT ta_SIN.lo -MD -MP -MF .deps/ta_SIN.Tpo -c ta_SIN.c -o ta_SIN.o >/dev/null 2>&1\n",
            "mv -f .deps/ta_SIN.Tpo .deps/ta_SIN.Plo\n",
            "/bin/bash ../../libtool --tag=CC   --mode=compile gcc -DHAVE_CONFIG_H -I. -I../../include  -I../ta_common/   -g -O2 -MT ta_SINH.lo -MD -MP -MF .deps/ta_SINH.Tpo -c -o ta_SINH.lo ta_SINH.c\n",
            " gcc -DHAVE_CONFIG_H -I. -I../../include -I../ta_common/ -g -O2 -MT ta_SINH.lo -MD -MP -MF .deps/ta_SINH.Tpo -c ta_SINH.c  -fPIC -DPIC -o .libs/ta_SINH.o\n",
            " gcc -DHAVE_CONFIG_H -I. -I../../include -I../ta_common/ -g -O2 -MT ta_SINH.lo -MD -MP -MF .deps/ta_SINH.Tpo -c ta_SINH.c -o ta_SINH.o >/dev/null 2>&1\n",
            "mv -f .deps/ta_SINH.Tpo .deps/ta_SINH.Plo\n",
            "/bin/bash ../../libtool --tag=CC   --mode=compile gcc -DHAVE_CONFIG_H -I. -I../../include  -I../ta_common/   -g -O2 -MT ta_SMA.lo -MD -MP -MF .deps/ta_SMA.Tpo -c -o ta_SMA.lo ta_SMA.c\n",
            " gcc -DHAVE_CONFIG_H -I. -I../../include -I../ta_common/ -g -O2 -MT ta_SMA.lo -MD -MP -MF .deps/ta_SMA.Tpo -c ta_SMA.c  -fPIC -DPIC -o .libs/ta_SMA.o\n",
            " gcc -DHAVE_CONFIG_H -I. -I../../include -I../ta_common/ -g -O2 -MT ta_SMA.lo -MD -MP -MF .deps/ta_SMA.Tpo -c ta_SMA.c -o ta_SMA.o >/dev/null 2>&1\n",
            "mv -f .deps/ta_SMA.Tpo .deps/ta_SMA.Plo\n",
            "/bin/bash ../../libtool --tag=CC   --mode=compile gcc -DHAVE_CONFIG_H -I. -I../../include  -I../ta_common/   -g -O2 -MT ta_SQRT.lo -MD -MP -MF .deps/ta_SQRT.Tpo -c -o ta_SQRT.lo ta_SQRT.c\n",
            " gcc -DHAVE_CONFIG_H -I. -I../../include -I../ta_common/ -g -O2 -MT ta_SQRT.lo -MD -MP -MF .deps/ta_SQRT.Tpo -c ta_SQRT.c  -fPIC -DPIC -o .libs/ta_SQRT.o\n",
            " gcc -DHAVE_CONFIG_H -I. -I../../include -I../ta_common/ -g -O2 -MT ta_SQRT.lo -MD -MP -MF .deps/ta_SQRT.Tpo -c ta_SQRT.c -o ta_SQRT.o >/dev/null 2>&1\n",
            "mv -f .deps/ta_SQRT.Tpo .deps/ta_SQRT.Plo\n",
            "/bin/bash ../../libtool --tag=CC   --mode=compile gcc -DHAVE_CONFIG_H -I. -I../../include  -I../ta_common/   -g -O2 -MT ta_STDDEV.lo -MD -MP -MF .deps/ta_STDDEV.Tpo -c -o ta_STDDEV.lo ta_STDDEV.c\n",
            " gcc -DHAVE_CONFIG_H -I. -I../../include -I../ta_common/ -g -O2 -MT ta_STDDEV.lo -MD -MP -MF .deps/ta_STDDEV.Tpo -c ta_STDDEV.c  -fPIC -DPIC -o .libs/ta_STDDEV.o\n",
            " gcc -DHAVE_CONFIG_H -I. -I../../include -I../ta_common/ -g -O2 -MT ta_STDDEV.lo -MD -MP -MF .deps/ta_STDDEV.Tpo -c ta_STDDEV.c -o ta_STDDEV.o >/dev/null 2>&1\n",
            "mv -f .deps/ta_STDDEV.Tpo .deps/ta_STDDEV.Plo\n",
            "/bin/bash ../../libtool --tag=CC   --mode=compile gcc -DHAVE_CONFIG_H -I. -I../../include  -I../ta_common/   -g -O2 -MT ta_STOCH.lo -MD -MP -MF .deps/ta_STOCH.Tpo -c -o ta_STOCH.lo ta_STOCH.c\n",
            " gcc -DHAVE_CONFIG_H -I. -I../../include -I../ta_common/ -g -O2 -MT ta_STOCH.lo -MD -MP -MF .deps/ta_STOCH.Tpo -c ta_STOCH.c  -fPIC -DPIC -o .libs/ta_STOCH.o\n",
            " gcc -DHAVE_CONFIG_H -I. -I../../include -I../ta_common/ -g -O2 -MT ta_STOCH.lo -MD -MP -MF .deps/ta_STOCH.Tpo -c ta_STOCH.c -o ta_STOCH.o >/dev/null 2>&1\n",
            "mv -f .deps/ta_STOCH.Tpo .deps/ta_STOCH.Plo\n",
            "/bin/bash ../../libtool --tag=CC   --mode=compile gcc -DHAVE_CONFIG_H -I. -I../../include  -I../ta_common/   -g -O2 -MT ta_STOCHF.lo -MD -MP -MF .deps/ta_STOCHF.Tpo -c -o ta_STOCHF.lo ta_STOCHF.c\n",
            " gcc -DHAVE_CONFIG_H -I. -I../../include -I../ta_common/ -g -O2 -MT ta_STOCHF.lo -MD -MP -MF .deps/ta_STOCHF.Tpo -c ta_STOCHF.c  -fPIC -DPIC -o .libs/ta_STOCHF.o\n",
            " gcc -DHAVE_CONFIG_H -I. -I../../include -I../ta_common/ -g -O2 -MT ta_STOCHF.lo -MD -MP -MF .deps/ta_STOCHF.Tpo -c ta_STOCHF.c -o ta_STOCHF.o >/dev/null 2>&1\n",
            "mv -f .deps/ta_STOCHF.Tpo .deps/ta_STOCHF.Plo\n",
            "/bin/bash ../../libtool --tag=CC   --mode=compile gcc -DHAVE_CONFIG_H -I. -I../../include  -I../ta_common/   -g -O2 -MT ta_STOCHRSI.lo -MD -MP -MF .deps/ta_STOCHRSI.Tpo -c -o ta_STOCHRSI.lo ta_STOCHRSI.c\n",
            " gcc -DHAVE_CONFIG_H -I. -I../../include -I../ta_common/ -g -O2 -MT ta_STOCHRSI.lo -MD -MP -MF .deps/ta_STOCHRSI.Tpo -c ta_STOCHRSI.c  -fPIC -DPIC -o .libs/ta_STOCHRSI.o\n",
            " gcc -DHAVE_CONFIG_H -I. -I../../include -I../ta_common/ -g -O2 -MT ta_STOCHRSI.lo -MD -MP -MF .deps/ta_STOCHRSI.Tpo -c ta_STOCHRSI.c -o ta_STOCHRSI.o >/dev/null 2>&1\n",
            "mv -f .deps/ta_STOCHRSI.Tpo .deps/ta_STOCHRSI.Plo\n",
            "/bin/bash ../../libtool --tag=CC   --mode=compile gcc -DHAVE_CONFIG_H -I. -I../../include  -I../ta_common/   -g -O2 -MT ta_SUB.lo -MD -MP -MF .deps/ta_SUB.Tpo -c -o ta_SUB.lo ta_SUB.c\n",
            " gcc -DHAVE_CONFIG_H -I. -I../../include -I../ta_common/ -g -O2 -MT ta_SUB.lo -MD -MP -MF .deps/ta_SUB.Tpo -c ta_SUB.c  -fPIC -DPIC -o .libs/ta_SUB.o\n",
            " gcc -DHAVE_CONFIG_H -I. -I../../include -I../ta_common/ -g -O2 -MT ta_SUB.lo -MD -MP -MF .deps/ta_SUB.Tpo -c ta_SUB.c -o ta_SUB.o >/dev/null 2>&1\n",
            "mv -f .deps/ta_SUB.Tpo .deps/ta_SUB.Plo\n",
            "/bin/bash ../../libtool --tag=CC   --mode=compile gcc -DHAVE_CONFIG_H -I. -I../../include  -I../ta_common/   -g -O2 -MT ta_SUM.lo -MD -MP -MF .deps/ta_SUM.Tpo -c -o ta_SUM.lo ta_SUM.c\n",
            " gcc -DHAVE_CONFIG_H -I. -I../../include -I../ta_common/ -g -O2 -MT ta_SUM.lo -MD -MP -MF .deps/ta_SUM.Tpo -c ta_SUM.c  -fPIC -DPIC -o .libs/ta_SUM.o\n",
            " gcc -DHAVE_CONFIG_H -I. -I../../include -I../ta_common/ -g -O2 -MT ta_SUM.lo -MD -MP -MF .deps/ta_SUM.Tpo -c ta_SUM.c -o ta_SUM.o >/dev/null 2>&1\n",
            "mv -f .deps/ta_SUM.Tpo .deps/ta_SUM.Plo\n",
            "/bin/bash ../../libtool --tag=CC   --mode=compile gcc -DHAVE_CONFIG_H -I. -I../../include  -I../ta_common/   -g -O2 -MT ta_T3.lo -MD -MP -MF .deps/ta_T3.Tpo -c -o ta_T3.lo ta_T3.c\n",
            " gcc -DHAVE_CONFIG_H -I. -I../../include -I../ta_common/ -g -O2 -MT ta_T3.lo -MD -MP -MF .deps/ta_T3.Tpo -c ta_T3.c  -fPIC -DPIC -o .libs/ta_T3.o\n",
            " gcc -DHAVE_CONFIG_H -I. -I../../include -I../ta_common/ -g -O2 -MT ta_T3.lo -MD -MP -MF .deps/ta_T3.Tpo -c ta_T3.c -o ta_T3.o >/dev/null 2>&1\n",
            "mv -f .deps/ta_T3.Tpo .deps/ta_T3.Plo\n",
            "/bin/bash ../../libtool --tag=CC   --mode=compile gcc -DHAVE_CONFIG_H -I. -I../../include  -I../ta_common/   -g -O2 -MT ta_TAN.lo -MD -MP -MF .deps/ta_TAN.Tpo -c -o ta_TAN.lo ta_TAN.c\n",
            " gcc -DHAVE_CONFIG_H -I. -I../../include -I../ta_common/ -g -O2 -MT ta_TAN.lo -MD -MP -MF .deps/ta_TAN.Tpo -c ta_TAN.c  -fPIC -DPIC -o .libs/ta_TAN.o\n",
            " gcc -DHAVE_CONFIG_H -I. -I../../include -I../ta_common/ -g -O2 -MT ta_TAN.lo -MD -MP -MF .deps/ta_TAN.Tpo -c ta_TAN.c -o ta_TAN.o >/dev/null 2>&1\n",
            "mv -f .deps/ta_TAN.Tpo .deps/ta_TAN.Plo\n",
            "/bin/bash ../../libtool --tag=CC   --mode=compile gcc -DHAVE_CONFIG_H -I. -I../../include  -I../ta_common/   -g -O2 -MT ta_TANH.lo -MD -MP -MF .deps/ta_TANH.Tpo -c -o ta_TANH.lo ta_TANH.c\n",
            " gcc -DHAVE_CONFIG_H -I. -I../../include -I../ta_common/ -g -O2 -MT ta_TANH.lo -MD -MP -MF .deps/ta_TANH.Tpo -c ta_TANH.c  -fPIC -DPIC -o .libs/ta_TANH.o\n",
            " gcc -DHAVE_CONFIG_H -I. -I../../include -I../ta_common/ -g -O2 -MT ta_TANH.lo -MD -MP -MF .deps/ta_TANH.Tpo -c ta_TANH.c -o ta_TANH.o >/dev/null 2>&1\n",
            "mv -f .deps/ta_TANH.Tpo .deps/ta_TANH.Plo\n",
            "/bin/bash ../../libtool --tag=CC   --mode=compile gcc -DHAVE_CONFIG_H -I. -I../../include  -I../ta_common/   -g -O2 -MT ta_TEMA.lo -MD -MP -MF .deps/ta_TEMA.Tpo -c -o ta_TEMA.lo ta_TEMA.c\n",
            " gcc -DHAVE_CONFIG_H -I. -I../../include -I../ta_common/ -g -O2 -MT ta_TEMA.lo -MD -MP -MF .deps/ta_TEMA.Tpo -c ta_TEMA.c  -fPIC -DPIC -o .libs/ta_TEMA.o\n",
            " gcc -DHAVE_CONFIG_H -I. -I../../include -I../ta_common/ -g -O2 -MT ta_TEMA.lo -MD -MP -MF .deps/ta_TEMA.Tpo -c ta_TEMA.c -o ta_TEMA.o >/dev/null 2>&1\n",
            "mv -f .deps/ta_TEMA.Tpo .deps/ta_TEMA.Plo\n",
            "/bin/bash ../../libtool --tag=CC   --mode=compile gcc -DHAVE_CONFIG_H -I. -I../../include  -I../ta_common/   -g -O2 -MT ta_TRANGE.lo -MD -MP -MF .deps/ta_TRANGE.Tpo -c -o ta_TRANGE.lo ta_TRANGE.c\n",
            " gcc -DHAVE_CONFIG_H -I. -I../../include -I../ta_common/ -g -O2 -MT ta_TRANGE.lo -MD -MP -MF .deps/ta_TRANGE.Tpo -c ta_TRANGE.c  -fPIC -DPIC -o .libs/ta_TRANGE.o\n",
            " gcc -DHAVE_CONFIG_H -I. -I../../include -I../ta_common/ -g -O2 -MT ta_TRANGE.lo -MD -MP -MF .deps/ta_TRANGE.Tpo -c ta_TRANGE.c -o ta_TRANGE.o >/dev/null 2>&1\n",
            "mv -f .deps/ta_TRANGE.Tpo .deps/ta_TRANGE.Plo\n",
            "/bin/bash ../../libtool --tag=CC   --mode=compile gcc -DHAVE_CONFIG_H -I. -I../../include  -I../ta_common/   -g -O2 -MT ta_TRIMA.lo -MD -MP -MF .deps/ta_TRIMA.Tpo -c -o ta_TRIMA.lo ta_TRIMA.c\n",
            " gcc -DHAVE_CONFIG_H -I. -I../../include -I../ta_common/ -g -O2 -MT ta_TRIMA.lo -MD -MP -MF .deps/ta_TRIMA.Tpo -c ta_TRIMA.c  -fPIC -DPIC -o .libs/ta_TRIMA.o\n",
            " gcc -DHAVE_CONFIG_H -I. -I../../include -I../ta_common/ -g -O2 -MT ta_TRIMA.lo -MD -MP -MF .deps/ta_TRIMA.Tpo -c ta_TRIMA.c -o ta_TRIMA.o >/dev/null 2>&1\n",
            "mv -f .deps/ta_TRIMA.Tpo .deps/ta_TRIMA.Plo\n",
            "/bin/bash ../../libtool --tag=CC   --mode=compile gcc -DHAVE_CONFIG_H -I. -I../../include  -I../ta_common/   -g -O2 -MT ta_TRIX.lo -MD -MP -MF .deps/ta_TRIX.Tpo -c -o ta_TRIX.lo ta_TRIX.c\n",
            " gcc -DHAVE_CONFIG_H -I. -I../../include -I../ta_common/ -g -O2 -MT ta_TRIX.lo -MD -MP -MF .deps/ta_TRIX.Tpo -c ta_TRIX.c  -fPIC -DPIC -o .libs/ta_TRIX.o\n",
            " gcc -DHAVE_CONFIG_H -I. -I../../include -I../ta_common/ -g -O2 -MT ta_TRIX.lo -MD -MP -MF .deps/ta_TRIX.Tpo -c ta_TRIX.c -o ta_TRIX.o >/dev/null 2>&1\n",
            "mv -f .deps/ta_TRIX.Tpo .deps/ta_TRIX.Plo\n",
            "/bin/bash ../../libtool --tag=CC   --mode=compile gcc -DHAVE_CONFIG_H -I. -I../../include  -I../ta_common/   -g -O2 -MT ta_TSF.lo -MD -MP -MF .deps/ta_TSF.Tpo -c -o ta_TSF.lo ta_TSF.c\n",
            " gcc -DHAVE_CONFIG_H -I. -I../../include -I../ta_common/ -g -O2 -MT ta_TSF.lo -MD -MP -MF .deps/ta_TSF.Tpo -c ta_TSF.c  -fPIC -DPIC -o .libs/ta_TSF.o\n",
            " gcc -DHAVE_CONFIG_H -I. -I../../include -I../ta_common/ -g -O2 -MT ta_TSF.lo -MD -MP -MF .deps/ta_TSF.Tpo -c ta_TSF.c -o ta_TSF.o >/dev/null 2>&1\n",
            "mv -f .deps/ta_TSF.Tpo .deps/ta_TSF.Plo\n",
            "/bin/bash ../../libtool --tag=CC   --mode=compile gcc -DHAVE_CONFIG_H -I. -I../../include  -I../ta_common/   -g -O2 -MT ta_TYPPRICE.lo -MD -MP -MF .deps/ta_TYPPRICE.Tpo -c -o ta_TYPPRICE.lo ta_TYPPRICE.c\n",
            " gcc -DHAVE_CONFIG_H -I. -I../../include -I../ta_common/ -g -O2 -MT ta_TYPPRICE.lo -MD -MP -MF .deps/ta_TYPPRICE.Tpo -c ta_TYPPRICE.c  -fPIC -DPIC -o .libs/ta_TYPPRICE.o\n",
            " gcc -DHAVE_CONFIG_H -I. -I../../include -I../ta_common/ -g -O2 -MT ta_TYPPRICE.lo -MD -MP -MF .deps/ta_TYPPRICE.Tpo -c ta_TYPPRICE.c -o ta_TYPPRICE.o >/dev/null 2>&1\n",
            "mv -f .deps/ta_TYPPRICE.Tpo .deps/ta_TYPPRICE.Plo\n",
            "/bin/bash ../../libtool --tag=CC   --mode=compile gcc -DHAVE_CONFIG_H -I. -I../../include  -I../ta_common/   -g -O2 -MT ta_ULTOSC.lo -MD -MP -MF .deps/ta_ULTOSC.Tpo -c -o ta_ULTOSC.lo ta_ULTOSC.c\n",
            " gcc -DHAVE_CONFIG_H -I. -I../../include -I../ta_common/ -g -O2 -MT ta_ULTOSC.lo -MD -MP -MF .deps/ta_ULTOSC.Tpo -c ta_ULTOSC.c  -fPIC -DPIC -o .libs/ta_ULTOSC.o\n",
            " gcc -DHAVE_CONFIG_H -I. -I../../include -I../ta_common/ -g -O2 -MT ta_ULTOSC.lo -MD -MP -MF .deps/ta_ULTOSC.Tpo -c ta_ULTOSC.c -o ta_ULTOSC.o >/dev/null 2>&1\n",
            "mv -f .deps/ta_ULTOSC.Tpo .deps/ta_ULTOSC.Plo\n",
            "/bin/bash ../../libtool --tag=CC   --mode=compile gcc -DHAVE_CONFIG_H -I. -I../../include  -I../ta_common/   -g -O2 -MT ta_VAR.lo -MD -MP -MF .deps/ta_VAR.Tpo -c -o ta_VAR.lo ta_VAR.c\n",
            " gcc -DHAVE_CONFIG_H -I. -I../../include -I../ta_common/ -g -O2 -MT ta_VAR.lo -MD -MP -MF .deps/ta_VAR.Tpo -c ta_VAR.c  -fPIC -DPIC -o .libs/ta_VAR.o\n",
            " gcc -DHAVE_CONFIG_H -I. -I../../include -I../ta_common/ -g -O2 -MT ta_VAR.lo -MD -MP -MF .deps/ta_VAR.Tpo -c ta_VAR.c -o ta_VAR.o >/dev/null 2>&1\n",
            "mv -f .deps/ta_VAR.Tpo .deps/ta_VAR.Plo\n",
            "/bin/bash ../../libtool --tag=CC   --mode=compile gcc -DHAVE_CONFIG_H -I. -I../../include  -I../ta_common/   -g -O2 -MT ta_WCLPRICE.lo -MD -MP -MF .deps/ta_WCLPRICE.Tpo -c -o ta_WCLPRICE.lo ta_WCLPRICE.c\n",
            " gcc -DHAVE_CONFIG_H -I. -I../../include -I../ta_common/ -g -O2 -MT ta_WCLPRICE.lo -MD -MP -MF .deps/ta_WCLPRICE.Tpo -c ta_WCLPRICE.c  -fPIC -DPIC -o .libs/ta_WCLPRICE.o\n",
            " gcc -DHAVE_CONFIG_H -I. -I../../include -I../ta_common/ -g -O2 -MT ta_WCLPRICE.lo -MD -MP -MF .deps/ta_WCLPRICE.Tpo -c ta_WCLPRICE.c -o ta_WCLPRICE.o >/dev/null 2>&1\n",
            "mv -f .deps/ta_WCLPRICE.Tpo .deps/ta_WCLPRICE.Plo\n",
            "/bin/bash ../../libtool --tag=CC   --mode=compile gcc -DHAVE_CONFIG_H -I. -I../../include  -I../ta_common/   -g -O2 -MT ta_WILLR.lo -MD -MP -MF .deps/ta_WILLR.Tpo -c -o ta_WILLR.lo ta_WILLR.c\n",
            " gcc -DHAVE_CONFIG_H -I. -I../../include -I../ta_common/ -g -O2 -MT ta_WILLR.lo -MD -MP -MF .deps/ta_WILLR.Tpo -c ta_WILLR.c  -fPIC -DPIC -o .libs/ta_WILLR.o\n",
            " gcc -DHAVE_CONFIG_H -I. -I../../include -I../ta_common/ -g -O2 -MT ta_WILLR.lo -MD -MP -MF .deps/ta_WILLR.Tpo -c ta_WILLR.c -o ta_WILLR.o >/dev/null 2>&1\n",
            "mv -f .deps/ta_WILLR.Tpo .deps/ta_WILLR.Plo\n",
            "/bin/bash ../../libtool --tag=CC   --mode=compile gcc -DHAVE_CONFIG_H -I. -I../../include  -I../ta_common/   -g -O2 -MT ta_WMA.lo -MD -MP -MF .deps/ta_WMA.Tpo -c -o ta_WMA.lo ta_WMA.c\n",
            " gcc -DHAVE_CONFIG_H -I. -I../../include -I../ta_common/ -g -O2 -MT ta_WMA.lo -MD -MP -MF .deps/ta_WMA.Tpo -c ta_WMA.c  -fPIC -DPIC -o .libs/ta_WMA.o\n",
            " gcc -DHAVE_CONFIG_H -I. -I../../include -I../ta_common/ -g -O2 -MT ta_WMA.lo -MD -MP -MF .deps/ta_WMA.Tpo -c ta_WMA.c -o ta_WMA.o >/dev/null 2>&1\n",
            "mv -f .deps/ta_WMA.Tpo .deps/ta_WMA.Plo\n",
            "/bin/bash ../../libtool --tag=CC   --mode=link gcc  -g -O2 -version-info 0:0:0  -o libta_func.la  ta_utility.lo ta_ACOS.lo ta_AD.lo ta_ADD.lo ta_ADOSC.lo ta_ADX.lo ta_ADXR.lo ta_APO.lo ta_AROON.lo ta_AROONOSC.lo ta_ASIN.lo ta_ATAN.lo ta_ATR.lo ta_AVGPRICE.lo ta_BBANDS.lo ta_BETA.lo ta_BOP.lo ta_CCI.lo ta_CDL2CROWS.lo ta_CDL3BLACKCROWS.lo ta_CDL3INSIDE.lo ta_CDL3LINESTRIKE.lo ta_CDL3OUTSIDE.lo ta_CDL3STARSINSOUTH.lo ta_CDL3WHITESOLDIERS.lo ta_CDLABANDONEDBABY.lo ta_CDLADVANCEBLOCK.lo ta_CDLBELTHOLD.lo ta_CDLBREAKAWAY.lo ta_CDLCLOSINGMARUBOZU.lo ta_CDLCONCEALBABYSWALL.lo ta_CDLCOUNTERATTACK.lo ta_CDLDARKCLOUDCOVER.lo ta_CDLDOJI.lo ta_CDLDOJISTAR.lo ta_CDLDRAGONFLYDOJI.lo ta_CDLENGULFING.lo ta_CDLEVENINGDOJISTAR.lo ta_CDLEVENINGSTAR.lo ta_CDLGAPSIDESIDEWHITE.lo ta_CDLGRAVESTONEDOJI.lo ta_CDLHAMMER.lo ta_CDLHANGINGMAN.lo ta_CDLHARAMI.lo ta_CDLHARAMICROSS.lo ta_CDLHIGHWAVE.lo ta_CDLHIKKAKE.lo ta_CDLHIKKAKEMOD.lo ta_CDLHOMINGPIGEON.lo ta_CDLIDENTICAL3CROWS.lo ta_CDLINNECK.lo ta_CDLINVERTEDHAMMER.lo ta_CDLKICKING.lo ta_CDLKICKINGBYLENGTH.lo ta_CDLLADDERBOTTOM.lo ta_CDLLONGLEGGEDDOJI.lo ta_CDLLONGLINE.lo ta_CDLMARUBOZU.lo ta_CDLMATCHINGLOW.lo ta_CDLMATHOLD.lo ta_CDLMORNINGDOJISTAR.lo ta_CDLMORNINGSTAR.lo ta_CDLONNECK.lo ta_CDLPIERCING.lo ta_CDLRICKSHAWMAN.lo ta_CDLRISEFALL3METHODS.lo ta_CDLSEPARATINGLINES.lo ta_CDLSHOOTINGSTAR.lo ta_CDLSHORTLINE.lo ta_CDLSPINNINGTOP.lo ta_CDLSTALLEDPATTERN.lo ta_CDLSTICKSANDWICH.lo ta_CDLTAKURI.lo ta_CDLTASUKIGAP.lo ta_CDLTHRUSTING.lo ta_CDLTRISTAR.lo ta_CDLUNIQUE3RIVER.lo ta_CDLUPSIDEGAP2CROWS.lo ta_CDLXSIDEGAP3METHODS.lo ta_CEIL.lo ta_CMO.lo ta_CORREL.lo ta_COS.lo ta_COSH.lo ta_DEMA.lo ta_DIV.lo ta_DX.lo ta_EMA.lo ta_EXP.lo ta_FLOOR.lo ta_HT_DCPERIOD.lo ta_HT_DCPHASE.lo ta_HT_PHASOR.lo ta_HT_SINE.lo ta_HT_TRENDLINE.lo ta_HT_TRENDMODE.lo ta_KAMA.lo ta_LINEARREG.lo ta_LINEARREG_ANGLE.lo ta_LINEARREG_INTERCEPT.lo ta_LINEARREG_SLOPE.lo ta_LN.lo ta_LOG10.lo ta_MA.lo ta_MACD.lo ta_MACDEXT.lo ta_MACDFIX.lo ta_MAMA.lo ta_MAVP.lo ta_MAX.lo ta_MAXINDEX.lo ta_MEDPRICE.lo ta_MFI.lo ta_MIDPOINT.lo ta_MIDPRICE.lo ta_MIN.lo ta_MININDEX.lo ta_MINMAX.lo ta_MINMAXINDEX.lo ta_MINUS_DI.lo ta_MINUS_DM.lo ta_MOM.lo ta_MULT.lo ta_NATR.lo ta_OBV.lo ta_PLUS_DI.lo ta_PLUS_DM.lo ta_PPO.lo ta_ROC.lo ta_ROCP.lo ta_ROCR.lo ta_ROCR100.lo ta_RSI.lo ta_SAR.lo ta_SAREXT.lo ta_SIN.lo ta_SINH.lo ta_SMA.lo ta_SQRT.lo ta_STDDEV.lo ta_STOCH.lo ta_STOCHF.lo ta_STOCHRSI.lo ta_SUB.lo ta_SUM.lo ta_T3.lo ta_TAN.lo ta_TANH.lo ta_TEMA.lo ta_TRANGE.lo ta_TRIMA.lo ta_TRIX.lo ta_TSF.lo ta_TYPPRICE.lo ta_ULTOSC.lo ta_VAR.lo ta_WCLPRICE.lo ta_WILLR.lo ta_WMA.lo  -lpthread -ldl \n",
            "libtool: link: warning: `-version-info/-version-number' is ignored for convenience libraries\n",
            "ar cru .libs/libta_func.a .libs/ta_utility.o .libs/ta_ACOS.o .libs/ta_AD.o .libs/ta_ADD.o .libs/ta_ADOSC.o .libs/ta_ADX.o .libs/ta_ADXR.o .libs/ta_APO.o .libs/ta_AROON.o .libs/ta_AROONOSC.o .libs/ta_ASIN.o .libs/ta_ATAN.o .libs/ta_ATR.o .libs/ta_AVGPRICE.o .libs/ta_BBANDS.o .libs/ta_BETA.o .libs/ta_BOP.o .libs/ta_CCI.o .libs/ta_CDL2CROWS.o .libs/ta_CDL3BLACKCROWS.o .libs/ta_CDL3INSIDE.o .libs/ta_CDL3LINESTRIKE.o .libs/ta_CDL3OUTSIDE.o .libs/ta_CDL3STARSINSOUTH.o .libs/ta_CDL3WHITESOLDIERS.o .libs/ta_CDLABANDONEDBABY.o .libs/ta_CDLADVANCEBLOCK.o .libs/ta_CDLBELTHOLD.o .libs/ta_CDLBREAKAWAY.o .libs/ta_CDLCLOSINGMARUBOZU.o .libs/ta_CDLCONCEALBABYSWALL.o .libs/ta_CDLCOUNTERATTACK.o .libs/ta_CDLDARKCLOUDCOVER.o .libs/ta_CDLDOJI.o .libs/ta_CDLDOJISTAR.o .libs/ta_CDLDRAGONFLYDOJI.o .libs/ta_CDLENGULFING.o .libs/ta_CDLEVENINGDOJISTAR.o .libs/ta_CDLEVENINGSTAR.o .libs/ta_CDLGAPSIDESIDEWHITE.o .libs/ta_CDLGRAVESTONEDOJI.o .libs/ta_CDLHAMMER.o .libs/ta_CDLHANGINGMAN.o .libs/ta_CDLHARAMI.o .libs/ta_CDLHARAMICROSS.o .libs/ta_CDLHIGHWAVE.o .libs/ta_CDLHIKKAKE.o .libs/ta_CDLHIKKAKEMOD.o .libs/ta_CDLHOMINGPIGEON.o .libs/ta_CDLIDENTICAL3CROWS.o .libs/ta_CDLINNECK.o .libs/ta_CDLINVERTEDHAMMER.o .libs/ta_CDLKICKING.o .libs/ta_CDLKICKINGBYLENGTH.o .libs/ta_CDLLADDERBOTTOM.o .libs/ta_CDLLONGLEGGEDDOJI.o .libs/ta_CDLLONGLINE.o .libs/ta_CDLMARUBOZU.o .libs/ta_CDLMATCHINGLOW.o .libs/ta_CDLMATHOLD.o .libs/ta_CDLMORNINGDOJISTAR.o .libs/ta_CDLMORNINGSTAR.o .libs/ta_CDLONNECK.o .libs/ta_CDLPIERCING.o .libs/ta_CDLRICKSHAWMAN.o .libs/ta_CDLRISEFALL3METHODS.o .libs/ta_CDLSEPARATINGLINES.o .libs/ta_CDLSHOOTINGSTAR.o .libs/ta_CDLSHORTLINE.o .libs/ta_CDLSPINNINGTOP.o .libs/ta_CDLSTALLEDPATTERN.o .libs/ta_CDLSTICKSANDWICH.o .libs/ta_CDLTAKURI.o .libs/ta_CDLTASUKIGAP.o .libs/ta_CDLTHRUSTING.o .libs/ta_CDLTRISTAR.o .libs/ta_CDLUNIQUE3RIVER.o .libs/ta_CDLUPSIDEGAP2CROWS.o .libs/ta_CDLXSIDEGAP3METHODS.o .libs/ta_CEIL.o .libs/ta_CMO.o .libs/ta_CORREL.o .libs/ta_COS.o .libs/ta_COSH.o .libs/ta_DEMA.o .libs/ta_DIV.o .libs/ta_DX.o .libs/ta_EMA.o .libs/ta_EXP.o .libs/ta_FLOOR.o .libs/ta_HT_DCPERIOD.o .libs/ta_HT_DCPHASE.o .libs/ta_HT_PHASOR.o .libs/ta_HT_SINE.o .libs/ta_HT_TRENDLINE.o .libs/ta_HT_TRENDMODE.o .libs/ta_KAMA.o .libs/ta_LINEARREG.o .libs/ta_LINEARREG_ANGLE.o .libs/ta_LINEARREG_INTERCEPT.o .libs/ta_LINEARREG_SLOPE.o .libs/ta_LN.o .libs/ta_LOG10.o .libs/ta_MA.o .libs/ta_MACD.o .libs/ta_MACDEXT.o .libs/ta_MACDFIX.o .libs/ta_MAMA.o .libs/ta_MAVP.o .libs/ta_MAX.o .libs/ta_MAXINDEX.o .libs/ta_MEDPRICE.o .libs/ta_MFI.o .libs/ta_MIDPOINT.o .libs/ta_MIDPRICE.o .libs/ta_MIN.o .libs/ta_MININDEX.o .libs/ta_MINMAX.o .libs/ta_MINMAXINDEX.o .libs/ta_MINUS_DI.o .libs/ta_MINUS_DM.o .libs/ta_MOM.o .libs/ta_MULT.o .libs/ta_NATR.o .libs/ta_OBV.o .libs/ta_PLUS_DI.o .libs/ta_PLUS_DM.o .libs/ta_PPO.o .libs/ta_ROC.o .libs/ta_ROCP.o .libs/ta_ROCR.o .libs/ta_ROCR100.o .libs/ta_RSI.o .libs/ta_SAR.o .libs/ta_SAREXT.o .libs/ta_SIN.o .libs/ta_SINH.o .libs/ta_SMA.o .libs/ta_SQRT.o .libs/ta_STDDEV.o .libs/ta_STOCH.o .libs/ta_STOCHF.o .libs/ta_STOCHRSI.o .libs/ta_SUB.o .libs/ta_SUM.o .libs/ta_T3.o .libs/ta_TAN.o .libs/ta_TANH.o .libs/ta_TEMA.o .libs/ta_TRANGE.o .libs/ta_TRIMA.o .libs/ta_TRIX.o .libs/ta_TSF.o .libs/ta_TYPPRICE.o .libs/ta_ULTOSC.o .libs/ta_VAR.o .libs/ta_WCLPRICE.o .libs/ta_WILLR.o .libs/ta_WMA.o\n",
            "ar: `u' modifier ignored since `D' is the default (see `U')\n",
            "ranlib .libs/libta_func.a\n",
            "creating libta_func.la\n",
            "(cd .libs && rm -f libta_func.la && ln -s ../libta_func.la libta_func.la)\n",
            "make[2]: Leaving directory '/content/ta-lib/src/ta_func'\n",
            "make[2]: Entering directory '/content/ta-lib/src'\n",
            "/bin/bash ../libtool --tag=CC   --mode=link gcc  -g -O2 -version-info 0:0:0  -o libta_lib.la -rpath /usr/lib  ta_abstract/libta_abstract.la ta_func/libta_func.la ta_common/libta_common.la -lpthread -ldl \n",
            "mkdir .libs\n",
            "gcc -shared  -Wl,--whole-archive ta_abstract/.libs/libta_abstract.a ta_func/.libs/libta_func.a ta_common/.libs/libta_common.a -Wl,--no-whole-archive  -lpthread -ldl  -Wl,-soname -Wl,libta_lib.so.0 -o .libs/libta_lib.so.0.0.0\n",
            "(cd .libs && rm -f libta_lib.so.0 && ln -s libta_lib.so.0.0.0 libta_lib.so.0)\n",
            "(cd .libs && rm -f libta_lib.so && ln -s libta_lib.so.0.0.0 libta_lib.so)\n",
            "rm -fr .libs/libta_lib.lax\n",
            "mkdir .libs/libta_lib.lax\n",
            "rm -fr .libs/libta_lib.lax/libta_abstract.a\n",
            "mkdir .libs/libta_lib.lax/libta_abstract.a\n",
            "(cd .libs/libta_lib.lax/libta_abstract.a && ar x /content/ta-lib/src/ta_abstract/.libs/libta_abstract.a)\n",
            "rm -fr .libs/libta_lib.lax/libta_func.a\n",
            "mkdir .libs/libta_lib.lax/libta_func.a\n",
            "(cd .libs/libta_lib.lax/libta_func.a && ar x /content/ta-lib/src/ta_func/.libs/libta_func.a)\n",
            "rm -fr .libs/libta_lib.lax/libta_common.a\n",
            "mkdir .libs/libta_lib.lax/libta_common.a\n",
            "(cd .libs/libta_lib.lax/libta_common.a && ar x /content/ta-lib/src/ta_common/.libs/libta_common.a)\n",
            "ar cru .libs/libta_lib.a   .libs/libta_lib.lax/libta_abstract.a/libta_abstract_la-table_t.o .libs/libta_lib.lax/libta_abstract.a/libta_abstract_la-table_h.o .libs/libta_lib.lax/libta_abstract.a/libta_abstract_la-table_r.o .libs/libta_lib.lax/libta_abstract.a/libta_abstract_la-ta_frame.o .libs/libta_lib.lax/libta_abstract.a/libta_abstract_la-table_c.o .libs/libta_lib.lax/libta_abstract.a/libta_abstract_la-ta_def_ui.o .libs/libta_lib.lax/libta_abstract.a/libta_abstract_la-table_l.o .libs/libta_lib.lax/libta_abstract.a/libta_abstract_la-table_k.o .libs/libta_lib.lax/libta_abstract.a/libta_abstract_la-table_w.o .libs/libta_lib.lax/libta_abstract.a/libta_abstract_la-table_q.o .libs/libta_lib.lax/libta_abstract.a/libta_abstract_la-ta_abstract.o .libs/libta_lib.lax/libta_abstract.a/libta_abstract_la-table_x.o .libs/libta_lib.lax/libta_abstract.a/libta_abstract_la-table_n.o .libs/libta_lib.lax/libta_abstract.a/libta_abstract_la-ta_func_api.o .libs/libta_lib.lax/libta_abstract.a/libta_abstract_la-table_p.o .libs/libta_lib.lax/libta_abstract.a/libta_abstract_la-table_s.o .libs/libta_lib.lax/libta_abstract.a/libta_abstract_la-table_u.o .libs/libta_lib.lax/libta_abstract.a/libta_abstract_la-table_j.o .libs/libta_lib.lax/libta_abstract.a/libta_abstract_la-table_g.o .libs/libta_lib.lax/libta_abstract.a/libta_abstract_la-table_e.o .libs/libta_lib.lax/libta_abstract.a/libta_abstract_la-table_y.o .libs/libta_lib.lax/libta_abstract.a/libta_abstract_la-ta_group_idx.o .libs/libta_lib.lax/libta_abstract.a/libta_abstract_la-table_f.o .libs/libta_lib.lax/libta_abstract.a/libta_abstract_la-table_a.o .libs/libta_lib.lax/libta_abstract.a/libta_abstract_la-table_d.o .libs/libta_lib.lax/libta_abstract.a/libta_abstract_la-table_m.o .libs/libta_lib.lax/libta_abstract.a/libta_abstract_la-table_z.o .libs/libta_lib.lax/libta_abstract.a/libta_abstract_la-table_o.o .libs/libta_lib.lax/libta_abstract.a/libta_abstract_la-table_i.o .libs/libta_lib.lax/libta_abstract.a/libta_abstract_la-table_v.o .libs/libta_lib.lax/libta_abstract.a/libta_abstract_la-table_b.o  .libs/libta_lib.lax/libta_func.a/ta_MEDPRICE.o .libs/libta_lib.lax/libta_func.a/ta_ROCP.o .libs/libta_lib.lax/libta_func.a/ta_EXP.o .libs/libta_lib.lax/libta_func.a/ta_MOM.o .libs/libta_lib.lax/libta_func.a/ta_MAMA.o .libs/libta_lib.lax/libta_func.a/ta_WMA.o .libs/libta_lib.lax/libta_func.a/ta_CDLABANDONEDBABY.o .libs/libta_lib.lax/libta_func.a/ta_LINEARREG_SLOPE.o .libs/libta_lib.lax/libta_func.a/ta_MFI.o .libs/libta_lib.lax/libta_func.a/ta_TEMA.o .libs/libta_lib.lax/libta_func.a/ta_DEMA.o .libs/libta_lib.lax/libta_func.a/ta_MAXINDEX.o .libs/libta_lib.lax/libta_func.a/ta_ULTOSC.o .libs/libta_lib.lax/libta_func.a/ta_TRIMA.o .libs/libta_lib.lax/libta_func.a/ta_CDLGAPSIDESIDEWHITE.o .libs/libta_lib.lax/libta_func.a/ta_SINH.o .libs/libta_lib.lax/libta_func.a/ta_HT_SINE.o .libs/libta_lib.lax/libta_func.a/ta_CDLHARAMICROSS.o .libs/libta_lib.lax/libta_func.a/ta_CDLTASUKIGAP.o .libs/libta_lib.lax/libta_func.a/ta_MA.o .libs/libta_lib.lax/libta_func.a/ta_CDLTHRUSTING.o .libs/libta_lib.lax/libta_func.a/ta_CDLSTICKSANDWICH.o .libs/libta_lib.lax/libta_func.a/ta_CDLMORNINGSTAR.o .libs/libta_lib.lax/libta_func.a/ta_RSI.o .libs/libta_lib.lax/libta_func.a/ta_MIDPRICE.o .libs/libta_lib.lax/libta_func.a/ta_CDLINNECK.o .libs/libta_lib.lax/libta_func.a/ta_CDLKICKINGBYLENGTH.o .libs/libta_lib.lax/libta_func.a/ta_CDLTAKURI.o .libs/libta_lib.lax/libta_func.a/ta_SUB.o .libs/libta_lib.lax/libta_func.a/ta_STDDEV.o .libs/libta_lib.lax/libta_func.a/ta_MAVP.o .libs/libta_lib.lax/libta_func.a/ta_CDLSPINNINGTOP.o .libs/libta_lib.lax/libta_func.a/ta_T3.o .libs/libta_lib.lax/libta_func.a/ta_PLUS_DI.o .libs/libta_lib.lax/libta_func.a/ta_BOP.o .libs/libta_lib.lax/libta_func.a/ta_ATAN.o .libs/libta_lib.lax/libta_func.a/ta_MACDFIX.o .libs/libta_lib.lax/libta_func.a/ta_CDLMATHOLD.o .libs/libta_lib.lax/libta_func.a/ta_ADXR.o .libs/libta_lib.lax/libta_func.a/ta_CDLDARKCLOUDCOVER.o .libs/libta_lib.lax/libta_func.a/ta_CDLBREAKAWAY.o .libs/libta_lib.lax/libta_func.a/ta_CDLONNECK.o .libs/libta_lib.lax/libta_func.a/ta_CDLEVENINGSTAR.o .libs/libta_lib.lax/libta_func.a/ta_HT_DCPHASE.o .libs/libta_lib.lax/libta_func.a/ta_LOG10.o .libs/libta_lib.lax/libta_func.a/ta_CDLUPSIDEGAP2CROWS.o .libs/libta_lib.lax/libta_func.a/ta_CDLXSIDEGAP3METHODS.o .libs/libta_lib.lax/libta_func.a/ta_CDL3INSIDE.o .libs/libta_lib.lax/libta_func.a/ta_TYPPRICE.o .libs/libta_lib.lax/libta_func.a/ta_ROC.o .libs/libta_lib.lax/libta_func.a/ta_CDLCOUNTERATTACK.o .libs/libta_lib.lax/libta_func.a/ta_KAMA.o .libs/libta_lib.lax/libta_func.a/ta_TANH.o .libs/libta_lib.lax/libta_func.a/ta_APO.o .libs/libta_lib.lax/libta_func.a/ta_COS.o .libs/libta_lib.lax/libta_func.a/ta_ROCR100.o .libs/libta_lib.lax/libta_func.a/ta_SAREXT.o .libs/libta_lib.lax/libta_func.a/ta_ADX.o .libs/libta_lib.lax/libta_func.a/ta_CDLEVENINGDOJISTAR.o .libs/libta_lib.lax/libta_func.a/ta_TRIX.o .libs/libta_lib.lax/libta_func.a/ta_CDLSEPARATINGLINES.o .libs/libta_lib.lax/libta_func.a/ta_VAR.o .libs/libta_lib.lax/libta_func.a/ta_CMO.o .libs/libta_lib.lax/libta_func.a/ta_CDLHIKKAKE.o .libs/libta_lib.lax/libta_func.a/ta_CDLMORNINGDOJISTAR.o .libs/libta_lib.lax/libta_func.a/ta_CDLSTALLEDPATTERN.o .libs/libta_lib.lax/libta_func.a/ta_utility.o .libs/libta_lib.lax/libta_func.a/ta_MIN.o .libs/libta_lib.lax/libta_func.a/ta_FLOOR.o .libs/libta_lib.lax/libta_func.a/ta_CDLMATCHINGLOW.o .libs/libta_lib.lax/libta_func.a/ta_CDLBELTHOLD.o .libs/libta_lib.lax/libta_func.a/ta_CDLHIKKAKEMOD.o .libs/libta_lib.lax/libta_func.a/ta_CDL3OUTSIDE.o .libs/libta_lib.lax/libta_func.a/ta_LN.o .libs/libta_lib.lax/libta_func.a/ta_CDLMARUBOZU.o .libs/libta_lib.lax/libta_func.a/ta_SMA.o .libs/libta_lib.lax/libta_func.a/ta_CDLHIGHWAVE.o .libs/libta_lib.lax/libta_func.a/ta_CDLSHOOTINGSTAR.o .libs/libta_lib.lax/libta_func.a/ta_CDL3BLACKCROWS.o .libs/libta_lib.lax/libta_func.a/ta_MACD.o .libs/libta_lib.lax/libta_func.a/ta_CORREL.o .libs/libta_lib.lax/libta_func.a/ta_COSH.o .libs/libta_lib.lax/libta_func.a/ta_MINMAXINDEX.o .libs/libta_lib.lax/libta_func.a/ta_SQRT.o .libs/libta_lib.lax/libta_func.a/ta_CDLPIERCING.o .libs/libta_lib.lax/libta_func.a/ta_CDLDOJISTAR.o .libs/libta_lib.lax/libta_func.a/ta_CDLHAMMER.o .libs/libta_lib.lax/libta_func.a/ta_MINUS_DM.o .libs/libta_lib.lax/libta_func.a/ta_CDLLONGLEGGEDDOJI.o .libs/libta_lib.lax/libta_func.a/ta_SUM.o .libs/libta_lib.lax/libta_func.a/ta_DX.o .libs/libta_lib.lax/libta_func.a/ta_TAN.o .libs/libta_lib.lax/libta_func.a/ta_CDLRICKSHAWMAN.o .libs/libta_lib.lax/libta_func.a/ta_ACOS.o .libs/libta_lib.lax/libta_func.a/ta_CDLCLOSINGMARUBOZU.o .libs/libta_lib.lax/libta_func.a/ta_HT_PHASOR.o .libs/libta_lib.lax/libta_func.a/ta_CDLHARAMI.o .libs/libta_lib.lax/libta_func.a/ta_OBV.o .libs/libta_lib.lax/libta_func.a/ta_CDLDOJI.o .libs/libta_lib.lax/libta_func.a/ta_MACDEXT.o .libs/libta_lib.lax/libta_func.a/ta_CDLADVANCEBLOCK.o .libs/libta_lib.lax/libta_func.a/ta_CDLGRAVESTONEDOJI.o .libs/libta_lib.lax/libta_func.a/ta_SAR.o .libs/libta_lib.lax/libta_func.a/ta_TRANGE.o .libs/libta_lib.lax/libta_func.a/ta_CCI.o .libs/libta_lib.lax/libta_func.a/ta_CEIL.o .libs/libta_lib.lax/libta_func.a/ta_MINUS_DI.o .libs/libta_lib.lax/libta_func.a/ta_MININDEX.o .libs/libta_lib.lax/libta_func.a/ta_SIN.o .libs/libta_lib.lax/libta_func.a/ta_PLUS_DM.o .libs/libta_lib.lax/libta_func.a/ta_CDL3STARSINSOUTH.o .libs/libta_lib.lax/libta_func.a/ta_HT_TRENDLINE.o .libs/libta_lib.lax/libta_func.a/ta_LINEARREG_ANGLE.o .libs/libta_lib.lax/libta_func.a/ta_ATR.o .libs/libta_lib.lax/libta_func.a/ta_CDLINVERTEDHAMMER.o .libs/libta_lib.lax/libta_func.a/ta_MAX.o .libs/libta_lib.lax/libta_func.a/ta_STOCHF.o .libs/libta_lib.lax/libta_func.a/ta_CDLHANGINGMAN.o .libs/libta_lib.lax/libta_func.a/ta_BBANDS.o .libs/libta_lib.lax/libta_func.a/ta_WCLPRICE.o .libs/libta_lib.lax/libta_func.a/ta_CDLLONGLINE.o .libs/libta_lib.lax/libta_func.a/ta_LINEARREG.o .libs/libta_lib.lax/libta_func.a/ta_CDLKICKING.o .libs/libta_lib.lax/libta_func.a/ta_CDLCONCEALBABYSWALL.o .libs/libta_lib.lax/libta_func.a/ta_STOCHRSI.o .libs/libta_lib.lax/libta_func.a/ta_CDLTRISTAR.o .libs/libta_lib.lax/libta_func.a/ta_PPO.o .libs/libta_lib.lax/libta_func.a/ta_WILLR.o .libs/libta_lib.lax/libta_func.a/ta_MIDPOINT.o .libs/libta_lib.lax/libta_func.a/ta_CDLDRAGONFLYDOJI.o .libs/libta_lib.lax/libta_func.a/ta_BETA.o .libs/libta_lib.lax/libta_func.a/ta_ASIN.o .libs/libta_lib.lax/libta_func.a/ta_STOCH.o .libs/libta_lib.lax/libta_func.a/ta_AD.o .libs/libta_lib.lax/libta_func.a/ta_ADD.o .libs/libta_lib.lax/libta_func.a/ta_CDLENGULFING.o .libs/libta_lib.lax/libta_func.a/ta_CDL2CROWS.o .libs/libta_lib.lax/libta_func.a/ta_CDLIDENTICAL3CROWS.o .libs/libta_lib.lax/libta_func.a/ta_ADOSC.o .libs/libta_lib.lax/libta_func.a/ta_CDL3LINESTRIKE.o .libs/libta_lib.lax/libta_func.a/ta_MULT.o .libs/libta_lib.lax/libta_func.a/ta_AVGPRICE.o .libs/libta_lib.lax/libta_func.a/ta_CDLHOMINGPIGEON.o .libs/libta_lib.lax/libta_func.a/ta_HT_TRENDMODE.o .libs/libta_lib.lax/libta_func.a/ta_CDLUNIQUE3RIVER.o .libs/libta_lib.lax/libta_func.a/ta_DIV.o .libs/libta_lib.lax/libta_func.a/ta_EMA.o .libs/libta_lib.lax/libta_func.a/ta_AROONOSC.o .libs/libta_lib.lax/libta_func.a/ta_CDL3WHITESOLDIERS.o .libs/libta_lib.lax/libta_func.a/ta_HT_DCPERIOD.o .libs/libta_lib.lax/libta_func.a/ta_MINMAX.o .libs/libta_lib.lax/libta_func.a/ta_TSF.o .libs/libta_lib.lax/libta_func.a/ta_NATR.o .libs/libta_lib.lax/libta_func.a/ta_AROON.o .libs/libta_lib.lax/libta_func.a/ta_ROCR.o .libs/libta_lib.lax/libta_func.a/ta_LINEARREG_INTERCEPT.o .libs/libta_lib.lax/libta_func.a/ta_CDLRISEFALL3METHODS.o .libs/libta_lib.lax/libta_func.a/ta_CDLSHORTLINE.o .libs/libta_lib.lax/libta_func.a/ta_CDLLADDERBOTTOM.o  .libs/libta_lib.lax/libta_common.a/ta_version.o .libs/libta_lib.lax/libta_common.a/ta_global.o .libs/libta_lib.lax/libta_common.a/ta_retcode.o \n",
            "ar: `u' modifier ignored since `D' is the default (see `U')\n",
            "ranlib .libs/libta_lib.a\n",
            "rm -fr .libs/libta_lib.lax\n",
            "creating libta_lib.la\n",
            "(cd .libs && rm -f libta_lib.la && ln -s ../libta_lib.la libta_lib.la)\n",
            "make[2]: Leaving directory '/content/ta-lib/src'\n",
            "make[1]: Leaving directory '/content/ta-lib/src'\n",
            "Making all in src/tools\n",
            "make[1]: Entering directory '/content/ta-lib/src/tools'\n",
            "Making all in gen_code\n",
            "make[2]: Entering directory '/content/ta-lib/src/tools/gen_code'\n",
            "gcc -DHAVE_CONFIG_H -I. -I../../../include  -I../../ta_common   -g -O2 -MT gen_code-gen_code.o -MD -MP -MF .deps/gen_code-gen_code.Tpo -c -o gen_code-gen_code.o `test -f 'gen_code.c' || echo './'`gen_code.c\n",
            "\u001b[01m\u001b[Kgen_code.c:\u001b[m\u001b[K In function ‘\u001b[01m\u001b[KprintFuncHeaderDoc\u001b[m\u001b[K’:\n",
            "\u001b[01m\u001b[Kgen_code.c:3456:4:\u001b[m\u001b[K \u001b[01;35m\u001b[Kwarning: \u001b[m\u001b[Kformat not a string literal and no format arguments [\u001b[01;35m\u001b[K-Wformat-security\u001b[m\u001b[K]\n",
            "    \u001b[01;35m\u001b[Kfprintf\u001b[m\u001b[K( out, prefix );\n",
            "    \u001b[01;35m\u001b[K^~~~~~~\u001b[m\u001b[K\n",
            "mv -f .deps/gen_code-gen_code.Tpo .deps/gen_code-gen_code.Po\n",
            "/bin/bash ../../../libtool --tag=CC   --mode=link gcc  -g -O2 -L../../ta_common -L../../ta_abstract -L../../ta_func  -o gen_code gen_code-gen_code.o -lta_common -lta_abstract_gc -lta_func -lm -lpthread -ldl \n",
            "mkdir .libs\n",
            "gcc -g -O2 -o gen_code gen_code-gen_code.o  -L/content/ta-lib/src/ta_common -L/content/ta-lib/src/ta_abstract -L/content/ta-lib/src/ta_func /content/ta-lib/src/ta_common/.libs/libta_common.a /content/ta-lib/src/ta_abstract/.libs/libta_abstract_gc.a /content/ta-lib/src/ta_func/.libs/libta_func.a -lm -lpthread -ldl\n",
            "make  gen_code\n",
            "make[3]: Entering directory '/content/ta-lib/src/tools/gen_code'\n",
            "make[3]: 'gen_code' is up to date.\n",
            "make[3]: Leaving directory '/content/ta-lib/src/tools/gen_code'\n",
            "cp gen_code ../../../bin\n",
            "make[2]: Leaving directory '/content/ta-lib/src/tools/gen_code'\n",
            "Making all in ta_regtest\n",
            "make[2]: Entering directory '/content/ta-lib/src/tools/ta_regtest'\n",
            "gcc -DHAVE_CONFIG_H -I. -I../../../include  -I../../ta_func -I../../ta_common/trio -I../../ta_common/mt -I../../ta_common -I../../ta_abstract   -g -O2 -MT ta_regtest-ta_regtest.o -MD -MP -MF .deps/ta_regtest-ta_regtest.Tpo -c -o ta_regtest-ta_regtest.o `test -f 'ta_regtest.c' || echo './'`ta_regtest.c\n",
            "mv -f .deps/ta_regtest-ta_regtest.Tpo .deps/ta_regtest-ta_regtest.Po\n",
            "gcc -DHAVE_CONFIG_H -I. -I../../../include  -I../../ta_func -I../../ta_common/trio -I../../ta_common/mt -I../../ta_common -I../../ta_abstract   -g -O2 -MT ta_regtest-test_data.o -MD -MP -MF .deps/ta_regtest-test_data.Tpo -c -o ta_regtest-test_data.o `test -f 'test_data.c' || echo './'`test_data.c\n",
            "mv -f .deps/ta_regtest-test_data.Tpo .deps/ta_regtest-test_data.Po\n",
            "gcc -DHAVE_CONFIG_H -I. -I../../../include  -I../../ta_func -I../../ta_common/trio -I../../ta_common/mt -I../../ta_common -I../../ta_abstract   -g -O2 -MT ta_regtest-test_util.o -MD -MP -MF .deps/ta_regtest-test_util.Tpo -c -o ta_regtest-test_util.o `test -f 'test_util.c' || echo './'`test_util.c\n",
            "mv -f .deps/ta_regtest-test_util.Tpo .deps/ta_regtest-test_util.Po\n",
            "gcc -DHAVE_CONFIG_H -I. -I../../../include  -I../../ta_func -I../../ta_common/trio -I../../ta_common/mt -I../../ta_common -I../../ta_abstract   -g -O2 -MT ta_regtest-test_abstract.o -MD -MP -MF .deps/ta_regtest-test_abstract.Tpo -c -o ta_regtest-test_abstract.o `test -f 'test_abstract.c' || echo './'`test_abstract.c\n",
            "mv -f .deps/ta_regtest-test_abstract.Tpo .deps/ta_regtest-test_abstract.Po\n",
            "gcc -DHAVE_CONFIG_H -I. -I../../../include  -I../../ta_func -I../../ta_common/trio -I../../ta_common/mt -I../../ta_common -I../../ta_abstract   -g -O2 -MT ta_regtest-test_adx.o -MD -MP -MF .deps/ta_regtest-test_adx.Tpo -c -o ta_regtest-test_adx.o `test -f 'ta_test_func/test_adx.c' || echo './'`ta_test_func/test_adx.c\n",
            "mv -f .deps/ta_regtest-test_adx.Tpo .deps/ta_regtest-test_adx.Po\n",
            "gcc -DHAVE_CONFIG_H -I. -I../../../include  -I../../ta_func -I../../ta_common/trio -I../../ta_common/mt -I../../ta_common -I../../ta_abstract   -g -O2 -MT ta_regtest-test_mom.o -MD -MP -MF .deps/ta_regtest-test_mom.Tpo -c -o ta_regtest-test_mom.o `test -f 'ta_test_func/test_mom.c' || echo './'`ta_test_func/test_mom.c\n",
            "mv -f .deps/ta_regtest-test_mom.Tpo .deps/ta_regtest-test_mom.Po\n",
            "gcc -DHAVE_CONFIG_H -I. -I../../../include  -I../../ta_func -I../../ta_common/trio -I../../ta_common/mt -I../../ta_common -I../../ta_abstract   -g -O2 -MT ta_regtest-test_sar.o -MD -MP -MF .deps/ta_regtest-test_sar.Tpo -c -o ta_regtest-test_sar.o `test -f 'ta_test_func/test_sar.c' || echo './'`ta_test_func/test_sar.c\n",
            "mv -f .deps/ta_regtest-test_sar.Tpo .deps/ta_regtest-test_sar.Po\n",
            "gcc -DHAVE_CONFIG_H -I. -I../../../include  -I../../ta_func -I../../ta_common/trio -I../../ta_common/mt -I../../ta_common -I../../ta_abstract   -g -O2 -MT ta_regtest-test_rsi.o -MD -MP -MF .deps/ta_regtest-test_rsi.Tpo -c -o ta_regtest-test_rsi.o `test -f 'ta_test_func/test_rsi.c' || echo './'`ta_test_func/test_rsi.c\n",
            "mv -f .deps/ta_regtest-test_rsi.Tpo .deps/ta_regtest-test_rsi.Po\n",
            "gcc -DHAVE_CONFIG_H -I. -I../../../include  -I../../ta_func -I../../ta_common/trio -I../../ta_common/mt -I../../ta_common -I../../ta_abstract   -g -O2 -MT ta_regtest-test_candlestick.o -MD -MP -MF .deps/ta_regtest-test_candlestick.Tpo -c -o ta_regtest-test_candlestick.o `test -f 'ta_test_func/test_candlestick.c' || echo './'`ta_test_func/test_candlestick.c\n",
            "mv -f .deps/ta_regtest-test_candlestick.Tpo .deps/ta_regtest-test_candlestick.Po\n",
            "gcc -DHAVE_CONFIG_H -I. -I../../../include  -I../../ta_func -I../../ta_common/trio -I../../ta_common/mt -I../../ta_common -I../../ta_abstract   -g -O2 -MT ta_regtest-test_per_ema.o -MD -MP -MF .deps/ta_regtest-test_per_ema.Tpo -c -o ta_regtest-test_per_ema.o `test -f 'ta_test_func/test_per_ema.c' || echo './'`ta_test_func/test_per_ema.c\n",
            "mv -f .deps/ta_regtest-test_per_ema.Tpo .deps/ta_regtest-test_per_ema.Po\n",
            "gcc -DHAVE_CONFIG_H -I. -I../../../include  -I../../ta_func -I../../ta_common/trio -I../../ta_common/mt -I../../ta_common -I../../ta_abstract   -g -O2 -MT ta_regtest-test_per_hlc.o -MD -MP -MF .deps/ta_regtest-test_per_hlc.Tpo -c -o ta_regtest-test_per_hlc.o `test -f 'ta_test_func/test_per_hlc.c' || echo './'`ta_test_func/test_per_hlc.c\n",
            "mv -f .deps/ta_regtest-test_per_hlc.Tpo .deps/ta_regtest-test_per_hlc.Po\n",
            "gcc -DHAVE_CONFIG_H -I. -I../../../include  -I../../ta_func -I../../ta_common/trio -I../../ta_common/mt -I../../ta_common -I../../ta_abstract   -g -O2 -MT ta_regtest-test_stoch.o -MD -MP -MF .deps/ta_regtest-test_stoch.Tpo -c -o ta_regtest-test_stoch.o `test -f 'ta_test_func/test_stoch.c' || echo './'`ta_test_func/test_stoch.c\n",
            "mv -f .deps/ta_regtest-test_stoch.Tpo .deps/ta_regtest-test_stoch.Po\n",
            "gcc -DHAVE_CONFIG_H -I. -I../../../include  -I../../ta_func -I../../ta_common/trio -I../../ta_common/mt -I../../ta_common -I../../ta_abstract   -g -O2 -MT ta_regtest-test_macd.o -MD -MP -MF .deps/ta_regtest-test_macd.Tpo -c -o ta_regtest-test_macd.o `test -f 'ta_test_func/test_macd.c' || echo './'`ta_test_func/test_macd.c\n",
            "mv -f .deps/ta_regtest-test_macd.Tpo .deps/ta_regtest-test_macd.Po\n",
            "gcc -DHAVE_CONFIG_H -I. -I../../../include  -I../../ta_func -I../../ta_common/trio -I../../ta_common/mt -I../../ta_common -I../../ta_abstract   -g -O2 -MT ta_regtest-test_minmax.o -MD -MP -MF .deps/ta_regtest-test_minmax.Tpo -c -o ta_regtest-test_minmax.o `test -f 'ta_test_func/test_minmax.c' || echo './'`ta_test_func/test_minmax.c\n",
            "mv -f .deps/ta_regtest-test_minmax.Tpo .deps/ta_regtest-test_minmax.Po\n",
            "gcc -DHAVE_CONFIG_H -I. -I../../../include  -I../../ta_func -I../../ta_common/trio -I../../ta_common/mt -I../../ta_common -I../../ta_abstract   -g -O2 -MT ta_regtest-test_per_hlcv.o -MD -MP -MF .deps/ta_regtest-test_per_hlcv.Tpo -c -o ta_regtest-test_per_hlcv.o `test -f 'ta_test_func/test_per_hlcv.c' || echo './'`ta_test_func/test_per_hlcv.c\n",
            "mv -f .deps/ta_regtest-test_per_hlcv.Tpo .deps/ta_regtest-test_per_hlcv.Po\n",
            "gcc -DHAVE_CONFIG_H -I. -I../../../include  -I../../ta_func -I../../ta_common/trio -I../../ta_common/mt -I../../ta_common -I../../ta_abstract   -g -O2 -MT ta_regtest-test_1in_1out.o -MD -MP -MF .deps/ta_regtest-test_1in_1out.Tpo -c -o ta_regtest-test_1in_1out.o `test -f 'ta_test_func/test_1in_1out.c' || echo './'`ta_test_func/test_1in_1out.c\n",
            "mv -f .deps/ta_regtest-test_1in_1out.Tpo .deps/ta_regtest-test_1in_1out.Po\n",
            "gcc -DHAVE_CONFIG_H -I. -I../../../include  -I../../ta_func -I../../ta_common/trio -I../../ta_common/mt -I../../ta_common -I../../ta_abstract   -g -O2 -MT ta_regtest-test_1in_2out.o -MD -MP -MF .deps/ta_regtest-test_1in_2out.Tpo -c -o ta_regtest-test_1in_2out.o `test -f 'ta_test_func/test_1in_2out.c' || echo './'`ta_test_func/test_1in_2out.c\n",
            "mv -f .deps/ta_regtest-test_1in_2out.Tpo .deps/ta_regtest-test_1in_2out.Po\n",
            "gcc -DHAVE_CONFIG_H -I. -I../../../include  -I../../ta_func -I../../ta_common/trio -I../../ta_common/mt -I../../ta_common -I../../ta_abstract   -g -O2 -MT ta_regtest-test_per_ohlc.o -MD -MP -MF .deps/ta_regtest-test_per_ohlc.Tpo -c -o ta_regtest-test_per_ohlc.o `test -f 'ta_test_func/test_per_ohlc.c' || echo './'`ta_test_func/test_per_ohlc.c\n",
            "mv -f .deps/ta_regtest-test_per_ohlc.Tpo .deps/ta_regtest-test_per_ohlc.Po\n",
            "gcc -DHAVE_CONFIG_H -I. -I../../../include  -I../../ta_func -I../../ta_common/trio -I../../ta_common/mt -I../../ta_common -I../../ta_abstract   -g -O2 -MT ta_regtest-test_stddev.o -MD -MP -MF .deps/ta_regtest-test_stddev.Tpo -c -o ta_regtest-test_stddev.o `test -f 'ta_test_func/test_stddev.c' || echo './'`ta_test_func/test_stddev.c\n",
            "mv -f .deps/ta_regtest-test_stddev.Tpo .deps/ta_regtest-test_stddev.Po\n",
            "gcc -DHAVE_CONFIG_H -I. -I../../../include  -I../../ta_func -I../../ta_common/trio -I../../ta_common/mt -I../../ta_common -I../../ta_abstract   -g -O2 -MT ta_regtest-test_bbands.o -MD -MP -MF .deps/ta_regtest-test_bbands.Tpo -c -o ta_regtest-test_bbands.o `test -f 'ta_test_func/test_bbands.c' || echo './'`ta_test_func/test_bbands.c\n",
            "mv -f .deps/ta_regtest-test_bbands.Tpo .deps/ta_regtest-test_bbands.Po\n",
            "gcc -DHAVE_CONFIG_H -I. -I../../../include  -I../../ta_func -I../../ta_common/trio -I../../ta_common/mt -I../../ta_common -I../../ta_abstract   -g -O2 -MT ta_regtest-test_ma.o -MD -MP -MF .deps/ta_regtest-test_ma.Tpo -c -o ta_regtest-test_ma.o `test -f 'ta_test_func/test_ma.c' || echo './'`ta_test_func/test_ma.c\n",
            "mv -f .deps/ta_regtest-test_ma.Tpo .deps/ta_regtest-test_ma.Po\n",
            "gcc -DHAVE_CONFIG_H -I. -I../../../include  -I../../ta_func -I../../ta_common/trio -I../../ta_common/mt -I../../ta_common -I../../ta_abstract   -g -O2 -MT ta_regtest-test_po.o -MD -MP -MF .deps/ta_regtest-test_po.Tpo -c -o ta_regtest-test_po.o `test -f 'ta_test_func/test_po.c' || echo './'`ta_test_func/test_po.c\n",
            "mv -f .deps/ta_regtest-test_po.Tpo .deps/ta_regtest-test_po.Po\n",
            "gcc -DHAVE_CONFIG_H -I. -I../../../include  -I../../ta_func -I../../ta_common/trio -I../../ta_common/mt -I../../ta_common -I../../ta_abstract   -g -O2 -MT ta_regtest-test_per_hl.o -MD -MP -MF .deps/ta_regtest-test_per_hl.Tpo -c -o ta_regtest-test_per_hl.o `test -f 'ta_test_func/test_per_hl.c' || echo './'`ta_test_func/test_per_hl.c\n",
            "mv -f .deps/ta_regtest-test_per_hl.Tpo .deps/ta_regtest-test_per_hl.Po\n",
            "gcc -DHAVE_CONFIG_H -I. -I../../../include  -I../../ta_func -I../../ta_common/trio -I../../ta_common/mt -I../../ta_common -I../../ta_abstract   -g -O2 -MT ta_regtest-test_trange.o -MD -MP -MF .deps/ta_regtest-test_trange.Tpo -c -o ta_regtest-test_trange.o `test -f 'ta_test_func/test_trange.c' || echo './'`ta_test_func/test_trange.c\n",
            "mv -f .deps/ta_regtest-test_trange.Tpo .deps/ta_regtest-test_trange.Po\n",
            "gcc -DHAVE_CONFIG_H -I. -I../../../include  -I../../ta_func -I../../ta_common/trio -I../../ta_common/mt -I../../ta_common -I../../ta_abstract   -g -O2 -MT ta_regtest-test_internals.o -MD -MP -MF .deps/ta_regtest-test_internals.Tpo -c -o ta_regtest-test_internals.o `test -f 'test_internals.c' || echo './'`test_internals.c\n",
            "mv -f .deps/ta_regtest-test_internals.Tpo .deps/ta_regtest-test_internals.Po\n",
            "/bin/bash ../../../libtool --tag=CC   --mode=link gcc  -g -O2 -L../.. -lta_lib -lm  -o ta_regtest ta_regtest-ta_regtest.o ta_regtest-test_data.o ta_regtest-test_util.o ta_regtest-test_abstract.o ta_regtest-test_adx.o ta_regtest-test_mom.o ta_regtest-test_sar.o ta_regtest-test_rsi.o ta_regtest-test_candlestick.o ta_regtest-test_per_ema.o ta_regtest-test_per_hlc.o ta_regtest-test_stoch.o ta_regtest-test_macd.o ta_regtest-test_minmax.o ta_regtest-test_per_hlcv.o ta_regtest-test_1in_1out.o ta_regtest-test_1in_2out.o ta_regtest-test_per_ohlc.o ta_regtest-test_stddev.o ta_regtest-test_bbands.o ta_regtest-test_ma.o ta_regtest-test_po.o ta_regtest-test_per_hl.o ta_regtest-test_trange.o ta_regtest-test_internals.o  -lpthread -ldl \n",
            "mkdir .libs\n",
            "gcc -g -O2 -o .libs/ta_regtest ta_regtest-ta_regtest.o ta_regtest-test_data.o ta_regtest-test_util.o ta_regtest-test_abstract.o ta_regtest-test_adx.o ta_regtest-test_mom.o ta_regtest-test_sar.o ta_regtest-test_rsi.o ta_regtest-test_candlestick.o ta_regtest-test_per_ema.o ta_regtest-test_per_hlc.o ta_regtest-test_stoch.o ta_regtest-test_macd.o ta_regtest-test_minmax.o ta_regtest-test_per_hlcv.o ta_regtest-test_1in_1out.o ta_regtest-test_1in_2out.o ta_regtest-test_per_ohlc.o ta_regtest-test_stddev.o ta_regtest-test_bbands.o ta_regtest-test_ma.o ta_regtest-test_po.o ta_regtest-test_per_hl.o ta_regtest-test_trange.o ta_regtest-test_internals.o  -L/content/ta-lib/src /content/ta-lib/src/.libs/libta_lib.so -lm -lpthread -ldl\n",
            "creating ta_regtest\n",
            "make[2]: Leaving directory '/content/ta-lib/src/tools/ta_regtest'\n",
            "make[2]: Entering directory '/content/ta-lib/src/tools'\n",
            "make[2]: Nothing to be done for 'all-am'.\n",
            "make[2]: Leaving directory '/content/ta-lib/src/tools'\n",
            "make[1]: Leaving directory '/content/ta-lib/src/tools'\n",
            "make[1]: Entering directory '/content/ta-lib'\n",
            "make[1]: Nothing to be done for 'all-am'.\n",
            "make[1]: Leaving directory '/content/ta-lib'\n"
          ],
          "name": "stdout"
        }
      ]
    },
    {
      "cell_type": "code",
      "metadata": {
        "id": "uFg28B3K6CZU",
        "colab_type": "code",
        "colab": {
          "base_uri": "https://localhost:8080/",
          "height": 1000
        },
        "outputId": "e6aa80b0-f4d7-4aa6-d3bb-4666f9e55aa7"
      },
      "source": [
        "!make install"
      ],
      "execution_count": 11,
      "outputs": [
        {
          "output_type": "stream",
          "text": [
            "Making install in src\n",
            "make[1]: Entering directory '/content/ta-lib/src'\n",
            "Making install in ta_abstract\n",
            "make[2]: Entering directory '/content/ta-lib/src/ta_abstract'\n",
            "make[3]: Entering directory '/content/ta-lib/src/ta_abstract'\n",
            "make[3]: Nothing to be done for 'install-exec-am'.\n",
            "test -z \"/usr/include/ta-lib/\" || /bin/mkdir -p \"/usr/include/ta-lib/\"\n",
            " /usr/bin/install -c -m 644 '../../include/ta_defs.h' '/usr/include/ta-lib//ta_defs.h'\n",
            " /usr/bin/install -c -m 644 '../../include/ta_libc.h' '/usr/include/ta-lib//ta_libc.h'\n",
            " /usr/bin/install -c -m 644 '../../include/ta_abstract.h' '/usr/include/ta-lib//ta_abstract.h'\n",
            "make[3]: Leaving directory '/content/ta-lib/src/ta_abstract'\n",
            "make[2]: Leaving directory '/content/ta-lib/src/ta_abstract'\n",
            "Making install in ta_common\n",
            "make[2]: Entering directory '/content/ta-lib/src/ta_common'\n",
            "make[3]: Entering directory '/content/ta-lib/src/ta_common'\n",
            "make[3]: Nothing to be done for 'install-exec-am'.\n",
            "test -z \"/usr/include/ta-lib/\" || /bin/mkdir -p \"/usr/include/ta-lib/\"\n",
            " /usr/bin/install -c -m 644 '../../include/ta_defs.h' '/usr/include/ta-lib//ta_defs.h'\n",
            " /usr/bin/install -c -m 644 '../../include/ta_libc.h' '/usr/include/ta-lib//ta_libc.h'\n",
            " /usr/bin/install -c -m 644 '../../include/ta_common.h' '/usr/include/ta-lib//ta_common.h'\n",
            "make[3]: Leaving directory '/content/ta-lib/src/ta_common'\n",
            "make[2]: Leaving directory '/content/ta-lib/src/ta_common'\n",
            "Making install in ta_func\n",
            "make[2]: Entering directory '/content/ta-lib/src/ta_func'\n",
            "make[3]: Entering directory '/content/ta-lib/src/ta_func'\n",
            "make[3]: Nothing to be done for 'install-exec-am'.\n",
            "test -z \"/usr/include/ta-lib/\" || /bin/mkdir -p \"/usr/include/ta-lib/\"\n",
            " /usr/bin/install -c -m 644 '../../include/ta_defs.h' '/usr/include/ta-lib//ta_defs.h'\n",
            " /usr/bin/install -c -m 644 '../../include/ta_libc.h' '/usr/include/ta-lib//ta_libc.h'\n",
            " /usr/bin/install -c -m 644 '../../include/ta_func.h' '/usr/include/ta-lib//ta_func.h'\n",
            "make[3]: Leaving directory '/content/ta-lib/src/ta_func'\n",
            "make[2]: Leaving directory '/content/ta-lib/src/ta_func'\n",
            "make[2]: Entering directory '/content/ta-lib/src'\n",
            "make[3]: Entering directory '/content/ta-lib/src'\n",
            "test -z \"/usr/lib\" || /bin/mkdir -p \"/usr/lib\"\n",
            " /bin/bash ../libtool --mode=install /usr/bin/install -c  'libta_lib.la' '/usr/lib/libta_lib.la'\n",
            "/usr/bin/install -c .libs/libta_lib.so.0.0.0 /usr/lib/libta_lib.so.0.0.0\n",
            "(cd /usr/lib && { ln -s -f libta_lib.so.0.0.0 libta_lib.so.0 || { rm -f libta_lib.so.0 && ln -s libta_lib.so.0.0.0 libta_lib.so.0; }; })\n",
            "(cd /usr/lib && { ln -s -f libta_lib.so.0.0.0 libta_lib.so || { rm -f libta_lib.so && ln -s libta_lib.so.0.0.0 libta_lib.so; }; })\n",
            "/usr/bin/install -c .libs/libta_lib.lai /usr/lib/libta_lib.la\n",
            "/usr/bin/install -c .libs/libta_lib.a /usr/lib/libta_lib.a\n",
            "chmod 644 /usr/lib/libta_lib.a\n",
            "ranlib /usr/lib/libta_lib.a\n",
            "PATH=\"$PATH:/sbin\" ldconfig -n /usr/lib\n",
            "----------------------------------------------------------------------\n",
            "Libraries have been installed in:\n",
            "   /usr/lib\n",
            "\n",
            "If you ever happen to want to link against installed libraries\n",
            "in a given directory, LIBDIR, you must either use libtool, and\n",
            "specify the full pathname of the library, or use the `-LLIBDIR'\n",
            "flag during linking and do at least one of the following:\n",
            "   - add LIBDIR to the `LD_LIBRARY_PATH' environment variable\n",
            "     during execution\n",
            "   - add LIBDIR to the `LD_RUN_PATH' environment variable\n",
            "     during linking\n",
            "   - use the `-Wl,--rpath -Wl,LIBDIR' linker flag\n",
            "   - have your system administrator add LIBDIR to `/etc/ld.so.conf'\n",
            "\n",
            "See any operating system documentation about shared libraries for\n",
            "more information, such as the ld(1) and ld.so(8) manual pages.\n",
            "----------------------------------------------------------------------\n",
            "make[3]: Nothing to be done for 'install-data-am'.\n",
            "make[3]: Leaving directory '/content/ta-lib/src'\n",
            "make[2]: Leaving directory '/content/ta-lib/src'\n",
            "make[1]: Leaving directory '/content/ta-lib/src'\n",
            "Making install in src/tools\n",
            "make[1]: Entering directory '/content/ta-lib/src/tools'\n",
            "Making install in gen_code\n",
            "make[2]: Entering directory '/content/ta-lib/src/tools/gen_code'\n",
            "make  gen_code\n",
            "make[3]: Entering directory '/content/ta-lib/src/tools/gen_code'\n",
            "make[3]: 'gen_code' is up to date.\n",
            "make[3]: Leaving directory '/content/ta-lib/src/tools/gen_code'\n",
            "cp gen_code ../../../bin\n",
            "make[3]: Entering directory '/content/ta-lib/src/tools/gen_code'\n",
            "make[3]: Nothing to be done for 'install-exec-am'.\n",
            "make[3]: Nothing to be done for 'install-data-am'.\n",
            "make[3]: Leaving directory '/content/ta-lib/src/tools/gen_code'\n",
            "make[2]: Leaving directory '/content/ta-lib/src/tools/gen_code'\n",
            "Making install in ta_regtest\n",
            "make[2]: Entering directory '/content/ta-lib/src/tools/ta_regtest'\n",
            "make[3]: Entering directory '/content/ta-lib/src/tools/ta_regtest'\n",
            "make[3]: Nothing to be done for 'install-exec-am'.\n",
            "make[3]: Nothing to be done for 'install-data-am'.\n",
            "make[3]: Leaving directory '/content/ta-lib/src/tools/ta_regtest'\n",
            "make[2]: Leaving directory '/content/ta-lib/src/tools/ta_regtest'\n",
            "make[2]: Entering directory '/content/ta-lib/src/tools'\n",
            "make[3]: Entering directory '/content/ta-lib/src/tools'\n",
            "make[3]: Nothing to be done for 'install-exec-am'.\n",
            "make[3]: Nothing to be done for 'install-data-am'.\n",
            "make[3]: Leaving directory '/content/ta-lib/src/tools'\n",
            "make[2]: Leaving directory '/content/ta-lib/src/tools'\n",
            "make[1]: Leaving directory '/content/ta-lib/src/tools'\n",
            "make[1]: Entering directory '/content/ta-lib'\n",
            "make[2]: Entering directory '/content/ta-lib'\n",
            "test -z \"/usr/bin\" || /bin/mkdir -p \"/usr/bin\"\n",
            " /usr/bin/install -c 'ta-lib-config' '/usr/bin/ta-lib-config'\n",
            "make[2]: Nothing to be done for 'install-data-am'.\n",
            "make[2]: Leaving directory '/content/ta-lib'\n",
            "make[1]: Leaving directory '/content/ta-lib'\n"
          ],
          "name": "stdout"
        }
      ]
    },
    {
      "cell_type": "code",
      "metadata": {
        "id": "_R2utsYE6Kfb",
        "colab_type": "code",
        "outputId": "549f45a7-5f5e-4120-dfff-dcf754fd1eef",
        "colab": {
          "base_uri": "https://localhost:8080/",
          "height": 35
        }
      },
      "source": [
        "os.chdir('..')\n",
        "!ls"
      ],
      "execution_count": 12,
      "outputs": [
        {
          "output_type": "stream",
          "text": [
            "drive  sample_data  ta-lib  ta-lib-0.4.0-src.tar.gz\n"
          ],
          "name": "stdout"
        }
      ]
    },
    {
      "cell_type": "code",
      "metadata": {
        "id": "q9UJCLxj6PCu",
        "colab_type": "code",
        "colab": {
          "base_uri": "https://localhost:8080/",
          "height": 227
        },
        "outputId": "a26964f2-53de-4518-f96d-49d3bd78bd90"
      },
      "source": [
        "!pip install TA-Lib"
      ],
      "execution_count": 13,
      "outputs": [
        {
          "output_type": "stream",
          "text": [
            "Collecting TA-Lib\n",
            "\u001b[?25l  Downloading https://files.pythonhosted.org/packages/90/05/d4c6a778d7a7de0be366bc4a850b4ffaeac2abad927f95fa8ba6f355a082/TA-Lib-0.4.17.tar.gz (717kB)\n",
            "\r\u001b[K     |▌                               | 10kB 15.4MB/s eta 0:00:01\r\u001b[K     |█                               | 20kB 4.3MB/s eta 0:00:01\r\u001b[K     |█▍                              | 30kB 6.2MB/s eta 0:00:01\r\u001b[K     |█▉                              | 40kB 4.1MB/s eta 0:00:01\r\u001b[K     |██▎                             | 51kB 5.0MB/s eta 0:00:01\r\u001b[K     |██▊                             | 61kB 5.9MB/s eta 0:00:01\r\u001b[K     |███▏                            | 71kB 6.7MB/s eta 0:00:01\r\u001b[K     |███▋                            | 81kB 7.5MB/s eta 0:00:01\r\u001b[K     |████                            | 92kB 8.3MB/s eta 0:00:01\r\u001b[K     |████▋                           | 102kB 6.6MB/s eta 0:00:01\r\u001b[K     |█████                           | 112kB 6.6MB/s eta 0:00:01\r\u001b[K     |█████▌                          | 122kB 6.6MB/s eta 0:00:01\r\u001b[K     |██████                          | 133kB 6.6MB/s eta 0:00:01\r\u001b[K     |██████▍                         | 143kB 6.6MB/s eta 0:00:01\r\u001b[K     |██████▉                         | 153kB 6.6MB/s eta 0:00:01\r\u001b[K     |███████▎                        | 163kB 6.6MB/s eta 0:00:01\r\u001b[K     |███████▊                        | 174kB 6.6MB/s eta 0:00:01\r\u001b[K     |████████▏                       | 184kB 6.6MB/s eta 0:00:01\r\u001b[K     |████████▊                       | 194kB 6.6MB/s eta 0:00:01\r\u001b[K     |█████████▏                      | 204kB 6.6MB/s eta 0:00:01\r\u001b[K     |█████████▋                      | 215kB 6.6MB/s eta 0:00:01\r\u001b[K     |██████████                      | 225kB 6.6MB/s eta 0:00:01\r\u001b[K     |██████████▌                     | 235kB 6.6MB/s eta 0:00:01\r\u001b[K     |███████████                     | 245kB 6.6MB/s eta 0:00:01\r\u001b[K     |███████████▍                    | 256kB 6.6MB/s eta 0:00:01\r\u001b[K     |███████████▉                    | 266kB 6.6MB/s eta 0:00:01\r\u001b[K     |████████████▎                   | 276kB 6.6MB/s eta 0:00:01\r\u001b[K     |████████████▉                   | 286kB 6.6MB/s eta 0:00:01\r\u001b[K     |█████████████▎                  | 296kB 6.6MB/s eta 0:00:01\r\u001b[K     |█████████████▊                  | 307kB 6.6MB/s eta 0:00:01\r\u001b[K     |██████████████▏                 | 317kB 6.6MB/s eta 0:00:01\r\u001b[K     |██████████████▋                 | 327kB 6.6MB/s eta 0:00:01\r\u001b[K     |███████████████                 | 337kB 6.6MB/s eta 0:00:01\r\u001b[K     |███████████████▌                | 348kB 6.6MB/s eta 0:00:01\r\u001b[K     |████████████████                | 358kB 6.6MB/s eta 0:00:01\r\u001b[K     |████████████████▍               | 368kB 6.6MB/s eta 0:00:01\r\u001b[K     |█████████████████               | 378kB 6.6MB/s eta 0:00:01\r\u001b[K     |█████████████████▍              | 389kB 6.6MB/s eta 0:00:01\r\u001b[K     |█████████████████▉              | 399kB 6.6MB/s eta 0:00:01\r\u001b[K     |██████████████████▎             | 409kB 6.6MB/s eta 0:00:01\r\u001b[K     |██████████████████▊             | 419kB 6.6MB/s eta 0:00:01\r\u001b[K     |███████████████████▏            | 430kB 6.6MB/s eta 0:00:01\r\u001b[K     |███████████████████▋            | 440kB 6.6MB/s eta 0:00:01\r\u001b[K     |████████████████████            | 450kB 6.6MB/s eta 0:00:01\r\u001b[K     |████████████████████▌           | 460kB 6.6MB/s eta 0:00:01\r\u001b[K     |█████████████████████           | 471kB 6.6MB/s eta 0:00:01\r\u001b[K     |█████████████████████▌          | 481kB 6.6MB/s eta 0:00:01\r\u001b[K     |██████████████████████          | 491kB 6.6MB/s eta 0:00:01\r\u001b[K     |██████████████████████▍         | 501kB 6.6MB/s eta 0:00:01\r\u001b[K     |██████████████████████▉         | 512kB 6.6MB/s eta 0:00:01\r\u001b[K     |███████████████████████▎        | 522kB 6.6MB/s eta 0:00:01\r\u001b[K     |███████████████████████▊        | 532kB 6.6MB/s eta 0:00:01\r\u001b[K     |████████████████████████▏       | 542kB 6.6MB/s eta 0:00:01\r\u001b[K     |████████████████████████▋       | 552kB 6.6MB/s eta 0:00:01\r\u001b[K     |█████████████████████████       | 563kB 6.6MB/s eta 0:00:01\r\u001b[K     |█████████████████████████▋      | 573kB 6.6MB/s eta 0:00:01\r\u001b[K     |██████████████████████████      | 583kB 6.6MB/s eta 0:00:01\r\u001b[K     |██████████████████████████▌     | 593kB 6.6MB/s eta 0:00:01\r\u001b[K     |███████████████████████████     | 604kB 6.6MB/s eta 0:00:01\r\u001b[K     |███████████████████████████▍    | 614kB 6.6MB/s eta 0:00:01\r\u001b[K     |███████████████████████████▉    | 624kB 6.6MB/s eta 0:00:01\r\u001b[K     |████████████████████████████▎   | 634kB 6.6MB/s eta 0:00:01\r\u001b[K     |████████████████████████████▊   | 645kB 6.6MB/s eta 0:00:01\r\u001b[K     |█████████████████████████████▏  | 655kB 6.6MB/s eta 0:00:01\r\u001b[K     |█████████████████████████████▊  | 665kB 6.6MB/s eta 0:00:01\r\u001b[K     |██████████████████████████████▏ | 675kB 6.6MB/s eta 0:00:01\r\u001b[K     |██████████████████████████████▋ | 686kB 6.6MB/s eta 0:00:01\r\u001b[K     |███████████████████████████████ | 696kB 6.6MB/s eta 0:00:01\r\u001b[K     |███████████████████████████████▌| 706kB 6.6MB/s eta 0:00:01\r\u001b[K     |████████████████████████████████| 716kB 6.6MB/s eta 0:00:01\r\u001b[K     |████████████████████████████████| 727kB 6.6MB/s \n",
            "\u001b[?25hRequirement already satisfied: numpy in /usr/local/lib/python3.6/dist-packages (from TA-Lib) (1.16.5)\n",
            "Building wheels for collected packages: TA-Lib\n",
            "  Building wheel for TA-Lib (setup.py) ... \u001b[?25l\u001b[?25hdone\n",
            "  Created wheel for TA-Lib: filename=TA_Lib-0.4.17-cp36-cp36m-linux_x86_64.whl size=2405590 sha256=c8dc71e6cae9527fc566e052ce202336b79e80df63a8c6c20281220a7720bd06\n",
            "  Stored in directory: /root/.cache/pip/wheels/2a/2e/ec/71c565b2e0091e03a2b56abfbfd062f14a01a8d7b20ffe8bd5\n",
            "Successfully built TA-Lib\n",
            "Installing collected packages: TA-Lib\n",
            "Successfully installed TA-Lib-0.4.17\n"
          ],
          "name": "stdout"
        }
      ]
    },
    {
      "cell_type": "code",
      "metadata": {
        "id": "WtmguF3Q6vL2",
        "colab_type": "code",
        "outputId": "add8cb25-0e00-4d1b-fd09-fe5a117056aa",
        "colab": {
          "base_uri": "https://localhost:8080/",
          "height": 55
        }
      },
      "source": [
        "os.chdir('/content/drive/My Drive/data/machine_learning_finance/')\n",
        "print(os.listdir())"
      ],
      "execution_count": 14,
      "outputs": [
        {
          "output_type": "stream",
          "text": [
            "['AAPL.csv', 'AMD.csv', 'QQQ.csv', 'SPY.csv', 'LNG.csv', 'SMLV.csv', 'ta-lib-0.4.0-src.tar.gz']\n"
          ],
          "name": "stdout"
        }
      ]
    },
    {
      "cell_type": "markdown",
      "metadata": {
        "id": "D8MqD12FldUl",
        "colab_type": "text"
      },
      "source": [
        "## Import Data"
      ]
    },
    {
      "cell_type": "code",
      "metadata": {
        "id": "DYqx-_BvlRrU",
        "colab_type": "code",
        "colab": {}
      },
      "source": [
        "import pandas as pd"
      ],
      "execution_count": 0,
      "outputs": []
    },
    {
      "cell_type": "code",
      "metadata": {
        "id": "j8pRyLwSlqgX",
        "colab_type": "code",
        "colab": {}
      },
      "source": [
        "lng = pd.read_csv('LNG.csv', index_col='Date', parse_dates=True)"
      ],
      "execution_count": 0,
      "outputs": []
    },
    {
      "cell_type": "code",
      "metadata": {
        "id": "6TzvfyA3m2ul",
        "colab_type": "code",
        "outputId": "9071534a-bf12-4816-f970-71125796bd19",
        "colab": {
          "base_uri": "https://localhost:8080/",
          "height": 35
        }
      },
      "source": [
        "lng = lng['2016-04-15':'2018-04-10']\n",
        "lng.shape"
      ],
      "execution_count": 17,
      "outputs": [
        {
          "output_type": "execute_result",
          "data": {
            "text/plain": [
              "(500, 2)"
            ]
          },
          "metadata": {
            "tags": []
          },
          "execution_count": 17
        }
      ]
    },
    {
      "cell_type": "code",
      "metadata": {
        "id": "qk9Mquv1pFCl",
        "colab_type": "code",
        "outputId": "a4bdc82e-1047-4235-f3df-93b4a697f94e",
        "colab": {
          "base_uri": "https://localhost:8080/",
          "height": 228
        }
      },
      "source": [
        "lng.head()"
      ],
      "execution_count": 18,
      "outputs": [
        {
          "output_type": "execute_result",
          "data": {
            "text/html": [
              "<div>\n",
              "<style scoped>\n",
              "    .dataframe tbody tr th:only-of-type {\n",
              "        vertical-align: middle;\n",
              "    }\n",
              "\n",
              "    .dataframe tbody tr th {\n",
              "        vertical-align: top;\n",
              "    }\n",
              "\n",
              "    .dataframe thead th {\n",
              "        text-align: right;\n",
              "    }\n",
              "</style>\n",
              "<table border=\"1\" class=\"dataframe\">\n",
              "  <thead>\n",
              "    <tr style=\"text-align: right;\">\n",
              "      <th></th>\n",
              "      <th>Adj_Close</th>\n",
              "      <th>Adj_Volume</th>\n",
              "    </tr>\n",
              "    <tr>\n",
              "      <th>Date</th>\n",
              "      <th></th>\n",
              "      <th></th>\n",
              "    </tr>\n",
              "  </thead>\n",
              "  <tbody>\n",
              "    <tr>\n",
              "      <th>2016-04-15</th>\n",
              "      <td>37.13</td>\n",
              "      <td>4293775.0</td>\n",
              "    </tr>\n",
              "    <tr>\n",
              "      <th>2016-04-18</th>\n",
              "      <td>36.90</td>\n",
              "      <td>3445852.0</td>\n",
              "    </tr>\n",
              "    <tr>\n",
              "      <th>2016-04-19</th>\n",
              "      <td>37.12</td>\n",
              "      <td>3748050.0</td>\n",
              "    </tr>\n",
              "    <tr>\n",
              "      <th>2016-04-20</th>\n",
              "      <td>37.77</td>\n",
              "      <td>2470384.0</td>\n",
              "    </tr>\n",
              "    <tr>\n",
              "      <th>2016-04-21</th>\n",
              "      <td>37.21</td>\n",
              "      <td>2043988.0</td>\n",
              "    </tr>\n",
              "  </tbody>\n",
              "</table>\n",
              "</div>"
            ],
            "text/plain": [
              "            Adj_Close  Adj_Volume\n",
              "Date                             \n",
              "2016-04-15      37.13   4293775.0\n",
              "2016-04-18      36.90   3445852.0\n",
              "2016-04-19      37.12   3748050.0\n",
              "2016-04-20      37.77   2470384.0\n",
              "2016-04-21      37.21   2043988.0"
            ]
          },
          "metadata": {
            "tags": []
          },
          "execution_count": 18
        }
      ]
    },
    {
      "cell_type": "code",
      "metadata": {
        "id": "JuqufD8BlsZg",
        "colab_type": "code",
        "colab": {}
      },
      "source": [
        "spy = pd.read_csv('SPY.csv', index_col='Date', parse_dates=True)"
      ],
      "execution_count": 0,
      "outputs": []
    },
    {
      "cell_type": "code",
      "metadata": {
        "id": "HB-34VfPlwZx",
        "colab_type": "code",
        "outputId": "a4a3ce75-26c2-4b5d-a7bc-7db0695c4d31",
        "colab": {
          "base_uri": "https://localhost:8080/",
          "height": 35
        }
      },
      "source": [
        "spy = spy['2016-04-15':'2018-04-10']\n",
        "spy.shape"
      ],
      "execution_count": 20,
      "outputs": [
        {
          "output_type": "execute_result",
          "data": {
            "text/plain": [
              "(500, 2)"
            ]
          },
          "metadata": {
            "tags": []
          },
          "execution_count": 20
        }
      ]
    },
    {
      "cell_type": "code",
      "metadata": {
        "id": "mWK_scudpDkx",
        "colab_type": "code",
        "outputId": "3d5cd220-4ea7-42bc-c06c-135f14e72477",
        "colab": {
          "base_uri": "https://localhost:8080/",
          "height": 228
        }
      },
      "source": [
        "spy.head()"
      ],
      "execution_count": 21,
      "outputs": [
        {
          "output_type": "execute_result",
          "data": {
            "text/html": [
              "<div>\n",
              "<style scoped>\n",
              "    .dataframe tbody tr th:only-of-type {\n",
              "        vertical-align: middle;\n",
              "    }\n",
              "\n",
              "    .dataframe tbody tr th {\n",
              "        vertical-align: top;\n",
              "    }\n",
              "\n",
              "    .dataframe thead th {\n",
              "        text-align: right;\n",
              "    }\n",
              "</style>\n",
              "<table border=\"1\" class=\"dataframe\">\n",
              "  <thead>\n",
              "    <tr style=\"text-align: right;\">\n",
              "      <th></th>\n",
              "      <th>Adj_Close</th>\n",
              "      <th>Adj_Volume</th>\n",
              "    </tr>\n",
              "    <tr>\n",
              "      <th>Date</th>\n",
              "      <th></th>\n",
              "      <th></th>\n",
              "    </tr>\n",
              "  </thead>\n",
              "  <tbody>\n",
              "    <tr>\n",
              "      <th>2016-04-15</th>\n",
              "      <td>199.760673</td>\n",
              "      <td>75761600.0</td>\n",
              "    </tr>\n",
              "    <tr>\n",
              "      <th>2016-04-18</th>\n",
              "      <td>201.164330</td>\n",
              "      <td>75277700.0</td>\n",
              "    </tr>\n",
              "    <tr>\n",
              "      <th>2016-04-19</th>\n",
              "      <td>201.798846</td>\n",
              "      <td>88316100.0</td>\n",
              "    </tr>\n",
              "    <tr>\n",
              "      <th>2016-04-20</th>\n",
              "      <td>201.991139</td>\n",
              "      <td>81100300.0</td>\n",
              "    </tr>\n",
              "    <tr>\n",
              "      <th>2016-04-21</th>\n",
              "      <td>200.904747</td>\n",
              "      <td>85695000.0</td>\n",
              "    </tr>\n",
              "  </tbody>\n",
              "</table>\n",
              "</div>"
            ],
            "text/plain": [
              "             Adj_Close  Adj_Volume\n",
              "Date                              \n",
              "2016-04-15  199.760673  75761600.0\n",
              "2016-04-18  201.164330  75277700.0\n",
              "2016-04-19  201.798846  88316100.0\n",
              "2016-04-20  201.991139  81100300.0\n",
              "2016-04-21  200.904747  85695000.0"
            ]
          },
          "metadata": {
            "tags": []
          },
          "execution_count": 21
        }
      ]
    },
    {
      "cell_type": "markdown",
      "metadata": {
        "id": "gsvDx3qmoLMo",
        "colab_type": "text"
      },
      "source": [
        "## EDA"
      ]
    },
    {
      "cell_type": "code",
      "metadata": {
        "id": "i2GlSkVtoTGu",
        "colab_type": "code",
        "colab": {}
      },
      "source": [
        "import matplotlib.pyplot as plt\n",
        "%matplotlib inline"
      ],
      "execution_count": 0,
      "outputs": []
    },
    {
      "cell_type": "code",
      "metadata": {
        "id": "RX_OtEIboCIL",
        "colab_type": "code",
        "outputId": "05d2b961-37c1-457c-b339-394407791eee",
        "colab": {
          "base_uri": "https://localhost:8080/",
          "height": 281
        }
      },
      "source": [
        "plt.figure()\n",
        "spy['Adj_Close'].plot(label='SPY', legend=True)\n",
        "lng['Adj_Close'].plot(label='LNG', legend=True, secondary_y=True)\n",
        "plt.show()"
      ],
      "execution_count": 23,
      "outputs": [
        {
          "output_type": "display_data",
          "data": {
            "image/png": "[encoded data removed]",
            "text/plain": [
              "<Figure size 432x288 with 2 Axes>"
            ]
          },
          "metadata": {
            "tags": []
          }
        }
      ]
    },
    {
      "cell_type": "code",
      "metadata": {
        "id": "v7PFlUBGoqxo",
        "colab_type": "code",
        "outputId": "5b88d766-d9a3-4136-b0ee-67f6ed139432",
        "colab": {
          "base_uri": "https://localhost:8080/",
          "height": 283
        }
      },
      "source": [
        "plt.figure()\n",
        "lng['Adj_Close'].pct_change().plot.hist(bins=50)\n",
        "plt.xlabel('Adjusted close 1-day percent change')\n",
        "plt.show()"
      ],
      "execution_count": 24,
      "outputs": [
        {
          "output_type": "display_data",
          "data": {
            "image/png": "[encoded data removed]",
            "text/plain": [
              "<Figure size 432x288 with 1 Axes>"
            ]
          },
          "metadata": {
            "tags": []
          }
        }
      ]
    },
    {
      "cell_type": "markdown",
      "metadata": {
        "id": "3C-irqyLrf1J",
        "colab_type": "text"
      },
      "source": [
        "## Correlations"
      ]
    },
    {
      "cell_type": "code",
      "metadata": {
        "id": "jkJM0pVmpqCr",
        "colab_type": "code",
        "colab": {}
      },
      "source": [
        "lng['5d_future_close'] = lng['Adj_Close'].shift(-5)\n",
        "lng['5d_close_future_pct'] = lng['5d_future_close'].pct_change(5)\n",
        "lng['5d_close_pct'] = lng['Adj_Close'].pct_change(5)"
      ],
      "execution_count": 0,
      "outputs": []
    },
    {
      "cell_type": "code",
      "metadata": {
        "id": "5qKL9mUusF4H",
        "colab_type": "code",
        "outputId": "56b0564c-2a53-49c6-ce7d-c80b0f3349e3",
        "colab": {
          "base_uri": "https://localhost:8080/",
          "height": 69
        }
      },
      "source": [
        "corr = lng[['5d_close_pct', '5d_close_future_pct']].corr()\n",
        "print(corr)"
      ],
      "execution_count": 26,
      "outputs": [
        {
          "output_type": "stream",
          "text": [
            "                     5d_close_pct  5d_close_future_pct\n",
            "5d_close_pct             1.000000            -0.164861\n",
            "5d_close_future_pct     -0.164861             1.000000\n"
          ],
          "name": "stdout"
        }
      ]
    },
    {
      "cell_type": "code",
      "metadata": {
        "id": "yMmzxV96sNl_",
        "colab_type": "code",
        "outputId": "8df7bb49-f569-4d8b-8cd6-31cdea05618d",
        "colab": {
          "base_uri": "https://localhost:8080/",
          "height": 269
        }
      },
      "source": [
        "plt.scatter('5d_close_pct', '5d_close_future_pct', data=lng)\n",
        "plt.show()"
      ],
      "execution_count": 27,
      "outputs": [
        {
          "output_type": "display_data",
          "data": {
            "image/png": "[encoded data removed]",
            "text/plain": [
              "<Figure size 432x288 with 1 Axes>"
            ]
          },
          "metadata": {
            "tags": []
          }
        }
      ]
    },
    {
      "cell_type": "markdown",
      "metadata": {
        "id": "CV24mIGCh2Ne",
        "colab_type": "text"
      },
      "source": [
        "## Moving Average and RSI Features"
      ]
    },
    {
      "cell_type": "code",
      "metadata": {
        "id": "9OngH-wMvdbT",
        "colab_type": "code",
        "colab": {}
      },
      "source": [
        "import talib"
      ],
      "execution_count": 0,
      "outputs": []
    },
    {
      "cell_type": "code",
      "metadata": {
        "id": "lscbLt2LsXoI",
        "colab_type": "code",
        "outputId": "132d2680-698d-4f4d-b43a-e58078a06972",
        "colab": {
          "base_uri": "https://localhost:8080/",
          "height": 55
        }
      },
      "source": [
        "feature_names = ['5d_close_pct']\n",
        "for n in [14, 30, 50, 200]:\n",
        "  lng['ma' + str(n)] = talib.SMA(lng['Adj_Close'].values, \n",
        "                                 timeperiod=n) / lng['Adj_Close']\n",
        "  lng['rsi' + str(n)] = talib.RSI(lng['Adj_Close'].values, timeperiod=n)\n",
        "  feature_names = feature_names + ['ma' + str(n), 'rsi' + str(n)]\n",
        "print(feature_names)"
      ],
      "execution_count": 29,
      "outputs": [
        {
          "output_type": "stream",
          "text": [
            "['5d_close_pct', 'ma14', 'rsi14', 'ma30', 'rsi30', 'ma50', 'rsi50', 'ma200', 'rsi200']\n"
          ],
          "name": "stdout"
        }
      ]
    },
    {
      "cell_type": "code",
      "metadata": {
        "id": "2mS63hdSWde4",
        "colab_type": "code",
        "outputId": "86a78379-7c15-48c8-a386-c7e19242d4ef",
        "colab": {
          "base_uri": "https://localhost:8080/",
          "height": 571
        }
      },
      "source": [
        "lng.head(10)"
      ],
      "execution_count": 30,
      "outputs": [
        {
          "output_type": "execute_result",
          "data": {
            "text/html": [
              "<div>\n",
              "<style scoped>\n",
              "    .dataframe tbody tr th:only-of-type {\n",
              "        vertical-align: middle;\n",
              "    }\n",
              "\n",
              "    .dataframe tbody tr th {\n",
              "        vertical-align: top;\n",
              "    }\n",
              "\n",
              "    .dataframe thead th {\n",
              "        text-align: right;\n",
              "    }\n",
              "</style>\n",
              "<table border=\"1\" class=\"dataframe\">\n",
              "  <thead>\n",
              "    <tr style=\"text-align: right;\">\n",
              "      <th></th>\n",
              "      <th>Adj_Close</th>\n",
              "      <th>Adj_Volume</th>\n",
              "      <th>5d_future_close</th>\n",
              "      <th>5d_close_future_pct</th>\n",
              "      <th>5d_close_pct</th>\n",
              "      <th>ma14</th>\n",
              "      <th>rsi14</th>\n",
              "      <th>ma30</th>\n",
              "      <th>rsi30</th>\n",
              "      <th>ma50</th>\n",
              "      <th>rsi50</th>\n",
              "      <th>ma200</th>\n",
              "      <th>rsi200</th>\n",
              "    </tr>\n",
              "    <tr>\n",
              "      <th>Date</th>\n",
              "      <th></th>\n",
              "      <th></th>\n",
              "      <th></th>\n",
              "      <th></th>\n",
              "      <th></th>\n",
              "      <th></th>\n",
              "      <th></th>\n",
              "      <th></th>\n",
              "      <th></th>\n",
              "      <th></th>\n",
              "      <th></th>\n",
              "      <th></th>\n",
              "      <th></th>\n",
              "    </tr>\n",
              "  </thead>\n",
              "  <tbody>\n",
              "    <tr>\n",
              "      <th>2016-04-15</th>\n",
              "      <td>37.13</td>\n",
              "      <td>4293775.0</td>\n",
              "      <td>37.40</td>\n",
              "      <td>NaN</td>\n",
              "      <td>NaN</td>\n",
              "      <td>NaN</td>\n",
              "      <td>NaN</td>\n",
              "      <td>NaN</td>\n",
              "      <td>NaN</td>\n",
              "      <td>NaN</td>\n",
              "      <td>NaN</td>\n",
              "      <td>NaN</td>\n",
              "      <td>NaN</td>\n",
              "    </tr>\n",
              "    <tr>\n",
              "      <th>2016-04-18</th>\n",
              "      <td>36.90</td>\n",
              "      <td>3445852.0</td>\n",
              "      <td>36.75</td>\n",
              "      <td>NaN</td>\n",
              "      <td>NaN</td>\n",
              "      <td>NaN</td>\n",
              "      <td>NaN</td>\n",
              "      <td>NaN</td>\n",
              "      <td>NaN</td>\n",
              "      <td>NaN</td>\n",
              "      <td>NaN</td>\n",
              "      <td>NaN</td>\n",
              "      <td>NaN</td>\n",
              "    </tr>\n",
              "    <tr>\n",
              "      <th>2016-04-19</th>\n",
              "      <td>37.12</td>\n",
              "      <td>3748050.0</td>\n",
              "      <td>37.25</td>\n",
              "      <td>NaN</td>\n",
              "      <td>NaN</td>\n",
              "      <td>NaN</td>\n",
              "      <td>NaN</td>\n",
              "      <td>NaN</td>\n",
              "      <td>NaN</td>\n",
              "      <td>NaN</td>\n",
              "      <td>NaN</td>\n",
              "      <td>NaN</td>\n",
              "      <td>NaN</td>\n",
              "    </tr>\n",
              "    <tr>\n",
              "      <th>2016-04-20</th>\n",
              "      <td>37.77</td>\n",
              "      <td>2470384.0</td>\n",
              "      <td>39.11</td>\n",
              "      <td>NaN</td>\n",
              "      <td>NaN</td>\n",
              "      <td>NaN</td>\n",
              "      <td>NaN</td>\n",
              "      <td>NaN</td>\n",
              "      <td>NaN</td>\n",
              "      <td>NaN</td>\n",
              "      <td>NaN</td>\n",
              "      <td>NaN</td>\n",
              "      <td>NaN</td>\n",
              "    </tr>\n",
              "    <tr>\n",
              "      <th>2016-04-21</th>\n",
              "      <td>37.21</td>\n",
              "      <td>2043988.0</td>\n",
              "      <td>38.62</td>\n",
              "      <td>NaN</td>\n",
              "      <td>NaN</td>\n",
              "      <td>NaN</td>\n",
              "      <td>NaN</td>\n",
              "      <td>NaN</td>\n",
              "      <td>NaN</td>\n",
              "      <td>NaN</td>\n",
              "      <td>NaN</td>\n",
              "      <td>NaN</td>\n",
              "      <td>NaN</td>\n",
              "    </tr>\n",
              "    <tr>\n",
              "      <th>2016-04-22</th>\n",
              "      <td>37.40</td>\n",
              "      <td>2786757.0</td>\n",
              "      <td>38.88</td>\n",
              "      <td>0.039572</td>\n",
              "      <td>0.007272</td>\n",
              "      <td>NaN</td>\n",
              "      <td>NaN</td>\n",
              "      <td>NaN</td>\n",
              "      <td>NaN</td>\n",
              "      <td>NaN</td>\n",
              "      <td>NaN</td>\n",
              "      <td>NaN</td>\n",
              "      <td>NaN</td>\n",
              "    </tr>\n",
              "    <tr>\n",
              "      <th>2016-04-25</th>\n",
              "      <td>36.75</td>\n",
              "      <td>1830397.0</td>\n",
              "      <td>38.99</td>\n",
              "      <td>0.060952</td>\n",
              "      <td>-0.004065</td>\n",
              "      <td>NaN</td>\n",
              "      <td>NaN</td>\n",
              "      <td>NaN</td>\n",
              "      <td>NaN</td>\n",
              "      <td>NaN</td>\n",
              "      <td>NaN</td>\n",
              "      <td>NaN</td>\n",
              "      <td>NaN</td>\n",
              "    </tr>\n",
              "    <tr>\n",
              "      <th>2016-04-26</th>\n",
              "      <td>37.25</td>\n",
              "      <td>2384800.0</td>\n",
              "      <td>37.37</td>\n",
              "      <td>0.003221</td>\n",
              "      <td>0.003502</td>\n",
              "      <td>NaN</td>\n",
              "      <td>NaN</td>\n",
              "      <td>NaN</td>\n",
              "      <td>NaN</td>\n",
              "      <td>NaN</td>\n",
              "      <td>NaN</td>\n",
              "      <td>NaN</td>\n",
              "      <td>NaN</td>\n",
              "    </tr>\n",
              "    <tr>\n",
              "      <th>2016-04-27</th>\n",
              "      <td>39.11</td>\n",
              "      <td>2559759.0</td>\n",
              "      <td>35.85</td>\n",
              "      <td>-0.083355</td>\n",
              "      <td>0.035478</td>\n",
              "      <td>NaN</td>\n",
              "      <td>NaN</td>\n",
              "      <td>NaN</td>\n",
              "      <td>NaN</td>\n",
              "      <td>NaN</td>\n",
              "      <td>NaN</td>\n",
              "      <td>NaN</td>\n",
              "      <td>NaN</td>\n",
              "    </tr>\n",
              "    <tr>\n",
              "      <th>2016-04-28</th>\n",
              "      <td>38.62</td>\n",
              "      <td>2245100.0</td>\n",
              "      <td>36.11</td>\n",
              "      <td>-0.064992</td>\n",
              "      <td>0.037893</td>\n",
              "      <td>NaN</td>\n",
              "      <td>NaN</td>\n",
              "      <td>NaN</td>\n",
              "      <td>NaN</td>\n",
              "      <td>NaN</td>\n",
              "      <td>NaN</td>\n",
              "      <td>NaN</td>\n",
              "      <td>NaN</td>\n",
              "    </tr>\n",
              "  </tbody>\n",
              "</table>\n",
              "</div>"
            ],
            "text/plain": [
              "            Adj_Close  Adj_Volume  5d_future_close  ...  rsi50  ma200  rsi200\n",
              "Date                                                ...                      \n",
              "2016-04-15      37.13   4293775.0            37.40  ...    NaN    NaN     NaN\n",
              "2016-04-18      36.90   3445852.0            36.75  ...    NaN    NaN     NaN\n",
              "2016-04-19      37.12   3748050.0            37.25  ...    NaN    NaN     NaN\n",
              "2016-04-20      37.77   2470384.0            39.11  ...    NaN    NaN     NaN\n",
              "2016-04-21      37.21   2043988.0            38.62  ...    NaN    NaN     NaN\n",
              "2016-04-22      37.40   2786757.0            38.88  ...    NaN    NaN     NaN\n",
              "2016-04-25      36.75   1830397.0            38.99  ...    NaN    NaN     NaN\n",
              "2016-04-26      37.25   2384800.0            37.37  ...    NaN    NaN     NaN\n",
              "2016-04-27      39.11   2559759.0            35.85  ...    NaN    NaN     NaN\n",
              "2016-04-28      38.62   2245100.0            36.11  ...    NaN    NaN     NaN\n",
              "\n",
              "[10 rows x 13 columns]"
            ]
          },
          "metadata": {
            "tags": []
          },
          "execution_count": 30
        }
      ]
    },
    {
      "cell_type": "code",
      "metadata": {
        "id": "9OsCYx3z8EWi",
        "colab_type": "code",
        "outputId": "6faf77fb-9864-4b59-c8a2-8a738629f701",
        "colab": {
          "base_uri": "https://localhost:8080/",
          "height": 571
        }
      },
      "source": [
        "lng.tail(10)"
      ],
      "execution_count": 31,
      "outputs": [
        {
          "output_type": "execute_result",
          "data": {
            "text/html": [
              "<div>\n",
              "<style scoped>\n",
              "    .dataframe tbody tr th:only-of-type {\n",
              "        vertical-align: middle;\n",
              "    }\n",
              "\n",
              "    .dataframe tbody tr th {\n",
              "        vertical-align: top;\n",
              "    }\n",
              "\n",
              "    .dataframe thead th {\n",
              "        text-align: right;\n",
              "    }\n",
              "</style>\n",
              "<table border=\"1\" class=\"dataframe\">\n",
              "  <thead>\n",
              "    <tr style=\"text-align: right;\">\n",
              "      <th></th>\n",
              "      <th>Adj_Close</th>\n",
              "      <th>Adj_Volume</th>\n",
              "      <th>5d_future_close</th>\n",
              "      <th>5d_close_future_pct</th>\n",
              "      <th>5d_close_pct</th>\n",
              "      <th>ma14</th>\n",
              "      <th>rsi14</th>\n",
              "      <th>ma30</th>\n",
              "      <th>rsi30</th>\n",
              "      <th>ma50</th>\n",
              "      <th>rsi50</th>\n",
              "      <th>ma200</th>\n",
              "      <th>rsi200</th>\n",
              "    </tr>\n",
              "    <tr>\n",
              "      <th>Date</th>\n",
              "      <th></th>\n",
              "      <th></th>\n",
              "      <th></th>\n",
              "      <th></th>\n",
              "      <th></th>\n",
              "      <th></th>\n",
              "      <th></th>\n",
              "      <th></th>\n",
              "      <th></th>\n",
              "      <th></th>\n",
              "      <th></th>\n",
              "      <th></th>\n",
              "      <th></th>\n",
              "    </tr>\n",
              "  </thead>\n",
              "  <tbody>\n",
              "    <tr>\n",
              "      <th>2018-03-27</th>\n",
              "      <td>53.06</td>\n",
              "      <td>1907271.0</td>\n",
              "      <td>54.30</td>\n",
              "      <td>0.023370</td>\n",
              "      <td>0.001510</td>\n",
              "      <td>1.004725</td>\n",
              "      <td>46.112898</td>\n",
              "      <td>1.026354</td>\n",
              "      <td>48.423080</td>\n",
              "      <td>1.041368</td>\n",
              "      <td>50.601497</td>\n",
              "      <td>0.922859</td>\n",
              "      <td>52.446487</td>\n",
              "    </tr>\n",
              "    <tr>\n",
              "      <th>2018-03-28</th>\n",
              "      <td>52.30</td>\n",
              "      <td>1272452.0</td>\n",
              "      <td>56.21</td>\n",
              "      <td>0.074761</td>\n",
              "      <td>-0.033986</td>\n",
              "      <td>1.017058</td>\n",
              "      <td>42.796606</td>\n",
              "      <td>1.038018</td>\n",
              "      <td>46.788195</td>\n",
              "      <td>1.055159</td>\n",
              "      <td>49.525314</td>\n",
              "      <td>0.936544</td>\n",
              "      <td>52.142361</td>\n",
              "    </tr>\n",
              "    <tr>\n",
              "      <th>2018-03-29</th>\n",
              "      <td>53.45</td>\n",
              "      <td>2756953.0</td>\n",
              "      <td>54.36</td>\n",
              "      <td>0.017025</td>\n",
              "      <td>0.027489</td>\n",
              "      <td>0.994387</td>\n",
              "      <td>48.797185</td>\n",
              "      <td>1.012735</td>\n",
              "      <td>49.459257</td>\n",
              "      <td>1.031622</td>\n",
              "      <td>51.130119</td>\n",
              "      <td>0.916875</td>\n",
              "      <td>52.560707</td>\n",
              "    </tr>\n",
              "    <tr>\n",
              "      <th>2018-04-02</th>\n",
              "      <td>52.99</td>\n",
              "      <td>2298339.0</td>\n",
              "      <td>54.10</td>\n",
              "      <td>0.020947</td>\n",
              "      <td>0.018843</td>\n",
              "      <td>1.002157</td>\n",
              "      <td>46.687504</td>\n",
              "      <td>1.018431</td>\n",
              "      <td>48.452838</td>\n",
              "      <td>1.039702</td>\n",
              "      <td>50.475091</td>\n",
              "      <td>0.925404</td>\n",
              "      <td>52.376647</td>\n",
              "    </tr>\n",
              "    <tr>\n",
              "      <th>2018-04-03</th>\n",
              "      <td>53.98</td>\n",
              "      <td>2230559.0</td>\n",
              "      <td>55.63</td>\n",
              "      <td>0.030567</td>\n",
              "      <td>0.028190</td>\n",
              "      <td>0.983883</td>\n",
              "      <td>51.543070</td>\n",
              "      <td>0.997493</td>\n",
              "      <td>50.686893</td>\n",
              "      <td>1.020085</td>\n",
              "      <td>51.830305</td>\n",
              "      <td>0.909116</td>\n",
              "      <td>52.734657</td>\n",
              "    </tr>\n",
              "    <tr>\n",
              "      <th>2018-04-04</th>\n",
              "      <td>54.30</td>\n",
              "      <td>1816771.0</td>\n",
              "      <td>NaN</td>\n",
              "      <td>0.024494</td>\n",
              "      <td>0.023370</td>\n",
              "      <td>0.978927</td>\n",
              "      <td>53.032126</td>\n",
              "      <td>0.989325</td>\n",
              "      <td>51.391328</td>\n",
              "      <td>1.013672</td>\n",
              "      <td>52.261174</td>\n",
              "      <td>0.904405</td>\n",
              "      <td>52.849803</td>\n",
              "    </tr>\n",
              "    <tr>\n",
              "      <th>2018-04-05</th>\n",
              "      <td>56.21</td>\n",
              "      <td>2533635.0</td>\n",
              "      <td>NaN</td>\n",
              "      <td>-0.010318</td>\n",
              "      <td>0.074761</td>\n",
              "      <td>0.948929</td>\n",
              "      <td>60.779231</td>\n",
              "      <td>0.955399</td>\n",
              "      <td>55.331261</td>\n",
              "      <td>0.978890</td>\n",
              "      <td>54.727566</td>\n",
              "      <td>0.874433</td>\n",
              "      <td>53.528929</td>\n",
              "    </tr>\n",
              "    <tr>\n",
              "      <th>2018-04-06</th>\n",
              "      <td>54.36</td>\n",
              "      <td>1754446.0</td>\n",
              "      <td>NaN</td>\n",
              "      <td>0.023363</td>\n",
              "      <td>0.017025</td>\n",
              "      <td>0.981276</td>\n",
              "      <td>51.857079</td>\n",
              "      <td>0.986761</td>\n",
              "      <td>51.175073</td>\n",
              "      <td>1.010901</td>\n",
              "      <td>52.068799</td>\n",
              "      <td>0.904928</td>\n",
              "      <td>52.788773</td>\n",
              "    </tr>\n",
              "    <tr>\n",
              "      <th>2018-04-09</th>\n",
              "      <td>54.10</td>\n",
              "      <td>1203998.0</td>\n",
              "      <td>NaN</td>\n",
              "      <td>0.028281</td>\n",
              "      <td>0.020947</td>\n",
              "      <td>0.988117</td>\n",
              "      <td>50.729971</td>\n",
              "      <td>0.990511</td>\n",
              "      <td>50.622244</td>\n",
              "      <td>1.014026</td>\n",
              "      <td>51.708543</td>\n",
              "      <td>0.909966</td>\n",
              "      <td>52.685875</td>\n",
              "    </tr>\n",
              "    <tr>\n",
              "      <th>2018-04-10</th>\n",
              "      <td>55.63</td>\n",
              "      <td>3430268.0</td>\n",
              "      <td>NaN</td>\n",
              "      <td>0.000000</td>\n",
              "      <td>0.030567</td>\n",
              "      <td>0.964343</td>\n",
              "      <td>56.694826</td>\n",
              "      <td>0.962886</td>\n",
              "      <td>53.669051</td>\n",
              "      <td>0.984569</td>\n",
              "      <td>53.634818</td>\n",
              "      <td>0.885689</td>\n",
              "      <td>53.225104</td>\n",
              "    </tr>\n",
              "  </tbody>\n",
              "</table>\n",
              "</div>"
            ],
            "text/plain": [
              "            Adj_Close  Adj_Volume  ...     ma200     rsi200\n",
              "Date                               ...                     \n",
              "2018-03-27      53.06   1907271.0  ...  0.922859  52.446487\n",
              "2018-03-28      52.30   1272452.0  ...  0.936544  52.142361\n",
              "2018-03-29      53.45   2756953.0  ...  0.916875  52.560707\n",
              "2018-04-02      52.99   2298339.0  ...  0.925404  52.376647\n",
              "2018-04-03      53.98   2230559.0  ...  0.909116  52.734657\n",
              "2018-04-04      54.30   1816771.0  ...  0.904405  52.849803\n",
              "2018-04-05      56.21   2533635.0  ...  0.874433  53.528929\n",
              "2018-04-06      54.36   1754446.0  ...  0.904928  52.788773\n",
              "2018-04-09      54.10   1203998.0  ...  0.909966  52.685875\n",
              "2018-04-10      55.63   3430268.0  ...  0.885689  53.225104\n",
              "\n",
              "[10 rows x 13 columns]"
            ]
          },
          "metadata": {
            "tags": []
          },
          "execution_count": 31
        }
      ]
    },
    {
      "cell_type": "markdown",
      "metadata": {
        "id": "30B5QvyRQr20",
        "colab_type": "text"
      },
      "source": [
        "## Features and Targets"
      ]
    },
    {
      "cell_type": "code",
      "metadata": {
        "id": "d3akM4DeWGkY",
        "colab_type": "code",
        "outputId": "b555ebb0-ff13-4ee5-883d-68d80b47fd90",
        "colab": {
          "base_uri": "https://localhost:8080/",
          "height": 35
        }
      },
      "source": [
        "lng2 = lng.dropna()\n",
        "lng2.shape"
      ],
      "execution_count": 32,
      "outputs": [
        {
          "output_type": "execute_result",
          "data": {
            "text/plain": [
              "(295, 13)"
            ]
          },
          "metadata": {
            "tags": []
          },
          "execution_count": 32
        }
      ]
    },
    {
      "cell_type": "code",
      "metadata": {
        "id": "Qh8czTY215jO",
        "colab_type": "code",
        "outputId": "37dceafb-b899-4948-dd64-844f932f0e58",
        "colab": {
          "base_uri": "https://localhost:8080/",
          "height": 335
        }
      },
      "source": [
        "lng2.head()"
      ],
      "execution_count": 33,
      "outputs": [
        {
          "output_type": "execute_result",
          "data": {
            "text/html": [
              "<div>\n",
              "<style scoped>\n",
              "    .dataframe tbody tr th:only-of-type {\n",
              "        vertical-align: middle;\n",
              "    }\n",
              "\n",
              "    .dataframe tbody tr th {\n",
              "        vertical-align: top;\n",
              "    }\n",
              "\n",
              "    .dataframe thead th {\n",
              "        text-align: right;\n",
              "    }\n",
              "</style>\n",
              "<table border=\"1\" class=\"dataframe\">\n",
              "  <thead>\n",
              "    <tr style=\"text-align: right;\">\n",
              "      <th></th>\n",
              "      <th>Adj_Close</th>\n",
              "      <th>Adj_Volume</th>\n",
              "      <th>5d_future_close</th>\n",
              "      <th>5d_close_future_pct</th>\n",
              "      <th>5d_close_pct</th>\n",
              "      <th>ma14</th>\n",
              "      <th>rsi14</th>\n",
              "      <th>ma30</th>\n",
              "      <th>rsi30</th>\n",
              "      <th>ma50</th>\n",
              "      <th>rsi50</th>\n",
              "      <th>ma200</th>\n",
              "      <th>rsi200</th>\n",
              "    </tr>\n",
              "    <tr>\n",
              "      <th>Date</th>\n",
              "      <th></th>\n",
              "      <th></th>\n",
              "      <th></th>\n",
              "      <th></th>\n",
              "      <th></th>\n",
              "      <th></th>\n",
              "      <th></th>\n",
              "      <th></th>\n",
              "      <th></th>\n",
              "      <th></th>\n",
              "      <th></th>\n",
              "      <th></th>\n",
              "      <th></th>\n",
              "    </tr>\n",
              "  </thead>\n",
              "  <tbody>\n",
              "    <tr>\n",
              "      <th>2017-01-31</th>\n",
              "      <td>47.65</td>\n",
              "      <td>2137394.0</td>\n",
              "      <td>47.81</td>\n",
              "      <td>0.003358</td>\n",
              "      <td>0.043812</td>\n",
              "      <td>0.950697</td>\n",
              "      <td>62.968946</td>\n",
              "      <td>0.918657</td>\n",
              "      <td>60.655749</td>\n",
              "      <td>0.895731</td>\n",
              "      <td>57.951677</td>\n",
              "      <td>0.839267</td>\n",
              "      <td>53.695377</td>\n",
              "    </tr>\n",
              "    <tr>\n",
              "      <th>2017-02-01</th>\n",
              "      <td>47.10</td>\n",
              "      <td>2051631.0</td>\n",
              "      <td>48.01</td>\n",
              "      <td>0.019321</td>\n",
              "      <td>-0.023429</td>\n",
              "      <td>0.967486</td>\n",
              "      <td>60.156019</td>\n",
              "      <td>0.932427</td>\n",
              "      <td>59.159791</td>\n",
              "      <td>0.910110</td>\n",
              "      <td>57.041713</td>\n",
              "      <td>0.850150</td>\n",
              "      <td>53.487663</td>\n",
              "    </tr>\n",
              "    <tr>\n",
              "      <th>2017-02-02</th>\n",
              "      <td>49.33</td>\n",
              "      <td>3081369.0</td>\n",
              "      <td>49.19</td>\n",
              "      <td>-0.002838</td>\n",
              "      <td>-0.021618</td>\n",
              "      <td>0.932220</td>\n",
              "      <td>66.659314</td>\n",
              "      <td>0.895486</td>\n",
              "      <td>62.988478</td>\n",
              "      <td>0.873379</td>\n",
              "      <td>59.662227</td>\n",
              "      <td>0.812956</td>\n",
              "      <td>54.209475</td>\n",
              "    </tr>\n",
              "    <tr>\n",
              "      <th>2017-02-03</th>\n",
              "      <td>49.43</td>\n",
              "      <td>4158130.0</td>\n",
              "      <td>48.93</td>\n",
              "      <td>-0.010115</td>\n",
              "      <td>0.007336</td>\n",
              "      <td>0.938976</td>\n",
              "      <td>66.920059</td>\n",
              "      <td>0.899461</td>\n",
              "      <td>63.148741</td>\n",
              "      <td>0.875497</td>\n",
              "      <td>59.774509</td>\n",
              "      <td>0.812490</td>\n",
              "      <td>54.241479</td>\n",
              "    </tr>\n",
              "    <tr>\n",
              "      <th>2017-02-06</th>\n",
              "      <td>48.50</td>\n",
              "      <td>2090909.0</td>\n",
              "      <td>48.14</td>\n",
              "      <td>-0.007423</td>\n",
              "      <td>0.022129</td>\n",
              "      <td>0.964080</td>\n",
              "      <td>62.059184</td>\n",
              "      <td>0.921608</td>\n",
              "      <td>60.623276</td>\n",
              "      <td>0.895860</td>\n",
              "      <td>58.236185</td>\n",
              "      <td>0.829234</td>\n",
              "      <td>53.889442</td>\n",
              "    </tr>\n",
              "  </tbody>\n",
              "</table>\n",
              "</div>"
            ],
            "text/plain": [
              "            Adj_Close  Adj_Volume  ...     ma200     rsi200\n",
              "Date                               ...                     \n",
              "2017-01-31      47.65   2137394.0  ...  0.839267  53.695377\n",
              "2017-02-01      47.10   2051631.0  ...  0.850150  53.487663\n",
              "2017-02-02      49.33   3081369.0  ...  0.812956  54.209475\n",
              "2017-02-03      49.43   4158130.0  ...  0.812490  54.241479\n",
              "2017-02-06      48.50   2090909.0  ...  0.829234  53.889442\n",
              "\n",
              "[5 rows x 13 columns]"
            ]
          },
          "metadata": {
            "tags": []
          },
          "execution_count": 33
        }
      ]
    },
    {
      "cell_type": "code",
      "metadata": {
        "id": "V-5HGg_810S3",
        "colab_type": "code",
        "outputId": "cfa54f46-f0b1-4db8-b617-b247e4f97422",
        "colab": {
          "base_uri": "https://localhost:8080/",
          "height": 335
        }
      },
      "source": [
        "lng2.tail()"
      ],
      "execution_count": 34,
      "outputs": [
        {
          "output_type": "execute_result",
          "data": {
            "text/html": [
              "<div>\n",
              "<style scoped>\n",
              "    .dataframe tbody tr th:only-of-type {\n",
              "        vertical-align: middle;\n",
              "    }\n",
              "\n",
              "    .dataframe tbody tr th {\n",
              "        vertical-align: top;\n",
              "    }\n",
              "\n",
              "    .dataframe thead th {\n",
              "        text-align: right;\n",
              "    }\n",
              "</style>\n",
              "<table border=\"1\" class=\"dataframe\">\n",
              "  <thead>\n",
              "    <tr style=\"text-align: right;\">\n",
              "      <th></th>\n",
              "      <th>Adj_Close</th>\n",
              "      <th>Adj_Volume</th>\n",
              "      <th>5d_future_close</th>\n",
              "      <th>5d_close_future_pct</th>\n",
              "      <th>5d_close_pct</th>\n",
              "      <th>ma14</th>\n",
              "      <th>rsi14</th>\n",
              "      <th>ma30</th>\n",
              "      <th>rsi30</th>\n",
              "      <th>ma50</th>\n",
              "      <th>rsi50</th>\n",
              "      <th>ma200</th>\n",
              "      <th>rsi200</th>\n",
              "    </tr>\n",
              "    <tr>\n",
              "      <th>Date</th>\n",
              "      <th></th>\n",
              "      <th></th>\n",
              "      <th></th>\n",
              "      <th></th>\n",
              "      <th></th>\n",
              "      <th></th>\n",
              "      <th></th>\n",
              "      <th></th>\n",
              "      <th></th>\n",
              "      <th></th>\n",
              "      <th></th>\n",
              "      <th></th>\n",
              "      <th></th>\n",
              "    </tr>\n",
              "  </thead>\n",
              "  <tbody>\n",
              "    <tr>\n",
              "      <th>2018-03-27</th>\n",
              "      <td>53.06</td>\n",
              "      <td>1907271.0</td>\n",
              "      <td>54.30</td>\n",
              "      <td>0.023370</td>\n",
              "      <td>0.001510</td>\n",
              "      <td>1.004725</td>\n",
              "      <td>46.112898</td>\n",
              "      <td>1.026354</td>\n",
              "      <td>48.423080</td>\n",
              "      <td>1.041368</td>\n",
              "      <td>50.601497</td>\n",
              "      <td>0.922859</td>\n",
              "      <td>52.446487</td>\n",
              "    </tr>\n",
              "    <tr>\n",
              "      <th>2018-03-28</th>\n",
              "      <td>52.30</td>\n",
              "      <td>1272452.0</td>\n",
              "      <td>56.21</td>\n",
              "      <td>0.074761</td>\n",
              "      <td>-0.033986</td>\n",
              "      <td>1.017058</td>\n",
              "      <td>42.796606</td>\n",
              "      <td>1.038018</td>\n",
              "      <td>46.788195</td>\n",
              "      <td>1.055159</td>\n",
              "      <td>49.525314</td>\n",
              "      <td>0.936544</td>\n",
              "      <td>52.142361</td>\n",
              "    </tr>\n",
              "    <tr>\n",
              "      <th>2018-03-29</th>\n",
              "      <td>53.45</td>\n",
              "      <td>2756953.0</td>\n",
              "      <td>54.36</td>\n",
              "      <td>0.017025</td>\n",
              "      <td>0.027489</td>\n",
              "      <td>0.994387</td>\n",
              "      <td>48.797185</td>\n",
              "      <td>1.012735</td>\n",
              "      <td>49.459257</td>\n",
              "      <td>1.031622</td>\n",
              "      <td>51.130119</td>\n",
              "      <td>0.916875</td>\n",
              "      <td>52.560707</td>\n",
              "    </tr>\n",
              "    <tr>\n",
              "      <th>2018-04-02</th>\n",
              "      <td>52.99</td>\n",
              "      <td>2298339.0</td>\n",
              "      <td>54.10</td>\n",
              "      <td>0.020947</td>\n",
              "      <td>0.018843</td>\n",
              "      <td>1.002157</td>\n",
              "      <td>46.687504</td>\n",
              "      <td>1.018431</td>\n",
              "      <td>48.452838</td>\n",
              "      <td>1.039702</td>\n",
              "      <td>50.475091</td>\n",
              "      <td>0.925404</td>\n",
              "      <td>52.376647</td>\n",
              "    </tr>\n",
              "    <tr>\n",
              "      <th>2018-04-03</th>\n",
              "      <td>53.98</td>\n",
              "      <td>2230559.0</td>\n",
              "      <td>55.63</td>\n",
              "      <td>0.030567</td>\n",
              "      <td>0.028190</td>\n",
              "      <td>0.983883</td>\n",
              "      <td>51.543070</td>\n",
              "      <td>0.997493</td>\n",
              "      <td>50.686893</td>\n",
              "      <td>1.020085</td>\n",
              "      <td>51.830305</td>\n",
              "      <td>0.909116</td>\n",
              "      <td>52.734657</td>\n",
              "    </tr>\n",
              "  </tbody>\n",
              "</table>\n",
              "</div>"
            ],
            "text/plain": [
              "            Adj_Close  Adj_Volume  ...     ma200     rsi200\n",
              "Date                               ...                     \n",
              "2018-03-27      53.06   1907271.0  ...  0.922859  52.446487\n",
              "2018-03-28      52.30   1272452.0  ...  0.936544  52.142361\n",
              "2018-03-29      53.45   2756953.0  ...  0.916875  52.560707\n",
              "2018-04-02      52.99   2298339.0  ...  0.925404  52.376647\n",
              "2018-04-03      53.98   2230559.0  ...  0.909116  52.734657\n",
              "\n",
              "[5 rows x 13 columns]"
            ]
          },
          "metadata": {
            "tags": []
          },
          "execution_count": 34
        }
      ]
    },
    {
      "cell_type": "code",
      "metadata": {
        "id": "chQUrXwXhL3q",
        "colab_type": "code",
        "colab": {}
      },
      "source": [
        "features = lng2[feature_names]"
      ],
      "execution_count": 0,
      "outputs": []
    },
    {
      "cell_type": "code",
      "metadata": {
        "id": "P_totJFXhOwh",
        "colab_type": "code",
        "colab": {}
      },
      "source": [
        "targets = lng2['5d_close_future_pct']"
      ],
      "execution_count": 0,
      "outputs": []
    },
    {
      "cell_type": "code",
      "metadata": {
        "id": "8QVNaSs5hS8C",
        "colab_type": "code",
        "colab": {}
      },
      "source": [
        "feature_and_target_cols = ['5d_close_future_pct'] + feature_names\n",
        "feature_and_target = lng2[feature_and_target_cols]"
      ],
      "execution_count": 0,
      "outputs": []
    },
    {
      "cell_type": "code",
      "metadata": {
        "id": "-yMo2IKV3f7D",
        "colab_type": "code",
        "outputId": "a0c5bee9-9595-4ba5-b971-39a6da20e02e",
        "colab": {
          "base_uri": "https://localhost:8080/",
          "height": 335
        }
      },
      "source": [
        "feature_and_target.head()"
      ],
      "execution_count": 38,
      "outputs": [
        {
          "output_type": "execute_result",
          "data": {
            "text/html": [
              "<div>\n",
              "<style scoped>\n",
              "    .dataframe tbody tr th:only-of-type {\n",
              "        vertical-align: middle;\n",
              "    }\n",
              "\n",
              "    .dataframe tbody tr th {\n",
              "        vertical-align: top;\n",
              "    }\n",
              "\n",
              "    .dataframe thead th {\n",
              "        text-align: right;\n",
              "    }\n",
              "</style>\n",
              "<table border=\"1\" class=\"dataframe\">\n",
              "  <thead>\n",
              "    <tr style=\"text-align: right;\">\n",
              "      <th></th>\n",
              "      <th>5d_close_future_pct</th>\n",
              "      <th>5d_close_pct</th>\n",
              "      <th>ma14</th>\n",
              "      <th>rsi14</th>\n",
              "      <th>ma30</th>\n",
              "      <th>rsi30</th>\n",
              "      <th>ma50</th>\n",
              "      <th>rsi50</th>\n",
              "      <th>ma200</th>\n",
              "      <th>rsi200</th>\n",
              "    </tr>\n",
              "    <tr>\n",
              "      <th>Date</th>\n",
              "      <th></th>\n",
              "      <th></th>\n",
              "      <th></th>\n",
              "      <th></th>\n",
              "      <th></th>\n",
              "      <th></th>\n",
              "      <th></th>\n",
              "      <th></th>\n",
              "      <th></th>\n",
              "      <th></th>\n",
              "    </tr>\n",
              "  </thead>\n",
              "  <tbody>\n",
              "    <tr>\n",
              "      <th>2017-01-31</th>\n",
              "      <td>0.003358</td>\n",
              "      <td>0.043812</td>\n",
              "      <td>0.950697</td>\n",
              "      <td>62.968946</td>\n",
              "      <td>0.918657</td>\n",
              "      <td>60.655749</td>\n",
              "      <td>0.895731</td>\n",
              "      <td>57.951677</td>\n",
              "      <td>0.839267</td>\n",
              "      <td>53.695377</td>\n",
              "    </tr>\n",
              "    <tr>\n",
              "      <th>2017-02-01</th>\n",
              "      <td>0.019321</td>\n",
              "      <td>-0.023429</td>\n",
              "      <td>0.967486</td>\n",
              "      <td>60.156019</td>\n",
              "      <td>0.932427</td>\n",
              "      <td>59.159791</td>\n",
              "      <td>0.910110</td>\n",
              "      <td>57.041713</td>\n",
              "      <td>0.850150</td>\n",
              "      <td>53.487663</td>\n",
              "    </tr>\n",
              "    <tr>\n",
              "      <th>2017-02-02</th>\n",
              "      <td>-0.002838</td>\n",
              "      <td>-0.021618</td>\n",
              "      <td>0.932220</td>\n",
              "      <td>66.659314</td>\n",
              "      <td>0.895486</td>\n",
              "      <td>62.988478</td>\n",
              "      <td>0.873379</td>\n",
              "      <td>59.662227</td>\n",
              "      <td>0.812956</td>\n",
              "      <td>54.209475</td>\n",
              "    </tr>\n",
              "    <tr>\n",
              "      <th>2017-02-03</th>\n",
              "      <td>-0.010115</td>\n",
              "      <td>0.007336</td>\n",
              "      <td>0.938976</td>\n",
              "      <td>66.920059</td>\n",
              "      <td>0.899461</td>\n",
              "      <td>63.148741</td>\n",
              "      <td>0.875497</td>\n",
              "      <td>59.774509</td>\n",
              "      <td>0.812490</td>\n",
              "      <td>54.241479</td>\n",
              "    </tr>\n",
              "    <tr>\n",
              "      <th>2017-02-06</th>\n",
              "      <td>-0.007423</td>\n",
              "      <td>0.022129</td>\n",
              "      <td>0.964080</td>\n",
              "      <td>62.059184</td>\n",
              "      <td>0.921608</td>\n",
              "      <td>60.623276</td>\n",
              "      <td>0.895860</td>\n",
              "      <td>58.236185</td>\n",
              "      <td>0.829234</td>\n",
              "      <td>53.889442</td>\n",
              "    </tr>\n",
              "  </tbody>\n",
              "</table>\n",
              "</div>"
            ],
            "text/plain": [
              "            5d_close_future_pct  5d_close_pct  ...     ma200     rsi200\n",
              "Date                                           ...                     \n",
              "2017-01-31             0.003358      0.043812  ...  0.839267  53.695377\n",
              "2017-02-01             0.019321     -0.023429  ...  0.850150  53.487663\n",
              "2017-02-02            -0.002838     -0.021618  ...  0.812956  54.209475\n",
              "2017-02-03            -0.010115      0.007336  ...  0.812490  54.241479\n",
              "2017-02-06            -0.007423      0.022129  ...  0.829234  53.889442\n",
              "\n",
              "[5 rows x 10 columns]"
            ]
          },
          "metadata": {
            "tags": []
          },
          "execution_count": 38
        }
      ]
    },
    {
      "cell_type": "markdown",
      "metadata": {
        "id": "hpYYJ79eQ31C",
        "colab_type": "text"
      },
      "source": [
        "## Check the correlations"
      ]
    },
    {
      "cell_type": "code",
      "metadata": {
        "id": "rnsz49zbhuNm",
        "colab_type": "code",
        "colab": {}
      },
      "source": [
        "import seaborn as sns"
      ],
      "execution_count": 0,
      "outputs": []
    },
    {
      "cell_type": "code",
      "metadata": {
        "id": "JV_xJnmYqgX5",
        "colab_type": "code",
        "outputId": "671de4ea-78bb-4d83-cfef-37da8437e430",
        "colab": {
          "base_uri": "https://localhost:8080/",
          "height": 297
        }
      },
      "source": [
        "corr = feature_and_target.corr()\n",
        "sns.heatmap(corr, annot=True)\n",
        "plt.yticks(rotation=0)\n",
        "plt.xticks(rotation=90)\n",
        "plt.tight_layout()\n",
        "plt.show()"
      ],
      "execution_count": 40,
      "outputs": [
        {
          "output_type": "display_data",
          "data": {
            "image/png": "[encoded data removed]",
            "text/plain": [
              "<Figure size 432x288 with 2 Axes>"
            ]
          },
          "metadata": {
            "tags": []
          }
        }
      ]
    },
    {
      "cell_type": "code",
      "metadata": {
        "id": "8hTlO9rdqub3",
        "colab_type": "code",
        "outputId": "334f61f3-7072-46cb-b382-c27d30580421",
        "colab": {
          "base_uri": "https://localhost:8080/",
          "height": 269
        }
      },
      "source": [
        "plt.scatter(lng2['5d_close_future_pct'], lng2['ma200'])\n",
        "plt.show()"
      ],
      "execution_count": 41,
      "outputs": [
        {
          "output_type": "display_data",
          "data": {
            "image/png": "[encoded data removed]",
            "text/plain": [
              "<Figure size 432x288 with 1 Axes>"
            ]
          },
          "metadata": {
            "tags": []
          }
        }
      ]
    },
    {
      "cell_type": "markdown",
      "metadata": {
        "id": "dLJrNsxkQ_fX",
        "colab_type": "text"
      },
      "source": [
        "## Create Train and Test Features"
      ]
    },
    {
      "cell_type": "code",
      "metadata": {
        "id": "lRh1no8Gq6SS",
        "colab_type": "code",
        "colab": {}
      },
      "source": [
        "import statsmodels.api as sm"
      ],
      "execution_count": 0,
      "outputs": []
    },
    {
      "cell_type": "code",
      "metadata": {
        "id": "Uc1n1xirrJpb",
        "colab_type": "code",
        "outputId": "9b935dba-9789-4b73-b456-818e522b4c60",
        "colab": {
          "base_uri": "https://localhost:8080/",
          "height": 72
        }
      },
      "source": [
        "features = lng2[feature_names]\n",
        "linear_features = sm.add_constant(features)\n",
        "train_size = int(0.85 * features.shape[0])\n",
        "train_features = linear_features[:train_size]\n",
        "train_targets = targets[:train_size]\n",
        "test_features = linear_features[train_size:]\n",
        "test_targets = targets[train_size:]"
      ],
      "execution_count": 43,
      "outputs": [
        {
          "output_type": "stream",
          "text": [
            "/usr/local/lib/python3.6/dist-packages/numpy/core/fromnumeric.py:2389: FutureWarning: Method .ptp is deprecated and will be removed in a future version. Use numpy.ptp instead.\n",
            "  return ptp(axis=axis, out=out, **kwargs)\n"
          ],
          "name": "stderr"
        }
      ]
    },
    {
      "cell_type": "code",
      "metadata": {
        "id": "0edN7wG6zYPU",
        "colab_type": "code",
        "outputId": "e402e066-7ef0-4980-edcd-d5b5ba156fc0",
        "colab": {
          "base_uri": "https://localhost:8080/",
          "height": 35
        }
      },
      "source": [
        "print(linear_features.shape, train_features.shape, test_features.shape)"
      ],
      "execution_count": 44,
      "outputs": [
        {
          "output_type": "stream",
          "text": [
            "(295, 10) (250, 10) (45, 10)\n"
          ],
          "name": "stdout"
        }
      ]
    },
    {
      "cell_type": "markdown",
      "metadata": {
        "id": "dbzyohzVRGQU",
        "colab_type": "text"
      },
      "source": [
        "## Fit Linear Model"
      ]
    },
    {
      "cell_type": "code",
      "metadata": {
        "id": "YCsIgyEZzydl",
        "colab_type": "code",
        "outputId": "929b085d-4cdc-4b79-fffb-eb67d5fe0fbf",
        "colab": {
          "base_uri": "https://localhost:8080/",
          "height": 642
        }
      },
      "source": [
        "model = sm.OLS(train_targets, train_features)\n",
        "results = model.fit()\n",
        "print(results.summary())"
      ],
      "execution_count": 45,
      "outputs": [
        {
          "output_type": "stream",
          "text": [
            "                             OLS Regression Results                            \n",
            "===============================================================================\n",
            "Dep. Variable:     5d_close_future_pct   R-squared:                       0.273\n",
            "Model:                             OLS   Adj. R-squared:                  0.246\n",
            "Method:                  Least Squares   F-statistic:                     10.01\n",
            "Date:                 Wed, 25 Sep 2019   Prob (F-statistic):           4.92e-13\n",
            "Time:                         10:27:57   Log-Likelihood:                 536.49\n",
            "No. Observations:                  250   AIC:                            -1053.\n",
            "Df Residuals:                      240   BIC:                            -1018.\n",
            "Df Model:                            9                                         \n",
            "Covariance Type:             nonrobust                                         \n",
            "================================================================================\n",
            "                   coef    std err          t      P>|t|      [0.025      0.975]\n",
            "--------------------------------------------------------------------------------\n",
            "const            6.8197      1.169      5.832      0.000       4.516       9.123\n",
            "5d_close_pct    -0.0944      0.114     -0.830      0.408      -0.319       0.130\n",
            "ma14             0.3473      0.230      1.512      0.132      -0.105       0.800\n",
            "rsi14            0.0261      0.004      6.520      0.000       0.018       0.034\n",
            "ma30             0.2200      0.206      1.067      0.287      -0.186       0.626\n",
            "rsi30           -0.1789      0.025     -7.111      0.000      -0.228      -0.129\n",
            "ma50            -2.0856      0.374     -5.578      0.000      -2.822      -1.349\n",
            "rsi50            0.2410      0.032      7.458      0.000       0.177       0.305\n",
            "ma200            0.5639      0.220      2.567      0.011       0.131       0.997\n",
            "rsi200          -0.1999      0.029     -6.999      0.000      -0.256      -0.144\n",
            "==============================================================================\n",
            "Omnibus:                        3.594   Durbin-Watson:                   0.560\n",
            "Prob(Omnibus):                  0.166   Jarque-Bera (JB):                2.482\n",
            "Skew:                          -0.038   Prob(JB):                        0.289\n",
            "Kurtosis:                       2.518   Cond. No.                     6.92e+04\n",
            "==============================================================================\n",
            "\n",
            "Warnings:\n",
            "[1] Standard Errors assume that the covariance matrix of the errors is correctly specified.\n",
            "[2] The condition number is large, 6.92e+04. This might indicate that there are\n",
            "strong multicollinearity or other numerical problems.\n"
          ],
          "name": "stdout"
        }
      ]
    },
    {
      "cell_type": "code",
      "metadata": {
        "id": "itznMVclNenm",
        "colab_type": "code",
        "outputId": "b93a966f-05ec-4a66-e244-a3ed32271810",
        "colab": {
          "base_uri": "https://localhost:8080/",
          "height": 207
        }
      },
      "source": [
        "print(results.pvalues)"
      ],
      "execution_count": 46,
      "outputs": [
        {
          "output_type": "stream",
          "text": [
            "const           1.764767e-08\n",
            "5d_close_pct    4.075985e-01\n",
            "ma14            1.317652e-01\n",
            "rsi14           4.119023e-10\n",
            "ma30            2.870964e-01\n",
            "rsi30           1.315491e-11\n",
            "ma50            6.542888e-08\n",
            "rsi50           1.598367e-12\n",
            "ma200           1.087610e-02\n",
            "rsi200          2.559536e-11\n",
            "dtype: float64\n"
          ],
          "name": "stdout"
        }
      ]
    },
    {
      "cell_type": "code",
      "metadata": {
        "id": "yabnDukuNi9_",
        "colab_type": "code",
        "colab": {}
      },
      "source": [
        "train_predictions = results.predict(train_features)\n",
        "test_predictions = results.predict(test_features)"
      ],
      "execution_count": 0,
      "outputs": []
    },
    {
      "cell_type": "markdown",
      "metadata": {
        "id": "jppTjhDRRK_9",
        "colab_type": "text"
      },
      "source": [
        "## Evaluate Result"
      ]
    },
    {
      "cell_type": "code",
      "metadata": {
        "id": "3ZFivQu3NvpM",
        "colab_type": "code",
        "colab": {}
      },
      "source": [
        "import numpy as np"
      ],
      "execution_count": 0,
      "outputs": []
    },
    {
      "cell_type": "code",
      "metadata": {
        "id": "P7dVPVvp2rhc",
        "colab_type": "code",
        "outputId": "f40db8bb-bd31-4ecc-d919-3b520666c849",
        "colab": {
          "base_uri": "https://localhost:8080/",
          "height": 283
        }
      },
      "source": [
        "plt.scatter(train_predictions, train_targets, alpha=0.2, color='b', label='train')\n",
        "plt.scatter(test_predictions, test_targets, alpha=0.2, color='r', label='test')\n",
        "xmin, xmax = plt.xlim()\n",
        "plt.plot(np.arange(xmin, xmax, 0.01), np.arange(xmin, xmax, 0.01), c='k')\n",
        "plt.xlabel('predictions')\n",
        "plt.ylabel('actual')\n",
        "plt.legend()\n",
        "plt.show()"
      ],
      "execution_count": 49,
      "outputs": [
        {
          "output_type": "display_data",
          "data": {
            "image/png": "[encoded data removed]",
            "text/plain": [
              "<Figure size 432x288 with 1 Axes>"
            ]
          },
          "metadata": {
            "tags": []
          }
        }
      ]
    },
    {
      "cell_type": "markdown",
      "metadata": {
        "id": "3hhL4NpIROoB",
        "colab_type": "text"
      },
      "source": [
        "## Feature Engineering from Volume"
      ]
    },
    {
      "cell_type": "code",
      "metadata": {
        "id": "ptkLt6QVNX40",
        "colab_type": "code",
        "outputId": "a67fabbe-64c8-4624-daf8-466cbd1d337c",
        "colab": {
          "base_uri": "https://localhost:8080/",
          "height": 571
        }
      },
      "source": [
        "new_features = ['Adj_Volume_1d_change', 'Adj_Volume_1d_change_SMA']\n",
        "feature_names.extend(new_features)\n",
        "lng['Adj_Volume_1d_change'] = lng['Adj_Volume'].pct_change()\n",
        "lng['Adj_Volume_1d_change_SMA'] = talib.SMA(lng['Adj_Volume_1d_change'].values, \n",
        "                                            timeperiod=5)\n",
        "lng.head(10)"
      ],
      "execution_count": 50,
      "outputs": [
        {
          "output_type": "execute_result",
          "data": {
            "text/html": [
              "<div>\n",
              "<style scoped>\n",
              "    .dataframe tbody tr th:only-of-type {\n",
              "        vertical-align: middle;\n",
              "    }\n",
              "\n",
              "    .dataframe tbody tr th {\n",
              "        vertical-align: top;\n",
              "    }\n",
              "\n",
              "    .dataframe thead th {\n",
              "        text-align: right;\n",
              "    }\n",
              "</style>\n",
              "<table border=\"1\" class=\"dataframe\">\n",
              "  <thead>\n",
              "    <tr style=\"text-align: right;\">\n",
              "      <th></th>\n",
              "      <th>Adj_Close</th>\n",
              "      <th>Adj_Volume</th>\n",
              "      <th>5d_future_close</th>\n",
              "      <th>5d_close_future_pct</th>\n",
              "      <th>5d_close_pct</th>\n",
              "      <th>ma14</th>\n",
              "      <th>rsi14</th>\n",
              "      <th>ma30</th>\n",
              "      <th>rsi30</th>\n",
              "      <th>ma50</th>\n",
              "      <th>rsi50</th>\n",
              "      <th>ma200</th>\n",
              "      <th>rsi200</th>\n",
              "      <th>Adj_Volume_1d_change</th>\n",
              "      <th>Adj_Volume_1d_change_SMA</th>\n",
              "    </tr>\n",
              "    <tr>\n",
              "      <th>Date</th>\n",
              "      <th></th>\n",
              "      <th></th>\n",
              "      <th></th>\n",
              "      <th></th>\n",
              "      <th></th>\n",
              "      <th></th>\n",
              "      <th></th>\n",
              "      <th></th>\n",
              "      <th></th>\n",
              "      <th></th>\n",
              "      <th></th>\n",
              "      <th></th>\n",
              "      <th></th>\n",
              "      <th></th>\n",
              "      <th></th>\n",
              "    </tr>\n",
              "  </thead>\n",
              "  <tbody>\n",
              "    <tr>\n",
              "      <th>2016-04-15</th>\n",
              "      <td>37.13</td>\n",
              "      <td>4293775.0</td>\n",
              "      <td>37.40</td>\n",
              "      <td>NaN</td>\n",
              "      <td>NaN</td>\n",
              "      <td>NaN</td>\n",
              "      <td>NaN</td>\n",
              "      <td>NaN</td>\n",
              "      <td>NaN</td>\n",
              "      <td>NaN</td>\n",
              "      <td>NaN</td>\n",
              "      <td>NaN</td>\n",
              "      <td>NaN</td>\n",
              "      <td>NaN</td>\n",
              "      <td>NaN</td>\n",
              "    </tr>\n",
              "    <tr>\n",
              "      <th>2016-04-18</th>\n",
              "      <td>36.90</td>\n",
              "      <td>3445852.0</td>\n",
              "      <td>36.75</td>\n",
              "      <td>NaN</td>\n",
              "      <td>NaN</td>\n",
              "      <td>NaN</td>\n",
              "      <td>NaN</td>\n",
              "      <td>NaN</td>\n",
              "      <td>NaN</td>\n",
              "      <td>NaN</td>\n",
              "      <td>NaN</td>\n",
              "      <td>NaN</td>\n",
              "      <td>NaN</td>\n",
              "      <td>-0.197477</td>\n",
              "      <td>NaN</td>\n",
              "    </tr>\n",
              "    <tr>\n",
              "      <th>2016-04-19</th>\n",
              "      <td>37.12</td>\n",
              "      <td>3748050.0</td>\n",
              "      <td>37.25</td>\n",
              "      <td>NaN</td>\n",
              "      <td>NaN</td>\n",
              "      <td>NaN</td>\n",
              "      <td>NaN</td>\n",
              "      <td>NaN</td>\n",
              "      <td>NaN</td>\n",
              "      <td>NaN</td>\n",
              "      <td>NaN</td>\n",
              "      <td>NaN</td>\n",
              "      <td>NaN</td>\n",
              "      <td>0.087699</td>\n",
              "      <td>NaN</td>\n",
              "    </tr>\n",
              "    <tr>\n",
              "      <th>2016-04-20</th>\n",
              "      <td>37.77</td>\n",
              "      <td>2470384.0</td>\n",
              "      <td>39.11</td>\n",
              "      <td>NaN</td>\n",
              "      <td>NaN</td>\n",
              "      <td>NaN</td>\n",
              "      <td>NaN</td>\n",
              "      <td>NaN</td>\n",
              "      <td>NaN</td>\n",
              "      <td>NaN</td>\n",
              "      <td>NaN</td>\n",
              "      <td>NaN</td>\n",
              "      <td>NaN</td>\n",
              "      <td>-0.340888</td>\n",
              "      <td>NaN</td>\n",
              "    </tr>\n",
              "    <tr>\n",
              "      <th>2016-04-21</th>\n",
              "      <td>37.21</td>\n",
              "      <td>2043988.0</td>\n",
              "      <td>38.62</td>\n",
              "      <td>NaN</td>\n",
              "      <td>NaN</td>\n",
              "      <td>NaN</td>\n",
              "      <td>NaN</td>\n",
              "      <td>NaN</td>\n",
              "      <td>NaN</td>\n",
              "      <td>NaN</td>\n",
              "      <td>NaN</td>\n",
              "      <td>NaN</td>\n",
              "      <td>NaN</td>\n",
              "      <td>-0.172603</td>\n",
              "      <td>NaN</td>\n",
              "    </tr>\n",
              "    <tr>\n",
              "      <th>2016-04-22</th>\n",
              "      <td>37.40</td>\n",
              "      <td>2786757.0</td>\n",
              "      <td>38.88</td>\n",
              "      <td>0.039572</td>\n",
              "      <td>0.007272</td>\n",
              "      <td>NaN</td>\n",
              "      <td>NaN</td>\n",
              "      <td>NaN</td>\n",
              "      <td>NaN</td>\n",
              "      <td>NaN</td>\n",
              "      <td>NaN</td>\n",
              "      <td>NaN</td>\n",
              "      <td>NaN</td>\n",
              "      <td>0.363392</td>\n",
              "      <td>-0.051975</td>\n",
              "    </tr>\n",
              "    <tr>\n",
              "      <th>2016-04-25</th>\n",
              "      <td>36.75</td>\n",
              "      <td>1830397.0</td>\n",
              "      <td>38.99</td>\n",
              "      <td>0.060952</td>\n",
              "      <td>-0.004065</td>\n",
              "      <td>NaN</td>\n",
              "      <td>NaN</td>\n",
              "      <td>NaN</td>\n",
              "      <td>NaN</td>\n",
              "      <td>NaN</td>\n",
              "      <td>NaN</td>\n",
              "      <td>NaN</td>\n",
              "      <td>NaN</td>\n",
              "      <td>-0.343180</td>\n",
              "      <td>-0.081116</td>\n",
              "    </tr>\n",
              "    <tr>\n",
              "      <th>2016-04-26</th>\n",
              "      <td>37.25</td>\n",
              "      <td>2384800.0</td>\n",
              "      <td>37.37</td>\n",
              "      <td>0.003221</td>\n",
              "      <td>0.003502</td>\n",
              "      <td>NaN</td>\n",
              "      <td>NaN</td>\n",
              "      <td>NaN</td>\n",
              "      <td>NaN</td>\n",
              "      <td>NaN</td>\n",
              "      <td>NaN</td>\n",
              "      <td>NaN</td>\n",
              "      <td>NaN</td>\n",
              "      <td>0.302887</td>\n",
              "      <td>-0.038079</td>\n",
              "    </tr>\n",
              "    <tr>\n",
              "      <th>2016-04-27</th>\n",
              "      <td>39.11</td>\n",
              "      <td>2559759.0</td>\n",
              "      <td>35.85</td>\n",
              "      <td>-0.083355</td>\n",
              "      <td>0.035478</td>\n",
              "      <td>NaN</td>\n",
              "      <td>NaN</td>\n",
              "      <td>NaN</td>\n",
              "      <td>NaN</td>\n",
              "      <td>NaN</td>\n",
              "      <td>NaN</td>\n",
              "      <td>NaN</td>\n",
              "      <td>NaN</td>\n",
              "      <td>0.073364</td>\n",
              "      <td>0.044772</td>\n",
              "    </tr>\n",
              "    <tr>\n",
              "      <th>2016-04-28</th>\n",
              "      <td>38.62</td>\n",
              "      <td>2245100.0</td>\n",
              "      <td>36.11</td>\n",
              "      <td>-0.064992</td>\n",
              "      <td>0.037893</td>\n",
              "      <td>NaN</td>\n",
              "      <td>NaN</td>\n",
              "      <td>NaN</td>\n",
              "      <td>NaN</td>\n",
              "      <td>NaN</td>\n",
              "      <td>NaN</td>\n",
              "      <td>NaN</td>\n",
              "      <td>NaN</td>\n",
              "      <td>-0.122925</td>\n",
              "      <td>0.054708</td>\n",
              "    </tr>\n",
              "  </tbody>\n",
              "</table>\n",
              "</div>"
            ],
            "text/plain": [
              "            Adj_Close  ...  Adj_Volume_1d_change_SMA\n",
              "Date                   ...                          \n",
              "2016-04-15      37.13  ...                       NaN\n",
              "2016-04-18      36.90  ...                       NaN\n",
              "2016-04-19      37.12  ...                       NaN\n",
              "2016-04-20      37.77  ...                       NaN\n",
              "2016-04-21      37.21  ...                       NaN\n",
              "2016-04-22      37.40  ...                 -0.051975\n",
              "2016-04-25      36.75  ...                 -0.081116\n",
              "2016-04-26      37.25  ...                 -0.038079\n",
              "2016-04-27      39.11  ...                  0.044772\n",
              "2016-04-28      38.62  ...                  0.054708\n",
              "\n",
              "[10 rows x 15 columns]"
            ]
          },
          "metadata": {
            "tags": []
          },
          "execution_count": 50
        }
      ]
    },
    {
      "cell_type": "code",
      "metadata": {
        "id": "17SBJKYiWmwu",
        "colab_type": "code",
        "outputId": "b85d1573-0da2-46db-e7c4-a4c3b996e743",
        "colab": {
          "base_uri": "https://localhost:8080/",
          "height": 269
        }
      },
      "source": [
        "\n",
        "lng[new_features].plot(kind='hist', sharex=False, bins=50)\n",
        "plt.show()"
      ],
      "execution_count": 51,
      "outputs": [
        {
          "output_type": "display_data",
          "data": {
            "image/png": "[encoded data removed]",
            "text/plain": [
              "<Figure size 432x288 with 1 Axes>"
            ]
          },
          "metadata": {
            "tags": []
          }
        }
      ]
    },
    {
      "cell_type": "markdown",
      "metadata": {
        "id": "DZi8Cu41Rh-0",
        "colab_type": "text"
      },
      "source": [
        "## Create Day-of-Week Features"
      ]
    },
    {
      "cell_type": "code",
      "metadata": {
        "id": "lHs-VMvXPUjZ",
        "colab_type": "code",
        "outputId": "8cb67a07-150c-4bed-9f35-f77112df0c35",
        "colab": {
          "base_uri": "https://localhost:8080/",
          "height": 198
        }
      },
      "source": [
        "days_of_week = pd.get_dummies(lng.index.dayofweek, prefix='weekday', \n",
        "                              drop_first=True)\n",
        "days_of_week.head()"
      ],
      "execution_count": 52,
      "outputs": [
        {
          "output_type": "execute_result",
          "data": {
            "text/html": [
              "<div>\n",
              "<style scoped>\n",
              "    .dataframe tbody tr th:only-of-type {\n",
              "        vertical-align: middle;\n",
              "    }\n",
              "\n",
              "    .dataframe tbody tr th {\n",
              "        vertical-align: top;\n",
              "    }\n",
              "\n",
              "    .dataframe thead th {\n",
              "        text-align: right;\n",
              "    }\n",
              "</style>\n",
              "<table border=\"1\" class=\"dataframe\">\n",
              "  <thead>\n",
              "    <tr style=\"text-align: right;\">\n",
              "      <th></th>\n",
              "      <th>weekday_1</th>\n",
              "      <th>weekday_2</th>\n",
              "      <th>weekday_3</th>\n",
              "      <th>weekday_4</th>\n",
              "    </tr>\n",
              "  </thead>\n",
              "  <tbody>\n",
              "    <tr>\n",
              "      <th>0</th>\n",
              "      <td>0</td>\n",
              "      <td>0</td>\n",
              "      <td>0</td>\n",
              "      <td>1</td>\n",
              "    </tr>\n",
              "    <tr>\n",
              "      <th>1</th>\n",
              "      <td>0</td>\n",
              "      <td>0</td>\n",
              "      <td>0</td>\n",
              "      <td>0</td>\n",
              "    </tr>\n",
              "    <tr>\n",
              "      <th>2</th>\n",
              "      <td>1</td>\n",
              "      <td>0</td>\n",
              "      <td>0</td>\n",
              "      <td>0</td>\n",
              "    </tr>\n",
              "    <tr>\n",
              "      <th>3</th>\n",
              "      <td>0</td>\n",
              "      <td>1</td>\n",
              "      <td>0</td>\n",
              "      <td>0</td>\n",
              "    </tr>\n",
              "    <tr>\n",
              "      <th>4</th>\n",
              "      <td>0</td>\n",
              "      <td>0</td>\n",
              "      <td>1</td>\n",
              "      <td>0</td>\n",
              "    </tr>\n",
              "  </tbody>\n",
              "</table>\n",
              "</div>"
            ],
            "text/plain": [
              "   weekday_1  weekday_2  weekday_3  weekday_4\n",
              "0          0          0          0          1\n",
              "1          0          0          0          0\n",
              "2          1          0          0          0\n",
              "3          0          1          0          0\n",
              "4          0          0          1          0"
            ]
          },
          "metadata": {
            "tags": []
          },
          "execution_count": 52
        }
      ]
    },
    {
      "cell_type": "code",
      "metadata": {
        "id": "Jy7m1NcWSHIP",
        "colab_type": "code",
        "outputId": "24d7a709-0ab4-4c96-cbc2-4779ca32e2a8",
        "colab": {
          "base_uri": "https://localhost:8080/",
          "height": 378
        }
      },
      "source": [
        "\n",
        "days_of_week.index = lng.index\n",
        "days_of_week.head(10)"
      ],
      "execution_count": 53,
      "outputs": [
        {
          "output_type": "execute_result",
          "data": {
            "text/html": [
              "<div>\n",
              "<style scoped>\n",
              "    .dataframe tbody tr th:only-of-type {\n",
              "        vertical-align: middle;\n",
              "    }\n",
              "\n",
              "    .dataframe tbody tr th {\n",
              "        vertical-align: top;\n",
              "    }\n",
              "\n",
              "    .dataframe thead th {\n",
              "        text-align: right;\n",
              "    }\n",
              "</style>\n",
              "<table border=\"1\" class=\"dataframe\">\n",
              "  <thead>\n",
              "    <tr style=\"text-align: right;\">\n",
              "      <th></th>\n",
              "      <th>weekday_1</th>\n",
              "      <th>weekday_2</th>\n",
              "      <th>weekday_3</th>\n",
              "      <th>weekday_4</th>\n",
              "    </tr>\n",
              "    <tr>\n",
              "      <th>Date</th>\n",
              "      <th></th>\n",
              "      <th></th>\n",
              "      <th></th>\n",
              "      <th></th>\n",
              "    </tr>\n",
              "  </thead>\n",
              "  <tbody>\n",
              "    <tr>\n",
              "      <th>2016-04-15</th>\n",
              "      <td>0</td>\n",
              "      <td>0</td>\n",
              "      <td>0</td>\n",
              "      <td>1</td>\n",
              "    </tr>\n",
              "    <tr>\n",
              "      <th>2016-04-18</th>\n",
              "      <td>0</td>\n",
              "      <td>0</td>\n",
              "      <td>0</td>\n",
              "      <td>0</td>\n",
              "    </tr>\n",
              "    <tr>\n",
              "      <th>2016-04-19</th>\n",
              "      <td>1</td>\n",
              "      <td>0</td>\n",
              "      <td>0</td>\n",
              "      <td>0</td>\n",
              "    </tr>\n",
              "    <tr>\n",
              "      <th>2016-04-20</th>\n",
              "      <td>0</td>\n",
              "      <td>1</td>\n",
              "      <td>0</td>\n",
              "      <td>0</td>\n",
              "    </tr>\n",
              "    <tr>\n",
              "      <th>2016-04-21</th>\n",
              "      <td>0</td>\n",
              "      <td>0</td>\n",
              "      <td>1</td>\n",
              "      <td>0</td>\n",
              "    </tr>\n",
              "    <tr>\n",
              "      <th>2016-04-22</th>\n",
              "      <td>0</td>\n",
              "      <td>0</td>\n",
              "      <td>0</td>\n",
              "      <td>1</td>\n",
              "    </tr>\n",
              "    <tr>\n",
              "      <th>2016-04-25</th>\n",
              "      <td>0</td>\n",
              "      <td>0</td>\n",
              "      <td>0</td>\n",
              "      <td>0</td>\n",
              "    </tr>\n",
              "    <tr>\n",
              "      <th>2016-04-26</th>\n",
              "      <td>1</td>\n",
              "      <td>0</td>\n",
              "      <td>0</td>\n",
              "      <td>0</td>\n",
              "    </tr>\n",
              "    <tr>\n",
              "      <th>2016-04-27</th>\n",
              "      <td>0</td>\n",
              "      <td>1</td>\n",
              "      <td>0</td>\n",
              "      <td>0</td>\n",
              "    </tr>\n",
              "    <tr>\n",
              "      <th>2016-04-28</th>\n",
              "      <td>0</td>\n",
              "      <td>0</td>\n",
              "      <td>1</td>\n",
              "      <td>0</td>\n",
              "    </tr>\n",
              "  </tbody>\n",
              "</table>\n",
              "</div>"
            ],
            "text/plain": [
              "            weekday_1  weekday_2  weekday_3  weekday_4\n",
              "Date                                                  \n",
              "2016-04-15          0          0          0          1\n",
              "2016-04-18          0          0          0          0\n",
              "2016-04-19          1          0          0          0\n",
              "2016-04-20          0          1          0          0\n",
              "2016-04-21          0          0          1          0\n",
              "2016-04-22          0          0          0          1\n",
              "2016-04-25          0          0          0          0\n",
              "2016-04-26          1          0          0          0\n",
              "2016-04-27          0          1          0          0\n",
              "2016-04-28          0          0          1          0"
            ]
          },
          "metadata": {
            "tags": []
          },
          "execution_count": 53
        }
      ]
    },
    {
      "cell_type": "code",
      "metadata": {
        "id": "7sPnNSlJTRYb",
        "colab_type": "code",
        "outputId": "37e89a52-3018-4309-e8fe-98b46bcc99d5",
        "colab": {
          "base_uri": "https://localhost:8080/",
          "height": 571
        }
      },
      "source": [
        "lng.head(10)"
      ],
      "execution_count": 54,
      "outputs": [
        {
          "output_type": "execute_result",
          "data": {
            "text/html": [
              "<div>\n",
              "<style scoped>\n",
              "    .dataframe tbody tr th:only-of-type {\n",
              "        vertical-align: middle;\n",
              "    }\n",
              "\n",
              "    .dataframe tbody tr th {\n",
              "        vertical-align: top;\n",
              "    }\n",
              "\n",
              "    .dataframe thead th {\n",
              "        text-align: right;\n",
              "    }\n",
              "</style>\n",
              "<table border=\"1\" class=\"dataframe\">\n",
              "  <thead>\n",
              "    <tr style=\"text-align: right;\">\n",
              "      <th></th>\n",
              "      <th>Adj_Close</th>\n",
              "      <th>Adj_Volume</th>\n",
              "      <th>5d_future_close</th>\n",
              "      <th>5d_close_future_pct</th>\n",
              "      <th>5d_close_pct</th>\n",
              "      <th>ma14</th>\n",
              "      <th>rsi14</th>\n",
              "      <th>ma30</th>\n",
              "      <th>rsi30</th>\n",
              "      <th>ma50</th>\n",
              "      <th>rsi50</th>\n",
              "      <th>ma200</th>\n",
              "      <th>rsi200</th>\n",
              "      <th>Adj_Volume_1d_change</th>\n",
              "      <th>Adj_Volume_1d_change_SMA</th>\n",
              "    </tr>\n",
              "    <tr>\n",
              "      <th>Date</th>\n",
              "      <th></th>\n",
              "      <th></th>\n",
              "      <th></th>\n",
              "      <th></th>\n",
              "      <th></th>\n",
              "      <th></th>\n",
              "      <th></th>\n",
              "      <th></th>\n",
              "      <th></th>\n",
              "      <th></th>\n",
              "      <th></th>\n",
              "      <th></th>\n",
              "      <th></th>\n",
              "      <th></th>\n",
              "      <th></th>\n",
              "    </tr>\n",
              "  </thead>\n",
              "  <tbody>\n",
              "    <tr>\n",
              "      <th>2016-04-15</th>\n",
              "      <td>37.13</td>\n",
              "      <td>4293775.0</td>\n",
              "      <td>37.40</td>\n",
              "      <td>NaN</td>\n",
              "      <td>NaN</td>\n",
              "      <td>NaN</td>\n",
              "      <td>NaN</td>\n",
              "      <td>NaN</td>\n",
              "      <td>NaN</td>\n",
              "      <td>NaN</td>\n",
              "      <td>NaN</td>\n",
              "      <td>NaN</td>\n",
              "      <td>NaN</td>\n",
              "      <td>NaN</td>\n",
              "      <td>NaN</td>\n",
              "    </tr>\n",
              "    <tr>\n",
              "      <th>2016-04-18</th>\n",
              "      <td>36.90</td>\n",
              "      <td>3445852.0</td>\n",
              "      <td>36.75</td>\n",
              "      <td>NaN</td>\n",
              "      <td>NaN</td>\n",
              "      <td>NaN</td>\n",
              "      <td>NaN</td>\n",
              "      <td>NaN</td>\n",
              "      <td>NaN</td>\n",
              "      <td>NaN</td>\n",
              "      <td>NaN</td>\n",
              "      <td>NaN</td>\n",
              "      <td>NaN</td>\n",
              "      <td>-0.197477</td>\n",
              "      <td>NaN</td>\n",
              "    </tr>\n",
              "    <tr>\n",
              "      <th>2016-04-19</th>\n",
              "      <td>37.12</td>\n",
              "      <td>3748050.0</td>\n",
              "      <td>37.25</td>\n",
              "      <td>NaN</td>\n",
              "      <td>NaN</td>\n",
              "      <td>NaN</td>\n",
              "      <td>NaN</td>\n",
              "      <td>NaN</td>\n",
              "      <td>NaN</td>\n",
              "      <td>NaN</td>\n",
              "      <td>NaN</td>\n",
              "      <td>NaN</td>\n",
              "      <td>NaN</td>\n",
              "      <td>0.087699</td>\n",
              "      <td>NaN</td>\n",
              "    </tr>\n",
              "    <tr>\n",
              "      <th>2016-04-20</th>\n",
              "      <td>37.77</td>\n",
              "      <td>2470384.0</td>\n",
              "      <td>39.11</td>\n",
              "      <td>NaN</td>\n",
              "      <td>NaN</td>\n",
              "      <td>NaN</td>\n",
              "      <td>NaN</td>\n",
              "      <td>NaN</td>\n",
              "      <td>NaN</td>\n",
              "      <td>NaN</td>\n",
              "      <td>NaN</td>\n",
              "      <td>NaN</td>\n",
              "      <td>NaN</td>\n",
              "      <td>-0.340888</td>\n",
              "      <td>NaN</td>\n",
              "    </tr>\n",
              "    <tr>\n",
              "      <th>2016-04-21</th>\n",
              "      <td>37.21</td>\n",
              "      <td>2043988.0</td>\n",
              "      <td>38.62</td>\n",
              "      <td>NaN</td>\n",
              "      <td>NaN</td>\n",
              "      <td>NaN</td>\n",
              "      <td>NaN</td>\n",
              "      <td>NaN</td>\n",
              "      <td>NaN</td>\n",
              "      <td>NaN</td>\n",
              "      <td>NaN</td>\n",
              "      <td>NaN</td>\n",
              "      <td>NaN</td>\n",
              "      <td>-0.172603</td>\n",
              "      <td>NaN</td>\n",
              "    </tr>\n",
              "    <tr>\n",
              "      <th>2016-04-22</th>\n",
              "      <td>37.40</td>\n",
              "      <td>2786757.0</td>\n",
              "      <td>38.88</td>\n",
              "      <td>0.039572</td>\n",
              "      <td>0.007272</td>\n",
              "      <td>NaN</td>\n",
              "      <td>NaN</td>\n",
              "      <td>NaN</td>\n",
              "      <td>NaN</td>\n",
              "      <td>NaN</td>\n",
              "      <td>NaN</td>\n",
              "      <td>NaN</td>\n",
              "      <td>NaN</td>\n",
              "      <td>0.363392</td>\n",
              "      <td>-0.051975</td>\n",
              "    </tr>\n",
              "    <tr>\n",
              "      <th>2016-04-25</th>\n",
              "      <td>36.75</td>\n",
              "      <td>1830397.0</td>\n",
              "      <td>38.99</td>\n",
              "      <td>0.060952</td>\n",
              "      <td>-0.004065</td>\n",
              "      <td>NaN</td>\n",
              "      <td>NaN</td>\n",
              "      <td>NaN</td>\n",
              "      <td>NaN</td>\n",
              "      <td>NaN</td>\n",
              "      <td>NaN</td>\n",
              "      <td>NaN</td>\n",
              "      <td>NaN</td>\n",
              "      <td>-0.343180</td>\n",
              "      <td>-0.081116</td>\n",
              "    </tr>\n",
              "    <tr>\n",
              "      <th>2016-04-26</th>\n",
              "      <td>37.25</td>\n",
              "      <td>2384800.0</td>\n",
              "      <td>37.37</td>\n",
              "      <td>0.003221</td>\n",
              "      <td>0.003502</td>\n",
              "      <td>NaN</td>\n",
              "      <td>NaN</td>\n",
              "      <td>NaN</td>\n",
              "      <td>NaN</td>\n",
              "      <td>NaN</td>\n",
              "      <td>NaN</td>\n",
              "      <td>NaN</td>\n",
              "      <td>NaN</td>\n",
              "      <td>0.302887</td>\n",
              "      <td>-0.038079</td>\n",
              "    </tr>\n",
              "    <tr>\n",
              "      <th>2016-04-27</th>\n",
              "      <td>39.11</td>\n",
              "      <td>2559759.0</td>\n",
              "      <td>35.85</td>\n",
              "      <td>-0.083355</td>\n",
              "      <td>0.035478</td>\n",
              "      <td>NaN</td>\n",
              "      <td>NaN</td>\n",
              "      <td>NaN</td>\n",
              "      <td>NaN</td>\n",
              "      <td>NaN</td>\n",
              "      <td>NaN</td>\n",
              "      <td>NaN</td>\n",
              "      <td>NaN</td>\n",
              "      <td>0.073364</td>\n",
              "      <td>0.044772</td>\n",
              "    </tr>\n",
              "    <tr>\n",
              "      <th>2016-04-28</th>\n",
              "      <td>38.62</td>\n",
              "      <td>2245100.0</td>\n",
              "      <td>36.11</td>\n",
              "      <td>-0.064992</td>\n",
              "      <td>0.037893</td>\n",
              "      <td>NaN</td>\n",
              "      <td>NaN</td>\n",
              "      <td>NaN</td>\n",
              "      <td>NaN</td>\n",
              "      <td>NaN</td>\n",
              "      <td>NaN</td>\n",
              "      <td>NaN</td>\n",
              "      <td>NaN</td>\n",
              "      <td>-0.122925</td>\n",
              "      <td>0.054708</td>\n",
              "    </tr>\n",
              "  </tbody>\n",
              "</table>\n",
              "</div>"
            ],
            "text/plain": [
              "            Adj_Close  ...  Adj_Volume_1d_change_SMA\n",
              "Date                   ...                          \n",
              "2016-04-15      37.13  ...                       NaN\n",
              "2016-04-18      36.90  ...                       NaN\n",
              "2016-04-19      37.12  ...                       NaN\n",
              "2016-04-20      37.77  ...                       NaN\n",
              "2016-04-21      37.21  ...                       NaN\n",
              "2016-04-22      37.40  ...                 -0.051975\n",
              "2016-04-25      36.75  ...                 -0.081116\n",
              "2016-04-26      37.25  ...                 -0.038079\n",
              "2016-04-27      39.11  ...                  0.044772\n",
              "2016-04-28      38.62  ...                  0.054708\n",
              "\n",
              "[10 rows x 15 columns]"
            ]
          },
          "metadata": {
            "tags": []
          },
          "execution_count": 54
        }
      ]
    },
    {
      "cell_type": "code",
      "metadata": {
        "id": "IHJWHXCTS9G8",
        "colab_type": "code",
        "outputId": "b8b1e391-eef1-4c18-ddc5-18d833126091",
        "colab": {
          "base_uri": "https://localhost:8080/",
          "height": 571
        }
      },
      "source": [
        "pd.concat([lng, days_of_week], axis=1).head(10)"
      ],
      "execution_count": 55,
      "outputs": [
        {
          "output_type": "execute_result",
          "data": {
            "text/html": [
              "<div>\n",
              "<style scoped>\n",
              "    .dataframe tbody tr th:only-of-type {\n",
              "        vertical-align: middle;\n",
              "    }\n",
              "\n",
              "    .dataframe tbody tr th {\n",
              "        vertical-align: top;\n",
              "    }\n",
              "\n",
              "    .dataframe thead th {\n",
              "        text-align: right;\n",
              "    }\n",
              "</style>\n",
              "<table border=\"1\" class=\"dataframe\">\n",
              "  <thead>\n",
              "    <tr style=\"text-align: right;\">\n",
              "      <th></th>\n",
              "      <th>Adj_Close</th>\n",
              "      <th>Adj_Volume</th>\n",
              "      <th>5d_future_close</th>\n",
              "      <th>5d_close_future_pct</th>\n",
              "      <th>5d_close_pct</th>\n",
              "      <th>ma14</th>\n",
              "      <th>rsi14</th>\n",
              "      <th>ma30</th>\n",
              "      <th>rsi30</th>\n",
              "      <th>ma50</th>\n",
              "      <th>rsi50</th>\n",
              "      <th>ma200</th>\n",
              "      <th>rsi200</th>\n",
              "      <th>Adj_Volume_1d_change</th>\n",
              "      <th>Adj_Volume_1d_change_SMA</th>\n",
              "      <th>weekday_1</th>\n",
              "      <th>weekday_2</th>\n",
              "      <th>weekday_3</th>\n",
              "      <th>weekday_4</th>\n",
              "    </tr>\n",
              "    <tr>\n",
              "      <th>Date</th>\n",
              "      <th></th>\n",
              "      <th></th>\n",
              "      <th></th>\n",
              "      <th></th>\n",
              "      <th></th>\n",
              "      <th></th>\n",
              "      <th></th>\n",
              "      <th></th>\n",
              "      <th></th>\n",
              "      <th></th>\n",
              "      <th></th>\n",
              "      <th></th>\n",
              "      <th></th>\n",
              "      <th></th>\n",
              "      <th></th>\n",
              "      <th></th>\n",
              "      <th></th>\n",
              "      <th></th>\n",
              "      <th></th>\n",
              "    </tr>\n",
              "  </thead>\n",
              "  <tbody>\n",
              "    <tr>\n",
              "      <th>2016-04-15</th>\n",
              "      <td>37.13</td>\n",
              "      <td>4293775.0</td>\n",
              "      <td>37.40</td>\n",
              "      <td>NaN</td>\n",
              "      <td>NaN</td>\n",
              "      <td>NaN</td>\n",
              "      <td>NaN</td>\n",
              "      <td>NaN</td>\n",
              "      <td>NaN</td>\n",
              "      <td>NaN</td>\n",
              "      <td>NaN</td>\n",
              "      <td>NaN</td>\n",
              "      <td>NaN</td>\n",
              "      <td>NaN</td>\n",
              "      <td>NaN</td>\n",
              "      <td>0</td>\n",
              "      <td>0</td>\n",
              "      <td>0</td>\n",
              "      <td>1</td>\n",
              "    </tr>\n",
              "    <tr>\n",
              "      <th>2016-04-18</th>\n",
              "      <td>36.90</td>\n",
              "      <td>3445852.0</td>\n",
              "      <td>36.75</td>\n",
              "      <td>NaN</td>\n",
              "      <td>NaN</td>\n",
              "      <td>NaN</td>\n",
              "      <td>NaN</td>\n",
              "      <td>NaN</td>\n",
              "      <td>NaN</td>\n",
              "      <td>NaN</td>\n",
              "      <td>NaN</td>\n",
              "      <td>NaN</td>\n",
              "      <td>NaN</td>\n",
              "      <td>-0.197477</td>\n",
              "      <td>NaN</td>\n",
              "      <td>0</td>\n",
              "      <td>0</td>\n",
              "      <td>0</td>\n",
              "      <td>0</td>\n",
              "    </tr>\n",
              "    <tr>\n",
              "      <th>2016-04-19</th>\n",
              "      <td>37.12</td>\n",
              "      <td>3748050.0</td>\n",
              "      <td>37.25</td>\n",
              "      <td>NaN</td>\n",
              "      <td>NaN</td>\n",
              "      <td>NaN</td>\n",
              "      <td>NaN</td>\n",
              "      <td>NaN</td>\n",
              "      <td>NaN</td>\n",
              "      <td>NaN</td>\n",
              "      <td>NaN</td>\n",
              "      <td>NaN</td>\n",
              "      <td>NaN</td>\n",
              "      <td>0.087699</td>\n",
              "      <td>NaN</td>\n",
              "      <td>1</td>\n",
              "      <td>0</td>\n",
              "      <td>0</td>\n",
              "      <td>0</td>\n",
              "    </tr>\n",
              "    <tr>\n",
              "      <th>2016-04-20</th>\n",
              "      <td>37.77</td>\n",
              "      <td>2470384.0</td>\n",
              "      <td>39.11</td>\n",
              "      <td>NaN</td>\n",
              "      <td>NaN</td>\n",
              "      <td>NaN</td>\n",
              "      <td>NaN</td>\n",
              "      <td>NaN</td>\n",
              "      <td>NaN</td>\n",
              "      <td>NaN</td>\n",
              "      <td>NaN</td>\n",
              "      <td>NaN</td>\n",
              "      <td>NaN</td>\n",
              "      <td>-0.340888</td>\n",
              "      <td>NaN</td>\n",
              "      <td>0</td>\n",
              "      <td>1</td>\n",
              "      <td>0</td>\n",
              "      <td>0</td>\n",
              "    </tr>\n",
              "    <tr>\n",
              "      <th>2016-04-21</th>\n",
              "      <td>37.21</td>\n",
              "      <td>2043988.0</td>\n",
              "      <td>38.62</td>\n",
              "      <td>NaN</td>\n",
              "      <td>NaN</td>\n",
              "      <td>NaN</td>\n",
              "      <td>NaN</td>\n",
              "      <td>NaN</td>\n",
              "      <td>NaN</td>\n",
              "      <td>NaN</td>\n",
              "      <td>NaN</td>\n",
              "      <td>NaN</td>\n",
              "      <td>NaN</td>\n",
              "      <td>-0.172603</td>\n",
              "      <td>NaN</td>\n",
              "      <td>0</td>\n",
              "      <td>0</td>\n",
              "      <td>1</td>\n",
              "      <td>0</td>\n",
              "    </tr>\n",
              "    <tr>\n",
              "      <th>2016-04-22</th>\n",
              "      <td>37.40</td>\n",
              "      <td>2786757.0</td>\n",
              "      <td>38.88</td>\n",
              "      <td>0.039572</td>\n",
              "      <td>0.007272</td>\n",
              "      <td>NaN</td>\n",
              "      <td>NaN</td>\n",
              "      <td>NaN</td>\n",
              "      <td>NaN</td>\n",
              "      <td>NaN</td>\n",
              "      <td>NaN</td>\n",
              "      <td>NaN</td>\n",
              "      <td>NaN</td>\n",
              "      <td>0.363392</td>\n",
              "      <td>-0.051975</td>\n",
              "      <td>0</td>\n",
              "      <td>0</td>\n",
              "      <td>0</td>\n",
              "      <td>1</td>\n",
              "    </tr>\n",
              "    <tr>\n",
              "      <th>2016-04-25</th>\n",
              "      <td>36.75</td>\n",
              "      <td>1830397.0</td>\n",
              "      <td>38.99</td>\n",
              "      <td>0.060952</td>\n",
              "      <td>-0.004065</td>\n",
              "      <td>NaN</td>\n",
              "      <td>NaN</td>\n",
              "      <td>NaN</td>\n",
              "      <td>NaN</td>\n",
              "      <td>NaN</td>\n",
              "      <td>NaN</td>\n",
              "      <td>NaN</td>\n",
              "      <td>NaN</td>\n",
              "      <td>-0.343180</td>\n",
              "      <td>-0.081116</td>\n",
              "      <td>0</td>\n",
              "      <td>0</td>\n",
              "      <td>0</td>\n",
              "      <td>0</td>\n",
              "    </tr>\n",
              "    <tr>\n",
              "      <th>2016-04-26</th>\n",
              "      <td>37.25</td>\n",
              "      <td>2384800.0</td>\n",
              "      <td>37.37</td>\n",
              "      <td>0.003221</td>\n",
              "      <td>0.003502</td>\n",
              "      <td>NaN</td>\n",
              "      <td>NaN</td>\n",
              "      <td>NaN</td>\n",
              "      <td>NaN</td>\n",
              "      <td>NaN</td>\n",
              "      <td>NaN</td>\n",
              "      <td>NaN</td>\n",
              "      <td>NaN</td>\n",
              "      <td>0.302887</td>\n",
              "      <td>-0.038079</td>\n",
              "      <td>1</td>\n",
              "      <td>0</td>\n",
              "      <td>0</td>\n",
              "      <td>0</td>\n",
              "    </tr>\n",
              "    <tr>\n",
              "      <th>2016-04-27</th>\n",
              "      <td>39.11</td>\n",
              "      <td>2559759.0</td>\n",
              "      <td>35.85</td>\n",
              "      <td>-0.083355</td>\n",
              "      <td>0.035478</td>\n",
              "      <td>NaN</td>\n",
              "      <td>NaN</td>\n",
              "      <td>NaN</td>\n",
              "      <td>NaN</td>\n",
              "      <td>NaN</td>\n",
              "      <td>NaN</td>\n",
              "      <td>NaN</td>\n",
              "      <td>NaN</td>\n",
              "      <td>0.073364</td>\n",
              "      <td>0.044772</td>\n",
              "      <td>0</td>\n",
              "      <td>1</td>\n",
              "      <td>0</td>\n",
              "      <td>0</td>\n",
              "    </tr>\n",
              "    <tr>\n",
              "      <th>2016-04-28</th>\n",
              "      <td>38.62</td>\n",
              "      <td>2245100.0</td>\n",
              "      <td>36.11</td>\n",
              "      <td>-0.064992</td>\n",
              "      <td>0.037893</td>\n",
              "      <td>NaN</td>\n",
              "      <td>NaN</td>\n",
              "      <td>NaN</td>\n",
              "      <td>NaN</td>\n",
              "      <td>NaN</td>\n",
              "      <td>NaN</td>\n",
              "      <td>NaN</td>\n",
              "      <td>NaN</td>\n",
              "      <td>-0.122925</td>\n",
              "      <td>0.054708</td>\n",
              "      <td>0</td>\n",
              "      <td>0</td>\n",
              "      <td>1</td>\n",
              "      <td>0</td>\n",
              "    </tr>\n",
              "  </tbody>\n",
              "</table>\n",
              "</div>"
            ],
            "text/plain": [
              "            Adj_Close  Adj_Volume  ...  weekday_3  weekday_4\n",
              "Date                               ...                      \n",
              "2016-04-15      37.13   4293775.0  ...          0          1\n",
              "2016-04-18      36.90   3445852.0  ...          0          0\n",
              "2016-04-19      37.12   3748050.0  ...          0          0\n",
              "2016-04-20      37.77   2470384.0  ...          0          0\n",
              "2016-04-21      37.21   2043988.0  ...          1          0\n",
              "2016-04-22      37.40   2786757.0  ...          0          1\n",
              "2016-04-25      36.75   1830397.0  ...          0          0\n",
              "2016-04-26      37.25   2384800.0  ...          0          0\n",
              "2016-04-27      39.11   2559759.0  ...          0          0\n",
              "2016-04-28      38.62   2245100.0  ...          1          0\n",
              "\n",
              "[10 rows x 19 columns]"
            ]
          },
          "metadata": {
            "tags": []
          },
          "execution_count": 55
        }
      ]
    },
    {
      "cell_type": "code",
      "metadata": {
        "id": "dQKmi2ouS31M",
        "colab_type": "code",
        "outputId": "63f21539-9b24-461f-c172-e84d1c1be0f3",
        "colab": {
          "base_uri": "https://localhost:8080/",
          "height": 571
        }
      },
      "source": [
        "\n",
        "lng3 = pd.concat([lng, days_of_week], axis=1)\n",
        "lng3.head(10)"
      ],
      "execution_count": 56,
      "outputs": [
        {
          "output_type": "execute_result",
          "data": {
            "text/html": [
              "<div>\n",
              "<style scoped>\n",
              "    .dataframe tbody tr th:only-of-type {\n",
              "        vertical-align: middle;\n",
              "    }\n",
              "\n",
              "    .dataframe tbody tr th {\n",
              "        vertical-align: top;\n",
              "    }\n",
              "\n",
              "    .dataframe thead th {\n",
              "        text-align: right;\n",
              "    }\n",
              "</style>\n",
              "<table border=\"1\" class=\"dataframe\">\n",
              "  <thead>\n",
              "    <tr style=\"text-align: right;\">\n",
              "      <th></th>\n",
              "      <th>Adj_Close</th>\n",
              "      <th>Adj_Volume</th>\n",
              "      <th>5d_future_close</th>\n",
              "      <th>5d_close_future_pct</th>\n",
              "      <th>5d_close_pct</th>\n",
              "      <th>ma14</th>\n",
              "      <th>rsi14</th>\n",
              "      <th>ma30</th>\n",
              "      <th>rsi30</th>\n",
              "      <th>ma50</th>\n",
              "      <th>rsi50</th>\n",
              "      <th>ma200</th>\n",
              "      <th>rsi200</th>\n",
              "      <th>Adj_Volume_1d_change</th>\n",
              "      <th>Adj_Volume_1d_change_SMA</th>\n",
              "      <th>weekday_1</th>\n",
              "      <th>weekday_2</th>\n",
              "      <th>weekday_3</th>\n",
              "      <th>weekday_4</th>\n",
              "    </tr>\n",
              "    <tr>\n",
              "      <th>Date</th>\n",
              "      <th></th>\n",
              "      <th></th>\n",
              "      <th></th>\n",
              "      <th></th>\n",
              "      <th></th>\n",
              "      <th></th>\n",
              "      <th></th>\n",
              "      <th></th>\n",
              "      <th></th>\n",
              "      <th></th>\n",
              "      <th></th>\n",
              "      <th></th>\n",
              "      <th></th>\n",
              "      <th></th>\n",
              "      <th></th>\n",
              "      <th></th>\n",
              "      <th></th>\n",
              "      <th></th>\n",
              "      <th></th>\n",
              "    </tr>\n",
              "  </thead>\n",
              "  <tbody>\n",
              "    <tr>\n",
              "      <th>2016-04-15</th>\n",
              "      <td>37.13</td>\n",
              "      <td>4293775.0</td>\n",
              "      <td>37.40</td>\n",
              "      <td>NaN</td>\n",
              "      <td>NaN</td>\n",
              "      <td>NaN</td>\n",
              "      <td>NaN</td>\n",
              "      <td>NaN</td>\n",
              "      <td>NaN</td>\n",
              "      <td>NaN</td>\n",
              "      <td>NaN</td>\n",
              "      <td>NaN</td>\n",
              "      <td>NaN</td>\n",
              "      <td>NaN</td>\n",
              "      <td>NaN</td>\n",
              "      <td>0</td>\n",
              "      <td>0</td>\n",
              "      <td>0</td>\n",
              "      <td>1</td>\n",
              "    </tr>\n",
              "    <tr>\n",
              "      <th>2016-04-18</th>\n",
              "      <td>36.90</td>\n",
              "      <td>3445852.0</td>\n",
              "      <td>36.75</td>\n",
              "      <td>NaN</td>\n",
              "      <td>NaN</td>\n",
              "      <td>NaN</td>\n",
              "      <td>NaN</td>\n",
              "      <td>NaN</td>\n",
              "      <td>NaN</td>\n",
              "      <td>NaN</td>\n",
              "      <td>NaN</td>\n",
              "      <td>NaN</td>\n",
              "      <td>NaN</td>\n",
              "      <td>-0.197477</td>\n",
              "      <td>NaN</td>\n",
              "      <td>0</td>\n",
              "      <td>0</td>\n",
              "      <td>0</td>\n",
              "      <td>0</td>\n",
              "    </tr>\n",
              "    <tr>\n",
              "      <th>2016-04-19</th>\n",
              "      <td>37.12</td>\n",
              "      <td>3748050.0</td>\n",
              "      <td>37.25</td>\n",
              "      <td>NaN</td>\n",
              "      <td>NaN</td>\n",
              "      <td>NaN</td>\n",
              "      <td>NaN</td>\n",
              "      <td>NaN</td>\n",
              "      <td>NaN</td>\n",
              "      <td>NaN</td>\n",
              "      <td>NaN</td>\n",
              "      <td>NaN</td>\n",
              "      <td>NaN</td>\n",
              "      <td>0.087699</td>\n",
              "      <td>NaN</td>\n",
              "      <td>1</td>\n",
              "      <td>0</td>\n",
              "      <td>0</td>\n",
              "      <td>0</td>\n",
              "    </tr>\n",
              "    <tr>\n",
              "      <th>2016-04-20</th>\n",
              "      <td>37.77</td>\n",
              "      <td>2470384.0</td>\n",
              "      <td>39.11</td>\n",
              "      <td>NaN</td>\n",
              "      <td>NaN</td>\n",
              "      <td>NaN</td>\n",
              "      <td>NaN</td>\n",
              "      <td>NaN</td>\n",
              "      <td>NaN</td>\n",
              "      <td>NaN</td>\n",
              "      <td>NaN</td>\n",
              "      <td>NaN</td>\n",
              "      <td>NaN</td>\n",
              "      <td>-0.340888</td>\n",
              "      <td>NaN</td>\n",
              "      <td>0</td>\n",
              "      <td>1</td>\n",
              "      <td>0</td>\n",
              "      <td>0</td>\n",
              "    </tr>\n",
              "    <tr>\n",
              "      <th>2016-04-21</th>\n",
              "      <td>37.21</td>\n",
              "      <td>2043988.0</td>\n",
              "      <td>38.62</td>\n",
              "      <td>NaN</td>\n",
              "      <td>NaN</td>\n",
              "      <td>NaN</td>\n",
              "      <td>NaN</td>\n",
              "      <td>NaN</td>\n",
              "      <td>NaN</td>\n",
              "      <td>NaN</td>\n",
              "      <td>NaN</td>\n",
              "      <td>NaN</td>\n",
              "      <td>NaN</td>\n",
              "      <td>-0.172603</td>\n",
              "      <td>NaN</td>\n",
              "      <td>0</td>\n",
              "      <td>0</td>\n",
              "      <td>1</td>\n",
              "      <td>0</td>\n",
              "    </tr>\n",
              "    <tr>\n",
              "      <th>2016-04-22</th>\n",
              "      <td>37.40</td>\n",
              "      <td>2786757.0</td>\n",
              "      <td>38.88</td>\n",
              "      <td>0.039572</td>\n",
              "      <td>0.007272</td>\n",
              "      <td>NaN</td>\n",
              "      <td>NaN</td>\n",
              "      <td>NaN</td>\n",
              "      <td>NaN</td>\n",
              "      <td>NaN</td>\n",
              "      <td>NaN</td>\n",
              "      <td>NaN</td>\n",
              "      <td>NaN</td>\n",
              "      <td>0.363392</td>\n",
              "      <td>-0.051975</td>\n",
              "      <td>0</td>\n",
              "      <td>0</td>\n",
              "      <td>0</td>\n",
              "      <td>1</td>\n",
              "    </tr>\n",
              "    <tr>\n",
              "      <th>2016-04-25</th>\n",
              "      <td>36.75</td>\n",
              "      <td>1830397.0</td>\n",
              "      <td>38.99</td>\n",
              "      <td>0.060952</td>\n",
              "      <td>-0.004065</td>\n",
              "      <td>NaN</td>\n",
              "      <td>NaN</td>\n",
              "      <td>NaN</td>\n",
              "      <td>NaN</td>\n",
              "      <td>NaN</td>\n",
              "      <td>NaN</td>\n",
              "      <td>NaN</td>\n",
              "      <td>NaN</td>\n",
              "      <td>-0.343180</td>\n",
              "      <td>-0.081116</td>\n",
              "      <td>0</td>\n",
              "      <td>0</td>\n",
              "      <td>0</td>\n",
              "      <td>0</td>\n",
              "    </tr>\n",
              "    <tr>\n",
              "      <th>2016-04-26</th>\n",
              "      <td>37.25</td>\n",
              "      <td>2384800.0</td>\n",
              "      <td>37.37</td>\n",
              "      <td>0.003221</td>\n",
              "      <td>0.003502</td>\n",
              "      <td>NaN</td>\n",
              "      <td>NaN</td>\n",
              "      <td>NaN</td>\n",
              "      <td>NaN</td>\n",
              "      <td>NaN</td>\n",
              "      <td>NaN</td>\n",
              "      <td>NaN</td>\n",
              "      <td>NaN</td>\n",
              "      <td>0.302887</td>\n",
              "      <td>-0.038079</td>\n",
              "      <td>1</td>\n",
              "      <td>0</td>\n",
              "      <td>0</td>\n",
              "      <td>0</td>\n",
              "    </tr>\n",
              "    <tr>\n",
              "      <th>2016-04-27</th>\n",
              "      <td>39.11</td>\n",
              "      <td>2559759.0</td>\n",
              "      <td>35.85</td>\n",
              "      <td>-0.083355</td>\n",
              "      <td>0.035478</td>\n",
              "      <td>NaN</td>\n",
              "      <td>NaN</td>\n",
              "      <td>NaN</td>\n",
              "      <td>NaN</td>\n",
              "      <td>NaN</td>\n",
              "      <td>NaN</td>\n",
              "      <td>NaN</td>\n",
              "      <td>NaN</td>\n",
              "      <td>0.073364</td>\n",
              "      <td>0.044772</td>\n",
              "      <td>0</td>\n",
              "      <td>1</td>\n",
              "      <td>0</td>\n",
              "      <td>0</td>\n",
              "    </tr>\n",
              "    <tr>\n",
              "      <th>2016-04-28</th>\n",
              "      <td>38.62</td>\n",
              "      <td>2245100.0</td>\n",
              "      <td>36.11</td>\n",
              "      <td>-0.064992</td>\n",
              "      <td>0.037893</td>\n",
              "      <td>NaN</td>\n",
              "      <td>NaN</td>\n",
              "      <td>NaN</td>\n",
              "      <td>NaN</td>\n",
              "      <td>NaN</td>\n",
              "      <td>NaN</td>\n",
              "      <td>NaN</td>\n",
              "      <td>NaN</td>\n",
              "      <td>-0.122925</td>\n",
              "      <td>0.054708</td>\n",
              "      <td>0</td>\n",
              "      <td>0</td>\n",
              "      <td>1</td>\n",
              "      <td>0</td>\n",
              "    </tr>\n",
              "  </tbody>\n",
              "</table>\n",
              "</div>"
            ],
            "text/plain": [
              "            Adj_Close  Adj_Volume  ...  weekday_3  weekday_4\n",
              "Date                               ...                      \n",
              "2016-04-15      37.13   4293775.0  ...          0          1\n",
              "2016-04-18      36.90   3445852.0  ...          0          0\n",
              "2016-04-19      37.12   3748050.0  ...          0          0\n",
              "2016-04-20      37.77   2470384.0  ...          0          0\n",
              "2016-04-21      37.21   2043988.0  ...          1          0\n",
              "2016-04-22      37.40   2786757.0  ...          0          1\n",
              "2016-04-25      36.75   1830397.0  ...          0          0\n",
              "2016-04-26      37.25   2384800.0  ...          0          0\n",
              "2016-04-27      39.11   2559759.0  ...          0          0\n",
              "2016-04-28      38.62   2245100.0  ...          1          0\n",
              "\n",
              "[10 rows x 19 columns]"
            ]
          },
          "metadata": {
            "tags": []
          },
          "execution_count": 56
        }
      ]
    },
    {
      "cell_type": "code",
      "metadata": {
        "id": "ZMYbIx4jTG7E",
        "colab_type": "code",
        "colab": {}
      },
      "source": [
        "\n",
        "feature_names.extend(['weekday_' + str(i) for i in range(1,5)])"
      ],
      "execution_count": 0,
      "outputs": []
    },
    {
      "cell_type": "code",
      "metadata": {
        "id": "q6Oj4ho9X513",
        "colab_type": "code",
        "outputId": "fea7a20a-8d7d-4495-b749-73bc7ac9d3d8",
        "colab": {
          "base_uri": "https://localhost:8080/",
          "height": 35
        }
      },
      "source": [
        "lng3.dropna(inplace=True)\n",
        "lng3.shape"
      ],
      "execution_count": 58,
      "outputs": [
        {
          "output_type": "execute_result",
          "data": {
            "text/plain": [
              "(295, 19)"
            ]
          },
          "metadata": {
            "tags": []
          },
          "execution_count": 58
        }
      ]
    },
    {
      "cell_type": "markdown",
      "metadata": {
        "id": "KF3KgWJLYUG2",
        "colab_type": "text"
      },
      "source": [
        "## Examine Correlations of the New Features"
      ]
    },
    {
      "cell_type": "code",
      "metadata": {
        "id": "Tbc8CaD3YJgR",
        "colab_type": "code",
        "outputId": "4243e122-dbd0-4b00-917a-98eacdc541ef",
        "colab": {
          "base_uri": "https://localhost:8080/",
          "height": 297
        }
      },
      "source": [
        "new_features.extend(['weekday_' + str(i) for i in range(1,5)])\n",
        "sns.heatmap(lng3[new_features + ['5d_close_future_pct']].corr(), annot=True)\n",
        "plt.yticks(rotation=0)\n",
        "plt.xticks(rotation=90)\n",
        "plt.tight_layout()\n",
        "plt.show()"
      ],
      "execution_count": 59,
      "outputs": [
        {
          "output_type": "display_data",
          "data": {
            "image/png": "[encoded data removed]",
            "text/plain": [
              "<Figure size 432x288 with 2 Axes>"
            ]
          },
          "metadata": {
            "tags": []
          }
        }
      ]
    },
    {
      "cell_type": "markdown",
      "metadata": {
        "id": "1zfPA_fIAvym",
        "colab_type": "text"
      },
      "source": [
        "## Decision Trees"
      ]
    },
    {
      "cell_type": "code",
      "metadata": {
        "id": "gnykRn18bEAY",
        "colab_type": "code",
        "colab": {}
      },
      "source": [
        "from sklearn.tree import DecisionTreeRegressor"
      ],
      "execution_count": 0,
      "outputs": []
    },
    {
      "cell_type": "code",
      "metadata": {
        "id": "cxotR-Shei3y",
        "colab_type": "code",
        "outputId": "6caa42d1-b66c-4761-af9b-02fb1f0fcb4f",
        "colab": {
          "base_uri": "https://localhost:8080/",
          "height": 276
        }
      },
      "source": [
        "feature_names"
      ],
      "execution_count": 61,
      "outputs": [
        {
          "output_type": "execute_result",
          "data": {
            "text/plain": [
              "['5d_close_pct',\n",
              " 'ma14',\n",
              " 'rsi14',\n",
              " 'ma30',\n",
              " 'rsi30',\n",
              " 'ma50',\n",
              " 'rsi50',\n",
              " 'ma200',\n",
              " 'rsi200',\n",
              " 'Adj_Volume_1d_change',\n",
              " 'Adj_Volume_1d_change_SMA',\n",
              " 'weekday_1',\n",
              " 'weekday_2',\n",
              " 'weekday_3',\n",
              " 'weekday_4']"
            ]
          },
          "metadata": {
            "tags": []
          },
          "execution_count": 61
        }
      ]
    },
    {
      "cell_type": "code",
      "metadata": {
        "id": "9BaMpKZLdJs4",
        "colab_type": "code",
        "outputId": "4850527c-3a03-423c-aaf1-ca992c86731c",
        "colab": {
          "base_uri": "https://localhost:8080/",
          "height": 35
        }
      },
      "source": [
        "features = lng3[feature_names]\n",
        "train_size = int(0.85 * features.shape[0])\n",
        "train_features = features[:train_size]\n",
        "train_targets = targets[:train_size]\n",
        "test_features = features[train_size:]\n",
        "test_targets = targets[train_size:]\n",
        "train_features.shape"
      ],
      "execution_count": 62,
      "outputs": [
        {
          "output_type": "execute_result",
          "data": {
            "text/plain": [
              "(250, 15)"
            ]
          },
          "metadata": {
            "tags": []
          },
          "execution_count": 62
        }
      ]
    },
    {
      "cell_type": "code",
      "metadata": {
        "id": "eLefsClJfslP",
        "colab_type": "code",
        "outputId": "d76d2c34-c0ab-48f5-f523-b1e5db57959f",
        "colab": {
          "base_uri": "https://localhost:8080/",
          "height": 35
        }
      },
      "source": [
        "test_features.shape"
      ],
      "execution_count": 63,
      "outputs": [
        {
          "output_type": "execute_result",
          "data": {
            "text/plain": [
              "(45, 15)"
            ]
          },
          "metadata": {
            "tags": []
          },
          "execution_count": 63
        }
      ]
    },
    {
      "cell_type": "code",
      "metadata": {
        "id": "tf1VBk4ic5im",
        "colab_type": "code",
        "outputId": "5f22b0a2-d98e-41b7-b926-e2dd65a9b3c6",
        "colab": {
          "base_uri": "https://localhost:8080/",
          "height": 35
        }
      },
      "source": [
        "decision_tree = DecisionTreeRegressor()\n",
        "decision_tree.fit(train_features, train_targets)\n",
        "decision_tree.score(train_features, train_targets)\n"
      ],
      "execution_count": 64,
      "outputs": [
        {
          "output_type": "execute_result",
          "data": {
            "text/plain": [
              "0.9999958787531624"
            ]
          },
          "metadata": {
            "tags": []
          },
          "execution_count": 64
        }
      ]
    },
    {
      "cell_type": "code",
      "metadata": {
        "id": "QrInOYbqfNJi",
        "colab_type": "code",
        "outputId": "26a05801-c3df-4663-e0ed-738ed5ab99aa",
        "colab": {
          "base_uri": "https://localhost:8080/",
          "height": 35
        }
      },
      "source": [
        "decision_tree.score(test_features, test_targets)"
      ],
      "execution_count": 65,
      "outputs": [
        {
          "output_type": "execute_result",
          "data": {
            "text/plain": [
              "-1.6055268872766844"
            ]
          },
          "metadata": {
            "tags": []
          },
          "execution_count": 65
        }
      ]
    },
    {
      "cell_type": "code",
      "metadata": {
        "id": "PJbRsnfnfSBz",
        "colab_type": "code",
        "colab": {
          "base_uri": "https://localhost:8080/",
          "height": 225
        },
        "outputId": "1abb362a-30d9-44d2-a8be-a813ab54d61b"
      },
      "source": [
        "for d in [3, 5, 10]:\n",
        "  decision_tree = DecisionTreeRegressor(max_depth=d)\n",
        "  decision_tree.fit(train_features, train_targets)\n",
        "  print('max_depth=', str(d))\n",
        "  print(decision_tree.score(train_features, train_targets))\n",
        "  print(decision_tree.score(test_features, test_targets), '\\n')"
      ],
      "execution_count": 67,
      "outputs": [
        {
          "output_type": "stream",
          "text": [
            "max_depth= 3\n",
            "0.313332035717818\n",
            "-0.30706922103784007 \n",
            "\n",
            "max_depth= 5\n",
            "0.5117261722974892\n",
            "-0.8619890807162844 \n",
            "\n",
            "max_depth= 10\n",
            "0.8989880793409756\n",
            "-1.2988660441138804 \n",
            "\n"
          ],
          "name": "stdout"
        }
      ]
    },
    {
      "cell_type": "code",
      "metadata": {
        "id": "4sQ3TE5T93RE",
        "colab_type": "code",
        "colab": {
          "base_uri": "https://localhost:8080/",
          "height": 269
        },
        "outputId": "e1f903a4-1cc8-4721-f408-230e2536ddc1"
      },
      "source": [
        "decision_tree = DecisionTreeRegressor(max_depth=3)\n",
        "decision_tree.fit(train_features, train_targets)\n",
        "train_predictions = decision_tree.predict(train_features)\n",
        "test_predictions = decision_tree.predict(test_features)\n",
        "plt.scatter(train_predictions, train_targets, label='train')\n",
        "plt.scatter(test_predictions, test_targets, label='test')\n",
        "plt.legend(loc='lower right')\n",
        "plt.show()"
      ],
      "execution_count": 70,
      "outputs": [
        {
          "output_type": "display_data",
          "data": {
            "image/png": "[encoded data removed]",
            "text/plain": [
              "<Figure size 432x288 with 1 Axes>"
            ]
          },
          "metadata": {
            "tags": []
          }
        }
      ]
    },
    {
      "cell_type": "markdown",
      "metadata": {
        "id": "KobdjC3hA06N",
        "colab_type": "text"
      },
      "source": [
        "## Random Forests"
      ]
    },
    {
      "cell_type": "code",
      "metadata": {
        "id": "M6Cva7J--1SU",
        "colab_type": "code",
        "colab": {}
      },
      "source": [
        "from sklearn.ensemble import RandomForestRegressor"
      ],
      "execution_count": 0,
      "outputs": []
    },
    {
      "cell_type": "code",
      "metadata": {
        "id": "rW14HuLN__F4",
        "colab_type": "code",
        "colab": {
          "base_uri": "https://localhost:8080/",
          "height": 52
        },
        "outputId": "f9e964a5-57d7-444c-c21a-3eb223e6d31e"
      },
      "source": [
        "rfr = RandomForestRegressor(n_estimators=200)\n",
        "rfr.fit(train_features, train_targets)\n",
        "print(rfr.score(train_features, train_targets))\n",
        "print(rfr.score(test_features, test_targets))"
      ],
      "execution_count": 72,
      "outputs": [
        {
          "output_type": "stream",
          "text": [
            "0.900604621685412\n",
            "-0.1629570810105705\n"
          ],
          "name": "stdout"
        }
      ]
    },
    {
      "cell_type": "code",
      "metadata": {
        "id": "7gyy7qliBqeB",
        "colab_type": "code",
        "colab": {}
      },
      "source": [
        "from sklearn.model_selection import ParameterGrid"
      ],
      "execution_count": 0,
      "outputs": []
    },
    {
      "cell_type": "code",
      "metadata": {
        "id": "d8YVQHyqDfbe",
        "colab_type": "code",
        "colab": {
          "base_uri": "https://localhost:8080/",
          "height": 72
        },
        "outputId": "22de0c6c-d71f-48c0-a31f-e708593419a6"
      },
      "source": [
        "grid = {'n_estimators': [200], 'max_depth': [3], 'max_features': [4, 8], \n",
        "        'random_state': [42]}\n",
        "test_scores = []\n",
        "for g in ParameterGrid(grid):\n",
        "  rfr.set_params(**g)\n",
        "  rfr.fit(train_features, train_targets)\n",
        "  test_scores.append(rfr.score(test_features, test_targets))\n",
        "best_idx = np.argmax(test_scores)\n",
        "print(test_scores[best_idx]) \n",
        "print(ParameterGrid(grid)[best_idx])"
      ],
      "execution_count": 80,
      "outputs": [
        {
          "output_type": "stream",
          "text": [
            "0.0473317042742849\n",
            "{'random_state': 42, 'n_estimators': 200, 'max_features': 4, 'max_depth': 3}\n"
          ],
          "name": "stdout"
        }
      ]
    },
    {
      "cell_type": "code",
      "metadata": {
        "id": "C7-7I9e1EVxS",
        "colab_type": "code",
        "colab": {
          "base_uri": "https://localhost:8080/",
          "height": 269
        },
        "outputId": "ec0ee8e0-367b-4b14-e28e-3c4467f02311"
      },
      "source": [
        "rfr = RandomForestRegressor(n_estimators=200, max_depth=3, max_features=4, \n",
        "                            random_state=42)\n",
        "rfr.fit(train_features, train_targets)\n",
        "train_predictions = rfr.predict(train_features)\n",
        "test_predictions = rfr.predict(test_features)\n",
        "plt.scatter(train_targets, train_predictions, label='train')\n",
        "plt.scatter(test_targets, test_predictions, label='test')\n",
        "plt.legend(loc='lower right')\n",
        "plt.show()"
      ],
      "execution_count": 77,
      "outputs": [
        {
          "output_type": "display_data",
          "data": {
            "image/png": "[encoded data removed]",
            "text/plain": [
              "<Figure size 432x288 with 1 Axes>"
            ]
          },
          "metadata": {
            "tags": []
          }
        }
      ]
    },
    {
      "cell_type": "code",
      "metadata": {
        "id": "EEflkk2vEyvw",
        "colab_type": "code",
        "colab": {
          "base_uri": "https://localhost:8080/",
          "height": 404
        },
        "outputId": "2ca7200e-c532-451d-890d-8e1916a13155"
      },
      "source": [
        "importances = rfr.feature_importances_\n",
        "sorted_index = np.argsort(importances)[::-1]\n",
        "x = range(len(importances))\n",
        "labels = np.array(feature_names)[sorted_index]\n",
        "plt.bar(x, importances[sorted_index], tick_label=labels)\n",
        "plt.xticks(rotation=90)\n",
        "plt.show()"
      ],
      "execution_count": 78,
      "outputs": [
        {
          "output_type": "display_data",
          "data": {
            "image/png": "[encoded data removed]",
            "text/plain": [
              "<Figure size 432x288 with 1 Axes>"
            ]
          },
          "metadata": {
            "tags": []
          }
        }
      ]
    },
    {
      "cell_type": "markdown",
      "metadata": {
        "id": "VlvBdcBRNMgY",
        "colab_type": "text"
      },
      "source": [
        "## Gradient Bossting Regressor"
      ]
    },
    {
      "cell_type": "code",
      "metadata": {
        "id": "ESBfgH7YFumB",
        "colab_type": "code",
        "colab": {
          "base_uri": "https://localhost:8080/",
          "height": 52
        },
        "outputId": "d18347cc-4ea9-4823-c98f-1f7cc1c4f7d4"
      },
      "source": [
        "from sklearn.ensemble import GradientBoostingRegressor\n",
        "gbr = GradientBoostingRegressor(max_features=4, learning_rate=0.01, \n",
        "                                n_estimators=200, subsample=0.6, \n",
        "                                random_state=42)\n",
        "gbr.fit(train_features, train_targets)\n",
        "print(gbr.score(train_features, train_targets))\n",
        "print(gbr.score(test_features, test_targets))\n"
      ],
      "execution_count": 79,
      "outputs": [
        {
          "output_type": "stream",
          "text": [
            "0.40651878211821735\n",
            "0.03766678957150249\n"
          ],
          "name": "stdout"
        }
      ]
    },
    {
      "cell_type": "code",
      "metadata": {
        "id": "A4or2fQhHzda",
        "colab_type": "code",
        "colab": {
          "base_uri": "https://localhost:8080/",
          "height": 404
        },
        "outputId": "688e61a8-cf69-46c6-d48e-991eafa02ff6"
      },
      "source": [
        "feature_importances = gbr.feature_importances_\n",
        "sorted_index = np.argsort(feature_importances)[::-1]\n",
        "x = range(features.shape[1])\n",
        "labels = np.array(feature_names)[sorted_index]\n",
        "plt.bar(x, feature_importances[sorted_index], tick_label=labels)\n",
        "plt.xticks(rotation=90)\n",
        "plt.show()"
      ],
      "execution_count": 81,
      "outputs": [
        {
          "output_type": "display_data",
          "data": {
            "image/png": "[encoded data removed]",
            "text/plain": [
              "<Figure size 432x288 with 1 Axes>"
            ]
          },
          "metadata": {
            "tags": []
          }
        }
      ]
    },
    {
      "cell_type": "markdown",
      "metadata": {
        "id": "afrUEvKgNTEZ",
        "colab_type": "text"
      },
      "source": [
        "## K-Nearest Neighbors"
      ]
    },
    {
      "cell_type": "code",
      "metadata": {
        "id": "grzn-ksmJDMi",
        "colab_type": "code",
        "colab": {}
      },
      "source": [
        "from sklearn.preprocessing import scale"
      ],
      "execution_count": 0,
      "outputs": []
    },
    {
      "cell_type": "code",
      "metadata": {
        "id": "bD94a4cDJVJ_",
        "colab_type": "code",
        "colab": {}
      },
      "source": [
        "train_features = train_features.iloc[:, :-4]\n",
        "test_features = test_features.iloc[:, :-4]\n",
        "scaled_train_features = scale(train_features)\n",
        "scaled_test_features = scale(test_features)"
      ],
      "execution_count": 0,
      "outputs": []
    },
    {
      "cell_type": "code",
      "metadata": {
        "id": "eQNvjS4OJqcG",
        "colab_type": "code",
        "colab": {
          "base_uri": "https://localhost:8080/",
          "height": 269
        },
        "outputId": "ea155489-8c90-41b2-d135-99bd0ce68e57"
      },
      "source": [
        "f, ax = plt.subplots(nrows=1, ncols=2)\n",
        "train_features.iloc[:, 2].hist(ax=ax[0])\n",
        "ax[1].hist(scaled_train_features[:, 2])\n",
        "plt.show()"
      ],
      "execution_count": 86,
      "outputs": [
        {
          "output_type": "display_data",
          "data": {
            "image/png": "[encoded data removed]",
            "text/plain": [
              "<Figure size 432x288 with 2 Axes>"
            ]
          },
          "metadata": {
            "tags": []
          }
        }
      ]
    },
    {
      "cell_type": "code",
      "metadata": {
        "id": "WZMqa99nJ5_3",
        "colab_type": "code",
        "colab": {}
      },
      "source": [
        "from sklearn.neighbors import KNeighborsRegressor"
      ],
      "execution_count": 0,
      "outputs": []
    },
    {
      "cell_type": "code",
      "metadata": {
        "id": "u91Dbsj8KKzQ",
        "colab_type": "code",
        "colab": {
          "base_uri": "https://localhost:8080/",
          "height": 967
        },
        "outputId": "e1c170a1-611a-4da1-83dc-381ec5c92a96"
      },
      "source": [
        "for n in range(2, 13):\n",
        "  knn = KNeighborsRegressor(n_neighbors=n)\n",
        "  knn.fit(scaled_train_features, train_targets)\n",
        "  print('n_neighbors =', n)\n",
        "  print('train score ', knn.score(scaled_train_features, train_targets))\n",
        "  print('test score ', knn.score(scaled_test_features, test_targets))\n",
        "  print('\\n')"
      ],
      "execution_count": 88,
      "outputs": [
        {
          "output_type": "stream",
          "text": [
            "n_neighbors = 2\n",
            "train score  0.7086590518110245\n",
            "test score  -0.24570512723742513\n",
            "\n",
            "\n",
            "n_neighbors = 3\n",
            "train score  0.6161299695003466\n",
            "test score  -0.028247987527901145\n",
            "\n",
            "\n",
            "n_neighbors = 4\n",
            "train score  0.5698590844708642\n",
            "test score  0.054069637288982064\n",
            "\n",
            "\n",
            "n_neighbors = 5\n",
            "train score  0.5306669823361658\n",
            "test score  0.09562673296186885\n",
            "\n",
            "\n",
            "n_neighbors = 6\n",
            "train score  0.4924157634083257\n",
            "test score  0.06493624818165344\n",
            "\n",
            "\n",
            "n_neighbors = 7\n",
            "train score  0.4638477451246331\n",
            "test score  0.018590670460287284\n",
            "\n",
            "\n",
            "n_neighbors = 8\n",
            "train score  0.4305841272960338\n",
            "test score  0.03430514088288383\n",
            "\n",
            "\n",
            "n_neighbors = 9\n",
            "train score  0.39035273655318137\n",
            "test score  -0.054993685932298586\n",
            "\n",
            "\n",
            "n_neighbors = 10\n",
            "train score  0.3585431044577594\n",
            "test score  -0.04569165134882858\n",
            "\n",
            "\n",
            "n_neighbors = 11\n",
            "train score  0.3100220686973306\n",
            "test score  -0.08074815512838707\n",
            "\n",
            "\n",
            "n_neighbors = 12\n",
            "train score  0.2742940406863563\n",
            "test score  -0.07302787030122504\n",
            "\n",
            "\n"
          ],
          "name": "stdout"
        }
      ]
    },
    {
      "cell_type": "code",
      "metadata": {
        "id": "SoqWUjGFKtyG",
        "colab_type": "code",
        "colab": {}
      },
      "source": [
        "knn = KNeighborsRegressor(n_neighbors=5)\n",
        "knn.fit(scaled_train_features, train_targets)\n",
        "train_predictions = knn.predict(scaled_train_features)\n",
        "test_predictions = knn.predict(scaled_test_features)"
      ],
      "execution_count": 0,
      "outputs": []
    },
    {
      "cell_type": "code",
      "metadata": {
        "id": "kxgvPa-lLTRO",
        "colab_type": "code",
        "colab": {
          "base_uri": "https://localhost:8080/",
          "height": 269
        },
        "outputId": "17df9d73-fe0c-4cd5-d34c-b589bdc9bc2d"
      },
      "source": [
        "plt.scatter(train_predictions, train_targets, label='train')\n",
        "plt.scatter(test_predictions, test_targets, label='test')\n",
        "plt.legend(loc='lower right')\n",
        "plt.show()"
      ],
      "execution_count": 91,
      "outputs": [
        {
          "output_type": "display_data",
          "data": {
            "image/png": "[encoded data removed]",
            "text/plain": [
              "<Figure size 432x288 with 1 Axes>"
            ]
          },
          "metadata": {
            "tags": []
          }
        }
      ]
    },
    {
      "cell_type": "markdown",
      "metadata": {
        "id": "TAfgAArdNf3D",
        "colab_type": "text"
      },
      "source": [
        "## Deep Learning"
      ]
    },
    {
      "cell_type": "code",
      "metadata": {
        "id": "_5zN3jOcLg__",
        "colab_type": "code",
        "colab": {
          "base_uri": "https://localhost:8080/",
          "height": 1000
        },
        "outputId": "9607bda4-0f02-4a57-a342-2af3f47e6495"
      },
      "source": [
        "from keras.models import Sequential\n",
        "from keras.layers import Dense\n",
        "\n",
        "model_1 = Sequential()\n",
        "model_1.add(Dense(100, input_dim=scaled_train_features.shape[1], \n",
        "                  activation='relu'))\n",
        "model_1.add(Dense(20, activation='relu'))\n",
        "model_1.add(Dense(1, activation='linear'))\n",
        "model_1.compile(optimizer='adam', loss='mse')\n",
        "history = model_1.fit(scaled_train_features, train_targets, epochs=25)"
      ],
      "execution_count": 92,
      "outputs": [
        {
          "output_type": "stream",
          "text": [
            "WARNING:tensorflow:From /usr/local/lib/python3.6/dist-packages/keras/backend/tensorflow_backend.py:66: The name tf.get_default_graph is deprecated. Please use tf.compat.v1.get_default_graph instead.\n",
            "\n",
            "WARNING:tensorflow:From /usr/local/lib/python3.6/dist-packages/keras/backend/tensorflow_backend.py:541: The name tf.placeholder is deprecated. Please use tf.compat.v1.placeholder instead.\n",
            "\n",
            "WARNING:tensorflow:From /usr/local/lib/python3.6/dist-packages/keras/backend/tensorflow_backend.py:4432: The name tf.random_uniform is deprecated. Please use tf.random.uniform instead.\n",
            "\n",
            "WARNING:tensorflow:From /usr/local/lib/python3.6/dist-packages/keras/optimizers.py:793: The name tf.train.Optimizer is deprecated. Please use tf.compat.v1.train.Optimizer instead.\n",
            "\n",
            "WARNING:tensorflow:From /usr/local/lib/python3.6/dist-packages/keras/backend/tensorflow_backend.py:1033: The name tf.assign_add is deprecated. Please use tf.compat.v1.assign_add instead.\n",
            "\n",
            "WARNING:tensorflow:From /usr/local/lib/python3.6/dist-packages/keras/backend/tensorflow_backend.py:1020: The name tf.assign is deprecated. Please use tf.compat.v1.assign instead.\n",
            "\n",
            "Epoch 1/25\n",
            "250/250 [==============================] - 4s 17ms/step - loss: 0.0207\n",
            "Epoch 2/25\n",
            "250/250 [==============================] - 0s 138us/step - loss: 0.0064\n",
            "Epoch 3/25\n",
            "250/250 [==============================] - 0s 132us/step - loss: 0.0047\n",
            "Epoch 4/25\n",
            "250/250 [==============================] - 0s 143us/step - loss: 0.0029\n",
            "Epoch 5/25\n",
            "250/250 [==============================] - 0s 134us/step - loss: 0.0019\n",
            "Epoch 6/25\n",
            "250/250 [==============================] - 0s 147us/step - loss: 0.0017\n",
            "Epoch 7/25\n",
            "250/250 [==============================] - 0s 133us/step - loss: 0.0013\n",
            "Epoch 8/25\n",
            "250/250 [==============================] - 0s 135us/step - loss: 0.0011\n",
            "Epoch 9/25\n",
            "250/250 [==============================] - 0s 145us/step - loss: 0.0010\n",
            "Epoch 10/25\n",
            "250/250 [==============================] - 0s 133us/step - loss: 9.8484e-04\n",
            "Epoch 11/25\n",
            "250/250 [==============================] - 0s 136us/step - loss: 9.2120e-04\n",
            "Epoch 12/25\n",
            "250/250 [==============================] - 0s 139us/step - loss: 9.9506e-04\n",
            "Epoch 13/25\n",
            "250/250 [==============================] - 0s 135us/step - loss: 8.0979e-04\n",
            "Epoch 14/25\n",
            "250/250 [==============================] - 0s 134us/step - loss: 7.9339e-04\n",
            "Epoch 15/25\n",
            "250/250 [==============================] - 0s 132us/step - loss: 7.5995e-04\n",
            "Epoch 16/25\n",
            "250/250 [==============================] - 0s 129us/step - loss: 8.5640e-04\n",
            "Epoch 17/25\n",
            "250/250 [==============================] - 0s 137us/step - loss: 6.8090e-04\n",
            "Epoch 18/25\n",
            "250/250 [==============================] - 0s 128us/step - loss: 6.8905e-04\n",
            "Epoch 19/25\n",
            "250/250 [==============================] - 0s 136us/step - loss: 5.7737e-04\n",
            "Epoch 20/25\n",
            "250/250 [==============================] - 0s 126us/step - loss: 5.6303e-04\n",
            "Epoch 21/25\n",
            "250/250 [==============================] - 0s 130us/step - loss: 5.1818e-04\n",
            "Epoch 22/25\n",
            "250/250 [==============================] - 0s 135us/step - loss: 4.6816e-04\n",
            "Epoch 23/25\n",
            "250/250 [==============================] - 0s 123us/step - loss: 4.7175e-04\n",
            "Epoch 24/25\n",
            "250/250 [==============================] - 0s 132us/step - loss: 5.1386e-04\n",
            "Epoch 25/25\n",
            "250/250 [==============================] - 0s 130us/step - loss: 4.6437e-04\n"
          ],
          "name": "stdout"
        }
      ]
    },
    {
      "cell_type": "code",
      "metadata": {
        "id": "FL11-2vZMYcG",
        "colab_type": "code",
        "colab": {
          "base_uri": "https://localhost:8080/",
          "height": 281
        },
        "outputId": "111af822-23d0-4173-8b87-c12b37314403"
      },
      "source": [
        "plt.plot(history.history['loss'])\n",
        "plt.title('loss: ' + str(round(history.history['loss'][-1], 6)))\n",
        "plt.show()"
      ],
      "execution_count": 93,
      "outputs": [
        {
          "output_type": "display_data",
          "data": {
            "image/png": "[encoded data removed]",
            "text/plain": [
              "<Figure size 432x288 with 1 Axes>"
            ]
          },
          "metadata": {
            "tags": []
          }
        }
      ]
    },
    {
      "cell_type": "code",
      "metadata": {
        "id": "aLUFd8cyM3h_",
        "colab_type": "code",
        "colab": {}
      },
      "source": [
        "from sklearn.metrics import r2_score"
      ],
      "execution_count": 0,
      "outputs": []
    },
    {
      "cell_type": "code",
      "metadata": {
        "id": "3UziJ65RNr73",
        "colab_type": "code",
        "colab": {
          "base_uri": "https://localhost:8080/",
          "height": 52
        },
        "outputId": "6c072660-9529-4084-ae91-8b05a963fe0f"
      },
      "source": [
        "train_predictions = model_1.predict(scaled_train_features)\n",
        "test_predictions = model_1.predict(scaled_test_features)\n",
        "print(r2_score(train_targets, train_predictions))\n",
        "print(r2_score(test_targets, test_predictions))"
      ],
      "execution_count": 96,
      "outputs": [
        {
          "output_type": "stream",
          "text": [
            "0.6186125126448274\n",
            "-0.3978083206988965\n"
          ],
          "name": "stdout"
        }
      ]
    },
    {
      "cell_type": "code",
      "metadata": {
        "id": "tkrMtAUuN_eI",
        "colab_type": "code",
        "colab": {
          "base_uri": "https://localhost:8080/",
          "height": 269
        },
        "outputId": "bceda853-5824-464f-a631-95b8d5404fbb"
      },
      "source": [
        "plt.scatter(train_predictions, train_targets, label='train')\n",
        "plt.scatter(test_predictions, test_targets, label='test')\n",
        "plt.legend(loc='lower right')\n",
        "plt.show()"
      ],
      "execution_count": 97,
      "outputs": [
        {
          "output_type": "display_data",
          "data": {
            "image/png": "[encoded data removed]",
            "text/plain": [
              "<Figure size 432x288 with 1 Axes>"
            ]
          },
          "metadata": {
            "tags": []
          }
        }
      ]
    },
    {
      "cell_type": "markdown",
      "metadata": {
        "id": "3E_I7I3yRS3f",
        "colab_type": "text"
      },
      "source": [
        "## Custom Loss Function"
      ]
    },
    {
      "cell_type": "code",
      "metadata": {
        "id": "AQPv00XtQ4uE",
        "colab_type": "code",
        "colab": {}
      },
      "source": [
        "import keras.losses\n",
        "import tensorflow as tf"
      ],
      "execution_count": 0,
      "outputs": []
    },
    {
      "cell_type": "code",
      "metadata": {
        "id": "TDO2nJZlRZjG",
        "colab_type": "code",
        "colab": {}
      },
      "source": [
        "def sign_penalty(y_true, y_pred):\n",
        "  penalty = 100.0\n",
        "  loss = tf.where(tf.less(y_true * y_pred, 0), \n",
        "                  penalty * tf.square(y_true - y_pred), \n",
        "                  tf.square(y_true - y_pred))\n",
        "  return tf.reduce_mean(loss, axis=-1)\n",
        "\n",
        "keras.losses.sign_penalty = sign_penalty\n"
      ],
      "execution_count": 0,
      "outputs": []
    },
    {
      "cell_type": "code",
      "metadata": {
        "id": "bzLJKD1uSPdQ",
        "colab_type": "code",
        "colab": {
          "base_uri": "https://localhost:8080/",
          "height": 953
        },
        "outputId": "92bc4cb8-686d-4c19-c607-40b9f5e5b9a6"
      },
      "source": [
        "model_2 = Sequential()\n",
        "model_2.add(Dense(100, input_dim=scaled_train_features.shape[1], \n",
        "                  activation='relu'))\n",
        "model_2.add(Dense(20, activation='relu'))\n",
        "model_2.add(Dense(1, activation='linear'))\n",
        "\n",
        "model_2.compile(optimizer='adam', loss=sign_penalty)\n",
        "history = model_2.fit(scaled_train_features, train_targets, epochs=25)"
      ],
      "execution_count": 101,
      "outputs": [
        {
          "output_type": "stream",
          "text": [
            "WARNING:tensorflow:From <ipython-input-100-b3fea902d44a>:5: add_dispatch_support.<locals>.wrapper (from tensorflow.python.ops.array_ops) is deprecated and will be removed in a future version.\n",
            "Instructions for updating:\n",
            "Use tf.where in 2.0, which has the same broadcast rule as np.where\n",
            "Epoch 1/25\n",
            "250/250 [==============================] - 0s 1ms/step - loss: 5.2356\n",
            "Epoch 2/25\n",
            "250/250 [==============================] - 0s 144us/step - loss: 3.0037\n",
            "Epoch 3/25\n",
            "250/250 [==============================] - 0s 139us/step - loss: 0.8038\n",
            "Epoch 4/25\n",
            "250/250 [==============================] - 0s 134us/step - loss: 0.6626\n",
            "Epoch 5/25\n",
            "250/250 [==============================] - 0s 138us/step - loss: 0.3712\n",
            "Epoch 6/25\n",
            "250/250 [==============================] - 0s 137us/step - loss: 0.2964\n",
            "Epoch 7/25\n",
            "250/250 [==============================] - 0s 140us/step - loss: 0.2265\n",
            "Epoch 8/25\n",
            "250/250 [==============================] - 0s 138us/step - loss: 0.1838\n",
            "Epoch 9/25\n",
            "250/250 [==============================] - 0s 133us/step - loss: 0.1542\n",
            "Epoch 10/25\n",
            "250/250 [==============================] - 0s 175us/step - loss: 0.1317\n",
            "Epoch 11/25\n",
            "250/250 [==============================] - 0s 137us/step - loss: 0.1176\n",
            "Epoch 12/25\n",
            "250/250 [==============================] - 0s 130us/step - loss: 0.1034\n",
            "Epoch 13/25\n",
            "250/250 [==============================] - 0s 135us/step - loss: 0.1000\n",
            "Epoch 14/25\n",
            "250/250 [==============================] - 0s 146us/step - loss: 0.0921\n",
            "Epoch 15/25\n",
            "250/250 [==============================] - 0s 133us/step - loss: 0.0868\n",
            "Epoch 16/25\n",
            "250/250 [==============================] - 0s 141us/step - loss: 0.0718\n",
            "Epoch 17/25\n",
            "250/250 [==============================] - 0s 144us/step - loss: 0.0642\n",
            "Epoch 18/25\n",
            "250/250 [==============================] - 0s 146us/step - loss: 0.0717\n",
            "Epoch 19/25\n",
            "250/250 [==============================] - 0s 153us/step - loss: 0.0563\n",
            "Epoch 20/25\n",
            "250/250 [==============================] - 0s 138us/step - loss: 0.0490\n",
            "Epoch 21/25\n",
            "250/250 [==============================] - 0s 143us/step - loss: 0.0473\n",
            "Epoch 22/25\n",
            "250/250 [==============================] - 0s 151us/step - loss: 0.0442\n",
            "Epoch 23/25\n",
            "250/250 [==============================] - 0s 136us/step - loss: 0.0375\n",
            "Epoch 24/25\n",
            "250/250 [==============================] - 0s 136us/step - loss: 0.0377\n",
            "Epoch 25/25\n",
            "250/250 [==============================] - 0s 144us/step - loss: 0.0352\n"
          ],
          "name": "stdout"
        }
      ]
    },
    {
      "cell_type": "code",
      "metadata": {
        "id": "1LTogdtEUZpY",
        "colab_type": "code",
        "colab": {
          "base_uri": "https://localhost:8080/",
          "height": 281
        },
        "outputId": "c3481fa4-9312-441e-c20a-f02d2875a557"
      },
      "source": [
        "plt.plot(history.history['loss'])\n",
        "plt.title('loss: ' + str(round(history.history['loss'][-1], 6)))\n",
        "plt.show()"
      ],
      "execution_count": 102,
      "outputs": [
        {
          "output_type": "display_data",
          "data": {
            "image/png": "[encoded data removed]",
            "text/plain": [
              "<Figure size 432x288 with 1 Axes>"
            ]
          },
          "metadata": {
            "tags": []
          }
        }
      ]
    },
    {
      "cell_type": "code",
      "metadata": {
        "id": "eO8nmDOMUkUv",
        "colab_type": "code",
        "colab": {
          "base_uri": "https://localhost:8080/",
          "height": 52
        },
        "outputId": "f5de78c7-646e-43ae-b505-08137f2171ab"
      },
      "source": [
        "train_predictions = model_2.predict(scaled_train_features)\n",
        "test_predictions = model_2.predict(scaled_test_features)\n",
        "print(r2_score(train_targets, train_predictions))\n",
        "print(r2_score(test_targets, test_predictions))"
      ],
      "execution_count": 104,
      "outputs": [
        {
          "output_type": "stream",
          "text": [
            "-1.203510348223578\n",
            "-1.7088267614074284\n"
          ],
          "name": "stdout"
        }
      ]
    },
    {
      "cell_type": "code",
      "metadata": {
        "id": "9g1835yJUtvI",
        "colab_type": "code",
        "colab": {
          "base_uri": "https://localhost:8080/",
          "height": 269
        },
        "outputId": "ded3269e-65cc-496f-b22c-ddfc8200db17"
      },
      "source": [
        "plt.scatter(train_predictions, train_targets, label='train')\n",
        "plt.scatter(test_predictions, test_targets, label='test')\n",
        "plt.legend(loc='lower right')\n",
        "plt.show()"
      ],
      "execution_count": 105,
      "outputs": [
        {
          "output_type": "display_data",
          "data": {
            "image/png": "[encoded data removed]",
            "text/plain": [
              "<Figure size 432x288 with 1 Axes>"
            ]
          },
          "metadata": {
            "tags": []
          }
        }
      ]
    },
    {
      "cell_type": "markdown",
      "metadata": {
        "id": "YuTnalFnWyfA",
        "colab_type": "text"
      },
      "source": [
        "## Overfitting"
      ]
    },
    {
      "cell_type": "code",
      "metadata": {
        "id": "CM_n6sm4UzqH",
        "colab_type": "code",
        "colab": {}
      },
      "source": [
        "from keras.layers import Dropout"
      ],
      "execution_count": 0,
      "outputs": []
    },
    {
      "cell_type": "code",
      "metadata": {
        "id": "LHiLfbGkW2pZ",
        "colab_type": "code",
        "colab": {
          "base_uri": "https://localhost:8080/",
          "height": 953
        },
        "outputId": "3eb1df69-1770-4d12-a321-adfa173af7a7"
      },
      "source": [
        "model_3 = Sequential()\n",
        "model_3.add(Dense(100, input_dim=scaled_train_features.shape[1], \n",
        "                  activation='relu'))\n",
        "model_3.add(Dropout(rate=0.2))\n",
        "model_3.add(Dense(20, activation='relu'))\n",
        "model_3.add(Dense(1, activation='linear'))\n",
        "\n",
        "model_3.compile(optimizer='adam', loss='mse')\n",
        "history = model_3.fit(scaled_train_features, train_targets, epochs=25)"
      ],
      "execution_count": 107,
      "outputs": [
        {
          "output_type": "stream",
          "text": [
            "WARNING:tensorflow:From /usr/local/lib/python3.6/dist-packages/keras/backend/tensorflow_backend.py:3733: calling dropout (from tensorflow.python.ops.nn_ops) with keep_prob is deprecated and will be removed in a future version.\n",
            "Instructions for updating:\n",
            "Please use `rate` instead of `keep_prob`. Rate should be set to `rate = 1 - keep_prob`.\n",
            "Epoch 1/25\n",
            "250/250 [==============================] - 0s 1ms/step - loss: 0.0352\n",
            "Epoch 2/25\n",
            "250/250 [==============================] - 0s 148us/step - loss: 0.0135\n",
            "Epoch 3/25\n",
            "250/250 [==============================] - 0s 136us/step - loss: 0.0098\n",
            "Epoch 4/25\n",
            "250/250 [==============================] - 0s 136us/step - loss: 0.0085\n",
            "Epoch 5/25\n",
            "250/250 [==============================] - 0s 145us/step - loss: 0.0089\n",
            "Epoch 6/25\n",
            "250/250 [==============================] - 0s 131us/step - loss: 0.0071\n",
            "Epoch 7/25\n",
            "250/250 [==============================] - 0s 133us/step - loss: 0.0055\n",
            "Epoch 8/25\n",
            "250/250 [==============================] - 0s 168us/step - loss: 0.0067\n",
            "Epoch 9/25\n",
            "250/250 [==============================] - 0s 145us/step - loss: 0.0064\n",
            "Epoch 10/25\n",
            "250/250 [==============================] - 0s 158us/step - loss: 0.0043\n",
            "Epoch 11/25\n",
            "250/250 [==============================] - 0s 133us/step - loss: 0.0045\n",
            "Epoch 12/25\n",
            "250/250 [==============================] - 0s 138us/step - loss: 0.0037\n",
            "Epoch 13/25\n",
            "250/250 [==============================] - 0s 146us/step - loss: 0.0031\n",
            "Epoch 14/25\n",
            "250/250 [==============================] - 0s 140us/step - loss: 0.0027\n",
            "Epoch 15/25\n",
            "250/250 [==============================] - 0s 144us/step - loss: 0.0033\n",
            "Epoch 16/25\n",
            "250/250 [==============================] - 0s 133us/step - loss: 0.0032\n",
            "Epoch 17/25\n",
            "250/250 [==============================] - 0s 138us/step - loss: 0.0026\n",
            "Epoch 18/25\n",
            "250/250 [==============================] - 0s 148us/step - loss: 0.0026\n",
            "Epoch 19/25\n",
            "250/250 [==============================] - 0s 155us/step - loss: 0.0027\n",
            "Epoch 20/25\n",
            "250/250 [==============================] - 0s 157us/step - loss: 0.0027\n",
            "Epoch 21/25\n",
            "250/250 [==============================] - 0s 171us/step - loss: 0.0024\n",
            "Epoch 22/25\n",
            "250/250 [==============================] - 0s 191us/step - loss: 0.0021\n",
            "Epoch 23/25\n",
            "250/250 [==============================] - 0s 142us/step - loss: 0.0020\n",
            "Epoch 24/25\n",
            "250/250 [==============================] - 0s 147us/step - loss: 0.0022\n",
            "Epoch 25/25\n",
            "250/250 [==============================] - 0s 142us/step - loss: 0.0021\n"
          ],
          "name": "stdout"
        }
      ]
    },
    {
      "cell_type": "code",
      "metadata": {
        "id": "COixyptyXkUa",
        "colab_type": "code",
        "colab": {
          "base_uri": "https://localhost:8080/",
          "height": 281
        },
        "outputId": "6c5041a7-00ff-4334-e70e-e552267fc9a4"
      },
      "source": [
        "plt.plot(history.history['loss'])\n",
        "plt.title('loss: ' + str(round(history.history['loss'][-1], 6)))\n",
        "plt.show()"
      ],
      "execution_count": 108,
      "outputs": [
        {
          "output_type": "display_data",
          "data": {
            "image/png": "[encoded data removed]",
            "text/plain": [
              "<Figure size 432x288 with 1 Axes>"
            ]
          },
          "metadata": {
            "tags": []
          }
        }
      ]
    },
    {
      "cell_type": "code",
      "metadata": {
        "id": "Co1ZxOMWXy9m",
        "colab_type": "code",
        "colab": {}
      },
      "source": [
        "train_pred1 = model_1.predict(scaled_train_features)\n",
        "test_pred1 = model_1.predict(scaled_test_features)\n",
        "\n",
        "train_pred2 = model_2.predict(scaled_train_features)\n",
        "test_pred2 = model_2.predict(scaled_test_features)\n",
        "\n",
        "train_pred3 = model_3.predict(scaled_train_features)\n",
        "test_pred3 = model_3.predict(scaled_test_features)\n",
        "\n",
        "train_preds = np.mean(np.hstack((train_pred1, train_pred2, train_pred3)), axis=1)\n",
        "test_preds = np.mean(np.hstack((test_pred1, test_pred2, test_pred3)), axis=1)"
      ],
      "execution_count": 0,
      "outputs": []
    },
    {
      "cell_type": "code",
      "metadata": {
        "id": "EzE_gZAmYKG6",
        "colab_type": "code",
        "colab": {
          "base_uri": "https://localhost:8080/",
          "height": 52
        },
        "outputId": "857c8b20-cd14-41e9-cdce-b4096b6c2bad"
      },
      "source": [
        "print(r2_score(train_targets, train_preds))\n",
        "print(r2_score(test_targets, test_preds))"
      ],
      "execution_count": 111,
      "outputs": [
        {
          "output_type": "stream",
          "text": [
            "0.44673928652143724\n",
            "-0.1308448870704133\n"
          ],
          "name": "stdout"
        }
      ]
    },
    {
      "cell_type": "code",
      "metadata": {
        "id": "acQFJY1EYftO",
        "colab_type": "code",
        "colab": {
          "base_uri": "https://localhost:8080/",
          "height": 269
        },
        "outputId": "0bc67586-e992-4b93-d686-e8c01583d122"
      },
      "source": [
        "plt.scatter(train_preds, train_targets, label='train')\n",
        "plt.scatter(test_preds, test_targets, label='test')\n",
        "plt.legend(loc='lower right') \n",
        "plt.show()"
      ],
      "execution_count": 112,
      "outputs": [
        {
          "output_type": "display_data",
          "data": {
            "image/png": "[encoded data removed]",
            "text/plain": [
              "<Figure size 432x288 with 1 Axes>"
            ]
          },
          "metadata": {
            "tags": []
          }
        }
      ]
    },
    {
      "cell_type": "markdown",
      "metadata": {
        "id": "QU9iKA8RsSVQ",
        "colab_type": "text"
      },
      "source": [
        "# Modern Portfolio Theory"
      ]
    },
    {
      "cell_type": "code",
      "metadata": {
        "id": "kuRedEH7dLJC",
        "colab_type": "code",
        "colab": {
          "base_uri": "https://localhost:8080/",
          "height": 421
        },
        "outputId": "826f7d2d-c13b-4ddd-fcb8-9a4493f354b4"
      },
      "source": [
        "aapl = pd.read_csv('AAPL.csv', index_col=0, parse_dates=True)\n",
        "aapl.head()"
      ],
      "execution_count": 118,
      "outputs": [
        {
          "output_type": "execute_result",
          "data": {
            "text/html": [
              "<div>\n",
              "<style scoped>\n",
              "    .dataframe tbody tr th:only-of-type {\n",
              "        vertical-align: middle;\n",
              "    }\n",
              "\n",
              "    .dataframe tbody tr th {\n",
              "        vertical-align: top;\n",
              "    }\n",
              "\n",
              "    .dataframe thead th {\n",
              "        text-align: right;\n",
              "    }\n",
              "</style>\n",
              "<table border=\"1\" class=\"dataframe\">\n",
              "  <thead>\n",
              "    <tr style=\"text-align: right;\">\n",
              "      <th></th>\n",
              "      <th>Open</th>\n",
              "      <th>High</th>\n",
              "      <th>Low</th>\n",
              "      <th>Close</th>\n",
              "      <th>Volume</th>\n",
              "      <th>Dividend</th>\n",
              "      <th>Split</th>\n",
              "      <th>Adj_Open</th>\n",
              "      <th>Adj_High</th>\n",
              "      <th>Adj_Low</th>\n",
              "      <th>Adj_Close</th>\n",
              "      <th>Adj_Volume</th>\n",
              "    </tr>\n",
              "    <tr>\n",
              "      <th>Date</th>\n",
              "      <th></th>\n",
              "      <th></th>\n",
              "      <th></th>\n",
              "      <th></th>\n",
              "      <th></th>\n",
              "      <th></th>\n",
              "      <th></th>\n",
              "      <th></th>\n",
              "      <th></th>\n",
              "      <th></th>\n",
              "      <th></th>\n",
              "      <th></th>\n",
              "    </tr>\n",
              "  </thead>\n",
              "  <tbody>\n",
              "    <tr>\n",
              "      <th>2011-10-04</th>\n",
              "      <td>374.57</td>\n",
              "      <td>381.80</td>\n",
              "      <td>354.2400</td>\n",
              "      <td>372.50</td>\n",
              "      <td>44059900.0</td>\n",
              "      <td>0.0</td>\n",
              "      <td>1.0</td>\n",
              "      <td>47.964530</td>\n",
              "      <td>48.890347</td>\n",
              "      <td>45.361228</td>\n",
              "      <td>47.699462</td>\n",
              "      <td>308419300.0</td>\n",
              "    </tr>\n",
              "    <tr>\n",
              "      <th>2011-10-05</th>\n",
              "      <td>367.86</td>\n",
              "      <td>379.82</td>\n",
              "      <td>360.3000</td>\n",
              "      <td>378.25</td>\n",
              "      <td>28088200.0</td>\n",
              "      <td>0.0</td>\n",
              "      <td>1.0</td>\n",
              "      <td>47.105299</td>\n",
              "      <td>48.636804</td>\n",
              "      <td>46.137224</td>\n",
              "      <td>48.435762</td>\n",
              "      <td>196617400.0</td>\n",
              "    </tr>\n",
              "    <tr>\n",
              "      <th>2011-10-06</th>\n",
              "      <td>373.33</td>\n",
              "      <td>384.78</td>\n",
              "      <td>371.8045</td>\n",
              "      <td>377.37</td>\n",
              "      <td>29020800.0</td>\n",
              "      <td>0.0</td>\n",
              "      <td>1.0</td>\n",
              "      <td>47.805745</td>\n",
              "      <td>49.271943</td>\n",
              "      <td>47.610401</td>\n",
              "      <td>48.323076</td>\n",
              "      <td>203145600.0</td>\n",
              "    </tr>\n",
              "    <tr>\n",
              "      <th>2011-10-07</th>\n",
              "      <td>375.78</td>\n",
              "      <td>377.74</td>\n",
              "      <td>368.4890</td>\n",
              "      <td>369.80</td>\n",
              "      <td>19123500.0</td>\n",
              "      <td>0.0</td>\n",
              "      <td>1.0</td>\n",
              "      <td>48.119473</td>\n",
              "      <td>48.370455</td>\n",
              "      <td>47.185844</td>\n",
              "      <td>47.353721</td>\n",
              "      <td>133864500.0</td>\n",
              "    </tr>\n",
              "    <tr>\n",
              "      <th>2011-10-10</th>\n",
              "      <td>379.09</td>\n",
              "      <td>388.81</td>\n",
              "      <td>378.2100</td>\n",
              "      <td>388.81</td>\n",
              "      <td>15804100.0</td>\n",
              "      <td>0.0</td>\n",
              "      <td>1.0</td>\n",
              "      <td>48.543326</td>\n",
              "      <td>49.787994</td>\n",
              "      <td>48.430640</td>\n",
              "      <td>49.787994</td>\n",
              "      <td>110628700.0</td>\n",
              "    </tr>\n",
              "  </tbody>\n",
              "</table>\n",
              "</div>"
            ],
            "text/plain": [
              "              Open    High       Low  ...    Adj_Low  Adj_Close   Adj_Volume\n",
              "Date                                  ...                                   \n",
              "2011-10-04  374.57  381.80  354.2400  ...  45.361228  47.699462  308419300.0\n",
              "2011-10-05  367.86  379.82  360.3000  ...  46.137224  48.435762  196617400.0\n",
              "2011-10-06  373.33  384.78  371.8045  ...  47.610401  48.323076  203145600.0\n",
              "2011-10-07  375.78  377.74  368.4890  ...  47.185844  47.353721  133864500.0\n",
              "2011-10-10  379.09  388.81  378.2100  ...  48.430640  49.787994  110628700.0\n",
              "\n",
              "[5 rows x 12 columns]"
            ]
          },
          "metadata": {
            "tags": []
          },
          "execution_count": 118
        }
      ]
    },
    {
      "cell_type": "code",
      "metadata": {
        "id": "IVOgQzXyYkZO",
        "colab_type": "code",
        "colab": {
          "base_uri": "https://localhost:8080/",
          "height": 228
        },
        "outputId": "02586709-2d3c-4702-9f72-70100f4a6fc3"
      },
      "source": [
        "amd = pd.read_csv('AMD.csv', index_col=0, parse_dates=True)\n",
        "amd.head()"
      ],
      "execution_count": 113,
      "outputs": [
        {
          "output_type": "execute_result",
          "data": {
            "text/html": [
              "<div>\n",
              "<style scoped>\n",
              "    .dataframe tbody tr th:only-of-type {\n",
              "        vertical-align: middle;\n",
              "    }\n",
              "\n",
              "    .dataframe tbody tr th {\n",
              "        vertical-align: top;\n",
              "    }\n",
              "\n",
              "    .dataframe thead th {\n",
              "        text-align: right;\n",
              "    }\n",
              "</style>\n",
              "<table border=\"1\" class=\"dataframe\">\n",
              "  <thead>\n",
              "    <tr style=\"text-align: right;\">\n",
              "      <th></th>\n",
              "      <th>Adj_Close</th>\n",
              "      <th>Adj_Volume</th>\n",
              "    </tr>\n",
              "    <tr>\n",
              "      <th>Date</th>\n",
              "      <th></th>\n",
              "      <th></th>\n",
              "    </tr>\n",
              "  </thead>\n",
              "  <tbody>\n",
              "    <tr>\n",
              "      <th>1983-03-21</th>\n",
              "      <td>8.997535</td>\n",
              "      <td>510800.0</td>\n",
              "    </tr>\n",
              "    <tr>\n",
              "      <th>1983-03-22</th>\n",
              "      <td>8.497672</td>\n",
              "      <td>328000.0</td>\n",
              "    </tr>\n",
              "    <tr>\n",
              "      <th>1983-03-23</th>\n",
              "      <td>8.717612</td>\n",
              "      <td>427200.0</td>\n",
              "    </tr>\n",
              "    <tr>\n",
              "      <th>1983-03-24</th>\n",
              "      <td>8.780094</td>\n",
              "      <td>393200.0</td>\n",
              "    </tr>\n",
              "    <tr>\n",
              "      <th>1983-03-25</th>\n",
              "      <td>8.872569</td>\n",
              "      <td>210400.0</td>\n",
              "    </tr>\n",
              "  </tbody>\n",
              "</table>\n",
              "</div>"
            ],
            "text/plain": [
              "            Adj_Close  Adj_Volume\n",
              "Date                             \n",
              "1983-03-21   8.997535    510800.0\n",
              "1983-03-22   8.497672    328000.0\n",
              "1983-03-23   8.717612    427200.0\n",
              "1983-03-24   8.780094    393200.0\n",
              "1983-03-25   8.872569    210400.0"
            ]
          },
          "metadata": {
            "tags": []
          },
          "execution_count": 113
        }
      ]
    },
    {
      "cell_type": "code",
      "metadata": {
        "id": "k5UnlvcRdOr_",
        "colab_type": "code",
        "colab": {
          "base_uri": "https://localhost:8080/",
          "height": 228
        },
        "outputId": "97114db6-c762-402f-96f5-4a0a6cb67ede"
      },
      "source": [
        "lng = pd.read_csv('LNG.csv', index_col=0, parse_dates=True)\n",
        "lng.head()"
      ],
      "execution_count": 119,
      "outputs": [
        {
          "output_type": "execute_result",
          "data": {
            "text/html": [
              "<div>\n",
              "<style scoped>\n",
              "    .dataframe tbody tr th:only-of-type {\n",
              "        vertical-align: middle;\n",
              "    }\n",
              "\n",
              "    .dataframe tbody tr th {\n",
              "        vertical-align: top;\n",
              "    }\n",
              "\n",
              "    .dataframe thead th {\n",
              "        text-align: right;\n",
              "    }\n",
              "</style>\n",
              "<table border=\"1\" class=\"dataframe\">\n",
              "  <thead>\n",
              "    <tr style=\"text-align: right;\">\n",
              "      <th></th>\n",
              "      <th>Adj_Close</th>\n",
              "      <th>Adj_Volume</th>\n",
              "    </tr>\n",
              "    <tr>\n",
              "      <th>Date</th>\n",
              "      <th></th>\n",
              "      <th></th>\n",
              "    </tr>\n",
              "  </thead>\n",
              "  <tbody>\n",
              "    <tr>\n",
              "      <th>1994-04-04</th>\n",
              "      <td>72.0</td>\n",
              "      <td>0.0</td>\n",
              "    </tr>\n",
              "    <tr>\n",
              "      <th>1994-04-05</th>\n",
              "      <td>108.0</td>\n",
              "      <td>0.0</td>\n",
              "    </tr>\n",
              "    <tr>\n",
              "      <th>1994-04-06</th>\n",
              "      <td>108.0</td>\n",
              "      <td>0.0</td>\n",
              "    </tr>\n",
              "    <tr>\n",
              "      <th>1994-04-07</th>\n",
              "      <td>108.0</td>\n",
              "      <td>0.0</td>\n",
              "    </tr>\n",
              "    <tr>\n",
              "      <th>1994-04-08</th>\n",
              "      <td>108.0</td>\n",
              "      <td>0.0</td>\n",
              "    </tr>\n",
              "  </tbody>\n",
              "</table>\n",
              "</div>"
            ],
            "text/plain": [
              "            Adj_Close  Adj_Volume\n",
              "Date                             \n",
              "1994-04-04       72.0         0.0\n",
              "1994-04-05      108.0         0.0\n",
              "1994-04-06      108.0         0.0\n",
              "1994-04-07      108.0         0.0\n",
              "1994-04-08      108.0         0.0"
            ]
          },
          "metadata": {
            "tags": []
          },
          "execution_count": 119
        }
      ]
    },
    {
      "cell_type": "code",
      "metadata": {
        "id": "c0Zqa-2FdUD_",
        "colab_type": "code",
        "colab": {
          "base_uri": "https://localhost:8080/",
          "height": 228
        },
        "outputId": "bac1833a-3960-4069-8a66-586b070ef4db"
      },
      "source": [
        "qqq = pd.read_csv('QQQ.csv', index_col=0, parse_dates=True)\n",
        "qqq.head()"
      ],
      "execution_count": 120,
      "outputs": [
        {
          "output_type": "execute_result",
          "data": {
            "text/html": [
              "<div>\n",
              "<style scoped>\n",
              "    .dataframe tbody tr th:only-of-type {\n",
              "        vertical-align: middle;\n",
              "    }\n",
              "\n",
              "    .dataframe tbody tr th {\n",
              "        vertical-align: top;\n",
              "    }\n",
              "\n",
              "    .dataframe thead th {\n",
              "        text-align: right;\n",
              "    }\n",
              "</style>\n",
              "<table border=\"1\" class=\"dataframe\">\n",
              "  <thead>\n",
              "    <tr style=\"text-align: right;\">\n",
              "      <th></th>\n",
              "      <th>Adj_Close</th>\n",
              "      <th>Adj_Volume</th>\n",
              "    </tr>\n",
              "    <tr>\n",
              "      <th>Date</th>\n",
              "      <th></th>\n",
              "      <th></th>\n",
              "    </tr>\n",
              "  </thead>\n",
              "  <tbody>\n",
              "    <tr>\n",
              "      <th>1999-03-10</th>\n",
              "      <td>45.479603</td>\n",
              "      <td>5232000.0</td>\n",
              "    </tr>\n",
              "    <tr>\n",
              "      <th>1999-03-11</th>\n",
              "      <td>45.702324</td>\n",
              "      <td>9688600.0</td>\n",
              "    </tr>\n",
              "    <tr>\n",
              "      <th>1999-03-12</th>\n",
              "      <td>44.588720</td>\n",
              "      <td>8743600.0</td>\n",
              "    </tr>\n",
              "    <tr>\n",
              "      <th>1999-03-15</th>\n",
              "      <td>45.880501</td>\n",
              "      <td>6369000.0</td>\n",
              "    </tr>\n",
              "    <tr>\n",
              "      <th>1999-03-16</th>\n",
              "      <td>46.281398</td>\n",
              "      <td>4905800.0</td>\n",
              "    </tr>\n",
              "  </tbody>\n",
              "</table>\n",
              "</div>"
            ],
            "text/plain": [
              "            Adj_Close  Adj_Volume\n",
              "Date                             \n",
              "1999-03-10  45.479603   5232000.0\n",
              "1999-03-11  45.702324   9688600.0\n",
              "1999-03-12  44.588720   8743600.0\n",
              "1999-03-15  45.880501   6369000.0\n",
              "1999-03-16  46.281398   4905800.0"
            ]
          },
          "metadata": {
            "tags": []
          },
          "execution_count": 120
        }
      ]
    },
    {
      "cell_type": "code",
      "metadata": {
        "id": "_9ZYWNrEdWl4",
        "colab_type": "code",
        "colab": {
          "base_uri": "https://localhost:8080/",
          "height": 228
        },
        "outputId": "3ffba794-fbfc-43ae-9418-9a12e680e513"
      },
      "source": [
        "smlv = pd.read_csv('SMLV.csv', index_col=0, parse_dates=True)\n",
        "smlv.head()"
      ],
      "execution_count": 121,
      "outputs": [
        {
          "output_type": "execute_result",
          "data": {
            "text/html": [
              "<div>\n",
              "<style scoped>\n",
              "    .dataframe tbody tr th:only-of-type {\n",
              "        vertical-align: middle;\n",
              "    }\n",
              "\n",
              "    .dataframe tbody tr th {\n",
              "        vertical-align: top;\n",
              "    }\n",
              "\n",
              "    .dataframe thead th {\n",
              "        text-align: right;\n",
              "    }\n",
              "</style>\n",
              "<table border=\"1\" class=\"dataframe\">\n",
              "  <thead>\n",
              "    <tr style=\"text-align: right;\">\n",
              "      <th></th>\n",
              "      <th>Adj_Close</th>\n",
              "      <th>Adj_Volume</th>\n",
              "    </tr>\n",
              "    <tr>\n",
              "      <th>Date</th>\n",
              "      <th></th>\n",
              "      <th></th>\n",
              "    </tr>\n",
              "  </thead>\n",
              "  <tbody>\n",
              "    <tr>\n",
              "      <th>2013-02-21</th>\n",
              "      <td>49.482507</td>\n",
              "      <td>5500.0</td>\n",
              "    </tr>\n",
              "    <tr>\n",
              "      <th>2013-02-22</th>\n",
              "      <td>49.881225</td>\n",
              "      <td>700.0</td>\n",
              "    </tr>\n",
              "    <tr>\n",
              "      <th>2013-02-25</th>\n",
              "      <td>49.440974</td>\n",
              "      <td>900.0</td>\n",
              "    </tr>\n",
              "    <tr>\n",
              "      <th>2013-02-26</th>\n",
              "      <td>49.200082</td>\n",
              "      <td>200.0</td>\n",
              "    </tr>\n",
              "    <tr>\n",
              "      <th>2013-02-27</th>\n",
              "      <td>49.424361</td>\n",
              "      <td>200.0</td>\n",
              "    </tr>\n",
              "  </tbody>\n",
              "</table>\n",
              "</div>"
            ],
            "text/plain": [
              "            Adj_Close  Adj_Volume\n",
              "Date                             \n",
              "2013-02-21  49.482507      5500.0\n",
              "2013-02-22  49.881225       700.0\n",
              "2013-02-25  49.440974       900.0\n",
              "2013-02-26  49.200082       200.0\n",
              "2013-02-27  49.424361       200.0"
            ]
          },
          "metadata": {
            "tags": []
          },
          "execution_count": 121
        }
      ]
    },
    {
      "cell_type": "code",
      "metadata": {
        "id": "GKobuNrLdX9g",
        "colab_type": "code",
        "colab": {
          "base_uri": "https://localhost:8080/",
          "height": 228
        },
        "outputId": "68820ce1-4290-4a2a-efec-0a413ae59bee"
      },
      "source": [
        "spy = pd.read_csv('SPY.csv', index_col=0, parse_dates=True)\n",
        "spy.head()"
      ],
      "execution_count": 122,
      "outputs": [
        {
          "output_type": "execute_result",
          "data": {
            "text/html": [
              "<div>\n",
              "<style scoped>\n",
              "    .dataframe tbody tr th:only-of-type {\n",
              "        vertical-align: middle;\n",
              "    }\n",
              "\n",
              "    .dataframe tbody tr th {\n",
              "        vertical-align: top;\n",
              "    }\n",
              "\n",
              "    .dataframe thead th {\n",
              "        text-align: right;\n",
              "    }\n",
              "</style>\n",
              "<table border=\"1\" class=\"dataframe\">\n",
              "  <thead>\n",
              "    <tr style=\"text-align: right;\">\n",
              "      <th></th>\n",
              "      <th>Adj_Close</th>\n",
              "      <th>Adj_Volume</th>\n",
              "    </tr>\n",
              "    <tr>\n",
              "      <th>Date</th>\n",
              "      <th></th>\n",
              "      <th></th>\n",
              "    </tr>\n",
              "  </thead>\n",
              "  <tbody>\n",
              "    <tr>\n",
              "      <th>1993-01-29</th>\n",
              "      <td>28.223927</td>\n",
              "      <td>1003200.0</td>\n",
              "    </tr>\n",
              "    <tr>\n",
              "      <th>1993-02-01</th>\n",
              "      <td>28.424666</td>\n",
              "      <td>480500.0</td>\n",
              "    </tr>\n",
              "    <tr>\n",
              "      <th>1993-02-02</th>\n",
              "      <td>28.484856</td>\n",
              "      <td>201300.0</td>\n",
              "    </tr>\n",
              "    <tr>\n",
              "      <th>1993-02-03</th>\n",
              "      <td>28.785997</td>\n",
              "      <td>529400.0</td>\n",
              "    </tr>\n",
              "    <tr>\n",
              "      <th>1993-02-04</th>\n",
              "      <td>28.906440</td>\n",
              "      <td>531500.0</td>\n",
              "    </tr>\n",
              "  </tbody>\n",
              "</table>\n",
              "</div>"
            ],
            "text/plain": [
              "            Adj_Close  Adj_Volume\n",
              "Date                             \n",
              "1993-01-29  28.223927   1003200.0\n",
              "1993-02-01  28.424666    480500.0\n",
              "1993-02-02  28.484856    201300.0\n",
              "1993-02-03  28.785997    529400.0\n",
              "1993-02-04  28.906440    531500.0"
            ]
          },
          "metadata": {
            "tags": []
          },
          "execution_count": 122
        }
      ]
    },
    {
      "cell_type": "code",
      "metadata": {
        "id": "RCqT6pMpfZ56",
        "colab_type": "code",
        "colab": {
          "base_uri": "https://localhost:8080/",
          "height": 228
        },
        "outputId": "61e81357-9cb5-4d62-a22d-3049ab6d0c88"
      },
      "source": [
        "full = pd.concat([aapl['Adj_Close'], amd['Adj_Close'], lng['Adj_Close'], \n",
        "                  qqq['Adj_Close'], smlv['Adj_Close'], spy['Adj_Close']],\n",
        "                 axis=1).dropna()\n",
        "full.columns = ['AAPL', 'AMD', 'LNG', 'QQQ', 'SMLV', 'SPY']\n",
        "full.head()"
      ],
      "execution_count": 124,
      "outputs": [
        {
          "output_type": "execute_result",
          "data": {
            "text/html": [
              "<div>\n",
              "<style scoped>\n",
              "    .dataframe tbody tr th:only-of-type {\n",
              "        vertical-align: middle;\n",
              "    }\n",
              "\n",
              "    .dataframe tbody tr th {\n",
              "        vertical-align: top;\n",
              "    }\n",
              "\n",
              "    .dataframe thead th {\n",
              "        text-align: right;\n",
              "    }\n",
              "</style>\n",
              "<table border=\"1\" class=\"dataframe\">\n",
              "  <thead>\n",
              "    <tr style=\"text-align: right;\">\n",
              "      <th></th>\n",
              "      <th>AAPL</th>\n",
              "      <th>AMD</th>\n",
              "      <th>LNG</th>\n",
              "      <th>QQQ</th>\n",
              "      <th>SMLV</th>\n",
              "      <th>SPY</th>\n",
              "    </tr>\n",
              "    <tr>\n",
              "      <th>Date</th>\n",
              "      <th></th>\n",
              "      <th></th>\n",
              "      <th></th>\n",
              "      <th></th>\n",
              "      <th></th>\n",
              "      <th></th>\n",
              "    </tr>\n",
              "  </thead>\n",
              "  <tbody>\n",
              "    <tr>\n",
              "      <th>2013-02-21</th>\n",
              "      <td>57.961457</td>\n",
              "      <td>2.60</td>\n",
              "      <td>20.21</td>\n",
              "      <td>62.671455</td>\n",
              "      <td>49.482507</td>\n",
              "      <td>139.802535</td>\n",
              "    </tr>\n",
              "    <tr>\n",
              "      <th>2013-02-22</th>\n",
              "      <td>58.578676</td>\n",
              "      <td>2.61</td>\n",
              "      <td>20.99</td>\n",
              "      <td>63.302224</td>\n",
              "      <td>49.881225</td>\n",
              "      <td>141.168775</td>\n",
              "    </tr>\n",
              "    <tr>\n",
              "      <th>2013-02-25</th>\n",
              "      <td>57.537849</td>\n",
              "      <td>2.53</td>\n",
              "      <td>20.44</td>\n",
              "      <td>62.520599</td>\n",
              "      <td>49.440974</td>\n",
              "      <td>138.482768</td>\n",
              "    </tr>\n",
              "    <tr>\n",
              "      <th>2013-02-26</th>\n",
              "      <td>58.339585</td>\n",
              "      <td>2.46</td>\n",
              "      <td>21.15</td>\n",
              "      <td>62.756312</td>\n",
              "      <td>49.200082</td>\n",
              "      <td>139.430774</td>\n",
              "    </tr>\n",
              "    <tr>\n",
              "      <th>2013-02-27</th>\n",
              "      <td>57.767845</td>\n",
              "      <td>2.53</td>\n",
              "      <td>21.57</td>\n",
              "      <td>63.396509</td>\n",
              "      <td>49.424361</td>\n",
              "      <td>141.187368</td>\n",
              "    </tr>\n",
              "  </tbody>\n",
              "</table>\n",
              "</div>"
            ],
            "text/plain": [
              "                 AAPL   AMD    LNG        QQQ       SMLV         SPY\n",
              "Date                                                                \n",
              "2013-02-21  57.961457  2.60  20.21  62.671455  49.482507  139.802535\n",
              "2013-02-22  58.578676  2.61  20.99  63.302224  49.881225  141.168775\n",
              "2013-02-25  57.537849  2.53  20.44  62.520599  49.440974  138.482768\n",
              "2013-02-26  58.339585  2.46  21.15  62.756312  49.200082  139.430774\n",
              "2013-02-27  57.767845  2.53  21.57  63.396509  49.424361  141.187368"
            ]
          },
          "metadata": {
            "tags": []
          },
          "execution_count": 124
        }
      ]
    },
    {
      "cell_type": "code",
      "metadata": {
        "id": "ij9w4cj5nwgX",
        "colab_type": "code",
        "colab": {
          "base_uri": "https://localhost:8080/",
          "height": 378
        },
        "outputId": "82e69afb-2981-4cb8-889a-ffb23b8538f0"
      },
      "source": [
        "full.head(10)"
      ],
      "execution_count": 151,
      "outputs": [
        {
          "output_type": "execute_result",
          "data": {
            "text/html": [
              "<div>\n",
              "<style scoped>\n",
              "    .dataframe tbody tr th:only-of-type {\n",
              "        vertical-align: middle;\n",
              "    }\n",
              "\n",
              "    .dataframe tbody tr th {\n",
              "        vertical-align: top;\n",
              "    }\n",
              "\n",
              "    .dataframe thead th {\n",
              "        text-align: right;\n",
              "    }\n",
              "</style>\n",
              "<table border=\"1\" class=\"dataframe\">\n",
              "  <thead>\n",
              "    <tr style=\"text-align: right;\">\n",
              "      <th></th>\n",
              "      <th>AAPL</th>\n",
              "      <th>AMD</th>\n",
              "      <th>LNG</th>\n",
              "      <th>QQQ</th>\n",
              "      <th>SMLV</th>\n",
              "      <th>SPY</th>\n",
              "    </tr>\n",
              "    <tr>\n",
              "      <th>Date</th>\n",
              "      <th></th>\n",
              "      <th></th>\n",
              "      <th></th>\n",
              "      <th></th>\n",
              "      <th></th>\n",
              "      <th></th>\n",
              "    </tr>\n",
              "  </thead>\n",
              "  <tbody>\n",
              "    <tr>\n",
              "      <th>2013-02-21</th>\n",
              "      <td>57.961457</td>\n",
              "      <td>2.60</td>\n",
              "      <td>20.21</td>\n",
              "      <td>62.671455</td>\n",
              "      <td>49.482507</td>\n",
              "      <td>139.802535</td>\n",
              "    </tr>\n",
              "    <tr>\n",
              "      <th>2013-02-22</th>\n",
              "      <td>58.578676</td>\n",
              "      <td>2.61</td>\n",
              "      <td>20.99</td>\n",
              "      <td>63.302224</td>\n",
              "      <td>49.881225</td>\n",
              "      <td>141.168775</td>\n",
              "    </tr>\n",
              "    <tr>\n",
              "      <th>2013-02-25</th>\n",
              "      <td>57.537849</td>\n",
              "      <td>2.53</td>\n",
              "      <td>20.44</td>\n",
              "      <td>62.520599</td>\n",
              "      <td>49.440974</td>\n",
              "      <td>138.482768</td>\n",
              "    </tr>\n",
              "    <tr>\n",
              "      <th>2013-02-26</th>\n",
              "      <td>58.339585</td>\n",
              "      <td>2.46</td>\n",
              "      <td>21.15</td>\n",
              "      <td>62.756312</td>\n",
              "      <td>49.200082</td>\n",
              "      <td>139.430774</td>\n",
              "    </tr>\n",
              "    <tr>\n",
              "      <th>2013-02-27</th>\n",
              "      <td>57.767845</td>\n",
              "      <td>2.53</td>\n",
              "      <td>21.57</td>\n",
              "      <td>63.396509</td>\n",
              "      <td>49.424361</td>\n",
              "      <td>141.187368</td>\n",
              "    </tr>\n",
              "    <tr>\n",
              "      <th>2013-02-28</th>\n",
              "      <td>57.355932</td>\n",
              "      <td>2.49</td>\n",
              "      <td>21.30</td>\n",
              "      <td>63.265453</td>\n",
              "      <td>49.847998</td>\n",
              "      <td>140.908541</td>\n",
              "    </tr>\n",
              "    <tr>\n",
              "      <th>2013-03-01</th>\n",
              "      <td>55.935677</td>\n",
              "      <td>2.42</td>\n",
              "      <td>21.16</td>\n",
              "      <td>63.529452</td>\n",
              "      <td>49.507427</td>\n",
              "      <td>141.373248</td>\n",
              "    </tr>\n",
              "    <tr>\n",
              "      <th>2013-03-04</th>\n",
              "      <td>54.581693</td>\n",
              "      <td>2.40</td>\n",
              "      <td>21.50</td>\n",
              "      <td>63.812308</td>\n",
              "      <td>49.507427</td>\n",
              "      <td>142.126071</td>\n",
              "    </tr>\n",
              "    <tr>\n",
              "      <th>2013-03-05</th>\n",
              "      <td>56.023257</td>\n",
              "      <td>2.43</td>\n",
              "      <td>21.60</td>\n",
              "      <td>64.755161</td>\n",
              "      <td>50.329782</td>\n",
              "      <td>143.399364</td>\n",
              "    </tr>\n",
              "    <tr>\n",
              "      <th>2013-03-06</th>\n",
              "      <td>55.310921</td>\n",
              "      <td>2.43</td>\n",
              "      <td>22.13</td>\n",
              "      <td>64.594876</td>\n",
              "      <td>50.512527</td>\n",
              "      <td>143.594548</td>\n",
              "    </tr>\n",
              "  </tbody>\n",
              "</table>\n",
              "</div>"
            ],
            "text/plain": [
              "                 AAPL   AMD    LNG        QQQ       SMLV         SPY\n",
              "Date                                                                \n",
              "2013-02-21  57.961457  2.60  20.21  62.671455  49.482507  139.802535\n",
              "2013-02-22  58.578676  2.61  20.99  63.302224  49.881225  141.168775\n",
              "2013-02-25  57.537849  2.53  20.44  62.520599  49.440974  138.482768\n",
              "2013-02-26  58.339585  2.46  21.15  62.756312  49.200082  139.430774\n",
              "2013-02-27  57.767845  2.53  21.57  63.396509  49.424361  141.187368\n",
              "2013-02-28  57.355932  2.49  21.30  63.265453  49.847998  140.908541\n",
              "2013-03-01  55.935677  2.42  21.16  63.529452  49.507427  141.373248\n",
              "2013-03-04  54.581693  2.40  21.50  63.812308  49.507427  142.126071\n",
              "2013-03-05  56.023257  2.43  21.60  64.755161  50.329782  143.399364\n",
              "2013-03-06  55.310921  2.43  22.13  64.594876  50.512527  143.594548"
            ]
          },
          "metadata": {
            "tags": []
          },
          "execution_count": 151
        }
      ]
    },
    {
      "cell_type": "code",
      "metadata": {
        "id": "Ay6Rn-oGnY33",
        "colab_type": "code",
        "colab": {
          "base_uri": "https://localhost:8080/",
          "height": 228
        },
        "outputId": "4106b286-9be9-4cfb-9b4e-5b554f802132"
      },
      "source": [
        "full.tail()"
      ],
      "execution_count": 150,
      "outputs": [
        {
          "output_type": "execute_result",
          "data": {
            "text/html": [
              "<div>\n",
              "<style scoped>\n",
              "    .dataframe tbody tr th:only-of-type {\n",
              "        vertical-align: middle;\n",
              "    }\n",
              "\n",
              "    .dataframe tbody tr th {\n",
              "        vertical-align: top;\n",
              "    }\n",
              "\n",
              "    .dataframe thead th {\n",
              "        text-align: right;\n",
              "    }\n",
              "</style>\n",
              "<table border=\"1\" class=\"dataframe\">\n",
              "  <thead>\n",
              "    <tr style=\"text-align: right;\">\n",
              "      <th></th>\n",
              "      <th>AAPL</th>\n",
              "      <th>AMD</th>\n",
              "      <th>LNG</th>\n",
              "      <th>QQQ</th>\n",
              "      <th>SMLV</th>\n",
              "      <th>SPY</th>\n",
              "    </tr>\n",
              "    <tr>\n",
              "      <th>Date</th>\n",
              "      <th></th>\n",
              "      <th></th>\n",
              "      <th></th>\n",
              "      <th></th>\n",
              "      <th></th>\n",
              "      <th></th>\n",
              "    </tr>\n",
              "  </thead>\n",
              "  <tbody>\n",
              "    <tr>\n",
              "      <th>2018-01-26</th>\n",
              "      <td>171.51</td>\n",
              "      <td>12.95</td>\n",
              "      <td>59.99</td>\n",
              "      <td>170.647579</td>\n",
              "      <td>92.429382</td>\n",
              "      <td>285.438268</td>\n",
              "    </tr>\n",
              "    <tr>\n",
              "      <th>2018-01-29</th>\n",
              "      <td>167.96</td>\n",
              "      <td>13.32</td>\n",
              "      <td>59.04</td>\n",
              "      <td>169.818950</td>\n",
              "      <td>91.647127</td>\n",
              "      <td>283.545837</td>\n",
              "    </tr>\n",
              "    <tr>\n",
              "      <th>2018-01-30</th>\n",
              "      <td>166.97</td>\n",
              "      <td>12.87</td>\n",
              "      <td>56.99</td>\n",
              "      <td>168.421263</td>\n",
              "      <td>91.145364</td>\n",
              "      <td>280.637471</td>\n",
              "    </tr>\n",
              "    <tr>\n",
              "      <th>2018-01-31</th>\n",
              "      <td>167.43</td>\n",
              "      <td>13.74</td>\n",
              "      <td>56.56</td>\n",
              "      <td>169.120107</td>\n",
              "      <td>90.687498</td>\n",
              "      <td>280.776913</td>\n",
              "    </tr>\n",
              "    <tr>\n",
              "      <th>2018-02-01</th>\n",
              "      <td>167.78</td>\n",
              "      <td>13.25</td>\n",
              "      <td>57.86</td>\n",
              "      <td>167.682486</td>\n",
              "      <td>90.787034</td>\n",
              "      <td>280.458188</td>\n",
              "    </tr>\n",
              "  </tbody>\n",
              "</table>\n",
              "</div>"
            ],
            "text/plain": [
              "              AAPL    AMD    LNG         QQQ       SMLV         SPY\n",
              "Date                                                               \n",
              "2018-01-26  171.51  12.95  59.99  170.647579  92.429382  285.438268\n",
              "2018-01-29  167.96  13.32  59.04  169.818950  91.647127  283.545837\n",
              "2018-01-30  166.97  12.87  56.99  168.421263  91.145364  280.637471\n",
              "2018-01-31  167.43  13.74  56.56  169.120107  90.687498  280.776913\n",
              "2018-02-01  167.78  13.25  57.86  167.682486  90.787034  280.458188"
            ]
          },
          "metadata": {
            "tags": []
          },
          "execution_count": 150
        }
      ]
    },
    {
      "cell_type": "code",
      "metadata": {
        "id": "kkBtrLuinbJV",
        "colab_type": "code",
        "colab": {}
      },
      "source": [
        "full = full['2013-03-01':'2018-01-31']"
      ],
      "execution_count": 0,
      "outputs": []
    },
    {
      "cell_type": "code",
      "metadata": {
        "id": "1u06hYTpn6Bp",
        "colab_type": "code",
        "colab": {
          "base_uri": "https://localhost:8080/",
          "height": 228
        },
        "outputId": "fef59a15-b494-4e9b-888b-314b1dbfb7fa"
      },
      "source": [
        "full.head()"
      ],
      "execution_count": 153,
      "outputs": [
        {
          "output_type": "execute_result",
          "data": {
            "text/html": [
              "<div>\n",
              "<style scoped>\n",
              "    .dataframe tbody tr th:only-of-type {\n",
              "        vertical-align: middle;\n",
              "    }\n",
              "\n",
              "    .dataframe tbody tr th {\n",
              "        vertical-align: top;\n",
              "    }\n",
              "\n",
              "    .dataframe thead th {\n",
              "        text-align: right;\n",
              "    }\n",
              "</style>\n",
              "<table border=\"1\" class=\"dataframe\">\n",
              "  <thead>\n",
              "    <tr style=\"text-align: right;\">\n",
              "      <th></th>\n",
              "      <th>AAPL</th>\n",
              "      <th>AMD</th>\n",
              "      <th>LNG</th>\n",
              "      <th>QQQ</th>\n",
              "      <th>SMLV</th>\n",
              "      <th>SPY</th>\n",
              "    </tr>\n",
              "    <tr>\n",
              "      <th>Date</th>\n",
              "      <th></th>\n",
              "      <th></th>\n",
              "      <th></th>\n",
              "      <th></th>\n",
              "      <th></th>\n",
              "      <th></th>\n",
              "    </tr>\n",
              "  </thead>\n",
              "  <tbody>\n",
              "    <tr>\n",
              "      <th>2013-03-01</th>\n",
              "      <td>55.935677</td>\n",
              "      <td>2.42</td>\n",
              "      <td>21.16</td>\n",
              "      <td>63.529452</td>\n",
              "      <td>49.507427</td>\n",
              "      <td>141.373248</td>\n",
              "    </tr>\n",
              "    <tr>\n",
              "      <th>2013-03-04</th>\n",
              "      <td>54.581693</td>\n",
              "      <td>2.40</td>\n",
              "      <td>21.50</td>\n",
              "      <td>63.812308</td>\n",
              "      <td>49.507427</td>\n",
              "      <td>142.126071</td>\n",
              "    </tr>\n",
              "    <tr>\n",
              "      <th>2013-03-05</th>\n",
              "      <td>56.023257</td>\n",
              "      <td>2.43</td>\n",
              "      <td>21.60</td>\n",
              "      <td>64.755161</td>\n",
              "      <td>50.329782</td>\n",
              "      <td>143.399364</td>\n",
              "    </tr>\n",
              "    <tr>\n",
              "      <th>2013-03-06</th>\n",
              "      <td>55.310921</td>\n",
              "      <td>2.43</td>\n",
              "      <td>22.13</td>\n",
              "      <td>64.594876</td>\n",
              "      <td>50.512527</td>\n",
              "      <td>143.594548</td>\n",
              "    </tr>\n",
              "    <tr>\n",
              "      <th>2013-03-07</th>\n",
              "      <td>55.950231</td>\n",
              "      <td>2.55</td>\n",
              "      <td>22.23</td>\n",
              "      <td>64.764589</td>\n",
              "      <td>50.462688</td>\n",
              "      <td>143.854783</td>\n",
              "    </tr>\n",
              "  </tbody>\n",
              "</table>\n",
              "</div>"
            ],
            "text/plain": [
              "                 AAPL   AMD    LNG        QQQ       SMLV         SPY\n",
              "Date                                                                \n",
              "2013-03-01  55.935677  2.42  21.16  63.529452  49.507427  141.373248\n",
              "2013-03-04  54.581693  2.40  21.50  63.812308  49.507427  142.126071\n",
              "2013-03-05  56.023257  2.43  21.60  64.755161  50.329782  143.399364\n",
              "2013-03-06  55.310921  2.43  22.13  64.594876  50.512527  143.594548\n",
              "2013-03-07  55.950231  2.55  22.23  64.764589  50.462688  143.854783"
            ]
          },
          "metadata": {
            "tags": []
          },
          "execution_count": 153
        }
      ]
    },
    {
      "cell_type": "code",
      "metadata": {
        "id": "oHzAkzkPn8DM",
        "colab_type": "code",
        "colab": {
          "base_uri": "https://localhost:8080/",
          "height": 228
        },
        "outputId": "5a40040a-c58f-4edb-dc8c-cad42df488b7"
      },
      "source": [
        "full.tail()"
      ],
      "execution_count": 154,
      "outputs": [
        {
          "output_type": "execute_result",
          "data": {
            "text/html": [
              "<div>\n",
              "<style scoped>\n",
              "    .dataframe tbody tr th:only-of-type {\n",
              "        vertical-align: middle;\n",
              "    }\n",
              "\n",
              "    .dataframe tbody tr th {\n",
              "        vertical-align: top;\n",
              "    }\n",
              "\n",
              "    .dataframe thead th {\n",
              "        text-align: right;\n",
              "    }\n",
              "</style>\n",
              "<table border=\"1\" class=\"dataframe\">\n",
              "  <thead>\n",
              "    <tr style=\"text-align: right;\">\n",
              "      <th></th>\n",
              "      <th>AAPL</th>\n",
              "      <th>AMD</th>\n",
              "      <th>LNG</th>\n",
              "      <th>QQQ</th>\n",
              "      <th>SMLV</th>\n",
              "      <th>SPY</th>\n",
              "    </tr>\n",
              "    <tr>\n",
              "      <th>Date</th>\n",
              "      <th></th>\n",
              "      <th></th>\n",
              "      <th></th>\n",
              "      <th></th>\n",
              "      <th></th>\n",
              "      <th></th>\n",
              "    </tr>\n",
              "  </thead>\n",
              "  <tbody>\n",
              "    <tr>\n",
              "      <th>2018-01-25</th>\n",
              "      <td>171.11</td>\n",
              "      <td>12.41</td>\n",
              "      <td>58.79</td>\n",
              "      <td>168.071842</td>\n",
              "      <td>92.618501</td>\n",
              "      <td>282.171335</td>\n",
              "    </tr>\n",
              "    <tr>\n",
              "      <th>2018-01-26</th>\n",
              "      <td>171.51</td>\n",
              "      <td>12.95</td>\n",
              "      <td>59.99</td>\n",
              "      <td>170.647579</td>\n",
              "      <td>92.429382</td>\n",
              "      <td>285.438268</td>\n",
              "    </tr>\n",
              "    <tr>\n",
              "      <th>2018-01-29</th>\n",
              "      <td>167.96</td>\n",
              "      <td>13.32</td>\n",
              "      <td>59.04</td>\n",
              "      <td>169.818950</td>\n",
              "      <td>91.647127</td>\n",
              "      <td>283.545837</td>\n",
              "    </tr>\n",
              "    <tr>\n",
              "      <th>2018-01-30</th>\n",
              "      <td>166.97</td>\n",
              "      <td>12.87</td>\n",
              "      <td>56.99</td>\n",
              "      <td>168.421263</td>\n",
              "      <td>91.145364</td>\n",
              "      <td>280.637471</td>\n",
              "    </tr>\n",
              "    <tr>\n",
              "      <th>2018-01-31</th>\n",
              "      <td>167.43</td>\n",
              "      <td>13.74</td>\n",
              "      <td>56.56</td>\n",
              "      <td>169.120107</td>\n",
              "      <td>90.687498</td>\n",
              "      <td>280.776913</td>\n",
              "    </tr>\n",
              "  </tbody>\n",
              "</table>\n",
              "</div>"
            ],
            "text/plain": [
              "              AAPL    AMD    LNG         QQQ       SMLV         SPY\n",
              "Date                                                               \n",
              "2018-01-25  171.11  12.41  58.79  168.071842  92.618501  282.171335\n",
              "2018-01-26  171.51  12.95  59.99  170.647579  92.429382  285.438268\n",
              "2018-01-29  167.96  13.32  59.04  169.818950  91.647127  283.545837\n",
              "2018-01-30  166.97  12.87  56.99  168.421263  91.145364  280.637471\n",
              "2018-01-31  167.43  13.74  56.56  169.120107  90.687498  280.776913"
            ]
          },
          "metadata": {
            "tags": []
          },
          "execution_count": 154
        }
      ]
    },
    {
      "cell_type": "code",
      "metadata": {
        "id": "3L0AtXGDgVD7",
        "colab_type": "code",
        "colab": {
          "base_uri": "https://localhost:8080/",
          "height": 228
        },
        "outputId": "1440607b-18b5-4156-894a-756480937f57"
      },
      "source": [
        "monthly = full.resample('BMS').first()\n",
        "monthly.head()"
      ],
      "execution_count": 155,
      "outputs": [
        {
          "output_type": "execute_result",
          "data": {
            "text/html": [
              "<div>\n",
              "<style scoped>\n",
              "    .dataframe tbody tr th:only-of-type {\n",
              "        vertical-align: middle;\n",
              "    }\n",
              "\n",
              "    .dataframe tbody tr th {\n",
              "        vertical-align: top;\n",
              "    }\n",
              "\n",
              "    .dataframe thead th {\n",
              "        text-align: right;\n",
              "    }\n",
              "</style>\n",
              "<table border=\"1\" class=\"dataframe\">\n",
              "  <thead>\n",
              "    <tr style=\"text-align: right;\">\n",
              "      <th></th>\n",
              "      <th>AAPL</th>\n",
              "      <th>AMD</th>\n",
              "      <th>LNG</th>\n",
              "      <th>QQQ</th>\n",
              "      <th>SMLV</th>\n",
              "      <th>SPY</th>\n",
              "    </tr>\n",
              "    <tr>\n",
              "      <th>Date</th>\n",
              "      <th></th>\n",
              "      <th></th>\n",
              "      <th></th>\n",
              "      <th></th>\n",
              "      <th></th>\n",
              "      <th></th>\n",
              "    </tr>\n",
              "  </thead>\n",
              "  <tbody>\n",
              "    <tr>\n",
              "      <th>2013-03-01</th>\n",
              "      <td>55.935677</td>\n",
              "      <td>2.42</td>\n",
              "      <td>21.16</td>\n",
              "      <td>63.529452</td>\n",
              "      <td>49.507427</td>\n",
              "      <td>141.373248</td>\n",
              "    </tr>\n",
              "    <tr>\n",
              "      <th>2013-04-01</th>\n",
              "      <td>55.732969</td>\n",
              "      <td>2.44</td>\n",
              "      <td>27.94</td>\n",
              "      <td>64.735631</td>\n",
              "      <td>51.366077</td>\n",
              "      <td>145.681068</td>\n",
              "    </tr>\n",
              "    <tr>\n",
              "      <th>2013-05-01</th>\n",
              "      <td>57.081756</td>\n",
              "      <td>3.22</td>\n",
              "      <td>27.89</td>\n",
              "      <td>66.521768</td>\n",
              "      <td>51.607545</td>\n",
              "      <td>147.762889</td>\n",
              "    </tr>\n",
              "    <tr>\n",
              "      <th>2013-06-03</th>\n",
              "      <td>58.958052</td>\n",
              "      <td>3.96</td>\n",
              "      <td>29.24</td>\n",
              "      <td>69.347454</td>\n",
              "      <td>52.648355</td>\n",
              "      <td>153.429567</td>\n",
              "    </tr>\n",
              "    <tr>\n",
              "      <th>2013-07-01</th>\n",
              "      <td>53.529495</td>\n",
              "      <td>4.10</td>\n",
              "      <td>28.83</td>\n",
              "      <td>67.984390</td>\n",
              "      <td>52.475219</td>\n",
              "      <td>151.432764</td>\n",
              "    </tr>\n",
              "  </tbody>\n",
              "</table>\n",
              "</div>"
            ],
            "text/plain": [
              "                 AAPL   AMD    LNG        QQQ       SMLV         SPY\n",
              "Date                                                                \n",
              "2013-03-01  55.935677  2.42  21.16  63.529452  49.507427  141.373248\n",
              "2013-04-01  55.732969  2.44  27.94  64.735631  51.366077  145.681068\n",
              "2013-05-01  57.081756  3.22  27.89  66.521768  51.607545  147.762889\n",
              "2013-06-03  58.958052  3.96  29.24  69.347454  52.648355  153.429567\n",
              "2013-07-01  53.529495  4.10  28.83  67.984390  52.475219  151.432764"
            ]
          },
          "metadata": {
            "tags": []
          },
          "execution_count": 155
        }
      ]
    },
    {
      "cell_type": "code",
      "metadata": {
        "id": "RaJZkH_MhwXy",
        "colab_type": "code",
        "colab": {
          "base_uri": "https://localhost:8080/",
          "height": 228
        },
        "outputId": "7d9a9e3d-6d77-42d6-a924-d1c9c6b149d5"
      },
      "source": [
        "returns_daily = full.pct_change().dropna()\n",
        "returns_daily.head()"
      ],
      "execution_count": 157,
      "outputs": [
        {
          "output_type": "execute_result",
          "data": {
            "text/html": [
              "<div>\n",
              "<style scoped>\n",
              "    .dataframe tbody tr th:only-of-type {\n",
              "        vertical-align: middle;\n",
              "    }\n",
              "\n",
              "    .dataframe tbody tr th {\n",
              "        vertical-align: top;\n",
              "    }\n",
              "\n",
              "    .dataframe thead th {\n",
              "        text-align: right;\n",
              "    }\n",
              "</style>\n",
              "<table border=\"1\" class=\"dataframe\">\n",
              "  <thead>\n",
              "    <tr style=\"text-align: right;\">\n",
              "      <th></th>\n",
              "      <th>AAPL</th>\n",
              "      <th>AMD</th>\n",
              "      <th>LNG</th>\n",
              "      <th>QQQ</th>\n",
              "      <th>SMLV</th>\n",
              "      <th>SPY</th>\n",
              "    </tr>\n",
              "    <tr>\n",
              "      <th>Date</th>\n",
              "      <th></th>\n",
              "      <th></th>\n",
              "      <th></th>\n",
              "      <th></th>\n",
              "      <th></th>\n",
              "      <th></th>\n",
              "    </tr>\n",
              "  </thead>\n",
              "  <tbody>\n",
              "    <tr>\n",
              "      <th>2013-03-04</th>\n",
              "      <td>-0.024206</td>\n",
              "      <td>-0.008264</td>\n",
              "      <td>0.016068</td>\n",
              "      <td>0.004452</td>\n",
              "      <td>0.000000</td>\n",
              "      <td>0.005325</td>\n",
              "    </tr>\n",
              "    <tr>\n",
              "      <th>2013-03-05</th>\n",
              "      <td>0.026411</td>\n",
              "      <td>0.012500</td>\n",
              "      <td>0.004651</td>\n",
              "      <td>0.014775</td>\n",
              "      <td>0.016611</td>\n",
              "      <td>0.008959</td>\n",
              "    </tr>\n",
              "    <tr>\n",
              "      <th>2013-03-06</th>\n",
              "      <td>-0.012715</td>\n",
              "      <td>0.000000</td>\n",
              "      <td>0.024537</td>\n",
              "      <td>-0.002475</td>\n",
              "      <td>0.003631</td>\n",
              "      <td>0.001361</td>\n",
              "    </tr>\n",
              "    <tr>\n",
              "      <th>2013-03-07</th>\n",
              "      <td>0.011558</td>\n",
              "      <td>0.049383</td>\n",
              "      <td>0.004519</td>\n",
              "      <td>0.002627</td>\n",
              "      <td>-0.000987</td>\n",
              "      <td>0.001812</td>\n",
              "    </tr>\n",
              "    <tr>\n",
              "      <th>2013-03-08</th>\n",
              "      <td>0.002643</td>\n",
              "      <td>0.003922</td>\n",
              "      <td>0.020693</td>\n",
              "      <td>0.001165</td>\n",
              "      <td>0.000000</td>\n",
              "      <td>0.004264</td>\n",
              "    </tr>\n",
              "  </tbody>\n",
              "</table>\n",
              "</div>"
            ],
            "text/plain": [
              "                AAPL       AMD       LNG       QQQ      SMLV       SPY\n",
              "Date                                                                  \n",
              "2013-03-04 -0.024206 -0.008264  0.016068  0.004452  0.000000  0.005325\n",
              "2013-03-05  0.026411  0.012500  0.004651  0.014775  0.016611  0.008959\n",
              "2013-03-06 -0.012715  0.000000  0.024537 -0.002475  0.003631  0.001361\n",
              "2013-03-07  0.011558  0.049383  0.004519  0.002627 -0.000987  0.001812\n",
              "2013-03-08  0.002643  0.003922  0.020693  0.001165  0.000000  0.004264"
            ]
          },
          "metadata": {
            "tags": []
          },
          "execution_count": 157
        }
      ]
    },
    {
      "cell_type": "code",
      "metadata": {
        "id": "A1pn0zhgjLyd",
        "colab_type": "code",
        "colab": {
          "base_uri": "https://localhost:8080/",
          "height": 228
        },
        "outputId": "47958e51-d81b-4ec8-ebab-9c93f3fb9458"
      },
      "source": [
        "returns_daily.tail()"
      ],
      "execution_count": 158,
      "outputs": [
        {
          "output_type": "execute_result",
          "data": {
            "text/html": [
              "<div>\n",
              "<style scoped>\n",
              "    .dataframe tbody tr th:only-of-type {\n",
              "        vertical-align: middle;\n",
              "    }\n",
              "\n",
              "    .dataframe tbody tr th {\n",
              "        vertical-align: top;\n",
              "    }\n",
              "\n",
              "    .dataframe thead th {\n",
              "        text-align: right;\n",
              "    }\n",
              "</style>\n",
              "<table border=\"1\" class=\"dataframe\">\n",
              "  <thead>\n",
              "    <tr style=\"text-align: right;\">\n",
              "      <th></th>\n",
              "      <th>AAPL</th>\n",
              "      <th>AMD</th>\n",
              "      <th>LNG</th>\n",
              "      <th>QQQ</th>\n",
              "      <th>SMLV</th>\n",
              "      <th>SPY</th>\n",
              "    </tr>\n",
              "    <tr>\n",
              "      <th>Date</th>\n",
              "      <th></th>\n",
              "      <th></th>\n",
              "      <th></th>\n",
              "      <th></th>\n",
              "      <th></th>\n",
              "      <th></th>\n",
              "    </tr>\n",
              "  </thead>\n",
              "  <tbody>\n",
              "    <tr>\n",
              "      <th>2018-01-25</th>\n",
              "      <td>-0.017851</td>\n",
              "      <td>-0.023603</td>\n",
              "      <td>0.015371</td>\n",
              "      <td>-0.000356</td>\n",
              "      <td>0.003776</td>\n",
              "      <td>0.000424</td>\n",
              "    </tr>\n",
              "    <tr>\n",
              "      <th>2018-01-26</th>\n",
              "      <td>0.002338</td>\n",
              "      <td>0.043513</td>\n",
              "      <td>0.020412</td>\n",
              "      <td>0.015325</td>\n",
              "      <td>-0.002042</td>\n",
              "      <td>0.011578</td>\n",
              "    </tr>\n",
              "    <tr>\n",
              "      <th>2018-01-29</th>\n",
              "      <td>-0.020699</td>\n",
              "      <td>0.028571</td>\n",
              "      <td>-0.015836</td>\n",
              "      <td>-0.004856</td>\n",
              "      <td>-0.008463</td>\n",
              "      <td>-0.006630</td>\n",
              "    </tr>\n",
              "    <tr>\n",
              "      <th>2018-01-30</th>\n",
              "      <td>-0.005894</td>\n",
              "      <td>-0.033784</td>\n",
              "      <td>-0.034722</td>\n",
              "      <td>-0.008230</td>\n",
              "      <td>-0.005475</td>\n",
              "      <td>-0.010257</td>\n",
              "    </tr>\n",
              "    <tr>\n",
              "      <th>2018-01-31</th>\n",
              "      <td>0.002755</td>\n",
              "      <td>0.067599</td>\n",
              "      <td>-0.007545</td>\n",
              "      <td>0.004149</td>\n",
              "      <td>-0.005023</td>\n",
              "      <td>0.000497</td>\n",
              "    </tr>\n",
              "  </tbody>\n",
              "</table>\n",
              "</div>"
            ],
            "text/plain": [
              "                AAPL       AMD       LNG       QQQ      SMLV       SPY\n",
              "Date                                                                  \n",
              "2018-01-25 -0.017851 -0.023603  0.015371 -0.000356  0.003776  0.000424\n",
              "2018-01-26  0.002338  0.043513  0.020412  0.015325 -0.002042  0.011578\n",
              "2018-01-29 -0.020699  0.028571 -0.015836 -0.004856 -0.008463 -0.006630\n",
              "2018-01-30 -0.005894 -0.033784 -0.034722 -0.008230 -0.005475 -0.010257\n",
              "2018-01-31  0.002755  0.067599 -0.007545  0.004149 -0.005023  0.000497"
            ]
          },
          "metadata": {
            "tags": []
          },
          "execution_count": 158
        }
      ]
    },
    {
      "cell_type": "code",
      "metadata": {
        "id": "lWcgHy_Mh760",
        "colab_type": "code",
        "colab": {
          "base_uri": "https://localhost:8080/",
          "height": 228
        },
        "outputId": "bcc7c80c-1938-4d90-a0dc-ba55f70f72c6"
      },
      "source": [
        "returns_monthly = monthly.pct_change().dropna()\n",
        "returns_monthly.head()"
      ],
      "execution_count": 159,
      "outputs": [
        {
          "output_type": "execute_result",
          "data": {
            "text/html": [
              "<div>\n",
              "<style scoped>\n",
              "    .dataframe tbody tr th:only-of-type {\n",
              "        vertical-align: middle;\n",
              "    }\n",
              "\n",
              "    .dataframe tbody tr th {\n",
              "        vertical-align: top;\n",
              "    }\n",
              "\n",
              "    .dataframe thead th {\n",
              "        text-align: right;\n",
              "    }\n",
              "</style>\n",
              "<table border=\"1\" class=\"dataframe\">\n",
              "  <thead>\n",
              "    <tr style=\"text-align: right;\">\n",
              "      <th></th>\n",
              "      <th>AAPL</th>\n",
              "      <th>AMD</th>\n",
              "      <th>LNG</th>\n",
              "      <th>QQQ</th>\n",
              "      <th>SMLV</th>\n",
              "      <th>SPY</th>\n",
              "    </tr>\n",
              "    <tr>\n",
              "      <th>Date</th>\n",
              "      <th></th>\n",
              "      <th></th>\n",
              "      <th></th>\n",
              "      <th></th>\n",
              "      <th></th>\n",
              "      <th></th>\n",
              "    </tr>\n",
              "  </thead>\n",
              "  <tbody>\n",
              "    <tr>\n",
              "      <th>2013-04-01</th>\n",
              "      <td>-0.003624</td>\n",
              "      <td>0.008264</td>\n",
              "      <td>0.320416</td>\n",
              "      <td>0.018986</td>\n",
              "      <td>0.037543</td>\n",
              "      <td>0.030471</td>\n",
              "    </tr>\n",
              "    <tr>\n",
              "      <th>2013-05-01</th>\n",
              "      <td>0.024201</td>\n",
              "      <td>0.319672</td>\n",
              "      <td>-0.001790</td>\n",
              "      <td>0.027591</td>\n",
              "      <td>0.004701</td>\n",
              "      <td>0.014290</td>\n",
              "    </tr>\n",
              "    <tr>\n",
              "      <th>2013-06-03</th>\n",
              "      <td>0.032870</td>\n",
              "      <td>0.229814</td>\n",
              "      <td>0.048404</td>\n",
              "      <td>0.042478</td>\n",
              "      <td>0.020168</td>\n",
              "      <td>0.038350</td>\n",
              "    </tr>\n",
              "    <tr>\n",
              "      <th>2013-07-01</th>\n",
              "      <td>-0.092075</td>\n",
              "      <td>0.035354</td>\n",
              "      <td>-0.014022</td>\n",
              "      <td>-0.019656</td>\n",
              "      <td>-0.003289</td>\n",
              "      <td>-0.013014</td>\n",
              "    </tr>\n",
              "    <tr>\n",
              "      <th>2013-08-01</th>\n",
              "      <td>0.115967</td>\n",
              "      <td>-0.070732</td>\n",
              "      <td>0.012834</td>\n",
              "      <td>0.067355</td>\n",
              "      <td>0.069600</td>\n",
              "      <td>0.057635</td>\n",
              "    </tr>\n",
              "  </tbody>\n",
              "</table>\n",
              "</div>"
            ],
            "text/plain": [
              "                AAPL       AMD       LNG       QQQ      SMLV       SPY\n",
              "Date                                                                  \n",
              "2013-04-01 -0.003624  0.008264  0.320416  0.018986  0.037543  0.030471\n",
              "2013-05-01  0.024201  0.319672 -0.001790  0.027591  0.004701  0.014290\n",
              "2013-06-03  0.032870  0.229814  0.048404  0.042478  0.020168  0.038350\n",
              "2013-07-01 -0.092075  0.035354 -0.014022 -0.019656 -0.003289 -0.013014\n",
              "2013-08-01  0.115967 -0.070732  0.012834  0.067355  0.069600  0.057635"
            ]
          },
          "metadata": {
            "tags": []
          },
          "execution_count": 159
        }
      ]
    },
    {
      "cell_type": "code",
      "metadata": {
        "id": "T4FtdLIViBjz",
        "colab_type": "code",
        "colab": {}
      },
      "source": [
        "covariances = {}\n",
        "rtd_idx = returns_daily.index\n",
        "for i in returns_monthly.index:\n",
        "  mask = (rtd_idx.month == i.month) & (rtd_idx.year == i.year)\n",
        "  covs = returns_daily[mask].cov()\n",
        "  covariances[i] = covs"
      ],
      "execution_count": 0,
      "outputs": []
    },
    {
      "cell_type": "code",
      "metadata": {
        "id": "rKTFKPMCimyr",
        "colab_type": "code",
        "colab": {
          "base_uri": "https://localhost:8080/",
          "height": 228
        },
        "outputId": "68b1cae1-9f8b-42ab-9a75-84d4c4d6728c"
      },
      "source": [
        "covs"
      ],
      "execution_count": 165,
      "outputs": [
        {
          "output_type": "execute_result",
          "data": {
            "text/html": [
              "<div>\n",
              "<style scoped>\n",
              "    .dataframe tbody tr th:only-of-type {\n",
              "        vertical-align: middle;\n",
              "    }\n",
              "\n",
              "    .dataframe tbody tr th {\n",
              "        vertical-align: top;\n",
              "    }\n",
              "\n",
              "    .dataframe thead th {\n",
              "        text-align: right;\n",
              "    }\n",
              "</style>\n",
              "<table border=\"1\" class=\"dataframe\">\n",
              "  <thead>\n",
              "    <tr style=\"text-align: right;\">\n",
              "      <th></th>\n",
              "      <th>AAPL</th>\n",
              "      <th>AMD</th>\n",
              "      <th>LNG</th>\n",
              "      <th>QQQ</th>\n",
              "      <th>SMLV</th>\n",
              "      <th>SPY</th>\n",
              "    </tr>\n",
              "  </thead>\n",
              "  <tbody>\n",
              "    <tr>\n",
              "      <th>AAPL</th>\n",
              "      <td>0.000103</td>\n",
              "      <td>0.000109</td>\n",
              "      <td>0.000021</td>\n",
              "      <td>0.000049</td>\n",
              "      <td>0.000018</td>\n",
              "      <td>0.000033</td>\n",
              "    </tr>\n",
              "    <tr>\n",
              "      <th>AMD</th>\n",
              "      <td>0.000109</td>\n",
              "      <td>0.000996</td>\n",
              "      <td>0.000078</td>\n",
              "      <td>0.000113</td>\n",
              "      <td>0.000004</td>\n",
              "      <td>0.000057</td>\n",
              "    </tr>\n",
              "    <tr>\n",
              "      <th>LNG</th>\n",
              "      <td>0.000021</td>\n",
              "      <td>0.000078</td>\n",
              "      <td>0.000224</td>\n",
              "      <td>0.000050</td>\n",
              "      <td>0.000022</td>\n",
              "      <td>0.000040</td>\n",
              "    </tr>\n",
              "    <tr>\n",
              "      <th>QQQ</th>\n",
              "      <td>0.000049</td>\n",
              "      <td>0.000113</td>\n",
              "      <td>0.000050</td>\n",
              "      <td>0.000049</td>\n",
              "      <td>0.000017</td>\n",
              "      <td>0.000034</td>\n",
              "    </tr>\n",
              "    <tr>\n",
              "      <th>SMLV</th>\n",
              "      <td>0.000018</td>\n",
              "      <td>0.000004</td>\n",
              "      <td>0.000022</td>\n",
              "      <td>0.000017</td>\n",
              "      <td>0.000034</td>\n",
              "      <td>0.000018</td>\n",
              "    </tr>\n",
              "    <tr>\n",
              "      <th>SPY</th>\n",
              "      <td>0.000033</td>\n",
              "      <td>0.000057</td>\n",
              "      <td>0.000040</td>\n",
              "      <td>0.000034</td>\n",
              "      <td>0.000018</td>\n",
              "      <td>0.000030</td>\n",
              "    </tr>\n",
              "  </tbody>\n",
              "</table>\n",
              "</div>"
            ],
            "text/plain": [
              "          AAPL       AMD       LNG       QQQ      SMLV       SPY\n",
              "AAPL  0.000103  0.000109  0.000021  0.000049  0.000018  0.000033\n",
              "AMD   0.000109  0.000996  0.000078  0.000113  0.000004  0.000057\n",
              "LNG   0.000021  0.000078  0.000224  0.000050  0.000022  0.000040\n",
              "QQQ   0.000049  0.000113  0.000050  0.000049  0.000017  0.000034\n",
              "SMLV  0.000018  0.000004  0.000022  0.000017  0.000034  0.000018\n",
              "SPY   0.000033  0.000057  0.000040  0.000034  0.000018  0.000030"
            ]
          },
          "metadata": {
            "tags": []
          },
          "execution_count": 165
        }
      ]
    },
    {
      "cell_type": "code",
      "metadata": {
        "id": "iPXT-sWooX2t",
        "colab_type": "code",
        "colab": {}
      },
      "source": [
        "portfolio_returns, portfolio_volatility, portfolio_weights = {}, {}, {}"
      ],
      "execution_count": 0,
      "outputs": []
    },
    {
      "cell_type": "code",
      "metadata": {
        "id": "EoyfX7gGo8Fb",
        "colab_type": "code",
        "colab": {
          "base_uri": "https://localhost:8080/",
          "height": 35
        },
        "outputId": "bcb8438b-2cc2-4957-8ff4-fe55e430d2c3"
      },
      "source": [
        "for date in sorted(covariances.keys()):\n",
        "  cov = covariances[date]\n",
        "  for portfolio in range(10):\n",
        "    weights = np.random.random(6)\n",
        "    weights /= np.sum(weights)\n",
        "    returns = np.dot(weights, returns_monthly.loc[date])\n",
        "    volatility = np.sqrt(np.dot(weights.T, np.dot(cov, weights)))\n",
        "    portfolio_returns.setdefault(date, []).append(returns)\n",
        "    portfolio_volatility.setdefault(date, []).append(volatility)\n",
        "    portfolio_weights.setdefault(date, []).append(weights)\n",
        "print(portfolio_weights[date][0])"
      ],
      "execution_count": 167,
      "outputs": [
        {
          "output_type": "stream",
          "text": [
            "[0.00268222 0.09128099 0.17116033 0.24965397 0.25515008 0.23007242]\n"
          ],
          "name": "stdout"
        }
      ]
    },
    {
      "cell_type": "code",
      "metadata": {
        "id": "CbWut07RrGCI",
        "colab_type": "code",
        "colab": {}
      },
      "source": [
        ""
      ],
      "execution_count": 0,
      "outputs": []
    }
  ]
}