{
  "nbformat": 4,
  "nbformat_minor": 0,
  "metadata": {
    "colab": {
      "name": "Machine Learning for Finance.ipynb",
      "provenance": [],
      "include_colab_link": true
    },
    "kernelspec": {
      "name": "python3",
      "display_name": "Python 3"
    },
    "accelerator": "GPU"
  },
  "cells": [
    {
      "cell_type": "markdown",
      "metadata": {
        "id": "view-in-github",
        "colab_type": "text"
      },
      "source": [
        "<a href=\"https://colab.research.google.com/github/thap/machine-learning-finance/blob/master/notebooks/Machine_Learning_for_Finance.ipynb\" target=\"_parent\"><img src=\"https://colab.research.google.com/assets/colab-badge.svg\" alt=\"Open In Colab\"/></a>"
      ]
    },
    {
      "cell_type": "markdown",
      "metadata": {
        "id": "UlZxm9VukAHK",
        "colab_type": "text"
      },
      "source": [
        "# Machine Learning for Finance"
      ]
    },
    {
      "cell_type": "markdown",
      "metadata": {
        "id": "wp7TMfOGkhxc",
        "colab_type": "text"
      },
      "source": [
        "## Mount Data from Drive"
      ]
    },
    {
      "cell_type": "code",
      "metadata": {
        "id": "4L0h7Wj9kgsm",
        "colab_type": "code",
        "outputId": "86912546-058f-4c09-9ccb-687ce7228070",
        "colab": {
          "base_uri": "https://localhost:8080/",
          "height": 55
        }
      },
      "source": [
        "from google.colab import drive\n",
        "drive.mount('/content/drive')"
      ],
      "execution_count": 30,
      "outputs": [
        {
          "output_type": "stream",
          "text": [
            "Drive already mounted at /content/drive; to attempt to forcibly remount, call drive.mount(\"/content/drive\", force_remount=True).\n"
          ],
          "name": "stdout"
        }
      ]
    },
    {
      "cell_type": "code",
      "metadata": {
        "id": "sjiAnn30jt-4",
        "colab_type": "code",
        "outputId": "c491ed3a-6771-43f9-dcef-55dc544013da",
        "colab": {
          "base_uri": "https://localhost:8080/",
          "height": 55
        }
      },
      "source": [
        "import os\n",
        "os.chdir('/content/drive/My Drive/data/machine_learning_finance/')\n",
        "print(os.listdir())"
      ],
      "execution_count": 31,
      "outputs": [
        {
          "output_type": "stream",
          "text": [
            "['AAPL.csv', 'AMD.csv', 'QQQ.csv', 'SPY.csv', 'LNG.csv', 'SMLV.csv', 'ta-lib-0.4.0-src.tar.gz']\n"
          ],
          "name": "stdout"
        }
      ]
    },
    {
      "cell_type": "code",
      "metadata": {
        "id": "3c8LCpqv4-B7",
        "colab_type": "code",
        "colab": {}
      },
      "source": [
        "!cp ta-lib-0.4.0-src.tar.gz /content/"
      ],
      "execution_count": 0,
      "outputs": []
    },
    {
      "cell_type": "code",
      "metadata": {
        "id": "sP8LHlqP5ESm",
        "colab_type": "code",
        "colab": {}
      },
      "source": [
        "os.chdir('/content')"
      ],
      "execution_count": 0,
      "outputs": []
    },
    {
      "cell_type": "code",
      "metadata": {
        "id": "le3eZc-r5asf",
        "colab_type": "code",
        "outputId": "7e41d068-1baa-4a8d-db68-f8e4dfbc8469",
        "colab": {
          "base_uri": "https://localhost:8080/",
          "height": 35
        }
      },
      "source": [
        "!ls"
      ],
      "execution_count": 5,
      "outputs": [
        {
          "output_type": "stream",
          "text": [
            "drive  sample_data  ta-lib-0.4.0-src.tar.gz\n"
          ],
          "name": "stdout"
        }
      ]
    },
    {
      "cell_type": "code",
      "metadata": {
        "id": "pThwoPwf5qZs",
        "colab_type": "code",
        "colab": {}
      },
      "source": [
        "!tar xvzf ta-lib-0.4.0-src.tar.gz"
      ],
      "execution_count": 0,
      "outputs": []
    },
    {
      "cell_type": "code",
      "metadata": {
        "id": "9Imgb97l5zyP",
        "colab_type": "code",
        "outputId": "f86e233b-1907-4d0a-c933-a94e43f229db",
        "colab": {
          "base_uri": "https://localhost:8080/",
          "height": 35
        }
      },
      "source": [
        "!ls"
      ],
      "execution_count": 7,
      "outputs": [
        {
          "output_type": "stream",
          "text": [
            "drive  sample_data  ta-lib  ta-lib-0.4.0-src.tar.gz\n"
          ],
          "name": "stdout"
        }
      ]
    },
    {
      "cell_type": "code",
      "metadata": {
        "id": "-VT2pztQ503X",
        "colab_type": "code",
        "colab": {}
      },
      "source": [
        "os.chdir('ta-lib')"
      ],
      "execution_count": 0,
      "outputs": []
    },
    {
      "cell_type": "code",
      "metadata": {
        "id": "YLrg28-x55CE",
        "colab_type": "code",
        "colab": {}
      },
      "source": [
        "!./configure --prefix=/usr"
      ],
      "execution_count": 0,
      "outputs": []
    },
    {
      "cell_type": "code",
      "metadata": {
        "id": "SxIgScMM5_Me",
        "colab_type": "code",
        "colab": {}
      },
      "source": [
        "!make"
      ],
      "execution_count": 0,
      "outputs": []
    },
    {
      "cell_type": "code",
      "metadata": {
        "id": "uFg28B3K6CZU",
        "colab_type": "code",
        "colab": {}
      },
      "source": [
        "!make install"
      ],
      "execution_count": 0,
      "outputs": []
    },
    {
      "cell_type": "code",
      "metadata": {
        "id": "_R2utsYE6Kfb",
        "colab_type": "code",
        "outputId": "7f9f43b0-deb0-4dc0-f3e6-ae25f6dfb396",
        "colab": {
          "base_uri": "https://localhost:8080/",
          "height": 35
        }
      },
      "source": [
        "os.chdir('..')\n",
        "!ls"
      ],
      "execution_count": 12,
      "outputs": [
        {
          "output_type": "stream",
          "text": [
            "drive  sample_data  ta-lib  ta-lib-0.4.0-src.tar.gz\n"
          ],
          "name": "stdout"
        }
      ]
    },
    {
      "cell_type": "code",
      "metadata": {
        "id": "q9UJCLxj6PCu",
        "colab_type": "code",
        "colab": {}
      },
      "source": [
        "!pip install TA-Lib"
      ],
      "execution_count": 0,
      "outputs": []
    },
    {
      "cell_type": "code",
      "metadata": {
        "id": "WtmguF3Q6vL2",
        "colab_type": "code",
        "outputId": "4464c52f-f935-4dde-aec7-d338613fc40c",
        "colab": {
          "base_uri": "https://localhost:8080/",
          "height": 55
        }
      },
      "source": [
        "os.chdir('/content/drive/My Drive/data/machine_learning_finance/')\n",
        "print(os.listdir())"
      ],
      "execution_count": 14,
      "outputs": [
        {
          "output_type": "stream",
          "text": [
            "['AAPL.csv', 'AMD.csv', 'QQQ.csv', 'SPY.csv', 'LNG.csv', 'SMLV.csv', 'ta-lib-0.4.0-src.tar.gz']\n"
          ],
          "name": "stdout"
        }
      ]
    },
    {
      "cell_type": "markdown",
      "metadata": {
        "id": "D8MqD12FldUl",
        "colab_type": "text"
      },
      "source": [
        "## Import Data"
      ]
    },
    {
      "cell_type": "code",
      "metadata": {
        "id": "DYqx-_BvlRrU",
        "colab_type": "code",
        "colab": {}
      },
      "source": [
        "import pandas as pd"
      ],
      "execution_count": 0,
      "outputs": []
    },
    {
      "cell_type": "code",
      "metadata": {
        "id": "j8pRyLwSlqgX",
        "colab_type": "code",
        "colab": {}
      },
      "source": [
        "lng = pd.read_csv('LNG.csv', index_col='Date', parse_dates=True)"
      ],
      "execution_count": 0,
      "outputs": []
    },
    {
      "cell_type": "code",
      "metadata": {
        "id": "6TzvfyA3m2ul",
        "colab_type": "code",
        "outputId": "4ec1b53e-20ca-4195-a913-2b63d583d5d2",
        "colab": {
          "base_uri": "https://localhost:8080/",
          "height": 35
        }
      },
      "source": [
        "lng = lng['2016-04-15':'2018-04-10']\n",
        "lng.shape"
      ],
      "execution_count": 82,
      "outputs": [
        {
          "output_type": "execute_result",
          "data": {
            "text/plain": [
              "(500, 2)"
            ]
          },
          "metadata": {
            "tags": []
          },
          "execution_count": 82
        }
      ]
    },
    {
      "cell_type": "code",
      "metadata": {
        "id": "qk9Mquv1pFCl",
        "colab_type": "code",
        "outputId": "b1f4cb41-ce0f-487c-f087-fa781b04054e",
        "colab": {
          "base_uri": "https://localhost:8080/",
          "height": 228
        }
      },
      "source": [
        "lng.head()"
      ],
      "execution_count": 83,
      "outputs": [
        {
          "output_type": "execute_result",
          "data": {
            "text/html": [
              "<div>\n",
              "<style scoped>\n",
              "    .dataframe tbody tr th:only-of-type {\n",
              "        vertical-align: middle;\n",
              "    }\n",
              "\n",
              "    .dataframe tbody tr th {\n",
              "        vertical-align: top;\n",
              "    }\n",
              "\n",
              "    .dataframe thead th {\n",
              "        text-align: right;\n",
              "    }\n",
              "</style>\n",
              "<table border=\"1\" class=\"dataframe\">\n",
              "  <thead>\n",
              "    <tr style=\"text-align: right;\">\n",
              "      <th></th>\n",
              "      <th>Adj_Close</th>\n",
              "      <th>Adj_Volume</th>\n",
              "    </tr>\n",
              "    <tr>\n",
              "      <th>Date</th>\n",
              "      <th></th>\n",
              "      <th></th>\n",
              "    </tr>\n",
              "  </thead>\n",
              "  <tbody>\n",
              "    <tr>\n",
              "      <th>2016-04-15</th>\n",
              "      <td>37.13</td>\n",
              "      <td>4293775.0</td>\n",
              "    </tr>\n",
              "    <tr>\n",
              "      <th>2016-04-18</th>\n",
              "      <td>36.90</td>\n",
              "      <td>3445852.0</td>\n",
              "    </tr>\n",
              "    <tr>\n",
              "      <th>2016-04-19</th>\n",
              "      <td>37.12</td>\n",
              "      <td>3748050.0</td>\n",
              "    </tr>\n",
              "    <tr>\n",
              "      <th>2016-04-20</th>\n",
              "      <td>37.77</td>\n",
              "      <td>2470384.0</td>\n",
              "    </tr>\n",
              "    <tr>\n",
              "      <th>2016-04-21</th>\n",
              "      <td>37.21</td>\n",
              "      <td>2043988.0</td>\n",
              "    </tr>\n",
              "  </tbody>\n",
              "</table>\n",
              "</div>"
            ],
            "text/plain": [
              "            Adj_Close  Adj_Volume\n",
              "Date                             \n",
              "2016-04-15      37.13   4293775.0\n",
              "2016-04-18      36.90   3445852.0\n",
              "2016-04-19      37.12   3748050.0\n",
              "2016-04-20      37.77   2470384.0\n",
              "2016-04-21      37.21   2043988.0"
            ]
          },
          "metadata": {
            "tags": []
          },
          "execution_count": 83
        }
      ]
    },
    {
      "cell_type": "code",
      "metadata": {
        "id": "JuqufD8BlsZg",
        "colab_type": "code",
        "colab": {}
      },
      "source": [
        "spy = pd.read_csv('SPY.csv', index_col='Date', parse_dates=True)"
      ],
      "execution_count": 0,
      "outputs": []
    },
    {
      "cell_type": "code",
      "metadata": {
        "id": "HB-34VfPlwZx",
        "colab_type": "code",
        "outputId": "fa58edad-7dd0-4ac9-d8a6-8ffafa1be2c2",
        "colab": {
          "base_uri": "https://localhost:8080/",
          "height": 35
        }
      },
      "source": [
        "spy = spy['2016-04-15':'2018-04-10']\n",
        "spy.shape"
      ],
      "execution_count": 85,
      "outputs": [
        {
          "output_type": "execute_result",
          "data": {
            "text/plain": [
              "(500, 2)"
            ]
          },
          "metadata": {
            "tags": []
          },
          "execution_count": 85
        }
      ]
    },
    {
      "cell_type": "code",
      "metadata": {
        "id": "mWK_scudpDkx",
        "colab_type": "code",
        "outputId": "266c437f-da84-46bd-acf0-f00d2d512c78",
        "colab": {
          "base_uri": "https://localhost:8080/",
          "height": 228
        }
      },
      "source": [
        "spy.head()"
      ],
      "execution_count": 86,
      "outputs": [
        {
          "output_type": "execute_result",
          "data": {
            "text/html": [
              "<div>\n",
              "<style scoped>\n",
              "    .dataframe tbody tr th:only-of-type {\n",
              "        vertical-align: middle;\n",
              "    }\n",
              "\n",
              "    .dataframe tbody tr th {\n",
              "        vertical-align: top;\n",
              "    }\n",
              "\n",
              "    .dataframe thead th {\n",
              "        text-align: right;\n",
              "    }\n",
              "</style>\n",
              "<table border=\"1\" class=\"dataframe\">\n",
              "  <thead>\n",
              "    <tr style=\"text-align: right;\">\n",
              "      <th></th>\n",
              "      <th>Adj_Close</th>\n",
              "      <th>Adj_Volume</th>\n",
              "    </tr>\n",
              "    <tr>\n",
              "      <th>Date</th>\n",
              "      <th></th>\n",
              "      <th></th>\n",
              "    </tr>\n",
              "  </thead>\n",
              "  <tbody>\n",
              "    <tr>\n",
              "      <th>2016-04-15</th>\n",
              "      <td>199.760673</td>\n",
              "      <td>75761600.0</td>\n",
              "    </tr>\n",
              "    <tr>\n",
              "      <th>2016-04-18</th>\n",
              "      <td>201.164330</td>\n",
              "      <td>75277700.0</td>\n",
              "    </tr>\n",
              "    <tr>\n",
              "      <th>2016-04-19</th>\n",
              "      <td>201.798846</td>\n",
              "      <td>88316100.0</td>\n",
              "    </tr>\n",
              "    <tr>\n",
              "      <th>2016-04-20</th>\n",
              "      <td>201.991139</td>\n",
              "      <td>81100300.0</td>\n",
              "    </tr>\n",
              "    <tr>\n",
              "      <th>2016-04-21</th>\n",
              "      <td>200.904747</td>\n",
              "      <td>85695000.0</td>\n",
              "    </tr>\n",
              "  </tbody>\n",
              "</table>\n",
              "</div>"
            ],
            "text/plain": [
              "             Adj_Close  Adj_Volume\n",
              "Date                              \n",
              "2016-04-15  199.760673  75761600.0\n",
              "2016-04-18  201.164330  75277700.0\n",
              "2016-04-19  201.798846  88316100.0\n",
              "2016-04-20  201.991139  81100300.0\n",
              "2016-04-21  200.904747  85695000.0"
            ]
          },
          "metadata": {
            "tags": []
          },
          "execution_count": 86
        }
      ]
    },
    {
      "cell_type": "markdown",
      "metadata": {
        "id": "gsvDx3qmoLMo",
        "colab_type": "text"
      },
      "source": [
        "## EDA"
      ]
    },
    {
      "cell_type": "code",
      "metadata": {
        "id": "i2GlSkVtoTGu",
        "colab_type": "code",
        "colab": {}
      },
      "source": [
        "import matplotlib.pyplot as plt\n",
        "%matplotlib inline"
      ],
      "execution_count": 0,
      "outputs": []
    },
    {
      "cell_type": "code",
      "metadata": {
        "id": "RX_OtEIboCIL",
        "colab_type": "code",
        "outputId": "de947f83-b91c-4add-99ae-b6e90ba10cee",
        "colab": {
          "base_uri": "https://localhost:8080/",
          "height": 281
        }
      },
      "source": [
        "plt.figure()\n",
        "spy['Adj_Close'].plot(label='SPY', legend=True)\n",
        "lng['Adj_Close'].plot(label='LNG', legend=True, secondary_y=True)\n",
        "plt.show()"
      ],
      "execution_count": 88,
      "outputs": [
        {
          "output_type": "display_data",
          "data": {
            "image/png": "[encoded data removed]",
            "text/plain": [
              "<Figure size 432x288 with 2 Axes>"
            ]
          },
          "metadata": {
            "tags": []
          }
        }
      ]
    },
    {
      "cell_type": "code",
      "metadata": {
        "id": "v7PFlUBGoqxo",
        "colab_type": "code",
        "outputId": "510a6cd8-dbb2-4896-bdca-980b31ba12bd",
        "colab": {
          "base_uri": "https://localhost:8080/",
          "height": 283
        }
      },
      "source": [
        "plt.figure()\n",
        "lng['Adj_Close'].pct_change().plot.hist(bins=50)\n",
        "plt.xlabel('Adjusted close 1-day percent change')\n",
        "plt.show()"
      ],
      "execution_count": 89,
      "outputs": [
        {
          "output_type": "display_data",
          "data": {
            "image/png": "[encoded data removed]",
            "text/plain": [
              "<Figure size 432x288 with 1 Axes>"
            ]
          },
          "metadata": {
            "tags": []
          }
        }
      ]
    },
    {
      "cell_type": "markdown",
      "metadata": {
        "id": "3C-irqyLrf1J",
        "colab_type": "text"
      },
      "source": [
        "## Correlations"
      ]
    },
    {
      "cell_type": "code",
      "metadata": {
        "id": "jkJM0pVmpqCr",
        "colab_type": "code",
        "colab": {}
      },
      "source": [
        "lng['5d_future_close'] = lng['Adj_Close'].shift(-5)\n",
        "lng['5d_close_future_pct'] = lng['5d_future_close'].pct_change(5)\n",
        "lng['5d_close_pct'] = lng['Adj_Close'].pct_change(5)"
      ],
      "execution_count": 0,
      "outputs": []
    },
    {
      "cell_type": "code",
      "metadata": {
        "id": "5qKL9mUusF4H",
        "colab_type": "code",
        "outputId": "9cd6aa1c-319d-411e-f333-cbeec6e31e76",
        "colab": {
          "base_uri": "https://localhost:8080/",
          "height": 69
        }
      },
      "source": [
        "corr = lng[['5d_close_pct', '5d_close_future_pct']].corr()\n",
        "print(corr)"
      ],
      "execution_count": 91,
      "outputs": [
        {
          "output_type": "stream",
          "text": [
            "                     5d_close_pct  5d_close_future_pct\n",
            "5d_close_pct             1.000000            -0.164861\n",
            "5d_close_future_pct     -0.164861             1.000000\n"
          ],
          "name": "stdout"
        }
      ]
    },
    {
      "cell_type": "code",
      "metadata": {
        "id": "yMmzxV96sNl_",
        "colab_type": "code",
        "outputId": "d98af172-ca86-4210-c899-d172cc71c5be",
        "colab": {
          "base_uri": "https://localhost:8080/",
          "height": 269
        }
      },
      "source": [
        "plt.scatter('5d_close_pct', '5d_close_future_pct', data=lng)\n",
        "plt.show()"
      ],
      "execution_count": 92,
      "outputs": [
        {
          "output_type": "display_data",
          "data": {
            "image/png": "[encoded data removed]",
            "text/plain": [
              "<Figure size 432x288 with 1 Axes>"
            ]
          },
          "metadata": {
            "tags": []
          }
        }
      ]
    },
    {
      "cell_type": "markdown",
      "metadata": {
        "id": "CV24mIGCh2Ne",
        "colab_type": "text"
      },
      "source": [
        "## Moving Average and RSI Features"
      ]
    },
    {
      "cell_type": "code",
      "metadata": {
        "id": "9OngH-wMvdbT",
        "colab_type": "code",
        "colab": {}
      },
      "source": [
        "import talib"
      ],
      "execution_count": 0,
      "outputs": []
    },
    {
      "cell_type": "code",
      "metadata": {
        "id": "lscbLt2LsXoI",
        "colab_type": "code",
        "outputId": "632ef10a-2636-46a0-abb2-3d47c13af226",
        "colab": {
          "base_uri": "https://localhost:8080/",
          "height": 55
        }
      },
      "source": [
        "feature_names = ['5d_close_pct']\n",
        "for n in [14, 30, 50, 200]:\n",
        "  lng['ma' + str(n)] = talib.SMA(lng['Adj_Close'].values, \n",
        "                                 timeperiod=n) / lng['Adj_Close']\n",
        "  lng['rsi' + str(n)] = talib.RSI(lng['Adj_Close'].values, timeperiod=n)\n",
        "  feature_names = feature_names + ['ma' + str(n), 'rsi' + str(n)]\n",
        "print(feature_names)"
      ],
      "execution_count": 94,
      "outputs": [
        {
          "output_type": "stream",
          "text": [
            "['5d_close_pct', 'ma14', 'rsi14', 'ma30', 'rsi30', 'ma50', 'rsi50', 'ma200', 'rsi200']\n"
          ],
          "name": "stdout"
        }
      ]
    },
    {
      "cell_type": "code",
      "metadata": {
        "id": "2mS63hdSWde4",
        "colab_type": "code",
        "colab": {
          "base_uri": "https://localhost:8080/",
          "height": 571
        },
        "outputId": "e13a8241-4e05-4648-d9c0-2cc2ababf280"
      },
      "source": [
        "lng.head(10)"
      ],
      "execution_count": 95,
      "outputs": [
        {
          "output_type": "execute_result",
          "data": {
            "text/html": [
              "<div>\n",
              "<style scoped>\n",
              "    .dataframe tbody tr th:only-of-type {\n",
              "        vertical-align: middle;\n",
              "    }\n",
              "\n",
              "    .dataframe tbody tr th {\n",
              "        vertical-align: top;\n",
              "    }\n",
              "\n",
              "    .dataframe thead th {\n",
              "        text-align: right;\n",
              "    }\n",
              "</style>\n",
              "<table border=\"1\" class=\"dataframe\">\n",
              "  <thead>\n",
              "    <tr style=\"text-align: right;\">\n",
              "      <th></th>\n",
              "      <th>Adj_Close</th>\n",
              "      <th>Adj_Volume</th>\n",
              "      <th>5d_future_close</th>\n",
              "      <th>5d_close_future_pct</th>\n",
              "      <th>5d_close_pct</th>\n",
              "      <th>ma14</th>\n",
              "      <th>rsi14</th>\n",
              "      <th>ma30</th>\n",
              "      <th>rsi30</th>\n",
              "      <th>ma50</th>\n",
              "      <th>rsi50</th>\n",
              "      <th>ma200</th>\n",
              "      <th>rsi200</th>\n",
              "    </tr>\n",
              "    <tr>\n",
              "      <th>Date</th>\n",
              "      <th></th>\n",
              "      <th></th>\n",
              "      <th></th>\n",
              "      <th></th>\n",
              "      <th></th>\n",
              "      <th></th>\n",
              "      <th></th>\n",
              "      <th></th>\n",
              "      <th></th>\n",
              "      <th></th>\n",
              "      <th></th>\n",
              "      <th></th>\n",
              "      <th></th>\n",
              "    </tr>\n",
              "  </thead>\n",
              "  <tbody>\n",
              "    <tr>\n",
              "      <th>2016-04-15</th>\n",
              "      <td>37.13</td>\n",
              "      <td>4293775.0</td>\n",
              "      <td>37.40</td>\n",
              "      <td>NaN</td>\n",
              "      <td>NaN</td>\n",
              "      <td>NaN</td>\n",
              "      <td>NaN</td>\n",
              "      <td>NaN</td>\n",
              "      <td>NaN</td>\n",
              "      <td>NaN</td>\n",
              "      <td>NaN</td>\n",
              "      <td>NaN</td>\n",
              "      <td>NaN</td>\n",
              "    </tr>\n",
              "    <tr>\n",
              "      <th>2016-04-18</th>\n",
              "      <td>36.90</td>\n",
              "      <td>3445852.0</td>\n",
              "      <td>36.75</td>\n",
              "      <td>NaN</td>\n",
              "      <td>NaN</td>\n",
              "      <td>NaN</td>\n",
              "      <td>NaN</td>\n",
              "      <td>NaN</td>\n",
              "      <td>NaN</td>\n",
              "      <td>NaN</td>\n",
              "      <td>NaN</td>\n",
              "      <td>NaN</td>\n",
              "      <td>NaN</td>\n",
              "    </tr>\n",
              "    <tr>\n",
              "      <th>2016-04-19</th>\n",
              "      <td>37.12</td>\n",
              "      <td>3748050.0</td>\n",
              "      <td>37.25</td>\n",
              "      <td>NaN</td>\n",
              "      <td>NaN</td>\n",
              "      <td>NaN</td>\n",
              "      <td>NaN</td>\n",
              "      <td>NaN</td>\n",
              "      <td>NaN</td>\n",
              "      <td>NaN</td>\n",
              "      <td>NaN</td>\n",
              "      <td>NaN</td>\n",
              "      <td>NaN</td>\n",
              "    </tr>\n",
              "    <tr>\n",
              "      <th>2016-04-20</th>\n",
              "      <td>37.77</td>\n",
              "      <td>2470384.0</td>\n",
              "      <td>39.11</td>\n",
              "      <td>NaN</td>\n",
              "      <td>NaN</td>\n",
              "      <td>NaN</td>\n",
              "      <td>NaN</td>\n",
              "      <td>NaN</td>\n",
              "      <td>NaN</td>\n",
              "      <td>NaN</td>\n",
              "      <td>NaN</td>\n",
              "      <td>NaN</td>\n",
              "      <td>NaN</td>\n",
              "    </tr>\n",
              "    <tr>\n",
              "      <th>2016-04-21</th>\n",
              "      <td>37.21</td>\n",
              "      <td>2043988.0</td>\n",
              "      <td>38.62</td>\n",
              "      <td>NaN</td>\n",
              "      <td>NaN</td>\n",
              "      <td>NaN</td>\n",
              "      <td>NaN</td>\n",
              "      <td>NaN</td>\n",
              "      <td>NaN</td>\n",
              "      <td>NaN</td>\n",
              "      <td>NaN</td>\n",
              "      <td>NaN</td>\n",
              "      <td>NaN</td>\n",
              "    </tr>\n",
              "    <tr>\n",
              "      <th>2016-04-22</th>\n",
              "      <td>37.40</td>\n",
              "      <td>2786757.0</td>\n",
              "      <td>38.88</td>\n",
              "      <td>0.039572</td>\n",
              "      <td>0.007272</td>\n",
              "      <td>NaN</td>\n",
              "      <td>NaN</td>\n",
              "      <td>NaN</td>\n",
              "      <td>NaN</td>\n",
              "      <td>NaN</td>\n",
              "      <td>NaN</td>\n",
              "      <td>NaN</td>\n",
              "      <td>NaN</td>\n",
              "    </tr>\n",
              "    <tr>\n",
              "      <th>2016-04-25</th>\n",
              "      <td>36.75</td>\n",
              "      <td>1830397.0</td>\n",
              "      <td>38.99</td>\n",
              "      <td>0.060952</td>\n",
              "      <td>-0.004065</td>\n",
              "      <td>NaN</td>\n",
              "      <td>NaN</td>\n",
              "      <td>NaN</td>\n",
              "      <td>NaN</td>\n",
              "      <td>NaN</td>\n",
              "      <td>NaN</td>\n",
              "      <td>NaN</td>\n",
              "      <td>NaN</td>\n",
              "    </tr>\n",
              "    <tr>\n",
              "      <th>2016-04-26</th>\n",
              "      <td>37.25</td>\n",
              "      <td>2384800.0</td>\n",
              "      <td>37.37</td>\n",
              "      <td>0.003221</td>\n",
              "      <td>0.003502</td>\n",
              "      <td>NaN</td>\n",
              "      <td>NaN</td>\n",
              "      <td>NaN</td>\n",
              "      <td>NaN</td>\n",
              "      <td>NaN</td>\n",
              "      <td>NaN</td>\n",
              "      <td>NaN</td>\n",
              "      <td>NaN</td>\n",
              "    </tr>\n",
              "    <tr>\n",
              "      <th>2016-04-27</th>\n",
              "      <td>39.11</td>\n",
              "      <td>2559759.0</td>\n",
              "      <td>35.85</td>\n",
              "      <td>-0.083355</td>\n",
              "      <td>0.035478</td>\n",
              "      <td>NaN</td>\n",
              "      <td>NaN</td>\n",
              "      <td>NaN</td>\n",
              "      <td>NaN</td>\n",
              "      <td>NaN</td>\n",
              "      <td>NaN</td>\n",
              "      <td>NaN</td>\n",
              "      <td>NaN</td>\n",
              "    </tr>\n",
              "    <tr>\n",
              "      <th>2016-04-28</th>\n",
              "      <td>38.62</td>\n",
              "      <td>2245100.0</td>\n",
              "      <td>36.11</td>\n",
              "      <td>-0.064992</td>\n",
              "      <td>0.037893</td>\n",
              "      <td>NaN</td>\n",
              "      <td>NaN</td>\n",
              "      <td>NaN</td>\n",
              "      <td>NaN</td>\n",
              "      <td>NaN</td>\n",
              "      <td>NaN</td>\n",
              "      <td>NaN</td>\n",
              "      <td>NaN</td>\n",
              "    </tr>\n",
              "  </tbody>\n",
              "</table>\n",
              "</div>"
            ],
            "text/plain": [
              "            Adj_Close  Adj_Volume  5d_future_close  ...  rsi50  ma200  rsi200\n",
              "Date                                                ...                      \n",
              "2016-04-15      37.13   4293775.0            37.40  ...    NaN    NaN     NaN\n",
              "2016-04-18      36.90   3445852.0            36.75  ...    NaN    NaN     NaN\n",
              "2016-04-19      37.12   3748050.0            37.25  ...    NaN    NaN     NaN\n",
              "2016-04-20      37.77   2470384.0            39.11  ...    NaN    NaN     NaN\n",
              "2016-04-21      37.21   2043988.0            38.62  ...    NaN    NaN     NaN\n",
              "2016-04-22      37.40   2786757.0            38.88  ...    NaN    NaN     NaN\n",
              "2016-04-25      36.75   1830397.0            38.99  ...    NaN    NaN     NaN\n",
              "2016-04-26      37.25   2384800.0            37.37  ...    NaN    NaN     NaN\n",
              "2016-04-27      39.11   2559759.0            35.85  ...    NaN    NaN     NaN\n",
              "2016-04-28      38.62   2245100.0            36.11  ...    NaN    NaN     NaN\n",
              "\n",
              "[10 rows x 13 columns]"
            ]
          },
          "metadata": {
            "tags": []
          },
          "execution_count": 95
        }
      ]
    },
    {
      "cell_type": "code",
      "metadata": {
        "id": "9OsCYx3z8EWi",
        "colab_type": "code",
        "colab": {
          "base_uri": "https://localhost:8080/",
          "height": 571
        },
        "outputId": "0d6992b9-0e61-4120-e21e-697c40fe5d26"
      },
      "source": [
        "lng.tail(10)"
      ],
      "execution_count": 96,
      "outputs": [
        {
          "output_type": "execute_result",
          "data": {
            "text/html": [
              "<div>\n",
              "<style scoped>\n",
              "    .dataframe tbody tr th:only-of-type {\n",
              "        vertical-align: middle;\n",
              "    }\n",
              "\n",
              "    .dataframe tbody tr th {\n",
              "        vertical-align: top;\n",
              "    }\n",
              "\n",
              "    .dataframe thead th {\n",
              "        text-align: right;\n",
              "    }\n",
              "</style>\n",
              "<table border=\"1\" class=\"dataframe\">\n",
              "  <thead>\n",
              "    <tr style=\"text-align: right;\">\n",
              "      <th></th>\n",
              "      <th>Adj_Close</th>\n",
              "      <th>Adj_Volume</th>\n",
              "      <th>5d_future_close</th>\n",
              "      <th>5d_close_future_pct</th>\n",
              "      <th>5d_close_pct</th>\n",
              "      <th>ma14</th>\n",
              "      <th>rsi14</th>\n",
              "      <th>ma30</th>\n",
              "      <th>rsi30</th>\n",
              "      <th>ma50</th>\n",
              "      <th>rsi50</th>\n",
              "      <th>ma200</th>\n",
              "      <th>rsi200</th>\n",
              "    </tr>\n",
              "    <tr>\n",
              "      <th>Date</th>\n",
              "      <th></th>\n",
              "      <th></th>\n",
              "      <th></th>\n",
              "      <th></th>\n",
              "      <th></th>\n",
              "      <th></th>\n",
              "      <th></th>\n",
              "      <th></th>\n",
              "      <th></th>\n",
              "      <th></th>\n",
              "      <th></th>\n",
              "      <th></th>\n",
              "      <th></th>\n",
              "    </tr>\n",
              "  </thead>\n",
              "  <tbody>\n",
              "    <tr>\n",
              "      <th>2018-03-27</th>\n",
              "      <td>53.06</td>\n",
              "      <td>1907271.0</td>\n",
              "      <td>54.30</td>\n",
              "      <td>0.023370</td>\n",
              "      <td>0.001510</td>\n",
              "      <td>1.004725</td>\n",
              "      <td>46.112898</td>\n",
              "      <td>1.026354</td>\n",
              "      <td>48.423080</td>\n",
              "      <td>1.041368</td>\n",
              "      <td>50.601497</td>\n",
              "      <td>0.922859</td>\n",
              "      <td>52.446487</td>\n",
              "    </tr>\n",
              "    <tr>\n",
              "      <th>2018-03-28</th>\n",
              "      <td>52.30</td>\n",
              "      <td>1272452.0</td>\n",
              "      <td>56.21</td>\n",
              "      <td>0.074761</td>\n",
              "      <td>-0.033986</td>\n",
              "      <td>1.017058</td>\n",
              "      <td>42.796606</td>\n",
              "      <td>1.038018</td>\n",
              "      <td>46.788195</td>\n",
              "      <td>1.055159</td>\n",
              "      <td>49.525314</td>\n",
              "      <td>0.936544</td>\n",
              "      <td>52.142361</td>\n",
              "    </tr>\n",
              "    <tr>\n",
              "      <th>2018-03-29</th>\n",
              "      <td>53.45</td>\n",
              "      <td>2756953.0</td>\n",
              "      <td>54.36</td>\n",
              "      <td>0.017025</td>\n",
              "      <td>0.027489</td>\n",
              "      <td>0.994387</td>\n",
              "      <td>48.797185</td>\n",
              "      <td>1.012735</td>\n",
              "      <td>49.459257</td>\n",
              "      <td>1.031622</td>\n",
              "      <td>51.130119</td>\n",
              "      <td>0.916875</td>\n",
              "      <td>52.560707</td>\n",
              "    </tr>\n",
              "    <tr>\n",
              "      <th>2018-04-02</th>\n",
              "      <td>52.99</td>\n",
              "      <td>2298339.0</td>\n",
              "      <td>54.10</td>\n",
              "      <td>0.020947</td>\n",
              "      <td>0.018843</td>\n",
              "      <td>1.002157</td>\n",
              "      <td>46.687504</td>\n",
              "      <td>1.018431</td>\n",
              "      <td>48.452838</td>\n",
              "      <td>1.039702</td>\n",
              "      <td>50.475091</td>\n",
              "      <td>0.925404</td>\n",
              "      <td>52.376647</td>\n",
              "    </tr>\n",
              "    <tr>\n",
              "      <th>2018-04-03</th>\n",
              "      <td>53.98</td>\n",
              "      <td>2230559.0</td>\n",
              "      <td>55.63</td>\n",
              "      <td>0.030567</td>\n",
              "      <td>0.028190</td>\n",
              "      <td>0.983883</td>\n",
              "      <td>51.543070</td>\n",
              "      <td>0.997493</td>\n",
              "      <td>50.686893</td>\n",
              "      <td>1.020085</td>\n",
              "      <td>51.830305</td>\n",
              "      <td>0.909116</td>\n",
              "      <td>52.734657</td>\n",
              "    </tr>\n",
              "    <tr>\n",
              "      <th>2018-04-04</th>\n",
              "      <td>54.30</td>\n",
              "      <td>1816771.0</td>\n",
              "      <td>NaN</td>\n",
              "      <td>0.024494</td>\n",
              "      <td>0.023370</td>\n",
              "      <td>0.978927</td>\n",
              "      <td>53.032126</td>\n",
              "      <td>0.989325</td>\n",
              "      <td>51.391328</td>\n",
              "      <td>1.013672</td>\n",
              "      <td>52.261174</td>\n",
              "      <td>0.904405</td>\n",
              "      <td>52.849803</td>\n",
              "    </tr>\n",
              "    <tr>\n",
              "      <th>2018-04-05</th>\n",
              "      <td>56.21</td>\n",
              "      <td>2533635.0</td>\n",
              "      <td>NaN</td>\n",
              "      <td>-0.010318</td>\n",
              "      <td>0.074761</td>\n",
              "      <td>0.948929</td>\n",
              "      <td>60.779231</td>\n",
              "      <td>0.955399</td>\n",
              "      <td>55.331261</td>\n",
              "      <td>0.978890</td>\n",
              "      <td>54.727566</td>\n",
              "      <td>0.874433</td>\n",
              "      <td>53.528929</td>\n",
              "    </tr>\n",
              "    <tr>\n",
              "      <th>2018-04-06</th>\n",
              "      <td>54.36</td>\n",
              "      <td>1754446.0</td>\n",
              "      <td>NaN</td>\n",
              "      <td>0.023363</td>\n",
              "      <td>0.017025</td>\n",
              "      <td>0.981276</td>\n",
              "      <td>51.857079</td>\n",
              "      <td>0.986761</td>\n",
              "      <td>51.175073</td>\n",
              "      <td>1.010901</td>\n",
              "      <td>52.068799</td>\n",
              "      <td>0.904928</td>\n",
              "      <td>52.788773</td>\n",
              "    </tr>\n",
              "    <tr>\n",
              "      <th>2018-04-09</th>\n",
              "      <td>54.10</td>\n",
              "      <td>1203998.0</td>\n",
              "      <td>NaN</td>\n",
              "      <td>0.028281</td>\n",
              "      <td>0.020947</td>\n",
              "      <td>0.988117</td>\n",
              "      <td>50.729971</td>\n",
              "      <td>0.990511</td>\n",
              "      <td>50.622244</td>\n",
              "      <td>1.014026</td>\n",
              "      <td>51.708543</td>\n",
              "      <td>0.909966</td>\n",
              "      <td>52.685875</td>\n",
              "    </tr>\n",
              "    <tr>\n",
              "      <th>2018-04-10</th>\n",
              "      <td>55.63</td>\n",
              "      <td>3430268.0</td>\n",
              "      <td>NaN</td>\n",
              "      <td>0.000000</td>\n",
              "      <td>0.030567</td>\n",
              "      <td>0.964343</td>\n",
              "      <td>56.694826</td>\n",
              "      <td>0.962886</td>\n",
              "      <td>53.669051</td>\n",
              "      <td>0.984569</td>\n",
              "      <td>53.634818</td>\n",
              "      <td>0.885689</td>\n",
              "      <td>53.225104</td>\n",
              "    </tr>\n",
              "  </tbody>\n",
              "</table>\n",
              "</div>"
            ],
            "text/plain": [
              "            Adj_Close  Adj_Volume  ...     ma200     rsi200\n",
              "Date                               ...                     \n",
              "2018-03-27      53.06   1907271.0  ...  0.922859  52.446487\n",
              "2018-03-28      52.30   1272452.0  ...  0.936544  52.142361\n",
              "2018-03-29      53.45   2756953.0  ...  0.916875  52.560707\n",
              "2018-04-02      52.99   2298339.0  ...  0.925404  52.376647\n",
              "2018-04-03      53.98   2230559.0  ...  0.909116  52.734657\n",
              "2018-04-04      54.30   1816771.0  ...  0.904405  52.849803\n",
              "2018-04-05      56.21   2533635.0  ...  0.874433  53.528929\n",
              "2018-04-06      54.36   1754446.0  ...  0.904928  52.788773\n",
              "2018-04-09      54.10   1203998.0  ...  0.909966  52.685875\n",
              "2018-04-10      55.63   3430268.0  ...  0.885689  53.225104\n",
              "\n",
              "[10 rows x 13 columns]"
            ]
          },
          "metadata": {
            "tags": []
          },
          "execution_count": 96
        }
      ]
    },
    {
      "cell_type": "code",
      "metadata": {
        "id": "d3akM4DeWGkY",
        "colab_type": "code",
        "colab": {
          "base_uri": "https://localhost:8080/",
          "height": 35
        },
        "outputId": "71df2a0d-b41b-44c1-c3a6-147166922e0a"
      },
      "source": [
        "lng = lng.dropna()\n",
        "lng.shape"
      ],
      "execution_count": 97,
      "outputs": [
        {
          "output_type": "execute_result",
          "data": {
            "text/plain": [
              "(295, 13)"
            ]
          },
          "metadata": {
            "tags": []
          },
          "execution_count": 97
        }
      ]
    },
    {
      "cell_type": "code",
      "metadata": {
        "id": "Qh8czTY215jO",
        "colab_type": "code",
        "colab": {
          "base_uri": "https://localhost:8080/",
          "height": 335
        },
        "outputId": "a3fb7b6d-5c43-4639-8a22-e17765553092"
      },
      "source": [
        "lng.head()"
      ],
      "execution_count": 98,
      "outputs": [
        {
          "output_type": "execute_result",
          "data": {
            "text/html": [
              "<div>\n",
              "<style scoped>\n",
              "    .dataframe tbody tr th:only-of-type {\n",
              "        vertical-align: middle;\n",
              "    }\n",
              "\n",
              "    .dataframe tbody tr th {\n",
              "        vertical-align: top;\n",
              "    }\n",
              "\n",
              "    .dataframe thead th {\n",
              "        text-align: right;\n",
              "    }\n",
              "</style>\n",
              "<table border=\"1\" class=\"dataframe\">\n",
              "  <thead>\n",
              "    <tr style=\"text-align: right;\">\n",
              "      <th></th>\n",
              "      <th>Adj_Close</th>\n",
              "      <th>Adj_Volume</th>\n",
              "      <th>5d_future_close</th>\n",
              "      <th>5d_close_future_pct</th>\n",
              "      <th>5d_close_pct</th>\n",
              "      <th>ma14</th>\n",
              "      <th>rsi14</th>\n",
              "      <th>ma30</th>\n",
              "      <th>rsi30</th>\n",
              "      <th>ma50</th>\n",
              "      <th>rsi50</th>\n",
              "      <th>ma200</th>\n",
              "      <th>rsi200</th>\n",
              "    </tr>\n",
              "    <tr>\n",
              "      <th>Date</th>\n",
              "      <th></th>\n",
              "      <th></th>\n",
              "      <th></th>\n",
              "      <th></th>\n",
              "      <th></th>\n",
              "      <th></th>\n",
              "      <th></th>\n",
              "      <th></th>\n",
              "      <th></th>\n",
              "      <th></th>\n",
              "      <th></th>\n",
              "      <th></th>\n",
              "      <th></th>\n",
              "    </tr>\n",
              "  </thead>\n",
              "  <tbody>\n",
              "    <tr>\n",
              "      <th>2017-01-31</th>\n",
              "      <td>47.65</td>\n",
              "      <td>2137394.0</td>\n",
              "      <td>47.81</td>\n",
              "      <td>0.003358</td>\n",
              "      <td>0.043812</td>\n",
              "      <td>0.950697</td>\n",
              "      <td>62.968946</td>\n",
              "      <td>0.918657</td>\n",
              "      <td>60.655749</td>\n",
              "      <td>0.895731</td>\n",
              "      <td>57.951677</td>\n",
              "      <td>0.839267</td>\n",
              "      <td>53.695377</td>\n",
              "    </tr>\n",
              "    <tr>\n",
              "      <th>2017-02-01</th>\n",
              "      <td>47.10</td>\n",
              "      <td>2051631.0</td>\n",
              "      <td>48.01</td>\n",
              "      <td>0.019321</td>\n",
              "      <td>-0.023429</td>\n",
              "      <td>0.967486</td>\n",
              "      <td>60.156019</td>\n",
              "      <td>0.932427</td>\n",
              "      <td>59.159791</td>\n",
              "      <td>0.910110</td>\n",
              "      <td>57.041713</td>\n",
              "      <td>0.850150</td>\n",
              "      <td>53.487663</td>\n",
              "    </tr>\n",
              "    <tr>\n",
              "      <th>2017-02-02</th>\n",
              "      <td>49.33</td>\n",
              "      <td>3081369.0</td>\n",
              "      <td>49.19</td>\n",
              "      <td>-0.002838</td>\n",
              "      <td>-0.021618</td>\n",
              "      <td>0.932220</td>\n",
              "      <td>66.659314</td>\n",
              "      <td>0.895486</td>\n",
              "      <td>62.988478</td>\n",
              "      <td>0.873379</td>\n",
              "      <td>59.662227</td>\n",
              "      <td>0.812956</td>\n",
              "      <td>54.209475</td>\n",
              "    </tr>\n",
              "    <tr>\n",
              "      <th>2017-02-03</th>\n",
              "      <td>49.43</td>\n",
              "      <td>4158130.0</td>\n",
              "      <td>48.93</td>\n",
              "      <td>-0.010115</td>\n",
              "      <td>0.007336</td>\n",
              "      <td>0.938976</td>\n",
              "      <td>66.920059</td>\n",
              "      <td>0.899461</td>\n",
              "      <td>63.148741</td>\n",
              "      <td>0.875497</td>\n",
              "      <td>59.774509</td>\n",
              "      <td>0.812490</td>\n",
              "      <td>54.241479</td>\n",
              "    </tr>\n",
              "    <tr>\n",
              "      <th>2017-02-06</th>\n",
              "      <td>48.50</td>\n",
              "      <td>2090909.0</td>\n",
              "      <td>48.14</td>\n",
              "      <td>-0.007423</td>\n",
              "      <td>0.022129</td>\n",
              "      <td>0.964080</td>\n",
              "      <td>62.059184</td>\n",
              "      <td>0.921608</td>\n",
              "      <td>60.623276</td>\n",
              "      <td>0.895860</td>\n",
              "      <td>58.236185</td>\n",
              "      <td>0.829234</td>\n",
              "      <td>53.889442</td>\n",
              "    </tr>\n",
              "  </tbody>\n",
              "</table>\n",
              "</div>"
            ],
            "text/plain": [
              "            Adj_Close  Adj_Volume  ...     ma200     rsi200\n",
              "Date                               ...                     \n",
              "2017-01-31      47.65   2137394.0  ...  0.839267  53.695377\n",
              "2017-02-01      47.10   2051631.0  ...  0.850150  53.487663\n",
              "2017-02-02      49.33   3081369.0  ...  0.812956  54.209475\n",
              "2017-02-03      49.43   4158130.0  ...  0.812490  54.241479\n",
              "2017-02-06      48.50   2090909.0  ...  0.829234  53.889442\n",
              "\n",
              "[5 rows x 13 columns]"
            ]
          },
          "metadata": {
            "tags": []
          },
          "execution_count": 98
        }
      ]
    },
    {
      "cell_type": "code",
      "metadata": {
        "id": "V-5HGg_810S3",
        "colab_type": "code",
        "colab": {
          "base_uri": "https://localhost:8080/",
          "height": 335
        },
        "outputId": "8d197894-8648-4a03-db00-998a8098aeac"
      },
      "source": [
        "lng.tail()"
      ],
      "execution_count": 99,
      "outputs": [
        {
          "output_type": "execute_result",
          "data": {
            "text/html": [
              "<div>\n",
              "<style scoped>\n",
              "    .dataframe tbody tr th:only-of-type {\n",
              "        vertical-align: middle;\n",
              "    }\n",
              "\n",
              "    .dataframe tbody tr th {\n",
              "        vertical-align: top;\n",
              "    }\n",
              "\n",
              "    .dataframe thead th {\n",
              "        text-align: right;\n",
              "    }\n",
              "</style>\n",
              "<table border=\"1\" class=\"dataframe\">\n",
              "  <thead>\n",
              "    <tr style=\"text-align: right;\">\n",
              "      <th></th>\n",
              "      <th>Adj_Close</th>\n",
              "      <th>Adj_Volume</th>\n",
              "      <th>5d_future_close</th>\n",
              "      <th>5d_close_future_pct</th>\n",
              "      <th>5d_close_pct</th>\n",
              "      <th>ma14</th>\n",
              "      <th>rsi14</th>\n",
              "      <th>ma30</th>\n",
              "      <th>rsi30</th>\n",
              "      <th>ma50</th>\n",
              "      <th>rsi50</th>\n",
              "      <th>ma200</th>\n",
              "      <th>rsi200</th>\n",
              "    </tr>\n",
              "    <tr>\n",
              "      <th>Date</th>\n",
              "      <th></th>\n",
              "      <th></th>\n",
              "      <th></th>\n",
              "      <th></th>\n",
              "      <th></th>\n",
              "      <th></th>\n",
              "      <th></th>\n",
              "      <th></th>\n",
              "      <th></th>\n",
              "      <th></th>\n",
              "      <th></th>\n",
              "      <th></th>\n",
              "      <th></th>\n",
              "    </tr>\n",
              "  </thead>\n",
              "  <tbody>\n",
              "    <tr>\n",
              "      <th>2018-03-27</th>\n",
              "      <td>53.06</td>\n",
              "      <td>1907271.0</td>\n",
              "      <td>54.30</td>\n",
              "      <td>0.023370</td>\n",
              "      <td>0.001510</td>\n",
              "      <td>1.004725</td>\n",
              "      <td>46.112898</td>\n",
              "      <td>1.026354</td>\n",
              "      <td>48.423080</td>\n",
              "      <td>1.041368</td>\n",
              "      <td>50.601497</td>\n",
              "      <td>0.922859</td>\n",
              "      <td>52.446487</td>\n",
              "    </tr>\n",
              "    <tr>\n",
              "      <th>2018-03-28</th>\n",
              "      <td>52.30</td>\n",
              "      <td>1272452.0</td>\n",
              "      <td>56.21</td>\n",
              "      <td>0.074761</td>\n",
              "      <td>-0.033986</td>\n",
              "      <td>1.017058</td>\n",
              "      <td>42.796606</td>\n",
              "      <td>1.038018</td>\n",
              "      <td>46.788195</td>\n",
              "      <td>1.055159</td>\n",
              "      <td>49.525314</td>\n",
              "      <td>0.936544</td>\n",
              "      <td>52.142361</td>\n",
              "    </tr>\n",
              "    <tr>\n",
              "      <th>2018-03-29</th>\n",
              "      <td>53.45</td>\n",
              "      <td>2756953.0</td>\n",
              "      <td>54.36</td>\n",
              "      <td>0.017025</td>\n",
              "      <td>0.027489</td>\n",
              "      <td>0.994387</td>\n",
              "      <td>48.797185</td>\n",
              "      <td>1.012735</td>\n",
              "      <td>49.459257</td>\n",
              "      <td>1.031622</td>\n",
              "      <td>51.130119</td>\n",
              "      <td>0.916875</td>\n",
              "      <td>52.560707</td>\n",
              "    </tr>\n",
              "    <tr>\n",
              "      <th>2018-04-02</th>\n",
              "      <td>52.99</td>\n",
              "      <td>2298339.0</td>\n",
              "      <td>54.10</td>\n",
              "      <td>0.020947</td>\n",
              "      <td>0.018843</td>\n",
              "      <td>1.002157</td>\n",
              "      <td>46.687504</td>\n",
              "      <td>1.018431</td>\n",
              "      <td>48.452838</td>\n",
              "      <td>1.039702</td>\n",
              "      <td>50.475091</td>\n",
              "      <td>0.925404</td>\n",
              "      <td>52.376647</td>\n",
              "    </tr>\n",
              "    <tr>\n",
              "      <th>2018-04-03</th>\n",
              "      <td>53.98</td>\n",
              "      <td>2230559.0</td>\n",
              "      <td>55.63</td>\n",
              "      <td>0.030567</td>\n",
              "      <td>0.028190</td>\n",
              "      <td>0.983883</td>\n",
              "      <td>51.543070</td>\n",
              "      <td>0.997493</td>\n",
              "      <td>50.686893</td>\n",
              "      <td>1.020085</td>\n",
              "      <td>51.830305</td>\n",
              "      <td>0.909116</td>\n",
              "      <td>52.734657</td>\n",
              "    </tr>\n",
              "  </tbody>\n",
              "</table>\n",
              "</div>"
            ],
            "text/plain": [
              "            Adj_Close  Adj_Volume  ...     ma200     rsi200\n",
              "Date                               ...                     \n",
              "2018-03-27      53.06   1907271.0  ...  0.922859  52.446487\n",
              "2018-03-28      52.30   1272452.0  ...  0.936544  52.142361\n",
              "2018-03-29      53.45   2756953.0  ...  0.916875  52.560707\n",
              "2018-04-02      52.99   2298339.0  ...  0.925404  52.376647\n",
              "2018-04-03      53.98   2230559.0  ...  0.909116  52.734657\n",
              "\n",
              "[5 rows x 13 columns]"
            ]
          },
          "metadata": {
            "tags": []
          },
          "execution_count": 99
        }
      ]
    },
    {
      "cell_type": "code",
      "metadata": {
        "id": "chQUrXwXhL3q",
        "colab_type": "code",
        "colab": {}
      },
      "source": [
        "features = lng[feature_names]"
      ],
      "execution_count": 0,
      "outputs": []
    },
    {
      "cell_type": "code",
      "metadata": {
        "id": "P_totJFXhOwh",
        "colab_type": "code",
        "colab": {}
      },
      "source": [
        "targets = lng['5d_close_future_pct']"
      ],
      "execution_count": 0,
      "outputs": []
    },
    {
      "cell_type": "code",
      "metadata": {
        "id": "8QVNaSs5hS8C",
        "colab_type": "code",
        "colab": {}
      },
      "source": [
        "feature_and_target_cols = ['5d_close_future_pct'] + feature_names\n",
        "feature_and_target = lng[feature_and_target_cols]"
      ],
      "execution_count": 0,
      "outputs": []
    },
    {
      "cell_type": "code",
      "metadata": {
        "id": "-yMo2IKV3f7D",
        "colab_type": "code",
        "colab": {
          "base_uri": "https://localhost:8080/",
          "height": 335
        },
        "outputId": "0a598b08-dc06-4385-fd9c-f28eda393721"
      },
      "source": [
        "feature_and_target.head()"
      ],
      "execution_count": 103,
      "outputs": [
        {
          "output_type": "execute_result",
          "data": {
            "text/html": [
              "<div>\n",
              "<style scoped>\n",
              "    .dataframe tbody tr th:only-of-type {\n",
              "        vertical-align: middle;\n",
              "    }\n",
              "\n",
              "    .dataframe tbody tr th {\n",
              "        vertical-align: top;\n",
              "    }\n",
              "\n",
              "    .dataframe thead th {\n",
              "        text-align: right;\n",
              "    }\n",
              "</style>\n",
              "<table border=\"1\" class=\"dataframe\">\n",
              "  <thead>\n",
              "    <tr style=\"text-align: right;\">\n",
              "      <th></th>\n",
              "      <th>5d_close_future_pct</th>\n",
              "      <th>5d_close_pct</th>\n",
              "      <th>ma14</th>\n",
              "      <th>rsi14</th>\n",
              "      <th>ma30</th>\n",
              "      <th>rsi30</th>\n",
              "      <th>ma50</th>\n",
              "      <th>rsi50</th>\n",
              "      <th>ma200</th>\n",
              "      <th>rsi200</th>\n",
              "    </tr>\n",
              "    <tr>\n",
              "      <th>Date</th>\n",
              "      <th></th>\n",
              "      <th></th>\n",
              "      <th></th>\n",
              "      <th></th>\n",
              "      <th></th>\n",
              "      <th></th>\n",
              "      <th></th>\n",
              "      <th></th>\n",
              "      <th></th>\n",
              "      <th></th>\n",
              "    </tr>\n",
              "  </thead>\n",
              "  <tbody>\n",
              "    <tr>\n",
              "      <th>2017-01-31</th>\n",
              "      <td>0.003358</td>\n",
              "      <td>0.043812</td>\n",
              "      <td>0.950697</td>\n",
              "      <td>62.968946</td>\n",
              "      <td>0.918657</td>\n",
              "      <td>60.655749</td>\n",
              "      <td>0.895731</td>\n",
              "      <td>57.951677</td>\n",
              "      <td>0.839267</td>\n",
              "      <td>53.695377</td>\n",
              "    </tr>\n",
              "    <tr>\n",
              "      <th>2017-02-01</th>\n",
              "      <td>0.019321</td>\n",
              "      <td>-0.023429</td>\n",
              "      <td>0.967486</td>\n",
              "      <td>60.156019</td>\n",
              "      <td>0.932427</td>\n",
              "      <td>59.159791</td>\n",
              "      <td>0.910110</td>\n",
              "      <td>57.041713</td>\n",
              "      <td>0.850150</td>\n",
              "      <td>53.487663</td>\n",
              "    </tr>\n",
              "    <tr>\n",
              "      <th>2017-02-02</th>\n",
              "      <td>-0.002838</td>\n",
              "      <td>-0.021618</td>\n",
              "      <td>0.932220</td>\n",
              "      <td>66.659314</td>\n",
              "      <td>0.895486</td>\n",
              "      <td>62.988478</td>\n",
              "      <td>0.873379</td>\n",
              "      <td>59.662227</td>\n",
              "      <td>0.812956</td>\n",
              "      <td>54.209475</td>\n",
              "    </tr>\n",
              "    <tr>\n",
              "      <th>2017-02-03</th>\n",
              "      <td>-0.010115</td>\n",
              "      <td>0.007336</td>\n",
              "      <td>0.938976</td>\n",
              "      <td>66.920059</td>\n",
              "      <td>0.899461</td>\n",
              "      <td>63.148741</td>\n",
              "      <td>0.875497</td>\n",
              "      <td>59.774509</td>\n",
              "      <td>0.812490</td>\n",
              "      <td>54.241479</td>\n",
              "    </tr>\n",
              "    <tr>\n",
              "      <th>2017-02-06</th>\n",
              "      <td>-0.007423</td>\n",
              "      <td>0.022129</td>\n",
              "      <td>0.964080</td>\n",
              "      <td>62.059184</td>\n",
              "      <td>0.921608</td>\n",
              "      <td>60.623276</td>\n",
              "      <td>0.895860</td>\n",
              "      <td>58.236185</td>\n",
              "      <td>0.829234</td>\n",
              "      <td>53.889442</td>\n",
              "    </tr>\n",
              "  </tbody>\n",
              "</table>\n",
              "</div>"
            ],
            "text/plain": [
              "            5d_close_future_pct  5d_close_pct  ...     ma200     rsi200\n",
              "Date                                           ...                     \n",
              "2017-01-31             0.003358      0.043812  ...  0.839267  53.695377\n",
              "2017-02-01             0.019321     -0.023429  ...  0.850150  53.487663\n",
              "2017-02-02            -0.002838     -0.021618  ...  0.812956  54.209475\n",
              "2017-02-03            -0.010115      0.007336  ...  0.812490  54.241479\n",
              "2017-02-06            -0.007423      0.022129  ...  0.829234  53.889442\n",
              "\n",
              "[5 rows x 10 columns]"
            ]
          },
          "metadata": {
            "tags": []
          },
          "execution_count": 103
        }
      ]
    },
    {
      "cell_type": "code",
      "metadata": {
        "id": "rnsz49zbhuNm",
        "colab_type": "code",
        "colab": {}
      },
      "source": [
        "import seaborn as sns"
      ],
      "execution_count": 0,
      "outputs": []
    },
    {
      "cell_type": "code",
      "metadata": {
        "id": "JV_xJnmYqgX5",
        "colab_type": "code",
        "colab": {
          "base_uri": "https://localhost:8080/",
          "height": 297
        },
        "outputId": "03582c6d-1c9c-4061-e9fc-4c9c41d86026"
      },
      "source": [
        "corr = feature_and_target.corr()\n",
        "sns.heatmap(corr, annot=True)\n",
        "plt.yticks(rotation=0)\n",
        "plt.xticks(rotation=90)\n",
        "plt.tight_layout()\n",
        "plt.show()"
      ],
      "execution_count": 113,
      "outputs": [
        {
          "output_type": "display_data",
          "data": {
            "image/png": "[encoded data removed]",
            "text/plain": [
              "<Figure size 432x288 with 2 Axes>"
            ]
          },
          "metadata": {
            "tags": []
          }
        }
      ]
    },
    {
      "cell_type": "code",
      "metadata": {
        "id": "8hTlO9rdqub3",
        "colab_type": "code",
        "colab": {
          "base_uri": "https://localhost:8080/",
          "height": 269
        },
        "outputId": "f7e20cb7-0623-45f9-cdde-6b8e998da94e"
      },
      "source": [
        "plt.scatter(lng['5d_close_future_pct'], lng['ma200'])\n",
        "plt.show()"
      ],
      "execution_count": 114,
      "outputs": [
        {
          "output_type": "display_data",
          "data": {
            "image/png": "[encoded data removed]",
            "text/plain": [
              "<Figure size 432x288 with 1 Axes>"
            ]
          },
          "metadata": {
            "tags": []
          }
        }
      ]
    },
    {
      "cell_type": "code",
      "metadata": {
        "id": "lRh1no8Gq6SS",
        "colab_type": "code",
        "colab": {}
      },
      "source": [
        "import statsmodels.api as sm"
      ],
      "execution_count": 0,
      "outputs": []
    },
    {
      "cell_type": "code",
      "metadata": {
        "id": "Uc1n1xirrJpb",
        "colab_type": "code",
        "colab": {
          "base_uri": "https://localhost:8080/",
          "height": 72
        },
        "outputId": "5d6b89a6-035c-4c94-8bcc-e55ed0167e0e"
      },
      "source": [
        "linear_features = sm.add_constant(features)\n",
        "train_size = int(0.85 * features.shape[0])\n",
        "train_features = linear_features[:train_size]\n",
        "train_targets = targets[:train_size]\n",
        "test_features = linear_features[train_size:]\n",
        "test_targets = targets[train_size:]"
      ],
      "execution_count": 116,
      "outputs": [
        {
          "output_type": "stream",
          "text": [
            "/usr/local/lib/python3.6/dist-packages/numpy/core/fromnumeric.py:2389: FutureWarning: Method .ptp is deprecated and will be removed in a future version. Use numpy.ptp instead.\n",
            "  return ptp(axis=axis, out=out, **kwargs)\n"
          ],
          "name": "stderr"
        }
      ]
    },
    {
      "cell_type": "code",
      "metadata": {
        "id": "0edN7wG6zYPU",
        "colab_type": "code",
        "colab": {
          "base_uri": "https://localhost:8080/",
          "height": 35
        },
        "outputId": "0a062558-b8bb-4478-a485-1b6514ea8f23"
      },
      "source": [
        "print(linear_features.shape, train_features.shape, test_features.shape)"
      ],
      "execution_count": 117,
      "outputs": [
        {
          "output_type": "stream",
          "text": [
            "(295, 10) (250, 10) (45, 10)\n"
          ],
          "name": "stdout"
        }
      ]
    },
    {
      "cell_type": "code",
      "metadata": {
        "id": "YCsIgyEZzydl",
        "colab_type": "code",
        "colab": {
          "base_uri": "https://localhost:8080/",
          "height": 642
        },
        "outputId": "1c18f4b0-625d-451c-d974-b56e3a5f6d39"
      },
      "source": [
        "model = sm.OLS(train_targets, train_features)\n",
        "results = model.fit()\n",
        "print(results.summary())"
      ],
      "execution_count": 118,
      "outputs": [
        {
          "output_type": "stream",
          "text": [
            "                             OLS Regression Results                            \n",
            "===============================================================================\n",
            "Dep. Variable:     5d_close_future_pct   R-squared:                       0.273\n",
            "Model:                             OLS   Adj. R-squared:                  0.246\n",
            "Method:                  Least Squares   F-statistic:                     10.01\n",
            "Date:                 Wed, 25 Sep 2019   Prob (F-statistic):           4.92e-13\n",
            "Time:                         05:29:05   Log-Likelihood:                 536.49\n",
            "No. Observations:                  250   AIC:                            -1053.\n",
            "Df Residuals:                      240   BIC:                            -1018.\n",
            "Df Model:                            9                                         \n",
            "Covariance Type:             nonrobust                                         \n",
            "================================================================================\n",
            "                   coef    std err          t      P>|t|      [0.025      0.975]\n",
            "--------------------------------------------------------------------------------\n",
            "const            6.8197      1.169      5.832      0.000       4.516       9.123\n",
            "5d_close_pct    -0.0944      0.114     -0.830      0.408      -0.319       0.130\n",
            "ma14             0.3473      0.230      1.512      0.132      -0.105       0.800\n",
            "rsi14            0.0261      0.004      6.520      0.000       0.018       0.034\n",
            "ma30             0.2200      0.206      1.067      0.287      -0.186       0.626\n",
            "rsi30           -0.1789      0.025     -7.111      0.000      -0.228      -0.129\n",
            "ma50            -2.0856      0.374     -5.578      0.000      -2.822      -1.349\n",
            "rsi50            0.2410      0.032      7.458      0.000       0.177       0.305\n",
            "ma200            0.5639      0.220      2.567      0.011       0.131       0.997\n",
            "rsi200          -0.1999      0.029     -6.999      0.000      -0.256      -0.144\n",
            "==============================================================================\n",
            "Omnibus:                        3.594   Durbin-Watson:                   0.560\n",
            "Prob(Omnibus):                  0.166   Jarque-Bera (JB):                2.482\n",
            "Skew:                          -0.038   Prob(JB):                        0.289\n",
            "Kurtosis:                       2.518   Cond. No.                     6.92e+04\n",
            "==============================================================================\n",
            "\n",
            "Warnings:\n",
            "[1] Standard Errors assume that the covariance matrix of the errors is correctly specified.\n",
            "[2] The condition number is large, 6.92e+04. This might indicate that there are\n",
            "strong multicollinearity or other numerical problems.\n"
          ],
          "name": "stdout"
        }
      ]
    },
    {
      "cell_type": "code",
      "metadata": {
        "id": "P7dVPVvp2rhc",
        "colab_type": "code",
        "colab": {}
      },
      "source": [
        ""
      ],
      "execution_count": 0,
      "outputs": []
    }
  ]
}