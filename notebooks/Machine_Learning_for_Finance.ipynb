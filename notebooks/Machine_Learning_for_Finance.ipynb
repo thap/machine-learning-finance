{
  "nbformat": 4,
  "nbformat_minor": 0,
  "metadata": {
    "colab": {
      "name": "Machine Learning for Finance.ipynb",
      "provenance": [],
      "include_colab_link": true
    },
    "kernelspec": {
      "name": "python3",
      "display_name": "Python 3"
    },
    "accelerator": "GPU"
  },
  "cells": [
    {
      "cell_type": "markdown",
      "metadata": {
        "id": "view-in-github",
        "colab_type": "text"
      },
      "source": [
        "<a href=\"https://colab.research.google.com/github/thap/machine-learning-finance/blob/master/notebooks/Machine_Learning_for_Finance.ipynb\" target=\"_parent\"><img src=\"https://colab.research.google.com/assets/colab-badge.svg\" alt=\"Open In Colab\"/></a>"
      ]
    },
    {
      "cell_type": "markdown",
      "metadata": {
        "id": "UlZxm9VukAHK",
        "colab_type": "text"
      },
      "source": [
        "# Machine Learning for Finance"
      ]
    },
    {
      "cell_type": "markdown",
      "metadata": {
        "id": "wp7TMfOGkhxc",
        "colab_type": "text"
      },
      "source": [
        "## Mount Data from Drive"
      ]
    },
    {
      "cell_type": "code",
      "metadata": {
        "id": "4L0h7Wj9kgsm",
        "colab_type": "code",
        "outputId": "86912546-058f-4c09-9ccb-687ce7228070",
        "colab": {
          "base_uri": "https://localhost:8080/",
          "height": 55
        }
      },
      "source": [
        "from google.colab import drive\n",
        "drive.mount('/content/drive')"
      ],
      "execution_count": 30,
      "outputs": [
        {
          "output_type": "stream",
          "text": [
            "Drive already mounted at /content/drive; to attempt to forcibly remount, call drive.mount(\"/content/drive\", force_remount=True).\n"
          ],
          "name": "stdout"
        }
      ]
    },
    {
      "cell_type": "code",
      "metadata": {
        "id": "sjiAnn30jt-4",
        "colab_type": "code",
        "outputId": "c491ed3a-6771-43f9-dcef-55dc544013da",
        "colab": {
          "base_uri": "https://localhost:8080/",
          "height": 55
        }
      },
      "source": [
        "import os\n",
        "os.chdir('/content/drive/My Drive/data/machine_learning_finance/')\n",
        "print(os.listdir())"
      ],
      "execution_count": 31,
      "outputs": [
        {
          "output_type": "stream",
          "text": [
            "['AAPL.csv', 'AMD.csv', 'QQQ.csv', 'SPY.csv', 'LNG.csv', 'SMLV.csv', 'ta-lib-0.4.0-src.tar.gz']\n"
          ],
          "name": "stdout"
        }
      ]
    },
    {
      "cell_type": "code",
      "metadata": {
        "id": "3c8LCpqv4-B7",
        "colab_type": "code",
        "colab": {}
      },
      "source": [
        "!cp ta-lib-0.4.0-src.tar.gz /content/"
      ],
      "execution_count": 0,
      "outputs": []
    },
    {
      "cell_type": "code",
      "metadata": {
        "id": "sP8LHlqP5ESm",
        "colab_type": "code",
        "colab": {}
      },
      "source": [
        "os.chdir('/content')"
      ],
      "execution_count": 0,
      "outputs": []
    },
    {
      "cell_type": "code",
      "metadata": {
        "id": "le3eZc-r5asf",
        "colab_type": "code",
        "outputId": "7e41d068-1baa-4a8d-db68-f8e4dfbc8469",
        "colab": {
          "base_uri": "https://localhost:8080/",
          "height": 35
        }
      },
      "source": [
        "!ls"
      ],
      "execution_count": 5,
      "outputs": [
        {
          "output_type": "stream",
          "text": [
            "drive  sample_data  ta-lib-0.4.0-src.tar.gz\n"
          ],
          "name": "stdout"
        }
      ]
    },
    {
      "cell_type": "code",
      "metadata": {
        "id": "pThwoPwf5qZs",
        "colab_type": "code",
        "colab": {}
      },
      "source": [
        "!tar xvzf ta-lib-0.4.0-src.tar.gz"
      ],
      "execution_count": 0,
      "outputs": []
    },
    {
      "cell_type": "code",
      "metadata": {
        "id": "9Imgb97l5zyP",
        "colab_type": "code",
        "outputId": "f86e233b-1907-4d0a-c933-a94e43f229db",
        "colab": {
          "base_uri": "https://localhost:8080/",
          "height": 35
        }
      },
      "source": [
        "!ls"
      ],
      "execution_count": 7,
      "outputs": [
        {
          "output_type": "stream",
          "text": [
            "drive  sample_data  ta-lib  ta-lib-0.4.0-src.tar.gz\n"
          ],
          "name": "stdout"
        }
      ]
    },
    {
      "cell_type": "code",
      "metadata": {
        "id": "-VT2pztQ503X",
        "colab_type": "code",
        "colab": {}
      },
      "source": [
        "os.chdir('ta-lib')"
      ],
      "execution_count": 0,
      "outputs": []
    },
    {
      "cell_type": "code",
      "metadata": {
        "id": "YLrg28-x55CE",
        "colab_type": "code",
        "colab": {}
      },
      "source": [
        "!./configure --prefix=/usr"
      ],
      "execution_count": 0,
      "outputs": []
    },
    {
      "cell_type": "code",
      "metadata": {
        "id": "SxIgScMM5_Me",
        "colab_type": "code",
        "colab": {}
      },
      "source": [
        "!make"
      ],
      "execution_count": 0,
      "outputs": []
    },
    {
      "cell_type": "code",
      "metadata": {
        "id": "uFg28B3K6CZU",
        "colab_type": "code",
        "colab": {}
      },
      "source": [
        "!make install"
      ],
      "execution_count": 0,
      "outputs": []
    },
    {
      "cell_type": "code",
      "metadata": {
        "id": "_R2utsYE6Kfb",
        "colab_type": "code",
        "outputId": "7f9f43b0-deb0-4dc0-f3e6-ae25f6dfb396",
        "colab": {
          "base_uri": "https://localhost:8080/",
          "height": 35
        }
      },
      "source": [
        "os.chdir('..')\n",
        "!ls"
      ],
      "execution_count": 12,
      "outputs": [
        {
          "output_type": "stream",
          "text": [
            "drive  sample_data  ta-lib  ta-lib-0.4.0-src.tar.gz\n"
          ],
          "name": "stdout"
        }
      ]
    },
    {
      "cell_type": "code",
      "metadata": {
        "id": "q9UJCLxj6PCu",
        "colab_type": "code",
        "colab": {}
      },
      "source": [
        "!pip install TA-Lib"
      ],
      "execution_count": 0,
      "outputs": []
    },
    {
      "cell_type": "code",
      "metadata": {
        "id": "WtmguF3Q6vL2",
        "colab_type": "code",
        "outputId": "4464c52f-f935-4dde-aec7-d338613fc40c",
        "colab": {
          "base_uri": "https://localhost:8080/",
          "height": 55
        }
      },
      "source": [
        "os.chdir('/content/drive/My Drive/data/machine_learning_finance/')\n",
        "print(os.listdir())"
      ],
      "execution_count": 14,
      "outputs": [
        {
          "output_type": "stream",
          "text": [
            "['AAPL.csv', 'AMD.csv', 'QQQ.csv', 'SPY.csv', 'LNG.csv', 'SMLV.csv', 'ta-lib-0.4.0-src.tar.gz']\n"
          ],
          "name": "stdout"
        }
      ]
    },
    {
      "cell_type": "markdown",
      "metadata": {
        "id": "D8MqD12FldUl",
        "colab_type": "text"
      },
      "source": [
        "## Import Data"
      ]
    },
    {
      "cell_type": "code",
      "metadata": {
        "id": "DYqx-_BvlRrU",
        "colab_type": "code",
        "colab": {}
      },
      "source": [
        "import pandas as pd"
      ],
      "execution_count": 0,
      "outputs": []
    },
    {
      "cell_type": "code",
      "metadata": {
        "id": "j8pRyLwSlqgX",
        "colab_type": "code",
        "colab": {}
      },
      "source": [
        "lng = pd.read_csv('LNG.csv', index_col='Date', parse_dates=True)"
      ],
      "execution_count": 0,
      "outputs": []
    },
    {
      "cell_type": "code",
      "metadata": {
        "id": "6TzvfyA3m2ul",
        "colab_type": "code",
        "outputId": "37519c3f-503e-4f5c-ec8a-c660d396041d",
        "colab": {
          "base_uri": "https://localhost:8080/",
          "height": 35
        }
      },
      "source": [
        "lng = lng['2016-04-15':'2018-04-10']\n",
        "lng.shape"
      ],
      "execution_count": 289,
      "outputs": [
        {
          "output_type": "execute_result",
          "data": {
            "text/plain": [
              "(500, 2)"
            ]
          },
          "metadata": {
            "tags": []
          },
          "execution_count": 289
        }
      ]
    },
    {
      "cell_type": "code",
      "metadata": {
        "id": "qk9Mquv1pFCl",
        "colab_type": "code",
        "outputId": "54f65109-e41e-4959-e092-848f0aa54f70",
        "colab": {
          "base_uri": "https://localhost:8080/",
          "height": 228
        }
      },
      "source": [
        "lng.head()"
      ],
      "execution_count": 290,
      "outputs": [
        {
          "output_type": "execute_result",
          "data": {
            "text/html": [
              "<div>\n",
              "<style scoped>\n",
              "    .dataframe tbody tr th:only-of-type {\n",
              "        vertical-align: middle;\n",
              "    }\n",
              "\n",
              "    .dataframe tbody tr th {\n",
              "        vertical-align: top;\n",
              "    }\n",
              "\n",
              "    .dataframe thead th {\n",
              "        text-align: right;\n",
              "    }\n",
              "</style>\n",
              "<table border=\"1\" class=\"dataframe\">\n",
              "  <thead>\n",
              "    <tr style=\"text-align: right;\">\n",
              "      <th></th>\n",
              "      <th>Adj_Close</th>\n",
              "      <th>Adj_Volume</th>\n",
              "    </tr>\n",
              "    <tr>\n",
              "      <th>Date</th>\n",
              "      <th></th>\n",
              "      <th></th>\n",
              "    </tr>\n",
              "  </thead>\n",
              "  <tbody>\n",
              "    <tr>\n",
              "      <th>2016-04-15</th>\n",
              "      <td>37.13</td>\n",
              "      <td>4293775.0</td>\n",
              "    </tr>\n",
              "    <tr>\n",
              "      <th>2016-04-18</th>\n",
              "      <td>36.90</td>\n",
              "      <td>3445852.0</td>\n",
              "    </tr>\n",
              "    <tr>\n",
              "      <th>2016-04-19</th>\n",
              "      <td>37.12</td>\n",
              "      <td>3748050.0</td>\n",
              "    </tr>\n",
              "    <tr>\n",
              "      <th>2016-04-20</th>\n",
              "      <td>37.77</td>\n",
              "      <td>2470384.0</td>\n",
              "    </tr>\n",
              "    <tr>\n",
              "      <th>2016-04-21</th>\n",
              "      <td>37.21</td>\n",
              "      <td>2043988.0</td>\n",
              "    </tr>\n",
              "  </tbody>\n",
              "</table>\n",
              "</div>"
            ],
            "text/plain": [
              "            Adj_Close  Adj_Volume\n",
              "Date                             \n",
              "2016-04-15      37.13   4293775.0\n",
              "2016-04-18      36.90   3445852.0\n",
              "2016-04-19      37.12   3748050.0\n",
              "2016-04-20      37.77   2470384.0\n",
              "2016-04-21      37.21   2043988.0"
            ]
          },
          "metadata": {
            "tags": []
          },
          "execution_count": 290
        }
      ]
    },
    {
      "cell_type": "code",
      "metadata": {
        "id": "JuqufD8BlsZg",
        "colab_type": "code",
        "colab": {}
      },
      "source": [
        "spy = pd.read_csv('SPY.csv', index_col='Date', parse_dates=True)"
      ],
      "execution_count": 0,
      "outputs": []
    },
    {
      "cell_type": "code",
      "metadata": {
        "id": "HB-34VfPlwZx",
        "colab_type": "code",
        "outputId": "72f2bb37-a1fd-4d89-edb5-0844c7963820",
        "colab": {
          "base_uri": "https://localhost:8080/",
          "height": 35
        }
      },
      "source": [
        "spy = spy['2016-04-15':'2018-04-10']\n",
        "spy.shape"
      ],
      "execution_count": 292,
      "outputs": [
        {
          "output_type": "execute_result",
          "data": {
            "text/plain": [
              "(500, 2)"
            ]
          },
          "metadata": {
            "tags": []
          },
          "execution_count": 292
        }
      ]
    },
    {
      "cell_type": "code",
      "metadata": {
        "id": "mWK_scudpDkx",
        "colab_type": "code",
        "outputId": "2c4c4eee-85b4-4b87-b889-2344805a9e79",
        "colab": {
          "base_uri": "https://localhost:8080/",
          "height": 228
        }
      },
      "source": [
        "spy.head()"
      ],
      "execution_count": 293,
      "outputs": [
        {
          "output_type": "execute_result",
          "data": {
            "text/html": [
              "<div>\n",
              "<style scoped>\n",
              "    .dataframe tbody tr th:only-of-type {\n",
              "        vertical-align: middle;\n",
              "    }\n",
              "\n",
              "    .dataframe tbody tr th {\n",
              "        vertical-align: top;\n",
              "    }\n",
              "\n",
              "    .dataframe thead th {\n",
              "        text-align: right;\n",
              "    }\n",
              "</style>\n",
              "<table border=\"1\" class=\"dataframe\">\n",
              "  <thead>\n",
              "    <tr style=\"text-align: right;\">\n",
              "      <th></th>\n",
              "      <th>Adj_Close</th>\n",
              "      <th>Adj_Volume</th>\n",
              "    </tr>\n",
              "    <tr>\n",
              "      <th>Date</th>\n",
              "      <th></th>\n",
              "      <th></th>\n",
              "    </tr>\n",
              "  </thead>\n",
              "  <tbody>\n",
              "    <tr>\n",
              "      <th>2016-04-15</th>\n",
              "      <td>199.760673</td>\n",
              "      <td>75761600.0</td>\n",
              "    </tr>\n",
              "    <tr>\n",
              "      <th>2016-04-18</th>\n",
              "      <td>201.164330</td>\n",
              "      <td>75277700.0</td>\n",
              "    </tr>\n",
              "    <tr>\n",
              "      <th>2016-04-19</th>\n",
              "      <td>201.798846</td>\n",
              "      <td>88316100.0</td>\n",
              "    </tr>\n",
              "    <tr>\n",
              "      <th>2016-04-20</th>\n",
              "      <td>201.991139</td>\n",
              "      <td>81100300.0</td>\n",
              "    </tr>\n",
              "    <tr>\n",
              "      <th>2016-04-21</th>\n",
              "      <td>200.904747</td>\n",
              "      <td>85695000.0</td>\n",
              "    </tr>\n",
              "  </tbody>\n",
              "</table>\n",
              "</div>"
            ],
            "text/plain": [
              "             Adj_Close  Adj_Volume\n",
              "Date                              \n",
              "2016-04-15  199.760673  75761600.0\n",
              "2016-04-18  201.164330  75277700.0\n",
              "2016-04-19  201.798846  88316100.0\n",
              "2016-04-20  201.991139  81100300.0\n",
              "2016-04-21  200.904747  85695000.0"
            ]
          },
          "metadata": {
            "tags": []
          },
          "execution_count": 293
        }
      ]
    },
    {
      "cell_type": "markdown",
      "metadata": {
        "id": "gsvDx3qmoLMo",
        "colab_type": "text"
      },
      "source": [
        "## EDA"
      ]
    },
    {
      "cell_type": "code",
      "metadata": {
        "id": "i2GlSkVtoTGu",
        "colab_type": "code",
        "colab": {}
      },
      "source": [
        "import matplotlib.pyplot as plt\n",
        "%matplotlib inline"
      ],
      "execution_count": 0,
      "outputs": []
    },
    {
      "cell_type": "code",
      "metadata": {
        "id": "RX_OtEIboCIL",
        "colab_type": "code",
        "outputId": "3bb5031f-ca56-417f-c613-90d767e16265",
        "colab": {
          "base_uri": "https://localhost:8080/",
          "height": 281
        }
      },
      "source": [
        "plt.figure()\n",
        "spy['Adj_Close'].plot(label='SPY', legend=True)\n",
        "lng['Adj_Close'].plot(label='LNG', legend=True, secondary_y=True)\n",
        "plt.show()"
      ],
      "execution_count": 295,
      "outputs": [
        {
          "output_type": "display_data",
          "data": {
            "image/png": "[encoded data removed]",
            "text/plain": [
              "<Figure size 432x288 with 2 Axes>"
            ]
          },
          "metadata": {
            "tags": []
          }
        }
      ]
    },
    {
      "cell_type": "code",
      "metadata": {
        "id": "v7PFlUBGoqxo",
        "colab_type": "code",
        "outputId": "4e3c7057-f2bc-4ad4-a780-a6c34179771d",
        "colab": {
          "base_uri": "https://localhost:8080/",
          "height": 283
        }
      },
      "source": [
        "plt.figure()\n",
        "lng['Adj_Close'].pct_change().plot.hist(bins=50)\n",
        "plt.xlabel('Adjusted close 1-day percent change')\n",
        "plt.show()"
      ],
      "execution_count": 296,
      "outputs": [
        {
          "output_type": "display_data",
          "data": {
            "image/png": "[encoded data removed]",
            "text/plain": [
              "<Figure size 432x288 with 1 Axes>"
            ]
          },
          "metadata": {
            "tags": []
          }
        }
      ]
    },
    {
      "cell_type": "markdown",
      "metadata": {
        "id": "3C-irqyLrf1J",
        "colab_type": "text"
      },
      "source": [
        "## Correlations"
      ]
    },
    {
      "cell_type": "code",
      "metadata": {
        "id": "jkJM0pVmpqCr",
        "colab_type": "code",
        "colab": {}
      },
      "source": [
        "lng['5d_future_close'] = lng['Adj_Close'].shift(-5)\n",
        "lng['5d_close_future_pct'] = lng['5d_future_close'].pct_change(5)\n",
        "lng['5d_close_pct'] = lng['Adj_Close'].pct_change(5)"
      ],
      "execution_count": 0,
      "outputs": []
    },
    {
      "cell_type": "code",
      "metadata": {
        "id": "5qKL9mUusF4H",
        "colab_type": "code",
        "outputId": "bc0129cb-7ac6-4ee3-9d7f-10f1c0793fa0",
        "colab": {
          "base_uri": "https://localhost:8080/",
          "height": 69
        }
      },
      "source": [
        "corr = lng[['5d_close_pct', '5d_close_future_pct']].corr()\n",
        "print(corr)"
      ],
      "execution_count": 298,
      "outputs": [
        {
          "output_type": "stream",
          "text": [
            "                     5d_close_pct  5d_close_future_pct\n",
            "5d_close_pct             1.000000            -0.164861\n",
            "5d_close_future_pct     -0.164861             1.000000\n"
          ],
          "name": "stdout"
        }
      ]
    },
    {
      "cell_type": "code",
      "metadata": {
        "id": "yMmzxV96sNl_",
        "colab_type": "code",
        "outputId": "99d875d7-be44-4493-ef5b-5b4f458ce14c",
        "colab": {
          "base_uri": "https://localhost:8080/",
          "height": 269
        }
      },
      "source": [
        "plt.scatter('5d_close_pct', '5d_close_future_pct', data=lng)\n",
        "plt.show()"
      ],
      "execution_count": 299,
      "outputs": [
        {
          "output_type": "display_data",
          "data": {
            "image/png": "[encoded data removed]",
            "text/plain": [
              "<Figure size 432x288 with 1 Axes>"
            ]
          },
          "metadata": {
            "tags": []
          }
        }
      ]
    },
    {
      "cell_type": "markdown",
      "metadata": {
        "id": "CV24mIGCh2Ne",
        "colab_type": "text"
      },
      "source": [
        "## Moving Average and RSI Features"
      ]
    },
    {
      "cell_type": "code",
      "metadata": {
        "id": "9OngH-wMvdbT",
        "colab_type": "code",
        "colab": {}
      },
      "source": [
        "import talib"
      ],
      "execution_count": 0,
      "outputs": []
    },
    {
      "cell_type": "code",
      "metadata": {
        "id": "lscbLt2LsXoI",
        "colab_type": "code",
        "outputId": "786db72c-0c82-4aa2-c18a-fbe7ab6d723e",
        "colab": {
          "base_uri": "https://localhost:8080/",
          "height": 55
        }
      },
      "source": [
        "feature_names = ['5d_close_pct']\n",
        "for n in [14, 30, 50, 200]:\n",
        "  lng['ma' + str(n)] = talib.SMA(lng['Adj_Close'].values, \n",
        "                                 timeperiod=n) / lng['Adj_Close']\n",
        "  lng['rsi' + str(n)] = talib.RSI(lng['Adj_Close'].values, timeperiod=n)\n",
        "  feature_names = feature_names + ['ma' + str(n), 'rsi' + str(n)]\n",
        "print(feature_names)"
      ],
      "execution_count": 301,
      "outputs": [
        {
          "output_type": "stream",
          "text": [
            "['5d_close_pct', 'ma14', 'rsi14', 'ma30', 'rsi30', 'ma50', 'rsi50', 'ma200', 'rsi200']\n"
          ],
          "name": "stdout"
        }
      ]
    },
    {
      "cell_type": "code",
      "metadata": {
        "id": "2mS63hdSWde4",
        "colab_type": "code",
        "colab": {
          "base_uri": "https://localhost:8080/",
          "height": 571
        },
        "outputId": "3860e0af-353f-42df-a9c4-0411f9e44591"
      },
      "source": [
        "lng.head(10)"
      ],
      "execution_count": 302,
      "outputs": [
        {
          "output_type": "execute_result",
          "data": {
            "text/html": [
              "<div>\n",
              "<style scoped>\n",
              "    .dataframe tbody tr th:only-of-type {\n",
              "        vertical-align: middle;\n",
              "    }\n",
              "\n",
              "    .dataframe tbody tr th {\n",
              "        vertical-align: top;\n",
              "    }\n",
              "\n",
              "    .dataframe thead th {\n",
              "        text-align: right;\n",
              "    }\n",
              "</style>\n",
              "<table border=\"1\" class=\"dataframe\">\n",
              "  <thead>\n",
              "    <tr style=\"text-align: right;\">\n",
              "      <th></th>\n",
              "      <th>Adj_Close</th>\n",
              "      <th>Adj_Volume</th>\n",
              "      <th>5d_future_close</th>\n",
              "      <th>5d_close_future_pct</th>\n",
              "      <th>5d_close_pct</th>\n",
              "      <th>ma14</th>\n",
              "      <th>rsi14</th>\n",
              "      <th>ma30</th>\n",
              "      <th>rsi30</th>\n",
              "      <th>ma50</th>\n",
              "      <th>rsi50</th>\n",
              "      <th>ma200</th>\n",
              "      <th>rsi200</th>\n",
              "    </tr>\n",
              "    <tr>\n",
              "      <th>Date</th>\n",
              "      <th></th>\n",
              "      <th></th>\n",
              "      <th></th>\n",
              "      <th></th>\n",
              "      <th></th>\n",
              "      <th></th>\n",
              "      <th></th>\n",
              "      <th></th>\n",
              "      <th></th>\n",
              "      <th></th>\n",
              "      <th></th>\n",
              "      <th></th>\n",
              "      <th></th>\n",
              "    </tr>\n",
              "  </thead>\n",
              "  <tbody>\n",
              "    <tr>\n",
              "      <th>2016-04-15</th>\n",
              "      <td>37.13</td>\n",
              "      <td>4293775.0</td>\n",
              "      <td>37.40</td>\n",
              "      <td>NaN</td>\n",
              "      <td>NaN</td>\n",
              "      <td>NaN</td>\n",
              "      <td>NaN</td>\n",
              "      <td>NaN</td>\n",
              "      <td>NaN</td>\n",
              "      <td>NaN</td>\n",
              "      <td>NaN</td>\n",
              "      <td>NaN</td>\n",
              "      <td>NaN</td>\n",
              "    </tr>\n",
              "    <tr>\n",
              "      <th>2016-04-18</th>\n",
              "      <td>36.90</td>\n",
              "      <td>3445852.0</td>\n",
              "      <td>36.75</td>\n",
              "      <td>NaN</td>\n",
              "      <td>NaN</td>\n",
              "      <td>NaN</td>\n",
              "      <td>NaN</td>\n",
              "      <td>NaN</td>\n",
              "      <td>NaN</td>\n",
              "      <td>NaN</td>\n",
              "      <td>NaN</td>\n",
              "      <td>NaN</td>\n",
              "      <td>NaN</td>\n",
              "    </tr>\n",
              "    <tr>\n",
              "      <th>2016-04-19</th>\n",
              "      <td>37.12</td>\n",
              "      <td>3748050.0</td>\n",
              "      <td>37.25</td>\n",
              "      <td>NaN</td>\n",
              "      <td>NaN</td>\n",
              "      <td>NaN</td>\n",
              "      <td>NaN</td>\n",
              "      <td>NaN</td>\n",
              "      <td>NaN</td>\n",
              "      <td>NaN</td>\n",
              "      <td>NaN</td>\n",
              "      <td>NaN</td>\n",
              "      <td>NaN</td>\n",
              "    </tr>\n",
              "    <tr>\n",
              "      <th>2016-04-20</th>\n",
              "      <td>37.77</td>\n",
              "      <td>2470384.0</td>\n",
              "      <td>39.11</td>\n",
              "      <td>NaN</td>\n",
              "      <td>NaN</td>\n",
              "      <td>NaN</td>\n",
              "      <td>NaN</td>\n",
              "      <td>NaN</td>\n",
              "      <td>NaN</td>\n",
              "      <td>NaN</td>\n",
              "      <td>NaN</td>\n",
              "      <td>NaN</td>\n",
              "      <td>NaN</td>\n",
              "    </tr>\n",
              "    <tr>\n",
              "      <th>2016-04-21</th>\n",
              "      <td>37.21</td>\n",
              "      <td>2043988.0</td>\n",
              "      <td>38.62</td>\n",
              "      <td>NaN</td>\n",
              "      <td>NaN</td>\n",
              "      <td>NaN</td>\n",
              "      <td>NaN</td>\n",
              "      <td>NaN</td>\n",
              "      <td>NaN</td>\n",
              "      <td>NaN</td>\n",
              "      <td>NaN</td>\n",
              "      <td>NaN</td>\n",
              "      <td>NaN</td>\n",
              "    </tr>\n",
              "    <tr>\n",
              "      <th>2016-04-22</th>\n",
              "      <td>37.40</td>\n",
              "      <td>2786757.0</td>\n",
              "      <td>38.88</td>\n",
              "      <td>0.039572</td>\n",
              "      <td>0.007272</td>\n",
              "      <td>NaN</td>\n",
              "      <td>NaN</td>\n",
              "      <td>NaN</td>\n",
              "      <td>NaN</td>\n",
              "      <td>NaN</td>\n",
              "      <td>NaN</td>\n",
              "      <td>NaN</td>\n",
              "      <td>NaN</td>\n",
              "    </tr>\n",
              "    <tr>\n",
              "      <th>2016-04-25</th>\n",
              "      <td>36.75</td>\n",
              "      <td>1830397.0</td>\n",
              "      <td>38.99</td>\n",
              "      <td>0.060952</td>\n",
              "      <td>-0.004065</td>\n",
              "      <td>NaN</td>\n",
              "      <td>NaN</td>\n",
              "      <td>NaN</td>\n",
              "      <td>NaN</td>\n",
              "      <td>NaN</td>\n",
              "      <td>NaN</td>\n",
              "      <td>NaN</td>\n",
              "      <td>NaN</td>\n",
              "    </tr>\n",
              "    <tr>\n",
              "      <th>2016-04-26</th>\n",
              "      <td>37.25</td>\n",
              "      <td>2384800.0</td>\n",
              "      <td>37.37</td>\n",
              "      <td>0.003221</td>\n",
              "      <td>0.003502</td>\n",
              "      <td>NaN</td>\n",
              "      <td>NaN</td>\n",
              "      <td>NaN</td>\n",
              "      <td>NaN</td>\n",
              "      <td>NaN</td>\n",
              "      <td>NaN</td>\n",
              "      <td>NaN</td>\n",
              "      <td>NaN</td>\n",
              "    </tr>\n",
              "    <tr>\n",
              "      <th>2016-04-27</th>\n",
              "      <td>39.11</td>\n",
              "      <td>2559759.0</td>\n",
              "      <td>35.85</td>\n",
              "      <td>-0.083355</td>\n",
              "      <td>0.035478</td>\n",
              "      <td>NaN</td>\n",
              "      <td>NaN</td>\n",
              "      <td>NaN</td>\n",
              "      <td>NaN</td>\n",
              "      <td>NaN</td>\n",
              "      <td>NaN</td>\n",
              "      <td>NaN</td>\n",
              "      <td>NaN</td>\n",
              "    </tr>\n",
              "    <tr>\n",
              "      <th>2016-04-28</th>\n",
              "      <td>38.62</td>\n",
              "      <td>2245100.0</td>\n",
              "      <td>36.11</td>\n",
              "      <td>-0.064992</td>\n",
              "      <td>0.037893</td>\n",
              "      <td>NaN</td>\n",
              "      <td>NaN</td>\n",
              "      <td>NaN</td>\n",
              "      <td>NaN</td>\n",
              "      <td>NaN</td>\n",
              "      <td>NaN</td>\n",
              "      <td>NaN</td>\n",
              "      <td>NaN</td>\n",
              "    </tr>\n",
              "  </tbody>\n",
              "</table>\n",
              "</div>"
            ],
            "text/plain": [
              "            Adj_Close  Adj_Volume  5d_future_close  ...  rsi50  ma200  rsi200\n",
              "Date                                                ...                      \n",
              "2016-04-15      37.13   4293775.0            37.40  ...    NaN    NaN     NaN\n",
              "2016-04-18      36.90   3445852.0            36.75  ...    NaN    NaN     NaN\n",
              "2016-04-19      37.12   3748050.0            37.25  ...    NaN    NaN     NaN\n",
              "2016-04-20      37.77   2470384.0            39.11  ...    NaN    NaN     NaN\n",
              "2016-04-21      37.21   2043988.0            38.62  ...    NaN    NaN     NaN\n",
              "2016-04-22      37.40   2786757.0            38.88  ...    NaN    NaN     NaN\n",
              "2016-04-25      36.75   1830397.0            38.99  ...    NaN    NaN     NaN\n",
              "2016-04-26      37.25   2384800.0            37.37  ...    NaN    NaN     NaN\n",
              "2016-04-27      39.11   2559759.0            35.85  ...    NaN    NaN     NaN\n",
              "2016-04-28      38.62   2245100.0            36.11  ...    NaN    NaN     NaN\n",
              "\n",
              "[10 rows x 13 columns]"
            ]
          },
          "metadata": {
            "tags": []
          },
          "execution_count": 302
        }
      ]
    },
    {
      "cell_type": "code",
      "metadata": {
        "id": "9OsCYx3z8EWi",
        "colab_type": "code",
        "colab": {
          "base_uri": "https://localhost:8080/",
          "height": 571
        },
        "outputId": "31f26c39-8c88-4e8b-9168-5bd2f8a744c0"
      },
      "source": [
        "lng.tail(10)"
      ],
      "execution_count": 303,
      "outputs": [
        {
          "output_type": "execute_result",
          "data": {
            "text/html": [
              "<div>\n",
              "<style scoped>\n",
              "    .dataframe tbody tr th:only-of-type {\n",
              "        vertical-align: middle;\n",
              "    }\n",
              "\n",
              "    .dataframe tbody tr th {\n",
              "        vertical-align: top;\n",
              "    }\n",
              "\n",
              "    .dataframe thead th {\n",
              "        text-align: right;\n",
              "    }\n",
              "</style>\n",
              "<table border=\"1\" class=\"dataframe\">\n",
              "  <thead>\n",
              "    <tr style=\"text-align: right;\">\n",
              "      <th></th>\n",
              "      <th>Adj_Close</th>\n",
              "      <th>Adj_Volume</th>\n",
              "      <th>5d_future_close</th>\n",
              "      <th>5d_close_future_pct</th>\n",
              "      <th>5d_close_pct</th>\n",
              "      <th>ma14</th>\n",
              "      <th>rsi14</th>\n",
              "      <th>ma30</th>\n",
              "      <th>rsi30</th>\n",
              "      <th>ma50</th>\n",
              "      <th>rsi50</th>\n",
              "      <th>ma200</th>\n",
              "      <th>rsi200</th>\n",
              "    </tr>\n",
              "    <tr>\n",
              "      <th>Date</th>\n",
              "      <th></th>\n",
              "      <th></th>\n",
              "      <th></th>\n",
              "      <th></th>\n",
              "      <th></th>\n",
              "      <th></th>\n",
              "      <th></th>\n",
              "      <th></th>\n",
              "      <th></th>\n",
              "      <th></th>\n",
              "      <th></th>\n",
              "      <th></th>\n",
              "      <th></th>\n",
              "    </tr>\n",
              "  </thead>\n",
              "  <tbody>\n",
              "    <tr>\n",
              "      <th>2018-03-27</th>\n",
              "      <td>53.06</td>\n",
              "      <td>1907271.0</td>\n",
              "      <td>54.30</td>\n",
              "      <td>0.023370</td>\n",
              "      <td>0.001510</td>\n",
              "      <td>1.004725</td>\n",
              "      <td>46.112898</td>\n",
              "      <td>1.026354</td>\n",
              "      <td>48.423080</td>\n",
              "      <td>1.041368</td>\n",
              "      <td>50.601497</td>\n",
              "      <td>0.922859</td>\n",
              "      <td>52.446487</td>\n",
              "    </tr>\n",
              "    <tr>\n",
              "      <th>2018-03-28</th>\n",
              "      <td>52.30</td>\n",
              "      <td>1272452.0</td>\n",
              "      <td>56.21</td>\n",
              "      <td>0.074761</td>\n",
              "      <td>-0.033986</td>\n",
              "      <td>1.017058</td>\n",
              "      <td>42.796606</td>\n",
              "      <td>1.038018</td>\n",
              "      <td>46.788195</td>\n",
              "      <td>1.055159</td>\n",
              "      <td>49.525314</td>\n",
              "      <td>0.936544</td>\n",
              "      <td>52.142361</td>\n",
              "    </tr>\n",
              "    <tr>\n",
              "      <th>2018-03-29</th>\n",
              "      <td>53.45</td>\n",
              "      <td>2756953.0</td>\n",
              "      <td>54.36</td>\n",
              "      <td>0.017025</td>\n",
              "      <td>0.027489</td>\n",
              "      <td>0.994387</td>\n",
              "      <td>48.797185</td>\n",
              "      <td>1.012735</td>\n",
              "      <td>49.459257</td>\n",
              "      <td>1.031622</td>\n",
              "      <td>51.130119</td>\n",
              "      <td>0.916875</td>\n",
              "      <td>52.560707</td>\n",
              "    </tr>\n",
              "    <tr>\n",
              "      <th>2018-04-02</th>\n",
              "      <td>52.99</td>\n",
              "      <td>2298339.0</td>\n",
              "      <td>54.10</td>\n",
              "      <td>0.020947</td>\n",
              "      <td>0.018843</td>\n",
              "      <td>1.002157</td>\n",
              "      <td>46.687504</td>\n",
              "      <td>1.018431</td>\n",
              "      <td>48.452838</td>\n",
              "      <td>1.039702</td>\n",
              "      <td>50.475091</td>\n",
              "      <td>0.925404</td>\n",
              "      <td>52.376647</td>\n",
              "    </tr>\n",
              "    <tr>\n",
              "      <th>2018-04-03</th>\n",
              "      <td>53.98</td>\n",
              "      <td>2230559.0</td>\n",
              "      <td>55.63</td>\n",
              "      <td>0.030567</td>\n",
              "      <td>0.028190</td>\n",
              "      <td>0.983883</td>\n",
              "      <td>51.543070</td>\n",
              "      <td>0.997493</td>\n",
              "      <td>50.686893</td>\n",
              "      <td>1.020085</td>\n",
              "      <td>51.830305</td>\n",
              "      <td>0.909116</td>\n",
              "      <td>52.734657</td>\n",
              "    </tr>\n",
              "    <tr>\n",
              "      <th>2018-04-04</th>\n",
              "      <td>54.30</td>\n",
              "      <td>1816771.0</td>\n",
              "      <td>NaN</td>\n",
              "      <td>0.024494</td>\n",
              "      <td>0.023370</td>\n",
              "      <td>0.978927</td>\n",
              "      <td>53.032126</td>\n",
              "      <td>0.989325</td>\n",
              "      <td>51.391328</td>\n",
              "      <td>1.013672</td>\n",
              "      <td>52.261174</td>\n",
              "      <td>0.904405</td>\n",
              "      <td>52.849803</td>\n",
              "    </tr>\n",
              "    <tr>\n",
              "      <th>2018-04-05</th>\n",
              "      <td>56.21</td>\n",
              "      <td>2533635.0</td>\n",
              "      <td>NaN</td>\n",
              "      <td>-0.010318</td>\n",
              "      <td>0.074761</td>\n",
              "      <td>0.948929</td>\n",
              "      <td>60.779231</td>\n",
              "      <td>0.955399</td>\n",
              "      <td>55.331261</td>\n",
              "      <td>0.978890</td>\n",
              "      <td>54.727566</td>\n",
              "      <td>0.874433</td>\n",
              "      <td>53.528929</td>\n",
              "    </tr>\n",
              "    <tr>\n",
              "      <th>2018-04-06</th>\n",
              "      <td>54.36</td>\n",
              "      <td>1754446.0</td>\n",
              "      <td>NaN</td>\n",
              "      <td>0.023363</td>\n",
              "      <td>0.017025</td>\n",
              "      <td>0.981276</td>\n",
              "      <td>51.857079</td>\n",
              "      <td>0.986761</td>\n",
              "      <td>51.175073</td>\n",
              "      <td>1.010901</td>\n",
              "      <td>52.068799</td>\n",
              "      <td>0.904928</td>\n",
              "      <td>52.788773</td>\n",
              "    </tr>\n",
              "    <tr>\n",
              "      <th>2018-04-09</th>\n",
              "      <td>54.10</td>\n",
              "      <td>1203998.0</td>\n",
              "      <td>NaN</td>\n",
              "      <td>0.028281</td>\n",
              "      <td>0.020947</td>\n",
              "      <td>0.988117</td>\n",
              "      <td>50.729971</td>\n",
              "      <td>0.990511</td>\n",
              "      <td>50.622244</td>\n",
              "      <td>1.014026</td>\n",
              "      <td>51.708543</td>\n",
              "      <td>0.909966</td>\n",
              "      <td>52.685875</td>\n",
              "    </tr>\n",
              "    <tr>\n",
              "      <th>2018-04-10</th>\n",
              "      <td>55.63</td>\n",
              "      <td>3430268.0</td>\n",
              "      <td>NaN</td>\n",
              "      <td>0.000000</td>\n",
              "      <td>0.030567</td>\n",
              "      <td>0.964343</td>\n",
              "      <td>56.694826</td>\n",
              "      <td>0.962886</td>\n",
              "      <td>53.669051</td>\n",
              "      <td>0.984569</td>\n",
              "      <td>53.634818</td>\n",
              "      <td>0.885689</td>\n",
              "      <td>53.225104</td>\n",
              "    </tr>\n",
              "  </tbody>\n",
              "</table>\n",
              "</div>"
            ],
            "text/plain": [
              "            Adj_Close  Adj_Volume  ...     ma200     rsi200\n",
              "Date                               ...                     \n",
              "2018-03-27      53.06   1907271.0  ...  0.922859  52.446487\n",
              "2018-03-28      52.30   1272452.0  ...  0.936544  52.142361\n",
              "2018-03-29      53.45   2756953.0  ...  0.916875  52.560707\n",
              "2018-04-02      52.99   2298339.0  ...  0.925404  52.376647\n",
              "2018-04-03      53.98   2230559.0  ...  0.909116  52.734657\n",
              "2018-04-04      54.30   1816771.0  ...  0.904405  52.849803\n",
              "2018-04-05      56.21   2533635.0  ...  0.874433  53.528929\n",
              "2018-04-06      54.36   1754446.0  ...  0.904928  52.788773\n",
              "2018-04-09      54.10   1203998.0  ...  0.909966  52.685875\n",
              "2018-04-10      55.63   3430268.0  ...  0.885689  53.225104\n",
              "\n",
              "[10 rows x 13 columns]"
            ]
          },
          "metadata": {
            "tags": []
          },
          "execution_count": 303
        }
      ]
    },
    {
      "cell_type": "markdown",
      "metadata": {
        "id": "30B5QvyRQr20",
        "colab_type": "text"
      },
      "source": [
        "## Features and Targets"
      ]
    },
    {
      "cell_type": "code",
      "metadata": {
        "id": "d3akM4DeWGkY",
        "colab_type": "code",
        "colab": {
          "base_uri": "https://localhost:8080/",
          "height": 35
        },
        "outputId": "62f927e9-fa00-4a8d-e11a-c3404606cc11"
      },
      "source": [
        "lng2 = lng.dropna()\n",
        "lng2.shape"
      ],
      "execution_count": 304,
      "outputs": [
        {
          "output_type": "execute_result",
          "data": {
            "text/plain": [
              "(295, 13)"
            ]
          },
          "metadata": {
            "tags": []
          },
          "execution_count": 304
        }
      ]
    },
    {
      "cell_type": "code",
      "metadata": {
        "id": "Qh8czTY215jO",
        "colab_type": "code",
        "colab": {
          "base_uri": "https://localhost:8080/",
          "height": 335
        },
        "outputId": "40ebd751-7715-4d04-d861-52e7b3574fa8"
      },
      "source": [
        "lng2.head()"
      ],
      "execution_count": 305,
      "outputs": [
        {
          "output_type": "execute_result",
          "data": {
            "text/html": [
              "<div>\n",
              "<style scoped>\n",
              "    .dataframe tbody tr th:only-of-type {\n",
              "        vertical-align: middle;\n",
              "    }\n",
              "\n",
              "    .dataframe tbody tr th {\n",
              "        vertical-align: top;\n",
              "    }\n",
              "\n",
              "    .dataframe thead th {\n",
              "        text-align: right;\n",
              "    }\n",
              "</style>\n",
              "<table border=\"1\" class=\"dataframe\">\n",
              "  <thead>\n",
              "    <tr style=\"text-align: right;\">\n",
              "      <th></th>\n",
              "      <th>Adj_Close</th>\n",
              "      <th>Adj_Volume</th>\n",
              "      <th>5d_future_close</th>\n",
              "      <th>5d_close_future_pct</th>\n",
              "      <th>5d_close_pct</th>\n",
              "      <th>ma14</th>\n",
              "      <th>rsi14</th>\n",
              "      <th>ma30</th>\n",
              "      <th>rsi30</th>\n",
              "      <th>ma50</th>\n",
              "      <th>rsi50</th>\n",
              "      <th>ma200</th>\n",
              "      <th>rsi200</th>\n",
              "    </tr>\n",
              "    <tr>\n",
              "      <th>Date</th>\n",
              "      <th></th>\n",
              "      <th></th>\n",
              "      <th></th>\n",
              "      <th></th>\n",
              "      <th></th>\n",
              "      <th></th>\n",
              "      <th></th>\n",
              "      <th></th>\n",
              "      <th></th>\n",
              "      <th></th>\n",
              "      <th></th>\n",
              "      <th></th>\n",
              "      <th></th>\n",
              "    </tr>\n",
              "  </thead>\n",
              "  <tbody>\n",
              "    <tr>\n",
              "      <th>2017-01-31</th>\n",
              "      <td>47.65</td>\n",
              "      <td>2137394.0</td>\n",
              "      <td>47.81</td>\n",
              "      <td>0.003358</td>\n",
              "      <td>0.043812</td>\n",
              "      <td>0.950697</td>\n",
              "      <td>62.968946</td>\n",
              "      <td>0.918657</td>\n",
              "      <td>60.655749</td>\n",
              "      <td>0.895731</td>\n",
              "      <td>57.951677</td>\n",
              "      <td>0.839267</td>\n",
              "      <td>53.695377</td>\n",
              "    </tr>\n",
              "    <tr>\n",
              "      <th>2017-02-01</th>\n",
              "      <td>47.10</td>\n",
              "      <td>2051631.0</td>\n",
              "      <td>48.01</td>\n",
              "      <td>0.019321</td>\n",
              "      <td>-0.023429</td>\n",
              "      <td>0.967486</td>\n",
              "      <td>60.156019</td>\n",
              "      <td>0.932427</td>\n",
              "      <td>59.159791</td>\n",
              "      <td>0.910110</td>\n",
              "      <td>57.041713</td>\n",
              "      <td>0.850150</td>\n",
              "      <td>53.487663</td>\n",
              "    </tr>\n",
              "    <tr>\n",
              "      <th>2017-02-02</th>\n",
              "      <td>49.33</td>\n",
              "      <td>3081369.0</td>\n",
              "      <td>49.19</td>\n",
              "      <td>-0.002838</td>\n",
              "      <td>-0.021618</td>\n",
              "      <td>0.932220</td>\n",
              "      <td>66.659314</td>\n",
              "      <td>0.895486</td>\n",
              "      <td>62.988478</td>\n",
              "      <td>0.873379</td>\n",
              "      <td>59.662227</td>\n",
              "      <td>0.812956</td>\n",
              "      <td>54.209475</td>\n",
              "    </tr>\n",
              "    <tr>\n",
              "      <th>2017-02-03</th>\n",
              "      <td>49.43</td>\n",
              "      <td>4158130.0</td>\n",
              "      <td>48.93</td>\n",
              "      <td>-0.010115</td>\n",
              "      <td>0.007336</td>\n",
              "      <td>0.938976</td>\n",
              "      <td>66.920059</td>\n",
              "      <td>0.899461</td>\n",
              "      <td>63.148741</td>\n",
              "      <td>0.875497</td>\n",
              "      <td>59.774509</td>\n",
              "      <td>0.812490</td>\n",
              "      <td>54.241479</td>\n",
              "    </tr>\n",
              "    <tr>\n",
              "      <th>2017-02-06</th>\n",
              "      <td>48.50</td>\n",
              "      <td>2090909.0</td>\n",
              "      <td>48.14</td>\n",
              "      <td>-0.007423</td>\n",
              "      <td>0.022129</td>\n",
              "      <td>0.964080</td>\n",
              "      <td>62.059184</td>\n",
              "      <td>0.921608</td>\n",
              "      <td>60.623276</td>\n",
              "      <td>0.895860</td>\n",
              "      <td>58.236185</td>\n",
              "      <td>0.829234</td>\n",
              "      <td>53.889442</td>\n",
              "    </tr>\n",
              "  </tbody>\n",
              "</table>\n",
              "</div>"
            ],
            "text/plain": [
              "            Adj_Close  Adj_Volume  ...     ma200     rsi200\n",
              "Date                               ...                     \n",
              "2017-01-31      47.65   2137394.0  ...  0.839267  53.695377\n",
              "2017-02-01      47.10   2051631.0  ...  0.850150  53.487663\n",
              "2017-02-02      49.33   3081369.0  ...  0.812956  54.209475\n",
              "2017-02-03      49.43   4158130.0  ...  0.812490  54.241479\n",
              "2017-02-06      48.50   2090909.0  ...  0.829234  53.889442\n",
              "\n",
              "[5 rows x 13 columns]"
            ]
          },
          "metadata": {
            "tags": []
          },
          "execution_count": 305
        }
      ]
    },
    {
      "cell_type": "code",
      "metadata": {
        "id": "V-5HGg_810S3",
        "colab_type": "code",
        "colab": {
          "base_uri": "https://localhost:8080/",
          "height": 335
        },
        "outputId": "c87e4642-cf97-4fec-d0c1-3988d235c22f"
      },
      "source": [
        "lng2.tail()"
      ],
      "execution_count": 306,
      "outputs": [
        {
          "output_type": "execute_result",
          "data": {
            "text/html": [
              "<div>\n",
              "<style scoped>\n",
              "    .dataframe tbody tr th:only-of-type {\n",
              "        vertical-align: middle;\n",
              "    }\n",
              "\n",
              "    .dataframe tbody tr th {\n",
              "        vertical-align: top;\n",
              "    }\n",
              "\n",
              "    .dataframe thead th {\n",
              "        text-align: right;\n",
              "    }\n",
              "</style>\n",
              "<table border=\"1\" class=\"dataframe\">\n",
              "  <thead>\n",
              "    <tr style=\"text-align: right;\">\n",
              "      <th></th>\n",
              "      <th>Adj_Close</th>\n",
              "      <th>Adj_Volume</th>\n",
              "      <th>5d_future_close</th>\n",
              "      <th>5d_close_future_pct</th>\n",
              "      <th>5d_close_pct</th>\n",
              "      <th>ma14</th>\n",
              "      <th>rsi14</th>\n",
              "      <th>ma30</th>\n",
              "      <th>rsi30</th>\n",
              "      <th>ma50</th>\n",
              "      <th>rsi50</th>\n",
              "      <th>ma200</th>\n",
              "      <th>rsi200</th>\n",
              "    </tr>\n",
              "    <tr>\n",
              "      <th>Date</th>\n",
              "      <th></th>\n",
              "      <th></th>\n",
              "      <th></th>\n",
              "      <th></th>\n",
              "      <th></th>\n",
              "      <th></th>\n",
              "      <th></th>\n",
              "      <th></th>\n",
              "      <th></th>\n",
              "      <th></th>\n",
              "      <th></th>\n",
              "      <th></th>\n",
              "      <th></th>\n",
              "    </tr>\n",
              "  </thead>\n",
              "  <tbody>\n",
              "    <tr>\n",
              "      <th>2018-03-27</th>\n",
              "      <td>53.06</td>\n",
              "      <td>1907271.0</td>\n",
              "      <td>54.30</td>\n",
              "      <td>0.023370</td>\n",
              "      <td>0.001510</td>\n",
              "      <td>1.004725</td>\n",
              "      <td>46.112898</td>\n",
              "      <td>1.026354</td>\n",
              "      <td>48.423080</td>\n",
              "      <td>1.041368</td>\n",
              "      <td>50.601497</td>\n",
              "      <td>0.922859</td>\n",
              "      <td>52.446487</td>\n",
              "    </tr>\n",
              "    <tr>\n",
              "      <th>2018-03-28</th>\n",
              "      <td>52.30</td>\n",
              "      <td>1272452.0</td>\n",
              "      <td>56.21</td>\n",
              "      <td>0.074761</td>\n",
              "      <td>-0.033986</td>\n",
              "      <td>1.017058</td>\n",
              "      <td>42.796606</td>\n",
              "      <td>1.038018</td>\n",
              "      <td>46.788195</td>\n",
              "      <td>1.055159</td>\n",
              "      <td>49.525314</td>\n",
              "      <td>0.936544</td>\n",
              "      <td>52.142361</td>\n",
              "    </tr>\n",
              "    <tr>\n",
              "      <th>2018-03-29</th>\n",
              "      <td>53.45</td>\n",
              "      <td>2756953.0</td>\n",
              "      <td>54.36</td>\n",
              "      <td>0.017025</td>\n",
              "      <td>0.027489</td>\n",
              "      <td>0.994387</td>\n",
              "      <td>48.797185</td>\n",
              "      <td>1.012735</td>\n",
              "      <td>49.459257</td>\n",
              "      <td>1.031622</td>\n",
              "      <td>51.130119</td>\n",
              "      <td>0.916875</td>\n",
              "      <td>52.560707</td>\n",
              "    </tr>\n",
              "    <tr>\n",
              "      <th>2018-04-02</th>\n",
              "      <td>52.99</td>\n",
              "      <td>2298339.0</td>\n",
              "      <td>54.10</td>\n",
              "      <td>0.020947</td>\n",
              "      <td>0.018843</td>\n",
              "      <td>1.002157</td>\n",
              "      <td>46.687504</td>\n",
              "      <td>1.018431</td>\n",
              "      <td>48.452838</td>\n",
              "      <td>1.039702</td>\n",
              "      <td>50.475091</td>\n",
              "      <td>0.925404</td>\n",
              "      <td>52.376647</td>\n",
              "    </tr>\n",
              "    <tr>\n",
              "      <th>2018-04-03</th>\n",
              "      <td>53.98</td>\n",
              "      <td>2230559.0</td>\n",
              "      <td>55.63</td>\n",
              "      <td>0.030567</td>\n",
              "      <td>0.028190</td>\n",
              "      <td>0.983883</td>\n",
              "      <td>51.543070</td>\n",
              "      <td>0.997493</td>\n",
              "      <td>50.686893</td>\n",
              "      <td>1.020085</td>\n",
              "      <td>51.830305</td>\n",
              "      <td>0.909116</td>\n",
              "      <td>52.734657</td>\n",
              "    </tr>\n",
              "  </tbody>\n",
              "</table>\n",
              "</div>"
            ],
            "text/plain": [
              "            Adj_Close  Adj_Volume  ...     ma200     rsi200\n",
              "Date                               ...                     \n",
              "2018-03-27      53.06   1907271.0  ...  0.922859  52.446487\n",
              "2018-03-28      52.30   1272452.0  ...  0.936544  52.142361\n",
              "2018-03-29      53.45   2756953.0  ...  0.916875  52.560707\n",
              "2018-04-02      52.99   2298339.0  ...  0.925404  52.376647\n",
              "2018-04-03      53.98   2230559.0  ...  0.909116  52.734657\n",
              "\n",
              "[5 rows x 13 columns]"
            ]
          },
          "metadata": {
            "tags": []
          },
          "execution_count": 306
        }
      ]
    },
    {
      "cell_type": "code",
      "metadata": {
        "id": "chQUrXwXhL3q",
        "colab_type": "code",
        "colab": {}
      },
      "source": [
        "features = lng2[feature_names]"
      ],
      "execution_count": 0,
      "outputs": []
    },
    {
      "cell_type": "code",
      "metadata": {
        "id": "P_totJFXhOwh",
        "colab_type": "code",
        "colab": {}
      },
      "source": [
        "targets = lng2['5d_close_future_pct']"
      ],
      "execution_count": 0,
      "outputs": []
    },
    {
      "cell_type": "code",
      "metadata": {
        "id": "8QVNaSs5hS8C",
        "colab_type": "code",
        "colab": {}
      },
      "source": [
        "feature_and_target_cols = ['5d_close_future_pct'] + feature_names\n",
        "feature_and_target = lng2[feature_and_target_cols]"
      ],
      "execution_count": 0,
      "outputs": []
    },
    {
      "cell_type": "code",
      "metadata": {
        "id": "-yMo2IKV3f7D",
        "colab_type": "code",
        "colab": {
          "base_uri": "https://localhost:8080/",
          "height": 335
        },
        "outputId": "706c7de3-18b1-430e-f0db-a9a45b388bdb"
      },
      "source": [
        "feature_and_target.head()"
      ],
      "execution_count": 310,
      "outputs": [
        {
          "output_type": "execute_result",
          "data": {
            "text/html": [
              "<div>\n",
              "<style scoped>\n",
              "    .dataframe tbody tr th:only-of-type {\n",
              "        vertical-align: middle;\n",
              "    }\n",
              "\n",
              "    .dataframe tbody tr th {\n",
              "        vertical-align: top;\n",
              "    }\n",
              "\n",
              "    .dataframe thead th {\n",
              "        text-align: right;\n",
              "    }\n",
              "</style>\n",
              "<table border=\"1\" class=\"dataframe\">\n",
              "  <thead>\n",
              "    <tr style=\"text-align: right;\">\n",
              "      <th></th>\n",
              "      <th>5d_close_future_pct</th>\n",
              "      <th>5d_close_pct</th>\n",
              "      <th>ma14</th>\n",
              "      <th>rsi14</th>\n",
              "      <th>ma30</th>\n",
              "      <th>rsi30</th>\n",
              "      <th>ma50</th>\n",
              "      <th>rsi50</th>\n",
              "      <th>ma200</th>\n",
              "      <th>rsi200</th>\n",
              "    </tr>\n",
              "    <tr>\n",
              "      <th>Date</th>\n",
              "      <th></th>\n",
              "      <th></th>\n",
              "      <th></th>\n",
              "      <th></th>\n",
              "      <th></th>\n",
              "      <th></th>\n",
              "      <th></th>\n",
              "      <th></th>\n",
              "      <th></th>\n",
              "      <th></th>\n",
              "    </tr>\n",
              "  </thead>\n",
              "  <tbody>\n",
              "    <tr>\n",
              "      <th>2017-01-31</th>\n",
              "      <td>0.003358</td>\n",
              "      <td>0.043812</td>\n",
              "      <td>0.950697</td>\n",
              "      <td>62.968946</td>\n",
              "      <td>0.918657</td>\n",
              "      <td>60.655749</td>\n",
              "      <td>0.895731</td>\n",
              "      <td>57.951677</td>\n",
              "      <td>0.839267</td>\n",
              "      <td>53.695377</td>\n",
              "    </tr>\n",
              "    <tr>\n",
              "      <th>2017-02-01</th>\n",
              "      <td>0.019321</td>\n",
              "      <td>-0.023429</td>\n",
              "      <td>0.967486</td>\n",
              "      <td>60.156019</td>\n",
              "      <td>0.932427</td>\n",
              "      <td>59.159791</td>\n",
              "      <td>0.910110</td>\n",
              "      <td>57.041713</td>\n",
              "      <td>0.850150</td>\n",
              "      <td>53.487663</td>\n",
              "    </tr>\n",
              "    <tr>\n",
              "      <th>2017-02-02</th>\n",
              "      <td>-0.002838</td>\n",
              "      <td>-0.021618</td>\n",
              "      <td>0.932220</td>\n",
              "      <td>66.659314</td>\n",
              "      <td>0.895486</td>\n",
              "      <td>62.988478</td>\n",
              "      <td>0.873379</td>\n",
              "      <td>59.662227</td>\n",
              "      <td>0.812956</td>\n",
              "      <td>54.209475</td>\n",
              "    </tr>\n",
              "    <tr>\n",
              "      <th>2017-02-03</th>\n",
              "      <td>-0.010115</td>\n",
              "      <td>0.007336</td>\n",
              "      <td>0.938976</td>\n",
              "      <td>66.920059</td>\n",
              "      <td>0.899461</td>\n",
              "      <td>63.148741</td>\n",
              "      <td>0.875497</td>\n",
              "      <td>59.774509</td>\n",
              "      <td>0.812490</td>\n",
              "      <td>54.241479</td>\n",
              "    </tr>\n",
              "    <tr>\n",
              "      <th>2017-02-06</th>\n",
              "      <td>-0.007423</td>\n",
              "      <td>0.022129</td>\n",
              "      <td>0.964080</td>\n",
              "      <td>62.059184</td>\n",
              "      <td>0.921608</td>\n",
              "      <td>60.623276</td>\n",
              "      <td>0.895860</td>\n",
              "      <td>58.236185</td>\n",
              "      <td>0.829234</td>\n",
              "      <td>53.889442</td>\n",
              "    </tr>\n",
              "  </tbody>\n",
              "</table>\n",
              "</div>"
            ],
            "text/plain": [
              "            5d_close_future_pct  5d_close_pct  ...     ma200     rsi200\n",
              "Date                                           ...                     \n",
              "2017-01-31             0.003358      0.043812  ...  0.839267  53.695377\n",
              "2017-02-01             0.019321     -0.023429  ...  0.850150  53.487663\n",
              "2017-02-02            -0.002838     -0.021618  ...  0.812956  54.209475\n",
              "2017-02-03            -0.010115      0.007336  ...  0.812490  54.241479\n",
              "2017-02-06            -0.007423      0.022129  ...  0.829234  53.889442\n",
              "\n",
              "[5 rows x 10 columns]"
            ]
          },
          "metadata": {
            "tags": []
          },
          "execution_count": 310
        }
      ]
    },
    {
      "cell_type": "markdown",
      "metadata": {
        "id": "hpYYJ79eQ31C",
        "colab_type": "text"
      },
      "source": [
        "## Check the correlations"
      ]
    },
    {
      "cell_type": "code",
      "metadata": {
        "id": "rnsz49zbhuNm",
        "colab_type": "code",
        "colab": {}
      },
      "source": [
        "import seaborn as sns"
      ],
      "execution_count": 0,
      "outputs": []
    },
    {
      "cell_type": "code",
      "metadata": {
        "id": "JV_xJnmYqgX5",
        "colab_type": "code",
        "colab": {
          "base_uri": "https://localhost:8080/",
          "height": 297
        },
        "outputId": "42ccfecd-6db9-4926-ed5a-fdf644e3f665"
      },
      "source": [
        "corr = feature_and_target.corr()\n",
        "sns.heatmap(corr, annot=True)\n",
        "plt.yticks(rotation=0)\n",
        "plt.xticks(rotation=90)\n",
        "plt.tight_layout()\n",
        "plt.show()"
      ],
      "execution_count": 312,
      "outputs": [
        {
          "output_type": "display_data",
          "data": {
            "image/png": "[encoded data removed]",
            "text/plain": [
              "<Figure size 432x288 with 2 Axes>"
            ]
          },
          "metadata": {
            "tags": []
          }
        }
      ]
    },
    {
      "cell_type": "code",
      "metadata": {
        "id": "8hTlO9rdqub3",
        "colab_type": "code",
        "colab": {
          "base_uri": "https://localhost:8080/",
          "height": 269
        },
        "outputId": "e889de48-0c8e-4669-8f5e-a6a875fb79a1"
      },
      "source": [
        "plt.scatter(lng2['5d_close_future_pct'], lng2['ma200'])\n",
        "plt.show()"
      ],
      "execution_count": 313,
      "outputs": [
        {
          "output_type": "display_data",
          "data": {
            "image/png": "[encoded data removed]",
            "text/plain": [
              "<Figure size 432x288 with 1 Axes>"
            ]
          },
          "metadata": {
            "tags": []
          }
        }
      ]
    },
    {
      "cell_type": "markdown",
      "metadata": {
        "id": "dLJrNsxkQ_fX",
        "colab_type": "text"
      },
      "source": [
        "## Create Train and Test Features"
      ]
    },
    {
      "cell_type": "code",
      "metadata": {
        "id": "lRh1no8Gq6SS",
        "colab_type": "code",
        "colab": {}
      },
      "source": [
        "import statsmodels.api as sm"
      ],
      "execution_count": 0,
      "outputs": []
    },
    {
      "cell_type": "code",
      "metadata": {
        "id": "Uc1n1xirrJpb",
        "colab_type": "code",
        "colab": {
          "base_uri": "https://localhost:8080/",
          "height": 72
        },
        "outputId": "c4395e2b-3b66-4c5a-e30b-494592980e8b"
      },
      "source": [
        "features = lng2[feature_names]\n",
        "linear_features = sm.add_constant(features)\n",
        "train_size = int(0.85 * features.shape[0])\n",
        "train_features = linear_features[:train_size]\n",
        "train_targets = targets[:train_size]\n",
        "test_features = linear_features[train_size:]\n",
        "test_targets = targets[train_size:]"
      ],
      "execution_count": 315,
      "outputs": [
        {
          "output_type": "stream",
          "text": [
            "/usr/local/lib/python3.6/dist-packages/numpy/core/fromnumeric.py:2389: FutureWarning: Method .ptp is deprecated and will be removed in a future version. Use numpy.ptp instead.\n",
            "  return ptp(axis=axis, out=out, **kwargs)\n"
          ],
          "name": "stderr"
        }
      ]
    },
    {
      "cell_type": "code",
      "metadata": {
        "id": "0edN7wG6zYPU",
        "colab_type": "code",
        "colab": {
          "base_uri": "https://localhost:8080/",
          "height": 35
        },
        "outputId": "c85f4bbe-246d-468b-c89c-afb44784237e"
      },
      "source": [
        "print(linear_features.shape, train_features.shape, test_features.shape)"
      ],
      "execution_count": 316,
      "outputs": [
        {
          "output_type": "stream",
          "text": [
            "(295, 10) (250, 10) (45, 10)\n"
          ],
          "name": "stdout"
        }
      ]
    },
    {
      "cell_type": "markdown",
      "metadata": {
        "id": "dbzyohzVRGQU",
        "colab_type": "text"
      },
      "source": [
        "## Fit Linear Model"
      ]
    },
    {
      "cell_type": "code",
      "metadata": {
        "id": "YCsIgyEZzydl",
        "colab_type": "code",
        "colab": {
          "base_uri": "https://localhost:8080/",
          "height": 642
        },
        "outputId": "8bb6afbf-53bc-4588-bd77-a5e1b2963bef"
      },
      "source": [
        "model = sm.OLS(train_targets, train_features)\n",
        "results = model.fit()\n",
        "print(results.summary())"
      ],
      "execution_count": 317,
      "outputs": [
        {
          "output_type": "stream",
          "text": [
            "                             OLS Regression Results                            \n",
            "===============================================================================\n",
            "Dep. Variable:     5d_close_future_pct   R-squared:                       0.273\n",
            "Model:                             OLS   Adj. R-squared:                  0.246\n",
            "Method:                  Least Squares   F-statistic:                     10.01\n",
            "Date:                 Wed, 25 Sep 2019   Prob (F-statistic):           4.92e-13\n",
            "Time:                         08:16:13   Log-Likelihood:                 536.49\n",
            "No. Observations:                  250   AIC:                            -1053.\n",
            "Df Residuals:                      240   BIC:                            -1018.\n",
            "Df Model:                            9                                         \n",
            "Covariance Type:             nonrobust                                         \n",
            "================================================================================\n",
            "                   coef    std err          t      P>|t|      [0.025      0.975]\n",
            "--------------------------------------------------------------------------------\n",
            "const            6.8197      1.169      5.832      0.000       4.516       9.123\n",
            "5d_close_pct    -0.0944      0.114     -0.830      0.408      -0.319       0.130\n",
            "ma14             0.3473      0.230      1.512      0.132      -0.105       0.800\n",
            "rsi14            0.0261      0.004      6.520      0.000       0.018       0.034\n",
            "ma30             0.2200      0.206      1.067      0.287      -0.186       0.626\n",
            "rsi30           -0.1789      0.025     -7.111      0.000      -0.228      -0.129\n",
            "ma50            -2.0856      0.374     -5.578      0.000      -2.822      -1.349\n",
            "rsi50            0.2410      0.032      7.458      0.000       0.177       0.305\n",
            "ma200            0.5639      0.220      2.567      0.011       0.131       0.997\n",
            "rsi200          -0.1999      0.029     -6.999      0.000      -0.256      -0.144\n",
            "==============================================================================\n",
            "Omnibus:                        3.594   Durbin-Watson:                   0.560\n",
            "Prob(Omnibus):                  0.166   Jarque-Bera (JB):                2.482\n",
            "Skew:                          -0.038   Prob(JB):                        0.289\n",
            "Kurtosis:                       2.518   Cond. No.                     6.92e+04\n",
            "==============================================================================\n",
            "\n",
            "Warnings:\n",
            "[1] Standard Errors assume that the covariance matrix of the errors is correctly specified.\n",
            "[2] The condition number is large, 6.92e+04. This might indicate that there are\n",
            "strong multicollinearity or other numerical problems.\n"
          ],
          "name": "stdout"
        }
      ]
    },
    {
      "cell_type": "code",
      "metadata": {
        "id": "itznMVclNenm",
        "colab_type": "code",
        "colab": {
          "base_uri": "https://localhost:8080/",
          "height": 207
        },
        "outputId": "7b8f4340-59c9-40d8-9e9f-5934a276ffc4"
      },
      "source": [
        "print(results.pvalues)"
      ],
      "execution_count": 318,
      "outputs": [
        {
          "output_type": "stream",
          "text": [
            "const           1.764767e-08\n",
            "5d_close_pct    4.075985e-01\n",
            "ma14            1.317652e-01\n",
            "rsi14           4.119023e-10\n",
            "ma30            2.870964e-01\n",
            "rsi30           1.315491e-11\n",
            "ma50            6.542888e-08\n",
            "rsi50           1.598367e-12\n",
            "ma200           1.087610e-02\n",
            "rsi200          2.559536e-11\n",
            "dtype: float64\n"
          ],
          "name": "stdout"
        }
      ]
    },
    {
      "cell_type": "code",
      "metadata": {
        "id": "yabnDukuNi9_",
        "colab_type": "code",
        "colab": {}
      },
      "source": [
        "train_predictions = results.predict(train_features)\n",
        "test_predictions = results.predict(test_features)"
      ],
      "execution_count": 0,
      "outputs": []
    },
    {
      "cell_type": "markdown",
      "metadata": {
        "id": "jppTjhDRRK_9",
        "colab_type": "text"
      },
      "source": [
        "## Evaluate Result"
      ]
    },
    {
      "cell_type": "code",
      "metadata": {
        "id": "3ZFivQu3NvpM",
        "colab_type": "code",
        "colab": {}
      },
      "source": [
        "import numpy as np"
      ],
      "execution_count": 0,
      "outputs": []
    },
    {
      "cell_type": "code",
      "metadata": {
        "id": "P7dVPVvp2rhc",
        "colab_type": "code",
        "colab": {
          "base_uri": "https://localhost:8080/",
          "height": 283
        },
        "outputId": "9c2f1fa0-d0dd-4a61-8419-37786ec7078f"
      },
      "source": [
        "plt.scatter(train_predictions, train_targets, alpha=0.2, color='b', label='train')\n",
        "plt.scatter(test_predictions, test_targets, alpha=0.2, color='r', label='test')\n",
        "xmin, xmax = plt.xlim()\n",
        "plt.plot(np.arange(xmin, xmax, 0.01), np.arange(xmin, xmax, 0.01), c='k')\n",
        "plt.xlabel('predictions')\n",
        "plt.ylabel('actual')\n",
        "plt.legend()\n",
        "plt.show()"
      ],
      "execution_count": 321,
      "outputs": [
        {
          "output_type": "display_data",
          "data": {
            "image/png": "[encoded data removed]",
            "text/plain": [
              "<Figure size 432x288 with 1 Axes>"
            ]
          },
          "metadata": {
            "tags": []
          }
        }
      ]
    },
    {
      "cell_type": "markdown",
      "metadata": {
        "id": "3hhL4NpIROoB",
        "colab_type": "text"
      },
      "source": [
        "## Feature Engineering from Volume"
      ]
    },
    {
      "cell_type": "code",
      "metadata": {
        "id": "ptkLt6QVNX40",
        "colab_type": "code",
        "colab": {
          "base_uri": "https://localhost:8080/",
          "height": 571
        },
        "outputId": "ca9f28e9-b1fd-4d7c-e86e-3b4d1764630b"
      },
      "source": [
        "new_features = ['Adj_Volume_1d_change', 'Adj_Volume_1d_change_SMA']\n",
        "feature_names.extend(new_features)\n",
        "lng['Adj_Volume_1d_change'] = lng['Adj_Volume'].pct_change()\n",
        "lng['Adj_Volume_1d_change_SMA'] = talib.SMA(lng['Adj_Volume_1d_change'].values, \n",
        "                                            timeperiod=5)\n",
        "lng.head(10)"
      ],
      "execution_count": 322,
      "outputs": [
        {
          "output_type": "execute_result",
          "data": {
            "text/html": [
              "<div>\n",
              "<style scoped>\n",
              "    .dataframe tbody tr th:only-of-type {\n",
              "        vertical-align: middle;\n",
              "    }\n",
              "\n",
              "    .dataframe tbody tr th {\n",
              "        vertical-align: top;\n",
              "    }\n",
              "\n",
              "    .dataframe thead th {\n",
              "        text-align: right;\n",
              "    }\n",
              "</style>\n",
              "<table border=\"1\" class=\"dataframe\">\n",
              "  <thead>\n",
              "    <tr style=\"text-align: right;\">\n",
              "      <th></th>\n",
              "      <th>Adj_Close</th>\n",
              "      <th>Adj_Volume</th>\n",
              "      <th>5d_future_close</th>\n",
              "      <th>5d_close_future_pct</th>\n",
              "      <th>5d_close_pct</th>\n",
              "      <th>ma14</th>\n",
              "      <th>rsi14</th>\n",
              "      <th>ma30</th>\n",
              "      <th>rsi30</th>\n",
              "      <th>ma50</th>\n",
              "      <th>rsi50</th>\n",
              "      <th>ma200</th>\n",
              "      <th>rsi200</th>\n",
              "      <th>Adj_Volume_1d_change</th>\n",
              "      <th>Adj_Volume_1d_change_SMA</th>\n",
              "    </tr>\n",
              "    <tr>\n",
              "      <th>Date</th>\n",
              "      <th></th>\n",
              "      <th></th>\n",
              "      <th></th>\n",
              "      <th></th>\n",
              "      <th></th>\n",
              "      <th></th>\n",
              "      <th></th>\n",
              "      <th></th>\n",
              "      <th></th>\n",
              "      <th></th>\n",
              "      <th></th>\n",
              "      <th></th>\n",
              "      <th></th>\n",
              "      <th></th>\n",
              "      <th></th>\n",
              "    </tr>\n",
              "  </thead>\n",
              "  <tbody>\n",
              "    <tr>\n",
              "      <th>2016-04-15</th>\n",
              "      <td>37.13</td>\n",
              "      <td>4293775.0</td>\n",
              "      <td>37.40</td>\n",
              "      <td>NaN</td>\n",
              "      <td>NaN</td>\n",
              "      <td>NaN</td>\n",
              "      <td>NaN</td>\n",
              "      <td>NaN</td>\n",
              "      <td>NaN</td>\n",
              "      <td>NaN</td>\n",
              "      <td>NaN</td>\n",
              "      <td>NaN</td>\n",
              "      <td>NaN</td>\n",
              "      <td>NaN</td>\n",
              "      <td>NaN</td>\n",
              "    </tr>\n",
              "    <tr>\n",
              "      <th>2016-04-18</th>\n",
              "      <td>36.90</td>\n",
              "      <td>3445852.0</td>\n",
              "      <td>36.75</td>\n",
              "      <td>NaN</td>\n",
              "      <td>NaN</td>\n",
              "      <td>NaN</td>\n",
              "      <td>NaN</td>\n",
              "      <td>NaN</td>\n",
              "      <td>NaN</td>\n",
              "      <td>NaN</td>\n",
              "      <td>NaN</td>\n",
              "      <td>NaN</td>\n",
              "      <td>NaN</td>\n",
              "      <td>-0.197477</td>\n",
              "      <td>NaN</td>\n",
              "    </tr>\n",
              "    <tr>\n",
              "      <th>2016-04-19</th>\n",
              "      <td>37.12</td>\n",
              "      <td>3748050.0</td>\n",
              "      <td>37.25</td>\n",
              "      <td>NaN</td>\n",
              "      <td>NaN</td>\n",
              "      <td>NaN</td>\n",
              "      <td>NaN</td>\n",
              "      <td>NaN</td>\n",
              "      <td>NaN</td>\n",
              "      <td>NaN</td>\n",
              "      <td>NaN</td>\n",
              "      <td>NaN</td>\n",
              "      <td>NaN</td>\n",
              "      <td>0.087699</td>\n",
              "      <td>NaN</td>\n",
              "    </tr>\n",
              "    <tr>\n",
              "      <th>2016-04-20</th>\n",
              "      <td>37.77</td>\n",
              "      <td>2470384.0</td>\n",
              "      <td>39.11</td>\n",
              "      <td>NaN</td>\n",
              "      <td>NaN</td>\n",
              "      <td>NaN</td>\n",
              "      <td>NaN</td>\n",
              "      <td>NaN</td>\n",
              "      <td>NaN</td>\n",
              "      <td>NaN</td>\n",
              "      <td>NaN</td>\n",
              "      <td>NaN</td>\n",
              "      <td>NaN</td>\n",
              "      <td>-0.340888</td>\n",
              "      <td>NaN</td>\n",
              "    </tr>\n",
              "    <tr>\n",
              "      <th>2016-04-21</th>\n",
              "      <td>37.21</td>\n",
              "      <td>2043988.0</td>\n",
              "      <td>38.62</td>\n",
              "      <td>NaN</td>\n",
              "      <td>NaN</td>\n",
              "      <td>NaN</td>\n",
              "      <td>NaN</td>\n",
              "      <td>NaN</td>\n",
              "      <td>NaN</td>\n",
              "      <td>NaN</td>\n",
              "      <td>NaN</td>\n",
              "      <td>NaN</td>\n",
              "      <td>NaN</td>\n",
              "      <td>-0.172603</td>\n",
              "      <td>NaN</td>\n",
              "    </tr>\n",
              "    <tr>\n",
              "      <th>2016-04-22</th>\n",
              "      <td>37.40</td>\n",
              "      <td>2786757.0</td>\n",
              "      <td>38.88</td>\n",
              "      <td>0.039572</td>\n",
              "      <td>0.007272</td>\n",
              "      <td>NaN</td>\n",
              "      <td>NaN</td>\n",
              "      <td>NaN</td>\n",
              "      <td>NaN</td>\n",
              "      <td>NaN</td>\n",
              "      <td>NaN</td>\n",
              "      <td>NaN</td>\n",
              "      <td>NaN</td>\n",
              "      <td>0.363392</td>\n",
              "      <td>-0.051975</td>\n",
              "    </tr>\n",
              "    <tr>\n",
              "      <th>2016-04-25</th>\n",
              "      <td>36.75</td>\n",
              "      <td>1830397.0</td>\n",
              "      <td>38.99</td>\n",
              "      <td>0.060952</td>\n",
              "      <td>-0.004065</td>\n",
              "      <td>NaN</td>\n",
              "      <td>NaN</td>\n",
              "      <td>NaN</td>\n",
              "      <td>NaN</td>\n",
              "      <td>NaN</td>\n",
              "      <td>NaN</td>\n",
              "      <td>NaN</td>\n",
              "      <td>NaN</td>\n",
              "      <td>-0.343180</td>\n",
              "      <td>-0.081116</td>\n",
              "    </tr>\n",
              "    <tr>\n",
              "      <th>2016-04-26</th>\n",
              "      <td>37.25</td>\n",
              "      <td>2384800.0</td>\n",
              "      <td>37.37</td>\n",
              "      <td>0.003221</td>\n",
              "      <td>0.003502</td>\n",
              "      <td>NaN</td>\n",
              "      <td>NaN</td>\n",
              "      <td>NaN</td>\n",
              "      <td>NaN</td>\n",
              "      <td>NaN</td>\n",
              "      <td>NaN</td>\n",
              "      <td>NaN</td>\n",
              "      <td>NaN</td>\n",
              "      <td>0.302887</td>\n",
              "      <td>-0.038079</td>\n",
              "    </tr>\n",
              "    <tr>\n",
              "      <th>2016-04-27</th>\n",
              "      <td>39.11</td>\n",
              "      <td>2559759.0</td>\n",
              "      <td>35.85</td>\n",
              "      <td>-0.083355</td>\n",
              "      <td>0.035478</td>\n",
              "      <td>NaN</td>\n",
              "      <td>NaN</td>\n",
              "      <td>NaN</td>\n",
              "      <td>NaN</td>\n",
              "      <td>NaN</td>\n",
              "      <td>NaN</td>\n",
              "      <td>NaN</td>\n",
              "      <td>NaN</td>\n",
              "      <td>0.073364</td>\n",
              "      <td>0.044772</td>\n",
              "    </tr>\n",
              "    <tr>\n",
              "      <th>2016-04-28</th>\n",
              "      <td>38.62</td>\n",
              "      <td>2245100.0</td>\n",
              "      <td>36.11</td>\n",
              "      <td>-0.064992</td>\n",
              "      <td>0.037893</td>\n",
              "      <td>NaN</td>\n",
              "      <td>NaN</td>\n",
              "      <td>NaN</td>\n",
              "      <td>NaN</td>\n",
              "      <td>NaN</td>\n",
              "      <td>NaN</td>\n",
              "      <td>NaN</td>\n",
              "      <td>NaN</td>\n",
              "      <td>-0.122925</td>\n",
              "      <td>0.054708</td>\n",
              "    </tr>\n",
              "  </tbody>\n",
              "</table>\n",
              "</div>"
            ],
            "text/plain": [
              "            Adj_Close  ...  Adj_Volume_1d_change_SMA\n",
              "Date                   ...                          \n",
              "2016-04-15      37.13  ...                       NaN\n",
              "2016-04-18      36.90  ...                       NaN\n",
              "2016-04-19      37.12  ...                       NaN\n",
              "2016-04-20      37.77  ...                       NaN\n",
              "2016-04-21      37.21  ...                       NaN\n",
              "2016-04-22      37.40  ...                 -0.051975\n",
              "2016-04-25      36.75  ...                 -0.081116\n",
              "2016-04-26      37.25  ...                 -0.038079\n",
              "2016-04-27      39.11  ...                  0.044772\n",
              "2016-04-28      38.62  ...                  0.054708\n",
              "\n",
              "[10 rows x 15 columns]"
            ]
          },
          "metadata": {
            "tags": []
          },
          "execution_count": 322
        }
      ]
    },
    {
      "cell_type": "code",
      "metadata": {
        "id": "17SBJKYiWmwu",
        "colab_type": "code",
        "colab": {
          "base_uri": "https://localhost:8080/",
          "height": 269
        },
        "outputId": "346efc1b-b0ab-4ddf-a8e7-d22086a6d0d5"
      },
      "source": [
        "\n",
        "lng[new_features].plot(kind='hist', sharex=False, bins=50)\n",
        "plt.show()"
      ],
      "execution_count": 323,
      "outputs": [
        {
          "output_type": "display_data",
          "data": {
            "image/png": "[encoded data removed]",
            "text/plain": [
              "<Figure size 432x288 with 1 Axes>"
            ]
          },
          "metadata": {
            "tags": []
          }
        }
      ]
    },
    {
      "cell_type": "markdown",
      "metadata": {
        "id": "DZi8Cu41Rh-0",
        "colab_type": "text"
      },
      "source": [
        "## Create Day-of-Week Features"
      ]
    },
    {
      "cell_type": "code",
      "metadata": {
        "id": "lHs-VMvXPUjZ",
        "colab_type": "code",
        "colab": {
          "base_uri": "https://localhost:8080/",
          "height": 198
        },
        "outputId": "d2dee20b-d6a4-4a13-d799-06df35f50d6f"
      },
      "source": [
        "days_of_week = pd.get_dummies(lng.index.dayofweek, prefix='weekday', \n",
        "                              drop_first=True)\n",
        "days_of_week.head()"
      ],
      "execution_count": 324,
      "outputs": [
        {
          "output_type": "execute_result",
          "data": {
            "text/html": [
              "<div>\n",
              "<style scoped>\n",
              "    .dataframe tbody tr th:only-of-type {\n",
              "        vertical-align: middle;\n",
              "    }\n",
              "\n",
              "    .dataframe tbody tr th {\n",
              "        vertical-align: top;\n",
              "    }\n",
              "\n",
              "    .dataframe thead th {\n",
              "        text-align: right;\n",
              "    }\n",
              "</style>\n",
              "<table border=\"1\" class=\"dataframe\">\n",
              "  <thead>\n",
              "    <tr style=\"text-align: right;\">\n",
              "      <th></th>\n",
              "      <th>weekday_1</th>\n",
              "      <th>weekday_2</th>\n",
              "      <th>weekday_3</th>\n",
              "      <th>weekday_4</th>\n",
              "    </tr>\n",
              "  </thead>\n",
              "  <tbody>\n",
              "    <tr>\n",
              "      <th>0</th>\n",
              "      <td>0</td>\n",
              "      <td>0</td>\n",
              "      <td>0</td>\n",
              "      <td>1</td>\n",
              "    </tr>\n",
              "    <tr>\n",
              "      <th>1</th>\n",
              "      <td>0</td>\n",
              "      <td>0</td>\n",
              "      <td>0</td>\n",
              "      <td>0</td>\n",
              "    </tr>\n",
              "    <tr>\n",
              "      <th>2</th>\n",
              "      <td>1</td>\n",
              "      <td>0</td>\n",
              "      <td>0</td>\n",
              "      <td>0</td>\n",
              "    </tr>\n",
              "    <tr>\n",
              "      <th>3</th>\n",
              "      <td>0</td>\n",
              "      <td>1</td>\n",
              "      <td>0</td>\n",
              "      <td>0</td>\n",
              "    </tr>\n",
              "    <tr>\n",
              "      <th>4</th>\n",
              "      <td>0</td>\n",
              "      <td>0</td>\n",
              "      <td>1</td>\n",
              "      <td>0</td>\n",
              "    </tr>\n",
              "  </tbody>\n",
              "</table>\n",
              "</div>"
            ],
            "text/plain": [
              "   weekday_1  weekday_2  weekday_3  weekday_4\n",
              "0          0          0          0          1\n",
              "1          0          0          0          0\n",
              "2          1          0          0          0\n",
              "3          0          1          0          0\n",
              "4          0          0          1          0"
            ]
          },
          "metadata": {
            "tags": []
          },
          "execution_count": 324
        }
      ]
    },
    {
      "cell_type": "code",
      "metadata": {
        "id": "Jy7m1NcWSHIP",
        "colab_type": "code",
        "colab": {
          "base_uri": "https://localhost:8080/",
          "height": 378
        },
        "outputId": "36a5a302-6802-424d-f05b-447f7cdbd17f"
      },
      "source": [
        "\n",
        "days_of_week.index = lng.index\n",
        "days_of_week.head(10)"
      ],
      "execution_count": 325,
      "outputs": [
        {
          "output_type": "execute_result",
          "data": {
            "text/html": [
              "<div>\n",
              "<style scoped>\n",
              "    .dataframe tbody tr th:only-of-type {\n",
              "        vertical-align: middle;\n",
              "    }\n",
              "\n",
              "    .dataframe tbody tr th {\n",
              "        vertical-align: top;\n",
              "    }\n",
              "\n",
              "    .dataframe thead th {\n",
              "        text-align: right;\n",
              "    }\n",
              "</style>\n",
              "<table border=\"1\" class=\"dataframe\">\n",
              "  <thead>\n",
              "    <tr style=\"text-align: right;\">\n",
              "      <th></th>\n",
              "      <th>weekday_1</th>\n",
              "      <th>weekday_2</th>\n",
              "      <th>weekday_3</th>\n",
              "      <th>weekday_4</th>\n",
              "    </tr>\n",
              "    <tr>\n",
              "      <th>Date</th>\n",
              "      <th></th>\n",
              "      <th></th>\n",
              "      <th></th>\n",
              "      <th></th>\n",
              "    </tr>\n",
              "  </thead>\n",
              "  <tbody>\n",
              "    <tr>\n",
              "      <th>2016-04-15</th>\n",
              "      <td>0</td>\n",
              "      <td>0</td>\n",
              "      <td>0</td>\n",
              "      <td>1</td>\n",
              "    </tr>\n",
              "    <tr>\n",
              "      <th>2016-04-18</th>\n",
              "      <td>0</td>\n",
              "      <td>0</td>\n",
              "      <td>0</td>\n",
              "      <td>0</td>\n",
              "    </tr>\n",
              "    <tr>\n",
              "      <th>2016-04-19</th>\n",
              "      <td>1</td>\n",
              "      <td>0</td>\n",
              "      <td>0</td>\n",
              "      <td>0</td>\n",
              "    </tr>\n",
              "    <tr>\n",
              "      <th>2016-04-20</th>\n",
              "      <td>0</td>\n",
              "      <td>1</td>\n",
              "      <td>0</td>\n",
              "      <td>0</td>\n",
              "    </tr>\n",
              "    <tr>\n",
              "      <th>2016-04-21</th>\n",
              "      <td>0</td>\n",
              "      <td>0</td>\n",
              "      <td>1</td>\n",
              "      <td>0</td>\n",
              "    </tr>\n",
              "    <tr>\n",
              "      <th>2016-04-22</th>\n",
              "      <td>0</td>\n",
              "      <td>0</td>\n",
              "      <td>0</td>\n",
              "      <td>1</td>\n",
              "    </tr>\n",
              "    <tr>\n",
              "      <th>2016-04-25</th>\n",
              "      <td>0</td>\n",
              "      <td>0</td>\n",
              "      <td>0</td>\n",
              "      <td>0</td>\n",
              "    </tr>\n",
              "    <tr>\n",
              "      <th>2016-04-26</th>\n",
              "      <td>1</td>\n",
              "      <td>0</td>\n",
              "      <td>0</td>\n",
              "      <td>0</td>\n",
              "    </tr>\n",
              "    <tr>\n",
              "      <th>2016-04-27</th>\n",
              "      <td>0</td>\n",
              "      <td>1</td>\n",
              "      <td>0</td>\n",
              "      <td>0</td>\n",
              "    </tr>\n",
              "    <tr>\n",
              "      <th>2016-04-28</th>\n",
              "      <td>0</td>\n",
              "      <td>0</td>\n",
              "      <td>1</td>\n",
              "      <td>0</td>\n",
              "    </tr>\n",
              "  </tbody>\n",
              "</table>\n",
              "</div>"
            ],
            "text/plain": [
              "            weekday_1  weekday_2  weekday_3  weekday_4\n",
              "Date                                                  \n",
              "2016-04-15          0          0          0          1\n",
              "2016-04-18          0          0          0          0\n",
              "2016-04-19          1          0          0          0\n",
              "2016-04-20          0          1          0          0\n",
              "2016-04-21          0          0          1          0\n",
              "2016-04-22          0          0          0          1\n",
              "2016-04-25          0          0          0          0\n",
              "2016-04-26          1          0          0          0\n",
              "2016-04-27          0          1          0          0\n",
              "2016-04-28          0          0          1          0"
            ]
          },
          "metadata": {
            "tags": []
          },
          "execution_count": 325
        }
      ]
    },
    {
      "cell_type": "code",
      "metadata": {
        "id": "7sPnNSlJTRYb",
        "colab_type": "code",
        "colab": {
          "base_uri": "https://localhost:8080/",
          "height": 571
        },
        "outputId": "44adecf9-ba74-4474-8e42-baf80dc7a3f6"
      },
      "source": [
        "lng.head(10)"
      ],
      "execution_count": 326,
      "outputs": [
        {
          "output_type": "execute_result",
          "data": {
            "text/html": [
              "<div>\n",
              "<style scoped>\n",
              "    .dataframe tbody tr th:only-of-type {\n",
              "        vertical-align: middle;\n",
              "    }\n",
              "\n",
              "    .dataframe tbody tr th {\n",
              "        vertical-align: top;\n",
              "    }\n",
              "\n",
              "    .dataframe thead th {\n",
              "        text-align: right;\n",
              "    }\n",
              "</style>\n",
              "<table border=\"1\" class=\"dataframe\">\n",
              "  <thead>\n",
              "    <tr style=\"text-align: right;\">\n",
              "      <th></th>\n",
              "      <th>Adj_Close</th>\n",
              "      <th>Adj_Volume</th>\n",
              "      <th>5d_future_close</th>\n",
              "      <th>5d_close_future_pct</th>\n",
              "      <th>5d_close_pct</th>\n",
              "      <th>ma14</th>\n",
              "      <th>rsi14</th>\n",
              "      <th>ma30</th>\n",
              "      <th>rsi30</th>\n",
              "      <th>ma50</th>\n",
              "      <th>rsi50</th>\n",
              "      <th>ma200</th>\n",
              "      <th>rsi200</th>\n",
              "      <th>Adj_Volume_1d_change</th>\n",
              "      <th>Adj_Volume_1d_change_SMA</th>\n",
              "    </tr>\n",
              "    <tr>\n",
              "      <th>Date</th>\n",
              "      <th></th>\n",
              "      <th></th>\n",
              "      <th></th>\n",
              "      <th></th>\n",
              "      <th></th>\n",
              "      <th></th>\n",
              "      <th></th>\n",
              "      <th></th>\n",
              "      <th></th>\n",
              "      <th></th>\n",
              "      <th></th>\n",
              "      <th></th>\n",
              "      <th></th>\n",
              "      <th></th>\n",
              "      <th></th>\n",
              "    </tr>\n",
              "  </thead>\n",
              "  <tbody>\n",
              "    <tr>\n",
              "      <th>2016-04-15</th>\n",
              "      <td>37.13</td>\n",
              "      <td>4293775.0</td>\n",
              "      <td>37.40</td>\n",
              "      <td>NaN</td>\n",
              "      <td>NaN</td>\n",
              "      <td>NaN</td>\n",
              "      <td>NaN</td>\n",
              "      <td>NaN</td>\n",
              "      <td>NaN</td>\n",
              "      <td>NaN</td>\n",
              "      <td>NaN</td>\n",
              "      <td>NaN</td>\n",
              "      <td>NaN</td>\n",
              "      <td>NaN</td>\n",
              "      <td>NaN</td>\n",
              "    </tr>\n",
              "    <tr>\n",
              "      <th>2016-04-18</th>\n",
              "      <td>36.90</td>\n",
              "      <td>3445852.0</td>\n",
              "      <td>36.75</td>\n",
              "      <td>NaN</td>\n",
              "      <td>NaN</td>\n",
              "      <td>NaN</td>\n",
              "      <td>NaN</td>\n",
              "      <td>NaN</td>\n",
              "      <td>NaN</td>\n",
              "      <td>NaN</td>\n",
              "      <td>NaN</td>\n",
              "      <td>NaN</td>\n",
              "      <td>NaN</td>\n",
              "      <td>-0.197477</td>\n",
              "      <td>NaN</td>\n",
              "    </tr>\n",
              "    <tr>\n",
              "      <th>2016-04-19</th>\n",
              "      <td>37.12</td>\n",
              "      <td>3748050.0</td>\n",
              "      <td>37.25</td>\n",
              "      <td>NaN</td>\n",
              "      <td>NaN</td>\n",
              "      <td>NaN</td>\n",
              "      <td>NaN</td>\n",
              "      <td>NaN</td>\n",
              "      <td>NaN</td>\n",
              "      <td>NaN</td>\n",
              "      <td>NaN</td>\n",
              "      <td>NaN</td>\n",
              "      <td>NaN</td>\n",
              "      <td>0.087699</td>\n",
              "      <td>NaN</td>\n",
              "    </tr>\n",
              "    <tr>\n",
              "      <th>2016-04-20</th>\n",
              "      <td>37.77</td>\n",
              "      <td>2470384.0</td>\n",
              "      <td>39.11</td>\n",
              "      <td>NaN</td>\n",
              "      <td>NaN</td>\n",
              "      <td>NaN</td>\n",
              "      <td>NaN</td>\n",
              "      <td>NaN</td>\n",
              "      <td>NaN</td>\n",
              "      <td>NaN</td>\n",
              "      <td>NaN</td>\n",
              "      <td>NaN</td>\n",
              "      <td>NaN</td>\n",
              "      <td>-0.340888</td>\n",
              "      <td>NaN</td>\n",
              "    </tr>\n",
              "    <tr>\n",
              "      <th>2016-04-21</th>\n",
              "      <td>37.21</td>\n",
              "      <td>2043988.0</td>\n",
              "      <td>38.62</td>\n",
              "      <td>NaN</td>\n",
              "      <td>NaN</td>\n",
              "      <td>NaN</td>\n",
              "      <td>NaN</td>\n",
              "      <td>NaN</td>\n",
              "      <td>NaN</td>\n",
              "      <td>NaN</td>\n",
              "      <td>NaN</td>\n",
              "      <td>NaN</td>\n",
              "      <td>NaN</td>\n",
              "      <td>-0.172603</td>\n",
              "      <td>NaN</td>\n",
              "    </tr>\n",
              "    <tr>\n",
              "      <th>2016-04-22</th>\n",
              "      <td>37.40</td>\n",
              "      <td>2786757.0</td>\n",
              "      <td>38.88</td>\n",
              "      <td>0.039572</td>\n",
              "      <td>0.007272</td>\n",
              "      <td>NaN</td>\n",
              "      <td>NaN</td>\n",
              "      <td>NaN</td>\n",
              "      <td>NaN</td>\n",
              "      <td>NaN</td>\n",
              "      <td>NaN</td>\n",
              "      <td>NaN</td>\n",
              "      <td>NaN</td>\n",
              "      <td>0.363392</td>\n",
              "      <td>-0.051975</td>\n",
              "    </tr>\n",
              "    <tr>\n",
              "      <th>2016-04-25</th>\n",
              "      <td>36.75</td>\n",
              "      <td>1830397.0</td>\n",
              "      <td>38.99</td>\n",
              "      <td>0.060952</td>\n",
              "      <td>-0.004065</td>\n",
              "      <td>NaN</td>\n",
              "      <td>NaN</td>\n",
              "      <td>NaN</td>\n",
              "      <td>NaN</td>\n",
              "      <td>NaN</td>\n",
              "      <td>NaN</td>\n",
              "      <td>NaN</td>\n",
              "      <td>NaN</td>\n",
              "      <td>-0.343180</td>\n",
              "      <td>-0.081116</td>\n",
              "    </tr>\n",
              "    <tr>\n",
              "      <th>2016-04-26</th>\n",
              "      <td>37.25</td>\n",
              "      <td>2384800.0</td>\n",
              "      <td>37.37</td>\n",
              "      <td>0.003221</td>\n",
              "      <td>0.003502</td>\n",
              "      <td>NaN</td>\n",
              "      <td>NaN</td>\n",
              "      <td>NaN</td>\n",
              "      <td>NaN</td>\n",
              "      <td>NaN</td>\n",
              "      <td>NaN</td>\n",
              "      <td>NaN</td>\n",
              "      <td>NaN</td>\n",
              "      <td>0.302887</td>\n",
              "      <td>-0.038079</td>\n",
              "    </tr>\n",
              "    <tr>\n",
              "      <th>2016-04-27</th>\n",
              "      <td>39.11</td>\n",
              "      <td>2559759.0</td>\n",
              "      <td>35.85</td>\n",
              "      <td>-0.083355</td>\n",
              "      <td>0.035478</td>\n",
              "      <td>NaN</td>\n",
              "      <td>NaN</td>\n",
              "      <td>NaN</td>\n",
              "      <td>NaN</td>\n",
              "      <td>NaN</td>\n",
              "      <td>NaN</td>\n",
              "      <td>NaN</td>\n",
              "      <td>NaN</td>\n",
              "      <td>0.073364</td>\n",
              "      <td>0.044772</td>\n",
              "    </tr>\n",
              "    <tr>\n",
              "      <th>2016-04-28</th>\n",
              "      <td>38.62</td>\n",
              "      <td>2245100.0</td>\n",
              "      <td>36.11</td>\n",
              "      <td>-0.064992</td>\n",
              "      <td>0.037893</td>\n",
              "      <td>NaN</td>\n",
              "      <td>NaN</td>\n",
              "      <td>NaN</td>\n",
              "      <td>NaN</td>\n",
              "      <td>NaN</td>\n",
              "      <td>NaN</td>\n",
              "      <td>NaN</td>\n",
              "      <td>NaN</td>\n",
              "      <td>-0.122925</td>\n",
              "      <td>0.054708</td>\n",
              "    </tr>\n",
              "  </tbody>\n",
              "</table>\n",
              "</div>"
            ],
            "text/plain": [
              "            Adj_Close  ...  Adj_Volume_1d_change_SMA\n",
              "Date                   ...                          \n",
              "2016-04-15      37.13  ...                       NaN\n",
              "2016-04-18      36.90  ...                       NaN\n",
              "2016-04-19      37.12  ...                       NaN\n",
              "2016-04-20      37.77  ...                       NaN\n",
              "2016-04-21      37.21  ...                       NaN\n",
              "2016-04-22      37.40  ...                 -0.051975\n",
              "2016-04-25      36.75  ...                 -0.081116\n",
              "2016-04-26      37.25  ...                 -0.038079\n",
              "2016-04-27      39.11  ...                  0.044772\n",
              "2016-04-28      38.62  ...                  0.054708\n",
              "\n",
              "[10 rows x 15 columns]"
            ]
          },
          "metadata": {
            "tags": []
          },
          "execution_count": 326
        }
      ]
    },
    {
      "cell_type": "code",
      "metadata": {
        "id": "IHJWHXCTS9G8",
        "colab_type": "code",
        "colab": {
          "base_uri": "https://localhost:8080/",
          "height": 571
        },
        "outputId": "d4fbed4f-4a2d-4b24-f12c-a40a7f483b8e"
      },
      "source": [
        "pd.concat([lng, days_of_week], axis=1).head(10)"
      ],
      "execution_count": 327,
      "outputs": [
        {
          "output_type": "execute_result",
          "data": {
            "text/html": [
              "<div>\n",
              "<style scoped>\n",
              "    .dataframe tbody tr th:only-of-type {\n",
              "        vertical-align: middle;\n",
              "    }\n",
              "\n",
              "    .dataframe tbody tr th {\n",
              "        vertical-align: top;\n",
              "    }\n",
              "\n",
              "    .dataframe thead th {\n",
              "        text-align: right;\n",
              "    }\n",
              "</style>\n",
              "<table border=\"1\" class=\"dataframe\">\n",
              "  <thead>\n",
              "    <tr style=\"text-align: right;\">\n",
              "      <th></th>\n",
              "      <th>Adj_Close</th>\n",
              "      <th>Adj_Volume</th>\n",
              "      <th>5d_future_close</th>\n",
              "      <th>5d_close_future_pct</th>\n",
              "      <th>5d_close_pct</th>\n",
              "      <th>ma14</th>\n",
              "      <th>rsi14</th>\n",
              "      <th>ma30</th>\n",
              "      <th>rsi30</th>\n",
              "      <th>ma50</th>\n",
              "      <th>rsi50</th>\n",
              "      <th>ma200</th>\n",
              "      <th>rsi200</th>\n",
              "      <th>Adj_Volume_1d_change</th>\n",
              "      <th>Adj_Volume_1d_change_SMA</th>\n",
              "      <th>weekday_1</th>\n",
              "      <th>weekday_2</th>\n",
              "      <th>weekday_3</th>\n",
              "      <th>weekday_4</th>\n",
              "    </tr>\n",
              "    <tr>\n",
              "      <th>Date</th>\n",
              "      <th></th>\n",
              "      <th></th>\n",
              "      <th></th>\n",
              "      <th></th>\n",
              "      <th></th>\n",
              "      <th></th>\n",
              "      <th></th>\n",
              "      <th></th>\n",
              "      <th></th>\n",
              "      <th></th>\n",
              "      <th></th>\n",
              "      <th></th>\n",
              "      <th></th>\n",
              "      <th></th>\n",
              "      <th></th>\n",
              "      <th></th>\n",
              "      <th></th>\n",
              "      <th></th>\n",
              "      <th></th>\n",
              "    </tr>\n",
              "  </thead>\n",
              "  <tbody>\n",
              "    <tr>\n",
              "      <th>2016-04-15</th>\n",
              "      <td>37.13</td>\n",
              "      <td>4293775.0</td>\n",
              "      <td>37.40</td>\n",
              "      <td>NaN</td>\n",
              "      <td>NaN</td>\n",
              "      <td>NaN</td>\n",
              "      <td>NaN</td>\n",
              "      <td>NaN</td>\n",
              "      <td>NaN</td>\n",
              "      <td>NaN</td>\n",
              "      <td>NaN</td>\n",
              "      <td>NaN</td>\n",
              "      <td>NaN</td>\n",
              "      <td>NaN</td>\n",
              "      <td>NaN</td>\n",
              "      <td>0</td>\n",
              "      <td>0</td>\n",
              "      <td>0</td>\n",
              "      <td>1</td>\n",
              "    </tr>\n",
              "    <tr>\n",
              "      <th>2016-04-18</th>\n",
              "      <td>36.90</td>\n",
              "      <td>3445852.0</td>\n",
              "      <td>36.75</td>\n",
              "      <td>NaN</td>\n",
              "      <td>NaN</td>\n",
              "      <td>NaN</td>\n",
              "      <td>NaN</td>\n",
              "      <td>NaN</td>\n",
              "      <td>NaN</td>\n",
              "      <td>NaN</td>\n",
              "      <td>NaN</td>\n",
              "      <td>NaN</td>\n",
              "      <td>NaN</td>\n",
              "      <td>-0.197477</td>\n",
              "      <td>NaN</td>\n",
              "      <td>0</td>\n",
              "      <td>0</td>\n",
              "      <td>0</td>\n",
              "      <td>0</td>\n",
              "    </tr>\n",
              "    <tr>\n",
              "      <th>2016-04-19</th>\n",
              "      <td>37.12</td>\n",
              "      <td>3748050.0</td>\n",
              "      <td>37.25</td>\n",
              "      <td>NaN</td>\n",
              "      <td>NaN</td>\n",
              "      <td>NaN</td>\n",
              "      <td>NaN</td>\n",
              "      <td>NaN</td>\n",
              "      <td>NaN</td>\n",
              "      <td>NaN</td>\n",
              "      <td>NaN</td>\n",
              "      <td>NaN</td>\n",
              "      <td>NaN</td>\n",
              "      <td>0.087699</td>\n",
              "      <td>NaN</td>\n",
              "      <td>1</td>\n",
              "      <td>0</td>\n",
              "      <td>0</td>\n",
              "      <td>0</td>\n",
              "    </tr>\n",
              "    <tr>\n",
              "      <th>2016-04-20</th>\n",
              "      <td>37.77</td>\n",
              "      <td>2470384.0</td>\n",
              "      <td>39.11</td>\n",
              "      <td>NaN</td>\n",
              "      <td>NaN</td>\n",
              "      <td>NaN</td>\n",
              "      <td>NaN</td>\n",
              "      <td>NaN</td>\n",
              "      <td>NaN</td>\n",
              "      <td>NaN</td>\n",
              "      <td>NaN</td>\n",
              "      <td>NaN</td>\n",
              "      <td>NaN</td>\n",
              "      <td>-0.340888</td>\n",
              "      <td>NaN</td>\n",
              "      <td>0</td>\n",
              "      <td>1</td>\n",
              "      <td>0</td>\n",
              "      <td>0</td>\n",
              "    </tr>\n",
              "    <tr>\n",
              "      <th>2016-04-21</th>\n",
              "      <td>37.21</td>\n",
              "      <td>2043988.0</td>\n",
              "      <td>38.62</td>\n",
              "      <td>NaN</td>\n",
              "      <td>NaN</td>\n",
              "      <td>NaN</td>\n",
              "      <td>NaN</td>\n",
              "      <td>NaN</td>\n",
              "      <td>NaN</td>\n",
              "      <td>NaN</td>\n",
              "      <td>NaN</td>\n",
              "      <td>NaN</td>\n",
              "      <td>NaN</td>\n",
              "      <td>-0.172603</td>\n",
              "      <td>NaN</td>\n",
              "      <td>0</td>\n",
              "      <td>0</td>\n",
              "      <td>1</td>\n",
              "      <td>0</td>\n",
              "    </tr>\n",
              "    <tr>\n",
              "      <th>2016-04-22</th>\n",
              "      <td>37.40</td>\n",
              "      <td>2786757.0</td>\n",
              "      <td>38.88</td>\n",
              "      <td>0.039572</td>\n",
              "      <td>0.007272</td>\n",
              "      <td>NaN</td>\n",
              "      <td>NaN</td>\n",
              "      <td>NaN</td>\n",
              "      <td>NaN</td>\n",
              "      <td>NaN</td>\n",
              "      <td>NaN</td>\n",
              "      <td>NaN</td>\n",
              "      <td>NaN</td>\n",
              "      <td>0.363392</td>\n",
              "      <td>-0.051975</td>\n",
              "      <td>0</td>\n",
              "      <td>0</td>\n",
              "      <td>0</td>\n",
              "      <td>1</td>\n",
              "    </tr>\n",
              "    <tr>\n",
              "      <th>2016-04-25</th>\n",
              "      <td>36.75</td>\n",
              "      <td>1830397.0</td>\n",
              "      <td>38.99</td>\n",
              "      <td>0.060952</td>\n",
              "      <td>-0.004065</td>\n",
              "      <td>NaN</td>\n",
              "      <td>NaN</td>\n",
              "      <td>NaN</td>\n",
              "      <td>NaN</td>\n",
              "      <td>NaN</td>\n",
              "      <td>NaN</td>\n",
              "      <td>NaN</td>\n",
              "      <td>NaN</td>\n",
              "      <td>-0.343180</td>\n",
              "      <td>-0.081116</td>\n",
              "      <td>0</td>\n",
              "      <td>0</td>\n",
              "      <td>0</td>\n",
              "      <td>0</td>\n",
              "    </tr>\n",
              "    <tr>\n",
              "      <th>2016-04-26</th>\n",
              "      <td>37.25</td>\n",
              "      <td>2384800.0</td>\n",
              "      <td>37.37</td>\n",
              "      <td>0.003221</td>\n",
              "      <td>0.003502</td>\n",
              "      <td>NaN</td>\n",
              "      <td>NaN</td>\n",
              "      <td>NaN</td>\n",
              "      <td>NaN</td>\n",
              "      <td>NaN</td>\n",
              "      <td>NaN</td>\n",
              "      <td>NaN</td>\n",
              "      <td>NaN</td>\n",
              "      <td>0.302887</td>\n",
              "      <td>-0.038079</td>\n",
              "      <td>1</td>\n",
              "      <td>0</td>\n",
              "      <td>0</td>\n",
              "      <td>0</td>\n",
              "    </tr>\n",
              "    <tr>\n",
              "      <th>2016-04-27</th>\n",
              "      <td>39.11</td>\n",
              "      <td>2559759.0</td>\n",
              "      <td>35.85</td>\n",
              "      <td>-0.083355</td>\n",
              "      <td>0.035478</td>\n",
              "      <td>NaN</td>\n",
              "      <td>NaN</td>\n",
              "      <td>NaN</td>\n",
              "      <td>NaN</td>\n",
              "      <td>NaN</td>\n",
              "      <td>NaN</td>\n",
              "      <td>NaN</td>\n",
              "      <td>NaN</td>\n",
              "      <td>0.073364</td>\n",
              "      <td>0.044772</td>\n",
              "      <td>0</td>\n",
              "      <td>1</td>\n",
              "      <td>0</td>\n",
              "      <td>0</td>\n",
              "    </tr>\n",
              "    <tr>\n",
              "      <th>2016-04-28</th>\n",
              "      <td>38.62</td>\n",
              "      <td>2245100.0</td>\n",
              "      <td>36.11</td>\n",
              "      <td>-0.064992</td>\n",
              "      <td>0.037893</td>\n",
              "      <td>NaN</td>\n",
              "      <td>NaN</td>\n",
              "      <td>NaN</td>\n",
              "      <td>NaN</td>\n",
              "      <td>NaN</td>\n",
              "      <td>NaN</td>\n",
              "      <td>NaN</td>\n",
              "      <td>NaN</td>\n",
              "      <td>-0.122925</td>\n",
              "      <td>0.054708</td>\n",
              "      <td>0</td>\n",
              "      <td>0</td>\n",
              "      <td>1</td>\n",
              "      <td>0</td>\n",
              "    </tr>\n",
              "  </tbody>\n",
              "</table>\n",
              "</div>"
            ],
            "text/plain": [
              "            Adj_Close  Adj_Volume  ...  weekday_3  weekday_4\n",
              "Date                               ...                      \n",
              "2016-04-15      37.13   4293775.0  ...          0          1\n",
              "2016-04-18      36.90   3445852.0  ...          0          0\n",
              "2016-04-19      37.12   3748050.0  ...          0          0\n",
              "2016-04-20      37.77   2470384.0  ...          0          0\n",
              "2016-04-21      37.21   2043988.0  ...          1          0\n",
              "2016-04-22      37.40   2786757.0  ...          0          1\n",
              "2016-04-25      36.75   1830397.0  ...          0          0\n",
              "2016-04-26      37.25   2384800.0  ...          0          0\n",
              "2016-04-27      39.11   2559759.0  ...          0          0\n",
              "2016-04-28      38.62   2245100.0  ...          1          0\n",
              "\n",
              "[10 rows x 19 columns]"
            ]
          },
          "metadata": {
            "tags": []
          },
          "execution_count": 327
        }
      ]
    },
    {
      "cell_type": "code",
      "metadata": {
        "id": "dQKmi2ouS31M",
        "colab_type": "code",
        "colab": {
          "base_uri": "https://localhost:8080/",
          "height": 571
        },
        "outputId": "6d53b49f-5096-4f52-8847-e2de29498830"
      },
      "source": [
        "\n",
        "lng3 = pd.concat([lng, days_of_week], axis=1)\n",
        "lng3.head(10)"
      ],
      "execution_count": 328,
      "outputs": [
        {
          "output_type": "execute_result",
          "data": {
            "text/html": [
              "<div>\n",
              "<style scoped>\n",
              "    .dataframe tbody tr th:only-of-type {\n",
              "        vertical-align: middle;\n",
              "    }\n",
              "\n",
              "    .dataframe tbody tr th {\n",
              "        vertical-align: top;\n",
              "    }\n",
              "\n",
              "    .dataframe thead th {\n",
              "        text-align: right;\n",
              "    }\n",
              "</style>\n",
              "<table border=\"1\" class=\"dataframe\">\n",
              "  <thead>\n",
              "    <tr style=\"text-align: right;\">\n",
              "      <th></th>\n",
              "      <th>Adj_Close</th>\n",
              "      <th>Adj_Volume</th>\n",
              "      <th>5d_future_close</th>\n",
              "      <th>5d_close_future_pct</th>\n",
              "      <th>5d_close_pct</th>\n",
              "      <th>ma14</th>\n",
              "      <th>rsi14</th>\n",
              "      <th>ma30</th>\n",
              "      <th>rsi30</th>\n",
              "      <th>ma50</th>\n",
              "      <th>rsi50</th>\n",
              "      <th>ma200</th>\n",
              "      <th>rsi200</th>\n",
              "      <th>Adj_Volume_1d_change</th>\n",
              "      <th>Adj_Volume_1d_change_SMA</th>\n",
              "      <th>weekday_1</th>\n",
              "      <th>weekday_2</th>\n",
              "      <th>weekday_3</th>\n",
              "      <th>weekday_4</th>\n",
              "    </tr>\n",
              "    <tr>\n",
              "      <th>Date</th>\n",
              "      <th></th>\n",
              "      <th></th>\n",
              "      <th></th>\n",
              "      <th></th>\n",
              "      <th></th>\n",
              "      <th></th>\n",
              "      <th></th>\n",
              "      <th></th>\n",
              "      <th></th>\n",
              "      <th></th>\n",
              "      <th></th>\n",
              "      <th></th>\n",
              "      <th></th>\n",
              "      <th></th>\n",
              "      <th></th>\n",
              "      <th></th>\n",
              "      <th></th>\n",
              "      <th></th>\n",
              "      <th></th>\n",
              "    </tr>\n",
              "  </thead>\n",
              "  <tbody>\n",
              "    <tr>\n",
              "      <th>2016-04-15</th>\n",
              "      <td>37.13</td>\n",
              "      <td>4293775.0</td>\n",
              "      <td>37.40</td>\n",
              "      <td>NaN</td>\n",
              "      <td>NaN</td>\n",
              "      <td>NaN</td>\n",
              "      <td>NaN</td>\n",
              "      <td>NaN</td>\n",
              "      <td>NaN</td>\n",
              "      <td>NaN</td>\n",
              "      <td>NaN</td>\n",
              "      <td>NaN</td>\n",
              "      <td>NaN</td>\n",
              "      <td>NaN</td>\n",
              "      <td>NaN</td>\n",
              "      <td>0</td>\n",
              "      <td>0</td>\n",
              "      <td>0</td>\n",
              "      <td>1</td>\n",
              "    </tr>\n",
              "    <tr>\n",
              "      <th>2016-04-18</th>\n",
              "      <td>36.90</td>\n",
              "      <td>3445852.0</td>\n",
              "      <td>36.75</td>\n",
              "      <td>NaN</td>\n",
              "      <td>NaN</td>\n",
              "      <td>NaN</td>\n",
              "      <td>NaN</td>\n",
              "      <td>NaN</td>\n",
              "      <td>NaN</td>\n",
              "      <td>NaN</td>\n",
              "      <td>NaN</td>\n",
              "      <td>NaN</td>\n",
              "      <td>NaN</td>\n",
              "      <td>-0.197477</td>\n",
              "      <td>NaN</td>\n",
              "      <td>0</td>\n",
              "      <td>0</td>\n",
              "      <td>0</td>\n",
              "      <td>0</td>\n",
              "    </tr>\n",
              "    <tr>\n",
              "      <th>2016-04-19</th>\n",
              "      <td>37.12</td>\n",
              "      <td>3748050.0</td>\n",
              "      <td>37.25</td>\n",
              "      <td>NaN</td>\n",
              "      <td>NaN</td>\n",
              "      <td>NaN</td>\n",
              "      <td>NaN</td>\n",
              "      <td>NaN</td>\n",
              "      <td>NaN</td>\n",
              "      <td>NaN</td>\n",
              "      <td>NaN</td>\n",
              "      <td>NaN</td>\n",
              "      <td>NaN</td>\n",
              "      <td>0.087699</td>\n",
              "      <td>NaN</td>\n",
              "      <td>1</td>\n",
              "      <td>0</td>\n",
              "      <td>0</td>\n",
              "      <td>0</td>\n",
              "    </tr>\n",
              "    <tr>\n",
              "      <th>2016-04-20</th>\n",
              "      <td>37.77</td>\n",
              "      <td>2470384.0</td>\n",
              "      <td>39.11</td>\n",
              "      <td>NaN</td>\n",
              "      <td>NaN</td>\n",
              "      <td>NaN</td>\n",
              "      <td>NaN</td>\n",
              "      <td>NaN</td>\n",
              "      <td>NaN</td>\n",
              "      <td>NaN</td>\n",
              "      <td>NaN</td>\n",
              "      <td>NaN</td>\n",
              "      <td>NaN</td>\n",
              "      <td>-0.340888</td>\n",
              "      <td>NaN</td>\n",
              "      <td>0</td>\n",
              "      <td>1</td>\n",
              "      <td>0</td>\n",
              "      <td>0</td>\n",
              "    </tr>\n",
              "    <tr>\n",
              "      <th>2016-04-21</th>\n",
              "      <td>37.21</td>\n",
              "      <td>2043988.0</td>\n",
              "      <td>38.62</td>\n",
              "      <td>NaN</td>\n",
              "      <td>NaN</td>\n",
              "      <td>NaN</td>\n",
              "      <td>NaN</td>\n",
              "      <td>NaN</td>\n",
              "      <td>NaN</td>\n",
              "      <td>NaN</td>\n",
              "      <td>NaN</td>\n",
              "      <td>NaN</td>\n",
              "      <td>NaN</td>\n",
              "      <td>-0.172603</td>\n",
              "      <td>NaN</td>\n",
              "      <td>0</td>\n",
              "      <td>0</td>\n",
              "      <td>1</td>\n",
              "      <td>0</td>\n",
              "    </tr>\n",
              "    <tr>\n",
              "      <th>2016-04-22</th>\n",
              "      <td>37.40</td>\n",
              "      <td>2786757.0</td>\n",
              "      <td>38.88</td>\n",
              "      <td>0.039572</td>\n",
              "      <td>0.007272</td>\n",
              "      <td>NaN</td>\n",
              "      <td>NaN</td>\n",
              "      <td>NaN</td>\n",
              "      <td>NaN</td>\n",
              "      <td>NaN</td>\n",
              "      <td>NaN</td>\n",
              "      <td>NaN</td>\n",
              "      <td>NaN</td>\n",
              "      <td>0.363392</td>\n",
              "      <td>-0.051975</td>\n",
              "      <td>0</td>\n",
              "      <td>0</td>\n",
              "      <td>0</td>\n",
              "      <td>1</td>\n",
              "    </tr>\n",
              "    <tr>\n",
              "      <th>2016-04-25</th>\n",
              "      <td>36.75</td>\n",
              "      <td>1830397.0</td>\n",
              "      <td>38.99</td>\n",
              "      <td>0.060952</td>\n",
              "      <td>-0.004065</td>\n",
              "      <td>NaN</td>\n",
              "      <td>NaN</td>\n",
              "      <td>NaN</td>\n",
              "      <td>NaN</td>\n",
              "      <td>NaN</td>\n",
              "      <td>NaN</td>\n",
              "      <td>NaN</td>\n",
              "      <td>NaN</td>\n",
              "      <td>-0.343180</td>\n",
              "      <td>-0.081116</td>\n",
              "      <td>0</td>\n",
              "      <td>0</td>\n",
              "      <td>0</td>\n",
              "      <td>0</td>\n",
              "    </tr>\n",
              "    <tr>\n",
              "      <th>2016-04-26</th>\n",
              "      <td>37.25</td>\n",
              "      <td>2384800.0</td>\n",
              "      <td>37.37</td>\n",
              "      <td>0.003221</td>\n",
              "      <td>0.003502</td>\n",
              "      <td>NaN</td>\n",
              "      <td>NaN</td>\n",
              "      <td>NaN</td>\n",
              "      <td>NaN</td>\n",
              "      <td>NaN</td>\n",
              "      <td>NaN</td>\n",
              "      <td>NaN</td>\n",
              "      <td>NaN</td>\n",
              "      <td>0.302887</td>\n",
              "      <td>-0.038079</td>\n",
              "      <td>1</td>\n",
              "      <td>0</td>\n",
              "      <td>0</td>\n",
              "      <td>0</td>\n",
              "    </tr>\n",
              "    <tr>\n",
              "      <th>2016-04-27</th>\n",
              "      <td>39.11</td>\n",
              "      <td>2559759.0</td>\n",
              "      <td>35.85</td>\n",
              "      <td>-0.083355</td>\n",
              "      <td>0.035478</td>\n",
              "      <td>NaN</td>\n",
              "      <td>NaN</td>\n",
              "      <td>NaN</td>\n",
              "      <td>NaN</td>\n",
              "      <td>NaN</td>\n",
              "      <td>NaN</td>\n",
              "      <td>NaN</td>\n",
              "      <td>NaN</td>\n",
              "      <td>0.073364</td>\n",
              "      <td>0.044772</td>\n",
              "      <td>0</td>\n",
              "      <td>1</td>\n",
              "      <td>0</td>\n",
              "      <td>0</td>\n",
              "    </tr>\n",
              "    <tr>\n",
              "      <th>2016-04-28</th>\n",
              "      <td>38.62</td>\n",
              "      <td>2245100.0</td>\n",
              "      <td>36.11</td>\n",
              "      <td>-0.064992</td>\n",
              "      <td>0.037893</td>\n",
              "      <td>NaN</td>\n",
              "      <td>NaN</td>\n",
              "      <td>NaN</td>\n",
              "      <td>NaN</td>\n",
              "      <td>NaN</td>\n",
              "      <td>NaN</td>\n",
              "      <td>NaN</td>\n",
              "      <td>NaN</td>\n",
              "      <td>-0.122925</td>\n",
              "      <td>0.054708</td>\n",
              "      <td>0</td>\n",
              "      <td>0</td>\n",
              "      <td>1</td>\n",
              "      <td>0</td>\n",
              "    </tr>\n",
              "  </tbody>\n",
              "</table>\n",
              "</div>"
            ],
            "text/plain": [
              "            Adj_Close  Adj_Volume  ...  weekday_3  weekday_4\n",
              "Date                               ...                      \n",
              "2016-04-15      37.13   4293775.0  ...          0          1\n",
              "2016-04-18      36.90   3445852.0  ...          0          0\n",
              "2016-04-19      37.12   3748050.0  ...          0          0\n",
              "2016-04-20      37.77   2470384.0  ...          0          0\n",
              "2016-04-21      37.21   2043988.0  ...          1          0\n",
              "2016-04-22      37.40   2786757.0  ...          0          1\n",
              "2016-04-25      36.75   1830397.0  ...          0          0\n",
              "2016-04-26      37.25   2384800.0  ...          0          0\n",
              "2016-04-27      39.11   2559759.0  ...          0          0\n",
              "2016-04-28      38.62   2245100.0  ...          1          0\n",
              "\n",
              "[10 rows x 19 columns]"
            ]
          },
          "metadata": {
            "tags": []
          },
          "execution_count": 328
        }
      ]
    },
    {
      "cell_type": "code",
      "metadata": {
        "id": "ZMYbIx4jTG7E",
        "colab_type": "code",
        "colab": {}
      },
      "source": [
        "\n",
        "feature_names.extend(['weekday_' + str(i) for i in range(1,5)])"
      ],
      "execution_count": 0,
      "outputs": []
    },
    {
      "cell_type": "code",
      "metadata": {
        "id": "q6Oj4ho9X513",
        "colab_type": "code",
        "colab": {
          "base_uri": "https://localhost:8080/",
          "height": 35
        },
        "outputId": "f5957ea7-3494-4fea-98e7-e25700fa3eab"
      },
      "source": [
        "lng3.dropna(inplace=True)\n",
        "lng3.shape"
      ],
      "execution_count": 330,
      "outputs": [
        {
          "output_type": "execute_result",
          "data": {
            "text/plain": [
              "(295, 19)"
            ]
          },
          "metadata": {
            "tags": []
          },
          "execution_count": 330
        }
      ]
    },
    {
      "cell_type": "markdown",
      "metadata": {
        "id": "KF3KgWJLYUG2",
        "colab_type": "text"
      },
      "source": [
        "## Examine Correlations of the New Features"
      ]
    },
    {
      "cell_type": "code",
      "metadata": {
        "id": "Tbc8CaD3YJgR",
        "colab_type": "code",
        "colab": {
          "base_uri": "https://localhost:8080/",
          "height": 297
        },
        "outputId": "ce0b0698-f88c-4873-9df7-40364f859ec6"
      },
      "source": [
        "new_features.extend(['weekday_' + str(i) for i in range(1,5)])\n",
        "sns.heatmap(lng3[new_features + ['5d_close_future_pct']].corr(), annot=True)\n",
        "plt.yticks(rotation=0)\n",
        "plt.xticks(rotation=90)\n",
        "plt.tight_layout()\n",
        "plt.show()"
      ],
      "execution_count": 331,
      "outputs": [
        {
          "output_type": "display_data",
          "data": {
            "image/png": "[encoded data removed]",
            "text/plain": [
              "<Figure size 432x288 with 2 Axes>"
            ]
          },
          "metadata": {
            "tags": []
          }
        }
      ]
    },
    {
      "cell_type": "code",
      "metadata": {
        "id": "gnykRn18bEAY",
        "colab_type": "code",
        "colab": {}
      },
      "source": [
        "from sklearn.tree import DecisionTreeRegressor"
      ],
      "execution_count": 0,
      "outputs": []
    },
    {
      "cell_type": "code",
      "metadata": {
        "id": "cxotR-Shei3y",
        "colab_type": "code",
        "colab": {
          "base_uri": "https://localhost:8080/",
          "height": 276
        },
        "outputId": "65b8bf13-be9d-4fa9-bbd0-d0a1a48dd9fe"
      },
      "source": [
        "feature_names"
      ],
      "execution_count": 333,
      "outputs": [
        {
          "output_type": "execute_result",
          "data": {
            "text/plain": [
              "['5d_close_pct',\n",
              " 'ma14',\n",
              " 'rsi14',\n",
              " 'ma30',\n",
              " 'rsi30',\n",
              " 'ma50',\n",
              " 'rsi50',\n",
              " 'ma200',\n",
              " 'rsi200',\n",
              " 'Adj_Volume_1d_change',\n",
              " 'Adj_Volume_1d_change_SMA',\n",
              " 'weekday_1',\n",
              " 'weekday_2',\n",
              " 'weekday_3',\n",
              " 'weekday_4']"
            ]
          },
          "metadata": {
            "tags": []
          },
          "execution_count": 333
        }
      ]
    },
    {
      "cell_type": "code",
      "metadata": {
        "id": "9BaMpKZLdJs4",
        "colab_type": "code",
        "colab": {
          "base_uri": "https://localhost:8080/",
          "height": 35
        },
        "outputId": "b3a3779a-ffdd-48d8-8fb6-738d86444619"
      },
      "source": [
        "features = lng3[feature_names]\n",
        "train_size = int(0.85 * features.shape[0])\n",
        "train_features = features[:train_size]\n",
        "train_targets = targets[:train_size]\n",
        "test_features = features[train_size:]\n",
        "test_targets = targets[train_size:]\n",
        "train_features.shape"
      ],
      "execution_count": 334,
      "outputs": [
        {
          "output_type": "execute_result",
          "data": {
            "text/plain": [
              "(250, 15)"
            ]
          },
          "metadata": {
            "tags": []
          },
          "execution_count": 334
        }
      ]
    },
    {
      "cell_type": "code",
      "metadata": {
        "id": "eLefsClJfslP",
        "colab_type": "code",
        "colab": {
          "base_uri": "https://localhost:8080/",
          "height": 35
        },
        "outputId": "252e4246-2ebc-4c4f-ba7d-76ae64645496"
      },
      "source": [
        "test_features.shape"
      ],
      "execution_count": 337,
      "outputs": [
        {
          "output_type": "execute_result",
          "data": {
            "text/plain": [
              "(45, 15)"
            ]
          },
          "metadata": {
            "tags": []
          },
          "execution_count": 337
        }
      ]
    },
    {
      "cell_type": "code",
      "metadata": {
        "id": "tf1VBk4ic5im",
        "colab_type": "code",
        "colab": {
          "base_uri": "https://localhost:8080/",
          "height": 35
        },
        "outputId": "01c3599a-8048-4bb3-f126-f5b36218efb1"
      },
      "source": [
        "decision_tree = DecisionTreeRegressor()\n",
        "decision_tree.fit(train_features, train_targets)\n",
        "decision_tree.score(train_features, train_targets)\n"
      ],
      "execution_count": 335,
      "outputs": [
        {
          "output_type": "execute_result",
          "data": {
            "text/plain": [
              "0.9999958787531624"
            ]
          },
          "metadata": {
            "tags": []
          },
          "execution_count": 335
        }
      ]
    },
    {
      "cell_type": "code",
      "metadata": {
        "id": "QrInOYbqfNJi",
        "colab_type": "code",
        "colab": {
          "base_uri": "https://localhost:8080/",
          "height": 35
        },
        "outputId": "205db227-150c-4699-e1fd-2aef657a6184"
      },
      "source": [
        "decision_tree.score(test_features, test_targets)"
      ],
      "execution_count": 336,
      "outputs": [
        {
          "output_type": "execute_result",
          "data": {
            "text/plain": [
              "-1.443613121381171"
            ]
          },
          "metadata": {
            "tags": []
          },
          "execution_count": 336
        }
      ]
    },
    {
      "cell_type": "code",
      "metadata": {
        "id": "PJbRsnfnfSBz",
        "colab_type": "code",
        "colab": {}
      },
      "source": [
        ""
      ],
      "execution_count": 0,
      "outputs": []
    }
  ]
}